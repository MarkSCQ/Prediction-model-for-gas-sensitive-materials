{
 "cells": [
  {
   "cell_type": "code",
   "execution_count": 6,
   "metadata": {},
   "outputs": [],
   "source": [
    "import pandas as pd\n",
    "import numpy as np"
   ]
  },
  {
   "cell_type": "code",
   "execution_count": 7,
   "metadata": {},
   "outputs": [],
   "source": [
    "from sklearn.model_selection import train_test_split"
   ]
  },
  {
   "cell_type": "code",
   "execution_count": 8,
   "metadata": {},
   "outputs": [],
   "source": [
    "data_ori = pd.read_csv(\"train_data_mod.csv\")"
   ]
  },
  {
   "cell_type": "code",
   "execution_count": 9,
   "metadata": {},
   "outputs": [
    {
     "data": {
      "text/plain": [
       "temperature                int64\n",
       "density                    int64\n",
       "resp_density             float64\n",
       "metal_Ce                   int64\n",
       "metal_Er                   int64\n",
       "metal_Eu                   int64\n",
       "metal_Gd                   int64\n",
       "metal_Ho                   int64\n",
       "metal_In2O3                int64\n",
       "metal_La                   int64\n",
       "metal_Nd                   int64\n",
       "metal_Pd                   int64\n",
       "metal_Pr                   int64\n",
       "metal_Pt                   int64\n",
       "metal_Rh                   int64\n",
       "metal_Ru                   int64\n",
       "metal_Sb                   int64\n",
       "metal_Sm                   int64\n",
       "metal_TiO2                 int64\n",
       "metal_WO3                  int64\n",
       "metal_Y                    int64\n",
       "metal_Yb                   int64\n",
       "metal_ox_In2O3             int64\n",
       "metal_ox_TiO2              int64\n",
       "metal_ox_wo3               int64\n",
       "gas_cate_benzene           int64\n",
       "gas_cate_ch4               int64\n",
       "gas_cate_diesel_fuel       int64\n",
       "gas_cate_formaldehyde      int64\n",
       "gas_cate_gasoline          int64\n",
       "gas_cate_h2                int64\n",
       "gas_cate_toluene           int64\n",
       "gas_cate_xylene            int64\n",
       "resp_val                 float64\n",
       "dtype: object"
      ]
     },
     "execution_count": 9,
     "metadata": {},
     "output_type": "execute_result"
    }
   ],
   "source": [
    "data_copy = data_ori.copy()\n",
    "data_copy.dtypes\n"
   ]
  },
  {
   "cell_type": "code",
   "execution_count": 10,
   "metadata": {},
   "outputs": [
    {
     "data": {
      "text/html": [
       "<div>\n",
       "<style scoped>\n",
       "    .dataframe tbody tr th:only-of-type {\n",
       "        vertical-align: middle;\n",
       "    }\n",
       "\n",
       "    .dataframe tbody tr th {\n",
       "        vertical-align: top;\n",
       "    }\n",
       "\n",
       "    .dataframe thead th {\n",
       "        text-align: right;\n",
       "    }\n",
       "</style>\n",
       "<table border=\"1\" class=\"dataframe\">\n",
       "  <thead>\n",
       "    <tr style=\"text-align: right;\">\n",
       "      <th></th>\n",
       "      <th>temperature</th>\n",
       "      <th>density</th>\n",
       "      <th>resp_density</th>\n",
       "      <th>metal_Ce</th>\n",
       "      <th>metal_Er</th>\n",
       "      <th>metal_Eu</th>\n",
       "      <th>metal_Gd</th>\n",
       "      <th>metal_Ho</th>\n",
       "      <th>metal_In2O3</th>\n",
       "      <th>metal_La</th>\n",
       "      <th>...</th>\n",
       "      <th>metal_ox_wo3</th>\n",
       "      <th>gas_cate_benzene</th>\n",
       "      <th>gas_cate_ch4</th>\n",
       "      <th>gas_cate_diesel_fuel</th>\n",
       "      <th>gas_cate_formaldehyde</th>\n",
       "      <th>gas_cate_gasoline</th>\n",
       "      <th>gas_cate_h2</th>\n",
       "      <th>gas_cate_toluene</th>\n",
       "      <th>gas_cate_xylene</th>\n",
       "      <th>resp_val</th>\n",
       "    </tr>\n",
       "  </thead>\n",
       "  <tbody>\n",
       "    <tr>\n",
       "      <th>0</th>\n",
       "      <td>200</td>\n",
       "      <td>100</td>\n",
       "      <td>0.005</td>\n",
       "      <td>0</td>\n",
       "      <td>0</td>\n",
       "      <td>0</td>\n",
       "      <td>0</td>\n",
       "      <td>0</td>\n",
       "      <td>1</td>\n",
       "      <td>0</td>\n",
       "      <td>...</td>\n",
       "      <td>0</td>\n",
       "      <td>0</td>\n",
       "      <td>0</td>\n",
       "      <td>0</td>\n",
       "      <td>0</td>\n",
       "      <td>1</td>\n",
       "      <td>0</td>\n",
       "      <td>0</td>\n",
       "      <td>0</td>\n",
       "      <td>1.2</td>\n",
       "    </tr>\n",
       "    <tr>\n",
       "      <th>1</th>\n",
       "      <td>200</td>\n",
       "      <td>100</td>\n",
       "      <td>0.005</td>\n",
       "      <td>0</td>\n",
       "      <td>0</td>\n",
       "      <td>0</td>\n",
       "      <td>0</td>\n",
       "      <td>0</td>\n",
       "      <td>0</td>\n",
       "      <td>0</td>\n",
       "      <td>...</td>\n",
       "      <td>0</td>\n",
       "      <td>0</td>\n",
       "      <td>0</td>\n",
       "      <td>0</td>\n",
       "      <td>0</td>\n",
       "      <td>1</td>\n",
       "      <td>0</td>\n",
       "      <td>0</td>\n",
       "      <td>0</td>\n",
       "      <td>1.3</td>\n",
       "    </tr>\n",
       "    <tr>\n",
       "      <th>2</th>\n",
       "      <td>200</td>\n",
       "      <td>100</td>\n",
       "      <td>0.005</td>\n",
       "      <td>0</td>\n",
       "      <td>0</td>\n",
       "      <td>0</td>\n",
       "      <td>0</td>\n",
       "      <td>0</td>\n",
       "      <td>0</td>\n",
       "      <td>0</td>\n",
       "      <td>...</td>\n",
       "      <td>0</td>\n",
       "      <td>0</td>\n",
       "      <td>0</td>\n",
       "      <td>0</td>\n",
       "      <td>0</td>\n",
       "      <td>1</td>\n",
       "      <td>0</td>\n",
       "      <td>0</td>\n",
       "      <td>0</td>\n",
       "      <td>1.6</td>\n",
       "    </tr>\n",
       "    <tr>\n",
       "      <th>3</th>\n",
       "      <td>200</td>\n",
       "      <td>100</td>\n",
       "      <td>0.005</td>\n",
       "      <td>0</td>\n",
       "      <td>0</td>\n",
       "      <td>0</td>\n",
       "      <td>0</td>\n",
       "      <td>0</td>\n",
       "      <td>0</td>\n",
       "      <td>0</td>\n",
       "      <td>...</td>\n",
       "      <td>0</td>\n",
       "      <td>0</td>\n",
       "      <td>0</td>\n",
       "      <td>0</td>\n",
       "      <td>0</td>\n",
       "      <td>1</td>\n",
       "      <td>0</td>\n",
       "      <td>0</td>\n",
       "      <td>0</td>\n",
       "      <td>1.8</td>\n",
       "    </tr>\n",
       "    <tr>\n",
       "      <th>4</th>\n",
       "      <td>200</td>\n",
       "      <td>100</td>\n",
       "      <td>0.005</td>\n",
       "      <td>0</td>\n",
       "      <td>0</td>\n",
       "      <td>0</td>\n",
       "      <td>0</td>\n",
       "      <td>0</td>\n",
       "      <td>0</td>\n",
       "      <td>0</td>\n",
       "      <td>...</td>\n",
       "      <td>0</td>\n",
       "      <td>0</td>\n",
       "      <td>0</td>\n",
       "      <td>0</td>\n",
       "      <td>0</td>\n",
       "      <td>1</td>\n",
       "      <td>0</td>\n",
       "      <td>0</td>\n",
       "      <td>0</td>\n",
       "      <td>1.3</td>\n",
       "    </tr>\n",
       "    <tr>\n",
       "      <th>...</th>\n",
       "      <td>...</td>\n",
       "      <td>...</td>\n",
       "      <td>...</td>\n",
       "      <td>...</td>\n",
       "      <td>...</td>\n",
       "      <td>...</td>\n",
       "      <td>...</td>\n",
       "      <td>...</td>\n",
       "      <td>...</td>\n",
       "      <td>...</td>\n",
       "      <td>...</td>\n",
       "      <td>...</td>\n",
       "      <td>...</td>\n",
       "      <td>...</td>\n",
       "      <td>...</td>\n",
       "      <td>...</td>\n",
       "      <td>...</td>\n",
       "      <td>...</td>\n",
       "      <td>...</td>\n",
       "      <td>...</td>\n",
       "      <td>...</td>\n",
       "    </tr>\n",
       "    <tr>\n",
       "      <th>10505</th>\n",
       "      <td>200</td>\n",
       "      <td>50</td>\n",
       "      <td>0.005</td>\n",
       "      <td>0</td>\n",
       "      <td>0</td>\n",
       "      <td>0</td>\n",
       "      <td>1</td>\n",
       "      <td>0</td>\n",
       "      <td>0</td>\n",
       "      <td>0</td>\n",
       "      <td>...</td>\n",
       "      <td>1</td>\n",
       "      <td>0</td>\n",
       "      <td>0</td>\n",
       "      <td>1</td>\n",
       "      <td>0</td>\n",
       "      <td>0</td>\n",
       "      <td>0</td>\n",
       "      <td>0</td>\n",
       "      <td>0</td>\n",
       "      <td>1.4</td>\n",
       "    </tr>\n",
       "    <tr>\n",
       "      <th>10506</th>\n",
       "      <td>200</td>\n",
       "      <td>50</td>\n",
       "      <td>0.005</td>\n",
       "      <td>0</td>\n",
       "      <td>0</td>\n",
       "      <td>0</td>\n",
       "      <td>0</td>\n",
       "      <td>1</td>\n",
       "      <td>0</td>\n",
       "      <td>0</td>\n",
       "      <td>...</td>\n",
       "      <td>1</td>\n",
       "      <td>0</td>\n",
       "      <td>0</td>\n",
       "      <td>1</td>\n",
       "      <td>0</td>\n",
       "      <td>0</td>\n",
       "      <td>0</td>\n",
       "      <td>0</td>\n",
       "      <td>0</td>\n",
       "      <td>1.1</td>\n",
       "    </tr>\n",
       "    <tr>\n",
       "      <th>10507</th>\n",
       "      <td>200</td>\n",
       "      <td>50</td>\n",
       "      <td>0.005</td>\n",
       "      <td>0</td>\n",
       "      <td>1</td>\n",
       "      <td>0</td>\n",
       "      <td>0</td>\n",
       "      <td>0</td>\n",
       "      <td>0</td>\n",
       "      <td>0</td>\n",
       "      <td>...</td>\n",
       "      <td>1</td>\n",
       "      <td>0</td>\n",
       "      <td>0</td>\n",
       "      <td>1</td>\n",
       "      <td>0</td>\n",
       "      <td>0</td>\n",
       "      <td>0</td>\n",
       "      <td>0</td>\n",
       "      <td>0</td>\n",
       "      <td>1.1</td>\n",
       "    </tr>\n",
       "    <tr>\n",
       "      <th>10508</th>\n",
       "      <td>200</td>\n",
       "      <td>50</td>\n",
       "      <td>0.005</td>\n",
       "      <td>0</td>\n",
       "      <td>0</td>\n",
       "      <td>0</td>\n",
       "      <td>0</td>\n",
       "      <td>0</td>\n",
       "      <td>0</td>\n",
       "      <td>0</td>\n",
       "      <td>...</td>\n",
       "      <td>1</td>\n",
       "      <td>0</td>\n",
       "      <td>0</td>\n",
       "      <td>1</td>\n",
       "      <td>0</td>\n",
       "      <td>0</td>\n",
       "      <td>0</td>\n",
       "      <td>0</td>\n",
       "      <td>0</td>\n",
       "      <td>1.1</td>\n",
       "    </tr>\n",
       "    <tr>\n",
       "      <th>10509</th>\n",
       "      <td>200</td>\n",
       "      <td>50</td>\n",
       "      <td>0.005</td>\n",
       "      <td>0</td>\n",
       "      <td>0</td>\n",
       "      <td>0</td>\n",
       "      <td>0</td>\n",
       "      <td>0</td>\n",
       "      <td>0</td>\n",
       "      <td>0</td>\n",
       "      <td>...</td>\n",
       "      <td>1</td>\n",
       "      <td>0</td>\n",
       "      <td>0</td>\n",
       "      <td>1</td>\n",
       "      <td>0</td>\n",
       "      <td>0</td>\n",
       "      <td>0</td>\n",
       "      <td>0</td>\n",
       "      <td>0</td>\n",
       "      <td>1.1</td>\n",
       "    </tr>\n",
       "  </tbody>\n",
       "</table>\n",
       "<p>10510 rows × 34 columns</p>\n",
       "</div>"
      ],
      "text/plain": [
       "       temperature  density  resp_density  metal_Ce  metal_Er  metal_Eu  \\\n",
       "0              200      100         0.005         0         0         0   \n",
       "1              200      100         0.005         0         0         0   \n",
       "2              200      100         0.005         0         0         0   \n",
       "3              200      100         0.005         0         0         0   \n",
       "4              200      100         0.005         0         0         0   \n",
       "...            ...      ...           ...       ...       ...       ...   \n",
       "10505          200       50         0.005         0         0         0   \n",
       "10506          200       50         0.005         0         0         0   \n",
       "10507          200       50         0.005         0         1         0   \n",
       "10508          200       50         0.005         0         0         0   \n",
       "10509          200       50         0.005         0         0         0   \n",
       "\n",
       "       metal_Gd  metal_Ho  metal_In2O3  metal_La  ...  metal_ox_wo3  \\\n",
       "0             0         0            1         0  ...             0   \n",
       "1             0         0            0         0  ...             0   \n",
       "2             0         0            0         0  ...             0   \n",
       "3             0         0            0         0  ...             0   \n",
       "4             0         0            0         0  ...             0   \n",
       "...         ...       ...          ...       ...  ...           ...   \n",
       "10505         1         0            0         0  ...             1   \n",
       "10506         0         1            0         0  ...             1   \n",
       "10507         0         0            0         0  ...             1   \n",
       "10508         0         0            0         0  ...             1   \n",
       "10509         0         0            0         0  ...             1   \n",
       "\n",
       "       gas_cate_benzene  gas_cate_ch4  gas_cate_diesel_fuel  \\\n",
       "0                     0             0                     0   \n",
       "1                     0             0                     0   \n",
       "2                     0             0                     0   \n",
       "3                     0             0                     0   \n",
       "4                     0             0                     0   \n",
       "...                 ...           ...                   ...   \n",
       "10505                 0             0                     1   \n",
       "10506                 0             0                     1   \n",
       "10507                 0             0                     1   \n",
       "10508                 0             0                     1   \n",
       "10509                 0             0                     1   \n",
       "\n",
       "       gas_cate_formaldehyde  gas_cate_gasoline  gas_cate_h2  \\\n",
       "0                          0                  1            0   \n",
       "1                          0                  1            0   \n",
       "2                          0                  1            0   \n",
       "3                          0                  1            0   \n",
       "4                          0                  1            0   \n",
       "...                      ...                ...          ...   \n",
       "10505                      0                  0            0   \n",
       "10506                      0                  0            0   \n",
       "10507                      0                  0            0   \n",
       "10508                      0                  0            0   \n",
       "10509                      0                  0            0   \n",
       "\n",
       "       gas_cate_toluene  gas_cate_xylene  resp_val  \n",
       "0                     0                0       1.2  \n",
       "1                     0                0       1.3  \n",
       "2                     0                0       1.6  \n",
       "3                     0                0       1.8  \n",
       "4                     0                0       1.3  \n",
       "...                 ...              ...       ...  \n",
       "10505                 0                0       1.4  \n",
       "10506                 0                0       1.1  \n",
       "10507                 0                0       1.1  \n",
       "10508                 0                0       1.1  \n",
       "10509                 0                0       1.1  \n",
       "\n",
       "[10510 rows x 34 columns]"
      ]
     },
     "execution_count": 10,
     "metadata": {},
     "output_type": "execute_result"
    }
   ],
   "source": [
    "data_ori"
   ]
  },
  {
   "cell_type": "code",
   "execution_count": 11,
   "metadata": {},
   "outputs": [
    {
     "name": "stdout",
     "output_type": "stream",
     "text": [
      "['temperature', 'density', 'resp_density', 'metal_Ce', 'metal_Er', 'metal_Eu', 'metal_Gd', 'metal_Ho', 'metal_In2O3', 'metal_La', 'metal_Nd', 'metal_Pd', 'metal_Pr', 'metal_Pt', 'metal_Rh', 'metal_Ru', 'metal_Sb', 'metal_Sm', 'metal_TiO2', 'metal_WO3', 'metal_Y', 'metal_Yb', 'metal_ox_In2O3', 'metal_ox_TiO2', 'metal_ox_wo3', 'gas_cate_benzene', 'gas_cate_ch4', 'gas_cate_diesel_fuel', 'gas_cate_formaldehyde', 'gas_cate_gasoline', 'gas_cate_h2', 'gas_cate_toluene', 'gas_cate_xylene']\n",
      "['resp_val']\n"
     ]
    }
   ],
   "source": [
    "cols = list(data_copy.head())\n",
    "col_x = cols[:-1]\n",
    "col_y = [cols[-1]]\n",
    "print(col_x)\n",
    "print(col_y)"
   ]
  },
  {
   "cell_type": "code",
   "execution_count": 12,
   "metadata": {},
   "outputs": [
    {
     "data": {
      "text/plain": [
       "True"
      ]
     },
     "execution_count": 12,
     "metadata": {},
     "output_type": "execute_result"
    }
   ],
   "source": [
    "data_copy.isnull().values.any()"
   ]
  },
  {
   "cell_type": "code",
   "execution_count": 13,
   "metadata": {},
   "outputs": [
    {
     "data": {
      "text/html": [
       "<div>\n",
       "<style scoped>\n",
       "    .dataframe tbody tr th:only-of-type {\n",
       "        vertical-align: middle;\n",
       "    }\n",
       "\n",
       "    .dataframe tbody tr th {\n",
       "        vertical-align: top;\n",
       "    }\n",
       "\n",
       "    .dataframe thead th {\n",
       "        text-align: right;\n",
       "    }\n",
       "</style>\n",
       "<table border=\"1\" class=\"dataframe\">\n",
       "  <thead>\n",
       "    <tr style=\"text-align: right;\">\n",
       "      <th></th>\n",
       "      <th>temperature</th>\n",
       "      <th>density</th>\n",
       "      <th>resp_density</th>\n",
       "      <th>metal_Ce</th>\n",
       "      <th>metal_Er</th>\n",
       "      <th>metal_Eu</th>\n",
       "      <th>metal_Gd</th>\n",
       "      <th>metal_Ho</th>\n",
       "      <th>metal_In2O3</th>\n",
       "      <th>metal_La</th>\n",
       "      <th>...</th>\n",
       "      <th>metal_ox_wo3</th>\n",
       "      <th>gas_cate_benzene</th>\n",
       "      <th>gas_cate_ch4</th>\n",
       "      <th>gas_cate_diesel_fuel</th>\n",
       "      <th>gas_cate_formaldehyde</th>\n",
       "      <th>gas_cate_gasoline</th>\n",
       "      <th>gas_cate_h2</th>\n",
       "      <th>gas_cate_toluene</th>\n",
       "      <th>gas_cate_xylene</th>\n",
       "      <th>resp_val</th>\n",
       "    </tr>\n",
       "  </thead>\n",
       "  <tbody>\n",
       "    <tr>\n",
       "      <th>5960</th>\n",
       "      <td>200</td>\n",
       "      <td>200</td>\n",
       "      <td>0.005</td>\n",
       "      <td>0</td>\n",
       "      <td>0</td>\n",
       "      <td>0</td>\n",
       "      <td>0</td>\n",
       "      <td>0</td>\n",
       "      <td>0</td>\n",
       "      <td>0</td>\n",
       "      <td>...</td>\n",
       "      <td>0</td>\n",
       "      <td>0</td>\n",
       "      <td>0</td>\n",
       "      <td>0</td>\n",
       "      <td>0</td>\n",
       "      <td>1</td>\n",
       "      <td>0</td>\n",
       "      <td>0</td>\n",
       "      <td>0</td>\n",
       "      <td>NaN</td>\n",
       "    </tr>\n",
       "    <tr>\n",
       "      <th>5973</th>\n",
       "      <td>200</td>\n",
       "      <td>200</td>\n",
       "      <td>0.004</td>\n",
       "      <td>0</td>\n",
       "      <td>0</td>\n",
       "      <td>0</td>\n",
       "      <td>0</td>\n",
       "      <td>0</td>\n",
       "      <td>0</td>\n",
       "      <td>0</td>\n",
       "      <td>...</td>\n",
       "      <td>0</td>\n",
       "      <td>0</td>\n",
       "      <td>0</td>\n",
       "      <td>0</td>\n",
       "      <td>0</td>\n",
       "      <td>1</td>\n",
       "      <td>0</td>\n",
       "      <td>0</td>\n",
       "      <td>0</td>\n",
       "      <td>NaN</td>\n",
       "    </tr>\n",
       "    <tr>\n",
       "      <th>5986</th>\n",
       "      <td>200</td>\n",
       "      <td>200</td>\n",
       "      <td>0.003</td>\n",
       "      <td>0</td>\n",
       "      <td>0</td>\n",
       "      <td>0</td>\n",
       "      <td>0</td>\n",
       "      <td>0</td>\n",
       "      <td>0</td>\n",
       "      <td>0</td>\n",
       "      <td>...</td>\n",
       "      <td>0</td>\n",
       "      <td>0</td>\n",
       "      <td>0</td>\n",
       "      <td>0</td>\n",
       "      <td>0</td>\n",
       "      <td>1</td>\n",
       "      <td>0</td>\n",
       "      <td>0</td>\n",
       "      <td>0</td>\n",
       "      <td>NaN</td>\n",
       "    </tr>\n",
       "    <tr>\n",
       "      <th>5999</th>\n",
       "      <td>200</td>\n",
       "      <td>200</td>\n",
       "      <td>0.002</td>\n",
       "      <td>0</td>\n",
       "      <td>0</td>\n",
       "      <td>0</td>\n",
       "      <td>0</td>\n",
       "      <td>0</td>\n",
       "      <td>0</td>\n",
       "      <td>0</td>\n",
       "      <td>...</td>\n",
       "      <td>0</td>\n",
       "      <td>0</td>\n",
       "      <td>0</td>\n",
       "      <td>0</td>\n",
       "      <td>0</td>\n",
       "      <td>1</td>\n",
       "      <td>0</td>\n",
       "      <td>0</td>\n",
       "      <td>0</td>\n",
       "      <td>NaN</td>\n",
       "    </tr>\n",
       "  </tbody>\n",
       "</table>\n",
       "<p>4 rows × 34 columns</p>\n",
       "</div>"
      ],
      "text/plain": [
       "      temperature  density  resp_density  metal_Ce  metal_Er  metal_Eu  \\\n",
       "5960          200      200         0.005         0         0         0   \n",
       "5973          200      200         0.004         0         0         0   \n",
       "5986          200      200         0.003         0         0         0   \n",
       "5999          200      200         0.002         0         0         0   \n",
       "\n",
       "      metal_Gd  metal_Ho  metal_In2O3  metal_La  ...  metal_ox_wo3  \\\n",
       "5960         0         0            0         0  ...             0   \n",
       "5973         0         0            0         0  ...             0   \n",
       "5986         0         0            0         0  ...             0   \n",
       "5999         0         0            0         0  ...             0   \n",
       "\n",
       "      gas_cate_benzene  gas_cate_ch4  gas_cate_diesel_fuel  \\\n",
       "5960                 0             0                     0   \n",
       "5973                 0             0                     0   \n",
       "5986                 0             0                     0   \n",
       "5999                 0             0                     0   \n",
       "\n",
       "      gas_cate_formaldehyde  gas_cate_gasoline  gas_cate_h2  gas_cate_toluene  \\\n",
       "5960                      0                  1            0                 0   \n",
       "5973                      0                  1            0                 0   \n",
       "5986                      0                  1            0                 0   \n",
       "5999                      0                  1            0                 0   \n",
       "\n",
       "      gas_cate_xylene  resp_val  \n",
       "5960                0       NaN  \n",
       "5973                0       NaN  \n",
       "5986                0       NaN  \n",
       "5999                0       NaN  \n",
       "\n",
       "[4 rows x 34 columns]"
      ]
     },
     "execution_count": 13,
     "metadata": {},
     "output_type": "execute_result"
    }
   ],
   "source": [
    "nan_row = data_copy[data_copy.isna().any(axis=1)]\n",
    "nan_row"
   ]
  },
  {
   "cell_type": "code",
   "execution_count": 14,
   "metadata": {},
   "outputs": [],
   "source": [
    "data_copy = data_copy.dropna()"
   ]
  },
  {
   "cell_type": "code",
   "execution_count": 15,
   "metadata": {},
   "outputs": [],
   "source": [
    "# data_copy=data_copy.drop(data_copy[data_copy.resp_val <= 1.2].index)\n"
   ]
  },
  {
   "cell_type": "markdown",
   "metadata": {},
   "source": []
  },
  {
   "cell_type": "code",
   "execution_count": 16,
   "metadata": {},
   "outputs": [],
   "source": [
    "x_data = data_copy[col_x]\n",
    "y_data = data_copy[col_y]"
   ]
  },
  {
   "cell_type": "code",
   "execution_count": null,
   "metadata": {},
   "outputs": [],
   "source": []
  },
  {
   "cell_type": "code",
   "execution_count": 17,
   "metadata": {},
   "outputs": [
    {
     "data": {
      "text/html": [
       "<div>\n",
       "<style scoped>\n",
       "    .dataframe tbody tr th:only-of-type {\n",
       "        vertical-align: middle;\n",
       "    }\n",
       "\n",
       "    .dataframe tbody tr th {\n",
       "        vertical-align: top;\n",
       "    }\n",
       "\n",
       "    .dataframe thead th {\n",
       "        text-align: right;\n",
       "    }\n",
       "</style>\n",
       "<table border=\"1\" class=\"dataframe\">\n",
       "  <thead>\n",
       "    <tr style=\"text-align: right;\">\n",
       "      <th></th>\n",
       "      <th>temperature</th>\n",
       "      <th>density</th>\n",
       "      <th>resp_density</th>\n",
       "      <th>metal_Ce</th>\n",
       "      <th>metal_Er</th>\n",
       "      <th>metal_Eu</th>\n",
       "      <th>metal_Gd</th>\n",
       "      <th>metal_Ho</th>\n",
       "      <th>metal_In2O3</th>\n",
       "      <th>metal_La</th>\n",
       "      <th>...</th>\n",
       "      <th>metal_ox_TiO2</th>\n",
       "      <th>metal_ox_wo3</th>\n",
       "      <th>gas_cate_benzene</th>\n",
       "      <th>gas_cate_ch4</th>\n",
       "      <th>gas_cate_diesel_fuel</th>\n",
       "      <th>gas_cate_formaldehyde</th>\n",
       "      <th>gas_cate_gasoline</th>\n",
       "      <th>gas_cate_h2</th>\n",
       "      <th>gas_cate_toluene</th>\n",
       "      <th>gas_cate_xylene</th>\n",
       "    </tr>\n",
       "  </thead>\n",
       "  <tbody>\n",
       "    <tr>\n",
       "      <th>0</th>\n",
       "      <td>200</td>\n",
       "      <td>100</td>\n",
       "      <td>0.005</td>\n",
       "      <td>0</td>\n",
       "      <td>0</td>\n",
       "      <td>0</td>\n",
       "      <td>0</td>\n",
       "      <td>0</td>\n",
       "      <td>1</td>\n",
       "      <td>0</td>\n",
       "      <td>...</td>\n",
       "      <td>0</td>\n",
       "      <td>0</td>\n",
       "      <td>0</td>\n",
       "      <td>0</td>\n",
       "      <td>0</td>\n",
       "      <td>0</td>\n",
       "      <td>1</td>\n",
       "      <td>0</td>\n",
       "      <td>0</td>\n",
       "      <td>0</td>\n",
       "    </tr>\n",
       "    <tr>\n",
       "      <th>1</th>\n",
       "      <td>200</td>\n",
       "      <td>100</td>\n",
       "      <td>0.005</td>\n",
       "      <td>0</td>\n",
       "      <td>0</td>\n",
       "      <td>0</td>\n",
       "      <td>0</td>\n",
       "      <td>0</td>\n",
       "      <td>0</td>\n",
       "      <td>0</td>\n",
       "      <td>...</td>\n",
       "      <td>0</td>\n",
       "      <td>0</td>\n",
       "      <td>0</td>\n",
       "      <td>0</td>\n",
       "      <td>0</td>\n",
       "      <td>0</td>\n",
       "      <td>1</td>\n",
       "      <td>0</td>\n",
       "      <td>0</td>\n",
       "      <td>0</td>\n",
       "    </tr>\n",
       "    <tr>\n",
       "      <th>2</th>\n",
       "      <td>200</td>\n",
       "      <td>100</td>\n",
       "      <td>0.005</td>\n",
       "      <td>0</td>\n",
       "      <td>0</td>\n",
       "      <td>0</td>\n",
       "      <td>0</td>\n",
       "      <td>0</td>\n",
       "      <td>0</td>\n",
       "      <td>0</td>\n",
       "      <td>...</td>\n",
       "      <td>0</td>\n",
       "      <td>0</td>\n",
       "      <td>0</td>\n",
       "      <td>0</td>\n",
       "      <td>0</td>\n",
       "      <td>0</td>\n",
       "      <td>1</td>\n",
       "      <td>0</td>\n",
       "      <td>0</td>\n",
       "      <td>0</td>\n",
       "    </tr>\n",
       "    <tr>\n",
       "      <th>3</th>\n",
       "      <td>200</td>\n",
       "      <td>100</td>\n",
       "      <td>0.005</td>\n",
       "      <td>0</td>\n",
       "      <td>0</td>\n",
       "      <td>0</td>\n",
       "      <td>0</td>\n",
       "      <td>0</td>\n",
       "      <td>0</td>\n",
       "      <td>0</td>\n",
       "      <td>...</td>\n",
       "      <td>0</td>\n",
       "      <td>0</td>\n",
       "      <td>0</td>\n",
       "      <td>0</td>\n",
       "      <td>0</td>\n",
       "      <td>0</td>\n",
       "      <td>1</td>\n",
       "      <td>0</td>\n",
       "      <td>0</td>\n",
       "      <td>0</td>\n",
       "    </tr>\n",
       "    <tr>\n",
       "      <th>4</th>\n",
       "      <td>200</td>\n",
       "      <td>100</td>\n",
       "      <td>0.005</td>\n",
       "      <td>0</td>\n",
       "      <td>0</td>\n",
       "      <td>0</td>\n",
       "      <td>0</td>\n",
       "      <td>0</td>\n",
       "      <td>0</td>\n",
       "      <td>0</td>\n",
       "      <td>...</td>\n",
       "      <td>0</td>\n",
       "      <td>0</td>\n",
       "      <td>0</td>\n",
       "      <td>0</td>\n",
       "      <td>0</td>\n",
       "      <td>0</td>\n",
       "      <td>1</td>\n",
       "      <td>0</td>\n",
       "      <td>0</td>\n",
       "      <td>0</td>\n",
       "    </tr>\n",
       "    <tr>\n",
       "      <th>...</th>\n",
       "      <td>...</td>\n",
       "      <td>...</td>\n",
       "      <td>...</td>\n",
       "      <td>...</td>\n",
       "      <td>...</td>\n",
       "      <td>...</td>\n",
       "      <td>...</td>\n",
       "      <td>...</td>\n",
       "      <td>...</td>\n",
       "      <td>...</td>\n",
       "      <td>...</td>\n",
       "      <td>...</td>\n",
       "      <td>...</td>\n",
       "      <td>...</td>\n",
       "      <td>...</td>\n",
       "      <td>...</td>\n",
       "      <td>...</td>\n",
       "      <td>...</td>\n",
       "      <td>...</td>\n",
       "      <td>...</td>\n",
       "      <td>...</td>\n",
       "    </tr>\n",
       "    <tr>\n",
       "      <th>10505</th>\n",
       "      <td>200</td>\n",
       "      <td>50</td>\n",
       "      <td>0.005</td>\n",
       "      <td>0</td>\n",
       "      <td>0</td>\n",
       "      <td>0</td>\n",
       "      <td>1</td>\n",
       "      <td>0</td>\n",
       "      <td>0</td>\n",
       "      <td>0</td>\n",
       "      <td>...</td>\n",
       "      <td>0</td>\n",
       "      <td>1</td>\n",
       "      <td>0</td>\n",
       "      <td>0</td>\n",
       "      <td>1</td>\n",
       "      <td>0</td>\n",
       "      <td>0</td>\n",
       "      <td>0</td>\n",
       "      <td>0</td>\n",
       "      <td>0</td>\n",
       "    </tr>\n",
       "    <tr>\n",
       "      <th>10506</th>\n",
       "      <td>200</td>\n",
       "      <td>50</td>\n",
       "      <td>0.005</td>\n",
       "      <td>0</td>\n",
       "      <td>0</td>\n",
       "      <td>0</td>\n",
       "      <td>0</td>\n",
       "      <td>1</td>\n",
       "      <td>0</td>\n",
       "      <td>0</td>\n",
       "      <td>...</td>\n",
       "      <td>0</td>\n",
       "      <td>1</td>\n",
       "      <td>0</td>\n",
       "      <td>0</td>\n",
       "      <td>1</td>\n",
       "      <td>0</td>\n",
       "      <td>0</td>\n",
       "      <td>0</td>\n",
       "      <td>0</td>\n",
       "      <td>0</td>\n",
       "    </tr>\n",
       "    <tr>\n",
       "      <th>10507</th>\n",
       "      <td>200</td>\n",
       "      <td>50</td>\n",
       "      <td>0.005</td>\n",
       "      <td>0</td>\n",
       "      <td>1</td>\n",
       "      <td>0</td>\n",
       "      <td>0</td>\n",
       "      <td>0</td>\n",
       "      <td>0</td>\n",
       "      <td>0</td>\n",
       "      <td>...</td>\n",
       "      <td>0</td>\n",
       "      <td>1</td>\n",
       "      <td>0</td>\n",
       "      <td>0</td>\n",
       "      <td>1</td>\n",
       "      <td>0</td>\n",
       "      <td>0</td>\n",
       "      <td>0</td>\n",
       "      <td>0</td>\n",
       "      <td>0</td>\n",
       "    </tr>\n",
       "    <tr>\n",
       "      <th>10508</th>\n",
       "      <td>200</td>\n",
       "      <td>50</td>\n",
       "      <td>0.005</td>\n",
       "      <td>0</td>\n",
       "      <td>0</td>\n",
       "      <td>0</td>\n",
       "      <td>0</td>\n",
       "      <td>0</td>\n",
       "      <td>0</td>\n",
       "      <td>0</td>\n",
       "      <td>...</td>\n",
       "      <td>0</td>\n",
       "      <td>1</td>\n",
       "      <td>0</td>\n",
       "      <td>0</td>\n",
       "      <td>1</td>\n",
       "      <td>0</td>\n",
       "      <td>0</td>\n",
       "      <td>0</td>\n",
       "      <td>0</td>\n",
       "      <td>0</td>\n",
       "    </tr>\n",
       "    <tr>\n",
       "      <th>10509</th>\n",
       "      <td>200</td>\n",
       "      <td>50</td>\n",
       "      <td>0.005</td>\n",
       "      <td>0</td>\n",
       "      <td>0</td>\n",
       "      <td>0</td>\n",
       "      <td>0</td>\n",
       "      <td>0</td>\n",
       "      <td>0</td>\n",
       "      <td>0</td>\n",
       "      <td>...</td>\n",
       "      <td>0</td>\n",
       "      <td>1</td>\n",
       "      <td>0</td>\n",
       "      <td>0</td>\n",
       "      <td>1</td>\n",
       "      <td>0</td>\n",
       "      <td>0</td>\n",
       "      <td>0</td>\n",
       "      <td>0</td>\n",
       "      <td>0</td>\n",
       "    </tr>\n",
       "  </tbody>\n",
       "</table>\n",
       "<p>10506 rows × 33 columns</p>\n",
       "</div>"
      ],
      "text/plain": [
       "       temperature  density  resp_density  metal_Ce  metal_Er  metal_Eu  \\\n",
       "0              200      100         0.005         0         0         0   \n",
       "1              200      100         0.005         0         0         0   \n",
       "2              200      100         0.005         0         0         0   \n",
       "3              200      100         0.005         0         0         0   \n",
       "4              200      100         0.005         0         0         0   \n",
       "...            ...      ...           ...       ...       ...       ...   \n",
       "10505          200       50         0.005         0         0         0   \n",
       "10506          200       50         0.005         0         0         0   \n",
       "10507          200       50         0.005         0         1         0   \n",
       "10508          200       50         0.005         0         0         0   \n",
       "10509          200       50         0.005         0         0         0   \n",
       "\n",
       "       metal_Gd  metal_Ho  metal_In2O3  metal_La  ...  metal_ox_TiO2  \\\n",
       "0             0         0            1         0  ...              0   \n",
       "1             0         0            0         0  ...              0   \n",
       "2             0         0            0         0  ...              0   \n",
       "3             0         0            0         0  ...              0   \n",
       "4             0         0            0         0  ...              0   \n",
       "...         ...       ...          ...       ...  ...            ...   \n",
       "10505         1         0            0         0  ...              0   \n",
       "10506         0         1            0         0  ...              0   \n",
       "10507         0         0            0         0  ...              0   \n",
       "10508         0         0            0         0  ...              0   \n",
       "10509         0         0            0         0  ...              0   \n",
       "\n",
       "       metal_ox_wo3  gas_cate_benzene  gas_cate_ch4  gas_cate_diesel_fuel  \\\n",
       "0                 0                 0             0                     0   \n",
       "1                 0                 0             0                     0   \n",
       "2                 0                 0             0                     0   \n",
       "3                 0                 0             0                     0   \n",
       "4                 0                 0             0                     0   \n",
       "...             ...               ...           ...                   ...   \n",
       "10505             1                 0             0                     1   \n",
       "10506             1                 0             0                     1   \n",
       "10507             1                 0             0                     1   \n",
       "10508             1                 0             0                     1   \n",
       "10509             1                 0             0                     1   \n",
       "\n",
       "       gas_cate_formaldehyde  gas_cate_gasoline  gas_cate_h2  \\\n",
       "0                          0                  1            0   \n",
       "1                          0                  1            0   \n",
       "2                          0                  1            0   \n",
       "3                          0                  1            0   \n",
       "4                          0                  1            0   \n",
       "...                      ...                ...          ...   \n",
       "10505                      0                  0            0   \n",
       "10506                      0                  0            0   \n",
       "10507                      0                  0            0   \n",
       "10508                      0                  0            0   \n",
       "10509                      0                  0            0   \n",
       "\n",
       "       gas_cate_toluene  gas_cate_xylene  \n",
       "0                     0                0  \n",
       "1                     0                0  \n",
       "2                     0                0  \n",
       "3                     0                0  \n",
       "4                     0                0  \n",
       "...                 ...              ...  \n",
       "10505                 0                0  \n",
       "10506                 0                0  \n",
       "10507                 0                0  \n",
       "10508                 0                0  \n",
       "10509                 0                0  \n",
       "\n",
       "[10506 rows x 33 columns]"
      ]
     },
     "execution_count": 17,
     "metadata": {},
     "output_type": "execute_result"
    }
   ],
   "source": [
    "x_data  "
   ]
  },
  {
   "cell_type": "code",
   "execution_count": 18,
   "metadata": {},
   "outputs": [
    {
     "data": {
      "text/html": [
       "<div>\n",
       "<style scoped>\n",
       "    .dataframe tbody tr th:only-of-type {\n",
       "        vertical-align: middle;\n",
       "    }\n",
       "\n",
       "    .dataframe tbody tr th {\n",
       "        vertical-align: top;\n",
       "    }\n",
       "\n",
       "    .dataframe thead th {\n",
       "        text-align: right;\n",
       "    }\n",
       "</style>\n",
       "<table border=\"1\" class=\"dataframe\">\n",
       "  <thead>\n",
       "    <tr style=\"text-align: right;\">\n",
       "      <th></th>\n",
       "      <th>resp_val</th>\n",
       "    </tr>\n",
       "  </thead>\n",
       "  <tbody>\n",
       "    <tr>\n",
       "      <th>0</th>\n",
       "      <td>1.2</td>\n",
       "    </tr>\n",
       "    <tr>\n",
       "      <th>1</th>\n",
       "      <td>1.3</td>\n",
       "    </tr>\n",
       "    <tr>\n",
       "      <th>2</th>\n",
       "      <td>1.6</td>\n",
       "    </tr>\n",
       "    <tr>\n",
       "      <th>3</th>\n",
       "      <td>1.8</td>\n",
       "    </tr>\n",
       "    <tr>\n",
       "      <th>4</th>\n",
       "      <td>1.3</td>\n",
       "    </tr>\n",
       "    <tr>\n",
       "      <th>...</th>\n",
       "      <td>...</td>\n",
       "    </tr>\n",
       "    <tr>\n",
       "      <th>10505</th>\n",
       "      <td>1.4</td>\n",
       "    </tr>\n",
       "    <tr>\n",
       "      <th>10506</th>\n",
       "      <td>1.1</td>\n",
       "    </tr>\n",
       "    <tr>\n",
       "      <th>10507</th>\n",
       "      <td>1.1</td>\n",
       "    </tr>\n",
       "    <tr>\n",
       "      <th>10508</th>\n",
       "      <td>1.1</td>\n",
       "    </tr>\n",
       "    <tr>\n",
       "      <th>10509</th>\n",
       "      <td>1.1</td>\n",
       "    </tr>\n",
       "  </tbody>\n",
       "</table>\n",
       "<p>10506 rows × 1 columns</p>\n",
       "</div>"
      ],
      "text/plain": [
       "       resp_val\n",
       "0           1.2\n",
       "1           1.3\n",
       "2           1.6\n",
       "3           1.8\n",
       "4           1.3\n",
       "...         ...\n",
       "10505       1.4\n",
       "10506       1.1\n",
       "10507       1.1\n",
       "10508       1.1\n",
       "10509       1.1\n",
       "\n",
       "[10506 rows x 1 columns]"
      ]
     },
     "execution_count": 18,
     "metadata": {},
     "output_type": "execute_result"
    }
   ],
   "source": [
    "y_data"
   ]
  },
  {
   "cell_type": "markdown",
   "metadata": {},
   "source": []
  },
  {
   "cell_type": "code",
   "execution_count": 19,
   "metadata": {},
   "outputs": [
    {
     "data": {
      "text/plain": [
       "<function sklearn.model_selection._split.train_test_split(*arrays, test_size=None, train_size=None, random_state=None, shuffle=True, stratify=None)>"
      ]
     },
     "execution_count": 19,
     "metadata": {},
     "output_type": "execute_result"
    }
   ],
   "source": [
    "train_test_split"
   ]
  },
  {
   "cell_type": "code",
   "execution_count": 20,
   "metadata": {},
   "outputs": [],
   "source": [
    "X_train, X_test, y_train, y_test = train_test_split(x_data, y_data, test_size=0.2, random_state=42)"
   ]
  },
  {
   "cell_type": "code",
   "execution_count": 21,
   "metadata": {},
   "outputs": [
    {
     "data": {
      "text/html": [
       "<div>\n",
       "<style scoped>\n",
       "    .dataframe tbody tr th:only-of-type {\n",
       "        vertical-align: middle;\n",
       "    }\n",
       "\n",
       "    .dataframe tbody tr th {\n",
       "        vertical-align: top;\n",
       "    }\n",
       "\n",
       "    .dataframe thead th {\n",
       "        text-align: right;\n",
       "    }\n",
       "</style>\n",
       "<table border=\"1\" class=\"dataframe\">\n",
       "  <thead>\n",
       "    <tr style=\"text-align: right;\">\n",
       "      <th></th>\n",
       "      <th>resp_val</th>\n",
       "    </tr>\n",
       "  </thead>\n",
       "  <tbody>\n",
       "    <tr>\n",
       "      <th>3412</th>\n",
       "      <td>1.0</td>\n",
       "    </tr>\n",
       "    <tr>\n",
       "      <th>617</th>\n",
       "      <td>1.8</td>\n",
       "    </tr>\n",
       "    <tr>\n",
       "      <th>6225</th>\n",
       "      <td>1.1</td>\n",
       "    </tr>\n",
       "    <tr>\n",
       "      <th>7024</th>\n",
       "      <td>1.3</td>\n",
       "    </tr>\n",
       "    <tr>\n",
       "      <th>745</th>\n",
       "      <td>1.9</td>\n",
       "    </tr>\n",
       "    <tr>\n",
       "      <th>...</th>\n",
       "      <td>...</td>\n",
       "    </tr>\n",
       "    <tr>\n",
       "      <th>5734</th>\n",
       "      <td>2.9</td>\n",
       "    </tr>\n",
       "    <tr>\n",
       "      <th>5191</th>\n",
       "      <td>11.0</td>\n",
       "    </tr>\n",
       "    <tr>\n",
       "      <th>5390</th>\n",
       "      <td>1.1</td>\n",
       "    </tr>\n",
       "    <tr>\n",
       "      <th>860</th>\n",
       "      <td>2.6</td>\n",
       "    </tr>\n",
       "    <tr>\n",
       "      <th>7274</th>\n",
       "      <td>1.1</td>\n",
       "    </tr>\n",
       "  </tbody>\n",
       "</table>\n",
       "<p>8404 rows × 1 columns</p>\n",
       "</div>"
      ],
      "text/plain": [
       "      resp_val\n",
       "3412       1.0\n",
       "617        1.8\n",
       "6225       1.1\n",
       "7024       1.3\n",
       "745        1.9\n",
       "...        ...\n",
       "5734       2.9\n",
       "5191      11.0\n",
       "5390       1.1\n",
       "860        2.6\n",
       "7274       1.1\n",
       "\n",
       "[8404 rows x 1 columns]"
      ]
     },
     "execution_count": 21,
     "metadata": {},
     "output_type": "execute_result"
    }
   ],
   "source": [
    "y_train"
   ]
  },
  {
   "cell_type": "code",
   "execution_count": 41,
   "metadata": {},
   "outputs": [
    {
     "name": "stderr",
     "output_type": "stream",
     "text": [
      "d:\\Apps\\Anaconda\\lib\\site-packages\\sklearn\\neural_network\\_multilayer_perceptron.py:1599: DataConversionWarning: A column-vector y was passed when a 1d array was expected. Please change the shape of y to (n_samples, ), for example using ravel().\n",
      "  y = column_or_1d(y, warn=True)\n"
     ]
    }
   ],
   "source": [
    "from sklearn.neural_network import MLPRegressor\n",
    "regr = MLPRegressor().fit(X_train, y_train)"
   ]
  },
  {
   "cell_type": "code",
   "execution_count": 42,
   "metadata": {},
   "outputs": [],
   "source": [
    "x_test_res = regr.predict(X_test)\n"
   ]
  },
  {
   "cell_type": "code",
   "execution_count": 43,
   "metadata": {},
   "outputs": [
    {
     "data": {
      "text/plain": [
       "0.10059724215723254"
      ]
     },
     "execution_count": 43,
     "metadata": {},
     "output_type": "execute_result"
    }
   ],
   "source": [
    "regr.score(X_test, y_test)"
   ]
  },
  {
   "cell_type": "code",
   "execution_count": 44,
   "metadata": {},
   "outputs": [],
   "source": [
    "y_test_np = y_test[\"resp_val\"].to_numpy()"
   ]
  },
  {
   "cell_type": "code",
   "execution_count": 45,
   "metadata": {},
   "outputs": [
    {
     "data": {
      "text/html": [
       "<div>\n",
       "<style scoped>\n",
       "    .dataframe tbody tr th:only-of-type {\n",
       "        vertical-align: middle;\n",
       "    }\n",
       "\n",
       "    .dataframe tbody tr th {\n",
       "        vertical-align: top;\n",
       "    }\n",
       "\n",
       "    .dataframe thead th {\n",
       "        text-align: right;\n",
       "    }\n",
       "</style>\n",
       "<table border=\"1\" class=\"dataframe\">\n",
       "  <thead>\n",
       "    <tr style=\"text-align: right;\">\n",
       "      <th></th>\n",
       "      <th>resp_val</th>\n",
       "    </tr>\n",
       "  </thead>\n",
       "  <tbody>\n",
       "    <tr>\n",
       "      <th>33</th>\n",
       "      <td>1.5</td>\n",
       "    </tr>\n",
       "    <tr>\n",
       "      <th>9636</th>\n",
       "      <td>7.4</td>\n",
       "    </tr>\n",
       "    <tr>\n",
       "      <th>5009</th>\n",
       "      <td>1.0</td>\n",
       "    </tr>\n",
       "    <tr>\n",
       "      <th>4404</th>\n",
       "      <td>1.0</td>\n",
       "    </tr>\n",
       "    <tr>\n",
       "      <th>4626</th>\n",
       "      <td>1.0</td>\n",
       "    </tr>\n",
       "    <tr>\n",
       "      <th>...</th>\n",
       "      <td>...</td>\n",
       "    </tr>\n",
       "    <tr>\n",
       "      <th>2485</th>\n",
       "      <td>2.8</td>\n",
       "    </tr>\n",
       "    <tr>\n",
       "      <th>9050</th>\n",
       "      <td>19.9</td>\n",
       "    </tr>\n",
       "    <tr>\n",
       "      <th>7857</th>\n",
       "      <td>1.2</td>\n",
       "    </tr>\n",
       "    <tr>\n",
       "      <th>9139</th>\n",
       "      <td>25.4</td>\n",
       "    </tr>\n",
       "    <tr>\n",
       "      <th>2287</th>\n",
       "      <td>2.0</td>\n",
       "    </tr>\n",
       "  </tbody>\n",
       "</table>\n",
       "<p>2102 rows × 1 columns</p>\n",
       "</div>"
      ],
      "text/plain": [
       "      resp_val\n",
       "33         1.5\n",
       "9636       7.4\n",
       "5009       1.0\n",
       "4404       1.0\n",
       "4626       1.0\n",
       "...        ...\n",
       "2485       2.8\n",
       "9050      19.9\n",
       "7857       1.2\n",
       "9139      25.4\n",
       "2287       2.0\n",
       "\n",
       "[2102 rows x 1 columns]"
      ]
     },
     "execution_count": 45,
     "metadata": {},
     "output_type": "execute_result"
    }
   ],
   "source": [
    "y_test"
   ]
  },
  {
   "cell_type": "code",
   "execution_count": 46,
   "metadata": {},
   "outputs": [
    {
     "data": {
      "text/plain": [
       "array([ -1.93806476,  -8.89669205, -32.55956725, ...,  -0.33093363,\n",
       "       -17.53861824,  -4.09049938])"
      ]
     },
     "execution_count": 46,
     "metadata": {},
     "output_type": "execute_result"
    }
   ],
   "source": [
    "y_test_np-x_test_res"
   ]
  },
  {
   "cell_type": "code",
   "execution_count": 47,
   "metadata": {},
   "outputs": [
    {
     "name": "stderr",
     "output_type": "stream",
     "text": [
      "d:\\Apps\\Anaconda\\lib\\site-packages\\sklearn\\neural_network\\_multilayer_perceptron.py:1599: DataConversionWarning: A column-vector y was passed when a 1d array was expected. Please change the shape of y to (n_samples, ), for example using ravel().\n",
      "  y = column_or_1d(y, warn=True)\n",
      "d:\\Apps\\Anaconda\\lib\\site-packages\\sklearn\\neural_network\\_multilayer_perceptron.py:1599: DataConversionWarning: A column-vector y was passed when a 1d array was expected. Please change the shape of y to (n_samples, ), for example using ravel().\n",
      "  y = column_or_1d(y, warn=True)\n",
      "d:\\Apps\\Anaconda\\lib\\site-packages\\sklearn\\neural_network\\_multilayer_perceptron.py:1599: DataConversionWarning: A column-vector y was passed when a 1d array was expected. Please change the shape of y to (n_samples, ), for example using ravel().\n",
      "  y = column_or_1d(y, warn=True)\n",
      "d:\\Apps\\Anaconda\\lib\\site-packages\\sklearn\\neural_network\\_multilayer_perceptron.py:1599: DataConversionWarning: A column-vector y was passed when a 1d array was expected. Please change the shape of y to (n_samples, ), for example using ravel().\n",
      "  y = column_or_1d(y, warn=True)\n",
      "d:\\Apps\\Anaconda\\lib\\site-packages\\sklearn\\neural_network\\_multilayer_perceptron.py:1599: DataConversionWarning: A column-vector y was passed when a 1d array was expected. Please change the shape of y to (n_samples, ), for example using ravel().\n",
      "  y = column_or_1d(y, warn=True)\n",
      "d:\\Apps\\Anaconda\\lib\\site-packages\\sklearn\\neural_network\\_multilayer_perceptron.py:1599: DataConversionWarning: A column-vector y was passed when a 1d array was expected. Please change the shape of y to (n_samples, ), for example using ravel().\n",
      "  y = column_or_1d(y, warn=True)\n",
      "d:\\Apps\\Anaconda\\lib\\site-packages\\sklearn\\neural_network\\_multilayer_perceptron.py:692: ConvergenceWarning: Stochastic Optimizer: Maximum iterations (200) reached and the optimization hasn't converged yet.\n",
      "  warnings.warn(\n",
      "d:\\Apps\\Anaconda\\lib\\site-packages\\sklearn\\neural_network\\_multilayer_perceptron.py:1599: DataConversionWarning: A column-vector y was passed when a 1d array was expected. Please change the shape of y to (n_samples, ), for example using ravel().\n",
      "  y = column_or_1d(y, warn=True)\n",
      "d:\\Apps\\Anaconda\\lib\\site-packages\\sklearn\\neural_network\\_multilayer_perceptron.py:1599: DataConversionWarning: A column-vector y was passed when a 1d array was expected. Please change the shape of y to (n_samples, ), for example using ravel().\n",
      "  y = column_or_1d(y, warn=True)\n"
     ]
    }
   ],
   "source": [
    "param_grid = {\n",
    "    'hidden_layer_sizes': [ (50, 50),(100, 50),(100, 50, 25)],\n",
    "    'activation': ['logistic', 'tanh', 'relu'],\n",
    "    'solver': ['sgd','adam'],\n",
    "    'alpha': [0.0001, 0.001, 0.01],\n",
    "}\n",
    "\n",
    "# Create an MLPRegressor object\n",
    "mlp = MLPRegressor(random_state=42)\n",
    "\n",
    "# Create a GridSearchCV object\n",
    "grid_search = GridSearchCV(mlp, param_grid, cv=5)\n",
    "\n",
    "# Fit the grid search object to the data\n",
    "grid_search.fit(X_train, y_train)\n"
   ]
  },
  {
   "cell_type": "code",
   "execution_count": null,
   "metadata": {},
   "outputs": [
    {
     "data": {
      "text/plain": [
       "0.561230913757371"
      ]
     },
     "execution_count": 238,
     "metadata": {},
     "output_type": "execute_result"
    }
   ],
   "source": [
    "grid_search.best_score_"
   ]
  },
  {
   "cell_type": "code",
   "execution_count": null,
   "metadata": {},
   "outputs": [
    {
     "data": {
      "text/plain": [
       "0.4832616817560599"
      ]
     },
     "execution_count": 239,
     "metadata": {},
     "output_type": "execute_result"
    }
   ],
   "source": [
    "grid_search.best_estimator_.score(X_train,y_train)"
   ]
  },
  {
   "cell_type": "code",
   "execution_count": null,
   "metadata": {},
   "outputs": [],
   "source": [
    "y_test_res=grid_search.best_estimator_.predict(X_test)"
   ]
  },
  {
   "cell_type": "code",
   "execution_count": null,
   "metadata": {},
   "outputs": [
    {
     "data": {
      "text/plain": [
       "24.402232829104292"
      ]
     },
     "execution_count": 247,
     "metadata": {},
     "output_type": "execute_result"
    }
   ],
   "source": [
    "# rms = mean_squared_error(y_test_np, x_test_res, squared=False)\n",
    "rmse(y_test_res, y_test)"
   ]
  },
  {
   "cell_type": "code",
   "execution_count": null,
   "metadata": {},
   "outputs": [],
   "source": [
    "from sklearn.linear_model import LinearRegression\n"
   ]
  },
  {
   "cell_type": "code",
   "execution_count": null,
   "metadata": {},
   "outputs": [],
   "source": [
    "LR = LinearRegression()\n"
   ]
  },
  {
   "cell_type": "code",
   "execution_count": null,
   "metadata": {},
   "outputs": [
    {
     "data": {
      "text/plain": [
       "LinearRegression()"
      ]
     },
     "execution_count": 143,
     "metadata": {},
     "output_type": "execute_result"
    }
   ],
   "source": [
    "LR.fit(X_train,y_train)\n"
   ]
  },
  {
   "cell_type": "code",
   "execution_count": null,
   "metadata": {},
   "outputs": [
    {
     "data": {
      "text/plain": [
       "array([[-1.90021324],\n",
       "       [ 7.86873436],\n",
       "       [22.0429821 ],\n",
       "       ...,\n",
       "       [-6.88088036],\n",
       "       [20.59788895],\n",
       "       [ 3.36823845]])"
      ]
     },
     "execution_count": 144,
     "metadata": {},
     "output_type": "execute_result"
    }
   ],
   "source": [
    "y_prediction =  LR.predict(X_test)\n",
    "y_prediction"
   ]
  },
  {
   "cell_type": "code",
   "execution_count": null,
   "metadata": {},
   "outputs": [
    {
     "data": {
      "text/plain": [
       "16.448542024081576"
      ]
     },
     "execution_count": 145,
     "metadata": {},
     "output_type": "execute_result"
    }
   ],
   "source": [
    "rms = mean_squared_error(y_test_np, y_prediction, squared=False)\n",
    "rms"
   ]
  },
  {
   "cell_type": "code",
   "execution_count": null,
   "metadata": {},
   "outputs": [
    {
     "data": {
      "text/plain": [
       "0.2890170372695867"
      ]
     },
     "execution_count": 146,
     "metadata": {},
     "output_type": "execute_result"
    }
   ],
   "source": [
    "from sklearn.metrics import r2_score\n",
    "score=r2_score(y_test_np,y_prediction)\n",
    "score"
   ]
  },
  {
   "cell_type": "code",
   "execution_count": 58,
   "metadata": {},
   "outputs": [],
   "source": [
    "from sklearn.ensemble import RandomForestRegressor\n",
    "# from sklearn.datasets import make_regression\n",
    "# X, y = make_regression(n_features=4, n_informative=2,\n",
    "#                        random_state=0, shuffle=False)\n"
   ]
  },
  {
   "cell_type": "code",
   "execution_count": null,
   "metadata": {},
   "outputs": [
    {
     "name": "stderr",
     "output_type": "stream",
     "text": [
      "C:\\Users\\qin95\\AppData\\Local\\Temp\\ipykernel_23768\\159139388.py:2: DataConversionWarning: A column-vector y was passed when a 1d array was expected. Please change the shape of y to (n_samples,), for example using ravel().\n",
      "  regr.fit(X_train, y_train)\n"
     ]
    },
    {
     "data": {
      "text/plain": [
       "0.9647483937892027"
      ]
     },
     "execution_count": 33,
     "metadata": {},
     "output_type": "execute_result"
    }
   ],
   "source": [
    "regr = RandomForestRegressor(max_depth=15, random_state=2)\n",
    "regr.fit(X_train, y_train)\n",
    "regr.score(X_train, y_train)"
   ]
  },
  {
   "cell_type": "code",
   "execution_count": null,
   "metadata": {},
   "outputs": [],
   "source": [
    "y_pre = regr.predict(X_test)"
   ]
  },
  {
   "cell_type": "code",
   "execution_count": null,
   "metadata": {},
   "outputs": [
    {
     "data": {
      "text/plain": [
       "7.357057644888274"
      ]
     },
     "execution_count": 35,
     "metadata": {},
     "output_type": "execute_result"
    }
   ],
   "source": [
    "rms = mean_squared_error(y_test_np, y_pre, squared=False)\n",
    "rms"
   ]
  },
  {
   "cell_type": "code",
   "execution_count": null,
   "metadata": {},
   "outputs": [
    {
     "data": {
      "text/html": [
       "<div>\n",
       "<style scoped>\n",
       "    .dataframe tbody tr th:only-of-type {\n",
       "        vertical-align: middle;\n",
       "    }\n",
       "\n",
       "    .dataframe tbody tr th {\n",
       "        vertical-align: top;\n",
       "    }\n",
       "\n",
       "    .dataframe thead th {\n",
       "        text-align: right;\n",
       "    }\n",
       "</style>\n",
       "<table border=\"1\" class=\"dataframe\">\n",
       "  <thead>\n",
       "    <tr style=\"text-align: right;\">\n",
       "      <th></th>\n",
       "      <th>resp_val</th>\n",
       "    </tr>\n",
       "  </thead>\n",
       "  <tbody>\n",
       "    <tr>\n",
       "      <th>33</th>\n",
       "      <td>1.5</td>\n",
       "    </tr>\n",
       "    <tr>\n",
       "      <th>9636</th>\n",
       "      <td>7.4</td>\n",
       "    </tr>\n",
       "    <tr>\n",
       "      <th>5009</th>\n",
       "      <td>1.0</td>\n",
       "    </tr>\n",
       "    <tr>\n",
       "      <th>4404</th>\n",
       "      <td>1.0</td>\n",
       "    </tr>\n",
       "    <tr>\n",
       "      <th>4626</th>\n",
       "      <td>1.0</td>\n",
       "    </tr>\n",
       "    <tr>\n",
       "      <th>...</th>\n",
       "      <td>...</td>\n",
       "    </tr>\n",
       "    <tr>\n",
       "      <th>2485</th>\n",
       "      <td>2.8</td>\n",
       "    </tr>\n",
       "    <tr>\n",
       "      <th>9050</th>\n",
       "      <td>19.9</td>\n",
       "    </tr>\n",
       "    <tr>\n",
       "      <th>7857</th>\n",
       "      <td>1.2</td>\n",
       "    </tr>\n",
       "    <tr>\n",
       "      <th>9139</th>\n",
       "      <td>25.4</td>\n",
       "    </tr>\n",
       "    <tr>\n",
       "      <th>2287</th>\n",
       "      <td>2.0</td>\n",
       "    </tr>\n",
       "  </tbody>\n",
       "</table>\n",
       "<p>2102 rows × 1 columns</p>\n",
       "</div>"
      ],
      "text/plain": [
       "      resp_val\n",
       "33         1.5\n",
       "9636       7.4\n",
       "5009       1.0\n",
       "4404       1.0\n",
       "4626       1.0\n",
       "...        ...\n",
       "2485       2.8\n",
       "9050      19.9\n",
       "7857       1.2\n",
       "9139      25.4\n",
       "2287       2.0\n",
       "\n",
       "[2102 rows x 1 columns]"
      ]
     },
     "execution_count": 36,
     "metadata": {},
     "output_type": "execute_result"
    }
   ],
   "source": [
    "y_test"
   ]
  },
  {
   "cell_type": "code",
   "execution_count": null,
   "metadata": {},
   "outputs": [
    {
     "name": "stdout",
     "output_type": "stream",
     "text": [
      "[ 1.5  7.4  1.  ...  1.2 25.4  2. ]\n"
     ]
    }
   ],
   "source": [
    "\n",
    "print(y_test_np)"
   ]
  },
  {
   "cell_type": "code",
   "execution_count": null,
   "metadata": {},
   "outputs": [
    {
     "name": "stdout",
     "output_type": "stream",
     "text": [
      "[ 1.45353467  5.02618935  1.184      ...  1.09969762 20.05648783\n",
      "  2.10751855]\n"
     ]
    }
   ],
   "source": [
    "print(y_pre)"
   ]
  },
  {
   "cell_type": "code",
   "execution_count": null,
   "metadata": {},
   "outputs": [],
   "source": [
    "# X_train, X_test, y_train, y_test = train_test_split(x_data, y_data, test_size=0.2, random_state=42)"
   ]
  },
  {
   "cell_type": "code",
   "execution_count": null,
   "metadata": {},
   "outputs": [
    {
     "data": {
      "text/html": [
       "<div>\n",
       "<style scoped>\n",
       "    .dataframe tbody tr th:only-of-type {\n",
       "        vertical-align: middle;\n",
       "    }\n",
       "\n",
       "    .dataframe tbody tr th {\n",
       "        vertical-align: top;\n",
       "    }\n",
       "\n",
       "    .dataframe thead th {\n",
       "        text-align: right;\n",
       "    }\n",
       "</style>\n",
       "<table border=\"1\" class=\"dataframe\">\n",
       "  <thead>\n",
       "    <tr style=\"text-align: right;\">\n",
       "      <th></th>\n",
       "      <th>temperature</th>\n",
       "      <th>density</th>\n",
       "      <th>resp_density</th>\n",
       "      <th>metal_Ce</th>\n",
       "      <th>metal_Er</th>\n",
       "      <th>metal_Eu</th>\n",
       "      <th>metal_Gd</th>\n",
       "      <th>metal_Ho</th>\n",
       "      <th>metal_In2O3</th>\n",
       "      <th>metal_La</th>\n",
       "      <th>...</th>\n",
       "      <th>metal_ox_TiO2</th>\n",
       "      <th>metal_ox_wo3</th>\n",
       "      <th>gas_cate_benzene</th>\n",
       "      <th>gas_cate_ch4</th>\n",
       "      <th>gas_cate_diesel_fuel</th>\n",
       "      <th>gas_cate_formaldehyde</th>\n",
       "      <th>gas_cate_gasoline</th>\n",
       "      <th>gas_cate_h2</th>\n",
       "      <th>gas_cate_toluene</th>\n",
       "      <th>gas_cate_xylene</th>\n",
       "    </tr>\n",
       "  </thead>\n",
       "  <tbody>\n",
       "    <tr>\n",
       "      <th>33</th>\n",
       "      <td>200</td>\n",
       "      <td>100</td>\n",
       "      <td>0.003</td>\n",
       "      <td>0</td>\n",
       "      <td>0</td>\n",
       "      <td>0</td>\n",
       "      <td>0</td>\n",
       "      <td>0</td>\n",
       "      <td>0</td>\n",
       "      <td>0</td>\n",
       "      <td>...</td>\n",
       "      <td>0</td>\n",
       "      <td>0</td>\n",
       "      <td>0</td>\n",
       "      <td>0</td>\n",
       "      <td>0</td>\n",
       "      <td>0</td>\n",
       "      <td>1</td>\n",
       "      <td>0</td>\n",
       "      <td>0</td>\n",
       "      <td>0</td>\n",
       "    </tr>\n",
       "    <tr>\n",
       "      <th>9636</th>\n",
       "      <td>200</td>\n",
       "      <td>300</td>\n",
       "      <td>0.003</td>\n",
       "      <td>0</td>\n",
       "      <td>1</td>\n",
       "      <td>0</td>\n",
       "      <td>0</td>\n",
       "      <td>0</td>\n",
       "      <td>0</td>\n",
       "      <td>0</td>\n",
       "      <td>...</td>\n",
       "      <td>0</td>\n",
       "      <td>1</td>\n",
       "      <td>0</td>\n",
       "      <td>0</td>\n",
       "      <td>0</td>\n",
       "      <td>0</td>\n",
       "      <td>1</td>\n",
       "      <td>0</td>\n",
       "      <td>0</td>\n",
       "      <td>0</td>\n",
       "    </tr>\n",
       "    <tr>\n",
       "      <th>5009</th>\n",
       "      <td>150</td>\n",
       "      <td>1000</td>\n",
       "      <td>0.004</td>\n",
       "      <td>0</td>\n",
       "      <td>0</td>\n",
       "      <td>0</td>\n",
       "      <td>0</td>\n",
       "      <td>0</td>\n",
       "      <td>0</td>\n",
       "      <td>0</td>\n",
       "      <td>...</td>\n",
       "      <td>1</td>\n",
       "      <td>0</td>\n",
       "      <td>0</td>\n",
       "      <td>0</td>\n",
       "      <td>0</td>\n",
       "      <td>0</td>\n",
       "      <td>0</td>\n",
       "      <td>1</td>\n",
       "      <td>0</td>\n",
       "      <td>0</td>\n",
       "    </tr>\n",
       "    <tr>\n",
       "      <th>4404</th>\n",
       "      <td>200</td>\n",
       "      <td>100</td>\n",
       "      <td>0.005</td>\n",
       "      <td>0</td>\n",
       "      <td>0</td>\n",
       "      <td>0</td>\n",
       "      <td>0</td>\n",
       "      <td>0</td>\n",
       "      <td>0</td>\n",
       "      <td>0</td>\n",
       "      <td>...</td>\n",
       "      <td>1</td>\n",
       "      <td>0</td>\n",
       "      <td>0</td>\n",
       "      <td>0</td>\n",
       "      <td>0</td>\n",
       "      <td>1</td>\n",
       "      <td>0</td>\n",
       "      <td>0</td>\n",
       "      <td>0</td>\n",
       "      <td>0</td>\n",
       "    </tr>\n",
       "    <tr>\n",
       "      <th>4626</th>\n",
       "      <td>50</td>\n",
       "      <td>100</td>\n",
       "      <td>0.003</td>\n",
       "      <td>0</td>\n",
       "      <td>0</td>\n",
       "      <td>0</td>\n",
       "      <td>0</td>\n",
       "      <td>0</td>\n",
       "      <td>0</td>\n",
       "      <td>0</td>\n",
       "      <td>...</td>\n",
       "      <td>1</td>\n",
       "      <td>0</td>\n",
       "      <td>0</td>\n",
       "      <td>0</td>\n",
       "      <td>0</td>\n",
       "      <td>1</td>\n",
       "      <td>0</td>\n",
       "      <td>0</td>\n",
       "      <td>0</td>\n",
       "      <td>0</td>\n",
       "    </tr>\n",
       "    <tr>\n",
       "      <th>...</th>\n",
       "      <td>...</td>\n",
       "      <td>...</td>\n",
       "      <td>...</td>\n",
       "      <td>...</td>\n",
       "      <td>...</td>\n",
       "      <td>...</td>\n",
       "      <td>...</td>\n",
       "      <td>...</td>\n",
       "      <td>...</td>\n",
       "      <td>...</td>\n",
       "      <td>...</td>\n",
       "      <td>...</td>\n",
       "      <td>...</td>\n",
       "      <td>...</td>\n",
       "      <td>...</td>\n",
       "      <td>...</td>\n",
       "      <td>...</td>\n",
       "      <td>...</td>\n",
       "      <td>...</td>\n",
       "      <td>...</td>\n",
       "      <td>...</td>\n",
       "    </tr>\n",
       "    <tr>\n",
       "      <th>2485</th>\n",
       "      <td>400</td>\n",
       "      <td>50</td>\n",
       "      <td>0.003</td>\n",
       "      <td>0</td>\n",
       "      <td>0</td>\n",
       "      <td>0</td>\n",
       "      <td>0</td>\n",
       "      <td>0</td>\n",
       "      <td>0</td>\n",
       "      <td>0</td>\n",
       "      <td>...</td>\n",
       "      <td>0</td>\n",
       "      <td>0</td>\n",
       "      <td>0</td>\n",
       "      <td>0</td>\n",
       "      <td>1</td>\n",
       "      <td>0</td>\n",
       "      <td>0</td>\n",
       "      <td>0</td>\n",
       "      <td>0</td>\n",
       "      <td>0</td>\n",
       "    </tr>\n",
       "    <tr>\n",
       "      <th>9050</th>\n",
       "      <td>1000</td>\n",
       "      <td>350</td>\n",
       "      <td>0.003</td>\n",
       "      <td>0</td>\n",
       "      <td>0</td>\n",
       "      <td>0</td>\n",
       "      <td>0</td>\n",
       "      <td>1</td>\n",
       "      <td>0</td>\n",
       "      <td>0</td>\n",
       "      <td>...</td>\n",
       "      <td>0</td>\n",
       "      <td>1</td>\n",
       "      <td>0</td>\n",
       "      <td>1</td>\n",
       "      <td>0</td>\n",
       "      <td>0</td>\n",
       "      <td>0</td>\n",
       "      <td>0</td>\n",
       "      <td>0</td>\n",
       "      <td>0</td>\n",
       "    </tr>\n",
       "    <tr>\n",
       "      <th>7857</th>\n",
       "      <td>100</td>\n",
       "      <td>50</td>\n",
       "      <td>0.001</td>\n",
       "      <td>0</td>\n",
       "      <td>0</td>\n",
       "      <td>0</td>\n",
       "      <td>0</td>\n",
       "      <td>0</td>\n",
       "      <td>0</td>\n",
       "      <td>0</td>\n",
       "      <td>...</td>\n",
       "      <td>0</td>\n",
       "      <td>1</td>\n",
       "      <td>0</td>\n",
       "      <td>0</td>\n",
       "      <td>0</td>\n",
       "      <td>0</td>\n",
       "      <td>0</td>\n",
       "      <td>0</td>\n",
       "      <td>0</td>\n",
       "      <td>1</td>\n",
       "    </tr>\n",
       "    <tr>\n",
       "      <th>9139</th>\n",
       "      <td>1000</td>\n",
       "      <td>300</td>\n",
       "      <td>0.005</td>\n",
       "      <td>0</td>\n",
       "      <td>0</td>\n",
       "      <td>1</td>\n",
       "      <td>0</td>\n",
       "      <td>0</td>\n",
       "      <td>0</td>\n",
       "      <td>0</td>\n",
       "      <td>...</td>\n",
       "      <td>0</td>\n",
       "      <td>1</td>\n",
       "      <td>0</td>\n",
       "      <td>1</td>\n",
       "      <td>0</td>\n",
       "      <td>0</td>\n",
       "      <td>0</td>\n",
       "      <td>0</td>\n",
       "      <td>0</td>\n",
       "      <td>0</td>\n",
       "    </tr>\n",
       "    <tr>\n",
       "      <th>2287</th>\n",
       "      <td>350</td>\n",
       "      <td>30</td>\n",
       "      <td>0.003</td>\n",
       "      <td>0</td>\n",
       "      <td>0</td>\n",
       "      <td>0</td>\n",
       "      <td>0</td>\n",
       "      <td>0</td>\n",
       "      <td>0</td>\n",
       "      <td>0</td>\n",
       "      <td>...</td>\n",
       "      <td>0</td>\n",
       "      <td>0</td>\n",
       "      <td>0</td>\n",
       "      <td>0</td>\n",
       "      <td>1</td>\n",
       "      <td>0</td>\n",
       "      <td>0</td>\n",
       "      <td>0</td>\n",
       "      <td>0</td>\n",
       "      <td>0</td>\n",
       "    </tr>\n",
       "  </tbody>\n",
       "</table>\n",
       "<p>2102 rows × 33 columns</p>\n",
       "</div>"
      ],
      "text/plain": [
       "      temperature  density  resp_density  metal_Ce  metal_Er  metal_Eu  \\\n",
       "33            200      100         0.003         0         0         0   \n",
       "9636          200      300         0.003         0         1         0   \n",
       "5009          150     1000         0.004         0         0         0   \n",
       "4404          200      100         0.005         0         0         0   \n",
       "4626           50      100         0.003         0         0         0   \n",
       "...           ...      ...           ...       ...       ...       ...   \n",
       "2485          400       50         0.003         0         0         0   \n",
       "9050         1000      350         0.003         0         0         0   \n",
       "7857          100       50         0.001         0         0         0   \n",
       "9139         1000      300         0.005         0         0         1   \n",
       "2287          350       30         0.003         0         0         0   \n",
       "\n",
       "      metal_Gd  metal_Ho  metal_In2O3  metal_La  ...  metal_ox_TiO2  \\\n",
       "33           0         0            0         0  ...              0   \n",
       "9636         0         0            0         0  ...              0   \n",
       "5009         0         0            0         0  ...              1   \n",
       "4404         0         0            0         0  ...              1   \n",
       "4626         0         0            0         0  ...              1   \n",
       "...        ...       ...          ...       ...  ...            ...   \n",
       "2485         0         0            0         0  ...              0   \n",
       "9050         0         1            0         0  ...              0   \n",
       "7857         0         0            0         0  ...              0   \n",
       "9139         0         0            0         0  ...              0   \n",
       "2287         0         0            0         0  ...              0   \n",
       "\n",
       "      metal_ox_wo3  gas_cate_benzene  gas_cate_ch4  gas_cate_diesel_fuel  \\\n",
       "33               0                 0             0                     0   \n",
       "9636             1                 0             0                     0   \n",
       "5009             0                 0             0                     0   \n",
       "4404             0                 0             0                     0   \n",
       "4626             0                 0             0                     0   \n",
       "...            ...               ...           ...                   ...   \n",
       "2485             0                 0             0                     1   \n",
       "9050             1                 0             1                     0   \n",
       "7857             1                 0             0                     0   \n",
       "9139             1                 0             1                     0   \n",
       "2287             0                 0             0                     1   \n",
       "\n",
       "      gas_cate_formaldehyde  gas_cate_gasoline  gas_cate_h2  gas_cate_toluene  \\\n",
       "33                        0                  1            0                 0   \n",
       "9636                      0                  1            0                 0   \n",
       "5009                      0                  0            1                 0   \n",
       "4404                      1                  0            0                 0   \n",
       "4626                      1                  0            0                 0   \n",
       "...                     ...                ...          ...               ...   \n",
       "2485                      0                  0            0                 0   \n",
       "9050                      0                  0            0                 0   \n",
       "7857                      0                  0            0                 0   \n",
       "9139                      0                  0            0                 0   \n",
       "2287                      0                  0            0                 0   \n",
       "\n",
       "      gas_cate_xylene  \n",
       "33                  0  \n",
       "9636                0  \n",
       "5009                0  \n",
       "4404                0  \n",
       "4626                0  \n",
       "...               ...  \n",
       "2485                0  \n",
       "9050                0  \n",
       "7857                1  \n",
       "9139                0  \n",
       "2287                0  \n",
       "\n",
       "[2102 rows x 33 columns]"
      ]
     },
     "execution_count": 40,
     "metadata": {},
     "output_type": "execute_result"
    }
   ],
   "source": [
    "X_test"
   ]
  },
  {
   "cell_type": "code",
   "execution_count": null,
   "metadata": {},
   "outputs": [],
   "source": [
    "X_train_p, X_test_p, y_train_p, y_test_p = train_test_split(x_data, y_data, test_size=0.2, random_state=42)\n",
    "\n",
    "X_train_p = X_train_p.to_numpy()\n",
    "X_test_p = X_test_p.to_numpy()\n",
    "y_train_p = y_train_p.to_numpy()\n",
    "y_test_p = y_test_p.to_numpy()"
   ]
  },
  {
   "cell_type": "code",
   "execution_count": null,
   "metadata": {},
   "outputs": [],
   "source": [
    "from sklearn import preprocessing"
   ]
  },
  {
   "cell_type": "code",
   "execution_count": null,
   "metadata": {},
   "outputs": [],
   "source": [
    "scaler = preprocessing.StandardScaler().fit(X_train_p)"
   ]
  },
  {
   "cell_type": "code",
   "execution_count": null,
   "metadata": {},
   "outputs": [],
   "source": [
    "X_scaled_train = scaler.transform(X_train_p)\n",
    "X_scaled_test = scaler.transform(X_test_p)\n"
   ]
  },
  {
   "cell_type": "code",
   "execution_count": null,
   "metadata": {},
   "outputs": [
    {
     "name": "stderr",
     "output_type": "stream",
     "text": [
      "C:\\Users\\qin95\\AppData\\Local\\Temp\\ipykernel_23768\\4166927877.py:2: DataConversionWarning: A column-vector y was passed when a 1d array was expected. Please change the shape of y to (n_samples,), for example using ravel().\n",
      "  regr.fit(X_train, y_train)\n"
     ]
    },
    {
     "data": {
      "text/plain": [
       "RandomForestRegressor(max_depth=15, random_state=2)"
      ]
     },
     "execution_count": 196,
     "metadata": {},
     "output_type": "execute_result"
    }
   ],
   "source": [
    "regr = RandomForestRegressor(max_depth=15, random_state=2)\n",
    "regr.fit(X_train, y_train)\n",
    "# regr.score(X_scaled_test, y_train)"
   ]
  },
  {
   "cell_type": "markdown",
   "metadata": {},
   "source": []
  },
  {
   "cell_type": "code",
   "execution_count": null,
   "metadata": {},
   "outputs": [
    {
     "data": {
      "text/plain": [
       "0.9647483937892027"
      ]
     },
     "execution_count": 198,
     "metadata": {},
     "output_type": "execute_result"
    }
   ],
   "source": [
    "regr.score(X_train, y_train)"
   ]
  },
  {
   "cell_type": "code",
   "execution_count": 104,
   "metadata": {},
   "outputs": [
    {
     "name": "stdout",
     "output_type": "stream",
     "text": [
      "Fitting 5 folds for each of 243 candidates, totalling 1215 fits\n",
      "[CV 1/5; 1/243] START max_depth=5, min_samples_leaf=2, min_samples_split=5, n_estimators=10, random_state=2\n",
      "[CV 1/5; 1/243] END max_depth=5, min_samples_leaf=2, min_samples_split=5, n_estimators=10, random_state=2;, score=0.711 total time=   0.0s\n",
      "[CV 2/5; 1/243] START max_depth=5, min_samples_leaf=2, min_samples_split=5, n_estimators=10, random_state=2\n",
      "[CV 2/5; 1/243] END max_depth=5, min_samples_leaf=2, min_samples_split=5, n_estimators=10, random_state=2;, score=0.730 total time=   0.0s\n",
      "[CV 3/5; 1/243] START max_depth=5, min_samples_leaf=2, min_samples_split=5, n_estimators=10, random_state=2\n",
      "[CV 3/5; 1/243] END max_depth=5, min_samples_leaf=2, min_samples_split=5, n_estimators=10, random_state=2;, score=0.702 total time=   0.0s\n",
      "[CV 4/5; 1/243] START max_depth=5, min_samples_leaf=2, min_samples_split=5, n_estimators=10, random_state=2\n",
      "[CV 4/5; 1/243] END max_depth=5, min_samples_leaf=2, min_samples_split=5, n_estimators=10, random_state=2;, score=0.471 total time=   0.0s\n",
      "[CV 5/5; 1/243] START max_depth=5, min_samples_leaf=2, min_samples_split=5, n_estimators=10, random_state=2\n"
     ]
    },
    {
     "name": "stderr",
     "output_type": "stream",
     "text": [
      "d:\\Apps\\Anaconda\\lib\\site-packages\\sklearn\\model_selection\\_validation.py:680: DataConversionWarning: A column-vector y was passed when a 1d array was expected. Please change the shape of y to (n_samples,), for example using ravel().\n",
      "  estimator.fit(X_train, y_train, **fit_params)\n",
      "d:\\Apps\\Anaconda\\lib\\site-packages\\sklearn\\model_selection\\_validation.py:680: DataConversionWarning: A column-vector y was passed when a 1d array was expected. Please change the shape of y to (n_samples,), for example using ravel().\n",
      "  estimator.fit(X_train, y_train, **fit_params)\n",
      "d:\\Apps\\Anaconda\\lib\\site-packages\\sklearn\\model_selection\\_validation.py:680: DataConversionWarning: A column-vector y was passed when a 1d array was expected. Please change the shape of y to (n_samples,), for example using ravel().\n",
      "  estimator.fit(X_train, y_train, **fit_params)\n",
      "d:\\Apps\\Anaconda\\lib\\site-packages\\sklearn\\model_selection\\_validation.py:680: DataConversionWarning: A column-vector y was passed when a 1d array was expected. Please change the shape of y to (n_samples,), for example using ravel().\n",
      "  estimator.fit(X_train, y_train, **fit_params)\n",
      "d:\\Apps\\Anaconda\\lib\\site-packages\\sklearn\\model_selection\\_validation.py:680: DataConversionWarning: A column-vector y was passed when a 1d array was expected. Please change the shape of y to (n_samples,), for example using ravel().\n",
      "  estimator.fit(X_train, y_train, **fit_params)\n",
      "d:\\Apps\\Anaconda\\lib\\site-packages\\sklearn\\model_selection\\_validation.py:680: DataConversionWarning: A column-vector y was passed when a 1d array was expected. Please change the shape of y to (n_samples,), for example using ravel().\n",
      "  estimator.fit(X_train, y_train, **fit_params)\n",
      "d:\\Apps\\Anaconda\\lib\\site-packages\\sklearn\\model_selection\\_validation.py:680: DataConversionWarning: A column-vector y was passed when a 1d array was expected. Please change the shape of y to (n_samples,), for example using ravel().\n",
      "  estimator.fit(X_train, y_train, **fit_params)\n",
      "d:\\Apps\\Anaconda\\lib\\site-packages\\sklearn\\model_selection\\_validation.py:680: DataConversionWarning: A column-vector y was passed when a 1d array was expected. Please change the shape of y to (n_samples,), for example using ravel().\n",
      "  estimator.fit(X_train, y_train, **fit_params)\n",
      "d:\\Apps\\Anaconda\\lib\\site-packages\\sklearn\\model_selection\\_validation.py:680: DataConversionWarning: A column-vector y was passed when a 1d array was expected. Please change the shape of y to (n_samples,), for example using ravel().\n",
      "  estimator.fit(X_train, y_train, **fit_params)\n"
     ]
    },
    {
     "name": "stdout",
     "output_type": "stream",
     "text": [
      "[CV 5/5; 1/243] END max_depth=5, min_samples_leaf=2, min_samples_split=5, n_estimators=10, random_state=2;, score=0.549 total time=   0.0s\n",
      "[CV 1/5; 2/243] START max_depth=5, min_samples_leaf=2, min_samples_split=5, n_estimators=10, random_state=4\n",
      "[CV 1/5; 2/243] END max_depth=5, min_samples_leaf=2, min_samples_split=5, n_estimators=10, random_state=4;, score=0.704 total time=   0.0s\n",
      "[CV 2/5; 2/243] START max_depth=5, min_samples_leaf=2, min_samples_split=5, n_estimators=10, random_state=4\n",
      "[CV 2/5; 2/243] END max_depth=5, min_samples_leaf=2, min_samples_split=5, n_estimators=10, random_state=4;, score=0.701 total time=   0.0s\n",
      "[CV 3/5; 2/243] START max_depth=5, min_samples_leaf=2, min_samples_split=5, n_estimators=10, random_state=4\n",
      "[CV 3/5; 2/243] END max_depth=5, min_samples_leaf=2, min_samples_split=5, n_estimators=10, random_state=4;, score=0.637 total time=   0.0s\n",
      "[CV 4/5; 2/243] START max_depth=5, min_samples_leaf=2, min_samples_split=5, n_estimators=10, random_state=4\n",
      "[CV 4/5; 2/243] END max_depth=5, min_samples_leaf=2, min_samples_split=5, n_estimators=10, random_state=4;, score=0.488 total time=   0.0s\n",
      "[CV 5/5; 2/243] START max_depth=5, min_samples_leaf=2, min_samples_split=5, n_estimators=10, random_state=4\n",
      "[CV 5/5; 2/243] END max_depth=5, min_samples_leaf=2, min_samples_split=5, n_estimators=10, random_state=4;, score=0.602 total time=   0.0s\n",
      "[CV 1/5; 3/243] START max_depth=5, min_samples_leaf=2, min_samples_split=5, n_estimators=10, random_state=6\n",
      "[CV 1/5; 3/243] END max_depth=5, min_samples_leaf=2, min_samples_split=5, n_estimators=10, random_state=6;, score=0.708 total time=   0.0s\n",
      "[CV 2/5; 3/243] START max_depth=5, min_samples_leaf=2, min_samples_split=5, n_estimators=10, random_state=6\n",
      "[CV 2/5; 3/243] END max_depth=5, min_samples_leaf=2, min_samples_split=5, n_estimators=10, random_state=6;, score=0.724 total time=   0.0s\n",
      "[CV 3/5; 3/243] START max_depth=5, min_samples_leaf=2, min_samples_split=5, n_estimators=10, random_state=6\n",
      "[CV 3/5; 3/243] END max_depth=5, min_samples_leaf=2, min_samples_split=5, n_estimators=10, random_state=6;, score=0.687 total time=   0.0s\n",
      "[CV 4/5; 3/243] START max_depth=5, min_samples_leaf=2, min_samples_split=5, n_estimators=10, random_state=6\n"
     ]
    },
    {
     "name": "stderr",
     "output_type": "stream",
     "text": [
      "d:\\Apps\\Anaconda\\lib\\site-packages\\sklearn\\model_selection\\_validation.py:680: DataConversionWarning: A column-vector y was passed when a 1d array was expected. Please change the shape of y to (n_samples,), for example using ravel().\n",
      "  estimator.fit(X_train, y_train, **fit_params)\n",
      "d:\\Apps\\Anaconda\\lib\\site-packages\\sklearn\\model_selection\\_validation.py:680: DataConversionWarning: A column-vector y was passed when a 1d array was expected. Please change the shape of y to (n_samples,), for example using ravel().\n",
      "  estimator.fit(X_train, y_train, **fit_params)\n",
      "d:\\Apps\\Anaconda\\lib\\site-packages\\sklearn\\model_selection\\_validation.py:680: DataConversionWarning: A column-vector y was passed when a 1d array was expected. Please change the shape of y to (n_samples,), for example using ravel().\n",
      "  estimator.fit(X_train, y_train, **fit_params)\n",
      "d:\\Apps\\Anaconda\\lib\\site-packages\\sklearn\\model_selection\\_validation.py:680: DataConversionWarning: A column-vector y was passed when a 1d array was expected. Please change the shape of y to (n_samples,), for example using ravel().\n",
      "  estimator.fit(X_train, y_train, **fit_params)\n",
      "d:\\Apps\\Anaconda\\lib\\site-packages\\sklearn\\model_selection\\_validation.py:680: DataConversionWarning: A column-vector y was passed when a 1d array was expected. Please change the shape of y to (n_samples,), for example using ravel().\n",
      "  estimator.fit(X_train, y_train, **fit_params)\n"
     ]
    },
    {
     "name": "stdout",
     "output_type": "stream",
     "text": [
      "[CV 4/5; 3/243] END max_depth=5, min_samples_leaf=2, min_samples_split=5, n_estimators=10, random_state=6;, score=0.385 total time=   0.0s\n",
      "[CV 5/5; 3/243] START max_depth=5, min_samples_leaf=2, min_samples_split=5, n_estimators=10, random_state=6\n",
      "[CV 5/5; 3/243] END max_depth=5, min_samples_leaf=2, min_samples_split=5, n_estimators=10, random_state=6;, score=0.579 total time=   0.0s\n",
      "[CV 1/5; 4/243] START max_depth=5, min_samples_leaf=2, min_samples_split=5, n_estimators=50, random_state=2\n"
     ]
    },
    {
     "name": "stderr",
     "output_type": "stream",
     "text": [
      "d:\\Apps\\Anaconda\\lib\\site-packages\\sklearn\\model_selection\\_validation.py:680: DataConversionWarning: A column-vector y was passed when a 1d array was expected. Please change the shape of y to (n_samples,), for example using ravel().\n",
      "  estimator.fit(X_train, y_train, **fit_params)\n",
      "d:\\Apps\\Anaconda\\lib\\site-packages\\sklearn\\model_selection\\_validation.py:680: DataConversionWarning: A column-vector y was passed when a 1d array was expected. Please change the shape of y to (n_samples,), for example using ravel().\n",
      "  estimator.fit(X_train, y_train, **fit_params)\n"
     ]
    },
    {
     "name": "stdout",
     "output_type": "stream",
     "text": [
      "[CV 1/5; 4/243] END max_depth=5, min_samples_leaf=2, min_samples_split=5, n_estimators=50, random_state=2;, score=0.711 total time=   0.1s\n",
      "[CV 2/5; 4/243] START max_depth=5, min_samples_leaf=2, min_samples_split=5, n_estimators=50, random_state=2\n",
      "[CV 2/5; 4/243] END max_depth=5, min_samples_leaf=2, min_samples_split=5, n_estimators=50, random_state=2;, score=0.720 total time=   0.1s\n",
      "[CV 3/5; 4/243] START max_depth=5, min_samples_leaf=2, min_samples_split=5, n_estimators=50, random_state=2\n"
     ]
    },
    {
     "name": "stderr",
     "output_type": "stream",
     "text": [
      "d:\\Apps\\Anaconda\\lib\\site-packages\\sklearn\\model_selection\\_validation.py:680: DataConversionWarning: A column-vector y was passed when a 1d array was expected. Please change the shape of y to (n_samples,), for example using ravel().\n",
      "  estimator.fit(X_train, y_train, **fit_params)\n",
      "d:\\Apps\\Anaconda\\lib\\site-packages\\sklearn\\model_selection\\_validation.py:680: DataConversionWarning: A column-vector y was passed when a 1d array was expected. Please change the shape of y to (n_samples,), for example using ravel().\n",
      "  estimator.fit(X_train, y_train, **fit_params)\n"
     ]
    },
    {
     "name": "stdout",
     "output_type": "stream",
     "text": [
      "[CV 3/5; 4/243] END max_depth=5, min_samples_leaf=2, min_samples_split=5, n_estimators=50, random_state=2;, score=0.667 total time=   0.1s\n",
      "[CV 4/5; 4/243] START max_depth=5, min_samples_leaf=2, min_samples_split=5, n_estimators=50, random_state=2\n",
      "[CV 4/5; 4/243] END max_depth=5, min_samples_leaf=2, min_samples_split=5, n_estimators=50, random_state=2;, score=0.461 total time=   0.1s\n",
      "[CV 5/5; 4/243] START max_depth=5, min_samples_leaf=2, min_samples_split=5, n_estimators=50, random_state=2\n"
     ]
    },
    {
     "name": "stderr",
     "output_type": "stream",
     "text": [
      "d:\\Apps\\Anaconda\\lib\\site-packages\\sklearn\\model_selection\\_validation.py:680: DataConversionWarning: A column-vector y was passed when a 1d array was expected. Please change the shape of y to (n_samples,), for example using ravel().\n",
      "  estimator.fit(X_train, y_train, **fit_params)\n"
     ]
    },
    {
     "name": "stdout",
     "output_type": "stream",
     "text": [
      "[CV 5/5; 4/243] END max_depth=5, min_samples_leaf=2, min_samples_split=5, n_estimators=50, random_state=2;, score=0.576 total time=   0.1s\n",
      "[CV 1/5; 5/243] START max_depth=5, min_samples_leaf=2, min_samples_split=5, n_estimators=50, random_state=4\n"
     ]
    },
    {
     "name": "stderr",
     "output_type": "stream",
     "text": [
      "d:\\Apps\\Anaconda\\lib\\site-packages\\sklearn\\model_selection\\_validation.py:680: DataConversionWarning: A column-vector y was passed when a 1d array was expected. Please change the shape of y to (n_samples,), for example using ravel().\n",
      "  estimator.fit(X_train, y_train, **fit_params)\n",
      "d:\\Apps\\Anaconda\\lib\\site-packages\\sklearn\\model_selection\\_validation.py:680: DataConversionWarning: A column-vector y was passed when a 1d array was expected. Please change the shape of y to (n_samples,), for example using ravel().\n",
      "  estimator.fit(X_train, y_train, **fit_params)\n"
     ]
    },
    {
     "name": "stdout",
     "output_type": "stream",
     "text": [
      "[CV 1/5; 5/243] END max_depth=5, min_samples_leaf=2, min_samples_split=5, n_estimators=50, random_state=4;, score=0.702 total time=   0.1s\n",
      "[CV 2/5; 5/243] START max_depth=5, min_samples_leaf=2, min_samples_split=5, n_estimators=50, random_state=4\n",
      "[CV 2/5; 5/243] END max_depth=5, min_samples_leaf=2, min_samples_split=5, n_estimators=50, random_state=4;, score=0.709 total time=   0.1s\n",
      "[CV 3/5; 5/243] START max_depth=5, min_samples_leaf=2, min_samples_split=5, n_estimators=50, random_state=4\n"
     ]
    },
    {
     "name": "stderr",
     "output_type": "stream",
     "text": [
      "d:\\Apps\\Anaconda\\lib\\site-packages\\sklearn\\model_selection\\_validation.py:680: DataConversionWarning: A column-vector y was passed when a 1d array was expected. Please change the shape of y to (n_samples,), for example using ravel().\n",
      "  estimator.fit(X_train, y_train, **fit_params)\n",
      "d:\\Apps\\Anaconda\\lib\\site-packages\\sklearn\\model_selection\\_validation.py:680: DataConversionWarning: A column-vector y was passed when a 1d array was expected. Please change the shape of y to (n_samples,), for example using ravel().\n",
      "  estimator.fit(X_train, y_train, **fit_params)\n"
     ]
    },
    {
     "name": "stdout",
     "output_type": "stream",
     "text": [
      "[CV 3/5; 5/243] END max_depth=5, min_samples_leaf=2, min_samples_split=5, n_estimators=50, random_state=4;, score=0.646 total time=   0.1s\n",
      "[CV 4/5; 5/243] START max_depth=5, min_samples_leaf=2, min_samples_split=5, n_estimators=50, random_state=4\n",
      "[CV 4/5; 5/243] END max_depth=5, min_samples_leaf=2, min_samples_split=5, n_estimators=50, random_state=4;, score=0.491 total time=   0.1s\n",
      "[CV 5/5; 5/243] START max_depth=5, min_samples_leaf=2, min_samples_split=5, n_estimators=50, random_state=4\n"
     ]
    },
    {
     "name": "stderr",
     "output_type": "stream",
     "text": [
      "d:\\Apps\\Anaconda\\lib\\site-packages\\sklearn\\model_selection\\_validation.py:680: DataConversionWarning: A column-vector y was passed when a 1d array was expected. Please change the shape of y to (n_samples,), for example using ravel().\n",
      "  estimator.fit(X_train, y_train, **fit_params)\n",
      "d:\\Apps\\Anaconda\\lib\\site-packages\\sklearn\\model_selection\\_validation.py:680: DataConversionWarning: A column-vector y was passed when a 1d array was expected. Please change the shape of y to (n_samples,), for example using ravel().\n",
      "  estimator.fit(X_train, y_train, **fit_params)\n"
     ]
    },
    {
     "name": "stdout",
     "output_type": "stream",
     "text": [
      "[CV 5/5; 5/243] END max_depth=5, min_samples_leaf=2, min_samples_split=5, n_estimators=50, random_state=4;, score=0.573 total time=   0.1s\n",
      "[CV 1/5; 6/243] START max_depth=5, min_samples_leaf=2, min_samples_split=5, n_estimators=50, random_state=6\n",
      "[CV 1/5; 6/243] END max_depth=5, min_samples_leaf=2, min_samples_split=5, n_estimators=50, random_state=6;, score=0.724 total time=   0.1s\n",
      "[CV 2/5; 6/243] START max_depth=5, min_samples_leaf=2, min_samples_split=5, n_estimators=50, random_state=6\n"
     ]
    },
    {
     "name": "stderr",
     "output_type": "stream",
     "text": [
      "d:\\Apps\\Anaconda\\lib\\site-packages\\sklearn\\model_selection\\_validation.py:680: DataConversionWarning: A column-vector y was passed when a 1d array was expected. Please change the shape of y to (n_samples,), for example using ravel().\n",
      "  estimator.fit(X_train, y_train, **fit_params)\n",
      "d:\\Apps\\Anaconda\\lib\\site-packages\\sklearn\\model_selection\\_validation.py:680: DataConversionWarning: A column-vector y was passed when a 1d array was expected. Please change the shape of y to (n_samples,), for example using ravel().\n",
      "  estimator.fit(X_train, y_train, **fit_params)\n"
     ]
    },
    {
     "name": "stdout",
     "output_type": "stream",
     "text": [
      "[CV 2/5; 6/243] END max_depth=5, min_samples_leaf=2, min_samples_split=5, n_estimators=50, random_state=6;, score=0.721 total time=   0.1s\n",
      "[CV 3/5; 6/243] START max_depth=5, min_samples_leaf=2, min_samples_split=5, n_estimators=50, random_state=6\n",
      "[CV 3/5; 6/243] END max_depth=5, min_samples_leaf=2, min_samples_split=5, n_estimators=50, random_state=6;, score=0.654 total time=   0.1s\n",
      "[CV 4/5; 6/243] START max_depth=5, min_samples_leaf=2, min_samples_split=5, n_estimators=50, random_state=6\n"
     ]
    },
    {
     "name": "stderr",
     "output_type": "stream",
     "text": [
      "d:\\Apps\\Anaconda\\lib\\site-packages\\sklearn\\model_selection\\_validation.py:680: DataConversionWarning: A column-vector y was passed when a 1d array was expected. Please change the shape of y to (n_samples,), for example using ravel().\n",
      "  estimator.fit(X_train, y_train, **fit_params)\n",
      "d:\\Apps\\Anaconda\\lib\\site-packages\\sklearn\\model_selection\\_validation.py:680: DataConversionWarning: A column-vector y was passed when a 1d array was expected. Please change the shape of y to (n_samples,), for example using ravel().\n",
      "  estimator.fit(X_train, y_train, **fit_params)\n"
     ]
    },
    {
     "name": "stdout",
     "output_type": "stream",
     "text": [
      "[CV 4/5; 6/243] END max_depth=5, min_samples_leaf=2, min_samples_split=5, n_estimators=50, random_state=6;, score=0.440 total time=   0.1s\n",
      "[CV 5/5; 6/243] START max_depth=5, min_samples_leaf=2, min_samples_split=5, n_estimators=50, random_state=6\n"
     ]
    },
    {
     "name": "stderr",
     "output_type": "stream",
     "text": [
      "d:\\Apps\\Anaconda\\lib\\site-packages\\sklearn\\model_selection\\_validation.py:680: DataConversionWarning: A column-vector y was passed when a 1d array was expected. Please change the shape of y to (n_samples,), for example using ravel().\n",
      "  estimator.fit(X_train, y_train, **fit_params)\n"
     ]
    },
    {
     "name": "stdout",
     "output_type": "stream",
     "text": [
      "[CV 5/5; 6/243] END max_depth=5, min_samples_leaf=2, min_samples_split=5, n_estimators=50, random_state=6;, score=0.569 total time=   0.1s\n",
      "[CV 1/5; 7/243] START max_depth=5, min_samples_leaf=2, min_samples_split=5, n_estimators=100, random_state=2\n"
     ]
    },
    {
     "name": "stderr",
     "output_type": "stream",
     "text": [
      "d:\\Apps\\Anaconda\\lib\\site-packages\\sklearn\\model_selection\\_validation.py:680: DataConversionWarning: A column-vector y was passed when a 1d array was expected. Please change the shape of y to (n_samples,), for example using ravel().\n",
      "  estimator.fit(X_train, y_train, **fit_params)\n"
     ]
    },
    {
     "name": "stdout",
     "output_type": "stream",
     "text": [
      "[CV 1/5; 7/243] END max_depth=5, min_samples_leaf=2, min_samples_split=5, n_estimators=100, random_state=2;, score=0.705 total time=   0.3s\n",
      "[CV 2/5; 7/243] START max_depth=5, min_samples_leaf=2, min_samples_split=5, n_estimators=100, random_state=2\n"
     ]
    },
    {
     "name": "stderr",
     "output_type": "stream",
     "text": [
      "d:\\Apps\\Anaconda\\lib\\site-packages\\sklearn\\model_selection\\_validation.py:680: DataConversionWarning: A column-vector y was passed when a 1d array was expected. Please change the shape of y to (n_samples,), for example using ravel().\n",
      "  estimator.fit(X_train, y_train, **fit_params)\n"
     ]
    },
    {
     "name": "stdout",
     "output_type": "stream",
     "text": [
      "[CV 2/5; 7/243] END max_depth=5, min_samples_leaf=2, min_samples_split=5, n_estimators=100, random_state=2;, score=0.718 total time=   0.3s\n",
      "[CV 3/5; 7/243] START max_depth=5, min_samples_leaf=2, min_samples_split=5, n_estimators=100, random_state=2\n"
     ]
    },
    {
     "name": "stderr",
     "output_type": "stream",
     "text": [
      "d:\\Apps\\Anaconda\\lib\\site-packages\\sklearn\\model_selection\\_validation.py:680: DataConversionWarning: A column-vector y was passed when a 1d array was expected. Please change the shape of y to (n_samples,), for example using ravel().\n",
      "  estimator.fit(X_train, y_train, **fit_params)\n"
     ]
    },
    {
     "name": "stdout",
     "output_type": "stream",
     "text": [
      "[CV 3/5; 7/243] END max_depth=5, min_samples_leaf=2, min_samples_split=5, n_estimators=100, random_state=2;, score=0.653 total time=   0.3s\n",
      "[CV 4/5; 7/243] START max_depth=5, min_samples_leaf=2, min_samples_split=5, n_estimators=100, random_state=2\n"
     ]
    },
    {
     "name": "stderr",
     "output_type": "stream",
     "text": [
      "d:\\Apps\\Anaconda\\lib\\site-packages\\sklearn\\model_selection\\_validation.py:680: DataConversionWarning: A column-vector y was passed when a 1d array was expected. Please change the shape of y to (n_samples,), for example using ravel().\n",
      "  estimator.fit(X_train, y_train, **fit_params)\n"
     ]
    },
    {
     "name": "stdout",
     "output_type": "stream",
     "text": [
      "[CV 4/5; 7/243] END max_depth=5, min_samples_leaf=2, min_samples_split=5, n_estimators=100, random_state=2;, score=0.471 total time=   0.3s\n",
      "[CV 5/5; 7/243] START max_depth=5, min_samples_leaf=2, min_samples_split=5, n_estimators=100, random_state=2\n"
     ]
    },
    {
     "name": "stderr",
     "output_type": "stream",
     "text": [
      "d:\\Apps\\Anaconda\\lib\\site-packages\\sklearn\\model_selection\\_validation.py:680: DataConversionWarning: A column-vector y was passed when a 1d array was expected. Please change the shape of y to (n_samples,), for example using ravel().\n",
      "  estimator.fit(X_train, y_train, **fit_params)\n"
     ]
    },
    {
     "name": "stdout",
     "output_type": "stream",
     "text": [
      "[CV 5/5; 7/243] END max_depth=5, min_samples_leaf=2, min_samples_split=5, n_estimators=100, random_state=2;, score=0.579 total time=   0.3s\n",
      "[CV 1/5; 8/243] START max_depth=5, min_samples_leaf=2, min_samples_split=5, n_estimators=100, random_state=4\n"
     ]
    },
    {
     "name": "stderr",
     "output_type": "stream",
     "text": [
      "d:\\Apps\\Anaconda\\lib\\site-packages\\sklearn\\model_selection\\_validation.py:680: DataConversionWarning: A column-vector y was passed when a 1d array was expected. Please change the shape of y to (n_samples,), for example using ravel().\n",
      "  estimator.fit(X_train, y_train, **fit_params)\n"
     ]
    },
    {
     "name": "stdout",
     "output_type": "stream",
     "text": [
      "[CV 1/5; 8/243] END max_depth=5, min_samples_leaf=2, min_samples_split=5, n_estimators=100, random_state=4;, score=0.711 total time=   0.3s\n",
      "[CV 2/5; 8/243] START max_depth=5, min_samples_leaf=2, min_samples_split=5, n_estimators=100, random_state=4\n"
     ]
    },
    {
     "name": "stderr",
     "output_type": "stream",
     "text": [
      "d:\\Apps\\Anaconda\\lib\\site-packages\\sklearn\\model_selection\\_validation.py:680: DataConversionWarning: A column-vector y was passed when a 1d array was expected. Please change the shape of y to (n_samples,), for example using ravel().\n",
      "  estimator.fit(X_train, y_train, **fit_params)\n"
     ]
    },
    {
     "name": "stdout",
     "output_type": "stream",
     "text": [
      "[CV 2/5; 8/243] END max_depth=5, min_samples_leaf=2, min_samples_split=5, n_estimators=100, random_state=4;, score=0.716 total time=   0.3s\n",
      "[CV 3/5; 8/243] START max_depth=5, min_samples_leaf=2, min_samples_split=5, n_estimators=100, random_state=4\n"
     ]
    },
    {
     "name": "stderr",
     "output_type": "stream",
     "text": [
      "d:\\Apps\\Anaconda\\lib\\site-packages\\sklearn\\model_selection\\_validation.py:680: DataConversionWarning: A column-vector y was passed when a 1d array was expected. Please change the shape of y to (n_samples,), for example using ravel().\n",
      "  estimator.fit(X_train, y_train, **fit_params)\n"
     ]
    },
    {
     "name": "stdout",
     "output_type": "stream",
     "text": [
      "[CV 3/5; 8/243] END max_depth=5, min_samples_leaf=2, min_samples_split=5, n_estimators=100, random_state=4;, score=0.659 total time=   0.3s\n",
      "[CV 4/5; 8/243] START max_depth=5, min_samples_leaf=2, min_samples_split=5, n_estimators=100, random_state=4\n"
     ]
    },
    {
     "name": "stderr",
     "output_type": "stream",
     "text": [
      "d:\\Apps\\Anaconda\\lib\\site-packages\\sklearn\\model_selection\\_validation.py:680: DataConversionWarning: A column-vector y was passed when a 1d array was expected. Please change the shape of y to (n_samples,), for example using ravel().\n",
      "  estimator.fit(X_train, y_train, **fit_params)\n"
     ]
    },
    {
     "name": "stdout",
     "output_type": "stream",
     "text": [
      "[CV 4/5; 8/243] END max_depth=5, min_samples_leaf=2, min_samples_split=5, n_estimators=100, random_state=4;, score=0.416 total time=   0.3s\n",
      "[CV 5/5; 8/243] START max_depth=5, min_samples_leaf=2, min_samples_split=5, n_estimators=100, random_state=4\n"
     ]
    },
    {
     "name": "stderr",
     "output_type": "stream",
     "text": [
      "d:\\Apps\\Anaconda\\lib\\site-packages\\sklearn\\model_selection\\_validation.py:680: DataConversionWarning: A column-vector y was passed when a 1d array was expected. Please change the shape of y to (n_samples,), for example using ravel().\n",
      "  estimator.fit(X_train, y_train, **fit_params)\n"
     ]
    },
    {
     "name": "stdout",
     "output_type": "stream",
     "text": [
      "[CV 5/5; 8/243] END max_depth=5, min_samples_leaf=2, min_samples_split=5, n_estimators=100, random_state=4;, score=0.571 total time=   0.3s\n",
      "[CV 1/5; 9/243] START max_depth=5, min_samples_leaf=2, min_samples_split=5, n_estimators=100, random_state=6\n"
     ]
    },
    {
     "name": "stderr",
     "output_type": "stream",
     "text": [
      "d:\\Apps\\Anaconda\\lib\\site-packages\\sklearn\\model_selection\\_validation.py:680: DataConversionWarning: A column-vector y was passed when a 1d array was expected. Please change the shape of y to (n_samples,), for example using ravel().\n",
      "  estimator.fit(X_train, y_train, **fit_params)\n"
     ]
    },
    {
     "name": "stdout",
     "output_type": "stream",
     "text": [
      "[CV 1/5; 9/243] END max_depth=5, min_samples_leaf=2, min_samples_split=5, n_estimators=100, random_state=6;, score=0.717 total time=   0.3s\n",
      "[CV 2/5; 9/243] START max_depth=5, min_samples_leaf=2, min_samples_split=5, n_estimators=100, random_state=6\n"
     ]
    },
    {
     "name": "stderr",
     "output_type": "stream",
     "text": [
      "d:\\Apps\\Anaconda\\lib\\site-packages\\sklearn\\model_selection\\_validation.py:680: DataConversionWarning: A column-vector y was passed when a 1d array was expected. Please change the shape of y to (n_samples,), for example using ravel().\n",
      "  estimator.fit(X_train, y_train, **fit_params)\n"
     ]
    },
    {
     "name": "stdout",
     "output_type": "stream",
     "text": [
      "[CV 2/5; 9/243] END max_depth=5, min_samples_leaf=2, min_samples_split=5, n_estimators=100, random_state=6;, score=0.716 total time=   0.3s\n",
      "[CV 3/5; 9/243] START max_depth=5, min_samples_leaf=2, min_samples_split=5, n_estimators=100, random_state=6\n"
     ]
    },
    {
     "name": "stderr",
     "output_type": "stream",
     "text": [
      "d:\\Apps\\Anaconda\\lib\\site-packages\\sklearn\\model_selection\\_validation.py:680: DataConversionWarning: A column-vector y was passed when a 1d array was expected. Please change the shape of y to (n_samples,), for example using ravel().\n",
      "  estimator.fit(X_train, y_train, **fit_params)\n"
     ]
    },
    {
     "name": "stdout",
     "output_type": "stream",
     "text": [
      "[CV 3/5; 9/243] END max_depth=5, min_samples_leaf=2, min_samples_split=5, n_estimators=100, random_state=6;, score=0.659 total time=   0.3s\n",
      "[CV 4/5; 9/243] START max_depth=5, min_samples_leaf=2, min_samples_split=5, n_estimators=100, random_state=6\n"
     ]
    },
    {
     "name": "stderr",
     "output_type": "stream",
     "text": [
      "d:\\Apps\\Anaconda\\lib\\site-packages\\sklearn\\model_selection\\_validation.py:680: DataConversionWarning: A column-vector y was passed when a 1d array was expected. Please change the shape of y to (n_samples,), for example using ravel().\n",
      "  estimator.fit(X_train, y_train, **fit_params)\n"
     ]
    },
    {
     "name": "stdout",
     "output_type": "stream",
     "text": [
      "[CV 4/5; 9/243] END max_depth=5, min_samples_leaf=2, min_samples_split=5, n_estimators=100, random_state=6;, score=0.483 total time=   0.3s\n",
      "[CV 5/5; 9/243] START max_depth=5, min_samples_leaf=2, min_samples_split=5, n_estimators=100, random_state=6\n"
     ]
    },
    {
     "name": "stderr",
     "output_type": "stream",
     "text": [
      "d:\\Apps\\Anaconda\\lib\\site-packages\\sklearn\\model_selection\\_validation.py:680: DataConversionWarning: A column-vector y was passed when a 1d array was expected. Please change the shape of y to (n_samples,), for example using ravel().\n",
      "  estimator.fit(X_train, y_train, **fit_params)\n"
     ]
    },
    {
     "name": "stdout",
     "output_type": "stream",
     "text": [
      "[CV 5/5; 9/243] END max_depth=5, min_samples_leaf=2, min_samples_split=5, n_estimators=100, random_state=6;, score=0.572 total time=   0.3s\n",
      "[CV 1/5; 10/243] START max_depth=5, min_samples_leaf=2, min_samples_split=10, n_estimators=10, random_state=2\n",
      "[CV 1/5; 10/243] END max_depth=5, min_samples_leaf=2, min_samples_split=10, n_estimators=10, random_state=2;, score=0.707 total time=   0.0s\n",
      "[CV 2/5; 10/243] START max_depth=5, min_samples_leaf=2, min_samples_split=10, n_estimators=10, random_state=2\n",
      "[CV 2/5; 10/243] END max_depth=5, min_samples_leaf=2, min_samples_split=10, n_estimators=10, random_state=2;, score=0.747 total time=   0.0s\n",
      "[CV 3/5; 10/243] START max_depth=5, min_samples_leaf=2, min_samples_split=10, n_estimators=10, random_state=2\n",
      "[CV 3/5; 10/243] END max_depth=5, min_samples_leaf=2, min_samples_split=10, n_estimators=10, random_state=2;, score=0.606 total time=   0.0s\n",
      "[CV 4/5; 10/243] START max_depth=5, min_samples_leaf=2, min_samples_split=10, n_estimators=10, random_state=2\n",
      "[CV 4/5; 10/243] END max_depth=5, min_samples_leaf=2, min_samples_split=10, n_estimators=10, random_state=2;, score=0.375 total time=   0.0s\n",
      "[CV 5/5; 10/243] START max_depth=5, min_samples_leaf=2, min_samples_split=10, n_estimators=10, random_state=2\n"
     ]
    },
    {
     "name": "stderr",
     "output_type": "stream",
     "text": [
      "d:\\Apps\\Anaconda\\lib\\site-packages\\sklearn\\model_selection\\_validation.py:680: DataConversionWarning: A column-vector y was passed when a 1d array was expected. Please change the shape of y to (n_samples,), for example using ravel().\n",
      "  estimator.fit(X_train, y_train, **fit_params)\n",
      "d:\\Apps\\Anaconda\\lib\\site-packages\\sklearn\\model_selection\\_validation.py:680: DataConversionWarning: A column-vector y was passed when a 1d array was expected. Please change the shape of y to (n_samples,), for example using ravel().\n",
      "  estimator.fit(X_train, y_train, **fit_params)\n",
      "d:\\Apps\\Anaconda\\lib\\site-packages\\sklearn\\model_selection\\_validation.py:680: DataConversionWarning: A column-vector y was passed when a 1d array was expected. Please change the shape of y to (n_samples,), for example using ravel().\n",
      "  estimator.fit(X_train, y_train, **fit_params)\n",
      "d:\\Apps\\Anaconda\\lib\\site-packages\\sklearn\\model_selection\\_validation.py:680: DataConversionWarning: A column-vector y was passed when a 1d array was expected. Please change the shape of y to (n_samples,), for example using ravel().\n",
      "  estimator.fit(X_train, y_train, **fit_params)\n",
      "d:\\Apps\\Anaconda\\lib\\site-packages\\sklearn\\model_selection\\_validation.py:680: DataConversionWarning: A column-vector y was passed when a 1d array was expected. Please change the shape of y to (n_samples,), for example using ravel().\n",
      "  estimator.fit(X_train, y_train, **fit_params)\n"
     ]
    },
    {
     "name": "stdout",
     "output_type": "stream",
     "text": [
      "[CV 5/5; 10/243] END max_depth=5, min_samples_leaf=2, min_samples_split=10, n_estimators=10, random_state=2;, score=0.549 total time=   0.0s\n",
      "[CV 1/5; 11/243] START max_depth=5, min_samples_leaf=2, min_samples_split=10, n_estimators=10, random_state=4\n",
      "[CV 1/5; 11/243] END max_depth=5, min_samples_leaf=2, min_samples_split=10, n_estimators=10, random_state=4;, score=0.708 total time=   0.0s\n",
      "[CV 2/5; 11/243] START max_depth=5, min_samples_leaf=2, min_samples_split=10, n_estimators=10, random_state=4\n",
      "[CV 2/5; 11/243] END max_depth=5, min_samples_leaf=2, min_samples_split=10, n_estimators=10, random_state=4;, score=0.710 total time=   0.0s\n",
      "[CV 3/5; 11/243] START max_depth=5, min_samples_leaf=2, min_samples_split=10, n_estimators=10, random_state=4\n",
      "[CV 3/5; 11/243] END max_depth=5, min_samples_leaf=2, min_samples_split=10, n_estimators=10, random_state=4;, score=0.608 total time=   0.0s\n",
      "[CV 4/5; 11/243] START max_depth=5, min_samples_leaf=2, min_samples_split=10, n_estimators=10, random_state=4\n",
      "[CV 4/5; 11/243] END max_depth=5, min_samples_leaf=2, min_samples_split=10, n_estimators=10, random_state=4;, score=0.498 total time=   0.0s\n",
      "[CV 5/5; 11/243] START max_depth=5, min_samples_leaf=2, min_samples_split=10, n_estimators=10, random_state=4\n"
     ]
    },
    {
     "name": "stderr",
     "output_type": "stream",
     "text": [
      "d:\\Apps\\Anaconda\\lib\\site-packages\\sklearn\\model_selection\\_validation.py:680: DataConversionWarning: A column-vector y was passed when a 1d array was expected. Please change the shape of y to (n_samples,), for example using ravel().\n",
      "  estimator.fit(X_train, y_train, **fit_params)\n",
      "d:\\Apps\\Anaconda\\lib\\site-packages\\sklearn\\model_selection\\_validation.py:680: DataConversionWarning: A column-vector y was passed when a 1d array was expected. Please change the shape of y to (n_samples,), for example using ravel().\n",
      "  estimator.fit(X_train, y_train, **fit_params)\n",
      "d:\\Apps\\Anaconda\\lib\\site-packages\\sklearn\\model_selection\\_validation.py:680: DataConversionWarning: A column-vector y was passed when a 1d array was expected. Please change the shape of y to (n_samples,), for example using ravel().\n",
      "  estimator.fit(X_train, y_train, **fit_params)\n",
      "d:\\Apps\\Anaconda\\lib\\site-packages\\sklearn\\model_selection\\_validation.py:680: DataConversionWarning: A column-vector y was passed when a 1d array was expected. Please change the shape of y to (n_samples,), for example using ravel().\n",
      "  estimator.fit(X_train, y_train, **fit_params)\n",
      "d:\\Apps\\Anaconda\\lib\\site-packages\\sklearn\\model_selection\\_validation.py:680: DataConversionWarning: A column-vector y was passed when a 1d array was expected. Please change the shape of y to (n_samples,), for example using ravel().\n",
      "  estimator.fit(X_train, y_train, **fit_params)\n"
     ]
    },
    {
     "name": "stdout",
     "output_type": "stream",
     "text": [
      "[CV 5/5; 11/243] END max_depth=5, min_samples_leaf=2, min_samples_split=10, n_estimators=10, random_state=4;, score=0.606 total time=   0.0s\n",
      "[CV 1/5; 12/243] START max_depth=5, min_samples_leaf=2, min_samples_split=10, n_estimators=10, random_state=6\n",
      "[CV 1/5; 12/243] END max_depth=5, min_samples_leaf=2, min_samples_split=10, n_estimators=10, random_state=6;, score=0.708 total time=   0.0s\n",
      "[CV 2/5; 12/243] START max_depth=5, min_samples_leaf=2, min_samples_split=10, n_estimators=10, random_state=6\n",
      "[CV 2/5; 12/243] END max_depth=5, min_samples_leaf=2, min_samples_split=10, n_estimators=10, random_state=6;, score=0.712 total time=   0.0s\n",
      "[CV 3/5; 12/243] START max_depth=5, min_samples_leaf=2, min_samples_split=10, n_estimators=10, random_state=6\n",
      "[CV 3/5; 12/243] END max_depth=5, min_samples_leaf=2, min_samples_split=10, n_estimators=10, random_state=6;, score=0.697 total time=   0.0s\n",
      "[CV 4/5; 12/243] START max_depth=5, min_samples_leaf=2, min_samples_split=10, n_estimators=10, random_state=6\n",
      "[CV 4/5; 12/243] END max_depth=5, min_samples_leaf=2, min_samples_split=10, n_estimators=10, random_state=6;, score=0.365 total time=   0.0s\n",
      "[CV 5/5; 12/243] START max_depth=5, min_samples_leaf=2, min_samples_split=10, n_estimators=10, random_state=6\n"
     ]
    },
    {
     "name": "stderr",
     "output_type": "stream",
     "text": [
      "d:\\Apps\\Anaconda\\lib\\site-packages\\sklearn\\model_selection\\_validation.py:680: DataConversionWarning: A column-vector y was passed when a 1d array was expected. Please change the shape of y to (n_samples,), for example using ravel().\n",
      "  estimator.fit(X_train, y_train, **fit_params)\n",
      "d:\\Apps\\Anaconda\\lib\\site-packages\\sklearn\\model_selection\\_validation.py:680: DataConversionWarning: A column-vector y was passed when a 1d array was expected. Please change the shape of y to (n_samples,), for example using ravel().\n",
      "  estimator.fit(X_train, y_train, **fit_params)\n",
      "d:\\Apps\\Anaconda\\lib\\site-packages\\sklearn\\model_selection\\_validation.py:680: DataConversionWarning: A column-vector y was passed when a 1d array was expected. Please change the shape of y to (n_samples,), for example using ravel().\n",
      "  estimator.fit(X_train, y_train, **fit_params)\n",
      "d:\\Apps\\Anaconda\\lib\\site-packages\\sklearn\\model_selection\\_validation.py:680: DataConversionWarning: A column-vector y was passed when a 1d array was expected. Please change the shape of y to (n_samples,), for example using ravel().\n",
      "  estimator.fit(X_train, y_train, **fit_params)\n",
      "d:\\Apps\\Anaconda\\lib\\site-packages\\sklearn\\model_selection\\_validation.py:680: DataConversionWarning: A column-vector y was passed when a 1d array was expected. Please change the shape of y to (n_samples,), for example using ravel().\n",
      "  estimator.fit(X_train, y_train, **fit_params)\n"
     ]
    },
    {
     "name": "stdout",
     "output_type": "stream",
     "text": [
      "[CV 5/5; 12/243] END max_depth=5, min_samples_leaf=2, min_samples_split=10, n_estimators=10, random_state=6;, score=0.554 total time=   0.0s\n",
      "[CV 1/5; 13/243] START max_depth=5, min_samples_leaf=2, min_samples_split=10, n_estimators=50, random_state=2\n"
     ]
    },
    {
     "name": "stderr",
     "output_type": "stream",
     "text": [
      "d:\\Apps\\Anaconda\\lib\\site-packages\\sklearn\\model_selection\\_validation.py:680: DataConversionWarning: A column-vector y was passed when a 1d array was expected. Please change the shape of y to (n_samples,), for example using ravel().\n",
      "  estimator.fit(X_train, y_train, **fit_params)\n"
     ]
    },
    {
     "name": "stdout",
     "output_type": "stream",
     "text": [
      "[CV 1/5; 13/243] END max_depth=5, min_samples_leaf=2, min_samples_split=10, n_estimators=50, random_state=2;, score=0.718 total time=   0.1s\n",
      "[CV 2/5; 13/243] START max_depth=5, min_samples_leaf=2, min_samples_split=10, n_estimators=50, random_state=2\n",
      "[CV 2/5; 13/243] END max_depth=5, min_samples_leaf=2, min_samples_split=10, n_estimators=50, random_state=2;, score=0.731 total time=   0.1s\n",
      "[CV 3/5; 13/243] START max_depth=5, min_samples_leaf=2, min_samples_split=10, n_estimators=50, random_state=2\n"
     ]
    },
    {
     "name": "stderr",
     "output_type": "stream",
     "text": [
      "d:\\Apps\\Anaconda\\lib\\site-packages\\sklearn\\model_selection\\_validation.py:680: DataConversionWarning: A column-vector y was passed when a 1d array was expected. Please change the shape of y to (n_samples,), for example using ravel().\n",
      "  estimator.fit(X_train, y_train, **fit_params)\n",
      "d:\\Apps\\Anaconda\\lib\\site-packages\\sklearn\\model_selection\\_validation.py:680: DataConversionWarning: A column-vector y was passed when a 1d array was expected. Please change the shape of y to (n_samples,), for example using ravel().\n",
      "  estimator.fit(X_train, y_train, **fit_params)\n"
     ]
    },
    {
     "name": "stdout",
     "output_type": "stream",
     "text": [
      "[CV 3/5; 13/243] END max_depth=5, min_samples_leaf=2, min_samples_split=10, n_estimators=50, random_state=2;, score=0.639 total time=   0.1s\n",
      "[CV 4/5; 13/243] START max_depth=5, min_samples_leaf=2, min_samples_split=10, n_estimators=50, random_state=2\n",
      "[CV 4/5; 13/243] END max_depth=5, min_samples_leaf=2, min_samples_split=10, n_estimators=50, random_state=2;, score=0.386 total time=   0.1s\n"
     ]
    },
    {
     "name": "stderr",
     "output_type": "stream",
     "text": [
      "d:\\Apps\\Anaconda\\lib\\site-packages\\sklearn\\model_selection\\_validation.py:680: DataConversionWarning: A column-vector y was passed when a 1d array was expected. Please change the shape of y to (n_samples,), for example using ravel().\n",
      "  estimator.fit(X_train, y_train, **fit_params)\n",
      "d:\\Apps\\Anaconda\\lib\\site-packages\\sklearn\\model_selection\\_validation.py:680: DataConversionWarning: A column-vector y was passed when a 1d array was expected. Please change the shape of y to (n_samples,), for example using ravel().\n",
      "  estimator.fit(X_train, y_train, **fit_params)\n"
     ]
    },
    {
     "name": "stdout",
     "output_type": "stream",
     "text": [
      "[CV 5/5; 13/243] START max_depth=5, min_samples_leaf=2, min_samples_split=10, n_estimators=50, random_state=2\n",
      "[CV 5/5; 13/243] END max_depth=5, min_samples_leaf=2, min_samples_split=10, n_estimators=50, random_state=2;, score=0.562 total time=   0.1s\n",
      "[CV 1/5; 14/243] START max_depth=5, min_samples_leaf=2, min_samples_split=10, n_estimators=50, random_state=4\n"
     ]
    },
    {
     "name": "stderr",
     "output_type": "stream",
     "text": [
      "d:\\Apps\\Anaconda\\lib\\site-packages\\sklearn\\model_selection\\_validation.py:680: DataConversionWarning: A column-vector y was passed when a 1d array was expected. Please change the shape of y to (n_samples,), for example using ravel().\n",
      "  estimator.fit(X_train, y_train, **fit_params)\n"
     ]
    },
    {
     "name": "stdout",
     "output_type": "stream",
     "text": [
      "[CV 1/5; 14/243] END max_depth=5, min_samples_leaf=2, min_samples_split=10, n_estimators=50, random_state=4;, score=0.677 total time=   0.1s\n",
      "[CV 2/5; 14/243] START max_depth=5, min_samples_leaf=2, min_samples_split=10, n_estimators=50, random_state=4\n",
      "[CV 2/5; 14/243] END max_depth=5, min_samples_leaf=2, min_samples_split=10, n_estimators=50, random_state=4;, score=0.725 total time=   0.1s\n",
      "[CV 3/5; 14/243] START max_depth=5, min_samples_leaf=2, min_samples_split=10, n_estimators=50, random_state=4\n"
     ]
    },
    {
     "name": "stderr",
     "output_type": "stream",
     "text": [
      "d:\\Apps\\Anaconda\\lib\\site-packages\\sklearn\\model_selection\\_validation.py:680: DataConversionWarning: A column-vector y was passed when a 1d array was expected. Please change the shape of y to (n_samples,), for example using ravel().\n",
      "  estimator.fit(X_train, y_train, **fit_params)\n",
      "d:\\Apps\\Anaconda\\lib\\site-packages\\sklearn\\model_selection\\_validation.py:680: DataConversionWarning: A column-vector y was passed when a 1d array was expected. Please change the shape of y to (n_samples,), for example using ravel().\n",
      "  estimator.fit(X_train, y_train, **fit_params)\n"
     ]
    },
    {
     "name": "stdout",
     "output_type": "stream",
     "text": [
      "[CV 3/5; 14/243] END max_depth=5, min_samples_leaf=2, min_samples_split=10, n_estimators=50, random_state=4;, score=0.621 total time=   0.1s\n",
      "[CV 4/5; 14/243] START max_depth=5, min_samples_leaf=2, min_samples_split=10, n_estimators=50, random_state=4\n"
     ]
    },
    {
     "name": "stderr",
     "output_type": "stream",
     "text": [
      "d:\\Apps\\Anaconda\\lib\\site-packages\\sklearn\\model_selection\\_validation.py:680: DataConversionWarning: A column-vector y was passed when a 1d array was expected. Please change the shape of y to (n_samples,), for example using ravel().\n",
      "  estimator.fit(X_train, y_train, **fit_params)\n"
     ]
    },
    {
     "name": "stdout",
     "output_type": "stream",
     "text": [
      "[CV 4/5; 14/243] END max_depth=5, min_samples_leaf=2, min_samples_split=10, n_estimators=50, random_state=4;, score=0.464 total time=   0.1s\n",
      "[CV 5/5; 14/243] START max_depth=5, min_samples_leaf=2, min_samples_split=10, n_estimators=50, random_state=4\n",
      "[CV 5/5; 14/243] END max_depth=5, min_samples_leaf=2, min_samples_split=10, n_estimators=50, random_state=4;, score=0.570 total time=   0.1s\n",
      "[CV 1/5; 15/243] START max_depth=5, min_samples_leaf=2, min_samples_split=10, n_estimators=50, random_state=6\n"
     ]
    },
    {
     "name": "stderr",
     "output_type": "stream",
     "text": [
      "d:\\Apps\\Anaconda\\lib\\site-packages\\sklearn\\model_selection\\_validation.py:680: DataConversionWarning: A column-vector y was passed when a 1d array was expected. Please change the shape of y to (n_samples,), for example using ravel().\n",
      "  estimator.fit(X_train, y_train, **fit_params)\n",
      "d:\\Apps\\Anaconda\\lib\\site-packages\\sklearn\\model_selection\\_validation.py:680: DataConversionWarning: A column-vector y was passed when a 1d array was expected. Please change the shape of y to (n_samples,), for example using ravel().\n",
      "  estimator.fit(X_train, y_train, **fit_params)\n"
     ]
    },
    {
     "name": "stdout",
     "output_type": "stream",
     "text": [
      "[CV 1/5; 15/243] END max_depth=5, min_samples_leaf=2, min_samples_split=10, n_estimators=50, random_state=6;, score=0.725 total time=   0.1s\n",
      "[CV 2/5; 15/243] START max_depth=5, min_samples_leaf=2, min_samples_split=10, n_estimators=50, random_state=6\n",
      "[CV 2/5; 15/243] END max_depth=5, min_samples_leaf=2, min_samples_split=10, n_estimators=50, random_state=6;, score=0.727 total time=   0.1s\n",
      "[CV 3/5; 15/243] START max_depth=5, min_samples_leaf=2, min_samples_split=10, n_estimators=50, random_state=6\n"
     ]
    },
    {
     "name": "stderr",
     "output_type": "stream",
     "text": [
      "d:\\Apps\\Anaconda\\lib\\site-packages\\sklearn\\model_selection\\_validation.py:680: DataConversionWarning: A column-vector y was passed when a 1d array was expected. Please change the shape of y to (n_samples,), for example using ravel().\n",
      "  estimator.fit(X_train, y_train, **fit_params)\n",
      "d:\\Apps\\Anaconda\\lib\\site-packages\\sklearn\\model_selection\\_validation.py:680: DataConversionWarning: A column-vector y was passed when a 1d array was expected. Please change the shape of y to (n_samples,), for example using ravel().\n",
      "  estimator.fit(X_train, y_train, **fit_params)\n",
      "d:\\Apps\\Anaconda\\lib\\site-packages\\sklearn\\model_selection\\_validation.py:680: DataConversionWarning: A column-vector y was passed when a 1d array was expected. Please change the shape of y to (n_samples,), for example using ravel().\n",
      "  estimator.fit(X_train, y_train, **fit_params)\n"
     ]
    },
    {
     "name": "stdout",
     "output_type": "stream",
     "text": [
      "[CV 3/5; 15/243] END max_depth=5, min_samples_leaf=2, min_samples_split=10, n_estimators=50, random_state=6;, score=0.646 total time=   0.1s\n",
      "[CV 4/5; 15/243] START max_depth=5, min_samples_leaf=2, min_samples_split=10, n_estimators=50, random_state=6\n",
      "[CV 4/5; 15/243] END max_depth=5, min_samples_leaf=2, min_samples_split=10, n_estimators=50, random_state=6;, score=0.380 total time=   0.1s\n",
      "[CV 5/5; 15/243] START max_depth=5, min_samples_leaf=2, min_samples_split=10, n_estimators=50, random_state=6\n",
      "[CV 5/5; 15/243] END max_depth=5, min_samples_leaf=2, min_samples_split=10, n_estimators=50, random_state=6;, score=0.546 total time=   0.1s\n",
      "[CV 1/5; 16/243] START max_depth=5, min_samples_leaf=2, min_samples_split=10, n_estimators=100, random_state=2\n"
     ]
    },
    {
     "name": "stderr",
     "output_type": "stream",
     "text": [
      "d:\\Apps\\Anaconda\\lib\\site-packages\\sklearn\\model_selection\\_validation.py:680: DataConversionWarning: A column-vector y was passed when a 1d array was expected. Please change the shape of y to (n_samples,), for example using ravel().\n",
      "  estimator.fit(X_train, y_train, **fit_params)\n",
      "d:\\Apps\\Anaconda\\lib\\site-packages\\sklearn\\model_selection\\_validation.py:680: DataConversionWarning: A column-vector y was passed when a 1d array was expected. Please change the shape of y to (n_samples,), for example using ravel().\n",
      "  estimator.fit(X_train, y_train, **fit_params)\n"
     ]
    },
    {
     "name": "stdout",
     "output_type": "stream",
     "text": [
      "[CV 1/5; 16/243] END max_depth=5, min_samples_leaf=2, min_samples_split=10, n_estimators=100, random_state=2;, score=0.707 total time=   0.3s\n",
      "[CV 2/5; 16/243] START max_depth=5, min_samples_leaf=2, min_samples_split=10, n_estimators=100, random_state=2\n"
     ]
    },
    {
     "name": "stderr",
     "output_type": "stream",
     "text": [
      "d:\\Apps\\Anaconda\\lib\\site-packages\\sklearn\\model_selection\\_validation.py:680: DataConversionWarning: A column-vector y was passed when a 1d array was expected. Please change the shape of y to (n_samples,), for example using ravel().\n",
      "  estimator.fit(X_train, y_train, **fit_params)\n"
     ]
    },
    {
     "name": "stdout",
     "output_type": "stream",
     "text": [
      "[CV 2/5; 16/243] END max_depth=5, min_samples_leaf=2, min_samples_split=10, n_estimators=100, random_state=2;, score=0.723 total time=   0.3s\n",
      "[CV 3/5; 16/243] START max_depth=5, min_samples_leaf=2, min_samples_split=10, n_estimators=100, random_state=2\n"
     ]
    },
    {
     "name": "stderr",
     "output_type": "stream",
     "text": [
      "d:\\Apps\\Anaconda\\lib\\site-packages\\sklearn\\model_selection\\_validation.py:680: DataConversionWarning: A column-vector y was passed when a 1d array was expected. Please change the shape of y to (n_samples,), for example using ravel().\n",
      "  estimator.fit(X_train, y_train, **fit_params)\n"
     ]
    },
    {
     "name": "stdout",
     "output_type": "stream",
     "text": [
      "[CV 3/5; 16/243] END max_depth=5, min_samples_leaf=2, min_samples_split=10, n_estimators=100, random_state=2;, score=0.635 total time=   0.3s\n",
      "[CV 4/5; 16/243] START max_depth=5, min_samples_leaf=2, min_samples_split=10, n_estimators=100, random_state=2\n"
     ]
    },
    {
     "name": "stderr",
     "output_type": "stream",
     "text": [
      "d:\\Apps\\Anaconda\\lib\\site-packages\\sklearn\\model_selection\\_validation.py:680: DataConversionWarning: A column-vector y was passed when a 1d array was expected. Please change the shape of y to (n_samples,), for example using ravel().\n",
      "  estimator.fit(X_train, y_train, **fit_params)\n"
     ]
    },
    {
     "name": "stdout",
     "output_type": "stream",
     "text": [
      "[CV 4/5; 16/243] END max_depth=5, min_samples_leaf=2, min_samples_split=10, n_estimators=100, random_state=2;, score=0.435 total time=   0.3s\n",
      "[CV 5/5; 16/243] START max_depth=5, min_samples_leaf=2, min_samples_split=10, n_estimators=100, random_state=2\n"
     ]
    },
    {
     "name": "stderr",
     "output_type": "stream",
     "text": [
      "d:\\Apps\\Anaconda\\lib\\site-packages\\sklearn\\model_selection\\_validation.py:680: DataConversionWarning: A column-vector y was passed when a 1d array was expected. Please change the shape of y to (n_samples,), for example using ravel().\n",
      "  estimator.fit(X_train, y_train, **fit_params)\n"
     ]
    },
    {
     "name": "stdout",
     "output_type": "stream",
     "text": [
      "[CV 5/5; 16/243] END max_depth=5, min_samples_leaf=2, min_samples_split=10, n_estimators=100, random_state=2;, score=0.562 total time=   0.3s\n",
      "[CV 1/5; 17/243] START max_depth=5, min_samples_leaf=2, min_samples_split=10, n_estimators=100, random_state=4\n"
     ]
    },
    {
     "name": "stderr",
     "output_type": "stream",
     "text": [
      "d:\\Apps\\Anaconda\\lib\\site-packages\\sklearn\\model_selection\\_validation.py:680: DataConversionWarning: A column-vector y was passed when a 1d array was expected. Please change the shape of y to (n_samples,), for example using ravel().\n",
      "  estimator.fit(X_train, y_train, **fit_params)\n"
     ]
    },
    {
     "name": "stdout",
     "output_type": "stream",
     "text": [
      "[CV 1/5; 17/243] END max_depth=5, min_samples_leaf=2, min_samples_split=10, n_estimators=100, random_state=4;, score=0.696 total time=   0.3s\n",
      "[CV 2/5; 17/243] START max_depth=5, min_samples_leaf=2, min_samples_split=10, n_estimators=100, random_state=4\n"
     ]
    },
    {
     "name": "stderr",
     "output_type": "stream",
     "text": [
      "d:\\Apps\\Anaconda\\lib\\site-packages\\sklearn\\model_selection\\_validation.py:680: DataConversionWarning: A column-vector y was passed when a 1d array was expected. Please change the shape of y to (n_samples,), for example using ravel().\n",
      "  estimator.fit(X_train, y_train, **fit_params)\n"
     ]
    },
    {
     "name": "stdout",
     "output_type": "stream",
     "text": [
      "[CV 2/5; 17/243] END max_depth=5, min_samples_leaf=2, min_samples_split=10, n_estimators=100, random_state=4;, score=0.731 total time=   0.3s\n",
      "[CV 3/5; 17/243] START max_depth=5, min_samples_leaf=2, min_samples_split=10, n_estimators=100, random_state=4\n"
     ]
    },
    {
     "name": "stderr",
     "output_type": "stream",
     "text": [
      "d:\\Apps\\Anaconda\\lib\\site-packages\\sklearn\\model_selection\\_validation.py:680: DataConversionWarning: A column-vector y was passed when a 1d array was expected. Please change the shape of y to (n_samples,), for example using ravel().\n",
      "  estimator.fit(X_train, y_train, **fit_params)\n"
     ]
    },
    {
     "name": "stdout",
     "output_type": "stream",
     "text": [
      "[CV 3/5; 17/243] END max_depth=5, min_samples_leaf=2, min_samples_split=10, n_estimators=100, random_state=4;, score=0.642 total time=   0.3s\n",
      "[CV 4/5; 17/243] START max_depth=5, min_samples_leaf=2, min_samples_split=10, n_estimators=100, random_state=4\n"
     ]
    },
    {
     "name": "stderr",
     "output_type": "stream",
     "text": [
      "d:\\Apps\\Anaconda\\lib\\site-packages\\sklearn\\model_selection\\_validation.py:680: DataConversionWarning: A column-vector y was passed when a 1d array was expected. Please change the shape of y to (n_samples,), for example using ravel().\n",
      "  estimator.fit(X_train, y_train, **fit_params)\n"
     ]
    },
    {
     "name": "stdout",
     "output_type": "stream",
     "text": [
      "[CV 4/5; 17/243] END max_depth=5, min_samples_leaf=2, min_samples_split=10, n_estimators=100, random_state=4;, score=0.401 total time=   0.3s\n",
      "[CV 5/5; 17/243] START max_depth=5, min_samples_leaf=2, min_samples_split=10, n_estimators=100, random_state=4\n"
     ]
    },
    {
     "name": "stderr",
     "output_type": "stream",
     "text": [
      "d:\\Apps\\Anaconda\\lib\\site-packages\\sklearn\\model_selection\\_validation.py:680: DataConversionWarning: A column-vector y was passed when a 1d array was expected. Please change the shape of y to (n_samples,), for example using ravel().\n",
      "  estimator.fit(X_train, y_train, **fit_params)\n"
     ]
    },
    {
     "name": "stdout",
     "output_type": "stream",
     "text": [
      "[CV 5/5; 17/243] END max_depth=5, min_samples_leaf=2, min_samples_split=10, n_estimators=100, random_state=4;, score=0.557 total time=   0.3s\n",
      "[CV 1/5; 18/243] START max_depth=5, min_samples_leaf=2, min_samples_split=10, n_estimators=100, random_state=6\n"
     ]
    },
    {
     "name": "stderr",
     "output_type": "stream",
     "text": [
      "d:\\Apps\\Anaconda\\lib\\site-packages\\sklearn\\model_selection\\_validation.py:680: DataConversionWarning: A column-vector y was passed when a 1d array was expected. Please change the shape of y to (n_samples,), for example using ravel().\n",
      "  estimator.fit(X_train, y_train, **fit_params)\n"
     ]
    },
    {
     "name": "stdout",
     "output_type": "stream",
     "text": [
      "[CV 1/5; 18/243] END max_depth=5, min_samples_leaf=2, min_samples_split=10, n_estimators=100, random_state=6;, score=0.715 total time=   0.3s\n",
      "[CV 2/5; 18/243] START max_depth=5, min_samples_leaf=2, min_samples_split=10, n_estimators=100, random_state=6\n"
     ]
    },
    {
     "name": "stderr",
     "output_type": "stream",
     "text": [
      "d:\\Apps\\Anaconda\\lib\\site-packages\\sklearn\\model_selection\\_validation.py:680: DataConversionWarning: A column-vector y was passed when a 1d array was expected. Please change the shape of y to (n_samples,), for example using ravel().\n",
      "  estimator.fit(X_train, y_train, **fit_params)\n"
     ]
    },
    {
     "name": "stdout",
     "output_type": "stream",
     "text": [
      "[CV 2/5; 18/243] END max_depth=5, min_samples_leaf=2, min_samples_split=10, n_estimators=100, random_state=6;, score=0.722 total time=   0.3s\n",
      "[CV 3/5; 18/243] START max_depth=5, min_samples_leaf=2, min_samples_split=10, n_estimators=100, random_state=6\n"
     ]
    },
    {
     "name": "stderr",
     "output_type": "stream",
     "text": [
      "d:\\Apps\\Anaconda\\lib\\site-packages\\sklearn\\model_selection\\_validation.py:680: DataConversionWarning: A column-vector y was passed when a 1d array was expected. Please change the shape of y to (n_samples,), for example using ravel().\n",
      "  estimator.fit(X_train, y_train, **fit_params)\n"
     ]
    },
    {
     "name": "stdout",
     "output_type": "stream",
     "text": [
      "[CV 3/5; 18/243] END max_depth=5, min_samples_leaf=2, min_samples_split=10, n_estimators=100, random_state=6;, score=0.645 total time=   0.3s\n",
      "[CV 4/5; 18/243] START max_depth=5, min_samples_leaf=2, min_samples_split=10, n_estimators=100, random_state=6\n"
     ]
    },
    {
     "name": "stderr",
     "output_type": "stream",
     "text": [
      "d:\\Apps\\Anaconda\\lib\\site-packages\\sklearn\\model_selection\\_validation.py:680: DataConversionWarning: A column-vector y was passed when a 1d array was expected. Please change the shape of y to (n_samples,), for example using ravel().\n",
      "  estimator.fit(X_train, y_train, **fit_params)\n"
     ]
    },
    {
     "name": "stdout",
     "output_type": "stream",
     "text": [
      "[CV 4/5; 18/243] END max_depth=5, min_samples_leaf=2, min_samples_split=10, n_estimators=100, random_state=6;, score=0.408 total time=   0.3s\n",
      "[CV 5/5; 18/243] START max_depth=5, min_samples_leaf=2, min_samples_split=10, n_estimators=100, random_state=6\n"
     ]
    },
    {
     "name": "stderr",
     "output_type": "stream",
     "text": [
      "d:\\Apps\\Anaconda\\lib\\site-packages\\sklearn\\model_selection\\_validation.py:680: DataConversionWarning: A column-vector y was passed when a 1d array was expected. Please change the shape of y to (n_samples,), for example using ravel().\n",
      "  estimator.fit(X_train, y_train, **fit_params)\n"
     ]
    },
    {
     "name": "stdout",
     "output_type": "stream",
     "text": [
      "[CV 5/5; 18/243] END max_depth=5, min_samples_leaf=2, min_samples_split=10, n_estimators=100, random_state=6;, score=0.558 total time=   0.3s\n",
      "[CV 1/5; 19/243] START max_depth=5, min_samples_leaf=2, min_samples_split=15, n_estimators=10, random_state=2\n",
      "[CV 1/5; 19/243] END max_depth=5, min_samples_leaf=2, min_samples_split=15, n_estimators=10, random_state=2;, score=0.713 total time=   0.0s\n",
      "[CV 2/5; 19/243] START max_depth=5, min_samples_leaf=2, min_samples_split=15, n_estimators=10, random_state=2\n",
      "[CV 2/5; 19/243] END max_depth=5, min_samples_leaf=2, min_samples_split=15, n_estimators=10, random_state=2;, score=0.691 total time=   0.0s\n",
      "[CV 3/5; 19/243] START max_depth=5, min_samples_leaf=2, min_samples_split=15, n_estimators=10, random_state=2\n",
      "[CV 3/5; 19/243] END max_depth=5, min_samples_leaf=2, min_samples_split=15, n_estimators=10, random_state=2;, score=0.580 total time=   0.0s\n",
      "[CV 4/5; 19/243] START max_depth=5, min_samples_leaf=2, min_samples_split=15, n_estimators=10, random_state=2\n",
      "[CV 4/5; 19/243] END max_depth=5, min_samples_leaf=2, min_samples_split=15, n_estimators=10, random_state=2;, score=0.373 total time=   0.0s\n",
      "[CV 5/5; 19/243] START max_depth=5, min_samples_leaf=2, min_samples_split=15, n_estimators=10, random_state=2\n"
     ]
    },
    {
     "name": "stderr",
     "output_type": "stream",
     "text": [
      "d:\\Apps\\Anaconda\\lib\\site-packages\\sklearn\\model_selection\\_validation.py:680: DataConversionWarning: A column-vector y was passed when a 1d array was expected. Please change the shape of y to (n_samples,), for example using ravel().\n",
      "  estimator.fit(X_train, y_train, **fit_params)\n",
      "d:\\Apps\\Anaconda\\lib\\site-packages\\sklearn\\model_selection\\_validation.py:680: DataConversionWarning: A column-vector y was passed when a 1d array was expected. Please change the shape of y to (n_samples,), for example using ravel().\n",
      "  estimator.fit(X_train, y_train, **fit_params)\n",
      "d:\\Apps\\Anaconda\\lib\\site-packages\\sklearn\\model_selection\\_validation.py:680: DataConversionWarning: A column-vector y was passed when a 1d array was expected. Please change the shape of y to (n_samples,), for example using ravel().\n",
      "  estimator.fit(X_train, y_train, **fit_params)\n",
      "d:\\Apps\\Anaconda\\lib\\site-packages\\sklearn\\model_selection\\_validation.py:680: DataConversionWarning: A column-vector y was passed when a 1d array was expected. Please change the shape of y to (n_samples,), for example using ravel().\n",
      "  estimator.fit(X_train, y_train, **fit_params)\n",
      "d:\\Apps\\Anaconda\\lib\\site-packages\\sklearn\\model_selection\\_validation.py:680: DataConversionWarning: A column-vector y was passed when a 1d array was expected. Please change the shape of y to (n_samples,), for example using ravel().\n",
      "  estimator.fit(X_train, y_train, **fit_params)\n"
     ]
    },
    {
     "name": "stdout",
     "output_type": "stream",
     "text": [
      "[CV 5/5; 19/243] END max_depth=5, min_samples_leaf=2, min_samples_split=15, n_estimators=10, random_state=2;, score=0.455 total time=   0.0s\n",
      "[CV 1/5; 20/243] START max_depth=5, min_samples_leaf=2, min_samples_split=15, n_estimators=10, random_state=4\n",
      "[CV 1/5; 20/243] END max_depth=5, min_samples_leaf=2, min_samples_split=15, n_estimators=10, random_state=4;, score=0.716 total time=   0.0s\n",
      "[CV 2/5; 20/243] START max_depth=5, min_samples_leaf=2, min_samples_split=15, n_estimators=10, random_state=4\n",
      "[CV 2/5; 20/243] END max_depth=5, min_samples_leaf=2, min_samples_split=15, n_estimators=10, random_state=4;, score=0.645 total time=   0.0s\n",
      "[CV 3/5; 20/243] START max_depth=5, min_samples_leaf=2, min_samples_split=15, n_estimators=10, random_state=4\n",
      "[CV 3/5; 20/243] END max_depth=5, min_samples_leaf=2, min_samples_split=15, n_estimators=10, random_state=4;, score=0.587 total time=   0.0s\n",
      "[CV 4/5; 20/243] START max_depth=5, min_samples_leaf=2, min_samples_split=15, n_estimators=10, random_state=4\n",
      "[CV 4/5; 20/243] END max_depth=5, min_samples_leaf=2, min_samples_split=15, n_estimators=10, random_state=4;, score=0.463 total time=   0.0s\n",
      "[CV 5/5; 20/243] START max_depth=5, min_samples_leaf=2, min_samples_split=15, n_estimators=10, random_state=4\n"
     ]
    },
    {
     "name": "stderr",
     "output_type": "stream",
     "text": [
      "d:\\Apps\\Anaconda\\lib\\site-packages\\sklearn\\model_selection\\_validation.py:680: DataConversionWarning: A column-vector y was passed when a 1d array was expected. Please change the shape of y to (n_samples,), for example using ravel().\n",
      "  estimator.fit(X_train, y_train, **fit_params)\n",
      "d:\\Apps\\Anaconda\\lib\\site-packages\\sklearn\\model_selection\\_validation.py:680: DataConversionWarning: A column-vector y was passed when a 1d array was expected. Please change the shape of y to (n_samples,), for example using ravel().\n",
      "  estimator.fit(X_train, y_train, **fit_params)\n",
      "d:\\Apps\\Anaconda\\lib\\site-packages\\sklearn\\model_selection\\_validation.py:680: DataConversionWarning: A column-vector y was passed when a 1d array was expected. Please change the shape of y to (n_samples,), for example using ravel().\n",
      "  estimator.fit(X_train, y_train, **fit_params)\n",
      "d:\\Apps\\Anaconda\\lib\\site-packages\\sklearn\\model_selection\\_validation.py:680: DataConversionWarning: A column-vector y was passed when a 1d array was expected. Please change the shape of y to (n_samples,), for example using ravel().\n",
      "  estimator.fit(X_train, y_train, **fit_params)\n",
      "d:\\Apps\\Anaconda\\lib\\site-packages\\sklearn\\model_selection\\_validation.py:680: DataConversionWarning: A column-vector y was passed when a 1d array was expected. Please change the shape of y to (n_samples,), for example using ravel().\n",
      "  estimator.fit(X_train, y_train, **fit_params)\n"
     ]
    },
    {
     "name": "stdout",
     "output_type": "stream",
     "text": [
      "[CV 5/5; 20/243] END max_depth=5, min_samples_leaf=2, min_samples_split=15, n_estimators=10, random_state=4;, score=0.513 total time=   0.0s\n",
      "[CV 1/5; 21/243] START max_depth=5, min_samples_leaf=2, min_samples_split=15, n_estimators=10, random_state=6\n",
      "[CV 1/5; 21/243] END max_depth=5, min_samples_leaf=2, min_samples_split=15, n_estimators=10, random_state=6;, score=0.726 total time=   0.0s\n",
      "[CV 2/5; 21/243] START max_depth=5, min_samples_leaf=2, min_samples_split=15, n_estimators=10, random_state=6\n",
      "[CV 2/5; 21/243] END max_depth=5, min_samples_leaf=2, min_samples_split=15, n_estimators=10, random_state=6;, score=0.690 total time=   0.0s\n",
      "[CV 3/5; 21/243] START max_depth=5, min_samples_leaf=2, min_samples_split=15, n_estimators=10, random_state=6\n",
      "[CV 3/5; 21/243] END max_depth=5, min_samples_leaf=2, min_samples_split=15, n_estimators=10, random_state=6;, score=0.558 total time=   0.0s\n",
      "[CV 4/5; 21/243] START max_depth=5, min_samples_leaf=2, min_samples_split=15, n_estimators=10, random_state=6\n",
      "[CV 4/5; 21/243] END max_depth=5, min_samples_leaf=2, min_samples_split=15, n_estimators=10, random_state=6;, score=0.406 total time=   0.0s\n",
      "[CV 5/5; 21/243] START max_depth=5, min_samples_leaf=2, min_samples_split=15, n_estimators=10, random_state=6\n"
     ]
    },
    {
     "name": "stderr",
     "output_type": "stream",
     "text": [
      "d:\\Apps\\Anaconda\\lib\\site-packages\\sklearn\\model_selection\\_validation.py:680: DataConversionWarning: A column-vector y was passed when a 1d array was expected. Please change the shape of y to (n_samples,), for example using ravel().\n",
      "  estimator.fit(X_train, y_train, **fit_params)\n",
      "d:\\Apps\\Anaconda\\lib\\site-packages\\sklearn\\model_selection\\_validation.py:680: DataConversionWarning: A column-vector y was passed when a 1d array was expected. Please change the shape of y to (n_samples,), for example using ravel().\n",
      "  estimator.fit(X_train, y_train, **fit_params)\n",
      "d:\\Apps\\Anaconda\\lib\\site-packages\\sklearn\\model_selection\\_validation.py:680: DataConversionWarning: A column-vector y was passed when a 1d array was expected. Please change the shape of y to (n_samples,), for example using ravel().\n",
      "  estimator.fit(X_train, y_train, **fit_params)\n",
      "d:\\Apps\\Anaconda\\lib\\site-packages\\sklearn\\model_selection\\_validation.py:680: DataConversionWarning: A column-vector y was passed when a 1d array was expected. Please change the shape of y to (n_samples,), for example using ravel().\n",
      "  estimator.fit(X_train, y_train, **fit_params)\n",
      "d:\\Apps\\Anaconda\\lib\\site-packages\\sklearn\\model_selection\\_validation.py:680: DataConversionWarning: A column-vector y was passed when a 1d array was expected. Please change the shape of y to (n_samples,), for example using ravel().\n",
      "  estimator.fit(X_train, y_train, **fit_params)\n"
     ]
    },
    {
     "name": "stdout",
     "output_type": "stream",
     "text": [
      "[CV 5/5; 21/243] END max_depth=5, min_samples_leaf=2, min_samples_split=15, n_estimators=10, random_state=6;, score=0.485 total time=   0.0s\n",
      "[CV 1/5; 22/243] START max_depth=5, min_samples_leaf=2, min_samples_split=15, n_estimators=50, random_state=2\n"
     ]
    },
    {
     "name": "stderr",
     "output_type": "stream",
     "text": [
      "d:\\Apps\\Anaconda\\lib\\site-packages\\sklearn\\model_selection\\_validation.py:680: DataConversionWarning: A column-vector y was passed when a 1d array was expected. Please change the shape of y to (n_samples,), for example using ravel().\n",
      "  estimator.fit(X_train, y_train, **fit_params)\n"
     ]
    },
    {
     "name": "stdout",
     "output_type": "stream",
     "text": [
      "[CV 1/5; 22/243] END max_depth=5, min_samples_leaf=2, min_samples_split=15, n_estimators=50, random_state=2;, score=0.728 total time=   0.1s\n",
      "[CV 2/5; 22/243] START max_depth=5, min_samples_leaf=2, min_samples_split=15, n_estimators=50, random_state=2\n",
      "[CV 2/5; 22/243] END max_depth=5, min_samples_leaf=2, min_samples_split=15, n_estimators=50, random_state=2;, score=0.686 total time=   0.1s\n",
      "[CV 3/5; 22/243] START max_depth=5, min_samples_leaf=2, min_samples_split=15, n_estimators=50, random_state=2\n"
     ]
    },
    {
     "name": "stderr",
     "output_type": "stream",
     "text": [
      "d:\\Apps\\Anaconda\\lib\\site-packages\\sklearn\\model_selection\\_validation.py:680: DataConversionWarning: A column-vector y was passed when a 1d array was expected. Please change the shape of y to (n_samples,), for example using ravel().\n",
      "  estimator.fit(X_train, y_train, **fit_params)\n",
      "d:\\Apps\\Anaconda\\lib\\site-packages\\sklearn\\model_selection\\_validation.py:680: DataConversionWarning: A column-vector y was passed when a 1d array was expected. Please change the shape of y to (n_samples,), for example using ravel().\n",
      "  estimator.fit(X_train, y_train, **fit_params)\n",
      "d:\\Apps\\Anaconda\\lib\\site-packages\\sklearn\\model_selection\\_validation.py:680: DataConversionWarning: A column-vector y was passed when a 1d array was expected. Please change the shape of y to (n_samples,), for example using ravel().\n",
      "  estimator.fit(X_train, y_train, **fit_params)\n"
     ]
    },
    {
     "name": "stdout",
     "output_type": "stream",
     "text": [
      "[CV 3/5; 22/243] END max_depth=5, min_samples_leaf=2, min_samples_split=15, n_estimators=50, random_state=2;, score=0.567 total time=   0.1s\n",
      "[CV 4/5; 22/243] START max_depth=5, min_samples_leaf=2, min_samples_split=15, n_estimators=50, random_state=2\n",
      "[CV 4/5; 22/243] END max_depth=5, min_samples_leaf=2, min_samples_split=15, n_estimators=50, random_state=2;, score=0.454 total time=   0.1s\n",
      "[CV 5/5; 22/243] START max_depth=5, min_samples_leaf=2, min_samples_split=15, n_estimators=50, random_state=2\n"
     ]
    },
    {
     "name": "stderr",
     "output_type": "stream",
     "text": [
      "d:\\Apps\\Anaconda\\lib\\site-packages\\sklearn\\model_selection\\_validation.py:680: DataConversionWarning: A column-vector y was passed when a 1d array was expected. Please change the shape of y to (n_samples,), for example using ravel().\n",
      "  estimator.fit(X_train, y_train, **fit_params)\n"
     ]
    },
    {
     "name": "stdout",
     "output_type": "stream",
     "text": [
      "[CV 5/5; 22/243] END max_depth=5, min_samples_leaf=2, min_samples_split=15, n_estimators=50, random_state=2;, score=0.481 total time=   0.1s\n",
      "[CV 1/5; 23/243] START max_depth=5, min_samples_leaf=2, min_samples_split=15, n_estimators=50, random_state=4\n",
      "[CV 1/5; 23/243] END max_depth=5, min_samples_leaf=2, min_samples_split=15, n_estimators=50, random_state=4;, score=0.667 total time=   0.1s\n"
     ]
    },
    {
     "name": "stderr",
     "output_type": "stream",
     "text": [
      "d:\\Apps\\Anaconda\\lib\\site-packages\\sklearn\\model_selection\\_validation.py:680: DataConversionWarning: A column-vector y was passed when a 1d array was expected. Please change the shape of y to (n_samples,), for example using ravel().\n",
      "  estimator.fit(X_train, y_train, **fit_params)\n"
     ]
    },
    {
     "name": "stdout",
     "output_type": "stream",
     "text": [
      "[CV 2/5; 23/243] START max_depth=5, min_samples_leaf=2, min_samples_split=15, n_estimators=50, random_state=4\n",
      "[CV 2/5; 23/243] END max_depth=5, min_samples_leaf=2, min_samples_split=15, n_estimators=50, random_state=4;, score=0.684 total time=   0.1s\n",
      "[CV 3/5; 23/243] START max_depth=5, min_samples_leaf=2, min_samples_split=15, n_estimators=50, random_state=4\n"
     ]
    },
    {
     "name": "stderr",
     "output_type": "stream",
     "text": [
      "d:\\Apps\\Anaconda\\lib\\site-packages\\sklearn\\model_selection\\_validation.py:680: DataConversionWarning: A column-vector y was passed when a 1d array was expected. Please change the shape of y to (n_samples,), for example using ravel().\n",
      "  estimator.fit(X_train, y_train, **fit_params)\n",
      "d:\\Apps\\Anaconda\\lib\\site-packages\\sklearn\\model_selection\\_validation.py:680: DataConversionWarning: A column-vector y was passed when a 1d array was expected. Please change the shape of y to (n_samples,), for example using ravel().\n",
      "  estimator.fit(X_train, y_train, **fit_params)\n"
     ]
    },
    {
     "name": "stdout",
     "output_type": "stream",
     "text": [
      "[CV 3/5; 23/243] END max_depth=5, min_samples_leaf=2, min_samples_split=15, n_estimators=50, random_state=4;, score=0.559 total time=   0.1s\n",
      "[CV 4/5; 23/243] START max_depth=5, min_samples_leaf=2, min_samples_split=15, n_estimators=50, random_state=4\n"
     ]
    },
    {
     "name": "stderr",
     "output_type": "stream",
     "text": [
      "d:\\Apps\\Anaconda\\lib\\site-packages\\sklearn\\model_selection\\_validation.py:680: DataConversionWarning: A column-vector y was passed when a 1d array was expected. Please change the shape of y to (n_samples,), for example using ravel().\n",
      "  estimator.fit(X_train, y_train, **fit_params)\n"
     ]
    },
    {
     "name": "stdout",
     "output_type": "stream",
     "text": [
      "[CV 4/5; 23/243] END max_depth=5, min_samples_leaf=2, min_samples_split=15, n_estimators=50, random_state=4;, score=0.493 total time=   0.1s\n",
      "[CV 5/5; 23/243] START max_depth=5, min_samples_leaf=2, min_samples_split=15, n_estimators=50, random_state=4\n",
      "[CV 5/5; 23/243] END max_depth=5, min_samples_leaf=2, min_samples_split=15, n_estimators=50, random_state=4;, score=0.484 total time=   0.1s\n",
      "[CV 1/5; 24/243] START max_depth=5, min_samples_leaf=2, min_samples_split=15, n_estimators=50, random_state=6\n"
     ]
    },
    {
     "name": "stderr",
     "output_type": "stream",
     "text": [
      "d:\\Apps\\Anaconda\\lib\\site-packages\\sklearn\\model_selection\\_validation.py:680: DataConversionWarning: A column-vector y was passed when a 1d array was expected. Please change the shape of y to (n_samples,), for example using ravel().\n",
      "  estimator.fit(X_train, y_train, **fit_params)\n",
      "d:\\Apps\\Anaconda\\lib\\site-packages\\sklearn\\model_selection\\_validation.py:680: DataConversionWarning: A column-vector y was passed when a 1d array was expected. Please change the shape of y to (n_samples,), for example using ravel().\n",
      "  estimator.fit(X_train, y_train, **fit_params)\n"
     ]
    },
    {
     "name": "stdout",
     "output_type": "stream",
     "text": [
      "[CV 1/5; 24/243] END max_depth=5, min_samples_leaf=2, min_samples_split=15, n_estimators=50, random_state=6;, score=0.730 total time=   0.1s\n",
      "[CV 2/5; 24/243] START max_depth=5, min_samples_leaf=2, min_samples_split=15, n_estimators=50, random_state=6\n",
      "[CV 2/5; 24/243] END max_depth=5, min_samples_leaf=2, min_samples_split=15, n_estimators=50, random_state=6;, score=0.688 total time=   0.1s\n",
      "[CV 3/5; 24/243] START max_depth=5, min_samples_leaf=2, min_samples_split=15, n_estimators=50, random_state=6\n"
     ]
    },
    {
     "name": "stderr",
     "output_type": "stream",
     "text": [
      "d:\\Apps\\Anaconda\\lib\\site-packages\\sklearn\\model_selection\\_validation.py:680: DataConversionWarning: A column-vector y was passed when a 1d array was expected. Please change the shape of y to (n_samples,), for example using ravel().\n",
      "  estimator.fit(X_train, y_train, **fit_params)\n",
      "d:\\Apps\\Anaconda\\lib\\site-packages\\sklearn\\model_selection\\_validation.py:680: DataConversionWarning: A column-vector y was passed when a 1d array was expected. Please change the shape of y to (n_samples,), for example using ravel().\n",
      "  estimator.fit(X_train, y_train, **fit_params)\n"
     ]
    },
    {
     "name": "stdout",
     "output_type": "stream",
     "text": [
      "[CV 3/5; 24/243] END max_depth=5, min_samples_leaf=2, min_samples_split=15, n_estimators=50, random_state=6;, score=0.556 total time=   0.1s\n",
      "[CV 4/5; 24/243] START max_depth=5, min_samples_leaf=2, min_samples_split=15, n_estimators=50, random_state=6\n",
      "[CV 4/5; 24/243] END max_depth=5, min_samples_leaf=2, min_samples_split=15, n_estimators=50, random_state=6;, score=0.427 total time=   0.1s\n",
      "[CV 5/5; 24/243] START max_depth=5, min_samples_leaf=2, min_samples_split=15, n_estimators=50, random_state=6\n"
     ]
    },
    {
     "name": "stderr",
     "output_type": "stream",
     "text": [
      "d:\\Apps\\Anaconda\\lib\\site-packages\\sklearn\\model_selection\\_validation.py:680: DataConversionWarning: A column-vector y was passed when a 1d array was expected. Please change the shape of y to (n_samples,), for example using ravel().\n",
      "  estimator.fit(X_train, y_train, **fit_params)\n",
      "d:\\Apps\\Anaconda\\lib\\site-packages\\sklearn\\model_selection\\_validation.py:680: DataConversionWarning: A column-vector y was passed when a 1d array was expected. Please change the shape of y to (n_samples,), for example using ravel().\n",
      "  estimator.fit(X_train, y_train, **fit_params)\n"
     ]
    },
    {
     "name": "stdout",
     "output_type": "stream",
     "text": [
      "[CV 5/5; 24/243] END max_depth=5, min_samples_leaf=2, min_samples_split=15, n_estimators=50, random_state=6;, score=0.496 total time=   0.1s\n",
      "[CV 1/5; 25/243] START max_depth=5, min_samples_leaf=2, min_samples_split=15, n_estimators=100, random_state=2\n"
     ]
    },
    {
     "name": "stderr",
     "output_type": "stream",
     "text": [
      "d:\\Apps\\Anaconda\\lib\\site-packages\\sklearn\\model_selection\\_validation.py:680: DataConversionWarning: A column-vector y was passed when a 1d array was expected. Please change the shape of y to (n_samples,), for example using ravel().\n",
      "  estimator.fit(X_train, y_train, **fit_params)\n"
     ]
    },
    {
     "name": "stdout",
     "output_type": "stream",
     "text": [
      "[CV 1/5; 25/243] END max_depth=5, min_samples_leaf=2, min_samples_split=15, n_estimators=100, random_state=2;, score=0.721 total time=   0.3s\n",
      "[CV 2/5; 25/243] START max_depth=5, min_samples_leaf=2, min_samples_split=15, n_estimators=100, random_state=2\n"
     ]
    },
    {
     "name": "stderr",
     "output_type": "stream",
     "text": [
      "d:\\Apps\\Anaconda\\lib\\site-packages\\sklearn\\model_selection\\_validation.py:680: DataConversionWarning: A column-vector y was passed when a 1d array was expected. Please change the shape of y to (n_samples,), for example using ravel().\n",
      "  estimator.fit(X_train, y_train, **fit_params)\n"
     ]
    },
    {
     "name": "stdout",
     "output_type": "stream",
     "text": [
      "[CV 2/5; 25/243] END max_depth=5, min_samples_leaf=2, min_samples_split=15, n_estimators=100, random_state=2;, score=0.681 total time=   0.3s\n",
      "[CV 3/5; 25/243] START max_depth=5, min_samples_leaf=2, min_samples_split=15, n_estimators=100, random_state=2\n"
     ]
    },
    {
     "name": "stderr",
     "output_type": "stream",
     "text": [
      "d:\\Apps\\Anaconda\\lib\\site-packages\\sklearn\\model_selection\\_validation.py:680: DataConversionWarning: A column-vector y was passed when a 1d array was expected. Please change the shape of y to (n_samples,), for example using ravel().\n",
      "  estimator.fit(X_train, y_train, **fit_params)\n"
     ]
    },
    {
     "name": "stdout",
     "output_type": "stream",
     "text": [
      "[CV 3/5; 25/243] END max_depth=5, min_samples_leaf=2, min_samples_split=15, n_estimators=100, random_state=2;, score=0.559 total time=   0.3s\n",
      "[CV 4/5; 25/243] START max_depth=5, min_samples_leaf=2, min_samples_split=15, n_estimators=100, random_state=2\n"
     ]
    },
    {
     "name": "stderr",
     "output_type": "stream",
     "text": [
      "d:\\Apps\\Anaconda\\lib\\site-packages\\sklearn\\model_selection\\_validation.py:680: DataConversionWarning: A column-vector y was passed when a 1d array was expected. Please change the shape of y to (n_samples,), for example using ravel().\n",
      "  estimator.fit(X_train, y_train, **fit_params)\n"
     ]
    },
    {
     "name": "stdout",
     "output_type": "stream",
     "text": [
      "[CV 4/5; 25/243] END max_depth=5, min_samples_leaf=2, min_samples_split=15, n_estimators=100, random_state=2;, score=0.500 total time=   0.3s\n",
      "[CV 5/5; 25/243] START max_depth=5, min_samples_leaf=2, min_samples_split=15, n_estimators=100, random_state=2\n"
     ]
    },
    {
     "name": "stderr",
     "output_type": "stream",
     "text": [
      "d:\\Apps\\Anaconda\\lib\\site-packages\\sklearn\\model_selection\\_validation.py:680: DataConversionWarning: A column-vector y was passed when a 1d array was expected. Please change the shape of y to (n_samples,), for example using ravel().\n",
      "  estimator.fit(X_train, y_train, **fit_params)\n"
     ]
    },
    {
     "name": "stdout",
     "output_type": "stream",
     "text": [
      "[CV 5/5; 25/243] END max_depth=5, min_samples_leaf=2, min_samples_split=15, n_estimators=100, random_state=2;, score=0.486 total time=   0.3s\n",
      "[CV 1/5; 26/243] START max_depth=5, min_samples_leaf=2, min_samples_split=15, n_estimators=100, random_state=4\n"
     ]
    },
    {
     "name": "stderr",
     "output_type": "stream",
     "text": [
      "d:\\Apps\\Anaconda\\lib\\site-packages\\sklearn\\model_selection\\_validation.py:680: DataConversionWarning: A column-vector y was passed when a 1d array was expected. Please change the shape of y to (n_samples,), for example using ravel().\n",
      "  estimator.fit(X_train, y_train, **fit_params)\n"
     ]
    },
    {
     "name": "stdout",
     "output_type": "stream",
     "text": [
      "[CV 1/5; 26/243] END max_depth=5, min_samples_leaf=2, min_samples_split=15, n_estimators=100, random_state=4;, score=0.699 total time=   0.3s\n",
      "[CV 2/5; 26/243] START max_depth=5, min_samples_leaf=2, min_samples_split=15, n_estimators=100, random_state=4\n"
     ]
    },
    {
     "name": "stderr",
     "output_type": "stream",
     "text": [
      "d:\\Apps\\Anaconda\\lib\\site-packages\\sklearn\\model_selection\\_validation.py:680: DataConversionWarning: A column-vector y was passed when a 1d array was expected. Please change the shape of y to (n_samples,), for example using ravel().\n",
      "  estimator.fit(X_train, y_train, **fit_params)\n"
     ]
    },
    {
     "name": "stdout",
     "output_type": "stream",
     "text": [
      "[CV 2/5; 26/243] END max_depth=5, min_samples_leaf=2, min_samples_split=15, n_estimators=100, random_state=4;, score=0.692 total time=   0.3s\n",
      "[CV 3/5; 26/243] START max_depth=5, min_samples_leaf=2, min_samples_split=15, n_estimators=100, random_state=4\n"
     ]
    },
    {
     "name": "stderr",
     "output_type": "stream",
     "text": [
      "d:\\Apps\\Anaconda\\lib\\site-packages\\sklearn\\model_selection\\_validation.py:680: DataConversionWarning: A column-vector y was passed when a 1d array was expected. Please change the shape of y to (n_samples,), for example using ravel().\n",
      "  estimator.fit(X_train, y_train, **fit_params)\n"
     ]
    },
    {
     "name": "stdout",
     "output_type": "stream",
     "text": [
      "[CV 3/5; 26/243] END max_depth=5, min_samples_leaf=2, min_samples_split=15, n_estimators=100, random_state=4;, score=0.568 total time=   0.3s\n",
      "[CV 4/5; 26/243] START max_depth=5, min_samples_leaf=2, min_samples_split=15, n_estimators=100, random_state=4\n"
     ]
    },
    {
     "name": "stderr",
     "output_type": "stream",
     "text": [
      "d:\\Apps\\Anaconda\\lib\\site-packages\\sklearn\\model_selection\\_validation.py:680: DataConversionWarning: A column-vector y was passed when a 1d array was expected. Please change the shape of y to (n_samples,), for example using ravel().\n",
      "  estimator.fit(X_train, y_train, **fit_params)\n"
     ]
    },
    {
     "name": "stdout",
     "output_type": "stream",
     "text": [
      "[CV 4/5; 26/243] END max_depth=5, min_samples_leaf=2, min_samples_split=15, n_estimators=100, random_state=4;, score=0.451 total time=   0.3s\n",
      "[CV 5/5; 26/243] START max_depth=5, min_samples_leaf=2, min_samples_split=15, n_estimators=100, random_state=4\n"
     ]
    },
    {
     "name": "stderr",
     "output_type": "stream",
     "text": [
      "d:\\Apps\\Anaconda\\lib\\site-packages\\sklearn\\model_selection\\_validation.py:680: DataConversionWarning: A column-vector y was passed when a 1d array was expected. Please change the shape of y to (n_samples,), for example using ravel().\n",
      "  estimator.fit(X_train, y_train, **fit_params)\n"
     ]
    },
    {
     "name": "stdout",
     "output_type": "stream",
     "text": [
      "[CV 5/5; 26/243] END max_depth=5, min_samples_leaf=2, min_samples_split=15, n_estimators=100, random_state=4;, score=0.487 total time=   0.3s\n",
      "[CV 1/5; 27/243] START max_depth=5, min_samples_leaf=2, min_samples_split=15, n_estimators=100, random_state=6\n"
     ]
    },
    {
     "name": "stderr",
     "output_type": "stream",
     "text": [
      "d:\\Apps\\Anaconda\\lib\\site-packages\\sklearn\\model_selection\\_validation.py:680: DataConversionWarning: A column-vector y was passed when a 1d array was expected. Please change the shape of y to (n_samples,), for example using ravel().\n",
      "  estimator.fit(X_train, y_train, **fit_params)\n",
      "d:\\Apps\\Anaconda\\lib\\site-packages\\sklearn\\model_selection\\_validation.py:680: DataConversionWarning: A column-vector y was passed when a 1d array was expected. Please change the shape of y to (n_samples,), for example using ravel().\n",
      "  estimator.fit(X_train, y_train, **fit_params)\n"
     ]
    },
    {
     "name": "stdout",
     "output_type": "stream",
     "text": [
      "[CV 1/5; 27/243] END max_depth=5, min_samples_leaf=2, min_samples_split=15, n_estimators=100, random_state=6;, score=0.729 total time=   0.3s\n",
      "[CV 2/5; 27/243] START max_depth=5, min_samples_leaf=2, min_samples_split=15, n_estimators=100, random_state=6\n",
      "[CV 2/5; 27/243] END max_depth=5, min_samples_leaf=2, min_samples_split=15, n_estimators=100, random_state=6;, score=0.678 total time=   0.3s\n",
      "[CV 3/5; 27/243] START max_depth=5, min_samples_leaf=2, min_samples_split=15, n_estimators=100, random_state=6\n"
     ]
    },
    {
     "name": "stderr",
     "output_type": "stream",
     "text": [
      "d:\\Apps\\Anaconda\\lib\\site-packages\\sklearn\\model_selection\\_validation.py:680: DataConversionWarning: A column-vector y was passed when a 1d array was expected. Please change the shape of y to (n_samples,), for example using ravel().\n",
      "  estimator.fit(X_train, y_train, **fit_params)\n"
     ]
    },
    {
     "name": "stdout",
     "output_type": "stream",
     "text": [
      "[CV 3/5; 27/243] END max_depth=5, min_samples_leaf=2, min_samples_split=15, n_estimators=100, random_state=6;, score=0.553 total time=   0.3s\n",
      "[CV 4/5; 27/243] START max_depth=5, min_samples_leaf=2, min_samples_split=15, n_estimators=100, random_state=6\n"
     ]
    },
    {
     "name": "stderr",
     "output_type": "stream",
     "text": [
      "d:\\Apps\\Anaconda\\lib\\site-packages\\sklearn\\model_selection\\_validation.py:680: DataConversionWarning: A column-vector y was passed when a 1d array was expected. Please change the shape of y to (n_samples,), for example using ravel().\n",
      "  estimator.fit(X_train, y_train, **fit_params)\n"
     ]
    },
    {
     "name": "stdout",
     "output_type": "stream",
     "text": [
      "[CV 4/5; 27/243] END max_depth=5, min_samples_leaf=2, min_samples_split=15, n_estimators=100, random_state=6;, score=0.473 total time=   0.3s\n",
      "[CV 5/5; 27/243] START max_depth=5, min_samples_leaf=2, min_samples_split=15, n_estimators=100, random_state=6\n"
     ]
    },
    {
     "name": "stderr",
     "output_type": "stream",
     "text": [
      "d:\\Apps\\Anaconda\\lib\\site-packages\\sklearn\\model_selection\\_validation.py:680: DataConversionWarning: A column-vector y was passed when a 1d array was expected. Please change the shape of y to (n_samples,), for example using ravel().\n",
      "  estimator.fit(X_train, y_train, **fit_params)\n"
     ]
    },
    {
     "name": "stdout",
     "output_type": "stream",
     "text": [
      "[CV 5/5; 27/243] END max_depth=5, min_samples_leaf=2, min_samples_split=15, n_estimators=100, random_state=6;, score=0.493 total time=   0.3s\n",
      "[CV 1/5; 28/243] START max_depth=5, min_samples_leaf=4, min_samples_split=5, n_estimators=10, random_state=2\n",
      "[CV 1/5; 28/243] END max_depth=5, min_samples_leaf=4, min_samples_split=5, n_estimators=10, random_state=2;, score=0.700 total time=   0.0s\n",
      "[CV 2/5; 28/243] START max_depth=5, min_samples_leaf=4, min_samples_split=5, n_estimators=10, random_state=2\n",
      "[CV 2/5; 28/243] END max_depth=5, min_samples_leaf=4, min_samples_split=5, n_estimators=10, random_state=2;, score=0.722 total time=   0.0s\n",
      "[CV 3/5; 28/243] START max_depth=5, min_samples_leaf=4, min_samples_split=5, n_estimators=10, random_state=2\n",
      "[CV 3/5; 28/243] END max_depth=5, min_samples_leaf=4, min_samples_split=5, n_estimators=10, random_state=2;, score=0.574 total time=   0.0s\n",
      "[CV 4/5; 28/243] START max_depth=5, min_samples_leaf=4, min_samples_split=5, n_estimators=10, random_state=2\n",
      "[CV 4/5; 28/243] END max_depth=5, min_samples_leaf=4, min_samples_split=5, n_estimators=10, random_state=2;, score=0.366 total time=   0.0s\n",
      "[CV 5/5; 28/243] START max_depth=5, min_samples_leaf=4, min_samples_split=5, n_estimators=10, random_state=2\n"
     ]
    },
    {
     "name": "stderr",
     "output_type": "stream",
     "text": [
      "d:\\Apps\\Anaconda\\lib\\site-packages\\sklearn\\model_selection\\_validation.py:680: DataConversionWarning: A column-vector y was passed when a 1d array was expected. Please change the shape of y to (n_samples,), for example using ravel().\n",
      "  estimator.fit(X_train, y_train, **fit_params)\n",
      "d:\\Apps\\Anaconda\\lib\\site-packages\\sklearn\\model_selection\\_validation.py:680: DataConversionWarning: A column-vector y was passed when a 1d array was expected. Please change the shape of y to (n_samples,), for example using ravel().\n",
      "  estimator.fit(X_train, y_train, **fit_params)\n",
      "d:\\Apps\\Anaconda\\lib\\site-packages\\sklearn\\model_selection\\_validation.py:680: DataConversionWarning: A column-vector y was passed when a 1d array was expected. Please change the shape of y to (n_samples,), for example using ravel().\n",
      "  estimator.fit(X_train, y_train, **fit_params)\n",
      "d:\\Apps\\Anaconda\\lib\\site-packages\\sklearn\\model_selection\\_validation.py:680: DataConversionWarning: A column-vector y was passed when a 1d array was expected. Please change the shape of y to (n_samples,), for example using ravel().\n",
      "  estimator.fit(X_train, y_train, **fit_params)\n",
      "d:\\Apps\\Anaconda\\lib\\site-packages\\sklearn\\model_selection\\_validation.py:680: DataConversionWarning: A column-vector y was passed when a 1d array was expected. Please change the shape of y to (n_samples,), for example using ravel().\n",
      "  estimator.fit(X_train, y_train, **fit_params)\n"
     ]
    },
    {
     "name": "stdout",
     "output_type": "stream",
     "text": [
      "[CV 5/5; 28/243] END max_depth=5, min_samples_leaf=4, min_samples_split=5, n_estimators=10, random_state=2;, score=0.490 total time=   0.0s\n",
      "[CV 1/5; 29/243] START max_depth=5, min_samples_leaf=4, min_samples_split=5, n_estimators=10, random_state=4\n",
      "[CV 1/5; 29/243] END max_depth=5, min_samples_leaf=4, min_samples_split=5, n_estimators=10, random_state=4;, score=0.697 total time=   0.0s\n",
      "[CV 2/5; 29/243] START max_depth=5, min_samples_leaf=4, min_samples_split=5, n_estimators=10, random_state=4\n",
      "[CV 2/5; 29/243] END max_depth=5, min_samples_leaf=4, min_samples_split=5, n_estimators=10, random_state=4;, score=0.660 total time=   0.0s\n",
      "[CV 3/5; 29/243] START max_depth=5, min_samples_leaf=4, min_samples_split=5, n_estimators=10, random_state=4\n",
      "[CV 3/5; 29/243] END max_depth=5, min_samples_leaf=4, min_samples_split=5, n_estimators=10, random_state=4;, score=0.548 total time=   0.0s\n",
      "[CV 4/5; 29/243] START max_depth=5, min_samples_leaf=4, min_samples_split=5, n_estimators=10, random_state=4\n",
      "[CV 4/5; 29/243] END max_depth=5, min_samples_leaf=4, min_samples_split=5, n_estimators=10, random_state=4;, score=0.449 total time=   0.0s\n",
      "[CV 5/5; 29/243] START max_depth=5, min_samples_leaf=4, min_samples_split=5, n_estimators=10, random_state=4\n"
     ]
    },
    {
     "name": "stderr",
     "output_type": "stream",
     "text": [
      "d:\\Apps\\Anaconda\\lib\\site-packages\\sklearn\\model_selection\\_validation.py:680: DataConversionWarning: A column-vector y was passed when a 1d array was expected. Please change the shape of y to (n_samples,), for example using ravel().\n",
      "  estimator.fit(X_train, y_train, **fit_params)\n",
      "d:\\Apps\\Anaconda\\lib\\site-packages\\sklearn\\model_selection\\_validation.py:680: DataConversionWarning: A column-vector y was passed when a 1d array was expected. Please change the shape of y to (n_samples,), for example using ravel().\n",
      "  estimator.fit(X_train, y_train, **fit_params)\n",
      "d:\\Apps\\Anaconda\\lib\\site-packages\\sklearn\\model_selection\\_validation.py:680: DataConversionWarning: A column-vector y was passed when a 1d array was expected. Please change the shape of y to (n_samples,), for example using ravel().\n",
      "  estimator.fit(X_train, y_train, **fit_params)\n",
      "d:\\Apps\\Anaconda\\lib\\site-packages\\sklearn\\model_selection\\_validation.py:680: DataConversionWarning: A column-vector y was passed when a 1d array was expected. Please change the shape of y to (n_samples,), for example using ravel().\n",
      "  estimator.fit(X_train, y_train, **fit_params)\n",
      "d:\\Apps\\Anaconda\\lib\\site-packages\\sklearn\\model_selection\\_validation.py:680: DataConversionWarning: A column-vector y was passed when a 1d array was expected. Please change the shape of y to (n_samples,), for example using ravel().\n",
      "  estimator.fit(X_train, y_train, **fit_params)\n"
     ]
    },
    {
     "name": "stdout",
     "output_type": "stream",
     "text": [
      "[CV 5/5; 29/243] END max_depth=5, min_samples_leaf=4, min_samples_split=5, n_estimators=10, random_state=4;, score=0.526 total time=   0.0s\n",
      "[CV 1/5; 30/243] START max_depth=5, min_samples_leaf=4, min_samples_split=5, n_estimators=10, random_state=6\n",
      "[CV 1/5; 30/243] END max_depth=5, min_samples_leaf=4, min_samples_split=5, n_estimators=10, random_state=6;, score=0.715 total time=   0.0s\n",
      "[CV 2/5; 30/243] START max_depth=5, min_samples_leaf=4, min_samples_split=5, n_estimators=10, random_state=6\n",
      "[CV 2/5; 30/243] END max_depth=5, min_samples_leaf=4, min_samples_split=5, n_estimators=10, random_state=6;, score=0.659 total time=   0.0s\n",
      "[CV 3/5; 30/243] START max_depth=5, min_samples_leaf=4, min_samples_split=5, n_estimators=10, random_state=6\n",
      "[CV 3/5; 30/243] END max_depth=5, min_samples_leaf=4, min_samples_split=5, n_estimators=10, random_state=6;, score=0.597 total time=   0.0s\n",
      "[CV 4/5; 30/243] START max_depth=5, min_samples_leaf=4, min_samples_split=5, n_estimators=10, random_state=6\n",
      "[CV 4/5; 30/243] END max_depth=5, min_samples_leaf=4, min_samples_split=5, n_estimators=10, random_state=6;, score=0.369 total time=   0.0s\n",
      "[CV 5/5; 30/243] START max_depth=5, min_samples_leaf=4, min_samples_split=5, n_estimators=10, random_state=6\n"
     ]
    },
    {
     "name": "stderr",
     "output_type": "stream",
     "text": [
      "d:\\Apps\\Anaconda\\lib\\site-packages\\sklearn\\model_selection\\_validation.py:680: DataConversionWarning: A column-vector y was passed when a 1d array was expected. Please change the shape of y to (n_samples,), for example using ravel().\n",
      "  estimator.fit(X_train, y_train, **fit_params)\n",
      "d:\\Apps\\Anaconda\\lib\\site-packages\\sklearn\\model_selection\\_validation.py:680: DataConversionWarning: A column-vector y was passed when a 1d array was expected. Please change the shape of y to (n_samples,), for example using ravel().\n",
      "  estimator.fit(X_train, y_train, **fit_params)\n",
      "d:\\Apps\\Anaconda\\lib\\site-packages\\sklearn\\model_selection\\_validation.py:680: DataConversionWarning: A column-vector y was passed when a 1d array was expected. Please change the shape of y to (n_samples,), for example using ravel().\n",
      "  estimator.fit(X_train, y_train, **fit_params)\n",
      "d:\\Apps\\Anaconda\\lib\\site-packages\\sklearn\\model_selection\\_validation.py:680: DataConversionWarning: A column-vector y was passed when a 1d array was expected. Please change the shape of y to (n_samples,), for example using ravel().\n",
      "  estimator.fit(X_train, y_train, **fit_params)\n",
      "d:\\Apps\\Anaconda\\lib\\site-packages\\sklearn\\model_selection\\_validation.py:680: DataConversionWarning: A column-vector y was passed when a 1d array was expected. Please change the shape of y to (n_samples,), for example using ravel().\n",
      "  estimator.fit(X_train, y_train, **fit_params)\n"
     ]
    },
    {
     "name": "stdout",
     "output_type": "stream",
     "text": [
      "[CV 5/5; 30/243] END max_depth=5, min_samples_leaf=4, min_samples_split=5, n_estimators=10, random_state=6;, score=0.507 total time=   0.0s\n",
      "[CV 1/5; 31/243] START max_depth=5, min_samples_leaf=4, min_samples_split=5, n_estimators=50, random_state=2\n",
      "[CV 1/5; 31/243] END max_depth=5, min_samples_leaf=4, min_samples_split=5, n_estimators=50, random_state=2;, score=0.708 total time=   0.1s\n",
      "[CV 2/5; 31/243] START max_depth=5, min_samples_leaf=4, min_samples_split=5, n_estimators=50, random_state=2\n"
     ]
    },
    {
     "name": "stderr",
     "output_type": "stream",
     "text": [
      "d:\\Apps\\Anaconda\\lib\\site-packages\\sklearn\\model_selection\\_validation.py:680: DataConversionWarning: A column-vector y was passed when a 1d array was expected. Please change the shape of y to (n_samples,), for example using ravel().\n",
      "  estimator.fit(X_train, y_train, **fit_params)\n"
     ]
    },
    {
     "name": "stdout",
     "output_type": "stream",
     "text": [
      "[CV 2/5; 31/243] END max_depth=5, min_samples_leaf=4, min_samples_split=5, n_estimators=50, random_state=2;, score=0.698 total time=   0.1s\n"
     ]
    },
    {
     "name": "stderr",
     "output_type": "stream",
     "text": [
      "d:\\Apps\\Anaconda\\lib\\site-packages\\sklearn\\model_selection\\_validation.py:680: DataConversionWarning: A column-vector y was passed when a 1d array was expected. Please change the shape of y to (n_samples,), for example using ravel().\n",
      "  estimator.fit(X_train, y_train, **fit_params)\n"
     ]
    },
    {
     "name": "stdout",
     "output_type": "stream",
     "text": [
      "[CV 3/5; 31/243] START max_depth=5, min_samples_leaf=4, min_samples_split=5, n_estimators=50, random_state=2\n",
      "[CV 3/5; 31/243] END max_depth=5, min_samples_leaf=4, min_samples_split=5, n_estimators=50, random_state=2;, score=0.607 total time=   0.1s\n",
      "[CV 4/5; 31/243] START max_depth=5, min_samples_leaf=4, min_samples_split=5, n_estimators=50, random_state=2\n"
     ]
    },
    {
     "name": "stderr",
     "output_type": "stream",
     "text": [
      "d:\\Apps\\Anaconda\\lib\\site-packages\\sklearn\\model_selection\\_validation.py:680: DataConversionWarning: A column-vector y was passed when a 1d array was expected. Please change the shape of y to (n_samples,), for example using ravel().\n",
      "  estimator.fit(X_train, y_train, **fit_params)\n",
      "d:\\Apps\\Anaconda\\lib\\site-packages\\sklearn\\model_selection\\_validation.py:680: DataConversionWarning: A column-vector y was passed when a 1d array was expected. Please change the shape of y to (n_samples,), for example using ravel().\n",
      "  estimator.fit(X_train, y_train, **fit_params)\n"
     ]
    },
    {
     "name": "stdout",
     "output_type": "stream",
     "text": [
      "[CV 4/5; 31/243] END max_depth=5, min_samples_leaf=4, min_samples_split=5, n_estimators=50, random_state=2;, score=0.431 total time=   0.1s\n",
      "[CV 5/5; 31/243] START max_depth=5, min_samples_leaf=4, min_samples_split=5, n_estimators=50, random_state=2\n",
      "[CV 5/5; 31/243] END max_depth=5, min_samples_leaf=4, min_samples_split=5, n_estimators=50, random_state=2;, score=0.504 total time=   0.1s\n",
      "[CV 1/5; 32/243] START max_depth=5, min_samples_leaf=4, min_samples_split=5, n_estimators=50, random_state=4\n"
     ]
    },
    {
     "name": "stderr",
     "output_type": "stream",
     "text": [
      "d:\\Apps\\Anaconda\\lib\\site-packages\\sklearn\\model_selection\\_validation.py:680: DataConversionWarning: A column-vector y was passed when a 1d array was expected. Please change the shape of y to (n_samples,), for example using ravel().\n",
      "  estimator.fit(X_train, y_train, **fit_params)\n",
      "d:\\Apps\\Anaconda\\lib\\site-packages\\sklearn\\model_selection\\_validation.py:680: DataConversionWarning: A column-vector y was passed when a 1d array was expected. Please change the shape of y to (n_samples,), for example using ravel().\n",
      "  estimator.fit(X_train, y_train, **fit_params)\n"
     ]
    },
    {
     "name": "stdout",
     "output_type": "stream",
     "text": [
      "[CV 1/5; 32/243] END max_depth=5, min_samples_leaf=4, min_samples_split=5, n_estimators=50, random_state=4;, score=0.662 total time=   0.1s\n",
      "[CV 2/5; 32/243] START max_depth=5, min_samples_leaf=4, min_samples_split=5, n_estimators=50, random_state=4\n"
     ]
    },
    {
     "name": "stderr",
     "output_type": "stream",
     "text": [
      "d:\\Apps\\Anaconda\\lib\\site-packages\\sklearn\\model_selection\\_validation.py:680: DataConversionWarning: A column-vector y was passed when a 1d array was expected. Please change the shape of y to (n_samples,), for example using ravel().\n",
      "  estimator.fit(X_train, y_train, **fit_params)\n"
     ]
    },
    {
     "name": "stdout",
     "output_type": "stream",
     "text": [
      "[CV 2/5; 32/243] END max_depth=5, min_samples_leaf=4, min_samples_split=5, n_estimators=50, random_state=4;, score=0.698 total time=   0.1s\n",
      "[CV 3/5; 32/243] START max_depth=5, min_samples_leaf=4, min_samples_split=5, n_estimators=50, random_state=4\n",
      "[CV 3/5; 32/243] END max_depth=5, min_samples_leaf=4, min_samples_split=5, n_estimators=50, random_state=4;, score=0.580 total time=   0.1s\n"
     ]
    },
    {
     "name": "stderr",
     "output_type": "stream",
     "text": [
      "d:\\Apps\\Anaconda\\lib\\site-packages\\sklearn\\model_selection\\_validation.py:680: DataConversionWarning: A column-vector y was passed when a 1d array was expected. Please change the shape of y to (n_samples,), for example using ravel().\n",
      "  estimator.fit(X_train, y_train, **fit_params)\n"
     ]
    },
    {
     "name": "stdout",
     "output_type": "stream",
     "text": [
      "[CV 4/5; 32/243] START max_depth=5, min_samples_leaf=4, min_samples_split=5, n_estimators=50, random_state=4\n",
      "[CV 4/5; 32/243] END max_depth=5, min_samples_leaf=4, min_samples_split=5, n_estimators=50, random_state=4;, score=0.485 total time=   0.1s\n",
      "[CV 5/5; 32/243] START max_depth=5, min_samples_leaf=4, min_samples_split=5, n_estimators=50, random_state=4\n"
     ]
    },
    {
     "name": "stderr",
     "output_type": "stream",
     "text": [
      "d:\\Apps\\Anaconda\\lib\\site-packages\\sklearn\\model_selection\\_validation.py:680: DataConversionWarning: A column-vector y was passed when a 1d array was expected. Please change the shape of y to (n_samples,), for example using ravel().\n",
      "  estimator.fit(X_train, y_train, **fit_params)\n",
      "d:\\Apps\\Anaconda\\lib\\site-packages\\sklearn\\model_selection\\_validation.py:680: DataConversionWarning: A column-vector y was passed when a 1d array was expected. Please change the shape of y to (n_samples,), for example using ravel().\n",
      "  estimator.fit(X_train, y_train, **fit_params)\n"
     ]
    },
    {
     "name": "stdout",
     "output_type": "stream",
     "text": [
      "[CV 5/5; 32/243] END max_depth=5, min_samples_leaf=4, min_samples_split=5, n_estimators=50, random_state=4;, score=0.505 total time=   0.1s\n",
      "[CV 1/5; 33/243] START max_depth=5, min_samples_leaf=4, min_samples_split=5, n_estimators=50, random_state=6\n",
      "[CV 1/5; 33/243] END max_depth=5, min_samples_leaf=4, min_samples_split=5, n_estimators=50, random_state=6;, score=0.719 total time=   0.1s\n",
      "[CV 2/5; 33/243] START max_depth=5, min_samples_leaf=4, min_samples_split=5, n_estimators=50, random_state=6\n"
     ]
    },
    {
     "name": "stderr",
     "output_type": "stream",
     "text": [
      "d:\\Apps\\Anaconda\\lib\\site-packages\\sklearn\\model_selection\\_validation.py:680: DataConversionWarning: A column-vector y was passed when a 1d array was expected. Please change the shape of y to (n_samples,), for example using ravel().\n",
      "  estimator.fit(X_train, y_train, **fit_params)\n",
      "d:\\Apps\\Anaconda\\lib\\site-packages\\sklearn\\model_selection\\_validation.py:680: DataConversionWarning: A column-vector y was passed when a 1d array was expected. Please change the shape of y to (n_samples,), for example using ravel().\n",
      "  estimator.fit(X_train, y_train, **fit_params)\n",
      "d:\\Apps\\Anaconda\\lib\\site-packages\\sklearn\\model_selection\\_validation.py:680: DataConversionWarning: A column-vector y was passed when a 1d array was expected. Please change the shape of y to (n_samples,), for example using ravel().\n",
      "  estimator.fit(X_train, y_train, **fit_params)\n"
     ]
    },
    {
     "name": "stdout",
     "output_type": "stream",
     "text": [
      "[CV 2/5; 33/243] END max_depth=5, min_samples_leaf=4, min_samples_split=5, n_estimators=50, random_state=6;, score=0.686 total time=   0.1s\n",
      "[CV 3/5; 33/243] START max_depth=5, min_samples_leaf=4, min_samples_split=5, n_estimators=50, random_state=6\n",
      "[CV 3/5; 33/243] END max_depth=5, min_samples_leaf=4, min_samples_split=5, n_estimators=50, random_state=6;, score=0.590 total time=   0.1s\n",
      "[CV 4/5; 33/243] START max_depth=5, min_samples_leaf=4, min_samples_split=5, n_estimators=50, random_state=6\n"
     ]
    },
    {
     "name": "stderr",
     "output_type": "stream",
     "text": [
      "d:\\Apps\\Anaconda\\lib\\site-packages\\sklearn\\model_selection\\_validation.py:680: DataConversionWarning: A column-vector y was passed when a 1d array was expected. Please change the shape of y to (n_samples,), for example using ravel().\n",
      "  estimator.fit(X_train, y_train, **fit_params)\n"
     ]
    },
    {
     "name": "stdout",
     "output_type": "stream",
     "text": [
      "[CV 4/5; 33/243] END max_depth=5, min_samples_leaf=4, min_samples_split=5, n_estimators=50, random_state=6;, score=0.425 total time=   0.1s\n",
      "[CV 5/5; 33/243] START max_depth=5, min_samples_leaf=4, min_samples_split=5, n_estimators=50, random_state=6\n",
      "[CV 5/5; 33/243] END max_depth=5, min_samples_leaf=4, min_samples_split=5, n_estimators=50, random_state=6;, score=0.517 total time=   0.1s\n",
      "[CV 1/5; 34/243] START max_depth=5, min_samples_leaf=4, min_samples_split=5, n_estimators=100, random_state=2\n"
     ]
    },
    {
     "name": "stderr",
     "output_type": "stream",
     "text": [
      "d:\\Apps\\Anaconda\\lib\\site-packages\\sklearn\\model_selection\\_validation.py:680: DataConversionWarning: A column-vector y was passed when a 1d array was expected. Please change the shape of y to (n_samples,), for example using ravel().\n",
      "  estimator.fit(X_train, y_train, **fit_params)\n",
      "d:\\Apps\\Anaconda\\lib\\site-packages\\sklearn\\model_selection\\_validation.py:680: DataConversionWarning: A column-vector y was passed when a 1d array was expected. Please change the shape of y to (n_samples,), for example using ravel().\n",
      "  estimator.fit(X_train, y_train, **fit_params)\n"
     ]
    },
    {
     "name": "stdout",
     "output_type": "stream",
     "text": [
      "[CV 1/5; 34/243] END max_depth=5, min_samples_leaf=4, min_samples_split=5, n_estimators=100, random_state=2;, score=0.698 total time=   0.3s\n",
      "[CV 2/5; 34/243] START max_depth=5, min_samples_leaf=4, min_samples_split=5, n_estimators=100, random_state=2\n"
     ]
    },
    {
     "name": "stderr",
     "output_type": "stream",
     "text": [
      "d:\\Apps\\Anaconda\\lib\\site-packages\\sklearn\\model_selection\\_validation.py:680: DataConversionWarning: A column-vector y was passed when a 1d array was expected. Please change the shape of y to (n_samples,), for example using ravel().\n",
      "  estimator.fit(X_train, y_train, **fit_params)\n"
     ]
    },
    {
     "name": "stdout",
     "output_type": "stream",
     "text": [
      "[CV 2/5; 34/243] END max_depth=5, min_samples_leaf=4, min_samples_split=5, n_estimators=100, random_state=2;, score=0.690 total time=   0.3s\n",
      "[CV 3/5; 34/243] START max_depth=5, min_samples_leaf=4, min_samples_split=5, n_estimators=100, random_state=2\n"
     ]
    },
    {
     "name": "stderr",
     "output_type": "stream",
     "text": [
      "d:\\Apps\\Anaconda\\lib\\site-packages\\sklearn\\model_selection\\_validation.py:680: DataConversionWarning: A column-vector y was passed when a 1d array was expected. Please change the shape of y to (n_samples,), for example using ravel().\n",
      "  estimator.fit(X_train, y_train, **fit_params)\n"
     ]
    },
    {
     "name": "stdout",
     "output_type": "stream",
     "text": [
      "[CV 3/5; 34/243] END max_depth=5, min_samples_leaf=4, min_samples_split=5, n_estimators=100, random_state=2;, score=0.592 total time=   0.3s\n",
      "[CV 4/5; 34/243] START max_depth=5, min_samples_leaf=4, min_samples_split=5, n_estimators=100, random_state=2\n"
     ]
    },
    {
     "name": "stderr",
     "output_type": "stream",
     "text": [
      "d:\\Apps\\Anaconda\\lib\\site-packages\\sklearn\\model_selection\\_validation.py:680: DataConversionWarning: A column-vector y was passed when a 1d array was expected. Please change the shape of y to (n_samples,), for example using ravel().\n",
      "  estimator.fit(X_train, y_train, **fit_params)\n"
     ]
    },
    {
     "name": "stdout",
     "output_type": "stream",
     "text": [
      "[CV 4/5; 34/243] END max_depth=5, min_samples_leaf=4, min_samples_split=5, n_estimators=100, random_state=2;, score=0.475 total time=   0.3s\n",
      "[CV 5/5; 34/243] START max_depth=5, min_samples_leaf=4, min_samples_split=5, n_estimators=100, random_state=2\n"
     ]
    },
    {
     "name": "stderr",
     "output_type": "stream",
     "text": [
      "d:\\Apps\\Anaconda\\lib\\site-packages\\sklearn\\model_selection\\_validation.py:680: DataConversionWarning: A column-vector y was passed when a 1d array was expected. Please change the shape of y to (n_samples,), for example using ravel().\n",
      "  estimator.fit(X_train, y_train, **fit_params)\n"
     ]
    },
    {
     "name": "stdout",
     "output_type": "stream",
     "text": [
      "[CV 5/5; 34/243] END max_depth=5, min_samples_leaf=4, min_samples_split=5, n_estimators=100, random_state=2;, score=0.513 total time=   0.3s\n",
      "[CV 1/5; 35/243] START max_depth=5, min_samples_leaf=4, min_samples_split=5, n_estimators=100, random_state=4\n"
     ]
    },
    {
     "name": "stderr",
     "output_type": "stream",
     "text": [
      "d:\\Apps\\Anaconda\\lib\\site-packages\\sklearn\\model_selection\\_validation.py:680: DataConversionWarning: A column-vector y was passed when a 1d array was expected. Please change the shape of y to (n_samples,), for example using ravel().\n",
      "  estimator.fit(X_train, y_train, **fit_params)\n"
     ]
    },
    {
     "name": "stdout",
     "output_type": "stream",
     "text": [
      "[CV 1/5; 35/243] END max_depth=5, min_samples_leaf=4, min_samples_split=5, n_estimators=100, random_state=4;, score=0.690 total time=   0.3s\n",
      "[CV 2/5; 35/243] START max_depth=5, min_samples_leaf=4, min_samples_split=5, n_estimators=100, random_state=4\n"
     ]
    },
    {
     "name": "stderr",
     "output_type": "stream",
     "text": [
      "d:\\Apps\\Anaconda\\lib\\site-packages\\sklearn\\model_selection\\_validation.py:680: DataConversionWarning: A column-vector y was passed when a 1d array was expected. Please change the shape of y to (n_samples,), for example using ravel().\n",
      "  estimator.fit(X_train, y_train, **fit_params)\n"
     ]
    },
    {
     "name": "stdout",
     "output_type": "stream",
     "text": [
      "[CV 2/5; 35/243] END max_depth=5, min_samples_leaf=4, min_samples_split=5, n_estimators=100, random_state=4;, score=0.698 total time=   0.3s\n",
      "[CV 3/5; 35/243] START max_depth=5, min_samples_leaf=4, min_samples_split=5, n_estimators=100, random_state=4\n"
     ]
    },
    {
     "name": "stderr",
     "output_type": "stream",
     "text": [
      "d:\\Apps\\Anaconda\\lib\\site-packages\\sklearn\\model_selection\\_validation.py:680: DataConversionWarning: A column-vector y was passed when a 1d array was expected. Please change the shape of y to (n_samples,), for example using ravel().\n",
      "  estimator.fit(X_train, y_train, **fit_params)\n"
     ]
    },
    {
     "name": "stdout",
     "output_type": "stream",
     "text": [
      "[CV 3/5; 35/243] END max_depth=5, min_samples_leaf=4, min_samples_split=5, n_estimators=100, random_state=4;, score=0.599 total time=   0.3s\n",
      "[CV 4/5; 35/243] START max_depth=5, min_samples_leaf=4, min_samples_split=5, n_estimators=100, random_state=4\n"
     ]
    },
    {
     "name": "stderr",
     "output_type": "stream",
     "text": [
      "d:\\Apps\\Anaconda\\lib\\site-packages\\sklearn\\model_selection\\_validation.py:680: DataConversionWarning: A column-vector y was passed when a 1d array was expected. Please change the shape of y to (n_samples,), for example using ravel().\n",
      "  estimator.fit(X_train, y_train, **fit_params)\n"
     ]
    },
    {
     "name": "stdout",
     "output_type": "stream",
     "text": [
      "[CV 4/5; 35/243] END max_depth=5, min_samples_leaf=4, min_samples_split=5, n_estimators=100, random_state=4;, score=0.478 total time=   0.3s\n",
      "[CV 5/5; 35/243] START max_depth=5, min_samples_leaf=4, min_samples_split=5, n_estimators=100, random_state=4\n"
     ]
    },
    {
     "name": "stderr",
     "output_type": "stream",
     "text": [
      "d:\\Apps\\Anaconda\\lib\\site-packages\\sklearn\\model_selection\\_validation.py:680: DataConversionWarning: A column-vector y was passed when a 1d array was expected. Please change the shape of y to (n_samples,), for example using ravel().\n",
      "  estimator.fit(X_train, y_train, **fit_params)\n"
     ]
    },
    {
     "name": "stdout",
     "output_type": "stream",
     "text": [
      "[CV 5/5; 35/243] END max_depth=5, min_samples_leaf=4, min_samples_split=5, n_estimators=100, random_state=4;, score=0.512 total time=   0.3s\n",
      "[CV 1/5; 36/243] START max_depth=5, min_samples_leaf=4, min_samples_split=5, n_estimators=100, random_state=6\n"
     ]
    },
    {
     "name": "stderr",
     "output_type": "stream",
     "text": [
      "d:\\Apps\\Anaconda\\lib\\site-packages\\sklearn\\model_selection\\_validation.py:680: DataConversionWarning: A column-vector y was passed when a 1d array was expected. Please change the shape of y to (n_samples,), for example using ravel().\n",
      "  estimator.fit(X_train, y_train, **fit_params)\n"
     ]
    },
    {
     "name": "stdout",
     "output_type": "stream",
     "text": [
      "[CV 1/5; 36/243] END max_depth=5, min_samples_leaf=4, min_samples_split=5, n_estimators=100, random_state=6;, score=0.710 total time=   0.3s\n",
      "[CV 2/5; 36/243] START max_depth=5, min_samples_leaf=4, min_samples_split=5, n_estimators=100, random_state=6\n"
     ]
    },
    {
     "name": "stderr",
     "output_type": "stream",
     "text": [
      "d:\\Apps\\Anaconda\\lib\\site-packages\\sklearn\\model_selection\\_validation.py:680: DataConversionWarning: A column-vector y was passed when a 1d array was expected. Please change the shape of y to (n_samples,), for example using ravel().\n",
      "  estimator.fit(X_train, y_train, **fit_params)\n"
     ]
    },
    {
     "name": "stdout",
     "output_type": "stream",
     "text": [
      "[CV 2/5; 36/243] END max_depth=5, min_samples_leaf=4, min_samples_split=5, n_estimators=100, random_state=6;, score=0.676 total time=   0.3s\n",
      "[CV 3/5; 36/243] START max_depth=5, min_samples_leaf=4, min_samples_split=5, n_estimators=100, random_state=6\n"
     ]
    },
    {
     "name": "stderr",
     "output_type": "stream",
     "text": [
      "d:\\Apps\\Anaconda\\lib\\site-packages\\sklearn\\model_selection\\_validation.py:680: DataConversionWarning: A column-vector y was passed when a 1d array was expected. Please change the shape of y to (n_samples,), for example using ravel().\n",
      "  estimator.fit(X_train, y_train, **fit_params)\n"
     ]
    },
    {
     "name": "stdout",
     "output_type": "stream",
     "text": [
      "[CV 3/5; 36/243] END max_depth=5, min_samples_leaf=4, min_samples_split=5, n_estimators=100, random_state=6;, score=0.591 total time=   0.3s\n",
      "[CV 4/5; 36/243] START max_depth=5, min_samples_leaf=4, min_samples_split=5, n_estimators=100, random_state=6\n"
     ]
    },
    {
     "name": "stderr",
     "output_type": "stream",
     "text": [
      "d:\\Apps\\Anaconda\\lib\\site-packages\\sklearn\\model_selection\\_validation.py:680: DataConversionWarning: A column-vector y was passed when a 1d array was expected. Please change the shape of y to (n_samples,), for example using ravel().\n",
      "  estimator.fit(X_train, y_train, **fit_params)\n"
     ]
    },
    {
     "name": "stdout",
     "output_type": "stream",
     "text": [
      "[CV 4/5; 36/243] END max_depth=5, min_samples_leaf=4, min_samples_split=5, n_estimators=100, random_state=6;, score=0.455 total time=   0.3s\n",
      "[CV 5/5; 36/243] START max_depth=5, min_samples_leaf=4, min_samples_split=5, n_estimators=100, random_state=6\n"
     ]
    },
    {
     "name": "stderr",
     "output_type": "stream",
     "text": [
      "d:\\Apps\\Anaconda\\lib\\site-packages\\sklearn\\model_selection\\_validation.py:680: DataConversionWarning: A column-vector y was passed when a 1d array was expected. Please change the shape of y to (n_samples,), for example using ravel().\n",
      "  estimator.fit(X_train, y_train, **fit_params)\n"
     ]
    },
    {
     "name": "stdout",
     "output_type": "stream",
     "text": [
      "[CV 5/5; 36/243] END max_depth=5, min_samples_leaf=4, min_samples_split=5, n_estimators=100, random_state=6;, score=0.517 total time=   0.3s\n",
      "[CV 1/5; 37/243] START max_depth=5, min_samples_leaf=4, min_samples_split=10, n_estimators=10, random_state=2\n",
      "[CV 1/5; 37/243] END max_depth=5, min_samples_leaf=4, min_samples_split=10, n_estimators=10, random_state=2;, score=0.700 total time=   0.0s\n",
      "[CV 2/5; 37/243] START max_depth=5, min_samples_leaf=4, min_samples_split=10, n_estimators=10, random_state=2\n",
      "[CV 2/5; 37/243] END max_depth=5, min_samples_leaf=4, min_samples_split=10, n_estimators=10, random_state=2;, score=0.722 total time=   0.0s\n",
      "[CV 3/5; 37/243] START max_depth=5, min_samples_leaf=4, min_samples_split=10, n_estimators=10, random_state=2\n",
      "[CV 3/5; 37/243] END max_depth=5, min_samples_leaf=4, min_samples_split=10, n_estimators=10, random_state=2;, score=0.569 total time=   0.0s\n",
      "[CV 4/5; 37/243] START max_depth=5, min_samples_leaf=4, min_samples_split=10, n_estimators=10, random_state=2\n",
      "[CV 4/5; 37/243] END max_depth=5, min_samples_leaf=4, min_samples_split=10, n_estimators=10, random_state=2;, score=0.376 total time=   0.0s\n",
      "[CV 5/5; 37/243] START max_depth=5, min_samples_leaf=4, min_samples_split=10, n_estimators=10, random_state=2\n"
     ]
    },
    {
     "name": "stderr",
     "output_type": "stream",
     "text": [
      "d:\\Apps\\Anaconda\\lib\\site-packages\\sklearn\\model_selection\\_validation.py:680: DataConversionWarning: A column-vector y was passed when a 1d array was expected. Please change the shape of y to (n_samples,), for example using ravel().\n",
      "  estimator.fit(X_train, y_train, **fit_params)\n",
      "d:\\Apps\\Anaconda\\lib\\site-packages\\sklearn\\model_selection\\_validation.py:680: DataConversionWarning: A column-vector y was passed when a 1d array was expected. Please change the shape of y to (n_samples,), for example using ravel().\n",
      "  estimator.fit(X_train, y_train, **fit_params)\n",
      "d:\\Apps\\Anaconda\\lib\\site-packages\\sklearn\\model_selection\\_validation.py:680: DataConversionWarning: A column-vector y was passed when a 1d array was expected. Please change the shape of y to (n_samples,), for example using ravel().\n",
      "  estimator.fit(X_train, y_train, **fit_params)\n",
      "d:\\Apps\\Anaconda\\lib\\site-packages\\sklearn\\model_selection\\_validation.py:680: DataConversionWarning: A column-vector y was passed when a 1d array was expected. Please change the shape of y to (n_samples,), for example using ravel().\n",
      "  estimator.fit(X_train, y_train, **fit_params)\n",
      "d:\\Apps\\Anaconda\\lib\\site-packages\\sklearn\\model_selection\\_validation.py:680: DataConversionWarning: A column-vector y was passed when a 1d array was expected. Please change the shape of y to (n_samples,), for example using ravel().\n",
      "  estimator.fit(X_train, y_train, **fit_params)\n"
     ]
    },
    {
     "name": "stdout",
     "output_type": "stream",
     "text": [
      "[CV 5/5; 37/243] END max_depth=5, min_samples_leaf=4, min_samples_split=10, n_estimators=10, random_state=2;, score=0.490 total time=   0.0s\n",
      "[CV 1/5; 38/243] START max_depth=5, min_samples_leaf=4, min_samples_split=10, n_estimators=10, random_state=4\n",
      "[CV 1/5; 38/243] END max_depth=5, min_samples_leaf=4, min_samples_split=10, n_estimators=10, random_state=4;, score=0.704 total time=   0.0s\n",
      "[CV 2/5; 38/243] START max_depth=5, min_samples_leaf=4, min_samples_split=10, n_estimators=10, random_state=4\n",
      "[CV 2/5; 38/243] END max_depth=5, min_samples_leaf=4, min_samples_split=10, n_estimators=10, random_state=4;, score=0.658 total time=   0.0s\n",
      "[CV 3/5; 38/243] START max_depth=5, min_samples_leaf=4, min_samples_split=10, n_estimators=10, random_state=4\n",
      "[CV 3/5; 38/243] END max_depth=5, min_samples_leaf=4, min_samples_split=10, n_estimators=10, random_state=4;, score=0.548 total time=   0.0s\n",
      "[CV 4/5; 38/243] START max_depth=5, min_samples_leaf=4, min_samples_split=10, n_estimators=10, random_state=4\n",
      "[CV 4/5; 38/243] END max_depth=5, min_samples_leaf=4, min_samples_split=10, n_estimators=10, random_state=4;, score=0.449 total time=   0.0s\n",
      "[CV 5/5; 38/243] START max_depth=5, min_samples_leaf=4, min_samples_split=10, n_estimators=10, random_state=4\n"
     ]
    },
    {
     "name": "stderr",
     "output_type": "stream",
     "text": [
      "d:\\Apps\\Anaconda\\lib\\site-packages\\sklearn\\model_selection\\_validation.py:680: DataConversionWarning: A column-vector y was passed when a 1d array was expected. Please change the shape of y to (n_samples,), for example using ravel().\n",
      "  estimator.fit(X_train, y_train, **fit_params)\n",
      "d:\\Apps\\Anaconda\\lib\\site-packages\\sklearn\\model_selection\\_validation.py:680: DataConversionWarning: A column-vector y was passed when a 1d array was expected. Please change the shape of y to (n_samples,), for example using ravel().\n",
      "  estimator.fit(X_train, y_train, **fit_params)\n",
      "d:\\Apps\\Anaconda\\lib\\site-packages\\sklearn\\model_selection\\_validation.py:680: DataConversionWarning: A column-vector y was passed when a 1d array was expected. Please change the shape of y to (n_samples,), for example using ravel().\n",
      "  estimator.fit(X_train, y_train, **fit_params)\n",
      "d:\\Apps\\Anaconda\\lib\\site-packages\\sklearn\\model_selection\\_validation.py:680: DataConversionWarning: A column-vector y was passed when a 1d array was expected. Please change the shape of y to (n_samples,), for example using ravel().\n",
      "  estimator.fit(X_train, y_train, **fit_params)\n",
      "d:\\Apps\\Anaconda\\lib\\site-packages\\sklearn\\model_selection\\_validation.py:680: DataConversionWarning: A column-vector y was passed when a 1d array was expected. Please change the shape of y to (n_samples,), for example using ravel().\n",
      "  estimator.fit(X_train, y_train, **fit_params)\n"
     ]
    },
    {
     "name": "stdout",
     "output_type": "stream",
     "text": [
      "[CV 5/5; 38/243] END max_depth=5, min_samples_leaf=4, min_samples_split=10, n_estimators=10, random_state=4;, score=0.523 total time=   0.0s\n",
      "[CV 1/5; 39/243] START max_depth=5, min_samples_leaf=4, min_samples_split=10, n_estimators=10, random_state=6\n",
      "[CV 1/5; 39/243] END max_depth=5, min_samples_leaf=4, min_samples_split=10, n_estimators=10, random_state=6;, score=0.715 total time=   0.0s\n",
      "[CV 2/5; 39/243] START max_depth=5, min_samples_leaf=4, min_samples_split=10, n_estimators=10, random_state=6\n",
      "[CV 2/5; 39/243] END max_depth=5, min_samples_leaf=4, min_samples_split=10, n_estimators=10, random_state=6;, score=0.657 total time=   0.0s\n",
      "[CV 3/5; 39/243] START max_depth=5, min_samples_leaf=4, min_samples_split=10, n_estimators=10, random_state=6\n",
      "[CV 3/5; 39/243] END max_depth=5, min_samples_leaf=4, min_samples_split=10, n_estimators=10, random_state=6;, score=0.597 total time=   0.0s\n",
      "[CV 4/5; 39/243] START max_depth=5, min_samples_leaf=4, min_samples_split=10, n_estimators=10, random_state=6\n",
      "[CV 4/5; 39/243] END max_depth=5, min_samples_leaf=4, min_samples_split=10, n_estimators=10, random_state=6;, score=0.369 total time=   0.0s\n",
      "[CV 5/5; 39/243] START max_depth=5, min_samples_leaf=4, min_samples_split=10, n_estimators=10, random_state=6\n"
     ]
    },
    {
     "name": "stderr",
     "output_type": "stream",
     "text": [
      "d:\\Apps\\Anaconda\\lib\\site-packages\\sklearn\\model_selection\\_validation.py:680: DataConversionWarning: A column-vector y was passed when a 1d array was expected. Please change the shape of y to (n_samples,), for example using ravel().\n",
      "  estimator.fit(X_train, y_train, **fit_params)\n",
      "d:\\Apps\\Anaconda\\lib\\site-packages\\sklearn\\model_selection\\_validation.py:680: DataConversionWarning: A column-vector y was passed when a 1d array was expected. Please change the shape of y to (n_samples,), for example using ravel().\n",
      "  estimator.fit(X_train, y_train, **fit_params)\n",
      "d:\\Apps\\Anaconda\\lib\\site-packages\\sklearn\\model_selection\\_validation.py:680: DataConversionWarning: A column-vector y was passed when a 1d array was expected. Please change the shape of y to (n_samples,), for example using ravel().\n",
      "  estimator.fit(X_train, y_train, **fit_params)\n",
      "d:\\Apps\\Anaconda\\lib\\site-packages\\sklearn\\model_selection\\_validation.py:680: DataConversionWarning: A column-vector y was passed when a 1d array was expected. Please change the shape of y to (n_samples,), for example using ravel().\n",
      "  estimator.fit(X_train, y_train, **fit_params)\n",
      "d:\\Apps\\Anaconda\\lib\\site-packages\\sklearn\\model_selection\\_validation.py:680: DataConversionWarning: A column-vector y was passed when a 1d array was expected. Please change the shape of y to (n_samples,), for example using ravel().\n",
      "  estimator.fit(X_train, y_train, **fit_params)\n",
      "d:\\Apps\\Anaconda\\lib\\site-packages\\sklearn\\model_selection\\_validation.py:680: DataConversionWarning: A column-vector y was passed when a 1d array was expected. Please change the shape of y to (n_samples,), for example using ravel().\n",
      "  estimator.fit(X_train, y_train, **fit_params)\n"
     ]
    },
    {
     "name": "stdout",
     "output_type": "stream",
     "text": [
      "[CV 5/5; 39/243] END max_depth=5, min_samples_leaf=4, min_samples_split=10, n_estimators=10, random_state=6;, score=0.507 total time=   0.0s\n",
      "[CV 1/5; 40/243] START max_depth=5, min_samples_leaf=4, min_samples_split=10, n_estimators=50, random_state=2\n",
      "[CV 1/5; 40/243] END max_depth=5, min_samples_leaf=4, min_samples_split=10, n_estimators=50, random_state=2;, score=0.706 total time=   0.1s\n",
      "[CV 2/5; 40/243] START max_depth=5, min_samples_leaf=4, min_samples_split=10, n_estimators=50, random_state=2\n"
     ]
    },
    {
     "name": "stderr",
     "output_type": "stream",
     "text": [
      "d:\\Apps\\Anaconda\\lib\\site-packages\\sklearn\\model_selection\\_validation.py:680: DataConversionWarning: A column-vector y was passed when a 1d array was expected. Please change the shape of y to (n_samples,), for example using ravel().\n",
      "  estimator.fit(X_train, y_train, **fit_params)\n"
     ]
    },
    {
     "name": "stdout",
     "output_type": "stream",
     "text": [
      "[CV 2/5; 40/243] END max_depth=5, min_samples_leaf=4, min_samples_split=10, n_estimators=50, random_state=2;, score=0.700 total time=   0.1s\n",
      "[CV 3/5; 40/243] START max_depth=5, min_samples_leaf=4, min_samples_split=10, n_estimators=50, random_state=2\n",
      "[CV 3/5; 40/243] END max_depth=5, min_samples_leaf=4, min_samples_split=10, n_estimators=50, random_state=2;, score=0.606 total time=   0.1s\n",
      "[CV 4/5; 40/243] START max_depth=5, min_samples_leaf=4, min_samples_split=10, n_estimators=50, random_state=2\n"
     ]
    },
    {
     "name": "stderr",
     "output_type": "stream",
     "text": [
      "d:\\Apps\\Anaconda\\lib\\site-packages\\sklearn\\model_selection\\_validation.py:680: DataConversionWarning: A column-vector y was passed when a 1d array was expected. Please change the shape of y to (n_samples,), for example using ravel().\n",
      "  estimator.fit(X_train, y_train, **fit_params)\n",
      "d:\\Apps\\Anaconda\\lib\\site-packages\\sklearn\\model_selection\\_validation.py:680: DataConversionWarning: A column-vector y was passed when a 1d array was expected. Please change the shape of y to (n_samples,), for example using ravel().\n",
      "  estimator.fit(X_train, y_train, **fit_params)\n"
     ]
    },
    {
     "name": "stdout",
     "output_type": "stream",
     "text": [
      "[CV 4/5; 40/243] END max_depth=5, min_samples_leaf=4, min_samples_split=10, n_estimators=50, random_state=2;, score=0.433 total time=   0.1s\n",
      "[CV 5/5; 40/243] START max_depth=5, min_samples_leaf=4, min_samples_split=10, n_estimators=50, random_state=2\n",
      "[CV 5/5; 40/243] END max_depth=5, min_samples_leaf=4, min_samples_split=10, n_estimators=50, random_state=2;, score=0.503 total time=   0.1s\n",
      "[CV 1/5; 41/243] START max_depth=5, min_samples_leaf=4, min_samples_split=10, n_estimators=50, random_state=4\n"
     ]
    },
    {
     "name": "stderr",
     "output_type": "stream",
     "text": [
      "d:\\Apps\\Anaconda\\lib\\site-packages\\sklearn\\model_selection\\_validation.py:680: DataConversionWarning: A column-vector y was passed when a 1d array was expected. Please change the shape of y to (n_samples,), for example using ravel().\n",
      "  estimator.fit(X_train, y_train, **fit_params)\n",
      "d:\\Apps\\Anaconda\\lib\\site-packages\\sklearn\\model_selection\\_validation.py:680: DataConversionWarning: A column-vector y was passed when a 1d array was expected. Please change the shape of y to (n_samples,), for example using ravel().\n",
      "  estimator.fit(X_train, y_train, **fit_params)\n"
     ]
    },
    {
     "name": "stdout",
     "output_type": "stream",
     "text": [
      "[CV 1/5; 41/243] END max_depth=5, min_samples_leaf=4, min_samples_split=10, n_estimators=50, random_state=4;, score=0.667 total time=   0.1s\n",
      "[CV 2/5; 41/243] START max_depth=5, min_samples_leaf=4, min_samples_split=10, n_estimators=50, random_state=4\n",
      "[CV 2/5; 41/243] END max_depth=5, min_samples_leaf=4, min_samples_split=10, n_estimators=50, random_state=4;, score=0.694 total time=   0.1s\n",
      "[CV 3/5; 41/243] START max_depth=5, min_samples_leaf=4, min_samples_split=10, n_estimators=50, random_state=4\n"
     ]
    },
    {
     "name": "stderr",
     "output_type": "stream",
     "text": [
      "d:\\Apps\\Anaconda\\lib\\site-packages\\sklearn\\model_selection\\_validation.py:680: DataConversionWarning: A column-vector y was passed when a 1d array was expected. Please change the shape of y to (n_samples,), for example using ravel().\n",
      "  estimator.fit(X_train, y_train, **fit_params)\n",
      "d:\\Apps\\Anaconda\\lib\\site-packages\\sklearn\\model_selection\\_validation.py:680: DataConversionWarning: A column-vector y was passed when a 1d array was expected. Please change the shape of y to (n_samples,), for example using ravel().\n",
      "  estimator.fit(X_train, y_train, **fit_params)\n"
     ]
    },
    {
     "name": "stdout",
     "output_type": "stream",
     "text": [
      "[CV 3/5; 41/243] END max_depth=5, min_samples_leaf=4, min_samples_split=10, n_estimators=50, random_state=4;, score=0.576 total time=   0.1s\n",
      "[CV 4/5; 41/243] START max_depth=5, min_samples_leaf=4, min_samples_split=10, n_estimators=50, random_state=4\n",
      "[CV 4/5; 41/243] END max_depth=5, min_samples_leaf=4, min_samples_split=10, n_estimators=50, random_state=4;, score=0.491 total time=   0.1s\n",
      "[CV 5/5; 41/243] START max_depth=5, min_samples_leaf=4, min_samples_split=10, n_estimators=50, random_state=4\n"
     ]
    },
    {
     "name": "stderr",
     "output_type": "stream",
     "text": [
      "d:\\Apps\\Anaconda\\lib\\site-packages\\sklearn\\model_selection\\_validation.py:680: DataConversionWarning: A column-vector y was passed when a 1d array was expected. Please change the shape of y to (n_samples,), for example using ravel().\n",
      "  estimator.fit(X_train, y_train, **fit_params)\n",
      "d:\\Apps\\Anaconda\\lib\\site-packages\\sklearn\\model_selection\\_validation.py:680: DataConversionWarning: A column-vector y was passed when a 1d array was expected. Please change the shape of y to (n_samples,), for example using ravel().\n",
      "  estimator.fit(X_train, y_train, **fit_params)\n"
     ]
    },
    {
     "name": "stdout",
     "output_type": "stream",
     "text": [
      "[CV 5/5; 41/243] END max_depth=5, min_samples_leaf=4, min_samples_split=10, n_estimators=50, random_state=4;, score=0.503 total time=   0.1s\n",
      "[CV 1/5; 42/243] START max_depth=5, min_samples_leaf=4, min_samples_split=10, n_estimators=50, random_state=6\n",
      "[CV 1/5; 42/243] END max_depth=5, min_samples_leaf=4, min_samples_split=10, n_estimators=50, random_state=6;, score=0.717 total time=   0.1s\n",
      "[CV 2/5; 42/243] START max_depth=5, min_samples_leaf=4, min_samples_split=10, n_estimators=50, random_state=6\n"
     ]
    },
    {
     "name": "stderr",
     "output_type": "stream",
     "text": [
      "d:\\Apps\\Anaconda\\lib\\site-packages\\sklearn\\model_selection\\_validation.py:680: DataConversionWarning: A column-vector y was passed when a 1d array was expected. Please change the shape of y to (n_samples,), for example using ravel().\n",
      "  estimator.fit(X_train, y_train, **fit_params)\n",
      "d:\\Apps\\Anaconda\\lib\\site-packages\\sklearn\\model_selection\\_validation.py:680: DataConversionWarning: A column-vector y was passed when a 1d array was expected. Please change the shape of y to (n_samples,), for example using ravel().\n",
      "  estimator.fit(X_train, y_train, **fit_params)\n"
     ]
    },
    {
     "name": "stdout",
     "output_type": "stream",
     "text": [
      "[CV 2/5; 42/243] END max_depth=5, min_samples_leaf=4, min_samples_split=10, n_estimators=50, random_state=6;, score=0.688 total time=   0.1s\n",
      "[CV 3/5; 42/243] START max_depth=5, min_samples_leaf=4, min_samples_split=10, n_estimators=50, random_state=6\n",
      "[CV 3/5; 42/243] END max_depth=5, min_samples_leaf=4, min_samples_split=10, n_estimators=50, random_state=6;, score=0.586 total time=   0.1s\n"
     ]
    },
    {
     "name": "stderr",
     "output_type": "stream",
     "text": [
      "d:\\Apps\\Anaconda\\lib\\site-packages\\sklearn\\model_selection\\_validation.py:680: DataConversionWarning: A column-vector y was passed when a 1d array was expected. Please change the shape of y to (n_samples,), for example using ravel().\n",
      "  estimator.fit(X_train, y_train, **fit_params)\n"
     ]
    },
    {
     "name": "stdout",
     "output_type": "stream",
     "text": [
      "[CV 4/5; 42/243] START max_depth=5, min_samples_leaf=4, min_samples_split=10, n_estimators=50, random_state=6\n",
      "[CV 4/5; 42/243] END max_depth=5, min_samples_leaf=4, min_samples_split=10, n_estimators=50, random_state=6;, score=0.424 total time=   0.1s\n",
      "[CV 5/5; 42/243] START max_depth=5, min_samples_leaf=4, min_samples_split=10, n_estimators=50, random_state=6\n"
     ]
    },
    {
     "name": "stderr",
     "output_type": "stream",
     "text": [
      "d:\\Apps\\Anaconda\\lib\\site-packages\\sklearn\\model_selection\\_validation.py:680: DataConversionWarning: A column-vector y was passed when a 1d array was expected. Please change the shape of y to (n_samples,), for example using ravel().\n",
      "  estimator.fit(X_train, y_train, **fit_params)\n",
      "d:\\Apps\\Anaconda\\lib\\site-packages\\sklearn\\model_selection\\_validation.py:680: DataConversionWarning: A column-vector y was passed when a 1d array was expected. Please change the shape of y to (n_samples,), for example using ravel().\n",
      "  estimator.fit(X_train, y_train, **fit_params)\n"
     ]
    },
    {
     "name": "stdout",
     "output_type": "stream",
     "text": [
      "[CV 5/5; 42/243] END max_depth=5, min_samples_leaf=4, min_samples_split=10, n_estimators=50, random_state=6;, score=0.513 total time=   0.1s\n",
      "[CV 1/5; 43/243] START max_depth=5, min_samples_leaf=4, min_samples_split=10, n_estimators=100, random_state=2\n"
     ]
    },
    {
     "name": "stderr",
     "output_type": "stream",
     "text": [
      "d:\\Apps\\Anaconda\\lib\\site-packages\\sklearn\\model_selection\\_validation.py:680: DataConversionWarning: A column-vector y was passed when a 1d array was expected. Please change the shape of y to (n_samples,), for example using ravel().\n",
      "  estimator.fit(X_train, y_train, **fit_params)\n"
     ]
    },
    {
     "name": "stdout",
     "output_type": "stream",
     "text": [
      "[CV 1/5; 43/243] END max_depth=5, min_samples_leaf=4, min_samples_split=10, n_estimators=100, random_state=2;, score=0.698 total time=   0.3s\n",
      "[CV 2/5; 43/243] START max_depth=5, min_samples_leaf=4, min_samples_split=10, n_estimators=100, random_state=2\n"
     ]
    },
    {
     "name": "stderr",
     "output_type": "stream",
     "text": [
      "d:\\Apps\\Anaconda\\lib\\site-packages\\sklearn\\model_selection\\_validation.py:680: DataConversionWarning: A column-vector y was passed when a 1d array was expected. Please change the shape of y to (n_samples,), for example using ravel().\n",
      "  estimator.fit(X_train, y_train, **fit_params)\n"
     ]
    },
    {
     "name": "stdout",
     "output_type": "stream",
     "text": [
      "[CV 2/5; 43/243] END max_depth=5, min_samples_leaf=4, min_samples_split=10, n_estimators=100, random_state=2;, score=0.689 total time=   0.3s\n",
      "[CV 3/5; 43/243] START max_depth=5, min_samples_leaf=4, min_samples_split=10, n_estimators=100, random_state=2\n"
     ]
    },
    {
     "name": "stderr",
     "output_type": "stream",
     "text": [
      "d:\\Apps\\Anaconda\\lib\\site-packages\\sklearn\\model_selection\\_validation.py:680: DataConversionWarning: A column-vector y was passed when a 1d array was expected. Please change the shape of y to (n_samples,), for example using ravel().\n",
      "  estimator.fit(X_train, y_train, **fit_params)\n"
     ]
    },
    {
     "name": "stdout",
     "output_type": "stream",
     "text": [
      "[CV 3/5; 43/243] END max_depth=5, min_samples_leaf=4, min_samples_split=10, n_estimators=100, random_state=2;, score=0.590 total time=   0.3s\n",
      "[CV 4/5; 43/243] START max_depth=5, min_samples_leaf=4, min_samples_split=10, n_estimators=100, random_state=2\n"
     ]
    },
    {
     "name": "stderr",
     "output_type": "stream",
     "text": [
      "d:\\Apps\\Anaconda\\lib\\site-packages\\sklearn\\model_selection\\_validation.py:680: DataConversionWarning: A column-vector y was passed when a 1d array was expected. Please change the shape of y to (n_samples,), for example using ravel().\n",
      "  estimator.fit(X_train, y_train, **fit_params)\n"
     ]
    },
    {
     "name": "stdout",
     "output_type": "stream",
     "text": [
      "[CV 4/5; 43/243] END max_depth=5, min_samples_leaf=4, min_samples_split=10, n_estimators=100, random_state=2;, score=0.475 total time=   0.3s\n",
      "[CV 5/5; 43/243] START max_depth=5, min_samples_leaf=4, min_samples_split=10, n_estimators=100, random_state=2\n"
     ]
    },
    {
     "name": "stderr",
     "output_type": "stream",
     "text": [
      "d:\\Apps\\Anaconda\\lib\\site-packages\\sklearn\\model_selection\\_validation.py:680: DataConversionWarning: A column-vector y was passed when a 1d array was expected. Please change the shape of y to (n_samples,), for example using ravel().\n",
      "  estimator.fit(X_train, y_train, **fit_params)\n"
     ]
    },
    {
     "name": "stdout",
     "output_type": "stream",
     "text": [
      "[CV 5/5; 43/243] END max_depth=5, min_samples_leaf=4, min_samples_split=10, n_estimators=100, random_state=2;, score=0.512 total time=   0.3s\n",
      "[CV 1/5; 44/243] START max_depth=5, min_samples_leaf=4, min_samples_split=10, n_estimators=100, random_state=4\n"
     ]
    },
    {
     "name": "stderr",
     "output_type": "stream",
     "text": [
      "d:\\Apps\\Anaconda\\lib\\site-packages\\sklearn\\model_selection\\_validation.py:680: DataConversionWarning: A column-vector y was passed when a 1d array was expected. Please change the shape of y to (n_samples,), for example using ravel().\n",
      "  estimator.fit(X_train, y_train, **fit_params)\n"
     ]
    },
    {
     "name": "stdout",
     "output_type": "stream",
     "text": [
      "[CV 1/5; 44/243] END max_depth=5, min_samples_leaf=4, min_samples_split=10, n_estimators=100, random_state=4;, score=0.692 total time=   0.3s\n",
      "[CV 2/5; 44/243] START max_depth=5, min_samples_leaf=4, min_samples_split=10, n_estimators=100, random_state=4\n"
     ]
    },
    {
     "name": "stderr",
     "output_type": "stream",
     "text": [
      "d:\\Apps\\Anaconda\\lib\\site-packages\\sklearn\\model_selection\\_validation.py:680: DataConversionWarning: A column-vector y was passed when a 1d array was expected. Please change the shape of y to (n_samples,), for example using ravel().\n",
      "  estimator.fit(X_train, y_train, **fit_params)\n"
     ]
    },
    {
     "name": "stdout",
     "output_type": "stream",
     "text": [
      "[CV 2/5; 44/243] END max_depth=5, min_samples_leaf=4, min_samples_split=10, n_estimators=100, random_state=4;, score=0.699 total time=   0.3s\n",
      "[CV 3/5; 44/243] START max_depth=5, min_samples_leaf=4, min_samples_split=10, n_estimators=100, random_state=4\n"
     ]
    },
    {
     "name": "stderr",
     "output_type": "stream",
     "text": [
      "d:\\Apps\\Anaconda\\lib\\site-packages\\sklearn\\model_selection\\_validation.py:680: DataConversionWarning: A column-vector y was passed when a 1d array was expected. Please change the shape of y to (n_samples,), for example using ravel().\n",
      "  estimator.fit(X_train, y_train, **fit_params)\n"
     ]
    },
    {
     "name": "stdout",
     "output_type": "stream",
     "text": [
      "[CV 3/5; 44/243] END max_depth=5, min_samples_leaf=4, min_samples_split=10, n_estimators=100, random_state=4;, score=0.596 total time=   0.3s\n",
      "[CV 4/5; 44/243] START max_depth=5, min_samples_leaf=4, min_samples_split=10, n_estimators=100, random_state=4\n"
     ]
    },
    {
     "name": "stderr",
     "output_type": "stream",
     "text": [
      "d:\\Apps\\Anaconda\\lib\\site-packages\\sklearn\\model_selection\\_validation.py:680: DataConversionWarning: A column-vector y was passed when a 1d array was expected. Please change the shape of y to (n_samples,), for example using ravel().\n",
      "  estimator.fit(X_train, y_train, **fit_params)\n"
     ]
    },
    {
     "name": "stdout",
     "output_type": "stream",
     "text": [
      "[CV 4/5; 44/243] END max_depth=5, min_samples_leaf=4, min_samples_split=10, n_estimators=100, random_state=4;, score=0.478 total time=   0.3s\n",
      "[CV 5/5; 44/243] START max_depth=5, min_samples_leaf=4, min_samples_split=10, n_estimators=100, random_state=4\n"
     ]
    },
    {
     "name": "stderr",
     "output_type": "stream",
     "text": [
      "d:\\Apps\\Anaconda\\lib\\site-packages\\sklearn\\model_selection\\_validation.py:680: DataConversionWarning: A column-vector y was passed when a 1d array was expected. Please change the shape of y to (n_samples,), for example using ravel().\n",
      "  estimator.fit(X_train, y_train, **fit_params)\n"
     ]
    },
    {
     "name": "stdout",
     "output_type": "stream",
     "text": [
      "[CV 5/5; 44/243] END max_depth=5, min_samples_leaf=4, min_samples_split=10, n_estimators=100, random_state=4;, score=0.510 total time=   0.3s\n",
      "[CV 1/5; 45/243] START max_depth=5, min_samples_leaf=4, min_samples_split=10, n_estimators=100, random_state=6\n"
     ]
    },
    {
     "name": "stderr",
     "output_type": "stream",
     "text": [
      "d:\\Apps\\Anaconda\\lib\\site-packages\\sklearn\\model_selection\\_validation.py:680: DataConversionWarning: A column-vector y was passed when a 1d array was expected. Please change the shape of y to (n_samples,), for example using ravel().\n",
      "  estimator.fit(X_train, y_train, **fit_params)\n"
     ]
    },
    {
     "name": "stdout",
     "output_type": "stream",
     "text": [
      "[CV 1/5; 45/243] END max_depth=5, min_samples_leaf=4, min_samples_split=10, n_estimators=100, random_state=6;, score=0.708 total time=   0.3s\n",
      "[CV 2/5; 45/243] START max_depth=5, min_samples_leaf=4, min_samples_split=10, n_estimators=100, random_state=6\n"
     ]
    },
    {
     "name": "stderr",
     "output_type": "stream",
     "text": [
      "d:\\Apps\\Anaconda\\lib\\site-packages\\sklearn\\model_selection\\_validation.py:680: DataConversionWarning: A column-vector y was passed when a 1d array was expected. Please change the shape of y to (n_samples,), for example using ravel().\n",
      "  estimator.fit(X_train, y_train, **fit_params)\n"
     ]
    },
    {
     "name": "stdout",
     "output_type": "stream",
     "text": [
      "[CV 2/5; 45/243] END max_depth=5, min_samples_leaf=4, min_samples_split=10, n_estimators=100, random_state=6;, score=0.681 total time=   0.3s\n",
      "[CV 3/5; 45/243] START max_depth=5, min_samples_leaf=4, min_samples_split=10, n_estimators=100, random_state=6\n"
     ]
    },
    {
     "name": "stderr",
     "output_type": "stream",
     "text": [
      "d:\\Apps\\Anaconda\\lib\\site-packages\\sklearn\\model_selection\\_validation.py:680: DataConversionWarning: A column-vector y was passed when a 1d array was expected. Please change the shape of y to (n_samples,), for example using ravel().\n",
      "  estimator.fit(X_train, y_train, **fit_params)\n"
     ]
    },
    {
     "name": "stdout",
     "output_type": "stream",
     "text": [
      "[CV 3/5; 45/243] END max_depth=5, min_samples_leaf=4, min_samples_split=10, n_estimators=100, random_state=6;, score=0.588 total time=   0.3s\n",
      "[CV 4/5; 45/243] START max_depth=5, min_samples_leaf=4, min_samples_split=10, n_estimators=100, random_state=6\n"
     ]
    },
    {
     "name": "stderr",
     "output_type": "stream",
     "text": [
      "d:\\Apps\\Anaconda\\lib\\site-packages\\sklearn\\model_selection\\_validation.py:680: DataConversionWarning: A column-vector y was passed when a 1d array was expected. Please change the shape of y to (n_samples,), for example using ravel().\n",
      "  estimator.fit(X_train, y_train, **fit_params)\n"
     ]
    },
    {
     "name": "stdout",
     "output_type": "stream",
     "text": [
      "[CV 4/5; 45/243] END max_depth=5, min_samples_leaf=4, min_samples_split=10, n_estimators=100, random_state=6;, score=0.458 total time=   0.3s\n",
      "[CV 5/5; 45/243] START max_depth=5, min_samples_leaf=4, min_samples_split=10, n_estimators=100, random_state=6\n"
     ]
    },
    {
     "name": "stderr",
     "output_type": "stream",
     "text": [
      "d:\\Apps\\Anaconda\\lib\\site-packages\\sklearn\\model_selection\\_validation.py:680: DataConversionWarning: A column-vector y was passed when a 1d array was expected. Please change the shape of y to (n_samples,), for example using ravel().\n",
      "  estimator.fit(X_train, y_train, **fit_params)\n"
     ]
    },
    {
     "name": "stdout",
     "output_type": "stream",
     "text": [
      "[CV 5/5; 45/243] END max_depth=5, min_samples_leaf=4, min_samples_split=10, n_estimators=100, random_state=6;, score=0.515 total time=   0.3s\n",
      "[CV 1/5; 46/243] START max_depth=5, min_samples_leaf=4, min_samples_split=15, n_estimators=10, random_state=2\n",
      "[CV 1/5; 46/243] END max_depth=5, min_samples_leaf=4, min_samples_split=15, n_estimators=10, random_state=2;, score=0.718 total time=   0.0s\n",
      "[CV 2/5; 46/243] START max_depth=5, min_samples_leaf=4, min_samples_split=15, n_estimators=10, random_state=2\n",
      "[CV 2/5; 46/243] END max_depth=5, min_samples_leaf=4, min_samples_split=15, n_estimators=10, random_state=2;, score=0.690 total time=   0.0s\n",
      "[CV 3/5; 46/243] START max_depth=5, min_samples_leaf=4, min_samples_split=15, n_estimators=10, random_state=2\n",
      "[CV 3/5; 46/243] END max_depth=5, min_samples_leaf=4, min_samples_split=15, n_estimators=10, random_state=2;, score=0.565 total time=   0.0s\n",
      "[CV 4/5; 46/243] START max_depth=5, min_samples_leaf=4, min_samples_split=15, n_estimators=10, random_state=2\n",
      "[CV 4/5; 46/243] END max_depth=5, min_samples_leaf=4, min_samples_split=15, n_estimators=10, random_state=2;, score=0.366 total time=   0.0s\n",
      "[CV 5/5; 46/243] START max_depth=5, min_samples_leaf=4, min_samples_split=15, n_estimators=10, random_state=2\n"
     ]
    },
    {
     "name": "stderr",
     "output_type": "stream",
     "text": [
      "d:\\Apps\\Anaconda\\lib\\site-packages\\sklearn\\model_selection\\_validation.py:680: DataConversionWarning: A column-vector y was passed when a 1d array was expected. Please change the shape of y to (n_samples,), for example using ravel().\n",
      "  estimator.fit(X_train, y_train, **fit_params)\n",
      "d:\\Apps\\Anaconda\\lib\\site-packages\\sklearn\\model_selection\\_validation.py:680: DataConversionWarning: A column-vector y was passed when a 1d array was expected. Please change the shape of y to (n_samples,), for example using ravel().\n",
      "  estimator.fit(X_train, y_train, **fit_params)\n",
      "d:\\Apps\\Anaconda\\lib\\site-packages\\sklearn\\model_selection\\_validation.py:680: DataConversionWarning: A column-vector y was passed when a 1d array was expected. Please change the shape of y to (n_samples,), for example using ravel().\n",
      "  estimator.fit(X_train, y_train, **fit_params)\n",
      "d:\\Apps\\Anaconda\\lib\\site-packages\\sklearn\\model_selection\\_validation.py:680: DataConversionWarning: A column-vector y was passed when a 1d array was expected. Please change the shape of y to (n_samples,), for example using ravel().\n",
      "  estimator.fit(X_train, y_train, **fit_params)\n",
      "d:\\Apps\\Anaconda\\lib\\site-packages\\sklearn\\model_selection\\_validation.py:680: DataConversionWarning: A column-vector y was passed when a 1d array was expected. Please change the shape of y to (n_samples,), for example using ravel().\n",
      "  estimator.fit(X_train, y_train, **fit_params)\n"
     ]
    },
    {
     "name": "stdout",
     "output_type": "stream",
     "text": [
      "[CV 5/5; 46/243] END max_depth=5, min_samples_leaf=4, min_samples_split=15, n_estimators=10, random_state=2;, score=0.456 total time=   0.0s\n",
      "[CV 1/5; 47/243] START max_depth=5, min_samples_leaf=4, min_samples_split=15, n_estimators=10, random_state=4\n",
      "[CV 1/5; 47/243] END max_depth=5, min_samples_leaf=4, min_samples_split=15, n_estimators=10, random_state=4;, score=0.707 total time=   0.0s\n",
      "[CV 2/5; 47/243] START max_depth=5, min_samples_leaf=4, min_samples_split=15, n_estimators=10, random_state=4\n",
      "[CV 2/5; 47/243] END max_depth=5, min_samples_leaf=4, min_samples_split=15, n_estimators=10, random_state=4;, score=0.641 total time=   0.0s\n",
      "[CV 3/5; 47/243] START max_depth=5, min_samples_leaf=4, min_samples_split=15, n_estimators=10, random_state=4\n",
      "[CV 3/5; 47/243] END max_depth=5, min_samples_leaf=4, min_samples_split=15, n_estimators=10, random_state=4;, score=0.538 total time=   0.0s\n",
      "[CV 4/5; 47/243] START max_depth=5, min_samples_leaf=4, min_samples_split=15, n_estimators=10, random_state=4\n",
      "[CV 4/5; 47/243] END max_depth=5, min_samples_leaf=4, min_samples_split=15, n_estimators=10, random_state=4;, score=0.455 total time=   0.0s\n",
      "[CV 5/5; 47/243] START max_depth=5, min_samples_leaf=4, min_samples_split=15, n_estimators=10, random_state=4\n"
     ]
    },
    {
     "name": "stderr",
     "output_type": "stream",
     "text": [
      "d:\\Apps\\Anaconda\\lib\\site-packages\\sklearn\\model_selection\\_validation.py:680: DataConversionWarning: A column-vector y was passed when a 1d array was expected. Please change the shape of y to (n_samples,), for example using ravel().\n",
      "  estimator.fit(X_train, y_train, **fit_params)\n",
      "d:\\Apps\\Anaconda\\lib\\site-packages\\sklearn\\model_selection\\_validation.py:680: DataConversionWarning: A column-vector y was passed when a 1d array was expected. Please change the shape of y to (n_samples,), for example using ravel().\n",
      "  estimator.fit(X_train, y_train, **fit_params)\n",
      "d:\\Apps\\Anaconda\\lib\\site-packages\\sklearn\\model_selection\\_validation.py:680: DataConversionWarning: A column-vector y was passed when a 1d array was expected. Please change the shape of y to (n_samples,), for example using ravel().\n",
      "  estimator.fit(X_train, y_train, **fit_params)\n",
      "d:\\Apps\\Anaconda\\lib\\site-packages\\sklearn\\model_selection\\_validation.py:680: DataConversionWarning: A column-vector y was passed when a 1d array was expected. Please change the shape of y to (n_samples,), for example using ravel().\n",
      "  estimator.fit(X_train, y_train, **fit_params)\n",
      "d:\\Apps\\Anaconda\\lib\\site-packages\\sklearn\\model_selection\\_validation.py:680: DataConversionWarning: A column-vector y was passed when a 1d array was expected. Please change the shape of y to (n_samples,), for example using ravel().\n",
      "  estimator.fit(X_train, y_train, **fit_params)\n"
     ]
    },
    {
     "name": "stdout",
     "output_type": "stream",
     "text": [
      "[CV 5/5; 47/243] END max_depth=5, min_samples_leaf=4, min_samples_split=15, n_estimators=10, random_state=4;, score=0.508 total time=   0.0s\n",
      "[CV 1/5; 48/243] START max_depth=5, min_samples_leaf=4, min_samples_split=15, n_estimators=10, random_state=6\n",
      "[CV 1/5; 48/243] END max_depth=5, min_samples_leaf=4, min_samples_split=15, n_estimators=10, random_state=6;, score=0.723 total time=   0.0s\n",
      "[CV 2/5; 48/243] START max_depth=5, min_samples_leaf=4, min_samples_split=15, n_estimators=10, random_state=6\n",
      "[CV 2/5; 48/243] END max_depth=5, min_samples_leaf=4, min_samples_split=15, n_estimators=10, random_state=6;, score=0.649 total time=   0.0s\n",
      "[CV 3/5; 48/243] START max_depth=5, min_samples_leaf=4, min_samples_split=15, n_estimators=10, random_state=6\n",
      "[CV 3/5; 48/243] END max_depth=5, min_samples_leaf=4, min_samples_split=15, n_estimators=10, random_state=6;, score=0.554 total time=   0.0s\n",
      "[CV 4/5; 48/243] START max_depth=5, min_samples_leaf=4, min_samples_split=15, n_estimators=10, random_state=6\n",
      "[CV 4/5; 48/243] END max_depth=5, min_samples_leaf=4, min_samples_split=15, n_estimators=10, random_state=6;, score=0.380 total time=   0.0s\n",
      "[CV 5/5; 48/243] START max_depth=5, min_samples_leaf=4, min_samples_split=15, n_estimators=10, random_state=6\n"
     ]
    },
    {
     "name": "stderr",
     "output_type": "stream",
     "text": [
      "d:\\Apps\\Anaconda\\lib\\site-packages\\sklearn\\model_selection\\_validation.py:680: DataConversionWarning: A column-vector y was passed when a 1d array was expected. Please change the shape of y to (n_samples,), for example using ravel().\n",
      "  estimator.fit(X_train, y_train, **fit_params)\n",
      "d:\\Apps\\Anaconda\\lib\\site-packages\\sklearn\\model_selection\\_validation.py:680: DataConversionWarning: A column-vector y was passed when a 1d array was expected. Please change the shape of y to (n_samples,), for example using ravel().\n",
      "  estimator.fit(X_train, y_train, **fit_params)\n",
      "d:\\Apps\\Anaconda\\lib\\site-packages\\sklearn\\model_selection\\_validation.py:680: DataConversionWarning: A column-vector y was passed when a 1d array was expected. Please change the shape of y to (n_samples,), for example using ravel().\n",
      "  estimator.fit(X_train, y_train, **fit_params)\n",
      "d:\\Apps\\Anaconda\\lib\\site-packages\\sklearn\\model_selection\\_validation.py:680: DataConversionWarning: A column-vector y was passed when a 1d array was expected. Please change the shape of y to (n_samples,), for example using ravel().\n",
      "  estimator.fit(X_train, y_train, **fit_params)\n",
      "d:\\Apps\\Anaconda\\lib\\site-packages\\sklearn\\model_selection\\_validation.py:680: DataConversionWarning: A column-vector y was passed when a 1d array was expected. Please change the shape of y to (n_samples,), for example using ravel().\n",
      "  estimator.fit(X_train, y_train, **fit_params)\n"
     ]
    },
    {
     "name": "stdout",
     "output_type": "stream",
     "text": [
      "[CV 5/5; 48/243] END max_depth=5, min_samples_leaf=4, min_samples_split=15, n_estimators=10, random_state=6;, score=0.469 total time=   0.0s\n",
      "[CV 1/5; 49/243] START max_depth=5, min_samples_leaf=4, min_samples_split=15, n_estimators=50, random_state=2\n",
      "[CV 1/5; 49/243] END max_depth=5, min_samples_leaf=4, min_samples_split=15, n_estimators=50, random_state=2;, score=0.722 total time=   0.1s\n",
      "[CV 2/5; 49/243] START max_depth=5, min_samples_leaf=4, min_samples_split=15, n_estimators=50, random_state=2\n"
     ]
    },
    {
     "name": "stderr",
     "output_type": "stream",
     "text": [
      "d:\\Apps\\Anaconda\\lib\\site-packages\\sklearn\\model_selection\\_validation.py:680: DataConversionWarning: A column-vector y was passed when a 1d array was expected. Please change the shape of y to (n_samples,), for example using ravel().\n",
      "  estimator.fit(X_train, y_train, **fit_params)\n",
      "d:\\Apps\\Anaconda\\lib\\site-packages\\sklearn\\model_selection\\_validation.py:680: DataConversionWarning: A column-vector y was passed when a 1d array was expected. Please change the shape of y to (n_samples,), for example using ravel().\n",
      "  estimator.fit(X_train, y_train, **fit_params)\n",
      "d:\\Apps\\Anaconda\\lib\\site-packages\\sklearn\\model_selection\\_validation.py:680: DataConversionWarning: A column-vector y was passed when a 1d array was expected. Please change the shape of y to (n_samples,), for example using ravel().\n",
      "  estimator.fit(X_train, y_train, **fit_params)\n"
     ]
    },
    {
     "name": "stdout",
     "output_type": "stream",
     "text": [
      "[CV 2/5; 49/243] END max_depth=5, min_samples_leaf=4, min_samples_split=15, n_estimators=50, random_state=2;, score=0.681 total time=   0.1s\n",
      "[CV 3/5; 49/243] START max_depth=5, min_samples_leaf=4, min_samples_split=15, n_estimators=50, random_state=2\n",
      "[CV 3/5; 49/243] END max_depth=5, min_samples_leaf=4, min_samples_split=15, n_estimators=50, random_state=2;, score=0.562 total time=   0.1s\n",
      "[CV 4/5; 49/243] START max_depth=5, min_samples_leaf=4, min_samples_split=15, n_estimators=50, random_state=2\n",
      "[CV 4/5; 49/243] END max_depth=5, min_samples_leaf=4, min_samples_split=15, n_estimators=50, random_state=2;, score=0.446 total time=   0.1s\n"
     ]
    },
    {
     "name": "stderr",
     "output_type": "stream",
     "text": [
      "d:\\Apps\\Anaconda\\lib\\site-packages\\sklearn\\model_selection\\_validation.py:680: DataConversionWarning: A column-vector y was passed when a 1d array was expected. Please change the shape of y to (n_samples,), for example using ravel().\n",
      "  estimator.fit(X_train, y_train, **fit_params)\n"
     ]
    },
    {
     "name": "stdout",
     "output_type": "stream",
     "text": [
      "[CV 5/5; 49/243] START max_depth=5, min_samples_leaf=4, min_samples_split=15, n_estimators=50, random_state=2\n",
      "[CV 5/5; 49/243] END max_depth=5, min_samples_leaf=4, min_samples_split=15, n_estimators=50, random_state=2;, score=0.475 total time=   0.1s\n"
     ]
    },
    {
     "name": "stderr",
     "output_type": "stream",
     "text": [
      "d:\\Apps\\Anaconda\\lib\\site-packages\\sklearn\\model_selection\\_validation.py:680: DataConversionWarning: A column-vector y was passed when a 1d array was expected. Please change the shape of y to (n_samples,), for example using ravel().\n",
      "  estimator.fit(X_train, y_train, **fit_params)\n"
     ]
    },
    {
     "name": "stdout",
     "output_type": "stream",
     "text": [
      "[CV 1/5; 50/243] START max_depth=5, min_samples_leaf=4, min_samples_split=15, n_estimators=50, random_state=4\n",
      "[CV 1/5; 50/243] END max_depth=5, min_samples_leaf=4, min_samples_split=15, n_estimators=50, random_state=4;, score=0.662 total time=   0.1s\n",
      "[CV 2/5; 50/243] START max_depth=5, min_samples_leaf=4, min_samples_split=15, n_estimators=50, random_state=4\n"
     ]
    },
    {
     "name": "stderr",
     "output_type": "stream",
     "text": [
      "d:\\Apps\\Anaconda\\lib\\site-packages\\sklearn\\model_selection\\_validation.py:680: DataConversionWarning: A column-vector y was passed when a 1d array was expected. Please change the shape of y to (n_samples,), for example using ravel().\n",
      "  estimator.fit(X_train, y_train, **fit_params)\n"
     ]
    },
    {
     "name": "stdout",
     "output_type": "stream",
     "text": [
      "[CV 2/5; 50/243] END max_depth=5, min_samples_leaf=4, min_samples_split=15, n_estimators=50, random_state=4;, score=0.682 total time=   0.1s\n",
      "[CV 3/5; 50/243] START max_depth=5, min_samples_leaf=4, min_samples_split=15, n_estimators=50, random_state=4\n"
     ]
    },
    {
     "name": "stderr",
     "output_type": "stream",
     "text": [
      "d:\\Apps\\Anaconda\\lib\\site-packages\\sklearn\\model_selection\\_validation.py:680: DataConversionWarning: A column-vector y was passed when a 1d array was expected. Please change the shape of y to (n_samples,), for example using ravel().\n",
      "  estimator.fit(X_train, y_train, **fit_params)\n",
      "d:\\Apps\\Anaconda\\lib\\site-packages\\sklearn\\model_selection\\_validation.py:680: DataConversionWarning: A column-vector y was passed when a 1d array was expected. Please change the shape of y to (n_samples,), for example using ravel().\n",
      "  estimator.fit(X_train, y_train, **fit_params)\n"
     ]
    },
    {
     "name": "stdout",
     "output_type": "stream",
     "text": [
      "[CV 3/5; 50/243] END max_depth=5, min_samples_leaf=4, min_samples_split=15, n_estimators=50, random_state=4;, score=0.541 total time=   0.1s\n",
      "[CV 4/5; 50/243] START max_depth=5, min_samples_leaf=4, min_samples_split=15, n_estimators=50, random_state=4\n",
      "[CV 4/5; 50/243] END max_depth=5, min_samples_leaf=4, min_samples_split=15, n_estimators=50, random_state=4;, score=0.504 total time=   0.1s\n",
      "[CV 5/5; 50/243] START max_depth=5, min_samples_leaf=4, min_samples_split=15, n_estimators=50, random_state=4\n"
     ]
    },
    {
     "name": "stderr",
     "output_type": "stream",
     "text": [
      "d:\\Apps\\Anaconda\\lib\\site-packages\\sklearn\\model_selection\\_validation.py:680: DataConversionWarning: A column-vector y was passed when a 1d array was expected. Please change the shape of y to (n_samples,), for example using ravel().\n",
      "  estimator.fit(X_train, y_train, **fit_params)\n",
      "d:\\Apps\\Anaconda\\lib\\site-packages\\sklearn\\model_selection\\_validation.py:680: DataConversionWarning: A column-vector y was passed when a 1d array was expected. Please change the shape of y to (n_samples,), for example using ravel().\n",
      "  estimator.fit(X_train, y_train, **fit_params)\n",
      "d:\\Apps\\Anaconda\\lib\\site-packages\\sklearn\\model_selection\\_validation.py:680: DataConversionWarning: A column-vector y was passed when a 1d array was expected. Please change the shape of y to (n_samples,), for example using ravel().\n",
      "  estimator.fit(X_train, y_train, **fit_params)\n"
     ]
    },
    {
     "name": "stdout",
     "output_type": "stream",
     "text": [
      "[CV 5/5; 50/243] END max_depth=5, min_samples_leaf=4, min_samples_split=15, n_estimators=50, random_state=4;, score=0.477 total time=   0.1s\n",
      "[CV 1/5; 51/243] START max_depth=5, min_samples_leaf=4, min_samples_split=15, n_estimators=50, random_state=6\n",
      "[CV 1/5; 51/243] END max_depth=5, min_samples_leaf=4, min_samples_split=15, n_estimators=50, random_state=6;, score=0.725 total time=   0.1s\n",
      "[CV 2/5; 51/243] START max_depth=5, min_samples_leaf=4, min_samples_split=15, n_estimators=50, random_state=6\n",
      "[CV 2/5; 51/243] END max_depth=5, min_samples_leaf=4, min_samples_split=15, n_estimators=50, random_state=6;, score=0.672 total time=   0.1s\n",
      "[CV 3/5; 51/243] START max_depth=5, min_samples_leaf=4, min_samples_split=15, n_estimators=50, random_state=6\n"
     ]
    },
    {
     "name": "stderr",
     "output_type": "stream",
     "text": [
      "d:\\Apps\\Anaconda\\lib\\site-packages\\sklearn\\model_selection\\_validation.py:680: DataConversionWarning: A column-vector y was passed when a 1d array was expected. Please change the shape of y to (n_samples,), for example using ravel().\n",
      "  estimator.fit(X_train, y_train, **fit_params)\n",
      "d:\\Apps\\Anaconda\\lib\\site-packages\\sklearn\\model_selection\\_validation.py:680: DataConversionWarning: A column-vector y was passed when a 1d array was expected. Please change the shape of y to (n_samples,), for example using ravel().\n",
      "  estimator.fit(X_train, y_train, **fit_params)\n"
     ]
    },
    {
     "name": "stdout",
     "output_type": "stream",
     "text": [
      "[CV 3/5; 51/243] END max_depth=5, min_samples_leaf=4, min_samples_split=15, n_estimators=50, random_state=6;, score=0.547 total time=   0.1s\n",
      "[CV 4/5; 51/243] START max_depth=5, min_samples_leaf=4, min_samples_split=15, n_estimators=50, random_state=6\n",
      "[CV 4/5; 51/243] END max_depth=5, min_samples_leaf=4, min_samples_split=15, n_estimators=50, random_state=6;, score=0.448 total time=   0.1s\n",
      "[CV 5/5; 51/243] START max_depth=5, min_samples_leaf=4, min_samples_split=15, n_estimators=50, random_state=6\n"
     ]
    },
    {
     "name": "stderr",
     "output_type": "stream",
     "text": [
      "d:\\Apps\\Anaconda\\lib\\site-packages\\sklearn\\model_selection\\_validation.py:680: DataConversionWarning: A column-vector y was passed when a 1d array was expected. Please change the shape of y to (n_samples,), for example using ravel().\n",
      "  estimator.fit(X_train, y_train, **fit_params)\n",
      "d:\\Apps\\Anaconda\\lib\\site-packages\\sklearn\\model_selection\\_validation.py:680: DataConversionWarning: A column-vector y was passed when a 1d array was expected. Please change the shape of y to (n_samples,), for example using ravel().\n",
      "  estimator.fit(X_train, y_train, **fit_params)\n"
     ]
    },
    {
     "name": "stdout",
     "output_type": "stream",
     "text": [
      "[CV 5/5; 51/243] END max_depth=5, min_samples_leaf=4, min_samples_split=15, n_estimators=50, random_state=6;, score=0.487 total time=   0.1s\n",
      "[CV 1/5; 52/243] START max_depth=5, min_samples_leaf=4, min_samples_split=15, n_estimators=100, random_state=2\n"
     ]
    },
    {
     "name": "stderr",
     "output_type": "stream",
     "text": [
      "d:\\Apps\\Anaconda\\lib\\site-packages\\sklearn\\model_selection\\_validation.py:680: DataConversionWarning: A column-vector y was passed when a 1d array was expected. Please change the shape of y to (n_samples,), for example using ravel().\n",
      "  estimator.fit(X_train, y_train, **fit_params)\n"
     ]
    },
    {
     "name": "stdout",
     "output_type": "stream",
     "text": [
      "[CV 1/5; 52/243] END max_depth=5, min_samples_leaf=4, min_samples_split=15, n_estimators=100, random_state=2;, score=0.716 total time=   0.3s\n",
      "[CV 2/5; 52/243] START max_depth=5, min_samples_leaf=4, min_samples_split=15, n_estimators=100, random_state=2\n"
     ]
    },
    {
     "name": "stderr",
     "output_type": "stream",
     "text": [
      "d:\\Apps\\Anaconda\\lib\\site-packages\\sklearn\\model_selection\\_validation.py:680: DataConversionWarning: A column-vector y was passed when a 1d array was expected. Please change the shape of y to (n_samples,), for example using ravel().\n",
      "  estimator.fit(X_train, y_train, **fit_params)\n"
     ]
    },
    {
     "name": "stdout",
     "output_type": "stream",
     "text": [
      "[CV 2/5; 52/243] END max_depth=5, min_samples_leaf=4, min_samples_split=15, n_estimators=100, random_state=2;, score=0.674 total time=   0.3s\n",
      "[CV 3/5; 52/243] START max_depth=5, min_samples_leaf=4, min_samples_split=15, n_estimators=100, random_state=2\n"
     ]
    },
    {
     "name": "stderr",
     "output_type": "stream",
     "text": [
      "d:\\Apps\\Anaconda\\lib\\site-packages\\sklearn\\model_selection\\_validation.py:680: DataConversionWarning: A column-vector y was passed when a 1d array was expected. Please change the shape of y to (n_samples,), for example using ravel().\n",
      "  estimator.fit(X_train, y_train, **fit_params)\n"
     ]
    },
    {
     "name": "stdout",
     "output_type": "stream",
     "text": [
      "[CV 3/5; 52/243] END max_depth=5, min_samples_leaf=4, min_samples_split=15, n_estimators=100, random_state=2;, score=0.550 total time=   0.3s\n",
      "[CV 4/5; 52/243] START max_depth=5, min_samples_leaf=4, min_samples_split=15, n_estimators=100, random_state=2\n"
     ]
    },
    {
     "name": "stderr",
     "output_type": "stream",
     "text": [
      "d:\\Apps\\Anaconda\\lib\\site-packages\\sklearn\\model_selection\\_validation.py:680: DataConversionWarning: A column-vector y was passed when a 1d array was expected. Please change the shape of y to (n_samples,), for example using ravel().\n",
      "  estimator.fit(X_train, y_train, **fit_params)\n"
     ]
    },
    {
     "name": "stdout",
     "output_type": "stream",
     "text": [
      "[CV 4/5; 52/243] END max_depth=5, min_samples_leaf=4, min_samples_split=15, n_estimators=100, random_state=2;, score=0.498 total time=   0.3s\n",
      "[CV 5/5; 52/243] START max_depth=5, min_samples_leaf=4, min_samples_split=15, n_estimators=100, random_state=2\n"
     ]
    },
    {
     "name": "stderr",
     "output_type": "stream",
     "text": [
      "d:\\Apps\\Anaconda\\lib\\site-packages\\sklearn\\model_selection\\_validation.py:680: DataConversionWarning: A column-vector y was passed when a 1d array was expected. Please change the shape of y to (n_samples,), for example using ravel().\n",
      "  estimator.fit(X_train, y_train, **fit_params)\n"
     ]
    },
    {
     "name": "stdout",
     "output_type": "stream",
     "text": [
      "[CV 5/5; 52/243] END max_depth=5, min_samples_leaf=4, min_samples_split=15, n_estimators=100, random_state=2;, score=0.476 total time=   0.3s\n",
      "[CV 1/5; 53/243] START max_depth=5, min_samples_leaf=4, min_samples_split=15, n_estimators=100, random_state=4\n"
     ]
    },
    {
     "name": "stderr",
     "output_type": "stream",
     "text": [
      "d:\\Apps\\Anaconda\\lib\\site-packages\\sklearn\\model_selection\\_validation.py:680: DataConversionWarning: A column-vector y was passed when a 1d array was expected. Please change the shape of y to (n_samples,), for example using ravel().\n",
      "  estimator.fit(X_train, y_train, **fit_params)\n"
     ]
    },
    {
     "name": "stdout",
     "output_type": "stream",
     "text": [
      "[CV 1/5; 53/243] END max_depth=5, min_samples_leaf=4, min_samples_split=15, n_estimators=100, random_state=4;, score=0.695 total time=   0.3s\n",
      "[CV 2/5; 53/243] START max_depth=5, min_samples_leaf=4, min_samples_split=15, n_estimators=100, random_state=4\n"
     ]
    },
    {
     "name": "stderr",
     "output_type": "stream",
     "text": [
      "d:\\Apps\\Anaconda\\lib\\site-packages\\sklearn\\model_selection\\_validation.py:680: DataConversionWarning: A column-vector y was passed when a 1d array was expected. Please change the shape of y to (n_samples,), for example using ravel().\n",
      "  estimator.fit(X_train, y_train, **fit_params)\n"
     ]
    },
    {
     "name": "stdout",
     "output_type": "stream",
     "text": [
      "[CV 2/5; 53/243] END max_depth=5, min_samples_leaf=4, min_samples_split=15, n_estimators=100, random_state=4;, score=0.688 total time=   0.3s\n",
      "[CV 3/5; 53/243] START max_depth=5, min_samples_leaf=4, min_samples_split=15, n_estimators=100, random_state=4\n"
     ]
    },
    {
     "name": "stderr",
     "output_type": "stream",
     "text": [
      "d:\\Apps\\Anaconda\\lib\\site-packages\\sklearn\\model_selection\\_validation.py:680: DataConversionWarning: A column-vector y was passed when a 1d array was expected. Please change the shape of y to (n_samples,), for example using ravel().\n",
      "  estimator.fit(X_train, y_train, **fit_params)\n"
     ]
    },
    {
     "name": "stdout",
     "output_type": "stream",
     "text": [
      "[CV 3/5; 53/243] END max_depth=5, min_samples_leaf=4, min_samples_split=15, n_estimators=100, random_state=4;, score=0.553 total time=   0.3s\n",
      "[CV 4/5; 53/243] START max_depth=5, min_samples_leaf=4, min_samples_split=15, n_estimators=100, random_state=4\n"
     ]
    },
    {
     "name": "stderr",
     "output_type": "stream",
     "text": [
      "d:\\Apps\\Anaconda\\lib\\site-packages\\sklearn\\model_selection\\_validation.py:680: DataConversionWarning: A column-vector y was passed when a 1d array was expected. Please change the shape of y to (n_samples,), for example using ravel().\n",
      "  estimator.fit(X_train, y_train, **fit_params)\n"
     ]
    },
    {
     "name": "stdout",
     "output_type": "stream",
     "text": [
      "[CV 4/5; 53/243] END max_depth=5, min_samples_leaf=4, min_samples_split=15, n_estimators=100, random_state=4;, score=0.480 total time=   0.3s\n",
      "[CV 5/5; 53/243] START max_depth=5, min_samples_leaf=4, min_samples_split=15, n_estimators=100, random_state=4\n"
     ]
    },
    {
     "name": "stderr",
     "output_type": "stream",
     "text": [
      "d:\\Apps\\Anaconda\\lib\\site-packages\\sklearn\\model_selection\\_validation.py:680: DataConversionWarning: A column-vector y was passed when a 1d array was expected. Please change the shape of y to (n_samples,), for example using ravel().\n",
      "  estimator.fit(X_train, y_train, **fit_params)\n"
     ]
    },
    {
     "name": "stdout",
     "output_type": "stream",
     "text": [
      "[CV 5/5; 53/243] END max_depth=5, min_samples_leaf=4, min_samples_split=15, n_estimators=100, random_state=4;, score=0.481 total time=   0.3s\n",
      "[CV 1/5; 54/243] START max_depth=5, min_samples_leaf=4, min_samples_split=15, n_estimators=100, random_state=6\n"
     ]
    },
    {
     "name": "stderr",
     "output_type": "stream",
     "text": [
      "d:\\Apps\\Anaconda\\lib\\site-packages\\sklearn\\model_selection\\_validation.py:680: DataConversionWarning: A column-vector y was passed when a 1d array was expected. Please change the shape of y to (n_samples,), for example using ravel().\n",
      "  estimator.fit(X_train, y_train, **fit_params)\n"
     ]
    },
    {
     "name": "stdout",
     "output_type": "stream",
     "text": [
      "[CV 1/5; 54/243] END max_depth=5, min_samples_leaf=4, min_samples_split=15, n_estimators=100, random_state=6;, score=0.722 total time=   0.3s\n",
      "[CV 2/5; 54/243] START max_depth=5, min_samples_leaf=4, min_samples_split=15, n_estimators=100, random_state=6\n"
     ]
    },
    {
     "name": "stderr",
     "output_type": "stream",
     "text": [
      "d:\\Apps\\Anaconda\\lib\\site-packages\\sklearn\\model_selection\\_validation.py:680: DataConversionWarning: A column-vector y was passed when a 1d array was expected. Please change the shape of y to (n_samples,), for example using ravel().\n",
      "  estimator.fit(X_train, y_train, **fit_params)\n"
     ]
    },
    {
     "name": "stdout",
     "output_type": "stream",
     "text": [
      "[CV 2/5; 54/243] END max_depth=5, min_samples_leaf=4, min_samples_split=15, n_estimators=100, random_state=6;, score=0.668 total time=   0.3s\n",
      "[CV 3/5; 54/243] START max_depth=5, min_samples_leaf=4, min_samples_split=15, n_estimators=100, random_state=6\n"
     ]
    },
    {
     "name": "stderr",
     "output_type": "stream",
     "text": [
      "d:\\Apps\\Anaconda\\lib\\site-packages\\sklearn\\model_selection\\_validation.py:680: DataConversionWarning: A column-vector y was passed when a 1d array was expected. Please change the shape of y to (n_samples,), for example using ravel().\n",
      "  estimator.fit(X_train, y_train, **fit_params)\n"
     ]
    },
    {
     "name": "stdout",
     "output_type": "stream",
     "text": [
      "[CV 3/5; 54/243] END max_depth=5, min_samples_leaf=4, min_samples_split=15, n_estimators=100, random_state=6;, score=0.547 total time=   0.3s\n",
      "[CV 4/5; 54/243] START max_depth=5, min_samples_leaf=4, min_samples_split=15, n_estimators=100, random_state=6\n"
     ]
    },
    {
     "name": "stderr",
     "output_type": "stream",
     "text": [
      "d:\\Apps\\Anaconda\\lib\\site-packages\\sklearn\\model_selection\\_validation.py:680: DataConversionWarning: A column-vector y was passed when a 1d array was expected. Please change the shape of y to (n_samples,), for example using ravel().\n",
      "  estimator.fit(X_train, y_train, **fit_params)\n"
     ]
    },
    {
     "name": "stdout",
     "output_type": "stream",
     "text": [
      "[CV 4/5; 54/243] END max_depth=5, min_samples_leaf=4, min_samples_split=15, n_estimators=100, random_state=6;, score=0.478 total time=   0.3s\n",
      "[CV 5/5; 54/243] START max_depth=5, min_samples_leaf=4, min_samples_split=15, n_estimators=100, random_state=6\n"
     ]
    },
    {
     "name": "stderr",
     "output_type": "stream",
     "text": [
      "d:\\Apps\\Anaconda\\lib\\site-packages\\sklearn\\model_selection\\_validation.py:680: DataConversionWarning: A column-vector y was passed when a 1d array was expected. Please change the shape of y to (n_samples,), for example using ravel().\n",
      "  estimator.fit(X_train, y_train, **fit_params)\n"
     ]
    },
    {
     "name": "stdout",
     "output_type": "stream",
     "text": [
      "[CV 5/5; 54/243] END max_depth=5, min_samples_leaf=4, min_samples_split=15, n_estimators=100, random_state=6;, score=0.486 total time=   0.3s\n",
      "[CV 1/5; 55/243] START max_depth=5, min_samples_leaf=6, min_samples_split=5, n_estimators=10, random_state=2\n",
      "[CV 1/5; 55/243] END max_depth=5, min_samples_leaf=6, min_samples_split=5, n_estimators=10, random_state=2;, score=0.673 total time=   0.0s\n",
      "[CV 2/5; 55/243] START max_depth=5, min_samples_leaf=6, min_samples_split=5, n_estimators=10, random_state=2\n",
      "[CV 2/5; 55/243] END max_depth=5, min_samples_leaf=6, min_samples_split=5, n_estimators=10, random_state=2;, score=0.679 total time=   0.0s\n",
      "[CV 3/5; 55/243] START max_depth=5, min_samples_leaf=6, min_samples_split=5, n_estimators=10, random_state=2\n",
      "[CV 3/5; 55/243] END max_depth=5, min_samples_leaf=6, min_samples_split=5, n_estimators=10, random_state=2;, score=0.553 total time=   0.0s\n",
      "[CV 4/5; 55/243] START max_depth=5, min_samples_leaf=6, min_samples_split=5, n_estimators=10, random_state=2\n",
      "[CV 4/5; 55/243] END max_depth=5, min_samples_leaf=6, min_samples_split=5, n_estimators=10, random_state=2;, score=0.519 total time=   0.0s\n",
      "[CV 5/5; 55/243] START max_depth=5, min_samples_leaf=6, min_samples_split=5, n_estimators=10, random_state=2\n"
     ]
    },
    {
     "name": "stderr",
     "output_type": "stream",
     "text": [
      "d:\\Apps\\Anaconda\\lib\\site-packages\\sklearn\\model_selection\\_validation.py:680: DataConversionWarning: A column-vector y was passed when a 1d array was expected. Please change the shape of y to (n_samples,), for example using ravel().\n",
      "  estimator.fit(X_train, y_train, **fit_params)\n",
      "d:\\Apps\\Anaconda\\lib\\site-packages\\sklearn\\model_selection\\_validation.py:680: DataConversionWarning: A column-vector y was passed when a 1d array was expected. Please change the shape of y to (n_samples,), for example using ravel().\n",
      "  estimator.fit(X_train, y_train, **fit_params)\n",
      "d:\\Apps\\Anaconda\\lib\\site-packages\\sklearn\\model_selection\\_validation.py:680: DataConversionWarning: A column-vector y was passed when a 1d array was expected. Please change the shape of y to (n_samples,), for example using ravel().\n",
      "  estimator.fit(X_train, y_train, **fit_params)\n",
      "d:\\Apps\\Anaconda\\lib\\site-packages\\sklearn\\model_selection\\_validation.py:680: DataConversionWarning: A column-vector y was passed when a 1d array was expected. Please change the shape of y to (n_samples,), for example using ravel().\n",
      "  estimator.fit(X_train, y_train, **fit_params)\n",
      "d:\\Apps\\Anaconda\\lib\\site-packages\\sklearn\\model_selection\\_validation.py:680: DataConversionWarning: A column-vector y was passed when a 1d array was expected. Please change the shape of y to (n_samples,), for example using ravel().\n",
      "  estimator.fit(X_train, y_train, **fit_params)\n"
     ]
    },
    {
     "name": "stdout",
     "output_type": "stream",
     "text": [
      "[CV 5/5; 55/243] END max_depth=5, min_samples_leaf=6, min_samples_split=5, n_estimators=10, random_state=2;, score=0.465 total time=   0.0s\n",
      "[CV 1/5; 56/243] START max_depth=5, min_samples_leaf=6, min_samples_split=5, n_estimators=10, random_state=4\n",
      "[CV 1/5; 56/243] END max_depth=5, min_samples_leaf=6, min_samples_split=5, n_estimators=10, random_state=4;, score=0.701 total time=   0.0s\n",
      "[CV 2/5; 56/243] START max_depth=5, min_samples_leaf=6, min_samples_split=5, n_estimators=10, random_state=4\n",
      "[CV 2/5; 56/243] END max_depth=5, min_samples_leaf=6, min_samples_split=5, n_estimators=10, random_state=4;, score=0.623 total time=   0.0s\n",
      "[CV 3/5; 56/243] START max_depth=5, min_samples_leaf=6, min_samples_split=5, n_estimators=10, random_state=4\n",
      "[CV 3/5; 56/243] END max_depth=5, min_samples_leaf=6, min_samples_split=5, n_estimators=10, random_state=4;, score=0.519 total time=   0.0s\n",
      "[CV 4/5; 56/243] START max_depth=5, min_samples_leaf=6, min_samples_split=5, n_estimators=10, random_state=4\n",
      "[CV 4/5; 56/243] END max_depth=5, min_samples_leaf=6, min_samples_split=5, n_estimators=10, random_state=4;, score=0.517 total time=   0.0s\n",
      "[CV 5/5; 56/243] START max_depth=5, min_samples_leaf=6, min_samples_split=5, n_estimators=10, random_state=4\n"
     ]
    },
    {
     "name": "stderr",
     "output_type": "stream",
     "text": [
      "d:\\Apps\\Anaconda\\lib\\site-packages\\sklearn\\model_selection\\_validation.py:680: DataConversionWarning: A column-vector y was passed when a 1d array was expected. Please change the shape of y to (n_samples,), for example using ravel().\n",
      "  estimator.fit(X_train, y_train, **fit_params)\n",
      "d:\\Apps\\Anaconda\\lib\\site-packages\\sklearn\\model_selection\\_validation.py:680: DataConversionWarning: A column-vector y was passed when a 1d array was expected. Please change the shape of y to (n_samples,), for example using ravel().\n",
      "  estimator.fit(X_train, y_train, **fit_params)\n",
      "d:\\Apps\\Anaconda\\lib\\site-packages\\sklearn\\model_selection\\_validation.py:680: DataConversionWarning: A column-vector y was passed when a 1d array was expected. Please change the shape of y to (n_samples,), for example using ravel().\n",
      "  estimator.fit(X_train, y_train, **fit_params)\n",
      "d:\\Apps\\Anaconda\\lib\\site-packages\\sklearn\\model_selection\\_validation.py:680: DataConversionWarning: A column-vector y was passed when a 1d array was expected. Please change the shape of y to (n_samples,), for example using ravel().\n",
      "  estimator.fit(X_train, y_train, **fit_params)\n",
      "d:\\Apps\\Anaconda\\lib\\site-packages\\sklearn\\model_selection\\_validation.py:680: DataConversionWarning: A column-vector y was passed when a 1d array was expected. Please change the shape of y to (n_samples,), for example using ravel().\n",
      "  estimator.fit(X_train, y_train, **fit_params)\n"
     ]
    },
    {
     "name": "stdout",
     "output_type": "stream",
     "text": [
      "[CV 5/5; 56/243] END max_depth=5, min_samples_leaf=6, min_samples_split=5, n_estimators=10, random_state=4;, score=0.495 total time=   0.0s\n",
      "[CV 1/5; 57/243] START max_depth=5, min_samples_leaf=6, min_samples_split=5, n_estimators=10, random_state=6\n",
      "[CV 1/5; 57/243] END max_depth=5, min_samples_leaf=6, min_samples_split=5, n_estimators=10, random_state=6;, score=0.708 total time=   0.0s\n",
      "[CV 2/5; 57/243] START max_depth=5, min_samples_leaf=6, min_samples_split=5, n_estimators=10, random_state=6\n",
      "[CV 2/5; 57/243] END max_depth=5, min_samples_leaf=6, min_samples_split=5, n_estimators=10, random_state=6;, score=0.630 total time=   0.0s\n",
      "[CV 3/5; 57/243] START max_depth=5, min_samples_leaf=6, min_samples_split=5, n_estimators=10, random_state=6\n",
      "[CV 3/5; 57/243] END max_depth=5, min_samples_leaf=6, min_samples_split=5, n_estimators=10, random_state=6;, score=0.547 total time=   0.0s\n",
      "[CV 4/5; 57/243] START max_depth=5, min_samples_leaf=6, min_samples_split=5, n_estimators=10, random_state=6\n",
      "[CV 4/5; 57/243] END max_depth=5, min_samples_leaf=6, min_samples_split=5, n_estimators=10, random_state=6;, score=0.538 total time=   0.0s\n",
      "[CV 5/5; 57/243] START max_depth=5, min_samples_leaf=6, min_samples_split=5, n_estimators=10, random_state=6\n"
     ]
    },
    {
     "name": "stderr",
     "output_type": "stream",
     "text": [
      "d:\\Apps\\Anaconda\\lib\\site-packages\\sklearn\\model_selection\\_validation.py:680: DataConversionWarning: A column-vector y was passed when a 1d array was expected. Please change the shape of y to (n_samples,), for example using ravel().\n",
      "  estimator.fit(X_train, y_train, **fit_params)\n",
      "d:\\Apps\\Anaconda\\lib\\site-packages\\sklearn\\model_selection\\_validation.py:680: DataConversionWarning: A column-vector y was passed when a 1d array was expected. Please change the shape of y to (n_samples,), for example using ravel().\n",
      "  estimator.fit(X_train, y_train, **fit_params)\n",
      "d:\\Apps\\Anaconda\\lib\\site-packages\\sklearn\\model_selection\\_validation.py:680: DataConversionWarning: A column-vector y was passed when a 1d array was expected. Please change the shape of y to (n_samples,), for example using ravel().\n",
      "  estimator.fit(X_train, y_train, **fit_params)\n",
      "d:\\Apps\\Anaconda\\lib\\site-packages\\sklearn\\model_selection\\_validation.py:680: DataConversionWarning: A column-vector y was passed when a 1d array was expected. Please change the shape of y to (n_samples,), for example using ravel().\n",
      "  estimator.fit(X_train, y_train, **fit_params)\n",
      "d:\\Apps\\Anaconda\\lib\\site-packages\\sklearn\\model_selection\\_validation.py:680: DataConversionWarning: A column-vector y was passed when a 1d array was expected. Please change the shape of y to (n_samples,), for example using ravel().\n",
      "  estimator.fit(X_train, y_train, **fit_params)\n"
     ]
    },
    {
     "name": "stdout",
     "output_type": "stream",
     "text": [
      "[CV 5/5; 57/243] END max_depth=5, min_samples_leaf=6, min_samples_split=5, n_estimators=10, random_state=6;, score=0.446 total time=   0.0s\n",
      "[CV 1/5; 58/243] START max_depth=5, min_samples_leaf=6, min_samples_split=5, n_estimators=50, random_state=2\n",
      "[CV 1/5; 58/243] END max_depth=5, min_samples_leaf=6, min_samples_split=5, n_estimators=50, random_state=2;, score=0.689 total time=   0.1s\n",
      "[CV 2/5; 58/243] START max_depth=5, min_samples_leaf=6, min_samples_split=5, n_estimators=50, random_state=2\n"
     ]
    },
    {
     "name": "stderr",
     "output_type": "stream",
     "text": [
      "d:\\Apps\\Anaconda\\lib\\site-packages\\sklearn\\model_selection\\_validation.py:680: DataConversionWarning: A column-vector y was passed when a 1d array was expected. Please change the shape of y to (n_samples,), for example using ravel().\n",
      "  estimator.fit(X_train, y_train, **fit_params)\n",
      "d:\\Apps\\Anaconda\\lib\\site-packages\\sklearn\\model_selection\\_validation.py:680: DataConversionWarning: A column-vector y was passed when a 1d array was expected. Please change the shape of y to (n_samples,), for example using ravel().\n",
      "  estimator.fit(X_train, y_train, **fit_params)\n"
     ]
    },
    {
     "name": "stdout",
     "output_type": "stream",
     "text": [
      "[CV 2/5; 58/243] END max_depth=5, min_samples_leaf=6, min_samples_split=5, n_estimators=50, random_state=2;, score=0.667 total time=   0.1s\n",
      "[CV 3/5; 58/243] START max_depth=5, min_samples_leaf=6, min_samples_split=5, n_estimators=50, random_state=2\n",
      "[CV 3/5; 58/243] END max_depth=5, min_samples_leaf=6, min_samples_split=5, n_estimators=50, random_state=2;, score=0.561 total time=   0.1s\n",
      "[CV 4/5; 58/243] START max_depth=5, min_samples_leaf=6, min_samples_split=5, n_estimators=50, random_state=2\n"
     ]
    },
    {
     "name": "stderr",
     "output_type": "stream",
     "text": [
      "d:\\Apps\\Anaconda\\lib\\site-packages\\sklearn\\model_selection\\_validation.py:680: DataConversionWarning: A column-vector y was passed when a 1d array was expected. Please change the shape of y to (n_samples,), for example using ravel().\n",
      "  estimator.fit(X_train, y_train, **fit_params)\n",
      "d:\\Apps\\Anaconda\\lib\\site-packages\\sklearn\\model_selection\\_validation.py:680: DataConversionWarning: A column-vector y was passed when a 1d array was expected. Please change the shape of y to (n_samples,), for example using ravel().\n",
      "  estimator.fit(X_train, y_train, **fit_params)\n"
     ]
    },
    {
     "name": "stdout",
     "output_type": "stream",
     "text": [
      "[CV 4/5; 58/243] END max_depth=5, min_samples_leaf=6, min_samples_split=5, n_estimators=50, random_state=2;, score=0.520 total time=   0.1s\n",
      "[CV 5/5; 58/243] START max_depth=5, min_samples_leaf=6, min_samples_split=5, n_estimators=50, random_state=2\n",
      "[CV 5/5; 58/243] END max_depth=5, min_samples_leaf=6, min_samples_split=5, n_estimators=50, random_state=2;, score=0.465 total time=   0.1s\n",
      "[CV 1/5; 59/243] START max_depth=5, min_samples_leaf=6, min_samples_split=5, n_estimators=50, random_state=4\n"
     ]
    },
    {
     "name": "stderr",
     "output_type": "stream",
     "text": [
      "d:\\Apps\\Anaconda\\lib\\site-packages\\sklearn\\model_selection\\_validation.py:680: DataConversionWarning: A column-vector y was passed when a 1d array was expected. Please change the shape of y to (n_samples,), for example using ravel().\n",
      "  estimator.fit(X_train, y_train, **fit_params)\n",
      "d:\\Apps\\Anaconda\\lib\\site-packages\\sklearn\\model_selection\\_validation.py:680: DataConversionWarning: A column-vector y was passed when a 1d array was expected. Please change the shape of y to (n_samples,), for example using ravel().\n",
      "  estimator.fit(X_train, y_train, **fit_params)\n"
     ]
    },
    {
     "name": "stdout",
     "output_type": "stream",
     "text": [
      "[CV 1/5; 59/243] END max_depth=5, min_samples_leaf=6, min_samples_split=5, n_estimators=50, random_state=4;, score=0.672 total time=   0.1s\n",
      "[CV 2/5; 59/243] START max_depth=5, min_samples_leaf=6, min_samples_split=5, n_estimators=50, random_state=4\n",
      "[CV 2/5; 59/243] END max_depth=5, min_samples_leaf=6, min_samples_split=5, n_estimators=50, random_state=4;, score=0.665 total time=   0.1s\n",
      "[CV 3/5; 59/243] START max_depth=5, min_samples_leaf=6, min_samples_split=5, n_estimators=50, random_state=4\n"
     ]
    },
    {
     "name": "stderr",
     "output_type": "stream",
     "text": [
      "d:\\Apps\\Anaconda\\lib\\site-packages\\sklearn\\model_selection\\_validation.py:680: DataConversionWarning: A column-vector y was passed when a 1d array was expected. Please change the shape of y to (n_samples,), for example using ravel().\n",
      "  estimator.fit(X_train, y_train, **fit_params)\n",
      "d:\\Apps\\Anaconda\\lib\\site-packages\\sklearn\\model_selection\\_validation.py:680: DataConversionWarning: A column-vector y was passed when a 1d array was expected. Please change the shape of y to (n_samples,), for example using ravel().\n",
      "  estimator.fit(X_train, y_train, **fit_params)\n"
     ]
    },
    {
     "name": "stdout",
     "output_type": "stream",
     "text": [
      "[CV 3/5; 59/243] END max_depth=5, min_samples_leaf=6, min_samples_split=5, n_estimators=50, random_state=4;, score=0.523 total time=   0.1s\n",
      "[CV 4/5; 59/243] START max_depth=5, min_samples_leaf=6, min_samples_split=5, n_estimators=50, random_state=4\n",
      "[CV 4/5; 59/243] END max_depth=5, min_samples_leaf=6, min_samples_split=5, n_estimators=50, random_state=4;, score=0.539 total time=   0.1s\n",
      "[CV 5/5; 59/243] START max_depth=5, min_samples_leaf=6, min_samples_split=5, n_estimators=50, random_state=4\n"
     ]
    },
    {
     "name": "stderr",
     "output_type": "stream",
     "text": [
      "d:\\Apps\\Anaconda\\lib\\site-packages\\sklearn\\model_selection\\_validation.py:680: DataConversionWarning: A column-vector y was passed when a 1d array was expected. Please change the shape of y to (n_samples,), for example using ravel().\n",
      "  estimator.fit(X_train, y_train, **fit_params)\n",
      "d:\\Apps\\Anaconda\\lib\\site-packages\\sklearn\\model_selection\\_validation.py:680: DataConversionWarning: A column-vector y was passed when a 1d array was expected. Please change the shape of y to (n_samples,), for example using ravel().\n",
      "  estimator.fit(X_train, y_train, **fit_params)\n"
     ]
    },
    {
     "name": "stdout",
     "output_type": "stream",
     "text": [
      "[CV 5/5; 59/243] END max_depth=5, min_samples_leaf=6, min_samples_split=5, n_estimators=50, random_state=4;, score=0.455 total time=   0.1s\n",
      "[CV 1/5; 60/243] START max_depth=5, min_samples_leaf=6, min_samples_split=5, n_estimators=50, random_state=6\n",
      "[CV 1/5; 60/243] END max_depth=5, min_samples_leaf=6, min_samples_split=5, n_estimators=50, random_state=6;, score=0.704 total time=   0.1s\n"
     ]
    },
    {
     "name": "stderr",
     "output_type": "stream",
     "text": [
      "d:\\Apps\\Anaconda\\lib\\site-packages\\sklearn\\model_selection\\_validation.py:680: DataConversionWarning: A column-vector y was passed when a 1d array was expected. Please change the shape of y to (n_samples,), for example using ravel().\n",
      "  estimator.fit(X_train, y_train, **fit_params)\n"
     ]
    },
    {
     "name": "stdout",
     "output_type": "stream",
     "text": [
      "[CV 2/5; 60/243] START max_depth=5, min_samples_leaf=6, min_samples_split=5, n_estimators=50, random_state=6\n",
      "[CV 2/5; 60/243] END max_depth=5, min_samples_leaf=6, min_samples_split=5, n_estimators=50, random_state=6;, score=0.656 total time=   0.1s\n",
      "[CV 3/5; 60/243] START max_depth=5, min_samples_leaf=6, min_samples_split=5, n_estimators=50, random_state=6\n"
     ]
    },
    {
     "name": "stderr",
     "output_type": "stream",
     "text": [
      "d:\\Apps\\Anaconda\\lib\\site-packages\\sklearn\\model_selection\\_validation.py:680: DataConversionWarning: A column-vector y was passed when a 1d array was expected. Please change the shape of y to (n_samples,), for example using ravel().\n",
      "  estimator.fit(X_train, y_train, **fit_params)\n",
      "d:\\Apps\\Anaconda\\lib\\site-packages\\sklearn\\model_selection\\_validation.py:680: DataConversionWarning: A column-vector y was passed when a 1d array was expected. Please change the shape of y to (n_samples,), for example using ravel().\n",
      "  estimator.fit(X_train, y_train, **fit_params)\n"
     ]
    },
    {
     "name": "stdout",
     "output_type": "stream",
     "text": [
      "[CV 3/5; 60/243] END max_depth=5, min_samples_leaf=6, min_samples_split=5, n_estimators=50, random_state=6;, score=0.550 total time=   0.1s\n",
      "[CV 4/5; 60/243] START max_depth=5, min_samples_leaf=6, min_samples_split=5, n_estimators=50, random_state=6\n",
      "[CV 4/5; 60/243] END max_depth=5, min_samples_leaf=6, min_samples_split=5, n_estimators=50, random_state=6;, score=0.536 total time=   0.1s\n",
      "[CV 5/5; 60/243] START max_depth=5, min_samples_leaf=6, min_samples_split=5, n_estimators=50, random_state=6\n"
     ]
    },
    {
     "name": "stderr",
     "output_type": "stream",
     "text": [
      "d:\\Apps\\Anaconda\\lib\\site-packages\\sklearn\\model_selection\\_validation.py:680: DataConversionWarning: A column-vector y was passed when a 1d array was expected. Please change the shape of y to (n_samples,), for example using ravel().\n",
      "  estimator.fit(X_train, y_train, **fit_params)\n",
      "d:\\Apps\\Anaconda\\lib\\site-packages\\sklearn\\model_selection\\_validation.py:680: DataConversionWarning: A column-vector y was passed when a 1d array was expected. Please change the shape of y to (n_samples,), for example using ravel().\n",
      "  estimator.fit(X_train, y_train, **fit_params)\n"
     ]
    },
    {
     "name": "stdout",
     "output_type": "stream",
     "text": [
      "[CV 5/5; 60/243] END max_depth=5, min_samples_leaf=6, min_samples_split=5, n_estimators=50, random_state=6;, score=0.472 total time=   0.1s\n",
      "[CV 1/5; 61/243] START max_depth=5, min_samples_leaf=6, min_samples_split=5, n_estimators=100, random_state=2\n"
     ]
    },
    {
     "name": "stderr",
     "output_type": "stream",
     "text": [
      "d:\\Apps\\Anaconda\\lib\\site-packages\\sklearn\\model_selection\\_validation.py:680: DataConversionWarning: A column-vector y was passed when a 1d array was expected. Please change the shape of y to (n_samples,), for example using ravel().\n",
      "  estimator.fit(X_train, y_train, **fit_params)\n"
     ]
    },
    {
     "name": "stdout",
     "output_type": "stream",
     "text": [
      "[CV 1/5; 61/243] END max_depth=5, min_samples_leaf=6, min_samples_split=5, n_estimators=100, random_state=2;, score=0.691 total time=   0.3s\n",
      "[CV 2/5; 61/243] START max_depth=5, min_samples_leaf=6, min_samples_split=5, n_estimators=100, random_state=2\n"
     ]
    },
    {
     "name": "stderr",
     "output_type": "stream",
     "text": [
      "d:\\Apps\\Anaconda\\lib\\site-packages\\sklearn\\model_selection\\_validation.py:680: DataConversionWarning: A column-vector y was passed when a 1d array was expected. Please change the shape of y to (n_samples,), for example using ravel().\n",
      "  estimator.fit(X_train, y_train, **fit_params)\n"
     ]
    },
    {
     "name": "stdout",
     "output_type": "stream",
     "text": [
      "[CV 2/5; 61/243] END max_depth=5, min_samples_leaf=6, min_samples_split=5, n_estimators=100, random_state=2;, score=0.659 total time=   0.3s\n",
      "[CV 3/5; 61/243] START max_depth=5, min_samples_leaf=6, min_samples_split=5, n_estimators=100, random_state=2\n"
     ]
    },
    {
     "name": "stderr",
     "output_type": "stream",
     "text": [
      "d:\\Apps\\Anaconda\\lib\\site-packages\\sklearn\\model_selection\\_validation.py:680: DataConversionWarning: A column-vector y was passed when a 1d array was expected. Please change the shape of y to (n_samples,), for example using ravel().\n",
      "  estimator.fit(X_train, y_train, **fit_params)\n"
     ]
    },
    {
     "name": "stdout",
     "output_type": "stream",
     "text": [
      "[CV 3/5; 61/243] END max_depth=5, min_samples_leaf=6, min_samples_split=5, n_estimators=100, random_state=2;, score=0.548 total time=   0.3s\n",
      "[CV 4/5; 61/243] START max_depth=5, min_samples_leaf=6, min_samples_split=5, n_estimators=100, random_state=2\n"
     ]
    },
    {
     "name": "stderr",
     "output_type": "stream",
     "text": [
      "d:\\Apps\\Anaconda\\lib\\site-packages\\sklearn\\model_selection\\_validation.py:680: DataConversionWarning: A column-vector y was passed when a 1d array was expected. Please change the shape of y to (n_samples,), for example using ravel().\n",
      "  estimator.fit(X_train, y_train, **fit_params)\n"
     ]
    },
    {
     "name": "stdout",
     "output_type": "stream",
     "text": [
      "[CV 4/5; 61/243] END max_depth=5, min_samples_leaf=6, min_samples_split=5, n_estimators=100, random_state=2;, score=0.528 total time=   0.3s\n",
      "[CV 5/5; 61/243] START max_depth=5, min_samples_leaf=6, min_samples_split=5, n_estimators=100, random_state=2\n"
     ]
    },
    {
     "name": "stderr",
     "output_type": "stream",
     "text": [
      "d:\\Apps\\Anaconda\\lib\\site-packages\\sklearn\\model_selection\\_validation.py:680: DataConversionWarning: A column-vector y was passed when a 1d array was expected. Please change the shape of y to (n_samples,), for example using ravel().\n",
      "  estimator.fit(X_train, y_train, **fit_params)\n"
     ]
    },
    {
     "name": "stdout",
     "output_type": "stream",
     "text": [
      "[CV 5/5; 61/243] END max_depth=5, min_samples_leaf=6, min_samples_split=5, n_estimators=100, random_state=2;, score=0.469 total time=   0.3s\n",
      "[CV 1/5; 62/243] START max_depth=5, min_samples_leaf=6, min_samples_split=5, n_estimators=100, random_state=4\n"
     ]
    },
    {
     "name": "stderr",
     "output_type": "stream",
     "text": [
      "d:\\Apps\\Anaconda\\lib\\site-packages\\sklearn\\model_selection\\_validation.py:680: DataConversionWarning: A column-vector y was passed when a 1d array was expected. Please change the shape of y to (n_samples,), for example using ravel().\n",
      "  estimator.fit(X_train, y_train, **fit_params)\n"
     ]
    },
    {
     "name": "stdout",
     "output_type": "stream",
     "text": [
      "[CV 1/5; 62/243] END max_depth=5, min_samples_leaf=6, min_samples_split=5, n_estimators=100, random_state=4;, score=0.683 total time=   0.3s\n",
      "[CV 2/5; 62/243] START max_depth=5, min_samples_leaf=6, min_samples_split=5, n_estimators=100, random_state=4\n"
     ]
    },
    {
     "name": "stderr",
     "output_type": "stream",
     "text": [
      "d:\\Apps\\Anaconda\\lib\\site-packages\\sklearn\\model_selection\\_validation.py:680: DataConversionWarning: A column-vector y was passed when a 1d array was expected. Please change the shape of y to (n_samples,), for example using ravel().\n",
      "  estimator.fit(X_train, y_train, **fit_params)\n"
     ]
    },
    {
     "name": "stdout",
     "output_type": "stream",
     "text": [
      "[CV 2/5; 62/243] END max_depth=5, min_samples_leaf=6, min_samples_split=5, n_estimators=100, random_state=4;, score=0.666 total time=   0.3s\n",
      "[CV 3/5; 62/243] START max_depth=5, min_samples_leaf=6, min_samples_split=5, n_estimators=100, random_state=4\n"
     ]
    },
    {
     "name": "stderr",
     "output_type": "stream",
     "text": [
      "d:\\Apps\\Anaconda\\lib\\site-packages\\sklearn\\model_selection\\_validation.py:680: DataConversionWarning: A column-vector y was passed when a 1d array was expected. Please change the shape of y to (n_samples,), for example using ravel().\n",
      "  estimator.fit(X_train, y_train, **fit_params)\n"
     ]
    },
    {
     "name": "stdout",
     "output_type": "stream",
     "text": [
      "[CV 3/5; 62/243] END max_depth=5, min_samples_leaf=6, min_samples_split=5, n_estimators=100, random_state=4;, score=0.543 total time=   0.3s\n",
      "[CV 4/5; 62/243] START max_depth=5, min_samples_leaf=6, min_samples_split=5, n_estimators=100, random_state=4\n"
     ]
    },
    {
     "name": "stderr",
     "output_type": "stream",
     "text": [
      "d:\\Apps\\Anaconda\\lib\\site-packages\\sklearn\\model_selection\\_validation.py:680: DataConversionWarning: A column-vector y was passed when a 1d array was expected. Please change the shape of y to (n_samples,), for example using ravel().\n",
      "  estimator.fit(X_train, y_train, **fit_params)\n"
     ]
    },
    {
     "name": "stdout",
     "output_type": "stream",
     "text": [
      "[CV 4/5; 62/243] END max_depth=5, min_samples_leaf=6, min_samples_split=5, n_estimators=100, random_state=4;, score=0.526 total time=   0.3s\n",
      "[CV 5/5; 62/243] START max_depth=5, min_samples_leaf=6, min_samples_split=5, n_estimators=100, random_state=4\n"
     ]
    },
    {
     "name": "stderr",
     "output_type": "stream",
     "text": [
      "d:\\Apps\\Anaconda\\lib\\site-packages\\sklearn\\model_selection\\_validation.py:680: DataConversionWarning: A column-vector y was passed when a 1d array was expected. Please change the shape of y to (n_samples,), for example using ravel().\n",
      "  estimator.fit(X_train, y_train, **fit_params)\n"
     ]
    },
    {
     "name": "stdout",
     "output_type": "stream",
     "text": [
      "[CV 5/5; 62/243] END max_depth=5, min_samples_leaf=6, min_samples_split=5, n_estimators=100, random_state=4;, score=0.461 total time=   0.3s\n",
      "[CV 1/5; 63/243] START max_depth=5, min_samples_leaf=6, min_samples_split=5, n_estimators=100, random_state=6\n"
     ]
    },
    {
     "name": "stderr",
     "output_type": "stream",
     "text": [
      "d:\\Apps\\Anaconda\\lib\\site-packages\\sklearn\\model_selection\\_validation.py:680: DataConversionWarning: A column-vector y was passed when a 1d array was expected. Please change the shape of y to (n_samples,), for example using ravel().\n",
      "  estimator.fit(X_train, y_train, **fit_params)\n"
     ]
    },
    {
     "name": "stdout",
     "output_type": "stream",
     "text": [
      "[CV 1/5; 63/243] END max_depth=5, min_samples_leaf=6, min_samples_split=5, n_estimators=100, random_state=6;, score=0.697 total time=   0.3s\n",
      "[CV 2/5; 63/243] START max_depth=5, min_samples_leaf=6, min_samples_split=5, n_estimators=100, random_state=6\n"
     ]
    },
    {
     "name": "stderr",
     "output_type": "stream",
     "text": [
      "d:\\Apps\\Anaconda\\lib\\site-packages\\sklearn\\model_selection\\_validation.py:680: DataConversionWarning: A column-vector y was passed when a 1d array was expected. Please change the shape of y to (n_samples,), for example using ravel().\n",
      "  estimator.fit(X_train, y_train, **fit_params)\n"
     ]
    },
    {
     "name": "stdout",
     "output_type": "stream",
     "text": [
      "[CV 2/5; 63/243] END max_depth=5, min_samples_leaf=6, min_samples_split=5, n_estimators=100, random_state=6;, score=0.654 total time=   0.3s\n",
      "[CV 3/5; 63/243] START max_depth=5, min_samples_leaf=6, min_samples_split=5, n_estimators=100, random_state=6\n"
     ]
    },
    {
     "name": "stderr",
     "output_type": "stream",
     "text": [
      "d:\\Apps\\Anaconda\\lib\\site-packages\\sklearn\\model_selection\\_validation.py:680: DataConversionWarning: A column-vector y was passed when a 1d array was expected. Please change the shape of y to (n_samples,), for example using ravel().\n",
      "  estimator.fit(X_train, y_train, **fit_params)\n"
     ]
    },
    {
     "name": "stdout",
     "output_type": "stream",
     "text": [
      "[CV 3/5; 63/243] END max_depth=5, min_samples_leaf=6, min_samples_split=5, n_estimators=100, random_state=6;, score=0.549 total time=   0.3s\n",
      "[CV 4/5; 63/243] START max_depth=5, min_samples_leaf=6, min_samples_split=5, n_estimators=100, random_state=6\n"
     ]
    },
    {
     "name": "stderr",
     "output_type": "stream",
     "text": [
      "d:\\Apps\\Anaconda\\lib\\site-packages\\sklearn\\model_selection\\_validation.py:680: DataConversionWarning: A column-vector y was passed when a 1d array was expected. Please change the shape of y to (n_samples,), for example using ravel().\n",
      "  estimator.fit(X_train, y_train, **fit_params)\n"
     ]
    },
    {
     "name": "stdout",
     "output_type": "stream",
     "text": [
      "[CV 4/5; 63/243] END max_depth=5, min_samples_leaf=6, min_samples_split=5, n_estimators=100, random_state=6;, score=0.529 total time=   0.3s\n",
      "[CV 5/5; 63/243] START max_depth=5, min_samples_leaf=6, min_samples_split=5, n_estimators=100, random_state=6\n"
     ]
    },
    {
     "name": "stderr",
     "output_type": "stream",
     "text": [
      "d:\\Apps\\Anaconda\\lib\\site-packages\\sklearn\\model_selection\\_validation.py:680: DataConversionWarning: A column-vector y was passed when a 1d array was expected. Please change the shape of y to (n_samples,), for example using ravel().\n",
      "  estimator.fit(X_train, y_train, **fit_params)\n"
     ]
    },
    {
     "name": "stdout",
     "output_type": "stream",
     "text": [
      "[CV 5/5; 63/243] END max_depth=5, min_samples_leaf=6, min_samples_split=5, n_estimators=100, random_state=6;, score=0.472 total time=   0.3s\n",
      "[CV 1/5; 64/243] START max_depth=5, min_samples_leaf=6, min_samples_split=10, n_estimators=10, random_state=2\n",
      "[CV 1/5; 64/243] END max_depth=5, min_samples_leaf=6, min_samples_split=10, n_estimators=10, random_state=2;, score=0.673 total time=   0.0s\n",
      "[CV 2/5; 64/243] START max_depth=5, min_samples_leaf=6, min_samples_split=10, n_estimators=10, random_state=2\n",
      "[CV 2/5; 64/243] END max_depth=5, min_samples_leaf=6, min_samples_split=10, n_estimators=10, random_state=2;, score=0.679 total time=   0.0s\n",
      "[CV 3/5; 64/243] START max_depth=5, min_samples_leaf=6, min_samples_split=10, n_estimators=10, random_state=2\n",
      "[CV 3/5; 64/243] END max_depth=5, min_samples_leaf=6, min_samples_split=10, n_estimators=10, random_state=2;, score=0.553 total time=   0.0s\n",
      "[CV 4/5; 64/243] START max_depth=5, min_samples_leaf=6, min_samples_split=10, n_estimators=10, random_state=2\n",
      "[CV 4/5; 64/243] END max_depth=5, min_samples_leaf=6, min_samples_split=10, n_estimators=10, random_state=2;, score=0.519 total time=   0.0s\n",
      "[CV 5/5; 64/243] START max_depth=5, min_samples_leaf=6, min_samples_split=10, n_estimators=10, random_state=2\n"
     ]
    },
    {
     "name": "stderr",
     "output_type": "stream",
     "text": [
      "d:\\Apps\\Anaconda\\lib\\site-packages\\sklearn\\model_selection\\_validation.py:680: DataConversionWarning: A column-vector y was passed when a 1d array was expected. Please change the shape of y to (n_samples,), for example using ravel().\n",
      "  estimator.fit(X_train, y_train, **fit_params)\n",
      "d:\\Apps\\Anaconda\\lib\\site-packages\\sklearn\\model_selection\\_validation.py:680: DataConversionWarning: A column-vector y was passed when a 1d array was expected. Please change the shape of y to (n_samples,), for example using ravel().\n",
      "  estimator.fit(X_train, y_train, **fit_params)\n",
      "d:\\Apps\\Anaconda\\lib\\site-packages\\sklearn\\model_selection\\_validation.py:680: DataConversionWarning: A column-vector y was passed when a 1d array was expected. Please change the shape of y to (n_samples,), for example using ravel().\n",
      "  estimator.fit(X_train, y_train, **fit_params)\n",
      "d:\\Apps\\Anaconda\\lib\\site-packages\\sklearn\\model_selection\\_validation.py:680: DataConversionWarning: A column-vector y was passed when a 1d array was expected. Please change the shape of y to (n_samples,), for example using ravel().\n",
      "  estimator.fit(X_train, y_train, **fit_params)\n",
      "d:\\Apps\\Anaconda\\lib\\site-packages\\sklearn\\model_selection\\_validation.py:680: DataConversionWarning: A column-vector y was passed when a 1d array was expected. Please change the shape of y to (n_samples,), for example using ravel().\n",
      "  estimator.fit(X_train, y_train, **fit_params)\n"
     ]
    },
    {
     "name": "stdout",
     "output_type": "stream",
     "text": [
      "[CV 5/5; 64/243] END max_depth=5, min_samples_leaf=6, min_samples_split=10, n_estimators=10, random_state=2;, score=0.465 total time=   0.0s\n",
      "[CV 1/5; 65/243] START max_depth=5, min_samples_leaf=6, min_samples_split=10, n_estimators=10, random_state=4\n",
      "[CV 1/5; 65/243] END max_depth=5, min_samples_leaf=6, min_samples_split=10, n_estimators=10, random_state=4;, score=0.701 total time=   0.0s\n",
      "[CV 2/5; 65/243] START max_depth=5, min_samples_leaf=6, min_samples_split=10, n_estimators=10, random_state=4\n",
      "[CV 2/5; 65/243] END max_depth=5, min_samples_leaf=6, min_samples_split=10, n_estimators=10, random_state=4;, score=0.623 total time=   0.0s\n",
      "[CV 3/5; 65/243] START max_depth=5, min_samples_leaf=6, min_samples_split=10, n_estimators=10, random_state=4\n",
      "[CV 3/5; 65/243] END max_depth=5, min_samples_leaf=6, min_samples_split=10, n_estimators=10, random_state=4;, score=0.519 total time=   0.0s\n",
      "[CV 4/5; 65/243] START max_depth=5, min_samples_leaf=6, min_samples_split=10, n_estimators=10, random_state=4\n",
      "[CV 4/5; 65/243] END max_depth=5, min_samples_leaf=6, min_samples_split=10, n_estimators=10, random_state=4;, score=0.517 total time=   0.0s\n",
      "[CV 5/5; 65/243] START max_depth=5, min_samples_leaf=6, min_samples_split=10, n_estimators=10, random_state=4\n"
     ]
    },
    {
     "name": "stderr",
     "output_type": "stream",
     "text": [
      "d:\\Apps\\Anaconda\\lib\\site-packages\\sklearn\\model_selection\\_validation.py:680: DataConversionWarning: A column-vector y was passed when a 1d array was expected. Please change the shape of y to (n_samples,), for example using ravel().\n",
      "  estimator.fit(X_train, y_train, **fit_params)\n",
      "d:\\Apps\\Anaconda\\lib\\site-packages\\sklearn\\model_selection\\_validation.py:680: DataConversionWarning: A column-vector y was passed when a 1d array was expected. Please change the shape of y to (n_samples,), for example using ravel().\n",
      "  estimator.fit(X_train, y_train, **fit_params)\n",
      "d:\\Apps\\Anaconda\\lib\\site-packages\\sklearn\\model_selection\\_validation.py:680: DataConversionWarning: A column-vector y was passed when a 1d array was expected. Please change the shape of y to (n_samples,), for example using ravel().\n",
      "  estimator.fit(X_train, y_train, **fit_params)\n",
      "d:\\Apps\\Anaconda\\lib\\site-packages\\sklearn\\model_selection\\_validation.py:680: DataConversionWarning: A column-vector y was passed when a 1d array was expected. Please change the shape of y to (n_samples,), for example using ravel().\n",
      "  estimator.fit(X_train, y_train, **fit_params)\n",
      "d:\\Apps\\Anaconda\\lib\\site-packages\\sklearn\\model_selection\\_validation.py:680: DataConversionWarning: A column-vector y was passed when a 1d array was expected. Please change the shape of y to (n_samples,), for example using ravel().\n",
      "  estimator.fit(X_train, y_train, **fit_params)\n"
     ]
    },
    {
     "name": "stdout",
     "output_type": "stream",
     "text": [
      "[CV 5/5; 65/243] END max_depth=5, min_samples_leaf=6, min_samples_split=10, n_estimators=10, random_state=4;, score=0.495 total time=   0.0s\n",
      "[CV 1/5; 66/243] START max_depth=5, min_samples_leaf=6, min_samples_split=10, n_estimators=10, random_state=6\n",
      "[CV 1/5; 66/243] END max_depth=5, min_samples_leaf=6, min_samples_split=10, n_estimators=10, random_state=6;, score=0.708 total time=   0.0s\n",
      "[CV 2/5; 66/243] START max_depth=5, min_samples_leaf=6, min_samples_split=10, n_estimators=10, random_state=6\n",
      "[CV 2/5; 66/243] END max_depth=5, min_samples_leaf=6, min_samples_split=10, n_estimators=10, random_state=6;, score=0.630 total time=   0.0s\n",
      "[CV 3/5; 66/243] START max_depth=5, min_samples_leaf=6, min_samples_split=10, n_estimators=10, random_state=6\n",
      "[CV 3/5; 66/243] END max_depth=5, min_samples_leaf=6, min_samples_split=10, n_estimators=10, random_state=6;, score=0.547 total time=   0.0s\n",
      "[CV 4/5; 66/243] START max_depth=5, min_samples_leaf=6, min_samples_split=10, n_estimators=10, random_state=6\n",
      "[CV 4/5; 66/243] END max_depth=5, min_samples_leaf=6, min_samples_split=10, n_estimators=10, random_state=6;, score=0.538 total time=   0.0s\n"
     ]
    },
    {
     "name": "stderr",
     "output_type": "stream",
     "text": [
      "d:\\Apps\\Anaconda\\lib\\site-packages\\sklearn\\model_selection\\_validation.py:680: DataConversionWarning: A column-vector y was passed when a 1d array was expected. Please change the shape of y to (n_samples,), for example using ravel().\n",
      "  estimator.fit(X_train, y_train, **fit_params)\n",
      "d:\\Apps\\Anaconda\\lib\\site-packages\\sklearn\\model_selection\\_validation.py:680: DataConversionWarning: A column-vector y was passed when a 1d array was expected. Please change the shape of y to (n_samples,), for example using ravel().\n",
      "  estimator.fit(X_train, y_train, **fit_params)\n",
      "d:\\Apps\\Anaconda\\lib\\site-packages\\sklearn\\model_selection\\_validation.py:680: DataConversionWarning: A column-vector y was passed when a 1d array was expected. Please change the shape of y to (n_samples,), for example using ravel().\n",
      "  estimator.fit(X_train, y_train, **fit_params)\n",
      "d:\\Apps\\Anaconda\\lib\\site-packages\\sklearn\\model_selection\\_validation.py:680: DataConversionWarning: A column-vector y was passed when a 1d array was expected. Please change the shape of y to (n_samples,), for example using ravel().\n",
      "  estimator.fit(X_train, y_train, **fit_params)\n",
      "d:\\Apps\\Anaconda\\lib\\site-packages\\sklearn\\model_selection\\_validation.py:680: DataConversionWarning: A column-vector y was passed when a 1d array was expected. Please change the shape of y to (n_samples,), for example using ravel().\n",
      "  estimator.fit(X_train, y_train, **fit_params)\n"
     ]
    },
    {
     "name": "stdout",
     "output_type": "stream",
     "text": [
      "[CV 5/5; 66/243] START max_depth=5, min_samples_leaf=6, min_samples_split=10, n_estimators=10, random_state=6\n",
      "[CV 5/5; 66/243] END max_depth=5, min_samples_leaf=6, min_samples_split=10, n_estimators=10, random_state=6;, score=0.446 total time=   0.0s\n",
      "[CV 1/5; 67/243] START max_depth=5, min_samples_leaf=6, min_samples_split=10, n_estimators=50, random_state=2\n"
     ]
    },
    {
     "name": "stderr",
     "output_type": "stream",
     "text": [
      "d:\\Apps\\Anaconda\\lib\\site-packages\\sklearn\\model_selection\\_validation.py:680: DataConversionWarning: A column-vector y was passed when a 1d array was expected. Please change the shape of y to (n_samples,), for example using ravel().\n",
      "  estimator.fit(X_train, y_train, **fit_params)\n"
     ]
    },
    {
     "name": "stdout",
     "output_type": "stream",
     "text": [
      "[CV 1/5; 67/243] END max_depth=5, min_samples_leaf=6, min_samples_split=10, n_estimators=50, random_state=2;, score=0.689 total time=   0.1s\n",
      "[CV 2/5; 67/243] START max_depth=5, min_samples_leaf=6, min_samples_split=10, n_estimators=50, random_state=2\n",
      "[CV 2/5; 67/243] END max_depth=5, min_samples_leaf=6, min_samples_split=10, n_estimators=50, random_state=2;, score=0.667 total time=   0.1s\n",
      "[CV 3/5; 67/243] START max_depth=5, min_samples_leaf=6, min_samples_split=10, n_estimators=50, random_state=2\n"
     ]
    },
    {
     "name": "stderr",
     "output_type": "stream",
     "text": [
      "d:\\Apps\\Anaconda\\lib\\site-packages\\sklearn\\model_selection\\_validation.py:680: DataConversionWarning: A column-vector y was passed when a 1d array was expected. Please change the shape of y to (n_samples,), for example using ravel().\n",
      "  estimator.fit(X_train, y_train, **fit_params)\n",
      "d:\\Apps\\Anaconda\\lib\\site-packages\\sklearn\\model_selection\\_validation.py:680: DataConversionWarning: A column-vector y was passed when a 1d array was expected. Please change the shape of y to (n_samples,), for example using ravel().\n",
      "  estimator.fit(X_train, y_train, **fit_params)\n"
     ]
    },
    {
     "name": "stdout",
     "output_type": "stream",
     "text": [
      "[CV 3/5; 67/243] END max_depth=5, min_samples_leaf=6, min_samples_split=10, n_estimators=50, random_state=2;, score=0.561 total time=   0.1s\n",
      "[CV 4/5; 67/243] START max_depth=5, min_samples_leaf=6, min_samples_split=10, n_estimators=50, random_state=2\n",
      "[CV 4/5; 67/243] END max_depth=5, min_samples_leaf=6, min_samples_split=10, n_estimators=50, random_state=2;, score=0.520 total time=   0.1s\n",
      "[CV 5/5; 67/243] START max_depth=5, min_samples_leaf=6, min_samples_split=10, n_estimators=50, random_state=2\n"
     ]
    },
    {
     "name": "stderr",
     "output_type": "stream",
     "text": [
      "d:\\Apps\\Anaconda\\lib\\site-packages\\sklearn\\model_selection\\_validation.py:680: DataConversionWarning: A column-vector y was passed when a 1d array was expected. Please change the shape of y to (n_samples,), for example using ravel().\n",
      "  estimator.fit(X_train, y_train, **fit_params)\n",
      "d:\\Apps\\Anaconda\\lib\\site-packages\\sklearn\\model_selection\\_validation.py:680: DataConversionWarning: A column-vector y was passed when a 1d array was expected. Please change the shape of y to (n_samples,), for example using ravel().\n",
      "  estimator.fit(X_train, y_train, **fit_params)\n"
     ]
    },
    {
     "name": "stdout",
     "output_type": "stream",
     "text": [
      "[CV 5/5; 67/243] END max_depth=5, min_samples_leaf=6, min_samples_split=10, n_estimators=50, random_state=2;, score=0.465 total time=   0.1s\n",
      "[CV 1/5; 68/243] START max_depth=5, min_samples_leaf=6, min_samples_split=10, n_estimators=50, random_state=4\n",
      "[CV 1/5; 68/243] END max_depth=5, min_samples_leaf=6, min_samples_split=10, n_estimators=50, random_state=4;, score=0.672 total time=   0.1s\n",
      "[CV 2/5; 68/243] START max_depth=5, min_samples_leaf=6, min_samples_split=10, n_estimators=50, random_state=4\n"
     ]
    },
    {
     "name": "stderr",
     "output_type": "stream",
     "text": [
      "d:\\Apps\\Anaconda\\lib\\site-packages\\sklearn\\model_selection\\_validation.py:680: DataConversionWarning: A column-vector y was passed when a 1d array was expected. Please change the shape of y to (n_samples,), for example using ravel().\n",
      "  estimator.fit(X_train, y_train, **fit_params)\n",
      "d:\\Apps\\Anaconda\\lib\\site-packages\\sklearn\\model_selection\\_validation.py:680: DataConversionWarning: A column-vector y was passed when a 1d array was expected. Please change the shape of y to (n_samples,), for example using ravel().\n",
      "  estimator.fit(X_train, y_train, **fit_params)\n"
     ]
    },
    {
     "name": "stdout",
     "output_type": "stream",
     "text": [
      "[CV 2/5; 68/243] END max_depth=5, min_samples_leaf=6, min_samples_split=10, n_estimators=50, random_state=4;, score=0.665 total time=   0.1s\n",
      "[CV 3/5; 68/243] START max_depth=5, min_samples_leaf=6, min_samples_split=10, n_estimators=50, random_state=4\n",
      "[CV 3/5; 68/243] END max_depth=5, min_samples_leaf=6, min_samples_split=10, n_estimators=50, random_state=4;, score=0.523 total time=   0.1s\n",
      "[CV 4/5; 68/243] START max_depth=5, min_samples_leaf=6, min_samples_split=10, n_estimators=50, random_state=4\n"
     ]
    },
    {
     "name": "stderr",
     "output_type": "stream",
     "text": [
      "d:\\Apps\\Anaconda\\lib\\site-packages\\sklearn\\model_selection\\_validation.py:680: DataConversionWarning: A column-vector y was passed when a 1d array was expected. Please change the shape of y to (n_samples,), for example using ravel().\n",
      "  estimator.fit(X_train, y_train, **fit_params)\n",
      "d:\\Apps\\Anaconda\\lib\\site-packages\\sklearn\\model_selection\\_validation.py:680: DataConversionWarning: A column-vector y was passed when a 1d array was expected. Please change the shape of y to (n_samples,), for example using ravel().\n",
      "  estimator.fit(X_train, y_train, **fit_params)\n"
     ]
    },
    {
     "name": "stdout",
     "output_type": "stream",
     "text": [
      "[CV 4/5; 68/243] END max_depth=5, min_samples_leaf=6, min_samples_split=10, n_estimators=50, random_state=4;, score=0.539 total time=   0.1s\n",
      "[CV 5/5; 68/243] START max_depth=5, min_samples_leaf=6, min_samples_split=10, n_estimators=50, random_state=4\n",
      "[CV 5/5; 68/243] END max_depth=5, min_samples_leaf=6, min_samples_split=10, n_estimators=50, random_state=4;, score=0.455 total time=   0.1s\n",
      "[CV 1/5; 69/243] START max_depth=5, min_samples_leaf=6, min_samples_split=10, n_estimators=50, random_state=6\n"
     ]
    },
    {
     "name": "stderr",
     "output_type": "stream",
     "text": [
      "d:\\Apps\\Anaconda\\lib\\site-packages\\sklearn\\model_selection\\_validation.py:680: DataConversionWarning: A column-vector y was passed when a 1d array was expected. Please change the shape of y to (n_samples,), for example using ravel().\n",
      "  estimator.fit(X_train, y_train, **fit_params)\n",
      "d:\\Apps\\Anaconda\\lib\\site-packages\\sklearn\\model_selection\\_validation.py:680: DataConversionWarning: A column-vector y was passed when a 1d array was expected. Please change the shape of y to (n_samples,), for example using ravel().\n",
      "  estimator.fit(X_train, y_train, **fit_params)\n"
     ]
    },
    {
     "name": "stdout",
     "output_type": "stream",
     "text": [
      "[CV 1/5; 69/243] END max_depth=5, min_samples_leaf=6, min_samples_split=10, n_estimators=50, random_state=6;, score=0.704 total time=   0.1s\n",
      "[CV 2/5; 69/243] START max_depth=5, min_samples_leaf=6, min_samples_split=10, n_estimators=50, random_state=6\n",
      "[CV 2/5; 69/243] END max_depth=5, min_samples_leaf=6, min_samples_split=10, n_estimators=50, random_state=6;, score=0.656 total time=   0.1s\n",
      "[CV 3/5; 69/243] START max_depth=5, min_samples_leaf=6, min_samples_split=10, n_estimators=50, random_state=6\n"
     ]
    },
    {
     "name": "stderr",
     "output_type": "stream",
     "text": [
      "d:\\Apps\\Anaconda\\lib\\site-packages\\sklearn\\model_selection\\_validation.py:680: DataConversionWarning: A column-vector y was passed when a 1d array was expected. Please change the shape of y to (n_samples,), for example using ravel().\n",
      "  estimator.fit(X_train, y_train, **fit_params)\n",
      "d:\\Apps\\Anaconda\\lib\\site-packages\\sklearn\\model_selection\\_validation.py:680: DataConversionWarning: A column-vector y was passed when a 1d array was expected. Please change the shape of y to (n_samples,), for example using ravel().\n",
      "  estimator.fit(X_train, y_train, **fit_params)\n"
     ]
    },
    {
     "name": "stdout",
     "output_type": "stream",
     "text": [
      "[CV 3/5; 69/243] END max_depth=5, min_samples_leaf=6, min_samples_split=10, n_estimators=50, random_state=6;, score=0.550 total time=   0.1s\n",
      "[CV 4/5; 69/243] START max_depth=5, min_samples_leaf=6, min_samples_split=10, n_estimators=50, random_state=6\n",
      "[CV 4/5; 69/243] END max_depth=5, min_samples_leaf=6, min_samples_split=10, n_estimators=50, random_state=6;, score=0.536 total time=   0.1s\n",
      "[CV 5/5; 69/243] START max_depth=5, min_samples_leaf=6, min_samples_split=10, n_estimators=50, random_state=6\n"
     ]
    },
    {
     "name": "stderr",
     "output_type": "stream",
     "text": [
      "d:\\Apps\\Anaconda\\lib\\site-packages\\sklearn\\model_selection\\_validation.py:680: DataConversionWarning: A column-vector y was passed when a 1d array was expected. Please change the shape of y to (n_samples,), for example using ravel().\n",
      "  estimator.fit(X_train, y_train, **fit_params)\n",
      "d:\\Apps\\Anaconda\\lib\\site-packages\\sklearn\\model_selection\\_validation.py:680: DataConversionWarning: A column-vector y was passed when a 1d array was expected. Please change the shape of y to (n_samples,), for example using ravel().\n",
      "  estimator.fit(X_train, y_train, **fit_params)\n"
     ]
    },
    {
     "name": "stdout",
     "output_type": "stream",
     "text": [
      "[CV 5/5; 69/243] END max_depth=5, min_samples_leaf=6, min_samples_split=10, n_estimators=50, random_state=6;, score=0.472 total time=   0.1s\n",
      "[CV 1/5; 70/243] START max_depth=5, min_samples_leaf=6, min_samples_split=10, n_estimators=100, random_state=2\n"
     ]
    },
    {
     "name": "stderr",
     "output_type": "stream",
     "text": [
      "d:\\Apps\\Anaconda\\lib\\site-packages\\sklearn\\model_selection\\_validation.py:680: DataConversionWarning: A column-vector y was passed when a 1d array was expected. Please change the shape of y to (n_samples,), for example using ravel().\n",
      "  estimator.fit(X_train, y_train, **fit_params)\n"
     ]
    },
    {
     "name": "stdout",
     "output_type": "stream",
     "text": [
      "[CV 1/5; 70/243] END max_depth=5, min_samples_leaf=6, min_samples_split=10, n_estimators=100, random_state=2;, score=0.691 total time=   0.3s\n",
      "[CV 2/5; 70/243] START max_depth=5, min_samples_leaf=6, min_samples_split=10, n_estimators=100, random_state=2\n"
     ]
    },
    {
     "name": "stderr",
     "output_type": "stream",
     "text": [
      "d:\\Apps\\Anaconda\\lib\\site-packages\\sklearn\\model_selection\\_validation.py:680: DataConversionWarning: A column-vector y was passed when a 1d array was expected. Please change the shape of y to (n_samples,), for example using ravel().\n",
      "  estimator.fit(X_train, y_train, **fit_params)\n"
     ]
    },
    {
     "name": "stdout",
     "output_type": "stream",
     "text": [
      "[CV 2/5; 70/243] END max_depth=5, min_samples_leaf=6, min_samples_split=10, n_estimators=100, random_state=2;, score=0.659 total time=   0.3s\n",
      "[CV 3/5; 70/243] START max_depth=5, min_samples_leaf=6, min_samples_split=10, n_estimators=100, random_state=2\n"
     ]
    },
    {
     "name": "stderr",
     "output_type": "stream",
     "text": [
      "d:\\Apps\\Anaconda\\lib\\site-packages\\sklearn\\model_selection\\_validation.py:680: DataConversionWarning: A column-vector y was passed when a 1d array was expected. Please change the shape of y to (n_samples,), for example using ravel().\n",
      "  estimator.fit(X_train, y_train, **fit_params)\n"
     ]
    },
    {
     "name": "stdout",
     "output_type": "stream",
     "text": [
      "[CV 3/5; 70/243] END max_depth=5, min_samples_leaf=6, min_samples_split=10, n_estimators=100, random_state=2;, score=0.548 total time=   0.3s\n",
      "[CV 4/5; 70/243] START max_depth=5, min_samples_leaf=6, min_samples_split=10, n_estimators=100, random_state=2\n"
     ]
    },
    {
     "name": "stderr",
     "output_type": "stream",
     "text": [
      "d:\\Apps\\Anaconda\\lib\\site-packages\\sklearn\\model_selection\\_validation.py:680: DataConversionWarning: A column-vector y was passed when a 1d array was expected. Please change the shape of y to (n_samples,), for example using ravel().\n",
      "  estimator.fit(X_train, y_train, **fit_params)\n"
     ]
    },
    {
     "name": "stdout",
     "output_type": "stream",
     "text": [
      "[CV 4/5; 70/243] END max_depth=5, min_samples_leaf=6, min_samples_split=10, n_estimators=100, random_state=2;, score=0.528 total time=   0.3s\n",
      "[CV 5/5; 70/243] START max_depth=5, min_samples_leaf=6, min_samples_split=10, n_estimators=100, random_state=2\n"
     ]
    },
    {
     "name": "stderr",
     "output_type": "stream",
     "text": [
      "d:\\Apps\\Anaconda\\lib\\site-packages\\sklearn\\model_selection\\_validation.py:680: DataConversionWarning: A column-vector y was passed when a 1d array was expected. Please change the shape of y to (n_samples,), for example using ravel().\n",
      "  estimator.fit(X_train, y_train, **fit_params)\n"
     ]
    },
    {
     "name": "stdout",
     "output_type": "stream",
     "text": [
      "[CV 5/5; 70/243] END max_depth=5, min_samples_leaf=6, min_samples_split=10, n_estimators=100, random_state=2;, score=0.469 total time=   0.3s\n",
      "[CV 1/5; 71/243] START max_depth=5, min_samples_leaf=6, min_samples_split=10, n_estimators=100, random_state=4\n"
     ]
    },
    {
     "name": "stderr",
     "output_type": "stream",
     "text": [
      "d:\\Apps\\Anaconda\\lib\\site-packages\\sklearn\\model_selection\\_validation.py:680: DataConversionWarning: A column-vector y was passed when a 1d array was expected. Please change the shape of y to (n_samples,), for example using ravel().\n",
      "  estimator.fit(X_train, y_train, **fit_params)\n"
     ]
    },
    {
     "name": "stdout",
     "output_type": "stream",
     "text": [
      "[CV 1/5; 71/243] END max_depth=5, min_samples_leaf=6, min_samples_split=10, n_estimators=100, random_state=4;, score=0.683 total time=   0.3s\n",
      "[CV 2/5; 71/243] START max_depth=5, min_samples_leaf=6, min_samples_split=10, n_estimators=100, random_state=4\n"
     ]
    },
    {
     "name": "stderr",
     "output_type": "stream",
     "text": [
      "d:\\Apps\\Anaconda\\lib\\site-packages\\sklearn\\model_selection\\_validation.py:680: DataConversionWarning: A column-vector y was passed when a 1d array was expected. Please change the shape of y to (n_samples,), for example using ravel().\n",
      "  estimator.fit(X_train, y_train, **fit_params)\n"
     ]
    },
    {
     "name": "stdout",
     "output_type": "stream",
     "text": [
      "[CV 2/5; 71/243] END max_depth=5, min_samples_leaf=6, min_samples_split=10, n_estimators=100, random_state=4;, score=0.666 total time=   0.3s\n",
      "[CV 3/5; 71/243] START max_depth=5, min_samples_leaf=6, min_samples_split=10, n_estimators=100, random_state=4\n"
     ]
    },
    {
     "name": "stderr",
     "output_type": "stream",
     "text": [
      "d:\\Apps\\Anaconda\\lib\\site-packages\\sklearn\\model_selection\\_validation.py:680: DataConversionWarning: A column-vector y was passed when a 1d array was expected. Please change the shape of y to (n_samples,), for example using ravel().\n",
      "  estimator.fit(X_train, y_train, **fit_params)\n"
     ]
    },
    {
     "name": "stdout",
     "output_type": "stream",
     "text": [
      "[CV 3/5; 71/243] END max_depth=5, min_samples_leaf=6, min_samples_split=10, n_estimators=100, random_state=4;, score=0.543 total time=   0.3s\n",
      "[CV 4/5; 71/243] START max_depth=5, min_samples_leaf=6, min_samples_split=10, n_estimators=100, random_state=4\n"
     ]
    },
    {
     "name": "stderr",
     "output_type": "stream",
     "text": [
      "d:\\Apps\\Anaconda\\lib\\site-packages\\sklearn\\model_selection\\_validation.py:680: DataConversionWarning: A column-vector y was passed when a 1d array was expected. Please change the shape of y to (n_samples,), for example using ravel().\n",
      "  estimator.fit(X_train, y_train, **fit_params)\n"
     ]
    },
    {
     "name": "stdout",
     "output_type": "stream",
     "text": [
      "[CV 4/5; 71/243] END max_depth=5, min_samples_leaf=6, min_samples_split=10, n_estimators=100, random_state=4;, score=0.526 total time=   0.3s\n",
      "[CV 5/5; 71/243] START max_depth=5, min_samples_leaf=6, min_samples_split=10, n_estimators=100, random_state=4\n"
     ]
    },
    {
     "name": "stderr",
     "output_type": "stream",
     "text": [
      "d:\\Apps\\Anaconda\\lib\\site-packages\\sklearn\\model_selection\\_validation.py:680: DataConversionWarning: A column-vector y was passed when a 1d array was expected. Please change the shape of y to (n_samples,), for example using ravel().\n",
      "  estimator.fit(X_train, y_train, **fit_params)\n"
     ]
    },
    {
     "name": "stdout",
     "output_type": "stream",
     "text": [
      "[CV 5/5; 71/243] END max_depth=5, min_samples_leaf=6, min_samples_split=10, n_estimators=100, random_state=4;, score=0.461 total time=   0.3s\n",
      "[CV 1/5; 72/243] START max_depth=5, min_samples_leaf=6, min_samples_split=10, n_estimators=100, random_state=6\n"
     ]
    },
    {
     "name": "stderr",
     "output_type": "stream",
     "text": [
      "d:\\Apps\\Anaconda\\lib\\site-packages\\sklearn\\model_selection\\_validation.py:680: DataConversionWarning: A column-vector y was passed when a 1d array was expected. Please change the shape of y to (n_samples,), for example using ravel().\n",
      "  estimator.fit(X_train, y_train, **fit_params)\n"
     ]
    },
    {
     "name": "stdout",
     "output_type": "stream",
     "text": [
      "[CV 1/5; 72/243] END max_depth=5, min_samples_leaf=6, min_samples_split=10, n_estimators=100, random_state=6;, score=0.697 total time=   0.3s\n",
      "[CV 2/5; 72/243] START max_depth=5, min_samples_leaf=6, min_samples_split=10, n_estimators=100, random_state=6\n"
     ]
    },
    {
     "name": "stderr",
     "output_type": "stream",
     "text": [
      "d:\\Apps\\Anaconda\\lib\\site-packages\\sklearn\\model_selection\\_validation.py:680: DataConversionWarning: A column-vector y was passed when a 1d array was expected. Please change the shape of y to (n_samples,), for example using ravel().\n",
      "  estimator.fit(X_train, y_train, **fit_params)\n"
     ]
    },
    {
     "name": "stdout",
     "output_type": "stream",
     "text": [
      "[CV 2/5; 72/243] END max_depth=5, min_samples_leaf=6, min_samples_split=10, n_estimators=100, random_state=6;, score=0.654 total time=   0.3s\n",
      "[CV 3/5; 72/243] START max_depth=5, min_samples_leaf=6, min_samples_split=10, n_estimators=100, random_state=6\n"
     ]
    },
    {
     "name": "stderr",
     "output_type": "stream",
     "text": [
      "d:\\Apps\\Anaconda\\lib\\site-packages\\sklearn\\model_selection\\_validation.py:680: DataConversionWarning: A column-vector y was passed when a 1d array was expected. Please change the shape of y to (n_samples,), for example using ravel().\n",
      "  estimator.fit(X_train, y_train, **fit_params)\n"
     ]
    },
    {
     "name": "stdout",
     "output_type": "stream",
     "text": [
      "[CV 3/5; 72/243] END max_depth=5, min_samples_leaf=6, min_samples_split=10, n_estimators=100, random_state=6;, score=0.549 total time=   0.3s\n",
      "[CV 4/5; 72/243] START max_depth=5, min_samples_leaf=6, min_samples_split=10, n_estimators=100, random_state=6\n"
     ]
    },
    {
     "name": "stderr",
     "output_type": "stream",
     "text": [
      "d:\\Apps\\Anaconda\\lib\\site-packages\\sklearn\\model_selection\\_validation.py:680: DataConversionWarning: A column-vector y was passed when a 1d array was expected. Please change the shape of y to (n_samples,), for example using ravel().\n",
      "  estimator.fit(X_train, y_train, **fit_params)\n"
     ]
    },
    {
     "name": "stdout",
     "output_type": "stream",
     "text": [
      "[CV 4/5; 72/243] END max_depth=5, min_samples_leaf=6, min_samples_split=10, n_estimators=100, random_state=6;, score=0.529 total time=   0.3s\n",
      "[CV 5/5; 72/243] START max_depth=5, min_samples_leaf=6, min_samples_split=10, n_estimators=100, random_state=6\n"
     ]
    },
    {
     "name": "stderr",
     "output_type": "stream",
     "text": [
      "d:\\Apps\\Anaconda\\lib\\site-packages\\sklearn\\model_selection\\_validation.py:680: DataConversionWarning: A column-vector y was passed when a 1d array was expected. Please change the shape of y to (n_samples,), for example using ravel().\n",
      "  estimator.fit(X_train, y_train, **fit_params)\n"
     ]
    },
    {
     "name": "stdout",
     "output_type": "stream",
     "text": [
      "[CV 5/5; 72/243] END max_depth=5, min_samples_leaf=6, min_samples_split=10, n_estimators=100, random_state=6;, score=0.472 total time=   0.3s\n",
      "[CV 1/5; 73/243] START max_depth=5, min_samples_leaf=6, min_samples_split=15, n_estimators=10, random_state=2\n",
      "[CV 1/5; 73/243] END max_depth=5, min_samples_leaf=6, min_samples_split=15, n_estimators=10, random_state=2;, score=0.696 total time=   0.0s\n",
      "[CV 2/5; 73/243] START max_depth=5, min_samples_leaf=6, min_samples_split=15, n_estimators=10, random_state=2\n",
      "[CV 2/5; 73/243] END max_depth=5, min_samples_leaf=6, min_samples_split=15, n_estimators=10, random_state=2;, score=0.670 total time=   0.0s\n",
      "[CV 3/5; 73/243] START max_depth=5, min_samples_leaf=6, min_samples_split=15, n_estimators=10, random_state=2\n",
      "[CV 3/5; 73/243] END max_depth=5, min_samples_leaf=6, min_samples_split=15, n_estimators=10, random_state=2;, score=0.544 total time=   0.0s\n",
      "[CV 4/5; 73/243] START max_depth=5, min_samples_leaf=6, min_samples_split=15, n_estimators=10, random_state=2\n",
      "[CV 4/5; 73/243] END max_depth=5, min_samples_leaf=6, min_samples_split=15, n_estimators=10, random_state=2;, score=0.495 total time=   0.0s\n",
      "[CV 5/5; 73/243] START max_depth=5, min_samples_leaf=6, min_samples_split=15, n_estimators=10, random_state=2\n"
     ]
    },
    {
     "name": "stderr",
     "output_type": "stream",
     "text": [
      "d:\\Apps\\Anaconda\\lib\\site-packages\\sklearn\\model_selection\\_validation.py:680: DataConversionWarning: A column-vector y was passed when a 1d array was expected. Please change the shape of y to (n_samples,), for example using ravel().\n",
      "  estimator.fit(X_train, y_train, **fit_params)\n",
      "d:\\Apps\\Anaconda\\lib\\site-packages\\sklearn\\model_selection\\_validation.py:680: DataConversionWarning: A column-vector y was passed when a 1d array was expected. Please change the shape of y to (n_samples,), for example using ravel().\n",
      "  estimator.fit(X_train, y_train, **fit_params)\n",
      "d:\\Apps\\Anaconda\\lib\\site-packages\\sklearn\\model_selection\\_validation.py:680: DataConversionWarning: A column-vector y was passed when a 1d array was expected. Please change the shape of y to (n_samples,), for example using ravel().\n",
      "  estimator.fit(X_train, y_train, **fit_params)\n",
      "d:\\Apps\\Anaconda\\lib\\site-packages\\sklearn\\model_selection\\_validation.py:680: DataConversionWarning: A column-vector y was passed when a 1d array was expected. Please change the shape of y to (n_samples,), for example using ravel().\n",
      "  estimator.fit(X_train, y_train, **fit_params)\n",
      "d:\\Apps\\Anaconda\\lib\\site-packages\\sklearn\\model_selection\\_validation.py:680: DataConversionWarning: A column-vector y was passed when a 1d array was expected. Please change the shape of y to (n_samples,), for example using ravel().\n",
      "  estimator.fit(X_train, y_train, **fit_params)\n"
     ]
    },
    {
     "name": "stdout",
     "output_type": "stream",
     "text": [
      "[CV 5/5; 73/243] END max_depth=5, min_samples_leaf=6, min_samples_split=15, n_estimators=10, random_state=2;, score=0.449 total time=   0.0s\n",
      "[CV 1/5; 74/243] START max_depth=5, min_samples_leaf=6, min_samples_split=15, n_estimators=10, random_state=4\n",
      "[CV 1/5; 74/243] END max_depth=5, min_samples_leaf=6, min_samples_split=15, n_estimators=10, random_state=4;, score=0.686 total time=   0.0s\n",
      "[CV 2/5; 74/243] START max_depth=5, min_samples_leaf=6, min_samples_split=15, n_estimators=10, random_state=4\n",
      "[CV 2/5; 74/243] END max_depth=5, min_samples_leaf=6, min_samples_split=15, n_estimators=10, random_state=4;, score=0.621 total time=   0.0s\n",
      "[CV 3/5; 74/243] START max_depth=5, min_samples_leaf=6, min_samples_split=15, n_estimators=10, random_state=4\n",
      "[CV 3/5; 74/243] END max_depth=5, min_samples_leaf=6, min_samples_split=15, n_estimators=10, random_state=4;, score=0.514 total time=   0.0s\n",
      "[CV 4/5; 74/243] START max_depth=5, min_samples_leaf=6, min_samples_split=15, n_estimators=10, random_state=4\n",
      "[CV 4/5; 74/243] END max_depth=5, min_samples_leaf=6, min_samples_split=15, n_estimators=10, random_state=4;, score=0.512 total time=   0.0s\n",
      "[CV 5/5; 74/243] START max_depth=5, min_samples_leaf=6, min_samples_split=15, n_estimators=10, random_state=4\n"
     ]
    },
    {
     "name": "stderr",
     "output_type": "stream",
     "text": [
      "d:\\Apps\\Anaconda\\lib\\site-packages\\sklearn\\model_selection\\_validation.py:680: DataConversionWarning: A column-vector y was passed when a 1d array was expected. Please change the shape of y to (n_samples,), for example using ravel().\n",
      "  estimator.fit(X_train, y_train, **fit_params)\n",
      "d:\\Apps\\Anaconda\\lib\\site-packages\\sklearn\\model_selection\\_validation.py:680: DataConversionWarning: A column-vector y was passed when a 1d array was expected. Please change the shape of y to (n_samples,), for example using ravel().\n",
      "  estimator.fit(X_train, y_train, **fit_params)\n",
      "d:\\Apps\\Anaconda\\lib\\site-packages\\sklearn\\model_selection\\_validation.py:680: DataConversionWarning: A column-vector y was passed when a 1d array was expected. Please change the shape of y to (n_samples,), for example using ravel().\n",
      "  estimator.fit(X_train, y_train, **fit_params)\n",
      "d:\\Apps\\Anaconda\\lib\\site-packages\\sklearn\\model_selection\\_validation.py:680: DataConversionWarning: A column-vector y was passed when a 1d array was expected. Please change the shape of y to (n_samples,), for example using ravel().\n",
      "  estimator.fit(X_train, y_train, **fit_params)\n",
      "d:\\Apps\\Anaconda\\lib\\site-packages\\sklearn\\model_selection\\_validation.py:680: DataConversionWarning: A column-vector y was passed when a 1d array was expected. Please change the shape of y to (n_samples,), for example using ravel().\n",
      "  estimator.fit(X_train, y_train, **fit_params)\n"
     ]
    },
    {
     "name": "stdout",
     "output_type": "stream",
     "text": [
      "[CV 5/5; 74/243] END max_depth=5, min_samples_leaf=6, min_samples_split=15, n_estimators=10, random_state=4;, score=0.482 total time=   0.0s\n",
      "[CV 1/5; 75/243] START max_depth=5, min_samples_leaf=6, min_samples_split=15, n_estimators=10, random_state=6\n",
      "[CV 1/5; 75/243] END max_depth=5, min_samples_leaf=6, min_samples_split=15, n_estimators=10, random_state=6;, score=0.725 total time=   0.0s\n",
      "[CV 2/5; 75/243] START max_depth=5, min_samples_leaf=6, min_samples_split=15, n_estimators=10, random_state=6\n",
      "[CV 2/5; 75/243] END max_depth=5, min_samples_leaf=6, min_samples_split=15, n_estimators=10, random_state=6;, score=0.634 total time=   0.0s\n",
      "[CV 3/5; 75/243] START max_depth=5, min_samples_leaf=6, min_samples_split=15, n_estimators=10, random_state=6\n",
      "[CV 3/5; 75/243] END max_depth=5, min_samples_leaf=6, min_samples_split=15, n_estimators=10, random_state=6;, score=0.532 total time=   0.0s\n",
      "[CV 4/5; 75/243] START max_depth=5, min_samples_leaf=6, min_samples_split=15, n_estimators=10, random_state=6\n",
      "[CV 4/5; 75/243] END max_depth=5, min_samples_leaf=6, min_samples_split=15, n_estimators=10, random_state=6;, score=0.533 total time=   0.0s\n",
      "[CV 5/5; 75/243] START max_depth=5, min_samples_leaf=6, min_samples_split=15, n_estimators=10, random_state=6\n"
     ]
    },
    {
     "name": "stderr",
     "output_type": "stream",
     "text": [
      "d:\\Apps\\Anaconda\\lib\\site-packages\\sklearn\\model_selection\\_validation.py:680: DataConversionWarning: A column-vector y was passed when a 1d array was expected. Please change the shape of y to (n_samples,), for example using ravel().\n",
      "  estimator.fit(X_train, y_train, **fit_params)\n",
      "d:\\Apps\\Anaconda\\lib\\site-packages\\sklearn\\model_selection\\_validation.py:680: DataConversionWarning: A column-vector y was passed when a 1d array was expected. Please change the shape of y to (n_samples,), for example using ravel().\n",
      "  estimator.fit(X_train, y_train, **fit_params)\n",
      "d:\\Apps\\Anaconda\\lib\\site-packages\\sklearn\\model_selection\\_validation.py:680: DataConversionWarning: A column-vector y was passed when a 1d array was expected. Please change the shape of y to (n_samples,), for example using ravel().\n",
      "  estimator.fit(X_train, y_train, **fit_params)\n",
      "d:\\Apps\\Anaconda\\lib\\site-packages\\sklearn\\model_selection\\_validation.py:680: DataConversionWarning: A column-vector y was passed when a 1d array was expected. Please change the shape of y to (n_samples,), for example using ravel().\n",
      "  estimator.fit(X_train, y_train, **fit_params)\n",
      "d:\\Apps\\Anaconda\\lib\\site-packages\\sklearn\\model_selection\\_validation.py:680: DataConversionWarning: A column-vector y was passed when a 1d array was expected. Please change the shape of y to (n_samples,), for example using ravel().\n",
      "  estimator.fit(X_train, y_train, **fit_params)\n"
     ]
    },
    {
     "name": "stdout",
     "output_type": "stream",
     "text": [
      "[CV 5/5; 75/243] END max_depth=5, min_samples_leaf=6, min_samples_split=15, n_estimators=10, random_state=6;, score=0.451 total time=   0.0s\n",
      "[CV 1/5; 76/243] START max_depth=5, min_samples_leaf=6, min_samples_split=15, n_estimators=50, random_state=2\n",
      "[CV 1/5; 76/243] END max_depth=5, min_samples_leaf=6, min_samples_split=15, n_estimators=50, random_state=2;, score=0.704 total time=   0.1s\n"
     ]
    },
    {
     "name": "stderr",
     "output_type": "stream",
     "text": [
      "d:\\Apps\\Anaconda\\lib\\site-packages\\sklearn\\model_selection\\_validation.py:680: DataConversionWarning: A column-vector y was passed when a 1d array was expected. Please change the shape of y to (n_samples,), for example using ravel().\n",
      "  estimator.fit(X_train, y_train, **fit_params)\n"
     ]
    },
    {
     "name": "stdout",
     "output_type": "stream",
     "text": [
      "[CV 2/5; 76/243] START max_depth=5, min_samples_leaf=6, min_samples_split=15, n_estimators=50, random_state=2\n",
      "[CV 2/5; 76/243] END max_depth=5, min_samples_leaf=6, min_samples_split=15, n_estimators=50, random_state=2;, score=0.664 total time=   0.1s\n",
      "[CV 3/5; 76/243] START max_depth=5, min_samples_leaf=6, min_samples_split=15, n_estimators=50, random_state=2\n"
     ]
    },
    {
     "name": "stderr",
     "output_type": "stream",
     "text": [
      "d:\\Apps\\Anaconda\\lib\\site-packages\\sklearn\\model_selection\\_validation.py:680: DataConversionWarning: A column-vector y was passed when a 1d array was expected. Please change the shape of y to (n_samples,), for example using ravel().\n",
      "  estimator.fit(X_train, y_train, **fit_params)\n",
      "d:\\Apps\\Anaconda\\lib\\site-packages\\sklearn\\model_selection\\_validation.py:680: DataConversionWarning: A column-vector y was passed when a 1d array was expected. Please change the shape of y to (n_samples,), for example using ravel().\n",
      "  estimator.fit(X_train, y_train, **fit_params)\n"
     ]
    },
    {
     "name": "stdout",
     "output_type": "stream",
     "text": [
      "[CV 3/5; 76/243] END max_depth=5, min_samples_leaf=6, min_samples_split=15, n_estimators=50, random_state=2;, score=0.535 total time=   0.1s\n",
      "[CV 4/5; 76/243] START max_depth=5, min_samples_leaf=6, min_samples_split=15, n_estimators=50, random_state=2\n",
      "[CV 4/5; 76/243] END max_depth=5, min_samples_leaf=6, min_samples_split=15, n_estimators=50, random_state=2;, score=0.516 total time=   0.1s\n",
      "[CV 5/5; 76/243] START max_depth=5, min_samples_leaf=6, min_samples_split=15, n_estimators=50, random_state=2\n"
     ]
    },
    {
     "name": "stderr",
     "output_type": "stream",
     "text": [
      "d:\\Apps\\Anaconda\\lib\\site-packages\\sklearn\\model_selection\\_validation.py:680: DataConversionWarning: A column-vector y was passed when a 1d array was expected. Please change the shape of y to (n_samples,), for example using ravel().\n",
      "  estimator.fit(X_train, y_train, **fit_params)\n",
      "d:\\Apps\\Anaconda\\lib\\site-packages\\sklearn\\model_selection\\_validation.py:680: DataConversionWarning: A column-vector y was passed when a 1d array was expected. Please change the shape of y to (n_samples,), for example using ravel().\n",
      "  estimator.fit(X_train, y_train, **fit_params)\n"
     ]
    },
    {
     "name": "stdout",
     "output_type": "stream",
     "text": [
      "[CV 5/5; 76/243] END max_depth=5, min_samples_leaf=6, min_samples_split=15, n_estimators=50, random_state=2;, score=0.459 total time=   0.1s\n",
      "[CV 1/5; 77/243] START max_depth=5, min_samples_leaf=6, min_samples_split=15, n_estimators=50, random_state=4\n",
      "[CV 1/5; 77/243] END max_depth=5, min_samples_leaf=6, min_samples_split=15, n_estimators=50, random_state=4;, score=0.666 total time=   0.1s\n",
      "[CV 2/5; 77/243] START max_depth=5, min_samples_leaf=6, min_samples_split=15, n_estimators=50, random_state=4\n"
     ]
    },
    {
     "name": "stderr",
     "output_type": "stream",
     "text": [
      "d:\\Apps\\Anaconda\\lib\\site-packages\\sklearn\\model_selection\\_validation.py:680: DataConversionWarning: A column-vector y was passed when a 1d array was expected. Please change the shape of y to (n_samples,), for example using ravel().\n",
      "  estimator.fit(X_train, y_train, **fit_params)\n",
      "d:\\Apps\\Anaconda\\lib\\site-packages\\sklearn\\model_selection\\_validation.py:680: DataConversionWarning: A column-vector y was passed when a 1d array was expected. Please change the shape of y to (n_samples,), for example using ravel().\n",
      "  estimator.fit(X_train, y_train, **fit_params)\n"
     ]
    },
    {
     "name": "stdout",
     "output_type": "stream",
     "text": [
      "[CV 2/5; 77/243] END max_depth=5, min_samples_leaf=6, min_samples_split=15, n_estimators=50, random_state=4;, score=0.664 total time=   0.1s\n",
      "[CV 3/5; 77/243] START max_depth=5, min_samples_leaf=6, min_samples_split=15, n_estimators=50, random_state=4\n",
      "[CV 3/5; 77/243] END max_depth=5, min_samples_leaf=6, min_samples_split=15, n_estimators=50, random_state=4;, score=0.514 total time=   0.1s\n",
      "[CV 4/5; 77/243] START max_depth=5, min_samples_leaf=6, min_samples_split=15, n_estimators=50, random_state=4\n"
     ]
    },
    {
     "name": "stderr",
     "output_type": "stream",
     "text": [
      "d:\\Apps\\Anaconda\\lib\\site-packages\\sklearn\\model_selection\\_validation.py:680: DataConversionWarning: A column-vector y was passed when a 1d array was expected. Please change the shape of y to (n_samples,), for example using ravel().\n",
      "  estimator.fit(X_train, y_train, **fit_params)\n",
      "d:\\Apps\\Anaconda\\lib\\site-packages\\sklearn\\model_selection\\_validation.py:680: DataConversionWarning: A column-vector y was passed when a 1d array was expected. Please change the shape of y to (n_samples,), for example using ravel().\n",
      "  estimator.fit(X_train, y_train, **fit_params)\n"
     ]
    },
    {
     "name": "stdout",
     "output_type": "stream",
     "text": [
      "[CV 4/5; 77/243] END max_depth=5, min_samples_leaf=6, min_samples_split=15, n_estimators=50, random_state=4;, score=0.535 total time=   0.1s\n",
      "[CV 5/5; 77/243] START max_depth=5, min_samples_leaf=6, min_samples_split=15, n_estimators=50, random_state=4\n",
      "[CV 5/5; 77/243] END max_depth=5, min_samples_leaf=6, min_samples_split=15, n_estimators=50, random_state=4;, score=0.447 total time=   0.1s\n",
      "[CV 1/5; 78/243] START max_depth=5, min_samples_leaf=6, min_samples_split=15, n_estimators=50, random_state=6\n"
     ]
    },
    {
     "name": "stderr",
     "output_type": "stream",
     "text": [
      "d:\\Apps\\Anaconda\\lib\\site-packages\\sklearn\\model_selection\\_validation.py:680: DataConversionWarning: A column-vector y was passed when a 1d array was expected. Please change the shape of y to (n_samples,), for example using ravel().\n",
      "  estimator.fit(X_train, y_train, **fit_params)\n",
      "d:\\Apps\\Anaconda\\lib\\site-packages\\sklearn\\model_selection\\_validation.py:680: DataConversionWarning: A column-vector y was passed when a 1d array was expected. Please change the shape of y to (n_samples,), for example using ravel().\n",
      "  estimator.fit(X_train, y_train, **fit_params)\n"
     ]
    },
    {
     "name": "stdout",
     "output_type": "stream",
     "text": [
      "[CV 1/5; 78/243] END max_depth=5, min_samples_leaf=6, min_samples_split=15, n_estimators=50, random_state=6;, score=0.716 total time=   0.1s\n",
      "[CV 2/5; 78/243] START max_depth=5, min_samples_leaf=6, min_samples_split=15, n_estimators=50, random_state=6\n",
      "[CV 2/5; 78/243] END max_depth=5, min_samples_leaf=6, min_samples_split=15, n_estimators=50, random_state=6;, score=0.653 total time=   0.1s\n",
      "[CV 3/5; 78/243] START max_depth=5, min_samples_leaf=6, min_samples_split=15, n_estimators=50, random_state=6\n"
     ]
    },
    {
     "name": "stderr",
     "output_type": "stream",
     "text": [
      "d:\\Apps\\Anaconda\\lib\\site-packages\\sklearn\\model_selection\\_validation.py:680: DataConversionWarning: A column-vector y was passed when a 1d array was expected. Please change the shape of y to (n_samples,), for example using ravel().\n",
      "  estimator.fit(X_train, y_train, **fit_params)\n",
      "d:\\Apps\\Anaconda\\lib\\site-packages\\sklearn\\model_selection\\_validation.py:680: DataConversionWarning: A column-vector y was passed when a 1d array was expected. Please change the shape of y to (n_samples,), for example using ravel().\n",
      "  estimator.fit(X_train, y_train, **fit_params)\n"
     ]
    },
    {
     "name": "stdout",
     "output_type": "stream",
     "text": [
      "[CV 3/5; 78/243] END max_depth=5, min_samples_leaf=6, min_samples_split=15, n_estimators=50, random_state=6;, score=0.534 total time=   0.1s\n",
      "[CV 4/5; 78/243] START max_depth=5, min_samples_leaf=6, min_samples_split=15, n_estimators=50, random_state=6\n",
      "[CV 4/5; 78/243] END max_depth=5, min_samples_leaf=6, min_samples_split=15, n_estimators=50, random_state=6;, score=0.533 total time=   0.1s\n"
     ]
    },
    {
     "name": "stderr",
     "output_type": "stream",
     "text": [
      "d:\\Apps\\Anaconda\\lib\\site-packages\\sklearn\\model_selection\\_validation.py:680: DataConversionWarning: A column-vector y was passed when a 1d array was expected. Please change the shape of y to (n_samples,), for example using ravel().\n",
      "  estimator.fit(X_train, y_train, **fit_params)\n"
     ]
    },
    {
     "name": "stdout",
     "output_type": "stream",
     "text": [
      "[CV 5/5; 78/243] START max_depth=5, min_samples_leaf=6, min_samples_split=15, n_estimators=50, random_state=6\n",
      "[CV 5/5; 78/243] END max_depth=5, min_samples_leaf=6, min_samples_split=15, n_estimators=50, random_state=6;, score=0.467 total time=   0.1s\n",
      "[CV 1/5; 79/243] START max_depth=5, min_samples_leaf=6, min_samples_split=15, n_estimators=100, random_state=2\n"
     ]
    },
    {
     "name": "stderr",
     "output_type": "stream",
     "text": [
      "d:\\Apps\\Anaconda\\lib\\site-packages\\sklearn\\model_selection\\_validation.py:680: DataConversionWarning: A column-vector y was passed when a 1d array was expected. Please change the shape of y to (n_samples,), for example using ravel().\n",
      "  estimator.fit(X_train, y_train, **fit_params)\n",
      "d:\\Apps\\Anaconda\\lib\\site-packages\\sklearn\\model_selection\\_validation.py:680: DataConversionWarning: A column-vector y was passed when a 1d array was expected. Please change the shape of y to (n_samples,), for example using ravel().\n",
      "  estimator.fit(X_train, y_train, **fit_params)\n"
     ]
    },
    {
     "name": "stdout",
     "output_type": "stream",
     "text": [
      "[CV 1/5; 79/243] END max_depth=5, min_samples_leaf=6, min_samples_split=15, n_estimators=100, random_state=2;, score=0.708 total time=   0.3s\n",
      "[CV 2/5; 79/243] START max_depth=5, min_samples_leaf=6, min_samples_split=15, n_estimators=100, random_state=2\n"
     ]
    },
    {
     "name": "stderr",
     "output_type": "stream",
     "text": [
      "d:\\Apps\\Anaconda\\lib\\site-packages\\sklearn\\model_selection\\_validation.py:680: DataConversionWarning: A column-vector y was passed when a 1d array was expected. Please change the shape of y to (n_samples,), for example using ravel().\n",
      "  estimator.fit(X_train, y_train, **fit_params)\n"
     ]
    },
    {
     "name": "stdout",
     "output_type": "stream",
     "text": [
      "[CV 2/5; 79/243] END max_depth=5, min_samples_leaf=6, min_samples_split=15, n_estimators=100, random_state=2;, score=0.656 total time=   0.3s\n",
      "[CV 3/5; 79/243] START max_depth=5, min_samples_leaf=6, min_samples_split=15, n_estimators=100, random_state=2\n"
     ]
    },
    {
     "name": "stderr",
     "output_type": "stream",
     "text": [
      "d:\\Apps\\Anaconda\\lib\\site-packages\\sklearn\\model_selection\\_validation.py:680: DataConversionWarning: A column-vector y was passed when a 1d array was expected. Please change the shape of y to (n_samples,), for example using ravel().\n",
      "  estimator.fit(X_train, y_train, **fit_params)\n"
     ]
    },
    {
     "name": "stdout",
     "output_type": "stream",
     "text": [
      "[CV 3/5; 79/243] END max_depth=5, min_samples_leaf=6, min_samples_split=15, n_estimators=100, random_state=2;, score=0.530 total time=   0.3s\n",
      "[CV 4/5; 79/243] START max_depth=5, min_samples_leaf=6, min_samples_split=15, n_estimators=100, random_state=2\n"
     ]
    },
    {
     "name": "stderr",
     "output_type": "stream",
     "text": [
      "d:\\Apps\\Anaconda\\lib\\site-packages\\sklearn\\model_selection\\_validation.py:680: DataConversionWarning: A column-vector y was passed when a 1d array was expected. Please change the shape of y to (n_samples,), for example using ravel().\n",
      "  estimator.fit(X_train, y_train, **fit_params)\n"
     ]
    },
    {
     "name": "stdout",
     "output_type": "stream",
     "text": [
      "[CV 4/5; 79/243] END max_depth=5, min_samples_leaf=6, min_samples_split=15, n_estimators=100, random_state=2;, score=0.529 total time=   0.3s\n",
      "[CV 5/5; 79/243] START max_depth=5, min_samples_leaf=6, min_samples_split=15, n_estimators=100, random_state=2\n"
     ]
    },
    {
     "name": "stderr",
     "output_type": "stream",
     "text": [
      "d:\\Apps\\Anaconda\\lib\\site-packages\\sklearn\\model_selection\\_validation.py:680: DataConversionWarning: A column-vector y was passed when a 1d array was expected. Please change the shape of y to (n_samples,), for example using ravel().\n",
      "  estimator.fit(X_train, y_train, **fit_params)\n"
     ]
    },
    {
     "name": "stdout",
     "output_type": "stream",
     "text": [
      "[CV 5/5; 79/243] END max_depth=5, min_samples_leaf=6, min_samples_split=15, n_estimators=100, random_state=2;, score=0.463 total time=   0.3s\n",
      "[CV 1/5; 80/243] START max_depth=5, min_samples_leaf=6, min_samples_split=15, n_estimators=100, random_state=4\n"
     ]
    },
    {
     "name": "stderr",
     "output_type": "stream",
     "text": [
      "d:\\Apps\\Anaconda\\lib\\site-packages\\sklearn\\model_selection\\_validation.py:680: DataConversionWarning: A column-vector y was passed when a 1d array was expected. Please change the shape of y to (n_samples,), for example using ravel().\n",
      "  estimator.fit(X_train, y_train, **fit_params)\n"
     ]
    },
    {
     "name": "stdout",
     "output_type": "stream",
     "text": [
      "[CV 1/5; 80/243] END max_depth=5, min_samples_leaf=6, min_samples_split=15, n_estimators=100, random_state=4;, score=0.698 total time=   0.3s\n",
      "[CV 2/5; 80/243] START max_depth=5, min_samples_leaf=6, min_samples_split=15, n_estimators=100, random_state=4\n"
     ]
    },
    {
     "name": "stderr",
     "output_type": "stream",
     "text": [
      "d:\\Apps\\Anaconda\\lib\\site-packages\\sklearn\\model_selection\\_validation.py:680: DataConversionWarning: A column-vector y was passed when a 1d array was expected. Please change the shape of y to (n_samples,), for example using ravel().\n",
      "  estimator.fit(X_train, y_train, **fit_params)\n"
     ]
    },
    {
     "name": "stdout",
     "output_type": "stream",
     "text": [
      "[CV 2/5; 80/243] END max_depth=5, min_samples_leaf=6, min_samples_split=15, n_estimators=100, random_state=4;, score=0.665 total time=   0.3s\n",
      "[CV 3/5; 80/243] START max_depth=5, min_samples_leaf=6, min_samples_split=15, n_estimators=100, random_state=4\n"
     ]
    },
    {
     "name": "stderr",
     "output_type": "stream",
     "text": [
      "d:\\Apps\\Anaconda\\lib\\site-packages\\sklearn\\model_selection\\_validation.py:680: DataConversionWarning: A column-vector y was passed when a 1d array was expected. Please change the shape of y to (n_samples,), for example using ravel().\n",
      "  estimator.fit(X_train, y_train, **fit_params)\n"
     ]
    },
    {
     "name": "stdout",
     "output_type": "stream",
     "text": [
      "[CV 3/5; 80/243] END max_depth=5, min_samples_leaf=6, min_samples_split=15, n_estimators=100, random_state=4;, score=0.530 total time=   0.3s\n",
      "[CV 4/5; 80/243] START max_depth=5, min_samples_leaf=6, min_samples_split=15, n_estimators=100, random_state=4\n"
     ]
    },
    {
     "name": "stderr",
     "output_type": "stream",
     "text": [
      "d:\\Apps\\Anaconda\\lib\\site-packages\\sklearn\\model_selection\\_validation.py:680: DataConversionWarning: A column-vector y was passed when a 1d array was expected. Please change the shape of y to (n_samples,), for example using ravel().\n",
      "  estimator.fit(X_train, y_train, **fit_params)\n"
     ]
    },
    {
     "name": "stdout",
     "output_type": "stream",
     "text": [
      "[CV 4/5; 80/243] END max_depth=5, min_samples_leaf=6, min_samples_split=15, n_estimators=100, random_state=4;, score=0.517 total time=   0.3s\n",
      "[CV 5/5; 80/243] START max_depth=5, min_samples_leaf=6, min_samples_split=15, n_estimators=100, random_state=4\n"
     ]
    },
    {
     "name": "stderr",
     "output_type": "stream",
     "text": [
      "d:\\Apps\\Anaconda\\lib\\site-packages\\sklearn\\model_selection\\_validation.py:680: DataConversionWarning: A column-vector y was passed when a 1d array was expected. Please change the shape of y to (n_samples,), for example using ravel().\n",
      "  estimator.fit(X_train, y_train, **fit_params)\n",
      "d:\\Apps\\Anaconda\\lib\\site-packages\\sklearn\\model_selection\\_validation.py:680: DataConversionWarning: A column-vector y was passed when a 1d array was expected. Please change the shape of y to (n_samples,), for example using ravel().\n",
      "  estimator.fit(X_train, y_train, **fit_params)\n"
     ]
    },
    {
     "name": "stdout",
     "output_type": "stream",
     "text": [
      "[CV 5/5; 80/243] END max_depth=5, min_samples_leaf=6, min_samples_split=15, n_estimators=100, random_state=4;, score=0.455 total time=   0.3s\n",
      "[CV 1/5; 81/243] START max_depth=5, min_samples_leaf=6, min_samples_split=15, n_estimators=100, random_state=6\n",
      "[CV 1/5; 81/243] END max_depth=5, min_samples_leaf=6, min_samples_split=15, n_estimators=100, random_state=6;, score=0.719 total time=   0.3s\n",
      "[CV 2/5; 81/243] START max_depth=5, min_samples_leaf=6, min_samples_split=15, n_estimators=100, random_state=6\n"
     ]
    },
    {
     "name": "stderr",
     "output_type": "stream",
     "text": [
      "d:\\Apps\\Anaconda\\lib\\site-packages\\sklearn\\model_selection\\_validation.py:680: DataConversionWarning: A column-vector y was passed when a 1d array was expected. Please change the shape of y to (n_samples,), for example using ravel().\n",
      "  estimator.fit(X_train, y_train, **fit_params)\n"
     ]
    },
    {
     "name": "stdout",
     "output_type": "stream",
     "text": [
      "[CV 2/5; 81/243] END max_depth=5, min_samples_leaf=6, min_samples_split=15, n_estimators=100, random_state=6;, score=0.651 total time=   0.3s\n",
      "[CV 3/5; 81/243] START max_depth=5, min_samples_leaf=6, min_samples_split=15, n_estimators=100, random_state=6\n"
     ]
    },
    {
     "name": "stderr",
     "output_type": "stream",
     "text": [
      "d:\\Apps\\Anaconda\\lib\\site-packages\\sklearn\\model_selection\\_validation.py:680: DataConversionWarning: A column-vector y was passed when a 1d array was expected. Please change the shape of y to (n_samples,), for example using ravel().\n",
      "  estimator.fit(X_train, y_train, **fit_params)\n"
     ]
    },
    {
     "name": "stdout",
     "output_type": "stream",
     "text": [
      "[CV 3/5; 81/243] END max_depth=5, min_samples_leaf=6, min_samples_split=15, n_estimators=100, random_state=6;, score=0.533 total time=   0.3s\n",
      "[CV 4/5; 81/243] START max_depth=5, min_samples_leaf=6, min_samples_split=15, n_estimators=100, random_state=6\n"
     ]
    },
    {
     "name": "stderr",
     "output_type": "stream",
     "text": [
      "d:\\Apps\\Anaconda\\lib\\site-packages\\sklearn\\model_selection\\_validation.py:680: DataConversionWarning: A column-vector y was passed when a 1d array was expected. Please change the shape of y to (n_samples,), for example using ravel().\n",
      "  estimator.fit(X_train, y_train, **fit_params)\n"
     ]
    },
    {
     "name": "stdout",
     "output_type": "stream",
     "text": [
      "[CV 4/5; 81/243] END max_depth=5, min_samples_leaf=6, min_samples_split=15, n_estimators=100, random_state=6;, score=0.528 total time=   0.3s\n",
      "[CV 5/5; 81/243] START max_depth=5, min_samples_leaf=6, min_samples_split=15, n_estimators=100, random_state=6\n"
     ]
    },
    {
     "name": "stderr",
     "output_type": "stream",
     "text": [
      "d:\\Apps\\Anaconda\\lib\\site-packages\\sklearn\\model_selection\\_validation.py:680: DataConversionWarning: A column-vector y was passed when a 1d array was expected. Please change the shape of y to (n_samples,), for example using ravel().\n",
      "  estimator.fit(X_train, y_train, **fit_params)\n"
     ]
    },
    {
     "name": "stdout",
     "output_type": "stream",
     "text": [
      "[CV 5/5; 81/243] END max_depth=5, min_samples_leaf=6, min_samples_split=15, n_estimators=100, random_state=6;, score=0.464 total time=   0.3s\n",
      "[CV 1/5; 82/243] START max_depth=10, min_samples_leaf=2, min_samples_split=5, n_estimators=10, random_state=2\n",
      "[CV 1/5; 82/243] END max_depth=10, min_samples_leaf=2, min_samples_split=5, n_estimators=10, random_state=2;, score=0.779 total time=   0.0s\n",
      "[CV 2/5; 82/243] START max_depth=10, min_samples_leaf=2, min_samples_split=5, n_estimators=10, random_state=2\n",
      "[CV 2/5; 82/243] END max_depth=10, min_samples_leaf=2, min_samples_split=5, n_estimators=10, random_state=2;, score=0.837 total time=   0.0s\n",
      "[CV 3/5; 82/243] START max_depth=10, min_samples_leaf=2, min_samples_split=5, n_estimators=10, random_state=2\n"
     ]
    },
    {
     "name": "stderr",
     "output_type": "stream",
     "text": [
      "d:\\Apps\\Anaconda\\lib\\site-packages\\sklearn\\model_selection\\_validation.py:680: DataConversionWarning: A column-vector y was passed when a 1d array was expected. Please change the shape of y to (n_samples,), for example using ravel().\n",
      "  estimator.fit(X_train, y_train, **fit_params)\n",
      "d:\\Apps\\Anaconda\\lib\\site-packages\\sklearn\\model_selection\\_validation.py:680: DataConversionWarning: A column-vector y was passed when a 1d array was expected. Please change the shape of y to (n_samples,), for example using ravel().\n",
      "  estimator.fit(X_train, y_train, **fit_params)\n",
      "d:\\Apps\\Anaconda\\lib\\site-packages\\sklearn\\model_selection\\_validation.py:680: DataConversionWarning: A column-vector y was passed when a 1d array was expected. Please change the shape of y to (n_samples,), for example using ravel().\n",
      "  estimator.fit(X_train, y_train, **fit_params)\n"
     ]
    },
    {
     "name": "stdout",
     "output_type": "stream",
     "text": [
      "[CV 3/5; 82/243] END max_depth=10, min_samples_leaf=2, min_samples_split=5, n_estimators=10, random_state=2;, score=0.775 total time=   0.0s\n",
      "[CV 4/5; 82/243] START max_depth=10, min_samples_leaf=2, min_samples_split=5, n_estimators=10, random_state=2\n",
      "[CV 4/5; 82/243] END max_depth=10, min_samples_leaf=2, min_samples_split=5, n_estimators=10, random_state=2;, score=0.569 total time=   0.0s\n",
      "[CV 5/5; 82/243] START max_depth=10, min_samples_leaf=2, min_samples_split=5, n_estimators=10, random_state=2\n",
      "[CV 5/5; 82/243] END max_depth=10, min_samples_leaf=2, min_samples_split=5, n_estimators=10, random_state=2;, score=0.662 total time=   0.0s\n",
      "[CV 1/5; 83/243] START max_depth=10, min_samples_leaf=2, min_samples_split=5, n_estimators=10, random_state=4\n"
     ]
    },
    {
     "name": "stderr",
     "output_type": "stream",
     "text": [
      "d:\\Apps\\Anaconda\\lib\\site-packages\\sklearn\\model_selection\\_validation.py:680: DataConversionWarning: A column-vector y was passed when a 1d array was expected. Please change the shape of y to (n_samples,), for example using ravel().\n",
      "  estimator.fit(X_train, y_train, **fit_params)\n",
      "d:\\Apps\\Anaconda\\lib\\site-packages\\sklearn\\model_selection\\_validation.py:680: DataConversionWarning: A column-vector y was passed when a 1d array was expected. Please change the shape of y to (n_samples,), for example using ravel().\n",
      "  estimator.fit(X_train, y_train, **fit_params)\n",
      "d:\\Apps\\Anaconda\\lib\\site-packages\\sklearn\\model_selection\\_validation.py:680: DataConversionWarning: A column-vector y was passed when a 1d array was expected. Please change the shape of y to (n_samples,), for example using ravel().\n",
      "  estimator.fit(X_train, y_train, **fit_params)\n"
     ]
    },
    {
     "name": "stdout",
     "output_type": "stream",
     "text": [
      "[CV 1/5; 83/243] END max_depth=10, min_samples_leaf=2, min_samples_split=5, n_estimators=10, random_state=4;, score=0.699 total time=   0.0s\n",
      "[CV 2/5; 83/243] START max_depth=10, min_samples_leaf=2, min_samples_split=5, n_estimators=10, random_state=4\n",
      "[CV 2/5; 83/243] END max_depth=10, min_samples_leaf=2, min_samples_split=5, n_estimators=10, random_state=4;, score=0.808 total time=   0.0s\n",
      "[CV 3/5; 83/243] START max_depth=10, min_samples_leaf=2, min_samples_split=5, n_estimators=10, random_state=4\n",
      "[CV 3/5; 83/243] END max_depth=10, min_samples_leaf=2, min_samples_split=5, n_estimators=10, random_state=4;, score=0.714 total time=   0.0s\n",
      "[CV 4/5; 83/243] START max_depth=10, min_samples_leaf=2, min_samples_split=5, n_estimators=10, random_state=4\n"
     ]
    },
    {
     "name": "stderr",
     "output_type": "stream",
     "text": [
      "d:\\Apps\\Anaconda\\lib\\site-packages\\sklearn\\model_selection\\_validation.py:680: DataConversionWarning: A column-vector y was passed when a 1d array was expected. Please change the shape of y to (n_samples,), for example using ravel().\n",
      "  estimator.fit(X_train, y_train, **fit_params)\n",
      "d:\\Apps\\Anaconda\\lib\\site-packages\\sklearn\\model_selection\\_validation.py:680: DataConversionWarning: A column-vector y was passed when a 1d array was expected. Please change the shape of y to (n_samples,), for example using ravel().\n",
      "  estimator.fit(X_train, y_train, **fit_params)\n",
      "d:\\Apps\\Anaconda\\lib\\site-packages\\sklearn\\model_selection\\_validation.py:680: DataConversionWarning: A column-vector y was passed when a 1d array was expected. Please change the shape of y to (n_samples,), for example using ravel().\n",
      "  estimator.fit(X_train, y_train, **fit_params)\n"
     ]
    },
    {
     "name": "stdout",
     "output_type": "stream",
     "text": [
      "[CV 4/5; 83/243] END max_depth=10, min_samples_leaf=2, min_samples_split=5, n_estimators=10, random_state=4;, score=0.508 total time=   0.0s\n",
      "[CV 5/5; 83/243] START max_depth=10, min_samples_leaf=2, min_samples_split=5, n_estimators=10, random_state=4\n",
      "[CV 5/5; 83/243] END max_depth=10, min_samples_leaf=2, min_samples_split=5, n_estimators=10, random_state=4;, score=0.718 total time=   0.0s\n",
      "[CV 1/5; 84/243] START max_depth=10, min_samples_leaf=2, min_samples_split=5, n_estimators=10, random_state=6\n",
      "[CV 1/5; 84/243] END max_depth=10, min_samples_leaf=2, min_samples_split=5, n_estimators=10, random_state=6;, score=0.780 total time=   0.0s\n",
      "[CV 2/5; 84/243] START max_depth=10, min_samples_leaf=2, min_samples_split=5, n_estimators=10, random_state=6\n"
     ]
    },
    {
     "name": "stderr",
     "output_type": "stream",
     "text": [
      "d:\\Apps\\Anaconda\\lib\\site-packages\\sklearn\\model_selection\\_validation.py:680: DataConversionWarning: A column-vector y was passed when a 1d array was expected. Please change the shape of y to (n_samples,), for example using ravel().\n",
      "  estimator.fit(X_train, y_train, **fit_params)\n",
      "d:\\Apps\\Anaconda\\lib\\site-packages\\sklearn\\model_selection\\_validation.py:680: DataConversionWarning: A column-vector y was passed when a 1d array was expected. Please change the shape of y to (n_samples,), for example using ravel().\n",
      "  estimator.fit(X_train, y_train, **fit_params)\n",
      "d:\\Apps\\Anaconda\\lib\\site-packages\\sklearn\\model_selection\\_validation.py:680: DataConversionWarning: A column-vector y was passed when a 1d array was expected. Please change the shape of y to (n_samples,), for example using ravel().\n",
      "  estimator.fit(X_train, y_train, **fit_params)\n"
     ]
    },
    {
     "name": "stdout",
     "output_type": "stream",
     "text": [
      "[CV 2/5; 84/243] END max_depth=10, min_samples_leaf=2, min_samples_split=5, n_estimators=10, random_state=6;, score=0.821 total time=   0.0s\n",
      "[CV 3/5; 84/243] START max_depth=10, min_samples_leaf=2, min_samples_split=5, n_estimators=10, random_state=6\n",
      "[CV 3/5; 84/243] END max_depth=10, min_samples_leaf=2, min_samples_split=5, n_estimators=10, random_state=6;, score=0.772 total time=   0.0s\n",
      "[CV 4/5; 84/243] START max_depth=10, min_samples_leaf=2, min_samples_split=5, n_estimators=10, random_state=6\n",
      "[CV 4/5; 84/243] END max_depth=10, min_samples_leaf=2, min_samples_split=5, n_estimators=10, random_state=6;, score=0.434 total time=   0.0s\n",
      "[CV 5/5; 84/243] START max_depth=10, min_samples_leaf=2, min_samples_split=5, n_estimators=10, random_state=6\n"
     ]
    },
    {
     "name": "stderr",
     "output_type": "stream",
     "text": [
      "d:\\Apps\\Anaconda\\lib\\site-packages\\sklearn\\model_selection\\_validation.py:680: DataConversionWarning: A column-vector y was passed when a 1d array was expected. Please change the shape of y to (n_samples,), for example using ravel().\n",
      "  estimator.fit(X_train, y_train, **fit_params)\n",
      "d:\\Apps\\Anaconda\\lib\\site-packages\\sklearn\\model_selection\\_validation.py:680: DataConversionWarning: A column-vector y was passed when a 1d array was expected. Please change the shape of y to (n_samples,), for example using ravel().\n",
      "  estimator.fit(X_train, y_train, **fit_params)\n",
      "d:\\Apps\\Anaconda\\lib\\site-packages\\sklearn\\model_selection\\_validation.py:680: DataConversionWarning: A column-vector y was passed when a 1d array was expected. Please change the shape of y to (n_samples,), for example using ravel().\n",
      "  estimator.fit(X_train, y_train, **fit_params)\n"
     ]
    },
    {
     "name": "stdout",
     "output_type": "stream",
     "text": [
      "[CV 5/5; 84/243] END max_depth=10, min_samples_leaf=2, min_samples_split=5, n_estimators=10, random_state=6;, score=0.693 total time=   0.0s\n",
      "[CV 1/5; 85/243] START max_depth=10, min_samples_leaf=2, min_samples_split=5, n_estimators=50, random_state=2\n"
     ]
    },
    {
     "name": "stderr",
     "output_type": "stream",
     "text": [
      "d:\\Apps\\Anaconda\\lib\\site-packages\\sklearn\\model_selection\\_validation.py:680: DataConversionWarning: A column-vector y was passed when a 1d array was expected. Please change the shape of y to (n_samples,), for example using ravel().\n",
      "  estimator.fit(X_train, y_train, **fit_params)\n"
     ]
    },
    {
     "name": "stdout",
     "output_type": "stream",
     "text": [
      "[CV 1/5; 85/243] END max_depth=10, min_samples_leaf=2, min_samples_split=5, n_estimators=50, random_state=2;, score=0.751 total time=   0.2s\n",
      "[CV 2/5; 85/243] START max_depth=10, min_samples_leaf=2, min_samples_split=5, n_estimators=50, random_state=2\n"
     ]
    },
    {
     "name": "stderr",
     "output_type": "stream",
     "text": [
      "d:\\Apps\\Anaconda\\lib\\site-packages\\sklearn\\model_selection\\_validation.py:680: DataConversionWarning: A column-vector y was passed when a 1d array was expected. Please change the shape of y to (n_samples,), for example using ravel().\n",
      "  estimator.fit(X_train, y_train, **fit_params)\n"
     ]
    },
    {
     "name": "stdout",
     "output_type": "stream",
     "text": [
      "[CV 2/5; 85/243] END max_depth=10, min_samples_leaf=2, min_samples_split=5, n_estimators=50, random_state=2;, score=0.830 total time=   0.2s\n",
      "[CV 3/5; 85/243] START max_depth=10, min_samples_leaf=2, min_samples_split=5, n_estimators=50, random_state=2\n"
     ]
    },
    {
     "name": "stderr",
     "output_type": "stream",
     "text": [
      "d:\\Apps\\Anaconda\\lib\\site-packages\\sklearn\\model_selection\\_validation.py:680: DataConversionWarning: A column-vector y was passed when a 1d array was expected. Please change the shape of y to (n_samples,), for example using ravel().\n",
      "  estimator.fit(X_train, y_train, **fit_params)\n",
      "d:\\Apps\\Anaconda\\lib\\site-packages\\sklearn\\model_selection\\_validation.py:680: DataConversionWarning: A column-vector y was passed when a 1d array was expected. Please change the shape of y to (n_samples,), for example using ravel().\n",
      "  estimator.fit(X_train, y_train, **fit_params)\n"
     ]
    },
    {
     "name": "stdout",
     "output_type": "stream",
     "text": [
      "[CV 3/5; 85/243] END max_depth=10, min_samples_leaf=2, min_samples_split=5, n_estimators=50, random_state=2;, score=0.760 total time=   0.2s\n",
      "[CV 4/5; 85/243] START max_depth=10, min_samples_leaf=2, min_samples_split=5, n_estimators=50, random_state=2\n",
      "[CV 4/5; 85/243] END max_depth=10, min_samples_leaf=2, min_samples_split=5, n_estimators=50, random_state=2;, score=0.541 total time=   0.2s\n",
      "[CV 5/5; 85/243] START max_depth=10, min_samples_leaf=2, min_samples_split=5, n_estimators=50, random_state=2\n"
     ]
    },
    {
     "name": "stderr",
     "output_type": "stream",
     "text": [
      "d:\\Apps\\Anaconda\\lib\\site-packages\\sklearn\\model_selection\\_validation.py:680: DataConversionWarning: A column-vector y was passed when a 1d array was expected. Please change the shape of y to (n_samples,), for example using ravel().\n",
      "  estimator.fit(X_train, y_train, **fit_params)\n"
     ]
    },
    {
     "name": "stdout",
     "output_type": "stream",
     "text": [
      "[CV 5/5; 85/243] END max_depth=10, min_samples_leaf=2, min_samples_split=5, n_estimators=50, random_state=2;, score=0.710 total time=   0.2s\n",
      "[CV 1/5; 86/243] START max_depth=10, min_samples_leaf=2, min_samples_split=5, n_estimators=50, random_state=4\n"
     ]
    },
    {
     "name": "stderr",
     "output_type": "stream",
     "text": [
      "d:\\Apps\\Anaconda\\lib\\site-packages\\sklearn\\model_selection\\_validation.py:680: DataConversionWarning: A column-vector y was passed when a 1d array was expected. Please change the shape of y to (n_samples,), for example using ravel().\n",
      "  estimator.fit(X_train, y_train, **fit_params)\n"
     ]
    },
    {
     "name": "stdout",
     "output_type": "stream",
     "text": [
      "[CV 1/5; 86/243] END max_depth=10, min_samples_leaf=2, min_samples_split=5, n_estimators=50, random_state=4;, score=0.756 total time=   0.2s\n",
      "[CV 2/5; 86/243] START max_depth=10, min_samples_leaf=2, min_samples_split=5, n_estimators=50, random_state=4\n"
     ]
    },
    {
     "name": "stderr",
     "output_type": "stream",
     "text": [
      "d:\\Apps\\Anaconda\\lib\\site-packages\\sklearn\\model_selection\\_validation.py:680: DataConversionWarning: A column-vector y was passed when a 1d array was expected. Please change the shape of y to (n_samples,), for example using ravel().\n",
      "  estimator.fit(X_train, y_train, **fit_params)\n"
     ]
    },
    {
     "name": "stdout",
     "output_type": "stream",
     "text": [
      "[CV 2/5; 86/243] END max_depth=10, min_samples_leaf=2, min_samples_split=5, n_estimators=50, random_state=4;, score=0.817 total time=   0.2s\n",
      "[CV 3/5; 86/243] START max_depth=10, min_samples_leaf=2, min_samples_split=5, n_estimators=50, random_state=4\n"
     ]
    },
    {
     "name": "stderr",
     "output_type": "stream",
     "text": [
      "d:\\Apps\\Anaconda\\lib\\site-packages\\sklearn\\model_selection\\_validation.py:680: DataConversionWarning: A column-vector y was passed when a 1d array was expected. Please change the shape of y to (n_samples,), for example using ravel().\n",
      "  estimator.fit(X_train, y_train, **fit_params)\n"
     ]
    },
    {
     "name": "stdout",
     "output_type": "stream",
     "text": [
      "[CV 3/5; 86/243] END max_depth=10, min_samples_leaf=2, min_samples_split=5, n_estimators=50, random_state=4;, score=0.725 total time=   0.2s\n",
      "[CV 4/5; 86/243] START max_depth=10, min_samples_leaf=2, min_samples_split=5, n_estimators=50, random_state=4\n"
     ]
    },
    {
     "name": "stderr",
     "output_type": "stream",
     "text": [
      "d:\\Apps\\Anaconda\\lib\\site-packages\\sklearn\\model_selection\\_validation.py:680: DataConversionWarning: A column-vector y was passed when a 1d array was expected. Please change the shape of y to (n_samples,), for example using ravel().\n",
      "  estimator.fit(X_train, y_train, **fit_params)\n"
     ]
    },
    {
     "name": "stdout",
     "output_type": "stream",
     "text": [
      "[CV 4/5; 86/243] END max_depth=10, min_samples_leaf=2, min_samples_split=5, n_estimators=50, random_state=4;, score=0.544 total time=   0.2s\n",
      "[CV 5/5; 86/243] START max_depth=10, min_samples_leaf=2, min_samples_split=5, n_estimators=50, random_state=4\n"
     ]
    },
    {
     "name": "stderr",
     "output_type": "stream",
     "text": [
      "d:\\Apps\\Anaconda\\lib\\site-packages\\sklearn\\model_selection\\_validation.py:680: DataConversionWarning: A column-vector y was passed when a 1d array was expected. Please change the shape of y to (n_samples,), for example using ravel().\n",
      "  estimator.fit(X_train, y_train, **fit_params)\n"
     ]
    },
    {
     "name": "stdout",
     "output_type": "stream",
     "text": [
      "[CV 5/5; 86/243] END max_depth=10, min_samples_leaf=2, min_samples_split=5, n_estimators=50, random_state=4;, score=0.705 total time=   0.2s\n",
      "[CV 1/5; 87/243] START max_depth=10, min_samples_leaf=2, min_samples_split=5, n_estimators=50, random_state=6\n"
     ]
    },
    {
     "name": "stderr",
     "output_type": "stream",
     "text": [
      "d:\\Apps\\Anaconda\\lib\\site-packages\\sklearn\\model_selection\\_validation.py:680: DataConversionWarning: A column-vector y was passed when a 1d array was expected. Please change the shape of y to (n_samples,), for example using ravel().\n",
      "  estimator.fit(X_train, y_train, **fit_params)\n"
     ]
    },
    {
     "name": "stdout",
     "output_type": "stream",
     "text": [
      "[CV 1/5; 87/243] END max_depth=10, min_samples_leaf=2, min_samples_split=5, n_estimators=50, random_state=6;, score=0.780 total time=   0.2s\n",
      "[CV 2/5; 87/243] START max_depth=10, min_samples_leaf=2, min_samples_split=5, n_estimators=50, random_state=6\n"
     ]
    },
    {
     "name": "stderr",
     "output_type": "stream",
     "text": [
      "d:\\Apps\\Anaconda\\lib\\site-packages\\sklearn\\model_selection\\_validation.py:680: DataConversionWarning: A column-vector y was passed when a 1d array was expected. Please change the shape of y to (n_samples,), for example using ravel().\n",
      "  estimator.fit(X_train, y_train, **fit_params)\n"
     ]
    },
    {
     "name": "stdout",
     "output_type": "stream",
     "text": [
      "[CV 2/5; 87/243] END max_depth=10, min_samples_leaf=2, min_samples_split=5, n_estimators=50, random_state=6;, score=0.821 total time=   0.2s\n",
      "[CV 3/5; 87/243] START max_depth=10, min_samples_leaf=2, min_samples_split=5, n_estimators=50, random_state=6\n"
     ]
    },
    {
     "name": "stderr",
     "output_type": "stream",
     "text": [
      "d:\\Apps\\Anaconda\\lib\\site-packages\\sklearn\\model_selection\\_validation.py:680: DataConversionWarning: A column-vector y was passed when a 1d array was expected. Please change the shape of y to (n_samples,), for example using ravel().\n",
      "  estimator.fit(X_train, y_train, **fit_params)\n"
     ]
    },
    {
     "name": "stdout",
     "output_type": "stream",
     "text": [
      "[CV 3/5; 87/243] END max_depth=10, min_samples_leaf=2, min_samples_split=5, n_estimators=50, random_state=6;, score=0.727 total time=   0.2s\n",
      "[CV 4/5; 87/243] START max_depth=10, min_samples_leaf=2, min_samples_split=5, n_estimators=50, random_state=6\n"
     ]
    },
    {
     "name": "stderr",
     "output_type": "stream",
     "text": [
      "d:\\Apps\\Anaconda\\lib\\site-packages\\sklearn\\model_selection\\_validation.py:680: DataConversionWarning: A column-vector y was passed when a 1d array was expected. Please change the shape of y to (n_samples,), for example using ravel().\n",
      "  estimator.fit(X_train, y_train, **fit_params)\n"
     ]
    },
    {
     "name": "stdout",
     "output_type": "stream",
     "text": [
      "[CV 4/5; 87/243] END max_depth=10, min_samples_leaf=2, min_samples_split=5, n_estimators=50, random_state=6;, score=0.495 total time=   0.2s\n",
      "[CV 5/5; 87/243] START max_depth=10, min_samples_leaf=2, min_samples_split=5, n_estimators=50, random_state=6\n"
     ]
    },
    {
     "name": "stderr",
     "output_type": "stream",
     "text": [
      "d:\\Apps\\Anaconda\\lib\\site-packages\\sklearn\\model_selection\\_validation.py:680: DataConversionWarning: A column-vector y was passed when a 1d array was expected. Please change the shape of y to (n_samples,), for example using ravel().\n",
      "  estimator.fit(X_train, y_train, **fit_params)\n"
     ]
    },
    {
     "name": "stdout",
     "output_type": "stream",
     "text": [
      "[CV 5/5; 87/243] END max_depth=10, min_samples_leaf=2, min_samples_split=5, n_estimators=50, random_state=6;, score=0.710 total time=   0.2s\n",
      "[CV 1/5; 88/243] START max_depth=10, min_samples_leaf=2, min_samples_split=5, n_estimators=100, random_state=2\n"
     ]
    },
    {
     "name": "stderr",
     "output_type": "stream",
     "text": [
      "d:\\Apps\\Anaconda\\lib\\site-packages\\sklearn\\model_selection\\_validation.py:680: DataConversionWarning: A column-vector y was passed when a 1d array was expected. Please change the shape of y to (n_samples,), for example using ravel().\n",
      "  estimator.fit(X_train, y_train, **fit_params)\n"
     ]
    },
    {
     "name": "stdout",
     "output_type": "stream",
     "text": [
      "[CV 1/5; 88/243] END max_depth=10, min_samples_leaf=2, min_samples_split=5, n_estimators=100, random_state=2;, score=0.762 total time=   0.5s\n",
      "[CV 2/5; 88/243] START max_depth=10, min_samples_leaf=2, min_samples_split=5, n_estimators=100, random_state=2\n"
     ]
    },
    {
     "name": "stderr",
     "output_type": "stream",
     "text": [
      "d:\\Apps\\Anaconda\\lib\\site-packages\\sklearn\\model_selection\\_validation.py:680: DataConversionWarning: A column-vector y was passed when a 1d array was expected. Please change the shape of y to (n_samples,), for example using ravel().\n",
      "  estimator.fit(X_train, y_train, **fit_params)\n"
     ]
    },
    {
     "name": "stdout",
     "output_type": "stream",
     "text": [
      "[CV 2/5; 88/243] END max_depth=10, min_samples_leaf=2, min_samples_split=5, n_estimators=100, random_state=2;, score=0.832 total time=   0.5s\n",
      "[CV 3/5; 88/243] START max_depth=10, min_samples_leaf=2, min_samples_split=5, n_estimators=100, random_state=2\n"
     ]
    },
    {
     "name": "stderr",
     "output_type": "stream",
     "text": [
      "d:\\Apps\\Anaconda\\lib\\site-packages\\sklearn\\model_selection\\_validation.py:680: DataConversionWarning: A column-vector y was passed when a 1d array was expected. Please change the shape of y to (n_samples,), for example using ravel().\n",
      "  estimator.fit(X_train, y_train, **fit_params)\n"
     ]
    },
    {
     "name": "stdout",
     "output_type": "stream",
     "text": [
      "[CV 3/5; 88/243] END max_depth=10, min_samples_leaf=2, min_samples_split=5, n_estimators=100, random_state=2;, score=0.738 total time=   0.5s\n",
      "[CV 4/5; 88/243] START max_depth=10, min_samples_leaf=2, min_samples_split=5, n_estimators=100, random_state=2\n"
     ]
    },
    {
     "name": "stderr",
     "output_type": "stream",
     "text": [
      "d:\\Apps\\Anaconda\\lib\\site-packages\\sklearn\\model_selection\\_validation.py:680: DataConversionWarning: A column-vector y was passed when a 1d array was expected. Please change the shape of y to (n_samples,), for example using ravel().\n",
      "  estimator.fit(X_train, y_train, **fit_params)\n"
     ]
    },
    {
     "name": "stdout",
     "output_type": "stream",
     "text": [
      "[CV 4/5; 88/243] END max_depth=10, min_samples_leaf=2, min_samples_split=5, n_estimators=100, random_state=2;, score=0.519 total time=   0.5s\n",
      "[CV 5/5; 88/243] START max_depth=10, min_samples_leaf=2, min_samples_split=5, n_estimators=100, random_state=2\n"
     ]
    },
    {
     "name": "stderr",
     "output_type": "stream",
     "text": [
      "d:\\Apps\\Anaconda\\lib\\site-packages\\sklearn\\model_selection\\_validation.py:680: DataConversionWarning: A column-vector y was passed when a 1d array was expected. Please change the shape of y to (n_samples,), for example using ravel().\n",
      "  estimator.fit(X_train, y_train, **fit_params)\n"
     ]
    },
    {
     "name": "stdout",
     "output_type": "stream",
     "text": [
      "[CV 5/5; 88/243] END max_depth=10, min_samples_leaf=2, min_samples_split=5, n_estimators=100, random_state=2;, score=0.718 total time=   0.5s\n",
      "[CV 1/5; 89/243] START max_depth=10, min_samples_leaf=2, min_samples_split=5, n_estimators=100, random_state=4\n"
     ]
    },
    {
     "name": "stderr",
     "output_type": "stream",
     "text": [
      "d:\\Apps\\Anaconda\\lib\\site-packages\\sklearn\\model_selection\\_validation.py:680: DataConversionWarning: A column-vector y was passed when a 1d array was expected. Please change the shape of y to (n_samples,), for example using ravel().\n",
      "  estimator.fit(X_train, y_train, **fit_params)\n"
     ]
    },
    {
     "name": "stdout",
     "output_type": "stream",
     "text": [
      "[CV 1/5; 89/243] END max_depth=10, min_samples_leaf=2, min_samples_split=5, n_estimators=100, random_state=4;, score=0.773 total time=   0.5s\n",
      "[CV 2/5; 89/243] START max_depth=10, min_samples_leaf=2, min_samples_split=5, n_estimators=100, random_state=4\n"
     ]
    },
    {
     "name": "stderr",
     "output_type": "stream",
     "text": [
      "d:\\Apps\\Anaconda\\lib\\site-packages\\sklearn\\model_selection\\_validation.py:680: DataConversionWarning: A column-vector y was passed when a 1d array was expected. Please change the shape of y to (n_samples,), for example using ravel().\n",
      "  estimator.fit(X_train, y_train, **fit_params)\n"
     ]
    },
    {
     "name": "stdout",
     "output_type": "stream",
     "text": [
      "[CV 2/5; 89/243] END max_depth=10, min_samples_leaf=2, min_samples_split=5, n_estimators=100, random_state=4;, score=0.825 total time=   0.5s\n",
      "[CV 3/5; 89/243] START max_depth=10, min_samples_leaf=2, min_samples_split=5, n_estimators=100, random_state=4\n"
     ]
    },
    {
     "name": "stderr",
     "output_type": "stream",
     "text": [
      "d:\\Apps\\Anaconda\\lib\\site-packages\\sklearn\\model_selection\\_validation.py:680: DataConversionWarning: A column-vector y was passed when a 1d array was expected. Please change the shape of y to (n_samples,), for example using ravel().\n",
      "  estimator.fit(X_train, y_train, **fit_params)\n"
     ]
    },
    {
     "name": "stdout",
     "output_type": "stream",
     "text": [
      "[CV 3/5; 89/243] END max_depth=10, min_samples_leaf=2, min_samples_split=5, n_estimators=100, random_state=4;, score=0.735 total time=   0.5s\n",
      "[CV 4/5; 89/243] START max_depth=10, min_samples_leaf=2, min_samples_split=5, n_estimators=100, random_state=4\n"
     ]
    },
    {
     "name": "stderr",
     "output_type": "stream",
     "text": [
      "d:\\Apps\\Anaconda\\lib\\site-packages\\sklearn\\model_selection\\_validation.py:680: DataConversionWarning: A column-vector y was passed when a 1d array was expected. Please change the shape of y to (n_samples,), for example using ravel().\n",
      "  estimator.fit(X_train, y_train, **fit_params)\n"
     ]
    },
    {
     "name": "stdout",
     "output_type": "stream",
     "text": [
      "[CV 4/5; 89/243] END max_depth=10, min_samples_leaf=2, min_samples_split=5, n_estimators=100, random_state=4;, score=0.471 total time=   0.5s\n",
      "[CV 5/5; 89/243] START max_depth=10, min_samples_leaf=2, min_samples_split=5, n_estimators=100, random_state=4\n"
     ]
    },
    {
     "name": "stderr",
     "output_type": "stream",
     "text": [
      "d:\\Apps\\Anaconda\\lib\\site-packages\\sklearn\\model_selection\\_validation.py:680: DataConversionWarning: A column-vector y was passed when a 1d array was expected. Please change the shape of y to (n_samples,), for example using ravel().\n",
      "  estimator.fit(X_train, y_train, **fit_params)\n"
     ]
    },
    {
     "name": "stdout",
     "output_type": "stream",
     "text": [
      "[CV 5/5; 89/243] END max_depth=10, min_samples_leaf=2, min_samples_split=5, n_estimators=100, random_state=4;, score=0.703 total time=   0.5s\n",
      "[CV 1/5; 90/243] START max_depth=10, min_samples_leaf=2, min_samples_split=5, n_estimators=100, random_state=6\n"
     ]
    },
    {
     "name": "stderr",
     "output_type": "stream",
     "text": [
      "d:\\Apps\\Anaconda\\lib\\site-packages\\sklearn\\model_selection\\_validation.py:680: DataConversionWarning: A column-vector y was passed when a 1d array was expected. Please change the shape of y to (n_samples,), for example using ravel().\n",
      "  estimator.fit(X_train, y_train, **fit_params)\n",
      "d:\\Apps\\Anaconda\\lib\\site-packages\\sklearn\\model_selection\\_validation.py:680: DataConversionWarning: A column-vector y was passed when a 1d array was expected. Please change the shape of y to (n_samples,), for example using ravel().\n",
      "  estimator.fit(X_train, y_train, **fit_params)\n"
     ]
    },
    {
     "name": "stdout",
     "output_type": "stream",
     "text": [
      "[CV 1/5; 90/243] END max_depth=10, min_samples_leaf=2, min_samples_split=5, n_estimators=100, random_state=6;, score=0.783 total time=   0.5s\n",
      "[CV 2/5; 90/243] START max_depth=10, min_samples_leaf=2, min_samples_split=5, n_estimators=100, random_state=6\n",
      "[CV 2/5; 90/243] END max_depth=10, min_samples_leaf=2, min_samples_split=5, n_estimators=100, random_state=6;, score=0.824 total time=   0.5s\n",
      "[CV 3/5; 90/243] START max_depth=10, min_samples_leaf=2, min_samples_split=5, n_estimators=100, random_state=6\n"
     ]
    },
    {
     "name": "stderr",
     "output_type": "stream",
     "text": [
      "d:\\Apps\\Anaconda\\lib\\site-packages\\sklearn\\model_selection\\_validation.py:680: DataConversionWarning: A column-vector y was passed when a 1d array was expected. Please change the shape of y to (n_samples,), for example using ravel().\n",
      "  estimator.fit(X_train, y_train, **fit_params)\n"
     ]
    },
    {
     "name": "stdout",
     "output_type": "stream",
     "text": [
      "[CV 3/5; 90/243] END max_depth=10, min_samples_leaf=2, min_samples_split=5, n_estimators=100, random_state=6;, score=0.733 total time=   0.5s\n",
      "[CV 4/5; 90/243] START max_depth=10, min_samples_leaf=2, min_samples_split=5, n_estimators=100, random_state=6\n"
     ]
    },
    {
     "name": "stderr",
     "output_type": "stream",
     "text": [
      "d:\\Apps\\Anaconda\\lib\\site-packages\\sklearn\\model_selection\\_validation.py:680: DataConversionWarning: A column-vector y was passed when a 1d array was expected. Please change the shape of y to (n_samples,), for example using ravel().\n",
      "  estimator.fit(X_train, y_train, **fit_params)\n"
     ]
    },
    {
     "name": "stdout",
     "output_type": "stream",
     "text": [
      "[CV 4/5; 90/243] END max_depth=10, min_samples_leaf=2, min_samples_split=5, n_estimators=100, random_state=6;, score=0.533 total time=   0.5s\n",
      "[CV 5/5; 90/243] START max_depth=10, min_samples_leaf=2, min_samples_split=5, n_estimators=100, random_state=6\n"
     ]
    },
    {
     "name": "stderr",
     "output_type": "stream",
     "text": [
      "d:\\Apps\\Anaconda\\lib\\site-packages\\sklearn\\model_selection\\_validation.py:680: DataConversionWarning: A column-vector y was passed when a 1d array was expected. Please change the shape of y to (n_samples,), for example using ravel().\n",
      "  estimator.fit(X_train, y_train, **fit_params)\n"
     ]
    },
    {
     "name": "stdout",
     "output_type": "stream",
     "text": [
      "[CV 5/5; 90/243] END max_depth=10, min_samples_leaf=2, min_samples_split=5, n_estimators=100, random_state=6;, score=0.706 total time=   0.5s\n",
      "[CV 1/5; 91/243] START max_depth=10, min_samples_leaf=2, min_samples_split=10, n_estimators=10, random_state=2\n",
      "[CV 1/5; 91/243] END max_depth=10, min_samples_leaf=2, min_samples_split=10, n_estimators=10, random_state=2;, score=0.760 total time=   0.0s\n",
      "[CV 2/5; 91/243] START max_depth=10, min_samples_leaf=2, min_samples_split=10, n_estimators=10, random_state=2\n",
      "[CV 2/5; 91/243] END max_depth=10, min_samples_leaf=2, min_samples_split=10, n_estimators=10, random_state=2;, score=0.854 total time=   0.0s\n",
      "[CV 3/5; 91/243] START max_depth=10, min_samples_leaf=2, min_samples_split=10, n_estimators=10, random_state=2\n"
     ]
    },
    {
     "name": "stderr",
     "output_type": "stream",
     "text": [
      "d:\\Apps\\Anaconda\\lib\\site-packages\\sklearn\\model_selection\\_validation.py:680: DataConversionWarning: A column-vector y was passed when a 1d array was expected. Please change the shape of y to (n_samples,), for example using ravel().\n",
      "  estimator.fit(X_train, y_train, **fit_params)\n",
      "d:\\Apps\\Anaconda\\lib\\site-packages\\sklearn\\model_selection\\_validation.py:680: DataConversionWarning: A column-vector y was passed when a 1d array was expected. Please change the shape of y to (n_samples,), for example using ravel().\n",
      "  estimator.fit(X_train, y_train, **fit_params)\n",
      "d:\\Apps\\Anaconda\\lib\\site-packages\\sklearn\\model_selection\\_validation.py:680: DataConversionWarning: A column-vector y was passed when a 1d array was expected. Please change the shape of y to (n_samples,), for example using ravel().\n",
      "  estimator.fit(X_train, y_train, **fit_params)\n"
     ]
    },
    {
     "name": "stdout",
     "output_type": "stream",
     "text": [
      "[CV 3/5; 91/243] END max_depth=10, min_samples_leaf=2, min_samples_split=10, n_estimators=10, random_state=2;, score=0.673 total time=   0.0s\n",
      "[CV 4/5; 91/243] START max_depth=10, min_samples_leaf=2, min_samples_split=10, n_estimators=10, random_state=2\n",
      "[CV 4/5; 91/243] END max_depth=10, min_samples_leaf=2, min_samples_split=10, n_estimators=10, random_state=2;, score=0.483 total time=   0.0s\n",
      "[CV 5/5; 91/243] START max_depth=10, min_samples_leaf=2, min_samples_split=10, n_estimators=10, random_state=2\n",
      "[CV 5/5; 91/243] END max_depth=10, min_samples_leaf=2, min_samples_split=10, n_estimators=10, random_state=2;, score=0.641 total time=   0.0s\n",
      "[CV 1/5; 92/243] START max_depth=10, min_samples_leaf=2, min_samples_split=10, n_estimators=10, random_state=4\n"
     ]
    },
    {
     "name": "stderr",
     "output_type": "stream",
     "text": [
      "d:\\Apps\\Anaconda\\lib\\site-packages\\sklearn\\model_selection\\_validation.py:680: DataConversionWarning: A column-vector y was passed when a 1d array was expected. Please change the shape of y to (n_samples,), for example using ravel().\n",
      "  estimator.fit(X_train, y_train, **fit_params)\n",
      "d:\\Apps\\Anaconda\\lib\\site-packages\\sklearn\\model_selection\\_validation.py:680: DataConversionWarning: A column-vector y was passed when a 1d array was expected. Please change the shape of y to (n_samples,), for example using ravel().\n",
      "  estimator.fit(X_train, y_train, **fit_params)\n",
      "d:\\Apps\\Anaconda\\lib\\site-packages\\sklearn\\model_selection\\_validation.py:680: DataConversionWarning: A column-vector y was passed when a 1d array was expected. Please change the shape of y to (n_samples,), for example using ravel().\n",
      "  estimator.fit(X_train, y_train, **fit_params)\n"
     ]
    },
    {
     "name": "stdout",
     "output_type": "stream",
     "text": [
      "[CV 1/5; 92/243] END max_depth=10, min_samples_leaf=2, min_samples_split=10, n_estimators=10, random_state=4;, score=0.731 total time=   0.0s\n",
      "[CV 2/5; 92/243] START max_depth=10, min_samples_leaf=2, min_samples_split=10, n_estimators=10, random_state=4\n",
      "[CV 2/5; 92/243] END max_depth=10, min_samples_leaf=2, min_samples_split=10, n_estimators=10, random_state=4;, score=0.826 total time=   0.0s\n",
      "[CV 3/5; 92/243] START max_depth=10, min_samples_leaf=2, min_samples_split=10, n_estimators=10, random_state=4\n",
      "[CV 3/5; 92/243] END max_depth=10, min_samples_leaf=2, min_samples_split=10, n_estimators=10, random_state=4;, score=0.679 total time=   0.0s\n",
      "[CV 4/5; 92/243] START max_depth=10, min_samples_leaf=2, min_samples_split=10, n_estimators=10, random_state=4\n",
      "[CV 4/5; 92/243] END max_depth=10, min_samples_leaf=2, min_samples_split=10, n_estimators=10, random_state=4;, score=0.621 total time=   0.0s\n"
     ]
    },
    {
     "name": "stderr",
     "output_type": "stream",
     "text": [
      "d:\\Apps\\Anaconda\\lib\\site-packages\\sklearn\\model_selection\\_validation.py:680: DataConversionWarning: A column-vector y was passed when a 1d array was expected. Please change the shape of y to (n_samples,), for example using ravel().\n",
      "  estimator.fit(X_train, y_train, **fit_params)\n",
      "d:\\Apps\\Anaconda\\lib\\site-packages\\sklearn\\model_selection\\_validation.py:680: DataConversionWarning: A column-vector y was passed when a 1d array was expected. Please change the shape of y to (n_samples,), for example using ravel().\n",
      "  estimator.fit(X_train, y_train, **fit_params)\n",
      "d:\\Apps\\Anaconda\\lib\\site-packages\\sklearn\\model_selection\\_validation.py:680: DataConversionWarning: A column-vector y was passed when a 1d array was expected. Please change the shape of y to (n_samples,), for example using ravel().\n",
      "  estimator.fit(X_train, y_train, **fit_params)\n"
     ]
    },
    {
     "name": "stdout",
     "output_type": "stream",
     "text": [
      "[CV 5/5; 92/243] START max_depth=10, min_samples_leaf=2, min_samples_split=10, n_estimators=10, random_state=4\n",
      "[CV 5/5; 92/243] END max_depth=10, min_samples_leaf=2, min_samples_split=10, n_estimators=10, random_state=4;, score=0.715 total time=   0.0s\n",
      "[CV 1/5; 93/243] START max_depth=10, min_samples_leaf=2, min_samples_split=10, n_estimators=10, random_state=6\n",
      "[CV 1/5; 93/243] END max_depth=10, min_samples_leaf=2, min_samples_split=10, n_estimators=10, random_state=6;, score=0.773 total time=   0.0s\n",
      "[CV 2/5; 93/243] START max_depth=10, min_samples_leaf=2, min_samples_split=10, n_estimators=10, random_state=6\n",
      "[CV 2/5; 93/243] END max_depth=10, min_samples_leaf=2, min_samples_split=10, n_estimators=10, random_state=6;, score=0.821 total time=   0.0s\n",
      "[CV 3/5; 93/243] START max_depth=10, min_samples_leaf=2, min_samples_split=10, n_estimators=10, random_state=6\n"
     ]
    },
    {
     "name": "stderr",
     "output_type": "stream",
     "text": [
      "d:\\Apps\\Anaconda\\lib\\site-packages\\sklearn\\model_selection\\_validation.py:680: DataConversionWarning: A column-vector y was passed when a 1d array was expected. Please change the shape of y to (n_samples,), for example using ravel().\n",
      "  estimator.fit(X_train, y_train, **fit_params)\n",
      "d:\\Apps\\Anaconda\\lib\\site-packages\\sklearn\\model_selection\\_validation.py:680: DataConversionWarning: A column-vector y was passed when a 1d array was expected. Please change the shape of y to (n_samples,), for example using ravel().\n",
      "  estimator.fit(X_train, y_train, **fit_params)\n",
      "d:\\Apps\\Anaconda\\lib\\site-packages\\sklearn\\model_selection\\_validation.py:680: DataConversionWarning: A column-vector y was passed when a 1d array was expected. Please change the shape of y to (n_samples,), for example using ravel().\n",
      "  estimator.fit(X_train, y_train, **fit_params)\n",
      "d:\\Apps\\Anaconda\\lib\\site-packages\\sklearn\\model_selection\\_validation.py:680: DataConversionWarning: A column-vector y was passed when a 1d array was expected. Please change the shape of y to (n_samples,), for example using ravel().\n",
      "  estimator.fit(X_train, y_train, **fit_params)\n",
      "d:\\Apps\\Anaconda\\lib\\site-packages\\sklearn\\model_selection\\_validation.py:680: DataConversionWarning: A column-vector y was passed when a 1d array was expected. Please change the shape of y to (n_samples,), for example using ravel().\n",
      "  estimator.fit(X_train, y_train, **fit_params)\n",
      "d:\\Apps\\Anaconda\\lib\\site-packages\\sklearn\\model_selection\\_validation.py:680: DataConversionWarning: A column-vector y was passed when a 1d array was expected. Please change the shape of y to (n_samples,), for example using ravel().\n",
      "  estimator.fit(X_train, y_train, **fit_params)\n"
     ]
    },
    {
     "name": "stdout",
     "output_type": "stream",
     "text": [
      "[CV 3/5; 93/243] END max_depth=10, min_samples_leaf=2, min_samples_split=10, n_estimators=10, random_state=6;, score=0.756 total time=   0.0s\n",
      "[CV 4/5; 93/243] START max_depth=10, min_samples_leaf=2, min_samples_split=10, n_estimators=10, random_state=6\n",
      "[CV 4/5; 93/243] END max_depth=10, min_samples_leaf=2, min_samples_split=10, n_estimators=10, random_state=6;, score=0.468 total time=   0.0s\n",
      "[CV 5/5; 93/243] START max_depth=10, min_samples_leaf=2, min_samples_split=10, n_estimators=10, random_state=6\n",
      "[CV 5/5; 93/243] END max_depth=10, min_samples_leaf=2, min_samples_split=10, n_estimators=10, random_state=6;, score=0.653 total time=   0.0s\n",
      "[CV 1/5; 94/243] START max_depth=10, min_samples_leaf=2, min_samples_split=10, n_estimators=50, random_state=2\n"
     ]
    },
    {
     "name": "stderr",
     "output_type": "stream",
     "text": [
      "d:\\Apps\\Anaconda\\lib\\site-packages\\sklearn\\model_selection\\_validation.py:680: DataConversionWarning: A column-vector y was passed when a 1d array was expected. Please change the shape of y to (n_samples,), for example using ravel().\n",
      "  estimator.fit(X_train, y_train, **fit_params)\n"
     ]
    },
    {
     "name": "stdout",
     "output_type": "stream",
     "text": [
      "[CV 1/5; 94/243] END max_depth=10, min_samples_leaf=2, min_samples_split=10, n_estimators=50, random_state=2;, score=0.759 total time=   0.2s\n",
      "[CV 2/5; 94/243] START max_depth=10, min_samples_leaf=2, min_samples_split=10, n_estimators=50, random_state=2\n"
     ]
    },
    {
     "name": "stderr",
     "output_type": "stream",
     "text": [
      "d:\\Apps\\Anaconda\\lib\\site-packages\\sklearn\\model_selection\\_validation.py:680: DataConversionWarning: A column-vector y was passed when a 1d array was expected. Please change the shape of y to (n_samples,), for example using ravel().\n",
      "  estimator.fit(X_train, y_train, **fit_params)\n"
     ]
    },
    {
     "name": "stdout",
     "output_type": "stream",
     "text": [
      "[CV 2/5; 94/243] END max_depth=10, min_samples_leaf=2, min_samples_split=10, n_estimators=50, random_state=2;, score=0.843 total time=   0.2s\n",
      "[CV 3/5; 94/243] START max_depth=10, min_samples_leaf=2, min_samples_split=10, n_estimators=50, random_state=2\n"
     ]
    },
    {
     "name": "stderr",
     "output_type": "stream",
     "text": [
      "d:\\Apps\\Anaconda\\lib\\site-packages\\sklearn\\model_selection\\_validation.py:680: DataConversionWarning: A column-vector y was passed when a 1d array was expected. Please change the shape of y to (n_samples,), for example using ravel().\n",
      "  estimator.fit(X_train, y_train, **fit_params)\n",
      "d:\\Apps\\Anaconda\\lib\\site-packages\\sklearn\\model_selection\\_validation.py:680: DataConversionWarning: A column-vector y was passed when a 1d array was expected. Please change the shape of y to (n_samples,), for example using ravel().\n",
      "  estimator.fit(X_train, y_train, **fit_params)\n"
     ]
    },
    {
     "name": "stdout",
     "output_type": "stream",
     "text": [
      "[CV 3/5; 94/243] END max_depth=10, min_samples_leaf=2, min_samples_split=10, n_estimators=50, random_state=2;, score=0.716 total time=   0.2s\n",
      "[CV 4/5; 94/243] START max_depth=10, min_samples_leaf=2, min_samples_split=10, n_estimators=50, random_state=2\n",
      "[CV 4/5; 94/243] END max_depth=10, min_samples_leaf=2, min_samples_split=10, n_estimators=50, random_state=2;, score=0.508 total time=   0.2s\n",
      "[CV 5/5; 94/243] START max_depth=10, min_samples_leaf=2, min_samples_split=10, n_estimators=50, random_state=2\n"
     ]
    },
    {
     "name": "stderr",
     "output_type": "stream",
     "text": [
      "d:\\Apps\\Anaconda\\lib\\site-packages\\sklearn\\model_selection\\_validation.py:680: DataConversionWarning: A column-vector y was passed when a 1d array was expected. Please change the shape of y to (n_samples,), for example using ravel().\n",
      "  estimator.fit(X_train, y_train, **fit_params)\n"
     ]
    },
    {
     "name": "stdout",
     "output_type": "stream",
     "text": [
      "[CV 5/5; 94/243] END max_depth=10, min_samples_leaf=2, min_samples_split=10, n_estimators=50, random_state=2;, score=0.665 total time=   0.2s\n",
      "[CV 1/5; 95/243] START max_depth=10, min_samples_leaf=2, min_samples_split=10, n_estimators=50, random_state=4\n"
     ]
    },
    {
     "name": "stderr",
     "output_type": "stream",
     "text": [
      "d:\\Apps\\Anaconda\\lib\\site-packages\\sklearn\\model_selection\\_validation.py:680: DataConversionWarning: A column-vector y was passed when a 1d array was expected. Please change the shape of y to (n_samples,), for example using ravel().\n",
      "  estimator.fit(X_train, y_train, **fit_params)\n"
     ]
    },
    {
     "name": "stdout",
     "output_type": "stream",
     "text": [
      "[CV 1/5; 95/243] END max_depth=10, min_samples_leaf=2, min_samples_split=10, n_estimators=50, random_state=4;, score=0.722 total time=   0.2s\n",
      "[CV 2/5; 95/243] START max_depth=10, min_samples_leaf=2, min_samples_split=10, n_estimators=50, random_state=4\n"
     ]
    },
    {
     "name": "stderr",
     "output_type": "stream",
     "text": [
      "d:\\Apps\\Anaconda\\lib\\site-packages\\sklearn\\model_selection\\_validation.py:680: DataConversionWarning: A column-vector y was passed when a 1d array was expected. Please change the shape of y to (n_samples,), for example using ravel().\n",
      "  estimator.fit(X_train, y_train, **fit_params)\n"
     ]
    },
    {
     "name": "stdout",
     "output_type": "stream",
     "text": [
      "[CV 2/5; 95/243] END max_depth=10, min_samples_leaf=2, min_samples_split=10, n_estimators=50, random_state=4;, score=0.840 total time=   0.2s\n",
      "[CV 3/5; 95/243] START max_depth=10, min_samples_leaf=2, min_samples_split=10, n_estimators=50, random_state=4\n"
     ]
    },
    {
     "name": "stderr",
     "output_type": "stream",
     "text": [
      "d:\\Apps\\Anaconda\\lib\\site-packages\\sklearn\\model_selection\\_validation.py:680: DataConversionWarning: A column-vector y was passed when a 1d array was expected. Please change the shape of y to (n_samples,), for example using ravel().\n",
      "  estimator.fit(X_train, y_train, **fit_params)\n"
     ]
    },
    {
     "name": "stdout",
     "output_type": "stream",
     "text": [
      "[CV 3/5; 95/243] END max_depth=10, min_samples_leaf=2, min_samples_split=10, n_estimators=50, random_state=4;, score=0.688 total time=   0.2s\n",
      "[CV 4/5; 95/243] START max_depth=10, min_samples_leaf=2, min_samples_split=10, n_estimators=50, random_state=4\n"
     ]
    },
    {
     "name": "stderr",
     "output_type": "stream",
     "text": [
      "d:\\Apps\\Anaconda\\lib\\site-packages\\sklearn\\model_selection\\_validation.py:680: DataConversionWarning: A column-vector y was passed when a 1d array was expected. Please change the shape of y to (n_samples,), for example using ravel().\n",
      "  estimator.fit(X_train, y_train, **fit_params)\n"
     ]
    },
    {
     "name": "stdout",
     "output_type": "stream",
     "text": [
      "[CV 4/5; 95/243] END max_depth=10, min_samples_leaf=2, min_samples_split=10, n_estimators=50, random_state=4;, score=0.585 total time=   0.2s\n",
      "[CV 5/5; 95/243] START max_depth=10, min_samples_leaf=2, min_samples_split=10, n_estimators=50, random_state=4\n"
     ]
    },
    {
     "name": "stderr",
     "output_type": "stream",
     "text": [
      "d:\\Apps\\Anaconda\\lib\\site-packages\\sklearn\\model_selection\\_validation.py:680: DataConversionWarning: A column-vector y was passed when a 1d array was expected. Please change the shape of y to (n_samples,), for example using ravel().\n",
      "  estimator.fit(X_train, y_train, **fit_params)\n"
     ]
    },
    {
     "name": "stdout",
     "output_type": "stream",
     "text": [
      "[CV 5/5; 95/243] END max_depth=10, min_samples_leaf=2, min_samples_split=10, n_estimators=50, random_state=4;, score=0.666 total time=   0.2s\n",
      "[CV 1/5; 96/243] START max_depth=10, min_samples_leaf=2, min_samples_split=10, n_estimators=50, random_state=6\n"
     ]
    },
    {
     "name": "stderr",
     "output_type": "stream",
     "text": [
      "d:\\Apps\\Anaconda\\lib\\site-packages\\sklearn\\model_selection\\_validation.py:680: DataConversionWarning: A column-vector y was passed when a 1d array was expected. Please change the shape of y to (n_samples,), for example using ravel().\n",
      "  estimator.fit(X_train, y_train, **fit_params)\n"
     ]
    },
    {
     "name": "stdout",
     "output_type": "stream",
     "text": [
      "[CV 1/5; 96/243] END max_depth=10, min_samples_leaf=2, min_samples_split=10, n_estimators=50, random_state=6;, score=0.777 total time=   0.2s\n",
      "[CV 2/5; 96/243] START max_depth=10, min_samples_leaf=2, min_samples_split=10, n_estimators=50, random_state=6\n"
     ]
    },
    {
     "name": "stderr",
     "output_type": "stream",
     "text": [
      "d:\\Apps\\Anaconda\\lib\\site-packages\\sklearn\\model_selection\\_validation.py:680: DataConversionWarning: A column-vector y was passed when a 1d array was expected. Please change the shape of y to (n_samples,), for example using ravel().\n",
      "  estimator.fit(X_train, y_train, **fit_params)\n"
     ]
    },
    {
     "name": "stdout",
     "output_type": "stream",
     "text": [
      "[CV 2/5; 96/243] END max_depth=10, min_samples_leaf=2, min_samples_split=10, n_estimators=50, random_state=6;, score=0.835 total time=   0.2s\n",
      "[CV 3/5; 96/243] START max_depth=10, min_samples_leaf=2, min_samples_split=10, n_estimators=50, random_state=6\n"
     ]
    },
    {
     "name": "stderr",
     "output_type": "stream",
     "text": [
      "d:\\Apps\\Anaconda\\lib\\site-packages\\sklearn\\model_selection\\_validation.py:680: DataConversionWarning: A column-vector y was passed when a 1d array was expected. Please change the shape of y to (n_samples,), for example using ravel().\n",
      "  estimator.fit(X_train, y_train, **fit_params)\n"
     ]
    },
    {
     "name": "stdout",
     "output_type": "stream",
     "text": [
      "[CV 3/5; 96/243] END max_depth=10, min_samples_leaf=2, min_samples_split=10, n_estimators=50, random_state=6;, score=0.715 total time=   0.2s\n",
      "[CV 4/5; 96/243] START max_depth=10, min_samples_leaf=2, min_samples_split=10, n_estimators=50, random_state=6\n"
     ]
    },
    {
     "name": "stderr",
     "output_type": "stream",
     "text": [
      "d:\\Apps\\Anaconda\\lib\\site-packages\\sklearn\\model_selection\\_validation.py:680: DataConversionWarning: A column-vector y was passed when a 1d array was expected. Please change the shape of y to (n_samples,), for example using ravel().\n",
      "  estimator.fit(X_train, y_train, **fit_params)\n"
     ]
    },
    {
     "name": "stdout",
     "output_type": "stream",
     "text": [
      "[CV 4/5; 96/243] END max_depth=10, min_samples_leaf=2, min_samples_split=10, n_estimators=50, random_state=6;, score=0.483 total time=   0.2s\n",
      "[CV 5/5; 96/243] START max_depth=10, min_samples_leaf=2, min_samples_split=10, n_estimators=50, random_state=6\n"
     ]
    },
    {
     "name": "stderr",
     "output_type": "stream",
     "text": [
      "d:\\Apps\\Anaconda\\lib\\site-packages\\sklearn\\model_selection\\_validation.py:680: DataConversionWarning: A column-vector y was passed when a 1d array was expected. Please change the shape of y to (n_samples,), for example using ravel().\n",
      "  estimator.fit(X_train, y_train, **fit_params)\n"
     ]
    },
    {
     "name": "stdout",
     "output_type": "stream",
     "text": [
      "[CV 5/5; 96/243] END max_depth=10, min_samples_leaf=2, min_samples_split=10, n_estimators=50, random_state=6;, score=0.666 total time=   0.2s\n",
      "[CV 1/5; 97/243] START max_depth=10, min_samples_leaf=2, min_samples_split=10, n_estimators=100, random_state=2\n"
     ]
    },
    {
     "name": "stderr",
     "output_type": "stream",
     "text": [
      "d:\\Apps\\Anaconda\\lib\\site-packages\\sklearn\\model_selection\\_validation.py:680: DataConversionWarning: A column-vector y was passed when a 1d array was expected. Please change the shape of y to (n_samples,), for example using ravel().\n",
      "  estimator.fit(X_train, y_train, **fit_params)\n"
     ]
    },
    {
     "name": "stdout",
     "output_type": "stream",
     "text": [
      "[CV 1/5; 97/243] END max_depth=10, min_samples_leaf=2, min_samples_split=10, n_estimators=100, random_state=2;, score=0.754 total time=   0.5s\n",
      "[CV 2/5; 97/243] START max_depth=10, min_samples_leaf=2, min_samples_split=10, n_estimators=100, random_state=2\n"
     ]
    },
    {
     "name": "stderr",
     "output_type": "stream",
     "text": [
      "d:\\Apps\\Anaconda\\lib\\site-packages\\sklearn\\model_selection\\_validation.py:680: DataConversionWarning: A column-vector y was passed when a 1d array was expected. Please change the shape of y to (n_samples,), for example using ravel().\n",
      "  estimator.fit(X_train, y_train, **fit_params)\n"
     ]
    },
    {
     "name": "stdout",
     "output_type": "stream",
     "text": [
      "[CV 2/5; 97/243] END max_depth=10, min_samples_leaf=2, min_samples_split=10, n_estimators=100, random_state=2;, score=0.841 total time=   0.5s\n",
      "[CV 3/5; 97/243] START max_depth=10, min_samples_leaf=2, min_samples_split=10, n_estimators=100, random_state=2\n"
     ]
    },
    {
     "name": "stderr",
     "output_type": "stream",
     "text": [
      "d:\\Apps\\Anaconda\\lib\\site-packages\\sklearn\\model_selection\\_validation.py:680: DataConversionWarning: A column-vector y was passed when a 1d array was expected. Please change the shape of y to (n_samples,), for example using ravel().\n",
      "  estimator.fit(X_train, y_train, **fit_params)\n"
     ]
    },
    {
     "name": "stdout",
     "output_type": "stream",
     "text": [
      "[CV 3/5; 97/243] END max_depth=10, min_samples_leaf=2, min_samples_split=10, n_estimators=100, random_state=2;, score=0.709 total time=   0.5s\n",
      "[CV 4/5; 97/243] START max_depth=10, min_samples_leaf=2, min_samples_split=10, n_estimators=100, random_state=2\n"
     ]
    },
    {
     "name": "stderr",
     "output_type": "stream",
     "text": [
      "d:\\Apps\\Anaconda\\lib\\site-packages\\sklearn\\model_selection\\_validation.py:680: DataConversionWarning: A column-vector y was passed when a 1d array was expected. Please change the shape of y to (n_samples,), for example using ravel().\n",
      "  estimator.fit(X_train, y_train, **fit_params)\n"
     ]
    },
    {
     "name": "stdout",
     "output_type": "stream",
     "text": [
      "[CV 4/5; 97/243] END max_depth=10, min_samples_leaf=2, min_samples_split=10, n_estimators=100, random_state=2;, score=0.550 total time=   0.5s\n",
      "[CV 5/5; 97/243] START max_depth=10, min_samples_leaf=2, min_samples_split=10, n_estimators=100, random_state=2\n"
     ]
    },
    {
     "name": "stderr",
     "output_type": "stream",
     "text": [
      "d:\\Apps\\Anaconda\\lib\\site-packages\\sklearn\\model_selection\\_validation.py:680: DataConversionWarning: A column-vector y was passed when a 1d array was expected. Please change the shape of y to (n_samples,), for example using ravel().\n",
      "  estimator.fit(X_train, y_train, **fit_params)\n"
     ]
    },
    {
     "name": "stdout",
     "output_type": "stream",
     "text": [
      "[CV 5/5; 97/243] END max_depth=10, min_samples_leaf=2, min_samples_split=10, n_estimators=100, random_state=2;, score=0.668 total time=   0.5s\n",
      "[CV 1/5; 98/243] START max_depth=10, min_samples_leaf=2, min_samples_split=10, n_estimators=100, random_state=4\n"
     ]
    },
    {
     "name": "stderr",
     "output_type": "stream",
     "text": [
      "d:\\Apps\\Anaconda\\lib\\site-packages\\sklearn\\model_selection\\_validation.py:680: DataConversionWarning: A column-vector y was passed when a 1d array was expected. Please change the shape of y to (n_samples,), for example using ravel().\n",
      "  estimator.fit(X_train, y_train, **fit_params)\n"
     ]
    },
    {
     "name": "stdout",
     "output_type": "stream",
     "text": [
      "[CV 1/5; 98/243] END max_depth=10, min_samples_leaf=2, min_samples_split=10, n_estimators=100, random_state=4;, score=0.747 total time=   0.5s\n",
      "[CV 2/5; 98/243] START max_depth=10, min_samples_leaf=2, min_samples_split=10, n_estimators=100, random_state=4\n"
     ]
    },
    {
     "name": "stderr",
     "output_type": "stream",
     "text": [
      "d:\\Apps\\Anaconda\\lib\\site-packages\\sklearn\\model_selection\\_validation.py:680: DataConversionWarning: A column-vector y was passed when a 1d array was expected. Please change the shape of y to (n_samples,), for example using ravel().\n",
      "  estimator.fit(X_train, y_train, **fit_params)\n"
     ]
    },
    {
     "name": "stdout",
     "output_type": "stream",
     "text": [
      "[CV 2/5; 98/243] END max_depth=10, min_samples_leaf=2, min_samples_split=10, n_estimators=100, random_state=4;, score=0.844 total time=   0.5s\n",
      "[CV 3/5; 98/243] START max_depth=10, min_samples_leaf=2, min_samples_split=10, n_estimators=100, random_state=4\n"
     ]
    },
    {
     "name": "stderr",
     "output_type": "stream",
     "text": [
      "d:\\Apps\\Anaconda\\lib\\site-packages\\sklearn\\model_selection\\_validation.py:680: DataConversionWarning: A column-vector y was passed when a 1d array was expected. Please change the shape of y to (n_samples,), for example using ravel().\n",
      "  estimator.fit(X_train, y_train, **fit_params)\n"
     ]
    },
    {
     "name": "stdout",
     "output_type": "stream",
     "text": [
      "[CV 3/5; 98/243] END max_depth=10, min_samples_leaf=2, min_samples_split=10, n_estimators=100, random_state=4;, score=0.710 total time=   0.5s\n",
      "[CV 4/5; 98/243] START max_depth=10, min_samples_leaf=2, min_samples_split=10, n_estimators=100, random_state=4\n"
     ]
    },
    {
     "name": "stderr",
     "output_type": "stream",
     "text": [
      "d:\\Apps\\Anaconda\\lib\\site-packages\\sklearn\\model_selection\\_validation.py:680: DataConversionWarning: A column-vector y was passed when a 1d array was expected. Please change the shape of y to (n_samples,), for example using ravel().\n",
      "  estimator.fit(X_train, y_train, **fit_params)\n"
     ]
    },
    {
     "name": "stdout",
     "output_type": "stream",
     "text": [
      "[CV 4/5; 98/243] END max_depth=10, min_samples_leaf=2, min_samples_split=10, n_estimators=100, random_state=4;, score=0.518 total time=   0.5s\n",
      "[CV 5/5; 98/243] START max_depth=10, min_samples_leaf=2, min_samples_split=10, n_estimators=100, random_state=4\n"
     ]
    },
    {
     "name": "stderr",
     "output_type": "stream",
     "text": [
      "d:\\Apps\\Anaconda\\lib\\site-packages\\sklearn\\model_selection\\_validation.py:680: DataConversionWarning: A column-vector y was passed when a 1d array was expected. Please change the shape of y to (n_samples,), for example using ravel().\n",
      "  estimator.fit(X_train, y_train, **fit_params)\n"
     ]
    },
    {
     "name": "stdout",
     "output_type": "stream",
     "text": [
      "[CV 5/5; 98/243] END max_depth=10, min_samples_leaf=2, min_samples_split=10, n_estimators=100, random_state=4;, score=0.651 total time=   0.5s\n",
      "[CV 1/5; 99/243] START max_depth=10, min_samples_leaf=2, min_samples_split=10, n_estimators=100, random_state=6\n"
     ]
    },
    {
     "name": "stderr",
     "output_type": "stream",
     "text": [
      "d:\\Apps\\Anaconda\\lib\\site-packages\\sklearn\\model_selection\\_validation.py:680: DataConversionWarning: A column-vector y was passed when a 1d array was expected. Please change the shape of y to (n_samples,), for example using ravel().\n",
      "  estimator.fit(X_train, y_train, **fit_params)\n"
     ]
    },
    {
     "name": "stdout",
     "output_type": "stream",
     "text": [
      "[CV 1/5; 99/243] END max_depth=10, min_samples_leaf=2, min_samples_split=10, n_estimators=100, random_state=6;, score=0.768 total time=   0.5s\n",
      "[CV 2/5; 99/243] START max_depth=10, min_samples_leaf=2, min_samples_split=10, n_estimators=100, random_state=6\n"
     ]
    },
    {
     "name": "stderr",
     "output_type": "stream",
     "text": [
      "d:\\Apps\\Anaconda\\lib\\site-packages\\sklearn\\model_selection\\_validation.py:680: DataConversionWarning: A column-vector y was passed when a 1d array was expected. Please change the shape of y to (n_samples,), for example using ravel().\n",
      "  estimator.fit(X_train, y_train, **fit_params)\n"
     ]
    },
    {
     "name": "stdout",
     "output_type": "stream",
     "text": [
      "[CV 2/5; 99/243] END max_depth=10, min_samples_leaf=2, min_samples_split=10, n_estimators=100, random_state=6;, score=0.835 total time=   0.5s\n",
      "[CV 3/5; 99/243] START max_depth=10, min_samples_leaf=2, min_samples_split=10, n_estimators=100, random_state=6\n"
     ]
    },
    {
     "name": "stderr",
     "output_type": "stream",
     "text": [
      "d:\\Apps\\Anaconda\\lib\\site-packages\\sklearn\\model_selection\\_validation.py:680: DataConversionWarning: A column-vector y was passed when a 1d array was expected. Please change the shape of y to (n_samples,), for example using ravel().\n",
      "  estimator.fit(X_train, y_train, **fit_params)\n"
     ]
    },
    {
     "name": "stdout",
     "output_type": "stream",
     "text": [
      "[CV 3/5; 99/243] END max_depth=10, min_samples_leaf=2, min_samples_split=10, n_estimators=100, random_state=6;, score=0.715 total time=   0.5s\n",
      "[CV 4/5; 99/243] START max_depth=10, min_samples_leaf=2, min_samples_split=10, n_estimators=100, random_state=6\n"
     ]
    },
    {
     "name": "stderr",
     "output_type": "stream",
     "text": [
      "d:\\Apps\\Anaconda\\lib\\site-packages\\sklearn\\model_selection\\_validation.py:680: DataConversionWarning: A column-vector y was passed when a 1d array was expected. Please change the shape of y to (n_samples,), for example using ravel().\n",
      "  estimator.fit(X_train, y_train, **fit_params)\n"
     ]
    },
    {
     "name": "stdout",
     "output_type": "stream",
     "text": [
      "[CV 4/5; 99/243] END max_depth=10, min_samples_leaf=2, min_samples_split=10, n_estimators=100, random_state=6;, score=0.522 total time=   0.5s\n",
      "[CV 5/5; 99/243] START max_depth=10, min_samples_leaf=2, min_samples_split=10, n_estimators=100, random_state=6\n"
     ]
    },
    {
     "name": "stderr",
     "output_type": "stream",
     "text": [
      "d:\\Apps\\Anaconda\\lib\\site-packages\\sklearn\\model_selection\\_validation.py:680: DataConversionWarning: A column-vector y was passed when a 1d array was expected. Please change the shape of y to (n_samples,), for example using ravel().\n",
      "  estimator.fit(X_train, y_train, **fit_params)\n"
     ]
    },
    {
     "name": "stdout",
     "output_type": "stream",
     "text": [
      "[CV 5/5; 99/243] END max_depth=10, min_samples_leaf=2, min_samples_split=10, n_estimators=100, random_state=6;, score=0.667 total time=   0.5s\n",
      "[CV 1/5; 100/243] START max_depth=10, min_samples_leaf=2, min_samples_split=15, n_estimators=10, random_state=2\n",
      "[CV 1/5; 100/243] END max_depth=10, min_samples_leaf=2, min_samples_split=15, n_estimators=10, random_state=2;, score=0.769 total time=   0.0s\n",
      "[CV 2/5; 100/243] START max_depth=10, min_samples_leaf=2, min_samples_split=15, n_estimators=10, random_state=2\n",
      "[CV 2/5; 100/243] END max_depth=10, min_samples_leaf=2, min_samples_split=15, n_estimators=10, random_state=2;, score=0.780 total time=   0.0s\n",
      "[CV 3/5; 100/243] START max_depth=10, min_samples_leaf=2, min_samples_split=15, n_estimators=10, random_state=2\n"
     ]
    },
    {
     "name": "stderr",
     "output_type": "stream",
     "text": [
      "d:\\Apps\\Anaconda\\lib\\site-packages\\sklearn\\model_selection\\_validation.py:680: DataConversionWarning: A column-vector y was passed when a 1d array was expected. Please change the shape of y to (n_samples,), for example using ravel().\n",
      "  estimator.fit(X_train, y_train, **fit_params)\n",
      "d:\\Apps\\Anaconda\\lib\\site-packages\\sklearn\\model_selection\\_validation.py:680: DataConversionWarning: A column-vector y was passed when a 1d array was expected. Please change the shape of y to (n_samples,), for example using ravel().\n",
      "  estimator.fit(X_train, y_train, **fit_params)\n",
      "d:\\Apps\\Anaconda\\lib\\site-packages\\sklearn\\model_selection\\_validation.py:680: DataConversionWarning: A column-vector y was passed when a 1d array was expected. Please change the shape of y to (n_samples,), for example using ravel().\n",
      "  estimator.fit(X_train, y_train, **fit_params)\n"
     ]
    },
    {
     "name": "stdout",
     "output_type": "stream",
     "text": [
      "[CV 3/5; 100/243] END max_depth=10, min_samples_leaf=2, min_samples_split=15, n_estimators=10, random_state=2;, score=0.634 total time=   0.0s\n",
      "[CV 4/5; 100/243] START max_depth=10, min_samples_leaf=2, min_samples_split=15, n_estimators=10, random_state=2\n",
      "[CV 4/5; 100/243] END max_depth=10, min_samples_leaf=2, min_samples_split=15, n_estimators=10, random_state=2;, score=0.474 total time=   0.0s\n",
      "[CV 5/5; 100/243] START max_depth=10, min_samples_leaf=2, min_samples_split=15, n_estimators=10, random_state=2\n",
      "[CV 5/5; 100/243] END max_depth=10, min_samples_leaf=2, min_samples_split=15, n_estimators=10, random_state=2;, score=0.520 total time=   0.0s\n",
      "[CV 1/5; 101/243] START max_depth=10, min_samples_leaf=2, min_samples_split=15, n_estimators=10, random_state=4\n",
      "[CV 1/5; 101/243] END max_depth=10, min_samples_leaf=2, min_samples_split=15, n_estimators=10, random_state=4;, score=0.762 total time=   0.0s\n",
      "[CV 2/5; 101/243] START max_depth=10, min_samples_leaf=2, min_samples_split=15, n_estimators=10, random_state=4\n"
     ]
    },
    {
     "name": "stderr",
     "output_type": "stream",
     "text": [
      "d:\\Apps\\Anaconda\\lib\\site-packages\\sklearn\\model_selection\\_validation.py:680: DataConversionWarning: A column-vector y was passed when a 1d array was expected. Please change the shape of y to (n_samples,), for example using ravel().\n",
      "  estimator.fit(X_train, y_train, **fit_params)\n",
      "d:\\Apps\\Anaconda\\lib\\site-packages\\sklearn\\model_selection\\_validation.py:680: DataConversionWarning: A column-vector y was passed when a 1d array was expected. Please change the shape of y to (n_samples,), for example using ravel().\n",
      "  estimator.fit(X_train, y_train, **fit_params)\n",
      "d:\\Apps\\Anaconda\\lib\\site-packages\\sklearn\\model_selection\\_validation.py:680: DataConversionWarning: A column-vector y was passed when a 1d array was expected. Please change the shape of y to (n_samples,), for example using ravel().\n",
      "  estimator.fit(X_train, y_train, **fit_params)\n",
      "d:\\Apps\\Anaconda\\lib\\site-packages\\sklearn\\model_selection\\_validation.py:680: DataConversionWarning: A column-vector y was passed when a 1d array was expected. Please change the shape of y to (n_samples,), for example using ravel().\n",
      "  estimator.fit(X_train, y_train, **fit_params)\n",
      "d:\\Apps\\Anaconda\\lib\\site-packages\\sklearn\\model_selection\\_validation.py:680: DataConversionWarning: A column-vector y was passed when a 1d array was expected. Please change the shape of y to (n_samples,), for example using ravel().\n",
      "  estimator.fit(X_train, y_train, **fit_params)\n",
      "d:\\Apps\\Anaconda\\lib\\site-packages\\sklearn\\model_selection\\_validation.py:680: DataConversionWarning: A column-vector y was passed when a 1d array was expected. Please change the shape of y to (n_samples,), for example using ravel().\n",
      "  estimator.fit(X_train, y_train, **fit_params)\n"
     ]
    },
    {
     "name": "stdout",
     "output_type": "stream",
     "text": [
      "[CV 2/5; 101/243] END max_depth=10, min_samples_leaf=2, min_samples_split=15, n_estimators=10, random_state=4;, score=0.748 total time=   0.0s\n",
      "[CV 3/5; 101/243] START max_depth=10, min_samples_leaf=2, min_samples_split=15, n_estimators=10, random_state=4\n",
      "[CV 3/5; 101/243] END max_depth=10, min_samples_leaf=2, min_samples_split=15, n_estimators=10, random_state=4;, score=0.647 total time=   0.0s\n",
      "[CV 4/5; 101/243] START max_depth=10, min_samples_leaf=2, min_samples_split=15, n_estimators=10, random_state=4\n",
      "[CV 4/5; 101/243] END max_depth=10, min_samples_leaf=2, min_samples_split=15, n_estimators=10, random_state=4;, score=0.566 total time=   0.0s\n",
      "[CV 5/5; 101/243] START max_depth=10, min_samples_leaf=2, min_samples_split=15, n_estimators=10, random_state=4\n",
      "[CV 5/5; 101/243] END max_depth=10, min_samples_leaf=2, min_samples_split=15, n_estimators=10, random_state=4;, score=0.587 total time=   0.0s\n"
     ]
    },
    {
     "name": "stderr",
     "output_type": "stream",
     "text": [
      "d:\\Apps\\Anaconda\\lib\\site-packages\\sklearn\\model_selection\\_validation.py:680: DataConversionWarning: A column-vector y was passed when a 1d array was expected. Please change the shape of y to (n_samples,), for example using ravel().\n",
      "  estimator.fit(X_train, y_train, **fit_params)\n",
      "d:\\Apps\\Anaconda\\lib\\site-packages\\sklearn\\model_selection\\_validation.py:680: DataConversionWarning: A column-vector y was passed when a 1d array was expected. Please change the shape of y to (n_samples,), for example using ravel().\n",
      "  estimator.fit(X_train, y_train, **fit_params)\n",
      "d:\\Apps\\Anaconda\\lib\\site-packages\\sklearn\\model_selection\\_validation.py:680: DataConversionWarning: A column-vector y was passed when a 1d array was expected. Please change the shape of y to (n_samples,), for example using ravel().\n",
      "  estimator.fit(X_train, y_train, **fit_params)\n"
     ]
    },
    {
     "name": "stdout",
     "output_type": "stream",
     "text": [
      "[CV 1/5; 102/243] START max_depth=10, min_samples_leaf=2, min_samples_split=15, n_estimators=10, random_state=6\n",
      "[CV 1/5; 102/243] END max_depth=10, min_samples_leaf=2, min_samples_split=15, n_estimators=10, random_state=6;, score=0.782 total time=   0.0s\n",
      "[CV 2/5; 102/243] START max_depth=10, min_samples_leaf=2, min_samples_split=15, n_estimators=10, random_state=6\n",
      "[CV 2/5; 102/243] END max_depth=10, min_samples_leaf=2, min_samples_split=15, n_estimators=10, random_state=6;, score=0.776 total time=   0.0s\n",
      "[CV 3/5; 102/243] START max_depth=10, min_samples_leaf=2, min_samples_split=15, n_estimators=10, random_state=6\n"
     ]
    },
    {
     "name": "stderr",
     "output_type": "stream",
     "text": [
      "d:\\Apps\\Anaconda\\lib\\site-packages\\sklearn\\model_selection\\_validation.py:680: DataConversionWarning: A column-vector y was passed when a 1d array was expected. Please change the shape of y to (n_samples,), for example using ravel().\n",
      "  estimator.fit(X_train, y_train, **fit_params)\n",
      "d:\\Apps\\Anaconda\\lib\\site-packages\\sklearn\\model_selection\\_validation.py:680: DataConversionWarning: A column-vector y was passed when a 1d array was expected. Please change the shape of y to (n_samples,), for example using ravel().\n",
      "  estimator.fit(X_train, y_train, **fit_params)\n",
      "d:\\Apps\\Anaconda\\lib\\site-packages\\sklearn\\model_selection\\_validation.py:680: DataConversionWarning: A column-vector y was passed when a 1d array was expected. Please change the shape of y to (n_samples,), for example using ravel().\n",
      "  estimator.fit(X_train, y_train, **fit_params)\n"
     ]
    },
    {
     "name": "stdout",
     "output_type": "stream",
     "text": [
      "[CV 3/5; 102/243] END max_depth=10, min_samples_leaf=2, min_samples_split=15, n_estimators=10, random_state=6;, score=0.603 total time=   0.0s\n",
      "[CV 4/5; 102/243] START max_depth=10, min_samples_leaf=2, min_samples_split=15, n_estimators=10, random_state=6\n",
      "[CV 4/5; 102/243] END max_depth=10, min_samples_leaf=2, min_samples_split=15, n_estimators=10, random_state=6;, score=0.514 total time=   0.0s\n",
      "[CV 5/5; 102/243] START max_depth=10, min_samples_leaf=2, min_samples_split=15, n_estimators=10, random_state=6\n",
      "[CV 5/5; 102/243] END max_depth=10, min_samples_leaf=2, min_samples_split=15, n_estimators=10, random_state=6;, score=0.555 total time=   0.0s\n",
      "[CV 1/5; 103/243] START max_depth=10, min_samples_leaf=2, min_samples_split=15, n_estimators=50, random_state=2\n"
     ]
    },
    {
     "name": "stderr",
     "output_type": "stream",
     "text": [
      "d:\\Apps\\Anaconda\\lib\\site-packages\\sklearn\\model_selection\\_validation.py:680: DataConversionWarning: A column-vector y was passed when a 1d array was expected. Please change the shape of y to (n_samples,), for example using ravel().\n",
      "  estimator.fit(X_train, y_train, **fit_params)\n"
     ]
    },
    {
     "name": "stdout",
     "output_type": "stream",
     "text": [
      "[CV 1/5; 103/243] END max_depth=10, min_samples_leaf=2, min_samples_split=15, n_estimators=50, random_state=2;, score=0.768 total time=   0.2s\n",
      "[CV 2/5; 103/243] START max_depth=10, min_samples_leaf=2, min_samples_split=15, n_estimators=50, random_state=2\n"
     ]
    },
    {
     "name": "stderr",
     "output_type": "stream",
     "text": [
      "d:\\Apps\\Anaconda\\lib\\site-packages\\sklearn\\model_selection\\_validation.py:680: DataConversionWarning: A column-vector y was passed when a 1d array was expected. Please change the shape of y to (n_samples,), for example using ravel().\n",
      "  estimator.fit(X_train, y_train, **fit_params)\n"
     ]
    },
    {
     "name": "stdout",
     "output_type": "stream",
     "text": [
      "[CV 2/5; 103/243] END max_depth=10, min_samples_leaf=2, min_samples_split=15, n_estimators=50, random_state=2;, score=0.784 total time=   0.2s\n",
      "[CV 3/5; 103/243] START max_depth=10, min_samples_leaf=2, min_samples_split=15, n_estimators=50, random_state=2\n"
     ]
    },
    {
     "name": "stderr",
     "output_type": "stream",
     "text": [
      "d:\\Apps\\Anaconda\\lib\\site-packages\\sklearn\\model_selection\\_validation.py:680: DataConversionWarning: A column-vector y was passed when a 1d array was expected. Please change the shape of y to (n_samples,), for example using ravel().\n",
      "  estimator.fit(X_train, y_train, **fit_params)\n"
     ]
    },
    {
     "name": "stdout",
     "output_type": "stream",
     "text": [
      "[CV 3/5; 103/243] END max_depth=10, min_samples_leaf=2, min_samples_split=15, n_estimators=50, random_state=2;, score=0.625 total time=   0.2s\n",
      "[CV 4/5; 103/243] START max_depth=10, min_samples_leaf=2, min_samples_split=15, n_estimators=50, random_state=2\n"
     ]
    },
    {
     "name": "stderr",
     "output_type": "stream",
     "text": [
      "d:\\Apps\\Anaconda\\lib\\site-packages\\sklearn\\model_selection\\_validation.py:680: DataConversionWarning: A column-vector y was passed when a 1d array was expected. Please change the shape of y to (n_samples,), for example using ravel().\n",
      "  estimator.fit(X_train, y_train, **fit_params)\n"
     ]
    },
    {
     "name": "stdout",
     "output_type": "stream",
     "text": [
      "[CV 4/5; 103/243] END max_depth=10, min_samples_leaf=2, min_samples_split=15, n_estimators=50, random_state=2;, score=0.556 total time=   0.2s\n",
      "[CV 5/5; 103/243] START max_depth=10, min_samples_leaf=2, min_samples_split=15, n_estimators=50, random_state=2\n"
     ]
    },
    {
     "name": "stderr",
     "output_type": "stream",
     "text": [
      "d:\\Apps\\Anaconda\\lib\\site-packages\\sklearn\\model_selection\\_validation.py:680: DataConversionWarning: A column-vector y was passed when a 1d array was expected. Please change the shape of y to (n_samples,), for example using ravel().\n",
      "  estimator.fit(X_train, y_train, **fit_params)\n"
     ]
    },
    {
     "name": "stdout",
     "output_type": "stream",
     "text": [
      "[CV 5/5; 103/243] END max_depth=10, min_samples_leaf=2, min_samples_split=15, n_estimators=50, random_state=2;, score=0.546 total time=   0.2s\n",
      "[CV 1/5; 104/243] START max_depth=10, min_samples_leaf=2, min_samples_split=15, n_estimators=50, random_state=4\n"
     ]
    },
    {
     "name": "stderr",
     "output_type": "stream",
     "text": [
      "d:\\Apps\\Anaconda\\lib\\site-packages\\sklearn\\model_selection\\_validation.py:680: DataConversionWarning: A column-vector y was passed when a 1d array was expected. Please change the shape of y to (n_samples,), for example using ravel().\n",
      "  estimator.fit(X_train, y_train, **fit_params)\n"
     ]
    },
    {
     "name": "stdout",
     "output_type": "stream",
     "text": [
      "[CV 1/5; 104/243] END max_depth=10, min_samples_leaf=2, min_samples_split=15, n_estimators=50, random_state=4;, score=0.714 total time=   0.2s\n",
      "[CV 2/5; 104/243] START max_depth=10, min_samples_leaf=2, min_samples_split=15, n_estimators=50, random_state=4\n"
     ]
    },
    {
     "name": "stderr",
     "output_type": "stream",
     "text": [
      "d:\\Apps\\Anaconda\\lib\\site-packages\\sklearn\\model_selection\\_validation.py:680: DataConversionWarning: A column-vector y was passed when a 1d array was expected. Please change the shape of y to (n_samples,), for example using ravel().\n",
      "  estimator.fit(X_train, y_train, **fit_params)\n"
     ]
    },
    {
     "name": "stdout",
     "output_type": "stream",
     "text": [
      "[CV 2/5; 104/243] END max_depth=10, min_samples_leaf=2, min_samples_split=15, n_estimators=50, random_state=4;, score=0.782 total time=   0.2s\n",
      "[CV 3/5; 104/243] START max_depth=10, min_samples_leaf=2, min_samples_split=15, n_estimators=50, random_state=4\n"
     ]
    },
    {
     "name": "stderr",
     "output_type": "stream",
     "text": [
      "d:\\Apps\\Anaconda\\lib\\site-packages\\sklearn\\model_selection\\_validation.py:680: DataConversionWarning: A column-vector y was passed when a 1d array was expected. Please change the shape of y to (n_samples,), for example using ravel().\n",
      "  estimator.fit(X_train, y_train, **fit_params)\n"
     ]
    },
    {
     "name": "stdout",
     "output_type": "stream",
     "text": [
      "[CV 3/5; 104/243] END max_depth=10, min_samples_leaf=2, min_samples_split=15, n_estimators=50, random_state=4;, score=0.613 total time=   0.2s\n",
      "[CV 4/5; 104/243] START max_depth=10, min_samples_leaf=2, min_samples_split=15, n_estimators=50, random_state=4\n"
     ]
    },
    {
     "name": "stderr",
     "output_type": "stream",
     "text": [
      "d:\\Apps\\Anaconda\\lib\\site-packages\\sklearn\\model_selection\\_validation.py:680: DataConversionWarning: A column-vector y was passed when a 1d array was expected. Please change the shape of y to (n_samples,), for example using ravel().\n",
      "  estimator.fit(X_train, y_train, **fit_params)\n"
     ]
    },
    {
     "name": "stdout",
     "output_type": "stream",
     "text": [
      "[CV 4/5; 104/243] END max_depth=10, min_samples_leaf=2, min_samples_split=15, n_estimators=50, random_state=4;, score=0.596 total time=   0.2s\n",
      "[CV 5/5; 104/243] START max_depth=10, min_samples_leaf=2, min_samples_split=15, n_estimators=50, random_state=4\n"
     ]
    },
    {
     "name": "stderr",
     "output_type": "stream",
     "text": [
      "d:\\Apps\\Anaconda\\lib\\site-packages\\sklearn\\model_selection\\_validation.py:680: DataConversionWarning: A column-vector y was passed when a 1d array was expected. Please change the shape of y to (n_samples,), for example using ravel().\n",
      "  estimator.fit(X_train, y_train, **fit_params)\n"
     ]
    },
    {
     "name": "stdout",
     "output_type": "stream",
     "text": [
      "[CV 5/5; 104/243] END max_depth=10, min_samples_leaf=2, min_samples_split=15, n_estimators=50, random_state=4;, score=0.557 total time=   0.2s\n",
      "[CV 1/5; 105/243] START max_depth=10, min_samples_leaf=2, min_samples_split=15, n_estimators=50, random_state=6\n"
     ]
    },
    {
     "name": "stderr",
     "output_type": "stream",
     "text": [
      "d:\\Apps\\Anaconda\\lib\\site-packages\\sklearn\\model_selection\\_validation.py:680: DataConversionWarning: A column-vector y was passed when a 1d array was expected. Please change the shape of y to (n_samples,), for example using ravel().\n",
      "  estimator.fit(X_train, y_train, **fit_params)\n"
     ]
    },
    {
     "name": "stdout",
     "output_type": "stream",
     "text": [
      "[CV 1/5; 105/243] END max_depth=10, min_samples_leaf=2, min_samples_split=15, n_estimators=50, random_state=6;, score=0.782 total time=   0.2s\n",
      "[CV 2/5; 105/243] START max_depth=10, min_samples_leaf=2, min_samples_split=15, n_estimators=50, random_state=6\n"
     ]
    },
    {
     "name": "stderr",
     "output_type": "stream",
     "text": [
      "d:\\Apps\\Anaconda\\lib\\site-packages\\sklearn\\model_selection\\_validation.py:680: DataConversionWarning: A column-vector y was passed when a 1d array was expected. Please change the shape of y to (n_samples,), for example using ravel().\n",
      "  estimator.fit(X_train, y_train, **fit_params)\n"
     ]
    },
    {
     "name": "stdout",
     "output_type": "stream",
     "text": [
      "[CV 2/5; 105/243] END max_depth=10, min_samples_leaf=2, min_samples_split=15, n_estimators=50, random_state=6;, score=0.776 total time=   0.2s\n",
      "[CV 3/5; 105/243] START max_depth=10, min_samples_leaf=2, min_samples_split=15, n_estimators=50, random_state=6\n"
     ]
    },
    {
     "name": "stderr",
     "output_type": "stream",
     "text": [
      "d:\\Apps\\Anaconda\\lib\\site-packages\\sklearn\\model_selection\\_validation.py:680: DataConversionWarning: A column-vector y was passed when a 1d array was expected. Please change the shape of y to (n_samples,), for example using ravel().\n",
      "  estimator.fit(X_train, y_train, **fit_params)\n"
     ]
    },
    {
     "name": "stdout",
     "output_type": "stream",
     "text": [
      "[CV 3/5; 105/243] END max_depth=10, min_samples_leaf=2, min_samples_split=15, n_estimators=50, random_state=6;, score=0.607 total time=   0.2s\n",
      "[CV 4/5; 105/243] START max_depth=10, min_samples_leaf=2, min_samples_split=15, n_estimators=50, random_state=6\n"
     ]
    },
    {
     "name": "stderr",
     "output_type": "stream",
     "text": [
      "d:\\Apps\\Anaconda\\lib\\site-packages\\sklearn\\model_selection\\_validation.py:680: DataConversionWarning: A column-vector y was passed when a 1d array was expected. Please change the shape of y to (n_samples,), for example using ravel().\n",
      "  estimator.fit(X_train, y_train, **fit_params)\n"
     ]
    },
    {
     "name": "stdout",
     "output_type": "stream",
     "text": [
      "[CV 4/5; 105/243] END max_depth=10, min_samples_leaf=2, min_samples_split=15, n_estimators=50, random_state=6;, score=0.523 total time=   0.2s\n",
      "[CV 5/5; 105/243] START max_depth=10, min_samples_leaf=2, min_samples_split=15, n_estimators=50, random_state=6\n"
     ]
    },
    {
     "name": "stderr",
     "output_type": "stream",
     "text": [
      "d:\\Apps\\Anaconda\\lib\\site-packages\\sklearn\\model_selection\\_validation.py:680: DataConversionWarning: A column-vector y was passed when a 1d array was expected. Please change the shape of y to (n_samples,), for example using ravel().\n",
      "  estimator.fit(X_train, y_train, **fit_params)\n",
      "d:\\Apps\\Anaconda\\lib\\site-packages\\sklearn\\model_selection\\_validation.py:680: DataConversionWarning: A column-vector y was passed when a 1d array was expected. Please change the shape of y to (n_samples,), for example using ravel().\n",
      "  estimator.fit(X_train, y_train, **fit_params)\n"
     ]
    },
    {
     "name": "stdout",
     "output_type": "stream",
     "text": [
      "[CV 5/5; 105/243] END max_depth=10, min_samples_leaf=2, min_samples_split=15, n_estimators=50, random_state=6;, score=0.568 total time=   0.2s\n",
      "[CV 1/5; 106/243] START max_depth=10, min_samples_leaf=2, min_samples_split=15, n_estimators=100, random_state=2\n",
      "[CV 1/5; 106/243] END max_depth=10, min_samples_leaf=2, min_samples_split=15, n_estimators=100, random_state=2;, score=0.762 total time=   0.5s\n",
      "[CV 2/5; 106/243] START max_depth=10, min_samples_leaf=2, min_samples_split=15, n_estimators=100, random_state=2\n"
     ]
    },
    {
     "name": "stderr",
     "output_type": "stream",
     "text": [
      "d:\\Apps\\Anaconda\\lib\\site-packages\\sklearn\\model_selection\\_validation.py:680: DataConversionWarning: A column-vector y was passed when a 1d array was expected. Please change the shape of y to (n_samples,), for example using ravel().\n",
      "  estimator.fit(X_train, y_train, **fit_params)\n"
     ]
    },
    {
     "name": "stdout",
     "output_type": "stream",
     "text": [
      "[CV 2/5; 106/243] END max_depth=10, min_samples_leaf=2, min_samples_split=15, n_estimators=100, random_state=2;, score=0.781 total time=   0.5s\n",
      "[CV 3/5; 106/243] START max_depth=10, min_samples_leaf=2, min_samples_split=15, n_estimators=100, random_state=2\n"
     ]
    },
    {
     "name": "stderr",
     "output_type": "stream",
     "text": [
      "d:\\Apps\\Anaconda\\lib\\site-packages\\sklearn\\model_selection\\_validation.py:680: DataConversionWarning: A column-vector y was passed when a 1d array was expected. Please change the shape of y to (n_samples,), for example using ravel().\n",
      "  estimator.fit(X_train, y_train, **fit_params)\n"
     ]
    },
    {
     "name": "stdout",
     "output_type": "stream",
     "text": [
      "[CV 3/5; 106/243] END max_depth=10, min_samples_leaf=2, min_samples_split=15, n_estimators=100, random_state=2;, score=0.619 total time=   0.5s\n",
      "[CV 4/5; 106/243] START max_depth=10, min_samples_leaf=2, min_samples_split=15, n_estimators=100, random_state=2\n"
     ]
    },
    {
     "name": "stderr",
     "output_type": "stream",
     "text": [
      "d:\\Apps\\Anaconda\\lib\\site-packages\\sklearn\\model_selection\\_validation.py:680: DataConversionWarning: A column-vector y was passed when a 1d array was expected. Please change the shape of y to (n_samples,), for example using ravel().\n",
      "  estimator.fit(X_train, y_train, **fit_params)\n"
     ]
    },
    {
     "name": "stdout",
     "output_type": "stream",
     "text": [
      "[CV 4/5; 106/243] END max_depth=10, min_samples_leaf=2, min_samples_split=15, n_estimators=100, random_state=2;, score=0.600 total time=   0.5s\n",
      "[CV 5/5; 106/243] START max_depth=10, min_samples_leaf=2, min_samples_split=15, n_estimators=100, random_state=2\n"
     ]
    },
    {
     "name": "stderr",
     "output_type": "stream",
     "text": [
      "d:\\Apps\\Anaconda\\lib\\site-packages\\sklearn\\model_selection\\_validation.py:680: DataConversionWarning: A column-vector y was passed when a 1d array was expected. Please change the shape of y to (n_samples,), for example using ravel().\n",
      "  estimator.fit(X_train, y_train, **fit_params)\n"
     ]
    },
    {
     "name": "stdout",
     "output_type": "stream",
     "text": [
      "[CV 5/5; 106/243] END max_depth=10, min_samples_leaf=2, min_samples_split=15, n_estimators=100, random_state=2;, score=0.554 total time=   0.5s\n",
      "[CV 1/5; 107/243] START max_depth=10, min_samples_leaf=2, min_samples_split=15, n_estimators=100, random_state=4\n"
     ]
    },
    {
     "name": "stderr",
     "output_type": "stream",
     "text": [
      "d:\\Apps\\Anaconda\\lib\\site-packages\\sklearn\\model_selection\\_validation.py:680: DataConversionWarning: A column-vector y was passed when a 1d array was expected. Please change the shape of y to (n_samples,), for example using ravel().\n",
      "  estimator.fit(X_train, y_train, **fit_params)\n"
     ]
    },
    {
     "name": "stdout",
     "output_type": "stream",
     "text": [
      "[CV 1/5; 107/243] END max_depth=10, min_samples_leaf=2, min_samples_split=15, n_estimators=100, random_state=4;, score=0.748 total time=   0.5s\n",
      "[CV 2/5; 107/243] START max_depth=10, min_samples_leaf=2, min_samples_split=15, n_estimators=100, random_state=4\n"
     ]
    },
    {
     "name": "stderr",
     "output_type": "stream",
     "text": [
      "d:\\Apps\\Anaconda\\lib\\site-packages\\sklearn\\model_selection\\_validation.py:680: DataConversionWarning: A column-vector y was passed when a 1d array was expected. Please change the shape of y to (n_samples,), for example using ravel().\n",
      "  estimator.fit(X_train, y_train, **fit_params)\n"
     ]
    },
    {
     "name": "stdout",
     "output_type": "stream",
     "text": [
      "[CV 2/5; 107/243] END max_depth=10, min_samples_leaf=2, min_samples_split=15, n_estimators=100, random_state=4;, score=0.788 total time=   0.5s\n",
      "[CV 3/5; 107/243] START max_depth=10, min_samples_leaf=2, min_samples_split=15, n_estimators=100, random_state=4\n"
     ]
    },
    {
     "name": "stderr",
     "output_type": "stream",
     "text": [
      "d:\\Apps\\Anaconda\\lib\\site-packages\\sklearn\\model_selection\\_validation.py:680: DataConversionWarning: A column-vector y was passed when a 1d array was expected. Please change the shape of y to (n_samples,), for example using ravel().\n",
      "  estimator.fit(X_train, y_train, **fit_params)\n"
     ]
    },
    {
     "name": "stdout",
     "output_type": "stream",
     "text": [
      "[CV 3/5; 107/243] END max_depth=10, min_samples_leaf=2, min_samples_split=15, n_estimators=100, random_state=4;, score=0.620 total time=   0.5s\n",
      "[CV 4/5; 107/243] START max_depth=10, min_samples_leaf=2, min_samples_split=15, n_estimators=100, random_state=4\n"
     ]
    },
    {
     "name": "stderr",
     "output_type": "stream",
     "text": [
      "d:\\Apps\\Anaconda\\lib\\site-packages\\sklearn\\model_selection\\_validation.py:680: DataConversionWarning: A column-vector y was passed when a 1d array was expected. Please change the shape of y to (n_samples,), for example using ravel().\n",
      "  estimator.fit(X_train, y_train, **fit_params)\n"
     ]
    },
    {
     "name": "stdout",
     "output_type": "stream",
     "text": [
      "[CV 4/5; 107/243] END max_depth=10, min_samples_leaf=2, min_samples_split=15, n_estimators=100, random_state=4;, score=0.550 total time=   0.5s\n",
      "[CV 5/5; 107/243] START max_depth=10, min_samples_leaf=2, min_samples_split=15, n_estimators=100, random_state=4\n"
     ]
    },
    {
     "name": "stderr",
     "output_type": "stream",
     "text": [
      "d:\\Apps\\Anaconda\\lib\\site-packages\\sklearn\\model_selection\\_validation.py:680: DataConversionWarning: A column-vector y was passed when a 1d array was expected. Please change the shape of y to (n_samples,), for example using ravel().\n",
      "  estimator.fit(X_train, y_train, **fit_params)\n"
     ]
    },
    {
     "name": "stdout",
     "output_type": "stream",
     "text": [
      "[CV 5/5; 107/243] END max_depth=10, min_samples_leaf=2, min_samples_split=15, n_estimators=100, random_state=4;, score=0.557 total time=   0.5s\n",
      "[CV 1/5; 108/243] START max_depth=10, min_samples_leaf=2, min_samples_split=15, n_estimators=100, random_state=6\n"
     ]
    },
    {
     "name": "stderr",
     "output_type": "stream",
     "text": [
      "d:\\Apps\\Anaconda\\lib\\site-packages\\sklearn\\model_selection\\_validation.py:680: DataConversionWarning: A column-vector y was passed when a 1d array was expected. Please change the shape of y to (n_samples,), for example using ravel().\n",
      "  estimator.fit(X_train, y_train, **fit_params)\n"
     ]
    },
    {
     "name": "stdout",
     "output_type": "stream",
     "text": [
      "[CV 1/5; 108/243] END max_depth=10, min_samples_leaf=2, min_samples_split=15, n_estimators=100, random_state=6;, score=0.782 total time=   0.5s\n",
      "[CV 2/5; 108/243] START max_depth=10, min_samples_leaf=2, min_samples_split=15, n_estimators=100, random_state=6\n"
     ]
    },
    {
     "name": "stderr",
     "output_type": "stream",
     "text": [
      "d:\\Apps\\Anaconda\\lib\\site-packages\\sklearn\\model_selection\\_validation.py:680: DataConversionWarning: A column-vector y was passed when a 1d array was expected. Please change the shape of y to (n_samples,), for example using ravel().\n",
      "  estimator.fit(X_train, y_train, **fit_params)\n"
     ]
    },
    {
     "name": "stdout",
     "output_type": "stream",
     "text": [
      "[CV 2/5; 108/243] END max_depth=10, min_samples_leaf=2, min_samples_split=15, n_estimators=100, random_state=6;, score=0.770 total time=   0.5s\n",
      "[CV 3/5; 108/243] START max_depth=10, min_samples_leaf=2, min_samples_split=15, n_estimators=100, random_state=6\n"
     ]
    },
    {
     "name": "stderr",
     "output_type": "stream",
     "text": [
      "d:\\Apps\\Anaconda\\lib\\site-packages\\sklearn\\model_selection\\_validation.py:680: DataConversionWarning: A column-vector y was passed when a 1d array was expected. Please change the shape of y to (n_samples,), for example using ravel().\n",
      "  estimator.fit(X_train, y_train, **fit_params)\n"
     ]
    },
    {
     "name": "stdout",
     "output_type": "stream",
     "text": [
      "[CV 3/5; 108/243] END max_depth=10, min_samples_leaf=2, min_samples_split=15, n_estimators=100, random_state=6;, score=0.606 total time=   0.5s\n",
      "[CV 4/5; 108/243] START max_depth=10, min_samples_leaf=2, min_samples_split=15, n_estimators=100, random_state=6\n"
     ]
    },
    {
     "name": "stderr",
     "output_type": "stream",
     "text": [
      "d:\\Apps\\Anaconda\\lib\\site-packages\\sklearn\\model_selection\\_validation.py:680: DataConversionWarning: A column-vector y was passed when a 1d array was expected. Please change the shape of y to (n_samples,), for example using ravel().\n",
      "  estimator.fit(X_train, y_train, **fit_params)\n"
     ]
    },
    {
     "name": "stdout",
     "output_type": "stream",
     "text": [
      "[CV 4/5; 108/243] END max_depth=10, min_samples_leaf=2, min_samples_split=15, n_estimators=100, random_state=6;, score=0.573 total time=   0.5s\n",
      "[CV 5/5; 108/243] START max_depth=10, min_samples_leaf=2, min_samples_split=15, n_estimators=100, random_state=6\n"
     ]
    },
    {
     "name": "stderr",
     "output_type": "stream",
     "text": [
      "d:\\Apps\\Anaconda\\lib\\site-packages\\sklearn\\model_selection\\_validation.py:680: DataConversionWarning: A column-vector y was passed when a 1d array was expected. Please change the shape of y to (n_samples,), for example using ravel().\n",
      "  estimator.fit(X_train, y_train, **fit_params)\n"
     ]
    },
    {
     "name": "stdout",
     "output_type": "stream",
     "text": [
      "[CV 5/5; 108/243] END max_depth=10, min_samples_leaf=2, min_samples_split=15, n_estimators=100, random_state=6;, score=0.564 total time=   0.5s\n",
      "[CV 1/5; 109/243] START max_depth=10, min_samples_leaf=4, min_samples_split=5, n_estimators=10, random_state=2\n",
      "[CV 1/5; 109/243] END max_depth=10, min_samples_leaf=4, min_samples_split=5, n_estimators=10, random_state=2;, score=0.720 total time=   0.0s\n",
      "[CV 2/5; 109/243] START max_depth=10, min_samples_leaf=4, min_samples_split=5, n_estimators=10, random_state=2\n",
      "[CV 2/5; 109/243] END max_depth=10, min_samples_leaf=4, min_samples_split=5, n_estimators=10, random_state=2;, score=0.792 total time=   0.0s\n",
      "[CV 3/5; 109/243] START max_depth=10, min_samples_leaf=4, min_samples_split=5, n_estimators=10, random_state=2\n",
      "[CV 3/5; 109/243] END max_depth=10, min_samples_leaf=4, min_samples_split=5, n_estimators=10, random_state=2;, score=0.641 total time=   0.0s\n",
      "[CV 4/5; 109/243] START max_depth=10, min_samples_leaf=4, min_samples_split=5, n_estimators=10, random_state=2\n"
     ]
    },
    {
     "name": "stderr",
     "output_type": "stream",
     "text": [
      "d:\\Apps\\Anaconda\\lib\\site-packages\\sklearn\\model_selection\\_validation.py:680: DataConversionWarning: A column-vector y was passed when a 1d array was expected. Please change the shape of y to (n_samples,), for example using ravel().\n",
      "  estimator.fit(X_train, y_train, **fit_params)\n",
      "d:\\Apps\\Anaconda\\lib\\site-packages\\sklearn\\model_selection\\_validation.py:680: DataConversionWarning: A column-vector y was passed when a 1d array was expected. Please change the shape of y to (n_samples,), for example using ravel().\n",
      "  estimator.fit(X_train, y_train, **fit_params)\n",
      "d:\\Apps\\Anaconda\\lib\\site-packages\\sklearn\\model_selection\\_validation.py:680: DataConversionWarning: A column-vector y was passed when a 1d array was expected. Please change the shape of y to (n_samples,), for example using ravel().\n",
      "  estimator.fit(X_train, y_train, **fit_params)\n",
      "d:\\Apps\\Anaconda\\lib\\site-packages\\sklearn\\model_selection\\_validation.py:680: DataConversionWarning: A column-vector y was passed when a 1d array was expected. Please change the shape of y to (n_samples,), for example using ravel().\n",
      "  estimator.fit(X_train, y_train, **fit_params)\n",
      "d:\\Apps\\Anaconda\\lib\\site-packages\\sklearn\\model_selection\\_validation.py:680: DataConversionWarning: A column-vector y was passed when a 1d array was expected. Please change the shape of y to (n_samples,), for example using ravel().\n",
      "  estimator.fit(X_train, y_train, **fit_params)\n",
      "d:\\Apps\\Anaconda\\lib\\site-packages\\sklearn\\model_selection\\_validation.py:680: DataConversionWarning: A column-vector y was passed when a 1d array was expected. Please change the shape of y to (n_samples,), for example using ravel().\n",
      "  estimator.fit(X_train, y_train, **fit_params)\n"
     ]
    },
    {
     "name": "stdout",
     "output_type": "stream",
     "text": [
      "[CV 4/5; 109/243] END max_depth=10, min_samples_leaf=4, min_samples_split=5, n_estimators=10, random_state=2;, score=0.476 total time=   0.0s\n",
      "[CV 5/5; 109/243] START max_depth=10, min_samples_leaf=4, min_samples_split=5, n_estimators=10, random_state=2\n",
      "[CV 5/5; 109/243] END max_depth=10, min_samples_leaf=4, min_samples_split=5, n_estimators=10, random_state=2;, score=0.552 total time=   0.0s\n",
      "[CV 1/5; 110/243] START max_depth=10, min_samples_leaf=4, min_samples_split=5, n_estimators=10, random_state=4\n",
      "[CV 1/5; 110/243] END max_depth=10, min_samples_leaf=4, min_samples_split=5, n_estimators=10, random_state=4;, score=0.730 total time=   0.0s\n",
      "[CV 2/5; 110/243] START max_depth=10, min_samples_leaf=4, min_samples_split=5, n_estimators=10, random_state=4\n"
     ]
    },
    {
     "name": "stderr",
     "output_type": "stream",
     "text": [
      "d:\\Apps\\Anaconda\\lib\\site-packages\\sklearn\\model_selection\\_validation.py:680: DataConversionWarning: A column-vector y was passed when a 1d array was expected. Please change the shape of y to (n_samples,), for example using ravel().\n",
      "  estimator.fit(X_train, y_train, **fit_params)\n",
      "d:\\Apps\\Anaconda\\lib\\site-packages\\sklearn\\model_selection\\_validation.py:680: DataConversionWarning: A column-vector y was passed when a 1d array was expected. Please change the shape of y to (n_samples,), for example using ravel().\n",
      "  estimator.fit(X_train, y_train, **fit_params)\n",
      "d:\\Apps\\Anaconda\\lib\\site-packages\\sklearn\\model_selection\\_validation.py:680: DataConversionWarning: A column-vector y was passed when a 1d array was expected. Please change the shape of y to (n_samples,), for example using ravel().\n",
      "  estimator.fit(X_train, y_train, **fit_params)\n"
     ]
    },
    {
     "name": "stdout",
     "output_type": "stream",
     "text": [
      "[CV 2/5; 110/243] END max_depth=10, min_samples_leaf=4, min_samples_split=5, n_estimators=10, random_state=4;, score=0.749 total time=   0.0s\n",
      "[CV 3/5; 110/243] START max_depth=10, min_samples_leaf=4, min_samples_split=5, n_estimators=10, random_state=4\n",
      "[CV 3/5; 110/243] END max_depth=10, min_samples_leaf=4, min_samples_split=5, n_estimators=10, random_state=4;, score=0.615 total time=   0.0s\n",
      "[CV 4/5; 110/243] START max_depth=10, min_samples_leaf=4, min_samples_split=5, n_estimators=10, random_state=4\n",
      "[CV 4/5; 110/243] END max_depth=10, min_samples_leaf=4, min_samples_split=5, n_estimators=10, random_state=4;, score=0.554 total time=   0.0s\n",
      "[CV 5/5; 110/243] START max_depth=10, min_samples_leaf=4, min_samples_split=5, n_estimators=10, random_state=4\n"
     ]
    },
    {
     "name": "stderr",
     "output_type": "stream",
     "text": [
      "d:\\Apps\\Anaconda\\lib\\site-packages\\sklearn\\model_selection\\_validation.py:680: DataConversionWarning: A column-vector y was passed when a 1d array was expected. Please change the shape of y to (n_samples,), for example using ravel().\n",
      "  estimator.fit(X_train, y_train, **fit_params)\n",
      "d:\\Apps\\Anaconda\\lib\\site-packages\\sklearn\\model_selection\\_validation.py:680: DataConversionWarning: A column-vector y was passed when a 1d array was expected. Please change the shape of y to (n_samples,), for example using ravel().\n",
      "  estimator.fit(X_train, y_train, **fit_params)\n",
      "d:\\Apps\\Anaconda\\lib\\site-packages\\sklearn\\model_selection\\_validation.py:680: DataConversionWarning: A column-vector y was passed when a 1d array was expected. Please change the shape of y to (n_samples,), for example using ravel().\n",
      "  estimator.fit(X_train, y_train, **fit_params)\n"
     ]
    },
    {
     "name": "stdout",
     "output_type": "stream",
     "text": [
      "[CV 5/5; 110/243] END max_depth=10, min_samples_leaf=4, min_samples_split=5, n_estimators=10, random_state=4;, score=0.604 total time=   0.0s\n",
      "[CV 1/5; 111/243] START max_depth=10, min_samples_leaf=4, min_samples_split=5, n_estimators=10, random_state=6\n",
      "[CV 1/5; 111/243] END max_depth=10, min_samples_leaf=4, min_samples_split=5, n_estimators=10, random_state=6;, score=0.767 total time=   0.0s\n",
      "[CV 2/5; 111/243] START max_depth=10, min_samples_leaf=4, min_samples_split=5, n_estimators=10, random_state=6\n",
      "[CV 2/5; 111/243] END max_depth=10, min_samples_leaf=4, min_samples_split=5, n_estimators=10, random_state=6;, score=0.725 total time=   0.0s\n",
      "[CV 3/5; 111/243] START max_depth=10, min_samples_leaf=4, min_samples_split=5, n_estimators=10, random_state=6\n"
     ]
    },
    {
     "name": "stderr",
     "output_type": "stream",
     "text": [
      "d:\\Apps\\Anaconda\\lib\\site-packages\\sklearn\\model_selection\\_validation.py:680: DataConversionWarning: A column-vector y was passed when a 1d array was expected. Please change the shape of y to (n_samples,), for example using ravel().\n",
      "  estimator.fit(X_train, y_train, **fit_params)\n",
      "d:\\Apps\\Anaconda\\lib\\site-packages\\sklearn\\model_selection\\_validation.py:680: DataConversionWarning: A column-vector y was passed when a 1d array was expected. Please change the shape of y to (n_samples,), for example using ravel().\n",
      "  estimator.fit(X_train, y_train, **fit_params)\n",
      "d:\\Apps\\Anaconda\\lib\\site-packages\\sklearn\\model_selection\\_validation.py:680: DataConversionWarning: A column-vector y was passed when a 1d array was expected. Please change the shape of y to (n_samples,), for example using ravel().\n",
      "  estimator.fit(X_train, y_train, **fit_params)\n"
     ]
    },
    {
     "name": "stdout",
     "output_type": "stream",
     "text": [
      "[CV 3/5; 111/243] END max_depth=10, min_samples_leaf=4, min_samples_split=5, n_estimators=10, random_state=6;, score=0.661 total time=   0.0s\n",
      "[CV 4/5; 111/243] START max_depth=10, min_samples_leaf=4, min_samples_split=5, n_estimators=10, random_state=6\n",
      "[CV 4/5; 111/243] END max_depth=10, min_samples_leaf=4, min_samples_split=5, n_estimators=10, random_state=6;, score=0.484 total time=   0.0s\n",
      "[CV 5/5; 111/243] START max_depth=10, min_samples_leaf=4, min_samples_split=5, n_estimators=10, random_state=6\n",
      "[CV 5/5; 111/243] END max_depth=10, min_samples_leaf=4, min_samples_split=5, n_estimators=10, random_state=6;, score=0.592 total time=   0.0s\n",
      "[CV 1/5; 112/243] START max_depth=10, min_samples_leaf=4, min_samples_split=5, n_estimators=50, random_state=2\n"
     ]
    },
    {
     "name": "stderr",
     "output_type": "stream",
     "text": [
      "d:\\Apps\\Anaconda\\lib\\site-packages\\sklearn\\model_selection\\_validation.py:680: DataConversionWarning: A column-vector y was passed when a 1d array was expected. Please change the shape of y to (n_samples,), for example using ravel().\n",
      "  estimator.fit(X_train, y_train, **fit_params)\n"
     ]
    },
    {
     "name": "stdout",
     "output_type": "stream",
     "text": [
      "[CV 1/5; 112/243] END max_depth=10, min_samples_leaf=4, min_samples_split=5, n_estimators=50, random_state=2;, score=0.739 total time=   0.2s\n",
      "[CV 2/5; 112/243] START max_depth=10, min_samples_leaf=4, min_samples_split=5, n_estimators=50, random_state=2\n"
     ]
    },
    {
     "name": "stderr",
     "output_type": "stream",
     "text": [
      "d:\\Apps\\Anaconda\\lib\\site-packages\\sklearn\\model_selection\\_validation.py:680: DataConversionWarning: A column-vector y was passed when a 1d array was expected. Please change the shape of y to (n_samples,), for example using ravel().\n",
      "  estimator.fit(X_train, y_train, **fit_params)\n"
     ]
    },
    {
     "name": "stdout",
     "output_type": "stream",
     "text": [
      "[CV 2/5; 112/243] END max_depth=10, min_samples_leaf=4, min_samples_split=5, n_estimators=50, random_state=2;, score=0.783 total time=   0.2s\n",
      "[CV 3/5; 112/243] START max_depth=10, min_samples_leaf=4, min_samples_split=5, n_estimators=50, random_state=2\n"
     ]
    },
    {
     "name": "stderr",
     "output_type": "stream",
     "text": [
      "d:\\Apps\\Anaconda\\lib\\site-packages\\sklearn\\model_selection\\_validation.py:680: DataConversionWarning: A column-vector y was passed when a 1d array was expected. Please change the shape of y to (n_samples,), for example using ravel().\n",
      "  estimator.fit(X_train, y_train, **fit_params)\n"
     ]
    },
    {
     "name": "stdout",
     "output_type": "stream",
     "text": [
      "[CV 3/5; 112/243] END max_depth=10, min_samples_leaf=4, min_samples_split=5, n_estimators=50, random_state=2;, score=0.674 total time=   0.2s\n",
      "[CV 4/5; 112/243] START max_depth=10, min_samples_leaf=4, min_samples_split=5, n_estimators=50, random_state=2\n"
     ]
    },
    {
     "name": "stderr",
     "output_type": "stream",
     "text": [
      "d:\\Apps\\Anaconda\\lib\\site-packages\\sklearn\\model_selection\\_validation.py:680: DataConversionWarning: A column-vector y was passed when a 1d array was expected. Please change the shape of y to (n_samples,), for example using ravel().\n",
      "  estimator.fit(X_train, y_train, **fit_params)\n"
     ]
    },
    {
     "name": "stdout",
     "output_type": "stream",
     "text": [
      "[CV 4/5; 112/243] END max_depth=10, min_samples_leaf=4, min_samples_split=5, n_estimators=50, random_state=2;, score=0.541 total time=   0.2s\n",
      "[CV 5/5; 112/243] START max_depth=10, min_samples_leaf=4, min_samples_split=5, n_estimators=50, random_state=2\n"
     ]
    },
    {
     "name": "stderr",
     "output_type": "stream",
     "text": [
      "d:\\Apps\\Anaconda\\lib\\site-packages\\sklearn\\model_selection\\_validation.py:680: DataConversionWarning: A column-vector y was passed when a 1d array was expected. Please change the shape of y to (n_samples,), for example using ravel().\n",
      "  estimator.fit(X_train, y_train, **fit_params)\n"
     ]
    },
    {
     "name": "stdout",
     "output_type": "stream",
     "text": [
      "[CV 5/5; 112/243] END max_depth=10, min_samples_leaf=4, min_samples_split=5, n_estimators=50, random_state=2;, score=0.572 total time=   0.2s\n",
      "[CV 1/5; 113/243] START max_depth=10, min_samples_leaf=4, min_samples_split=5, n_estimators=50, random_state=4\n"
     ]
    },
    {
     "name": "stderr",
     "output_type": "stream",
     "text": [
      "d:\\Apps\\Anaconda\\lib\\site-packages\\sklearn\\model_selection\\_validation.py:680: DataConversionWarning: A column-vector y was passed when a 1d array was expected. Please change the shape of y to (n_samples,), for example using ravel().\n",
      "  estimator.fit(X_train, y_train, **fit_params)\n"
     ]
    },
    {
     "name": "stdout",
     "output_type": "stream",
     "text": [
      "[CV 1/5; 113/243] END max_depth=10, min_samples_leaf=4, min_samples_split=5, n_estimators=50, random_state=4;, score=0.707 total time=   0.2s\n",
      "[CV 2/5; 113/243] START max_depth=10, min_samples_leaf=4, min_samples_split=5, n_estimators=50, random_state=4\n"
     ]
    },
    {
     "name": "stderr",
     "output_type": "stream",
     "text": [
      "d:\\Apps\\Anaconda\\lib\\site-packages\\sklearn\\model_selection\\_validation.py:680: DataConversionWarning: A column-vector y was passed when a 1d array was expected. Please change the shape of y to (n_samples,), for example using ravel().\n",
      "  estimator.fit(X_train, y_train, **fit_params)\n"
     ]
    },
    {
     "name": "stdout",
     "output_type": "stream",
     "text": [
      "[CV 2/5; 113/243] END max_depth=10, min_samples_leaf=4, min_samples_split=5, n_estimators=50, random_state=4;, score=0.783 total time=   0.2s\n",
      "[CV 3/5; 113/243] START max_depth=10, min_samples_leaf=4, min_samples_split=5, n_estimators=50, random_state=4\n"
     ]
    },
    {
     "name": "stderr",
     "output_type": "stream",
     "text": [
      "d:\\Apps\\Anaconda\\lib\\site-packages\\sklearn\\model_selection\\_validation.py:680: DataConversionWarning: A column-vector y was passed when a 1d array was expected. Please change the shape of y to (n_samples,), for example using ravel().\n",
      "  estimator.fit(X_train, y_train, **fit_params)\n"
     ]
    },
    {
     "name": "stdout",
     "output_type": "stream",
     "text": [
      "[CV 3/5; 113/243] END max_depth=10, min_samples_leaf=4, min_samples_split=5, n_estimators=50, random_state=4;, score=0.639 total time=   0.2s\n",
      "[CV 4/5; 113/243] START max_depth=10, min_samples_leaf=4, min_samples_split=5, n_estimators=50, random_state=4\n"
     ]
    },
    {
     "name": "stderr",
     "output_type": "stream",
     "text": [
      "d:\\Apps\\Anaconda\\lib\\site-packages\\sklearn\\model_selection\\_validation.py:680: DataConversionWarning: A column-vector y was passed when a 1d array was expected. Please change the shape of y to (n_samples,), for example using ravel().\n",
      "  estimator.fit(X_train, y_train, **fit_params)\n"
     ]
    },
    {
     "name": "stdout",
     "output_type": "stream",
     "text": [
      "[CV 4/5; 113/243] END max_depth=10, min_samples_leaf=4, min_samples_split=5, n_estimators=50, random_state=4;, score=0.593 total time=   0.2s\n",
      "[CV 5/5; 113/243] START max_depth=10, min_samples_leaf=4, min_samples_split=5, n_estimators=50, random_state=4\n"
     ]
    },
    {
     "name": "stderr",
     "output_type": "stream",
     "text": [
      "d:\\Apps\\Anaconda\\lib\\site-packages\\sklearn\\model_selection\\_validation.py:680: DataConversionWarning: A column-vector y was passed when a 1d array was expected. Please change the shape of y to (n_samples,), for example using ravel().\n",
      "  estimator.fit(X_train, y_train, **fit_params)\n"
     ]
    },
    {
     "name": "stdout",
     "output_type": "stream",
     "text": [
      "[CV 5/5; 113/243] END max_depth=10, min_samples_leaf=4, min_samples_split=5, n_estimators=50, random_state=4;, score=0.588 total time=   0.2s\n",
      "[CV 1/5; 114/243] START max_depth=10, min_samples_leaf=4, min_samples_split=5, n_estimators=50, random_state=6\n"
     ]
    },
    {
     "name": "stderr",
     "output_type": "stream",
     "text": [
      "d:\\Apps\\Anaconda\\lib\\site-packages\\sklearn\\model_selection\\_validation.py:680: DataConversionWarning: A column-vector y was passed when a 1d array was expected. Please change the shape of y to (n_samples,), for example using ravel().\n",
      "  estimator.fit(X_train, y_train, **fit_params)\n"
     ]
    },
    {
     "name": "stdout",
     "output_type": "stream",
     "text": [
      "[CV 1/5; 114/243] END max_depth=10, min_samples_leaf=4, min_samples_split=5, n_estimators=50, random_state=6;, score=0.769 total time=   0.2s\n",
      "[CV 2/5; 114/243] START max_depth=10, min_samples_leaf=4, min_samples_split=5, n_estimators=50, random_state=6\n"
     ]
    },
    {
     "name": "stderr",
     "output_type": "stream",
     "text": [
      "d:\\Apps\\Anaconda\\lib\\site-packages\\sklearn\\model_selection\\_validation.py:680: DataConversionWarning: A column-vector y was passed when a 1d array was expected. Please change the shape of y to (n_samples,), for example using ravel().\n",
      "  estimator.fit(X_train, y_train, **fit_params)\n"
     ]
    },
    {
     "name": "stdout",
     "output_type": "stream",
     "text": [
      "[CV 2/5; 114/243] END max_depth=10, min_samples_leaf=4, min_samples_split=5, n_estimators=50, random_state=6;, score=0.771 total time=   0.2s\n",
      "[CV 3/5; 114/243] START max_depth=10, min_samples_leaf=4, min_samples_split=5, n_estimators=50, random_state=6\n"
     ]
    },
    {
     "name": "stderr",
     "output_type": "stream",
     "text": [
      "d:\\Apps\\Anaconda\\lib\\site-packages\\sklearn\\model_selection\\_validation.py:680: DataConversionWarning: A column-vector y was passed when a 1d array was expected. Please change the shape of y to (n_samples,), for example using ravel().\n",
      "  estimator.fit(X_train, y_train, **fit_params)\n"
     ]
    },
    {
     "name": "stdout",
     "output_type": "stream",
     "text": [
      "[CV 3/5; 114/243] END max_depth=10, min_samples_leaf=4, min_samples_split=5, n_estimators=50, random_state=6;, score=0.648 total time=   0.2s\n",
      "[CV 4/5; 114/243] START max_depth=10, min_samples_leaf=4, min_samples_split=5, n_estimators=50, random_state=6\n"
     ]
    },
    {
     "name": "stderr",
     "output_type": "stream",
     "text": [
      "d:\\Apps\\Anaconda\\lib\\site-packages\\sklearn\\model_selection\\_validation.py:680: DataConversionWarning: A column-vector y was passed when a 1d array was expected. Please change the shape of y to (n_samples,), for example using ravel().\n",
      "  estimator.fit(X_train, y_train, **fit_params)\n"
     ]
    },
    {
     "name": "stdout",
     "output_type": "stream",
     "text": [
      "[CV 4/5; 114/243] END max_depth=10, min_samples_leaf=4, min_samples_split=5, n_estimators=50, random_state=6;, score=0.530 total time=   0.2s\n",
      "[CV 5/5; 114/243] START max_depth=10, min_samples_leaf=4, min_samples_split=5, n_estimators=50, random_state=6\n"
     ]
    },
    {
     "name": "stderr",
     "output_type": "stream",
     "text": [
      "d:\\Apps\\Anaconda\\lib\\site-packages\\sklearn\\model_selection\\_validation.py:680: DataConversionWarning: A column-vector y was passed when a 1d array was expected. Please change the shape of y to (n_samples,), for example using ravel().\n",
      "  estimator.fit(X_train, y_train, **fit_params)\n"
     ]
    },
    {
     "name": "stdout",
     "output_type": "stream",
     "text": [
      "[CV 5/5; 114/243] END max_depth=10, min_samples_leaf=4, min_samples_split=5, n_estimators=50, random_state=6;, score=0.597 total time=   0.2s\n",
      "[CV 1/5; 115/243] START max_depth=10, min_samples_leaf=4, min_samples_split=5, n_estimators=100, random_state=2\n"
     ]
    },
    {
     "name": "stderr",
     "output_type": "stream",
     "text": [
      "d:\\Apps\\Anaconda\\lib\\site-packages\\sklearn\\model_selection\\_validation.py:680: DataConversionWarning: A column-vector y was passed when a 1d array was expected. Please change the shape of y to (n_samples,), for example using ravel().\n",
      "  estimator.fit(X_train, y_train, **fit_params)\n"
     ]
    },
    {
     "name": "stdout",
     "output_type": "stream",
     "text": [
      "[CV 1/5; 115/243] END max_depth=10, min_samples_leaf=4, min_samples_split=5, n_estimators=100, random_state=2;, score=0.737 total time=   0.5s\n",
      "[CV 2/5; 115/243] START max_depth=10, min_samples_leaf=4, min_samples_split=5, n_estimators=100, random_state=2\n"
     ]
    },
    {
     "name": "stderr",
     "output_type": "stream",
     "text": [
      "d:\\Apps\\Anaconda\\lib\\site-packages\\sklearn\\model_selection\\_validation.py:680: DataConversionWarning: A column-vector y was passed when a 1d array was expected. Please change the shape of y to (n_samples,), for example using ravel().\n",
      "  estimator.fit(X_train, y_train, **fit_params)\n"
     ]
    },
    {
     "name": "stdout",
     "output_type": "stream",
     "text": [
      "[CV 2/5; 115/243] END max_depth=10, min_samples_leaf=4, min_samples_split=5, n_estimators=100, random_state=2;, score=0.778 total time=   0.5s\n",
      "[CV 3/5; 115/243] START max_depth=10, min_samples_leaf=4, min_samples_split=5, n_estimators=100, random_state=2\n"
     ]
    },
    {
     "name": "stderr",
     "output_type": "stream",
     "text": [
      "d:\\Apps\\Anaconda\\lib\\site-packages\\sklearn\\model_selection\\_validation.py:680: DataConversionWarning: A column-vector y was passed when a 1d array was expected. Please change the shape of y to (n_samples,), for example using ravel().\n",
      "  estimator.fit(X_train, y_train, **fit_params)\n"
     ]
    },
    {
     "name": "stdout",
     "output_type": "stream",
     "text": [
      "[CV 3/5; 115/243] END max_depth=10, min_samples_leaf=4, min_samples_split=5, n_estimators=100, random_state=2;, score=0.658 total time=   0.5s\n",
      "[CV 4/5; 115/243] START max_depth=10, min_samples_leaf=4, min_samples_split=5, n_estimators=100, random_state=2\n"
     ]
    },
    {
     "name": "stderr",
     "output_type": "stream",
     "text": [
      "d:\\Apps\\Anaconda\\lib\\site-packages\\sklearn\\model_selection\\_validation.py:680: DataConversionWarning: A column-vector y was passed when a 1d array was expected. Please change the shape of y to (n_samples,), for example using ravel().\n",
      "  estimator.fit(X_train, y_train, **fit_params)\n"
     ]
    },
    {
     "name": "stdout",
     "output_type": "stream",
     "text": [
      "[CV 4/5; 115/243] END max_depth=10, min_samples_leaf=4, min_samples_split=5, n_estimators=100, random_state=2;, score=0.584 total time=   0.5s\n",
      "[CV 5/5; 115/243] START max_depth=10, min_samples_leaf=4, min_samples_split=5, n_estimators=100, random_state=2\n"
     ]
    },
    {
     "name": "stderr",
     "output_type": "stream",
     "text": [
      "d:\\Apps\\Anaconda\\lib\\site-packages\\sklearn\\model_selection\\_validation.py:680: DataConversionWarning: A column-vector y was passed when a 1d array was expected. Please change the shape of y to (n_samples,), for example using ravel().\n",
      "  estimator.fit(X_train, y_train, **fit_params)\n"
     ]
    },
    {
     "name": "stdout",
     "output_type": "stream",
     "text": [
      "[CV 5/5; 115/243] END max_depth=10, min_samples_leaf=4, min_samples_split=5, n_estimators=100, random_state=2;, score=0.586 total time=   0.5s\n",
      "[CV 1/5; 116/243] START max_depth=10, min_samples_leaf=4, min_samples_split=5, n_estimators=100, random_state=4\n"
     ]
    },
    {
     "name": "stderr",
     "output_type": "stream",
     "text": [
      "d:\\Apps\\Anaconda\\lib\\site-packages\\sklearn\\model_selection\\_validation.py:680: DataConversionWarning: A column-vector y was passed when a 1d array was expected. Please change the shape of y to (n_samples,), for example using ravel().\n",
      "  estimator.fit(X_train, y_train, **fit_params)\n"
     ]
    },
    {
     "name": "stdout",
     "output_type": "stream",
     "text": [
      "[CV 1/5; 116/243] END max_depth=10, min_samples_leaf=4, min_samples_split=5, n_estimators=100, random_state=4;, score=0.742 total time=   0.5s\n",
      "[CV 2/5; 116/243] START max_depth=10, min_samples_leaf=4, min_samples_split=5, n_estimators=100, random_state=4\n"
     ]
    },
    {
     "name": "stderr",
     "output_type": "stream",
     "text": [
      "d:\\Apps\\Anaconda\\lib\\site-packages\\sklearn\\model_selection\\_validation.py:680: DataConversionWarning: A column-vector y was passed when a 1d array was expected. Please change the shape of y to (n_samples,), for example using ravel().\n",
      "  estimator.fit(X_train, y_train, **fit_params)\n"
     ]
    },
    {
     "name": "stdout",
     "output_type": "stream",
     "text": [
      "[CV 2/5; 116/243] END max_depth=10, min_samples_leaf=4, min_samples_split=5, n_estimators=100, random_state=4;, score=0.782 total time=   0.5s\n",
      "[CV 3/5; 116/243] START max_depth=10, min_samples_leaf=4, min_samples_split=5, n_estimators=100, random_state=4\n"
     ]
    },
    {
     "name": "stderr",
     "output_type": "stream",
     "text": [
      "d:\\Apps\\Anaconda\\lib\\site-packages\\sklearn\\model_selection\\_validation.py:680: DataConversionWarning: A column-vector y was passed when a 1d array was expected. Please change the shape of y to (n_samples,), for example using ravel().\n",
      "  estimator.fit(X_train, y_train, **fit_params)\n"
     ]
    },
    {
     "name": "stdout",
     "output_type": "stream",
     "text": [
      "[CV 3/5; 116/243] END max_depth=10, min_samples_leaf=4, min_samples_split=5, n_estimators=100, random_state=4;, score=0.656 total time=   0.5s\n",
      "[CV 4/5; 116/243] START max_depth=10, min_samples_leaf=4, min_samples_split=5, n_estimators=100, random_state=4\n"
     ]
    },
    {
     "name": "stderr",
     "output_type": "stream",
     "text": [
      "d:\\Apps\\Anaconda\\lib\\site-packages\\sklearn\\model_selection\\_validation.py:680: DataConversionWarning: A column-vector y was passed when a 1d array was expected. Please change the shape of y to (n_samples,), for example using ravel().\n",
      "  estimator.fit(X_train, y_train, **fit_params)\n"
     ]
    },
    {
     "name": "stdout",
     "output_type": "stream",
     "text": [
      "[CV 4/5; 116/243] END max_depth=10, min_samples_leaf=4, min_samples_split=5, n_estimators=100, random_state=4;, score=0.580 total time=   0.5s\n",
      "[CV 5/5; 116/243] START max_depth=10, min_samples_leaf=4, min_samples_split=5, n_estimators=100, random_state=4\n"
     ]
    },
    {
     "name": "stderr",
     "output_type": "stream",
     "text": [
      "d:\\Apps\\Anaconda\\lib\\site-packages\\sklearn\\model_selection\\_validation.py:680: DataConversionWarning: A column-vector y was passed when a 1d array was expected. Please change the shape of y to (n_samples,), for example using ravel().\n",
      "  estimator.fit(X_train, y_train, **fit_params)\n"
     ]
    },
    {
     "name": "stdout",
     "output_type": "stream",
     "text": [
      "[CV 5/5; 116/243] END max_depth=10, min_samples_leaf=4, min_samples_split=5, n_estimators=100, random_state=4;, score=0.593 total time=   0.5s\n",
      "[CV 1/5; 117/243] START max_depth=10, min_samples_leaf=4, min_samples_split=5, n_estimators=100, random_state=6\n"
     ]
    },
    {
     "name": "stderr",
     "output_type": "stream",
     "text": [
      "d:\\Apps\\Anaconda\\lib\\site-packages\\sklearn\\model_selection\\_validation.py:680: DataConversionWarning: A column-vector y was passed when a 1d array was expected. Please change the shape of y to (n_samples,), for example using ravel().\n",
      "  estimator.fit(X_train, y_train, **fit_params)\n"
     ]
    },
    {
     "name": "stdout",
     "output_type": "stream",
     "text": [
      "[CV 1/5; 117/243] END max_depth=10, min_samples_leaf=4, min_samples_split=5, n_estimators=100, random_state=6;, score=0.761 total time=   0.5s\n",
      "[CV 2/5; 117/243] START max_depth=10, min_samples_leaf=4, min_samples_split=5, n_estimators=100, random_state=6\n"
     ]
    },
    {
     "name": "stderr",
     "output_type": "stream",
     "text": [
      "d:\\Apps\\Anaconda\\lib\\site-packages\\sklearn\\model_selection\\_validation.py:680: DataConversionWarning: A column-vector y was passed when a 1d array was expected. Please change the shape of y to (n_samples,), for example using ravel().\n",
      "  estimator.fit(X_train, y_train, **fit_params)\n"
     ]
    },
    {
     "name": "stdout",
     "output_type": "stream",
     "text": [
      "[CV 2/5; 117/243] END max_depth=10, min_samples_leaf=4, min_samples_split=5, n_estimators=100, random_state=6;, score=0.765 total time=   0.5s\n",
      "[CV 3/5; 117/243] START max_depth=10, min_samples_leaf=4, min_samples_split=5, n_estimators=100, random_state=6\n"
     ]
    },
    {
     "name": "stderr",
     "output_type": "stream",
     "text": [
      "d:\\Apps\\Anaconda\\lib\\site-packages\\sklearn\\model_selection\\_validation.py:680: DataConversionWarning: A column-vector y was passed when a 1d array was expected. Please change the shape of y to (n_samples,), for example using ravel().\n",
      "  estimator.fit(X_train, y_train, **fit_params)\n"
     ]
    },
    {
     "name": "stdout",
     "output_type": "stream",
     "text": [
      "[CV 3/5; 117/243] END max_depth=10, min_samples_leaf=4, min_samples_split=5, n_estimators=100, random_state=6;, score=0.649 total time=   0.5s\n",
      "[CV 4/5; 117/243] START max_depth=10, min_samples_leaf=4, min_samples_split=5, n_estimators=100, random_state=6\n"
     ]
    },
    {
     "name": "stderr",
     "output_type": "stream",
     "text": [
      "d:\\Apps\\Anaconda\\lib\\site-packages\\sklearn\\model_selection\\_validation.py:680: DataConversionWarning: A column-vector y was passed when a 1d array was expected. Please change the shape of y to (n_samples,), for example using ravel().\n",
      "  estimator.fit(X_train, y_train, **fit_params)\n"
     ]
    },
    {
     "name": "stdout",
     "output_type": "stream",
     "text": [
      "[CV 4/5; 117/243] END max_depth=10, min_samples_leaf=4, min_samples_split=5, n_estimators=100, random_state=6;, score=0.562 total time=   0.5s\n",
      "[CV 5/5; 117/243] START max_depth=10, min_samples_leaf=4, min_samples_split=5, n_estimators=100, random_state=6\n"
     ]
    },
    {
     "name": "stderr",
     "output_type": "stream",
     "text": [
      "d:\\Apps\\Anaconda\\lib\\site-packages\\sklearn\\model_selection\\_validation.py:680: DataConversionWarning: A column-vector y was passed when a 1d array was expected. Please change the shape of y to (n_samples,), for example using ravel().\n",
      "  estimator.fit(X_train, y_train, **fit_params)\n"
     ]
    },
    {
     "name": "stdout",
     "output_type": "stream",
     "text": [
      "[CV 5/5; 117/243] END max_depth=10, min_samples_leaf=4, min_samples_split=5, n_estimators=100, random_state=6;, score=0.596 total time=   0.5s\n",
      "[CV 1/5; 118/243] START max_depth=10, min_samples_leaf=4, min_samples_split=10, n_estimators=10, random_state=2\n",
      "[CV 1/5; 118/243] END max_depth=10, min_samples_leaf=4, min_samples_split=10, n_estimators=10, random_state=2;, score=0.728 total time=   0.0s\n",
      "[CV 2/5; 118/243] START max_depth=10, min_samples_leaf=4, min_samples_split=10, n_estimators=10, random_state=2\n",
      "[CV 2/5; 118/243] END max_depth=10, min_samples_leaf=4, min_samples_split=10, n_estimators=10, random_state=2;, score=0.792 total time=   0.0s\n",
      "[CV 3/5; 118/243] START max_depth=10, min_samples_leaf=4, min_samples_split=10, n_estimators=10, random_state=2\n",
      "[CV 3/5; 118/243] END max_depth=10, min_samples_leaf=4, min_samples_split=10, n_estimators=10, random_state=2;, score=0.633 total time=   0.0s\n",
      "[CV 4/5; 118/243] START max_depth=10, min_samples_leaf=4, min_samples_split=10, n_estimators=10, random_state=2\n"
     ]
    },
    {
     "name": "stderr",
     "output_type": "stream",
     "text": [
      "d:\\Apps\\Anaconda\\lib\\site-packages\\sklearn\\model_selection\\_validation.py:680: DataConversionWarning: A column-vector y was passed when a 1d array was expected. Please change the shape of y to (n_samples,), for example using ravel().\n",
      "  estimator.fit(X_train, y_train, **fit_params)\n",
      "d:\\Apps\\Anaconda\\lib\\site-packages\\sklearn\\model_selection\\_validation.py:680: DataConversionWarning: A column-vector y was passed when a 1d array was expected. Please change the shape of y to (n_samples,), for example using ravel().\n",
      "  estimator.fit(X_train, y_train, **fit_params)\n",
      "d:\\Apps\\Anaconda\\lib\\site-packages\\sklearn\\model_selection\\_validation.py:680: DataConversionWarning: A column-vector y was passed when a 1d array was expected. Please change the shape of y to (n_samples,), for example using ravel().\n",
      "  estimator.fit(X_train, y_train, **fit_params)\n",
      "d:\\Apps\\Anaconda\\lib\\site-packages\\sklearn\\model_selection\\_validation.py:680: DataConversionWarning: A column-vector y was passed when a 1d array was expected. Please change the shape of y to (n_samples,), for example using ravel().\n",
      "  estimator.fit(X_train, y_train, **fit_params)\n",
      "d:\\Apps\\Anaconda\\lib\\site-packages\\sklearn\\model_selection\\_validation.py:680: DataConversionWarning: A column-vector y was passed when a 1d array was expected. Please change the shape of y to (n_samples,), for example using ravel().\n",
      "  estimator.fit(X_train, y_train, **fit_params)\n",
      "d:\\Apps\\Anaconda\\lib\\site-packages\\sklearn\\model_selection\\_validation.py:680: DataConversionWarning: A column-vector y was passed when a 1d array was expected. Please change the shape of y to (n_samples,), for example using ravel().\n",
      "  estimator.fit(X_train, y_train, **fit_params)\n"
     ]
    },
    {
     "name": "stdout",
     "output_type": "stream",
     "text": [
      "[CV 4/5; 118/243] END max_depth=10, min_samples_leaf=4, min_samples_split=10, n_estimators=10, random_state=2;, score=0.481 total time=   0.0s\n",
      "[CV 5/5; 118/243] START max_depth=10, min_samples_leaf=4, min_samples_split=10, n_estimators=10, random_state=2\n",
      "[CV 5/5; 118/243] END max_depth=10, min_samples_leaf=4, min_samples_split=10, n_estimators=10, random_state=2;, score=0.556 total time=   0.0s\n",
      "[CV 1/5; 119/243] START max_depth=10, min_samples_leaf=4, min_samples_split=10, n_estimators=10, random_state=4\n",
      "[CV 1/5; 119/243] END max_depth=10, min_samples_leaf=4, min_samples_split=10, n_estimators=10, random_state=4;, score=0.740 total time=   0.0s\n",
      "[CV 2/5; 119/243] START max_depth=10, min_samples_leaf=4, min_samples_split=10, n_estimators=10, random_state=4\n",
      "[CV 2/5; 119/243] END max_depth=10, min_samples_leaf=4, min_samples_split=10, n_estimators=10, random_state=4;, score=0.752 total time=   0.0s\n"
     ]
    },
    {
     "name": "stderr",
     "output_type": "stream",
     "text": [
      "d:\\Apps\\Anaconda\\lib\\site-packages\\sklearn\\model_selection\\_validation.py:680: DataConversionWarning: A column-vector y was passed when a 1d array was expected. Please change the shape of y to (n_samples,), for example using ravel().\n",
      "  estimator.fit(X_train, y_train, **fit_params)\n",
      "d:\\Apps\\Anaconda\\lib\\site-packages\\sklearn\\model_selection\\_validation.py:680: DataConversionWarning: A column-vector y was passed when a 1d array was expected. Please change the shape of y to (n_samples,), for example using ravel().\n",
      "  estimator.fit(X_train, y_train, **fit_params)\n",
      "d:\\Apps\\Anaconda\\lib\\site-packages\\sklearn\\model_selection\\_validation.py:680: DataConversionWarning: A column-vector y was passed when a 1d array was expected. Please change the shape of y to (n_samples,), for example using ravel().\n",
      "  estimator.fit(X_train, y_train, **fit_params)\n"
     ]
    },
    {
     "name": "stdout",
     "output_type": "stream",
     "text": [
      "[CV 3/5; 119/243] START max_depth=10, min_samples_leaf=4, min_samples_split=10, n_estimators=10, random_state=4\n",
      "[CV 3/5; 119/243] END max_depth=10, min_samples_leaf=4, min_samples_split=10, n_estimators=10, random_state=4;, score=0.614 total time=   0.0s\n",
      "[CV 4/5; 119/243] START max_depth=10, min_samples_leaf=4, min_samples_split=10, n_estimators=10, random_state=4\n",
      "[CV 4/5; 119/243] END max_depth=10, min_samples_leaf=4, min_samples_split=10, n_estimators=10, random_state=4;, score=0.553 total time=   0.0s\n",
      "[CV 5/5; 119/243] START max_depth=10, min_samples_leaf=4, min_samples_split=10, n_estimators=10, random_state=4\n"
     ]
    },
    {
     "name": "stderr",
     "output_type": "stream",
     "text": [
      "d:\\Apps\\Anaconda\\lib\\site-packages\\sklearn\\model_selection\\_validation.py:680: DataConversionWarning: A column-vector y was passed when a 1d array was expected. Please change the shape of y to (n_samples,), for example using ravel().\n",
      "  estimator.fit(X_train, y_train, **fit_params)\n",
      "d:\\Apps\\Anaconda\\lib\\site-packages\\sklearn\\model_selection\\_validation.py:680: DataConversionWarning: A column-vector y was passed when a 1d array was expected. Please change the shape of y to (n_samples,), for example using ravel().\n",
      "  estimator.fit(X_train, y_train, **fit_params)\n",
      "d:\\Apps\\Anaconda\\lib\\site-packages\\sklearn\\model_selection\\_validation.py:680: DataConversionWarning: A column-vector y was passed when a 1d array was expected. Please change the shape of y to (n_samples,), for example using ravel().\n",
      "  estimator.fit(X_train, y_train, **fit_params)\n"
     ]
    },
    {
     "name": "stdout",
     "output_type": "stream",
     "text": [
      "[CV 5/5; 119/243] END max_depth=10, min_samples_leaf=4, min_samples_split=10, n_estimators=10, random_state=4;, score=0.599 total time=   0.0s\n",
      "[CV 1/5; 120/243] START max_depth=10, min_samples_leaf=4, min_samples_split=10, n_estimators=10, random_state=6\n",
      "[CV 1/5; 120/243] END max_depth=10, min_samples_leaf=4, min_samples_split=10, n_estimators=10, random_state=6;, score=0.777 total time=   0.0s\n",
      "[CV 2/5; 120/243] START max_depth=10, min_samples_leaf=4, min_samples_split=10, n_estimators=10, random_state=6\n",
      "[CV 2/5; 120/243] END max_depth=10, min_samples_leaf=4, min_samples_split=10, n_estimators=10, random_state=6;, score=0.731 total time=   0.0s\n",
      "[CV 3/5; 120/243] START max_depth=10, min_samples_leaf=4, min_samples_split=10, n_estimators=10, random_state=6\n"
     ]
    },
    {
     "name": "stderr",
     "output_type": "stream",
     "text": [
      "d:\\Apps\\Anaconda\\lib\\site-packages\\sklearn\\model_selection\\_validation.py:680: DataConversionWarning: A column-vector y was passed when a 1d array was expected. Please change the shape of y to (n_samples,), for example using ravel().\n",
      "  estimator.fit(X_train, y_train, **fit_params)\n",
      "d:\\Apps\\Anaconda\\lib\\site-packages\\sklearn\\model_selection\\_validation.py:680: DataConversionWarning: A column-vector y was passed when a 1d array was expected. Please change the shape of y to (n_samples,), for example using ravel().\n",
      "  estimator.fit(X_train, y_train, **fit_params)\n",
      "d:\\Apps\\Anaconda\\lib\\site-packages\\sklearn\\model_selection\\_validation.py:680: DataConversionWarning: A column-vector y was passed when a 1d array was expected. Please change the shape of y to (n_samples,), for example using ravel().\n",
      "  estimator.fit(X_train, y_train, **fit_params)\n"
     ]
    },
    {
     "name": "stdout",
     "output_type": "stream",
     "text": [
      "[CV 3/5; 120/243] END max_depth=10, min_samples_leaf=4, min_samples_split=10, n_estimators=10, random_state=6;, score=0.656 total time=   0.0s\n",
      "[CV 4/5; 120/243] START max_depth=10, min_samples_leaf=4, min_samples_split=10, n_estimators=10, random_state=6\n",
      "[CV 4/5; 120/243] END max_depth=10, min_samples_leaf=4, min_samples_split=10, n_estimators=10, random_state=6;, score=0.484 total time=   0.0s\n",
      "[CV 5/5; 120/243] START max_depth=10, min_samples_leaf=4, min_samples_split=10, n_estimators=10, random_state=6\n",
      "[CV 5/5; 120/243] END max_depth=10, min_samples_leaf=4, min_samples_split=10, n_estimators=10, random_state=6;, score=0.588 total time=   0.0s\n",
      "[CV 1/5; 121/243] START max_depth=10, min_samples_leaf=4, min_samples_split=10, n_estimators=50, random_state=2\n"
     ]
    },
    {
     "name": "stderr",
     "output_type": "stream",
     "text": [
      "d:\\Apps\\Anaconda\\lib\\site-packages\\sklearn\\model_selection\\_validation.py:680: DataConversionWarning: A column-vector y was passed when a 1d array was expected. Please change the shape of y to (n_samples,), for example using ravel().\n",
      "  estimator.fit(X_train, y_train, **fit_params)\n"
     ]
    },
    {
     "name": "stdout",
     "output_type": "stream",
     "text": [
      "[CV 1/5; 121/243] END max_depth=10, min_samples_leaf=4, min_samples_split=10, n_estimators=50, random_state=2;, score=0.737 total time=   0.2s\n",
      "[CV 2/5; 121/243] START max_depth=10, min_samples_leaf=4, min_samples_split=10, n_estimators=50, random_state=2\n"
     ]
    },
    {
     "name": "stderr",
     "output_type": "stream",
     "text": [
      "d:\\Apps\\Anaconda\\lib\\site-packages\\sklearn\\model_selection\\_validation.py:680: DataConversionWarning: A column-vector y was passed when a 1d array was expected. Please change the shape of y to (n_samples,), for example using ravel().\n",
      "  estimator.fit(X_train, y_train, **fit_params)\n"
     ]
    },
    {
     "name": "stdout",
     "output_type": "stream",
     "text": [
      "[CV 2/5; 121/243] END max_depth=10, min_samples_leaf=4, min_samples_split=10, n_estimators=50, random_state=2;, score=0.788 total time=   0.2s\n",
      "[CV 3/5; 121/243] START max_depth=10, min_samples_leaf=4, min_samples_split=10, n_estimators=50, random_state=2\n"
     ]
    },
    {
     "name": "stderr",
     "output_type": "stream",
     "text": [
      "d:\\Apps\\Anaconda\\lib\\site-packages\\sklearn\\model_selection\\_validation.py:680: DataConversionWarning: A column-vector y was passed when a 1d array was expected. Please change the shape of y to (n_samples,), for example using ravel().\n",
      "  estimator.fit(X_train, y_train, **fit_params)\n"
     ]
    },
    {
     "name": "stdout",
     "output_type": "stream",
     "text": [
      "[CV 3/5; 121/243] END max_depth=10, min_samples_leaf=4, min_samples_split=10, n_estimators=50, random_state=2;, score=0.671 total time=   0.2s\n",
      "[CV 4/5; 121/243] START max_depth=10, min_samples_leaf=4, min_samples_split=10, n_estimators=50, random_state=2\n"
     ]
    },
    {
     "name": "stderr",
     "output_type": "stream",
     "text": [
      "d:\\Apps\\Anaconda\\lib\\site-packages\\sklearn\\model_selection\\_validation.py:680: DataConversionWarning: A column-vector y was passed when a 1d array was expected. Please change the shape of y to (n_samples,), for example using ravel().\n",
      "  estimator.fit(X_train, y_train, **fit_params)\n"
     ]
    },
    {
     "name": "stdout",
     "output_type": "stream",
     "text": [
      "[CV 4/5; 121/243] END max_depth=10, min_samples_leaf=4, min_samples_split=10, n_estimators=50, random_state=2;, score=0.543 total time=   0.2s\n",
      "[CV 5/5; 121/243] START max_depth=10, min_samples_leaf=4, min_samples_split=10, n_estimators=50, random_state=2\n"
     ]
    },
    {
     "name": "stderr",
     "output_type": "stream",
     "text": [
      "d:\\Apps\\Anaconda\\lib\\site-packages\\sklearn\\model_selection\\_validation.py:680: DataConversionWarning: A column-vector y was passed when a 1d array was expected. Please change the shape of y to (n_samples,), for example using ravel().\n",
      "  estimator.fit(X_train, y_train, **fit_params)\n"
     ]
    },
    {
     "name": "stdout",
     "output_type": "stream",
     "text": [
      "[CV 5/5; 121/243] END max_depth=10, min_samples_leaf=4, min_samples_split=10, n_estimators=50, random_state=2;, score=0.568 total time=   0.2s\n",
      "[CV 1/5; 122/243] START max_depth=10, min_samples_leaf=4, min_samples_split=10, n_estimators=50, random_state=4\n"
     ]
    },
    {
     "name": "stderr",
     "output_type": "stream",
     "text": [
      "d:\\Apps\\Anaconda\\lib\\site-packages\\sklearn\\model_selection\\_validation.py:680: DataConversionWarning: A column-vector y was passed when a 1d array was expected. Please change the shape of y to (n_samples,), for example using ravel().\n",
      "  estimator.fit(X_train, y_train, **fit_params)\n"
     ]
    },
    {
     "name": "stdout",
     "output_type": "stream",
     "text": [
      "[CV 1/5; 122/243] END max_depth=10, min_samples_leaf=4, min_samples_split=10, n_estimators=50, random_state=4;, score=0.720 total time=   0.2s\n",
      "[CV 2/5; 122/243] START max_depth=10, min_samples_leaf=4, min_samples_split=10, n_estimators=50, random_state=4\n"
     ]
    },
    {
     "name": "stderr",
     "output_type": "stream",
     "text": [
      "d:\\Apps\\Anaconda\\lib\\site-packages\\sklearn\\model_selection\\_validation.py:680: DataConversionWarning: A column-vector y was passed when a 1d array was expected. Please change the shape of y to (n_samples,), for example using ravel().\n",
      "  estimator.fit(X_train, y_train, **fit_params)\n"
     ]
    },
    {
     "name": "stdout",
     "output_type": "stream",
     "text": [
      "[CV 2/5; 122/243] END max_depth=10, min_samples_leaf=4, min_samples_split=10, n_estimators=50, random_state=4;, score=0.783 total time=   0.2s\n",
      "[CV 3/5; 122/243] START max_depth=10, min_samples_leaf=4, min_samples_split=10, n_estimators=50, random_state=4\n"
     ]
    },
    {
     "name": "stderr",
     "output_type": "stream",
     "text": [
      "d:\\Apps\\Anaconda\\lib\\site-packages\\sklearn\\model_selection\\_validation.py:680: DataConversionWarning: A column-vector y was passed when a 1d array was expected. Please change the shape of y to (n_samples,), for example using ravel().\n",
      "  estimator.fit(X_train, y_train, **fit_params)\n"
     ]
    },
    {
     "name": "stdout",
     "output_type": "stream",
     "text": [
      "[CV 3/5; 122/243] END max_depth=10, min_samples_leaf=4, min_samples_split=10, n_estimators=50, random_state=4;, score=0.634 total time=   0.2s\n",
      "[CV 4/5; 122/243] START max_depth=10, min_samples_leaf=4, min_samples_split=10, n_estimators=50, random_state=4\n"
     ]
    },
    {
     "name": "stderr",
     "output_type": "stream",
     "text": [
      "d:\\Apps\\Anaconda\\lib\\site-packages\\sklearn\\model_selection\\_validation.py:680: DataConversionWarning: A column-vector y was passed when a 1d array was expected. Please change the shape of y to (n_samples,), for example using ravel().\n",
      "  estimator.fit(X_train, y_train, **fit_params)\n"
     ]
    },
    {
     "name": "stdout",
     "output_type": "stream",
     "text": [
      "[CV 4/5; 122/243] END max_depth=10, min_samples_leaf=4, min_samples_split=10, n_estimators=50, random_state=4;, score=0.599 total time=   0.2s\n",
      "[CV 5/5; 122/243] START max_depth=10, min_samples_leaf=4, min_samples_split=10, n_estimators=50, random_state=4\n"
     ]
    },
    {
     "name": "stderr",
     "output_type": "stream",
     "text": [
      "d:\\Apps\\Anaconda\\lib\\site-packages\\sklearn\\model_selection\\_validation.py:680: DataConversionWarning: A column-vector y was passed when a 1d array was expected. Please change the shape of y to (n_samples,), for example using ravel().\n",
      "  estimator.fit(X_train, y_train, **fit_params)\n"
     ]
    },
    {
     "name": "stdout",
     "output_type": "stream",
     "text": [
      "[CV 5/5; 122/243] END max_depth=10, min_samples_leaf=4, min_samples_split=10, n_estimators=50, random_state=4;, score=0.580 total time=   0.2s\n",
      "[CV 1/5; 123/243] START max_depth=10, min_samples_leaf=4, min_samples_split=10, n_estimators=50, random_state=6\n"
     ]
    },
    {
     "name": "stderr",
     "output_type": "stream",
     "text": [
      "d:\\Apps\\Anaconda\\lib\\site-packages\\sklearn\\model_selection\\_validation.py:680: DataConversionWarning: A column-vector y was passed when a 1d array was expected. Please change the shape of y to (n_samples,), for example using ravel().\n",
      "  estimator.fit(X_train, y_train, **fit_params)\n"
     ]
    },
    {
     "name": "stdout",
     "output_type": "stream",
     "text": [
      "[CV 1/5; 123/243] END max_depth=10, min_samples_leaf=4, min_samples_split=10, n_estimators=50, random_state=6;, score=0.772 total time=   0.2s\n",
      "[CV 2/5; 123/243] START max_depth=10, min_samples_leaf=4, min_samples_split=10, n_estimators=50, random_state=6\n"
     ]
    },
    {
     "name": "stderr",
     "output_type": "stream",
     "text": [
      "d:\\Apps\\Anaconda\\lib\\site-packages\\sklearn\\model_selection\\_validation.py:680: DataConversionWarning: A column-vector y was passed when a 1d array was expected. Please change the shape of y to (n_samples,), for example using ravel().\n",
      "  estimator.fit(X_train, y_train, **fit_params)\n"
     ]
    },
    {
     "name": "stdout",
     "output_type": "stream",
     "text": [
      "[CV 2/5; 123/243] END max_depth=10, min_samples_leaf=4, min_samples_split=10, n_estimators=50, random_state=6;, score=0.775 total time=   0.2s\n",
      "[CV 3/5; 123/243] START max_depth=10, min_samples_leaf=4, min_samples_split=10, n_estimators=50, random_state=6\n"
     ]
    },
    {
     "name": "stderr",
     "output_type": "stream",
     "text": [
      "d:\\Apps\\Anaconda\\lib\\site-packages\\sklearn\\model_selection\\_validation.py:680: DataConversionWarning: A column-vector y was passed when a 1d array was expected. Please change the shape of y to (n_samples,), for example using ravel().\n",
      "  estimator.fit(X_train, y_train, **fit_params)\n"
     ]
    },
    {
     "name": "stdout",
     "output_type": "stream",
     "text": [
      "[CV 3/5; 123/243] END max_depth=10, min_samples_leaf=4, min_samples_split=10, n_estimators=50, random_state=6;, score=0.642 total time=   0.2s\n",
      "[CV 4/5; 123/243] START max_depth=10, min_samples_leaf=4, min_samples_split=10, n_estimators=50, random_state=6\n"
     ]
    },
    {
     "name": "stderr",
     "output_type": "stream",
     "text": [
      "d:\\Apps\\Anaconda\\lib\\site-packages\\sklearn\\model_selection\\_validation.py:680: DataConversionWarning: A column-vector y was passed when a 1d array was expected. Please change the shape of y to (n_samples,), for example using ravel().\n",
      "  estimator.fit(X_train, y_train, **fit_params)\n"
     ]
    },
    {
     "name": "stdout",
     "output_type": "stream",
     "text": [
      "[CV 4/5; 123/243] END max_depth=10, min_samples_leaf=4, min_samples_split=10, n_estimators=50, random_state=6;, score=0.523 total time=   0.2s\n",
      "[CV 5/5; 123/243] START max_depth=10, min_samples_leaf=4, min_samples_split=10, n_estimators=50, random_state=6\n"
     ]
    },
    {
     "name": "stderr",
     "output_type": "stream",
     "text": [
      "d:\\Apps\\Anaconda\\lib\\site-packages\\sklearn\\model_selection\\_validation.py:680: DataConversionWarning: A column-vector y was passed when a 1d array was expected. Please change the shape of y to (n_samples,), for example using ravel().\n",
      "  estimator.fit(X_train, y_train, **fit_params)\n"
     ]
    },
    {
     "name": "stdout",
     "output_type": "stream",
     "text": [
      "[CV 5/5; 123/243] END max_depth=10, min_samples_leaf=4, min_samples_split=10, n_estimators=50, random_state=6;, score=0.591 total time=   0.2s\n",
      "[CV 1/5; 124/243] START max_depth=10, min_samples_leaf=4, min_samples_split=10, n_estimators=100, random_state=2\n"
     ]
    },
    {
     "name": "stderr",
     "output_type": "stream",
     "text": [
      "d:\\Apps\\Anaconda\\lib\\site-packages\\sklearn\\model_selection\\_validation.py:680: DataConversionWarning: A column-vector y was passed when a 1d array was expected. Please change the shape of y to (n_samples,), for example using ravel().\n",
      "  estimator.fit(X_train, y_train, **fit_params)\n"
     ]
    },
    {
     "name": "stdout",
     "output_type": "stream",
     "text": [
      "[CV 1/5; 124/243] END max_depth=10, min_samples_leaf=4, min_samples_split=10, n_estimators=100, random_state=2;, score=0.738 total time=   0.5s\n",
      "[CV 2/5; 124/243] START max_depth=10, min_samples_leaf=4, min_samples_split=10, n_estimators=100, random_state=2\n"
     ]
    },
    {
     "name": "stderr",
     "output_type": "stream",
     "text": [
      "d:\\Apps\\Anaconda\\lib\\site-packages\\sklearn\\model_selection\\_validation.py:680: DataConversionWarning: A column-vector y was passed when a 1d array was expected. Please change the shape of y to (n_samples,), for example using ravel().\n",
      "  estimator.fit(X_train, y_train, **fit_params)\n"
     ]
    },
    {
     "name": "stdout",
     "output_type": "stream",
     "text": [
      "[CV 2/5; 124/243] END max_depth=10, min_samples_leaf=4, min_samples_split=10, n_estimators=100, random_state=2;, score=0.780 total time=   0.5s\n",
      "[CV 3/5; 124/243] START max_depth=10, min_samples_leaf=4, min_samples_split=10, n_estimators=100, random_state=2\n"
     ]
    },
    {
     "name": "stderr",
     "output_type": "stream",
     "text": [
      "d:\\Apps\\Anaconda\\lib\\site-packages\\sklearn\\model_selection\\_validation.py:680: DataConversionWarning: A column-vector y was passed when a 1d array was expected. Please change the shape of y to (n_samples,), for example using ravel().\n",
      "  estimator.fit(X_train, y_train, **fit_params)\n"
     ]
    },
    {
     "name": "stdout",
     "output_type": "stream",
     "text": [
      "[CV 3/5; 124/243] END max_depth=10, min_samples_leaf=4, min_samples_split=10, n_estimators=100, random_state=2;, score=0.654 total time=   0.5s\n",
      "[CV 4/5; 124/243] START max_depth=10, min_samples_leaf=4, min_samples_split=10, n_estimators=100, random_state=2\n"
     ]
    },
    {
     "name": "stderr",
     "output_type": "stream",
     "text": [
      "d:\\Apps\\Anaconda\\lib\\site-packages\\sklearn\\model_selection\\_validation.py:680: DataConversionWarning: A column-vector y was passed when a 1d array was expected. Please change the shape of y to (n_samples,), for example using ravel().\n",
      "  estimator.fit(X_train, y_train, **fit_params)\n"
     ]
    },
    {
     "name": "stdout",
     "output_type": "stream",
     "text": [
      "[CV 4/5; 124/243] END max_depth=10, min_samples_leaf=4, min_samples_split=10, n_estimators=100, random_state=2;, score=0.581 total time=   0.5s\n",
      "[CV 5/5; 124/243] START max_depth=10, min_samples_leaf=4, min_samples_split=10, n_estimators=100, random_state=2\n"
     ]
    },
    {
     "name": "stderr",
     "output_type": "stream",
     "text": [
      "d:\\Apps\\Anaconda\\lib\\site-packages\\sklearn\\model_selection\\_validation.py:680: DataConversionWarning: A column-vector y was passed when a 1d array was expected. Please change the shape of y to (n_samples,), for example using ravel().\n",
      "  estimator.fit(X_train, y_train, **fit_params)\n"
     ]
    },
    {
     "name": "stdout",
     "output_type": "stream",
     "text": [
      "[CV 5/5; 124/243] END max_depth=10, min_samples_leaf=4, min_samples_split=10, n_estimators=100, random_state=2;, score=0.582 total time=   0.5s\n",
      "[CV 1/5; 125/243] START max_depth=10, min_samples_leaf=4, min_samples_split=10, n_estimators=100, random_state=4\n"
     ]
    },
    {
     "name": "stderr",
     "output_type": "stream",
     "text": [
      "d:\\Apps\\Anaconda\\lib\\site-packages\\sklearn\\model_selection\\_validation.py:680: DataConversionWarning: A column-vector y was passed when a 1d array was expected. Please change the shape of y to (n_samples,), for example using ravel().\n",
      "  estimator.fit(X_train, y_train, **fit_params)\n"
     ]
    },
    {
     "name": "stdout",
     "output_type": "stream",
     "text": [
      "[CV 1/5; 125/243] END max_depth=10, min_samples_leaf=4, min_samples_split=10, n_estimators=100, random_state=4;, score=0.747 total time=   0.5s\n",
      "[CV 2/5; 125/243] START max_depth=10, min_samples_leaf=4, min_samples_split=10, n_estimators=100, random_state=4\n"
     ]
    },
    {
     "name": "stderr",
     "output_type": "stream",
     "text": [
      "d:\\Apps\\Anaconda\\lib\\site-packages\\sklearn\\model_selection\\_validation.py:680: DataConversionWarning: A column-vector y was passed when a 1d array was expected. Please change the shape of y to (n_samples,), for example using ravel().\n",
      "  estimator.fit(X_train, y_train, **fit_params)\n"
     ]
    },
    {
     "name": "stdout",
     "output_type": "stream",
     "text": [
      "[CV 2/5; 125/243] END max_depth=10, min_samples_leaf=4, min_samples_split=10, n_estimators=100, random_state=4;, score=0.785 total time=   0.5s\n",
      "[CV 3/5; 125/243] START max_depth=10, min_samples_leaf=4, min_samples_split=10, n_estimators=100, random_state=4\n"
     ]
    },
    {
     "name": "stderr",
     "output_type": "stream",
     "text": [
      "d:\\Apps\\Anaconda\\lib\\site-packages\\sklearn\\model_selection\\_validation.py:680: DataConversionWarning: A column-vector y was passed when a 1d array was expected. Please change the shape of y to (n_samples,), for example using ravel().\n",
      "  estimator.fit(X_train, y_train, **fit_params)\n"
     ]
    },
    {
     "name": "stdout",
     "output_type": "stream",
     "text": [
      "[CV 3/5; 125/243] END max_depth=10, min_samples_leaf=4, min_samples_split=10, n_estimators=100, random_state=4;, score=0.653 total time=   0.5s\n",
      "[CV 4/5; 125/243] START max_depth=10, min_samples_leaf=4, min_samples_split=10, n_estimators=100, random_state=4\n"
     ]
    },
    {
     "name": "stderr",
     "output_type": "stream",
     "text": [
      "d:\\Apps\\Anaconda\\lib\\site-packages\\sklearn\\model_selection\\_validation.py:680: DataConversionWarning: A column-vector y was passed when a 1d array was expected. Please change the shape of y to (n_samples,), for example using ravel().\n",
      "  estimator.fit(X_train, y_train, **fit_params)\n"
     ]
    },
    {
     "name": "stdout",
     "output_type": "stream",
     "text": [
      "[CV 4/5; 125/243] END max_depth=10, min_samples_leaf=4, min_samples_split=10, n_estimators=100, random_state=4;, score=0.582 total time=   0.5s\n",
      "[CV 5/5; 125/243] START max_depth=10, min_samples_leaf=4, min_samples_split=10, n_estimators=100, random_state=4\n"
     ]
    },
    {
     "name": "stderr",
     "output_type": "stream",
     "text": [
      "d:\\Apps\\Anaconda\\lib\\site-packages\\sklearn\\model_selection\\_validation.py:680: DataConversionWarning: A column-vector y was passed when a 1d array was expected. Please change the shape of y to (n_samples,), for example using ravel().\n",
      "  estimator.fit(X_train, y_train, **fit_params)\n"
     ]
    },
    {
     "name": "stdout",
     "output_type": "stream",
     "text": [
      "[CV 5/5; 125/243] END max_depth=10, min_samples_leaf=4, min_samples_split=10, n_estimators=100, random_state=4;, score=0.585 total time=   0.5s\n",
      "[CV 1/5; 126/243] START max_depth=10, min_samples_leaf=4, min_samples_split=10, n_estimators=100, random_state=6\n"
     ]
    },
    {
     "name": "stderr",
     "output_type": "stream",
     "text": [
      "d:\\Apps\\Anaconda\\lib\\site-packages\\sklearn\\model_selection\\_validation.py:680: DataConversionWarning: A column-vector y was passed when a 1d array was expected. Please change the shape of y to (n_samples,), for example using ravel().\n",
      "  estimator.fit(X_train, y_train, **fit_params)\n"
     ]
    },
    {
     "name": "stdout",
     "output_type": "stream",
     "text": [
      "[CV 1/5; 126/243] END max_depth=10, min_samples_leaf=4, min_samples_split=10, n_estimators=100, random_state=6;, score=0.763 total time=   0.5s\n",
      "[CV 2/5; 126/243] START max_depth=10, min_samples_leaf=4, min_samples_split=10, n_estimators=100, random_state=6\n"
     ]
    },
    {
     "name": "stderr",
     "output_type": "stream",
     "text": [
      "d:\\Apps\\Anaconda\\lib\\site-packages\\sklearn\\model_selection\\_validation.py:680: DataConversionWarning: A column-vector y was passed when a 1d array was expected. Please change the shape of y to (n_samples,), for example using ravel().\n",
      "  estimator.fit(X_train, y_train, **fit_params)\n"
     ]
    },
    {
     "name": "stdout",
     "output_type": "stream",
     "text": [
      "[CV 2/5; 126/243] END max_depth=10, min_samples_leaf=4, min_samples_split=10, n_estimators=100, random_state=6;, score=0.772 total time=   0.5s\n",
      "[CV 3/5; 126/243] START max_depth=10, min_samples_leaf=4, min_samples_split=10, n_estimators=100, random_state=6\n"
     ]
    },
    {
     "name": "stderr",
     "output_type": "stream",
     "text": [
      "d:\\Apps\\Anaconda\\lib\\site-packages\\sklearn\\model_selection\\_validation.py:680: DataConversionWarning: A column-vector y was passed when a 1d array was expected. Please change the shape of y to (n_samples,), for example using ravel().\n",
      "  estimator.fit(X_train, y_train, **fit_params)\n"
     ]
    },
    {
     "name": "stdout",
     "output_type": "stream",
     "text": [
      "[CV 3/5; 126/243] END max_depth=10, min_samples_leaf=4, min_samples_split=10, n_estimators=100, random_state=6;, score=0.644 total time=   0.5s\n",
      "[CV 4/5; 126/243] START max_depth=10, min_samples_leaf=4, min_samples_split=10, n_estimators=100, random_state=6\n"
     ]
    },
    {
     "name": "stderr",
     "output_type": "stream",
     "text": [
      "d:\\Apps\\Anaconda\\lib\\site-packages\\sklearn\\model_selection\\_validation.py:680: DataConversionWarning: A column-vector y was passed when a 1d array was expected. Please change the shape of y to (n_samples,), for example using ravel().\n",
      "  estimator.fit(X_train, y_train, **fit_params)\n"
     ]
    },
    {
     "name": "stdout",
     "output_type": "stream",
     "text": [
      "[CV 4/5; 126/243] END max_depth=10, min_samples_leaf=4, min_samples_split=10, n_estimators=100, random_state=6;, score=0.563 total time=   0.5s\n",
      "[CV 5/5; 126/243] START max_depth=10, min_samples_leaf=4, min_samples_split=10, n_estimators=100, random_state=6\n"
     ]
    },
    {
     "name": "stderr",
     "output_type": "stream",
     "text": [
      "d:\\Apps\\Anaconda\\lib\\site-packages\\sklearn\\model_selection\\_validation.py:680: DataConversionWarning: A column-vector y was passed when a 1d array was expected. Please change the shape of y to (n_samples,), for example using ravel().\n",
      "  estimator.fit(X_train, y_train, **fit_params)\n"
     ]
    },
    {
     "name": "stdout",
     "output_type": "stream",
     "text": [
      "[CV 5/5; 126/243] END max_depth=10, min_samples_leaf=4, min_samples_split=10, n_estimators=100, random_state=6;, score=0.591 total time=   0.5s\n",
      "[CV 1/5; 127/243] START max_depth=10, min_samples_leaf=4, min_samples_split=15, n_estimators=10, random_state=2\n",
      "[CV 1/5; 127/243] END max_depth=10, min_samples_leaf=4, min_samples_split=15, n_estimators=10, random_state=2;, score=0.770 total time=   0.0s\n",
      "[CV 2/5; 127/243] START max_depth=10, min_samples_leaf=4, min_samples_split=15, n_estimators=10, random_state=2\n",
      "[CV 2/5; 127/243] END max_depth=10, min_samples_leaf=4, min_samples_split=15, n_estimators=10, random_state=2;, score=0.749 total time=   0.0s\n",
      "[CV 3/5; 127/243] START max_depth=10, min_samples_leaf=4, min_samples_split=15, n_estimators=10, random_state=2\n"
     ]
    },
    {
     "name": "stderr",
     "output_type": "stream",
     "text": [
      "d:\\Apps\\Anaconda\\lib\\site-packages\\sklearn\\model_selection\\_validation.py:680: DataConversionWarning: A column-vector y was passed when a 1d array was expected. Please change the shape of y to (n_samples,), for example using ravel().\n",
      "  estimator.fit(X_train, y_train, **fit_params)\n",
      "d:\\Apps\\Anaconda\\lib\\site-packages\\sklearn\\model_selection\\_validation.py:680: DataConversionWarning: A column-vector y was passed when a 1d array was expected. Please change the shape of y to (n_samples,), for example using ravel().\n",
      "  estimator.fit(X_train, y_train, **fit_params)\n",
      "d:\\Apps\\Anaconda\\lib\\site-packages\\sklearn\\model_selection\\_validation.py:680: DataConversionWarning: A column-vector y was passed when a 1d array was expected. Please change the shape of y to (n_samples,), for example using ravel().\n",
      "  estimator.fit(X_train, y_train, **fit_params)\n"
     ]
    },
    {
     "name": "stdout",
     "output_type": "stream",
     "text": [
      "[CV 3/5; 127/243] END max_depth=10, min_samples_leaf=4, min_samples_split=15, n_estimators=10, random_state=2;, score=0.624 total time=   0.0s\n",
      "[CV 4/5; 127/243] START max_depth=10, min_samples_leaf=4, min_samples_split=15, n_estimators=10, random_state=2\n",
      "[CV 4/5; 127/243] END max_depth=10, min_samples_leaf=4, min_samples_split=15, n_estimators=10, random_state=2;, score=0.461 total time=   0.0s\n",
      "[CV 5/5; 127/243] START max_depth=10, min_samples_leaf=4, min_samples_split=15, n_estimators=10, random_state=2\n",
      "[CV 5/5; 127/243] END max_depth=10, min_samples_leaf=4, min_samples_split=15, n_estimators=10, random_state=2;, score=0.523 total time=   0.0s\n",
      "[CV 1/5; 128/243] START max_depth=10, min_samples_leaf=4, min_samples_split=15, n_estimators=10, random_state=4\n",
      "[CV 1/5; 128/243] END max_depth=10, min_samples_leaf=4, min_samples_split=15, n_estimators=10, random_state=4;, score=0.757 total time=   0.0s\n",
      "[CV 2/5; 128/243] START max_depth=10, min_samples_leaf=4, min_samples_split=15, n_estimators=10, random_state=4\n"
     ]
    },
    {
     "name": "stderr",
     "output_type": "stream",
     "text": [
      "d:\\Apps\\Anaconda\\lib\\site-packages\\sklearn\\model_selection\\_validation.py:680: DataConversionWarning: A column-vector y was passed when a 1d array was expected. Please change the shape of y to (n_samples,), for example using ravel().\n",
      "  estimator.fit(X_train, y_train, **fit_params)\n",
      "d:\\Apps\\Anaconda\\lib\\site-packages\\sklearn\\model_selection\\_validation.py:680: DataConversionWarning: A column-vector y was passed when a 1d array was expected. Please change the shape of y to (n_samples,), for example using ravel().\n",
      "  estimator.fit(X_train, y_train, **fit_params)\n",
      "d:\\Apps\\Anaconda\\lib\\site-packages\\sklearn\\model_selection\\_validation.py:680: DataConversionWarning: A column-vector y was passed when a 1d array was expected. Please change the shape of y to (n_samples,), for example using ravel().\n",
      "  estimator.fit(X_train, y_train, **fit_params)\n",
      "d:\\Apps\\Anaconda\\lib\\site-packages\\sklearn\\model_selection\\_validation.py:680: DataConversionWarning: A column-vector y was passed when a 1d array was expected. Please change the shape of y to (n_samples,), for example using ravel().\n",
      "  estimator.fit(X_train, y_train, **fit_params)\n",
      "d:\\Apps\\Anaconda\\lib\\site-packages\\sklearn\\model_selection\\_validation.py:680: DataConversionWarning: A column-vector y was passed when a 1d array was expected. Please change the shape of y to (n_samples,), for example using ravel().\n",
      "  estimator.fit(X_train, y_train, **fit_params)\n",
      "d:\\Apps\\Anaconda\\lib\\site-packages\\sklearn\\model_selection\\_validation.py:680: DataConversionWarning: A column-vector y was passed when a 1d array was expected. Please change the shape of y to (n_samples,), for example using ravel().\n",
      "  estimator.fit(X_train, y_train, **fit_params)\n"
     ]
    },
    {
     "name": "stdout",
     "output_type": "stream",
     "text": [
      "[CV 2/5; 128/243] END max_depth=10, min_samples_leaf=4, min_samples_split=15, n_estimators=10, random_state=4;, score=0.734 total time=   0.0s\n",
      "[CV 3/5; 128/243] START max_depth=10, min_samples_leaf=4, min_samples_split=15, n_estimators=10, random_state=4\n",
      "[CV 3/5; 128/243] END max_depth=10, min_samples_leaf=4, min_samples_split=15, n_estimators=10, random_state=4;, score=0.594 total time=   0.0s\n",
      "[CV 4/5; 128/243] START max_depth=10, min_samples_leaf=4, min_samples_split=15, n_estimators=10, random_state=4\n",
      "[CV 4/5; 128/243] END max_depth=10, min_samples_leaf=4, min_samples_split=15, n_estimators=10, random_state=4;, score=0.552 total time=   0.0s\n",
      "[CV 5/5; 128/243] START max_depth=10, min_samples_leaf=4, min_samples_split=15, n_estimators=10, random_state=4\n"
     ]
    },
    {
     "name": "stderr",
     "output_type": "stream",
     "text": [
      "d:\\Apps\\Anaconda\\lib\\site-packages\\sklearn\\model_selection\\_validation.py:680: DataConversionWarning: A column-vector y was passed when a 1d array was expected. Please change the shape of y to (n_samples,), for example using ravel().\n",
      "  estimator.fit(X_train, y_train, **fit_params)\n",
      "d:\\Apps\\Anaconda\\lib\\site-packages\\sklearn\\model_selection\\_validation.py:680: DataConversionWarning: A column-vector y was passed when a 1d array was expected. Please change the shape of y to (n_samples,), for example using ravel().\n",
      "  estimator.fit(X_train, y_train, **fit_params)\n",
      "d:\\Apps\\Anaconda\\lib\\site-packages\\sklearn\\model_selection\\_validation.py:680: DataConversionWarning: A column-vector y was passed when a 1d array was expected. Please change the shape of y to (n_samples,), for example using ravel().\n",
      "  estimator.fit(X_train, y_train, **fit_params)\n"
     ]
    },
    {
     "name": "stdout",
     "output_type": "stream",
     "text": [
      "[CV 5/5; 128/243] END max_depth=10, min_samples_leaf=4, min_samples_split=15, n_estimators=10, random_state=4;, score=0.575 total time=   0.0s\n",
      "[CV 1/5; 129/243] START max_depth=10, min_samples_leaf=4, min_samples_split=15, n_estimators=10, random_state=6\n",
      "[CV 1/5; 129/243] END max_depth=10, min_samples_leaf=4, min_samples_split=15, n_estimators=10, random_state=6;, score=0.780 total time=   0.0s\n",
      "[CV 2/5; 129/243] START max_depth=10, min_samples_leaf=4, min_samples_split=15, n_estimators=10, random_state=6\n",
      "[CV 2/5; 129/243] END max_depth=10, min_samples_leaf=4, min_samples_split=15, n_estimators=10, random_state=6;, score=0.721 total time=   0.0s\n",
      "[CV 3/5; 129/243] START max_depth=10, min_samples_leaf=4, min_samples_split=15, n_estimators=10, random_state=6\n",
      "[CV 3/5; 129/243] END max_depth=10, min_samples_leaf=4, min_samples_split=15, n_estimators=10, random_state=6;, score=0.598 total time=   0.0s\n",
      "[CV 4/5; 129/243] START max_depth=10, min_samples_leaf=4, min_samples_split=15, n_estimators=10, random_state=6\n"
     ]
    },
    {
     "name": "stderr",
     "output_type": "stream",
     "text": [
      "d:\\Apps\\Anaconda\\lib\\site-packages\\sklearn\\model_selection\\_validation.py:680: DataConversionWarning: A column-vector y was passed when a 1d array was expected. Please change the shape of y to (n_samples,), for example using ravel().\n",
      "  estimator.fit(X_train, y_train, **fit_params)\n",
      "d:\\Apps\\Anaconda\\lib\\site-packages\\sklearn\\model_selection\\_validation.py:680: DataConversionWarning: A column-vector y was passed when a 1d array was expected. Please change the shape of y to (n_samples,), for example using ravel().\n",
      "  estimator.fit(X_train, y_train, **fit_params)\n",
      "d:\\Apps\\Anaconda\\lib\\site-packages\\sklearn\\model_selection\\_validation.py:680: DataConversionWarning: A column-vector y was passed when a 1d array was expected. Please change the shape of y to (n_samples,), for example using ravel().\n",
      "  estimator.fit(X_train, y_train, **fit_params)\n"
     ]
    },
    {
     "name": "stdout",
     "output_type": "stream",
     "text": [
      "[CV 4/5; 129/243] END max_depth=10, min_samples_leaf=4, min_samples_split=15, n_estimators=10, random_state=6;, score=0.483 total time=   0.0s\n",
      "[CV 5/5; 129/243] START max_depth=10, min_samples_leaf=4, min_samples_split=15, n_estimators=10, random_state=6\n",
      "[CV 5/5; 129/243] END max_depth=10, min_samples_leaf=4, min_samples_split=15, n_estimators=10, random_state=6;, score=0.539 total time=   0.0s\n",
      "[CV 1/5; 130/243] START max_depth=10, min_samples_leaf=4, min_samples_split=15, n_estimators=50, random_state=2\n"
     ]
    },
    {
     "name": "stderr",
     "output_type": "stream",
     "text": [
      "d:\\Apps\\Anaconda\\lib\\site-packages\\sklearn\\model_selection\\_validation.py:680: DataConversionWarning: A column-vector y was passed when a 1d array was expected. Please change the shape of y to (n_samples,), for example using ravel().\n",
      "  estimator.fit(X_train, y_train, **fit_params)\n"
     ]
    },
    {
     "name": "stdout",
     "output_type": "stream",
     "text": [
      "[CV 1/5; 130/243] END max_depth=10, min_samples_leaf=4, min_samples_split=15, n_estimators=50, random_state=2;, score=0.765 total time=   0.2s\n",
      "[CV 2/5; 130/243] START max_depth=10, min_samples_leaf=4, min_samples_split=15, n_estimators=50, random_state=2\n"
     ]
    },
    {
     "name": "stderr",
     "output_type": "stream",
     "text": [
      "d:\\Apps\\Anaconda\\lib\\site-packages\\sklearn\\model_selection\\_validation.py:680: DataConversionWarning: A column-vector y was passed when a 1d array was expected. Please change the shape of y to (n_samples,), for example using ravel().\n",
      "  estimator.fit(X_train, y_train, **fit_params)\n"
     ]
    },
    {
     "name": "stdout",
     "output_type": "stream",
     "text": [
      "[CV 2/5; 130/243] END max_depth=10, min_samples_leaf=4, min_samples_split=15, n_estimators=50, random_state=2;, score=0.761 total time=   0.2s\n",
      "[CV 3/5; 130/243] START max_depth=10, min_samples_leaf=4, min_samples_split=15, n_estimators=50, random_state=2\n"
     ]
    },
    {
     "name": "stderr",
     "output_type": "stream",
     "text": [
      "d:\\Apps\\Anaconda\\lib\\site-packages\\sklearn\\model_selection\\_validation.py:680: DataConversionWarning: A column-vector y was passed when a 1d array was expected. Please change the shape of y to (n_samples,), for example using ravel().\n",
      "  estimator.fit(X_train, y_train, **fit_params)\n"
     ]
    },
    {
     "name": "stdout",
     "output_type": "stream",
     "text": [
      "[CV 3/5; 130/243] END max_depth=10, min_samples_leaf=4, min_samples_split=15, n_estimators=50, random_state=2;, score=0.621 total time=   0.2s\n",
      "[CV 4/5; 130/243] START max_depth=10, min_samples_leaf=4, min_samples_split=15, n_estimators=50, random_state=2\n"
     ]
    },
    {
     "name": "stderr",
     "output_type": "stream",
     "text": [
      "d:\\Apps\\Anaconda\\lib\\site-packages\\sklearn\\model_selection\\_validation.py:680: DataConversionWarning: A column-vector y was passed when a 1d array was expected. Please change the shape of y to (n_samples,), for example using ravel().\n",
      "  estimator.fit(X_train, y_train, **fit_params)\n"
     ]
    },
    {
     "name": "stdout",
     "output_type": "stream",
     "text": [
      "[CV 4/5; 130/243] END max_depth=10, min_samples_leaf=4, min_samples_split=15, n_estimators=50, random_state=2;, score=0.542 total time=   0.2s\n",
      "[CV 5/5; 130/243] START max_depth=10, min_samples_leaf=4, min_samples_split=15, n_estimators=50, random_state=2\n"
     ]
    },
    {
     "name": "stderr",
     "output_type": "stream",
     "text": [
      "d:\\Apps\\Anaconda\\lib\\site-packages\\sklearn\\model_selection\\_validation.py:680: DataConversionWarning: A column-vector y was passed when a 1d array was expected. Please change the shape of y to (n_samples,), for example using ravel().\n",
      "  estimator.fit(X_train, y_train, **fit_params)\n"
     ]
    },
    {
     "name": "stdout",
     "output_type": "stream",
     "text": [
      "[CV 5/5; 130/243] END max_depth=10, min_samples_leaf=4, min_samples_split=15, n_estimators=50, random_state=2;, score=0.537 total time=   0.2s\n",
      "[CV 1/5; 131/243] START max_depth=10, min_samples_leaf=4, min_samples_split=15, n_estimators=50, random_state=4\n"
     ]
    },
    {
     "name": "stderr",
     "output_type": "stream",
     "text": [
      "d:\\Apps\\Anaconda\\lib\\site-packages\\sklearn\\model_selection\\_validation.py:680: DataConversionWarning: A column-vector y was passed when a 1d array was expected. Please change the shape of y to (n_samples,), for example using ravel().\n",
      "  estimator.fit(X_train, y_train, **fit_params)\n"
     ]
    },
    {
     "name": "stdout",
     "output_type": "stream",
     "text": [
      "[CV 1/5; 131/243] END max_depth=10, min_samples_leaf=4, min_samples_split=15, n_estimators=50, random_state=4;, score=0.715 total time=   0.2s\n",
      "[CV 2/5; 131/243] START max_depth=10, min_samples_leaf=4, min_samples_split=15, n_estimators=50, random_state=4\n"
     ]
    },
    {
     "name": "stderr",
     "output_type": "stream",
     "text": [
      "d:\\Apps\\Anaconda\\lib\\site-packages\\sklearn\\model_selection\\_validation.py:680: DataConversionWarning: A column-vector y was passed when a 1d array was expected. Please change the shape of y to (n_samples,), for example using ravel().\n",
      "  estimator.fit(X_train, y_train, **fit_params)\n"
     ]
    },
    {
     "name": "stdout",
     "output_type": "stream",
     "text": [
      "[CV 2/5; 131/243] END max_depth=10, min_samples_leaf=4, min_samples_split=15, n_estimators=50, random_state=4;, score=0.764 total time=   0.2s\n",
      "[CV 3/5; 131/243] START max_depth=10, min_samples_leaf=4, min_samples_split=15, n_estimators=50, random_state=4\n"
     ]
    },
    {
     "name": "stderr",
     "output_type": "stream",
     "text": [
      "d:\\Apps\\Anaconda\\lib\\site-packages\\sklearn\\model_selection\\_validation.py:680: DataConversionWarning: A column-vector y was passed when a 1d array was expected. Please change the shape of y to (n_samples,), for example using ravel().\n",
      "  estimator.fit(X_train, y_train, **fit_params)\n"
     ]
    },
    {
     "name": "stdout",
     "output_type": "stream",
     "text": [
      "[CV 3/5; 131/243] END max_depth=10, min_samples_leaf=4, min_samples_split=15, n_estimators=50, random_state=4;, score=0.594 total time=   0.2s\n",
      "[CV 4/5; 131/243] START max_depth=10, min_samples_leaf=4, min_samples_split=15, n_estimators=50, random_state=4\n"
     ]
    },
    {
     "name": "stderr",
     "output_type": "stream",
     "text": [
      "d:\\Apps\\Anaconda\\lib\\site-packages\\sklearn\\model_selection\\_validation.py:680: DataConversionWarning: A column-vector y was passed when a 1d array was expected. Please change the shape of y to (n_samples,), for example using ravel().\n",
      "  estimator.fit(X_train, y_train, **fit_params)\n"
     ]
    },
    {
     "name": "stdout",
     "output_type": "stream",
     "text": [
      "[CV 4/5; 131/243] END max_depth=10, min_samples_leaf=4, min_samples_split=15, n_estimators=50, random_state=4;, score=0.601 total time=   0.2s\n",
      "[CV 5/5; 131/243] START max_depth=10, min_samples_leaf=4, min_samples_split=15, n_estimators=50, random_state=4\n"
     ]
    },
    {
     "name": "stderr",
     "output_type": "stream",
     "text": [
      "d:\\Apps\\Anaconda\\lib\\site-packages\\sklearn\\model_selection\\_validation.py:680: DataConversionWarning: A column-vector y was passed when a 1d array was expected. Please change the shape of y to (n_samples,), for example using ravel().\n",
      "  estimator.fit(X_train, y_train, **fit_params)\n"
     ]
    },
    {
     "name": "stdout",
     "output_type": "stream",
     "text": [
      "[CV 5/5; 131/243] END max_depth=10, min_samples_leaf=4, min_samples_split=15, n_estimators=50, random_state=4;, score=0.546 total time=   0.2s\n",
      "[CV 1/5; 132/243] START max_depth=10, min_samples_leaf=4, min_samples_split=15, n_estimators=50, random_state=6\n"
     ]
    },
    {
     "name": "stderr",
     "output_type": "stream",
     "text": [
      "d:\\Apps\\Anaconda\\lib\\site-packages\\sklearn\\model_selection\\_validation.py:680: DataConversionWarning: A column-vector y was passed when a 1d array was expected. Please change the shape of y to (n_samples,), for example using ravel().\n",
      "  estimator.fit(X_train, y_train, **fit_params)\n"
     ]
    },
    {
     "name": "stdout",
     "output_type": "stream",
     "text": [
      "[CV 1/5; 132/243] END max_depth=10, min_samples_leaf=4, min_samples_split=15, n_estimators=50, random_state=6;, score=0.780 total time=   0.2s\n",
      "[CV 2/5; 132/243] START max_depth=10, min_samples_leaf=4, min_samples_split=15, n_estimators=50, random_state=6\n"
     ]
    },
    {
     "name": "stderr",
     "output_type": "stream",
     "text": [
      "d:\\Apps\\Anaconda\\lib\\site-packages\\sklearn\\model_selection\\_validation.py:680: DataConversionWarning: A column-vector y was passed when a 1d array was expected. Please change the shape of y to (n_samples,), for example using ravel().\n",
      "  estimator.fit(X_train, y_train, **fit_params)\n"
     ]
    },
    {
     "name": "stdout",
     "output_type": "stream",
     "text": [
      "[CV 2/5; 132/243] END max_depth=10, min_samples_leaf=4, min_samples_split=15, n_estimators=50, random_state=6;, score=0.754 total time=   0.2s\n",
      "[CV 3/5; 132/243] START max_depth=10, min_samples_leaf=4, min_samples_split=15, n_estimators=50, random_state=6\n"
     ]
    },
    {
     "name": "stderr",
     "output_type": "stream",
     "text": [
      "d:\\Apps\\Anaconda\\lib\\site-packages\\sklearn\\model_selection\\_validation.py:680: DataConversionWarning: A column-vector y was passed when a 1d array was expected. Please change the shape of y to (n_samples,), for example using ravel().\n",
      "  estimator.fit(X_train, y_train, **fit_params)\n"
     ]
    },
    {
     "name": "stdout",
     "output_type": "stream",
     "text": [
      "[CV 3/5; 132/243] END max_depth=10, min_samples_leaf=4, min_samples_split=15, n_estimators=50, random_state=6;, score=0.599 total time=   0.2s\n",
      "[CV 4/5; 132/243] START max_depth=10, min_samples_leaf=4, min_samples_split=15, n_estimators=50, random_state=6\n"
     ]
    },
    {
     "name": "stderr",
     "output_type": "stream",
     "text": [
      "d:\\Apps\\Anaconda\\lib\\site-packages\\sklearn\\model_selection\\_validation.py:680: DataConversionWarning: A column-vector y was passed when a 1d array was expected. Please change the shape of y to (n_samples,), for example using ravel().\n",
      "  estimator.fit(X_train, y_train, **fit_params)\n"
     ]
    },
    {
     "name": "stdout",
     "output_type": "stream",
     "text": [
      "[CV 4/5; 132/243] END max_depth=10, min_samples_leaf=4, min_samples_split=15, n_estimators=50, random_state=6;, score=0.541 total time=   0.2s\n",
      "[CV 5/5; 132/243] START max_depth=10, min_samples_leaf=4, min_samples_split=15, n_estimators=50, random_state=6\n"
     ]
    },
    {
     "name": "stderr",
     "output_type": "stream",
     "text": [
      "d:\\Apps\\Anaconda\\lib\\site-packages\\sklearn\\model_selection\\_validation.py:680: DataConversionWarning: A column-vector y was passed when a 1d array was expected. Please change the shape of y to (n_samples,), for example using ravel().\n",
      "  estimator.fit(X_train, y_train, **fit_params)\n"
     ]
    },
    {
     "name": "stdout",
     "output_type": "stream",
     "text": [
      "[CV 5/5; 132/243] END max_depth=10, min_samples_leaf=4, min_samples_split=15, n_estimators=50, random_state=6;, score=0.555 total time=   0.2s\n",
      "[CV 1/5; 133/243] START max_depth=10, min_samples_leaf=4, min_samples_split=15, n_estimators=100, random_state=2\n"
     ]
    },
    {
     "name": "stderr",
     "output_type": "stream",
     "text": [
      "d:\\Apps\\Anaconda\\lib\\site-packages\\sklearn\\model_selection\\_validation.py:680: DataConversionWarning: A column-vector y was passed when a 1d array was expected. Please change the shape of y to (n_samples,), for example using ravel().\n",
      "  estimator.fit(X_train, y_train, **fit_params)\n"
     ]
    },
    {
     "name": "stdout",
     "output_type": "stream",
     "text": [
      "[CV 1/5; 133/243] END max_depth=10, min_samples_leaf=4, min_samples_split=15, n_estimators=100, random_state=2;, score=0.758 total time=   0.5s\n",
      "[CV 2/5; 133/243] START max_depth=10, min_samples_leaf=4, min_samples_split=15, n_estimators=100, random_state=2\n"
     ]
    },
    {
     "name": "stderr",
     "output_type": "stream",
     "text": [
      "d:\\Apps\\Anaconda\\lib\\site-packages\\sklearn\\model_selection\\_validation.py:680: DataConversionWarning: A column-vector y was passed when a 1d array was expected. Please change the shape of y to (n_samples,), for example using ravel().\n",
      "  estimator.fit(X_train, y_train, **fit_params)\n"
     ]
    },
    {
     "name": "stdout",
     "output_type": "stream",
     "text": [
      "[CV 2/5; 133/243] END max_depth=10, min_samples_leaf=4, min_samples_split=15, n_estimators=100, random_state=2;, score=0.757 total time=   0.5s\n",
      "[CV 3/5; 133/243] START max_depth=10, min_samples_leaf=4, min_samples_split=15, n_estimators=100, random_state=2\n"
     ]
    },
    {
     "name": "stderr",
     "output_type": "stream",
     "text": [
      "d:\\Apps\\Anaconda\\lib\\site-packages\\sklearn\\model_selection\\_validation.py:680: DataConversionWarning: A column-vector y was passed when a 1d array was expected. Please change the shape of y to (n_samples,), for example using ravel().\n",
      "  estimator.fit(X_train, y_train, **fit_params)\n"
     ]
    },
    {
     "name": "stdout",
     "output_type": "stream",
     "text": [
      "[CV 3/5; 133/243] END max_depth=10, min_samples_leaf=4, min_samples_split=15, n_estimators=100, random_state=2;, score=0.609 total time=   0.5s\n",
      "[CV 4/5; 133/243] START max_depth=10, min_samples_leaf=4, min_samples_split=15, n_estimators=100, random_state=2\n"
     ]
    },
    {
     "name": "stderr",
     "output_type": "stream",
     "text": [
      "d:\\Apps\\Anaconda\\lib\\site-packages\\sklearn\\model_selection\\_validation.py:680: DataConversionWarning: A column-vector y was passed when a 1d array was expected. Please change the shape of y to (n_samples,), for example using ravel().\n",
      "  estimator.fit(X_train, y_train, **fit_params)\n"
     ]
    },
    {
     "name": "stdout",
     "output_type": "stream",
     "text": [
      "[CV 4/5; 133/243] END max_depth=10, min_samples_leaf=4, min_samples_split=15, n_estimators=100, random_state=2;, score=0.593 total time=   0.5s\n",
      "[CV 5/5; 133/243] START max_depth=10, min_samples_leaf=4, min_samples_split=15, n_estimators=100, random_state=2\n"
     ]
    },
    {
     "name": "stderr",
     "output_type": "stream",
     "text": [
      "d:\\Apps\\Anaconda\\lib\\site-packages\\sklearn\\model_selection\\_validation.py:680: DataConversionWarning: A column-vector y was passed when a 1d array was expected. Please change the shape of y to (n_samples,), for example using ravel().\n",
      "  estimator.fit(X_train, y_train, **fit_params)\n"
     ]
    },
    {
     "name": "stdout",
     "output_type": "stream",
     "text": [
      "[CV 5/5; 133/243] END max_depth=10, min_samples_leaf=4, min_samples_split=15, n_estimators=100, random_state=2;, score=0.540 total time=   0.5s\n",
      "[CV 1/5; 134/243] START max_depth=10, min_samples_leaf=4, min_samples_split=15, n_estimators=100, random_state=4\n"
     ]
    },
    {
     "name": "stderr",
     "output_type": "stream",
     "text": [
      "d:\\Apps\\Anaconda\\lib\\site-packages\\sklearn\\model_selection\\_validation.py:680: DataConversionWarning: A column-vector y was passed when a 1d array was expected. Please change the shape of y to (n_samples,), for example using ravel().\n",
      "  estimator.fit(X_train, y_train, **fit_params)\n"
     ]
    },
    {
     "name": "stdout",
     "output_type": "stream",
     "text": [
      "[CV 1/5; 134/243] END max_depth=10, min_samples_leaf=4, min_samples_split=15, n_estimators=100, random_state=4;, score=0.748 total time=   0.5s\n",
      "[CV 2/5; 134/243] START max_depth=10, min_samples_leaf=4, min_samples_split=15, n_estimators=100, random_state=4\n"
     ]
    },
    {
     "name": "stderr",
     "output_type": "stream",
     "text": [
      "d:\\Apps\\Anaconda\\lib\\site-packages\\sklearn\\model_selection\\_validation.py:680: DataConversionWarning: A column-vector y was passed when a 1d array was expected. Please change the shape of y to (n_samples,), for example using ravel().\n",
      "  estimator.fit(X_train, y_train, **fit_params)\n"
     ]
    },
    {
     "name": "stdout",
     "output_type": "stream",
     "text": [
      "[CV 2/5; 134/243] END max_depth=10, min_samples_leaf=4, min_samples_split=15, n_estimators=100, random_state=4;, score=0.769 total time=   0.5s\n",
      "[CV 3/5; 134/243] START max_depth=10, min_samples_leaf=4, min_samples_split=15, n_estimators=100, random_state=4\n"
     ]
    },
    {
     "name": "stderr",
     "output_type": "stream",
     "text": [
      "d:\\Apps\\Anaconda\\lib\\site-packages\\sklearn\\model_selection\\_validation.py:680: DataConversionWarning: A column-vector y was passed when a 1d array was expected. Please change the shape of y to (n_samples,), for example using ravel().\n",
      "  estimator.fit(X_train, y_train, **fit_params)\n"
     ]
    },
    {
     "name": "stdout",
     "output_type": "stream",
     "text": [
      "[CV 3/5; 134/243] END max_depth=10, min_samples_leaf=4, min_samples_split=15, n_estimators=100, random_state=4;, score=0.605 total time=   0.5s\n",
      "[CV 4/5; 134/243] START max_depth=10, min_samples_leaf=4, min_samples_split=15, n_estimators=100, random_state=4\n"
     ]
    },
    {
     "name": "stderr",
     "output_type": "stream",
     "text": [
      "d:\\Apps\\Anaconda\\lib\\site-packages\\sklearn\\model_selection\\_validation.py:680: DataConversionWarning: A column-vector y was passed when a 1d array was expected. Please change the shape of y to (n_samples,), for example using ravel().\n",
      "  estimator.fit(X_train, y_train, **fit_params)\n"
     ]
    },
    {
     "name": "stdout",
     "output_type": "stream",
     "text": [
      "[CV 4/5; 134/243] END max_depth=10, min_samples_leaf=4, min_samples_split=15, n_estimators=100, random_state=4;, score=0.574 total time=   0.5s\n",
      "[CV 5/5; 134/243] START max_depth=10, min_samples_leaf=4, min_samples_split=15, n_estimators=100, random_state=4\n"
     ]
    },
    {
     "name": "stderr",
     "output_type": "stream",
     "text": [
      "d:\\Apps\\Anaconda\\lib\\site-packages\\sklearn\\model_selection\\_validation.py:680: DataConversionWarning: A column-vector y was passed when a 1d array was expected. Please change the shape of y to (n_samples,), for example using ravel().\n",
      "  estimator.fit(X_train, y_train, **fit_params)\n"
     ]
    },
    {
     "name": "stdout",
     "output_type": "stream",
     "text": [
      "[CV 5/5; 134/243] END max_depth=10, min_samples_leaf=4, min_samples_split=15, n_estimators=100, random_state=4;, score=0.548 total time=   0.5s\n",
      "[CV 1/5; 135/243] START max_depth=10, min_samples_leaf=4, min_samples_split=15, n_estimators=100, random_state=6\n"
     ]
    },
    {
     "name": "stderr",
     "output_type": "stream",
     "text": [
      "d:\\Apps\\Anaconda\\lib\\site-packages\\sklearn\\model_selection\\_validation.py:680: DataConversionWarning: A column-vector y was passed when a 1d array was expected. Please change the shape of y to (n_samples,), for example using ravel().\n",
      "  estimator.fit(X_train, y_train, **fit_params)\n"
     ]
    },
    {
     "name": "stdout",
     "output_type": "stream",
     "text": [
      "[CV 1/5; 135/243] END max_depth=10, min_samples_leaf=4, min_samples_split=15, n_estimators=100, random_state=6;, score=0.779 total time=   0.5s\n",
      "[CV 2/5; 135/243] START max_depth=10, min_samples_leaf=4, min_samples_split=15, n_estimators=100, random_state=6\n"
     ]
    },
    {
     "name": "stderr",
     "output_type": "stream",
     "text": [
      "d:\\Apps\\Anaconda\\lib\\site-packages\\sklearn\\model_selection\\_validation.py:680: DataConversionWarning: A column-vector y was passed when a 1d array was expected. Please change the shape of y to (n_samples,), for example using ravel().\n",
      "  estimator.fit(X_train, y_train, **fit_params)\n"
     ]
    },
    {
     "name": "stdout",
     "output_type": "stream",
     "text": [
      "[CV 2/5; 135/243] END max_depth=10, min_samples_leaf=4, min_samples_split=15, n_estimators=100, random_state=6;, score=0.752 total time=   0.5s\n",
      "[CV 3/5; 135/243] START max_depth=10, min_samples_leaf=4, min_samples_split=15, n_estimators=100, random_state=6\n"
     ]
    },
    {
     "name": "stderr",
     "output_type": "stream",
     "text": [
      "d:\\Apps\\Anaconda\\lib\\site-packages\\sklearn\\model_selection\\_validation.py:680: DataConversionWarning: A column-vector y was passed when a 1d array was expected. Please change the shape of y to (n_samples,), for example using ravel().\n",
      "  estimator.fit(X_train, y_train, **fit_params)\n",
      "d:\\Apps\\Anaconda\\lib\\site-packages\\sklearn\\model_selection\\_validation.py:680: DataConversionWarning: A column-vector y was passed when a 1d array was expected. Please change the shape of y to (n_samples,), for example using ravel().\n",
      "  estimator.fit(X_train, y_train, **fit_params)\n"
     ]
    },
    {
     "name": "stdout",
     "output_type": "stream",
     "text": [
      "[CV 3/5; 135/243] END max_depth=10, min_samples_leaf=4, min_samples_split=15, n_estimators=100, random_state=6;, score=0.599 total time=   0.5s\n",
      "[CV 4/5; 135/243] START max_depth=10, min_samples_leaf=4, min_samples_split=15, n_estimators=100, random_state=6\n",
      "[CV 4/5; 135/243] END max_depth=10, min_samples_leaf=4, min_samples_split=15, n_estimators=100, random_state=6;, score=0.574 total time=   0.5s\n",
      "[CV 5/5; 135/243] START max_depth=10, min_samples_leaf=4, min_samples_split=15, n_estimators=100, random_state=6\n"
     ]
    },
    {
     "name": "stderr",
     "output_type": "stream",
     "text": [
      "d:\\Apps\\Anaconda\\lib\\site-packages\\sklearn\\model_selection\\_validation.py:680: DataConversionWarning: A column-vector y was passed when a 1d array was expected. Please change the shape of y to (n_samples,), for example using ravel().\n",
      "  estimator.fit(X_train, y_train, **fit_params)\n"
     ]
    },
    {
     "name": "stdout",
     "output_type": "stream",
     "text": [
      "[CV 5/5; 135/243] END max_depth=10, min_samples_leaf=4, min_samples_split=15, n_estimators=100, random_state=6;, score=0.551 total time=   0.5s\n",
      "[CV 1/5; 136/243] START max_depth=10, min_samples_leaf=6, min_samples_split=5, n_estimators=10, random_state=2\n",
      "[CV 1/5; 136/243] END max_depth=10, min_samples_leaf=6, min_samples_split=5, n_estimators=10, random_state=2;, score=0.726 total time=   0.0s\n",
      "[CV 2/5; 136/243] START max_depth=10, min_samples_leaf=6, min_samples_split=5, n_estimators=10, random_state=2\n",
      "[CV 2/5; 136/243] END max_depth=10, min_samples_leaf=6, min_samples_split=5, n_estimators=10, random_state=2;, score=0.735 total time=   0.0s\n",
      "[CV 3/5; 136/243] START max_depth=10, min_samples_leaf=6, min_samples_split=5, n_estimators=10, random_state=2\n",
      "[CV 3/5; 136/243] END max_depth=10, min_samples_leaf=6, min_samples_split=5, n_estimators=10, random_state=2;, score=0.599 total time=   0.0s\n",
      "[CV 4/5; 136/243] START max_depth=10, min_samples_leaf=6, min_samples_split=5, n_estimators=10, random_state=2\n"
     ]
    },
    {
     "name": "stderr",
     "output_type": "stream",
     "text": [
      "d:\\Apps\\Anaconda\\lib\\site-packages\\sklearn\\model_selection\\_validation.py:680: DataConversionWarning: A column-vector y was passed when a 1d array was expected. Please change the shape of y to (n_samples,), for example using ravel().\n",
      "  estimator.fit(X_train, y_train, **fit_params)\n",
      "d:\\Apps\\Anaconda\\lib\\site-packages\\sklearn\\model_selection\\_validation.py:680: DataConversionWarning: A column-vector y was passed when a 1d array was expected. Please change the shape of y to (n_samples,), for example using ravel().\n",
      "  estimator.fit(X_train, y_train, **fit_params)\n",
      "d:\\Apps\\Anaconda\\lib\\site-packages\\sklearn\\model_selection\\_validation.py:680: DataConversionWarning: A column-vector y was passed when a 1d array was expected. Please change the shape of y to (n_samples,), for example using ravel().\n",
      "  estimator.fit(X_train, y_train, **fit_params)\n",
      "d:\\Apps\\Anaconda\\lib\\site-packages\\sklearn\\model_selection\\_validation.py:680: DataConversionWarning: A column-vector y was passed when a 1d array was expected. Please change the shape of y to (n_samples,), for example using ravel().\n",
      "  estimator.fit(X_train, y_train, **fit_params)\n",
      "d:\\Apps\\Anaconda\\lib\\site-packages\\sklearn\\model_selection\\_validation.py:680: DataConversionWarning: A column-vector y was passed when a 1d array was expected. Please change the shape of y to (n_samples,), for example using ravel().\n",
      "  estimator.fit(X_train, y_train, **fit_params)\n",
      "d:\\Apps\\Anaconda\\lib\\site-packages\\sklearn\\model_selection\\_validation.py:680: DataConversionWarning: A column-vector y was passed when a 1d array was expected. Please change the shape of y to (n_samples,), for example using ravel().\n",
      "  estimator.fit(X_train, y_train, **fit_params)\n"
     ]
    },
    {
     "name": "stdout",
     "output_type": "stream",
     "text": [
      "[CV 4/5; 136/243] END max_depth=10, min_samples_leaf=6, min_samples_split=5, n_estimators=10, random_state=2;, score=0.607 total time=   0.0s\n",
      "[CV 5/5; 136/243] START max_depth=10, min_samples_leaf=6, min_samples_split=5, n_estimators=10, random_state=2\n",
      "[CV 5/5; 136/243] END max_depth=10, min_samples_leaf=6, min_samples_split=5, n_estimators=10, random_state=2;, score=0.523 total time=   0.0s\n",
      "[CV 1/5; 137/243] START max_depth=10, min_samples_leaf=6, min_samples_split=5, n_estimators=10, random_state=4\n",
      "[CV 1/5; 137/243] END max_depth=10, min_samples_leaf=6, min_samples_split=5, n_estimators=10, random_state=4;, score=0.754 total time=   0.0s\n",
      "[CV 2/5; 137/243] START max_depth=10, min_samples_leaf=6, min_samples_split=5, n_estimators=10, random_state=4\n"
     ]
    },
    {
     "name": "stderr",
     "output_type": "stream",
     "text": [
      "d:\\Apps\\Anaconda\\lib\\site-packages\\sklearn\\model_selection\\_validation.py:680: DataConversionWarning: A column-vector y was passed when a 1d array was expected. Please change the shape of y to (n_samples,), for example using ravel().\n",
      "  estimator.fit(X_train, y_train, **fit_params)\n",
      "d:\\Apps\\Anaconda\\lib\\site-packages\\sklearn\\model_selection\\_validation.py:680: DataConversionWarning: A column-vector y was passed when a 1d array was expected. Please change the shape of y to (n_samples,), for example using ravel().\n",
      "  estimator.fit(X_train, y_train, **fit_params)\n",
      "d:\\Apps\\Anaconda\\lib\\site-packages\\sklearn\\model_selection\\_validation.py:680: DataConversionWarning: A column-vector y was passed when a 1d array was expected. Please change the shape of y to (n_samples,), for example using ravel().\n",
      "  estimator.fit(X_train, y_train, **fit_params)\n"
     ]
    },
    {
     "name": "stdout",
     "output_type": "stream",
     "text": [
      "[CV 2/5; 137/243] END max_depth=10, min_samples_leaf=6, min_samples_split=5, n_estimators=10, random_state=4;, score=0.705 total time=   0.0s\n",
      "[CV 3/5; 137/243] START max_depth=10, min_samples_leaf=6, min_samples_split=5, n_estimators=10, random_state=4\n",
      "[CV 3/5; 137/243] END max_depth=10, min_samples_leaf=6, min_samples_split=5, n_estimators=10, random_state=4;, score=0.572 total time=   0.0s\n",
      "[CV 4/5; 137/243] START max_depth=10, min_samples_leaf=6, min_samples_split=5, n_estimators=10, random_state=4\n",
      "[CV 4/5; 137/243] END max_depth=10, min_samples_leaf=6, min_samples_split=5, n_estimators=10, random_state=4;, score=0.606 total time=   0.0s\n",
      "[CV 5/5; 137/243] START max_depth=10, min_samples_leaf=6, min_samples_split=5, n_estimators=10, random_state=4\n"
     ]
    },
    {
     "name": "stderr",
     "output_type": "stream",
     "text": [
      "d:\\Apps\\Anaconda\\lib\\site-packages\\sklearn\\model_selection\\_validation.py:680: DataConversionWarning: A column-vector y was passed when a 1d array was expected. Please change the shape of y to (n_samples,), for example using ravel().\n",
      "  estimator.fit(X_train, y_train, **fit_params)\n",
      "d:\\Apps\\Anaconda\\lib\\site-packages\\sklearn\\model_selection\\_validation.py:680: DataConversionWarning: A column-vector y was passed when a 1d array was expected. Please change the shape of y to (n_samples,), for example using ravel().\n",
      "  estimator.fit(X_train, y_train, **fit_params)\n",
      "d:\\Apps\\Anaconda\\lib\\site-packages\\sklearn\\model_selection\\_validation.py:680: DataConversionWarning: A column-vector y was passed when a 1d array was expected. Please change the shape of y to (n_samples,), for example using ravel().\n",
      "  estimator.fit(X_train, y_train, **fit_params)\n"
     ]
    },
    {
     "name": "stdout",
     "output_type": "stream",
     "text": [
      "[CV 5/5; 137/243] END max_depth=10, min_samples_leaf=6, min_samples_split=5, n_estimators=10, random_state=4;, score=0.539 total time=   0.0s\n",
      "[CV 1/5; 138/243] START max_depth=10, min_samples_leaf=6, min_samples_split=5, n_estimators=10, random_state=6\n",
      "[CV 1/5; 138/243] END max_depth=10, min_samples_leaf=6, min_samples_split=5, n_estimators=10, random_state=6;, score=0.756 total time=   0.0s\n",
      "[CV 2/5; 138/243] START max_depth=10, min_samples_leaf=6, min_samples_split=5, n_estimators=10, random_state=6\n",
      "[CV 2/5; 138/243] END max_depth=10, min_samples_leaf=6, min_samples_split=5, n_estimators=10, random_state=6;, score=0.681 total time=   0.0s\n",
      "[CV 3/5; 138/243] START max_depth=10, min_samples_leaf=6, min_samples_split=5, n_estimators=10, random_state=6\n"
     ]
    },
    {
     "name": "stderr",
     "output_type": "stream",
     "text": [
      "d:\\Apps\\Anaconda\\lib\\site-packages\\sklearn\\model_selection\\_validation.py:680: DataConversionWarning: A column-vector y was passed when a 1d array was expected. Please change the shape of y to (n_samples,), for example using ravel().\n",
      "  estimator.fit(X_train, y_train, **fit_params)\n",
      "d:\\Apps\\Anaconda\\lib\\site-packages\\sklearn\\model_selection\\_validation.py:680: DataConversionWarning: A column-vector y was passed when a 1d array was expected. Please change the shape of y to (n_samples,), for example using ravel().\n",
      "  estimator.fit(X_train, y_train, **fit_params)\n",
      "d:\\Apps\\Anaconda\\lib\\site-packages\\sklearn\\model_selection\\_validation.py:680: DataConversionWarning: A column-vector y was passed when a 1d array was expected. Please change the shape of y to (n_samples,), for example using ravel().\n",
      "  estimator.fit(X_train, y_train, **fit_params)\n"
     ]
    },
    {
     "name": "stdout",
     "output_type": "stream",
     "text": [
      "[CV 3/5; 138/243] END max_depth=10, min_samples_leaf=6, min_samples_split=5, n_estimators=10, random_state=6;, score=0.593 total time=   0.0s\n",
      "[CV 4/5; 138/243] START max_depth=10, min_samples_leaf=6, min_samples_split=5, n_estimators=10, random_state=6\n",
      "[CV 4/5; 138/243] END max_depth=10, min_samples_leaf=6, min_samples_split=5, n_estimators=10, random_state=6;, score=0.624 total time=   0.0s\n",
      "[CV 5/5; 138/243] START max_depth=10, min_samples_leaf=6, min_samples_split=5, n_estimators=10, random_state=6\n",
      "[CV 5/5; 138/243] END max_depth=10, min_samples_leaf=6, min_samples_split=5, n_estimators=10, random_state=6;, score=0.498 total time=   0.0s\n",
      "[CV 1/5; 139/243] START max_depth=10, min_samples_leaf=6, min_samples_split=5, n_estimators=50, random_state=2\n"
     ]
    },
    {
     "name": "stderr",
     "output_type": "stream",
     "text": [
      "d:\\Apps\\Anaconda\\lib\\site-packages\\sklearn\\model_selection\\_validation.py:680: DataConversionWarning: A column-vector y was passed when a 1d array was expected. Please change the shape of y to (n_samples,), for example using ravel().\n",
      "  estimator.fit(X_train, y_train, **fit_params)\n"
     ]
    },
    {
     "name": "stdout",
     "output_type": "stream",
     "text": [
      "[CV 1/5; 139/243] END max_depth=10, min_samples_leaf=6, min_samples_split=5, n_estimators=50, random_state=2;, score=0.734 total time=   0.2s\n",
      "[CV 2/5; 139/243] START max_depth=10, min_samples_leaf=6, min_samples_split=5, n_estimators=50, random_state=2\n"
     ]
    },
    {
     "name": "stderr",
     "output_type": "stream",
     "text": [
      "d:\\Apps\\Anaconda\\lib\\site-packages\\sklearn\\model_selection\\_validation.py:680: DataConversionWarning: A column-vector y was passed when a 1d array was expected. Please change the shape of y to (n_samples,), for example using ravel().\n",
      "  estimator.fit(X_train, y_train, **fit_params)\n"
     ]
    },
    {
     "name": "stdout",
     "output_type": "stream",
     "text": [
      "[CV 2/5; 139/243] END max_depth=10, min_samples_leaf=6, min_samples_split=5, n_estimators=50, random_state=2;, score=0.740 total time=   0.2s\n",
      "[CV 3/5; 139/243] START max_depth=10, min_samples_leaf=6, min_samples_split=5, n_estimators=50, random_state=2\n"
     ]
    },
    {
     "name": "stderr",
     "output_type": "stream",
     "text": [
      "d:\\Apps\\Anaconda\\lib\\site-packages\\sklearn\\model_selection\\_validation.py:680: DataConversionWarning: A column-vector y was passed when a 1d array was expected. Please change the shape of y to (n_samples,), for example using ravel().\n",
      "  estimator.fit(X_train, y_train, **fit_params)\n"
     ]
    },
    {
     "name": "stdout",
     "output_type": "stream",
     "text": [
      "[CV 3/5; 139/243] END max_depth=10, min_samples_leaf=6, min_samples_split=5, n_estimators=50, random_state=2;, score=0.612 total time=   0.2s\n",
      "[CV 4/5; 139/243] START max_depth=10, min_samples_leaf=6, min_samples_split=5, n_estimators=50, random_state=2\n"
     ]
    },
    {
     "name": "stderr",
     "output_type": "stream",
     "text": [
      "d:\\Apps\\Anaconda\\lib\\site-packages\\sklearn\\model_selection\\_validation.py:680: DataConversionWarning: A column-vector y was passed when a 1d array was expected. Please change the shape of y to (n_samples,), for example using ravel().\n",
      "  estimator.fit(X_train, y_train, **fit_params)\n"
     ]
    },
    {
     "name": "stdout",
     "output_type": "stream",
     "text": [
      "[CV 4/5; 139/243] END max_depth=10, min_samples_leaf=6, min_samples_split=5, n_estimators=50, random_state=2;, score=0.610 total time=   0.2s\n",
      "[CV 5/5; 139/243] START max_depth=10, min_samples_leaf=6, min_samples_split=5, n_estimators=50, random_state=2\n"
     ]
    },
    {
     "name": "stderr",
     "output_type": "stream",
     "text": [
      "d:\\Apps\\Anaconda\\lib\\site-packages\\sklearn\\model_selection\\_validation.py:680: DataConversionWarning: A column-vector y was passed when a 1d array was expected. Please change the shape of y to (n_samples,), for example using ravel().\n",
      "  estimator.fit(X_train, y_train, **fit_params)\n"
     ]
    },
    {
     "name": "stdout",
     "output_type": "stream",
     "text": [
      "[CV 5/5; 139/243] END max_depth=10, min_samples_leaf=6, min_samples_split=5, n_estimators=50, random_state=2;, score=0.519 total time=   0.2s\n",
      "[CV 1/5; 140/243] START max_depth=10, min_samples_leaf=6, min_samples_split=5, n_estimators=50, random_state=4\n"
     ]
    },
    {
     "name": "stderr",
     "output_type": "stream",
     "text": [
      "d:\\Apps\\Anaconda\\lib\\site-packages\\sklearn\\model_selection\\_validation.py:680: DataConversionWarning: A column-vector y was passed when a 1d array was expected. Please change the shape of y to (n_samples,), for example using ravel().\n",
      "  estimator.fit(X_train, y_train, **fit_params)\n"
     ]
    },
    {
     "name": "stdout",
     "output_type": "stream",
     "text": [
      "[CV 1/5; 140/243] END max_depth=10, min_samples_leaf=6, min_samples_split=5, n_estimators=50, random_state=4;, score=0.724 total time=   0.2s\n",
      "[CV 2/5; 140/243] START max_depth=10, min_samples_leaf=6, min_samples_split=5, n_estimators=50, random_state=4\n"
     ]
    },
    {
     "name": "stderr",
     "output_type": "stream",
     "text": [
      "d:\\Apps\\Anaconda\\lib\\site-packages\\sklearn\\model_selection\\_validation.py:680: DataConversionWarning: A column-vector y was passed when a 1d array was expected. Please change the shape of y to (n_samples,), for example using ravel().\n",
      "  estimator.fit(X_train, y_train, **fit_params)\n"
     ]
    },
    {
     "name": "stdout",
     "output_type": "stream",
     "text": [
      "[CV 2/5; 140/243] END max_depth=10, min_samples_leaf=6, min_samples_split=5, n_estimators=50, random_state=4;, score=0.734 total time=   0.2s\n",
      "[CV 3/5; 140/243] START max_depth=10, min_samples_leaf=6, min_samples_split=5, n_estimators=50, random_state=4\n"
     ]
    },
    {
     "name": "stderr",
     "output_type": "stream",
     "text": [
      "d:\\Apps\\Anaconda\\lib\\site-packages\\sklearn\\model_selection\\_validation.py:680: DataConversionWarning: A column-vector y was passed when a 1d array was expected. Please change the shape of y to (n_samples,), for example using ravel().\n",
      "  estimator.fit(X_train, y_train, **fit_params)\n"
     ]
    },
    {
     "name": "stdout",
     "output_type": "stream",
     "text": [
      "[CV 3/5; 140/243] END max_depth=10, min_samples_leaf=6, min_samples_split=5, n_estimators=50, random_state=4;, score=0.579 total time=   0.2s\n",
      "[CV 4/5; 140/243] START max_depth=10, min_samples_leaf=6, min_samples_split=5, n_estimators=50, random_state=4\n"
     ]
    },
    {
     "name": "stderr",
     "output_type": "stream",
     "text": [
      "d:\\Apps\\Anaconda\\lib\\site-packages\\sklearn\\model_selection\\_validation.py:680: DataConversionWarning: A column-vector y was passed when a 1d array was expected. Please change the shape of y to (n_samples,), for example using ravel().\n",
      "  estimator.fit(X_train, y_train, **fit_params)\n"
     ]
    },
    {
     "name": "stdout",
     "output_type": "stream",
     "text": [
      "[CV 4/5; 140/243] END max_depth=10, min_samples_leaf=6, min_samples_split=5, n_estimators=50, random_state=4;, score=0.628 total time=   0.2s\n",
      "[CV 5/5; 140/243] START max_depth=10, min_samples_leaf=6, min_samples_split=5, n_estimators=50, random_state=4\n"
     ]
    },
    {
     "name": "stderr",
     "output_type": "stream",
     "text": [
      "d:\\Apps\\Anaconda\\lib\\site-packages\\sklearn\\model_selection\\_validation.py:680: DataConversionWarning: A column-vector y was passed when a 1d array was expected. Please change the shape of y to (n_samples,), for example using ravel().\n",
      "  estimator.fit(X_train, y_train, **fit_params)\n"
     ]
    },
    {
     "name": "stdout",
     "output_type": "stream",
     "text": [
      "[CV 5/5; 140/243] END max_depth=10, min_samples_leaf=6, min_samples_split=5, n_estimators=50, random_state=4;, score=0.508 total time=   0.2s\n",
      "[CV 1/5; 141/243] START max_depth=10, min_samples_leaf=6, min_samples_split=5, n_estimators=50, random_state=6\n"
     ]
    },
    {
     "name": "stderr",
     "output_type": "stream",
     "text": [
      "d:\\Apps\\Anaconda\\lib\\site-packages\\sklearn\\model_selection\\_validation.py:680: DataConversionWarning: A column-vector y was passed when a 1d array was expected. Please change the shape of y to (n_samples,), for example using ravel().\n",
      "  estimator.fit(X_train, y_train, **fit_params)\n"
     ]
    },
    {
     "name": "stdout",
     "output_type": "stream",
     "text": [
      "[CV 1/5; 141/243] END max_depth=10, min_samples_leaf=6, min_samples_split=5, n_estimators=50, random_state=6;, score=0.752 total time=   0.2s\n",
      "[CV 2/5; 141/243] START max_depth=10, min_samples_leaf=6, min_samples_split=5, n_estimators=50, random_state=6\n"
     ]
    },
    {
     "name": "stderr",
     "output_type": "stream",
     "text": [
      "d:\\Apps\\Anaconda\\lib\\site-packages\\sklearn\\model_selection\\_validation.py:680: DataConversionWarning: A column-vector y was passed when a 1d array was expected. Please change the shape of y to (n_samples,), for example using ravel().\n",
      "  estimator.fit(X_train, y_train, **fit_params)\n"
     ]
    },
    {
     "name": "stdout",
     "output_type": "stream",
     "text": [
      "[CV 2/5; 141/243] END max_depth=10, min_samples_leaf=6, min_samples_split=5, n_estimators=50, random_state=6;, score=0.716 total time=   0.2s\n",
      "[CV 3/5; 141/243] START max_depth=10, min_samples_leaf=6, min_samples_split=5, n_estimators=50, random_state=6\n"
     ]
    },
    {
     "name": "stderr",
     "output_type": "stream",
     "text": [
      "d:\\Apps\\Anaconda\\lib\\site-packages\\sklearn\\model_selection\\_validation.py:680: DataConversionWarning: A column-vector y was passed when a 1d array was expected. Please change the shape of y to (n_samples,), for example using ravel().\n",
      "  estimator.fit(X_train, y_train, **fit_params)\n"
     ]
    },
    {
     "name": "stdout",
     "output_type": "stream",
     "text": [
      "[CV 3/5; 141/243] END max_depth=10, min_samples_leaf=6, min_samples_split=5, n_estimators=50, random_state=6;, score=0.598 total time=   0.2s\n",
      "[CV 4/5; 141/243] START max_depth=10, min_samples_leaf=6, min_samples_split=5, n_estimators=50, random_state=6\n"
     ]
    },
    {
     "name": "stderr",
     "output_type": "stream",
     "text": [
      "d:\\Apps\\Anaconda\\lib\\site-packages\\sklearn\\model_selection\\_validation.py:680: DataConversionWarning: A column-vector y was passed when a 1d array was expected. Please change the shape of y to (n_samples,), for example using ravel().\n",
      "  estimator.fit(X_train, y_train, **fit_params)\n"
     ]
    },
    {
     "name": "stdout",
     "output_type": "stream",
     "text": [
      "[CV 4/5; 141/243] END max_depth=10, min_samples_leaf=6, min_samples_split=5, n_estimators=50, random_state=6;, score=0.617 total time=   0.2s\n",
      "[CV 5/5; 141/243] START max_depth=10, min_samples_leaf=6, min_samples_split=5, n_estimators=50, random_state=6\n"
     ]
    },
    {
     "name": "stderr",
     "output_type": "stream",
     "text": [
      "d:\\Apps\\Anaconda\\lib\\site-packages\\sklearn\\model_selection\\_validation.py:680: DataConversionWarning: A column-vector y was passed when a 1d array was expected. Please change the shape of y to (n_samples,), for example using ravel().\n",
      "  estimator.fit(X_train, y_train, **fit_params)\n"
     ]
    },
    {
     "name": "stdout",
     "output_type": "stream",
     "text": [
      "[CV 5/5; 141/243] END max_depth=10, min_samples_leaf=6, min_samples_split=5, n_estimators=50, random_state=6;, score=0.527 total time=   0.2s\n",
      "[CV 1/5; 142/243] START max_depth=10, min_samples_leaf=6, min_samples_split=5, n_estimators=100, random_state=2\n"
     ]
    },
    {
     "name": "stderr",
     "output_type": "stream",
     "text": [
      "d:\\Apps\\Anaconda\\lib\\site-packages\\sklearn\\model_selection\\_validation.py:680: DataConversionWarning: A column-vector y was passed when a 1d array was expected. Please change the shape of y to (n_samples,), for example using ravel().\n",
      "  estimator.fit(X_train, y_train, **fit_params)\n"
     ]
    },
    {
     "name": "stdout",
     "output_type": "stream",
     "text": [
      "[CV 1/5; 142/243] END max_depth=10, min_samples_leaf=6, min_samples_split=5, n_estimators=100, random_state=2;, score=0.737 total time=   0.5s\n",
      "[CV 2/5; 142/243] START max_depth=10, min_samples_leaf=6, min_samples_split=5, n_estimators=100, random_state=2\n"
     ]
    },
    {
     "name": "stderr",
     "output_type": "stream",
     "text": [
      "d:\\Apps\\Anaconda\\lib\\site-packages\\sklearn\\model_selection\\_validation.py:680: DataConversionWarning: A column-vector y was passed when a 1d array was expected. Please change the shape of y to (n_samples,), for example using ravel().\n",
      "  estimator.fit(X_train, y_train, **fit_params)\n"
     ]
    },
    {
     "name": "stdout",
     "output_type": "stream",
     "text": [
      "[CV 2/5; 142/243] END max_depth=10, min_samples_leaf=6, min_samples_split=5, n_estimators=100, random_state=2;, score=0.732 total time=   0.5s\n",
      "[CV 3/5; 142/243] START max_depth=10, min_samples_leaf=6, min_samples_split=5, n_estimators=100, random_state=2\n"
     ]
    },
    {
     "name": "stderr",
     "output_type": "stream",
     "text": [
      "d:\\Apps\\Anaconda\\lib\\site-packages\\sklearn\\model_selection\\_validation.py:680: DataConversionWarning: A column-vector y was passed when a 1d array was expected. Please change the shape of y to (n_samples,), for example using ravel().\n",
      "  estimator.fit(X_train, y_train, **fit_params)\n"
     ]
    },
    {
     "name": "stdout",
     "output_type": "stream",
     "text": [
      "[CV 3/5; 142/243] END max_depth=10, min_samples_leaf=6, min_samples_split=5, n_estimators=100, random_state=2;, score=0.599 total time=   0.5s\n",
      "[CV 4/5; 142/243] START max_depth=10, min_samples_leaf=6, min_samples_split=5, n_estimators=100, random_state=2\n"
     ]
    },
    {
     "name": "stderr",
     "output_type": "stream",
     "text": [
      "d:\\Apps\\Anaconda\\lib\\site-packages\\sklearn\\model_selection\\_validation.py:680: DataConversionWarning: A column-vector y was passed when a 1d array was expected. Please change the shape of y to (n_samples,), for example using ravel().\n",
      "  estimator.fit(X_train, y_train, **fit_params)\n"
     ]
    },
    {
     "name": "stdout",
     "output_type": "stream",
     "text": [
      "[CV 4/5; 142/243] END max_depth=10, min_samples_leaf=6, min_samples_split=5, n_estimators=100, random_state=2;, score=0.615 total time=   0.5s\n",
      "[CV 5/5; 142/243] START max_depth=10, min_samples_leaf=6, min_samples_split=5, n_estimators=100, random_state=2\n"
     ]
    },
    {
     "name": "stderr",
     "output_type": "stream",
     "text": [
      "d:\\Apps\\Anaconda\\lib\\site-packages\\sklearn\\model_selection\\_validation.py:680: DataConversionWarning: A column-vector y was passed when a 1d array was expected. Please change the shape of y to (n_samples,), for example using ravel().\n",
      "  estimator.fit(X_train, y_train, **fit_params)\n"
     ]
    },
    {
     "name": "stdout",
     "output_type": "stream",
     "text": [
      "[CV 5/5; 142/243] END max_depth=10, min_samples_leaf=6, min_samples_split=5, n_estimators=100, random_state=2;, score=0.523 total time=   0.5s\n",
      "[CV 1/5; 143/243] START max_depth=10, min_samples_leaf=6, min_samples_split=5, n_estimators=100, random_state=4\n"
     ]
    },
    {
     "name": "stderr",
     "output_type": "stream",
     "text": [
      "d:\\Apps\\Anaconda\\lib\\site-packages\\sklearn\\model_selection\\_validation.py:680: DataConversionWarning: A column-vector y was passed when a 1d array was expected. Please change the shape of y to (n_samples,), for example using ravel().\n",
      "  estimator.fit(X_train, y_train, **fit_params)\n"
     ]
    },
    {
     "name": "stdout",
     "output_type": "stream",
     "text": [
      "[CV 1/5; 143/243] END max_depth=10, min_samples_leaf=6, min_samples_split=5, n_estimators=100, random_state=4;, score=0.735 total time=   0.5s\n",
      "[CV 2/5; 143/243] START max_depth=10, min_samples_leaf=6, min_samples_split=5, n_estimators=100, random_state=4\n"
     ]
    },
    {
     "name": "stderr",
     "output_type": "stream",
     "text": [
      "d:\\Apps\\Anaconda\\lib\\site-packages\\sklearn\\model_selection\\_validation.py:680: DataConversionWarning: A column-vector y was passed when a 1d array was expected. Please change the shape of y to (n_samples,), for example using ravel().\n",
      "  estimator.fit(X_train, y_train, **fit_params)\n"
     ]
    },
    {
     "name": "stdout",
     "output_type": "stream",
     "text": [
      "[CV 2/5; 143/243] END max_depth=10, min_samples_leaf=6, min_samples_split=5, n_estimators=100, random_state=4;, score=0.731 total time=   0.5s\n",
      "[CV 3/5; 143/243] START max_depth=10, min_samples_leaf=6, min_samples_split=5, n_estimators=100, random_state=4\n"
     ]
    },
    {
     "name": "stderr",
     "output_type": "stream",
     "text": [
      "d:\\Apps\\Anaconda\\lib\\site-packages\\sklearn\\model_selection\\_validation.py:680: DataConversionWarning: A column-vector y was passed when a 1d array was expected. Please change the shape of y to (n_samples,), for example using ravel().\n",
      "  estimator.fit(X_train, y_train, **fit_params)\n"
     ]
    },
    {
     "name": "stdout",
     "output_type": "stream",
     "text": [
      "[CV 3/5; 143/243] END max_depth=10, min_samples_leaf=6, min_samples_split=5, n_estimators=100, random_state=4;, score=0.597 total time=   0.5s\n",
      "[CV 4/5; 143/243] START max_depth=10, min_samples_leaf=6, min_samples_split=5, n_estimators=100, random_state=4\n"
     ]
    },
    {
     "name": "stderr",
     "output_type": "stream",
     "text": [
      "d:\\Apps\\Anaconda\\lib\\site-packages\\sklearn\\model_selection\\_validation.py:680: DataConversionWarning: A column-vector y was passed when a 1d array was expected. Please change the shape of y to (n_samples,), for example using ravel().\n",
      "  estimator.fit(X_train, y_train, **fit_params)\n"
     ]
    },
    {
     "name": "stdout",
     "output_type": "stream",
     "text": [
      "[CV 4/5; 143/243] END max_depth=10, min_samples_leaf=6, min_samples_split=5, n_estimators=100, random_state=4;, score=0.608 total time=   0.5s\n",
      "[CV 5/5; 143/243] START max_depth=10, min_samples_leaf=6, min_samples_split=5, n_estimators=100, random_state=4\n"
     ]
    },
    {
     "name": "stderr",
     "output_type": "stream",
     "text": [
      "d:\\Apps\\Anaconda\\lib\\site-packages\\sklearn\\model_selection\\_validation.py:680: DataConversionWarning: A column-vector y was passed when a 1d array was expected. Please change the shape of y to (n_samples,), for example using ravel().\n",
      "  estimator.fit(X_train, y_train, **fit_params)\n"
     ]
    },
    {
     "name": "stdout",
     "output_type": "stream",
     "text": [
      "[CV 5/5; 143/243] END max_depth=10, min_samples_leaf=6, min_samples_split=5, n_estimators=100, random_state=4;, score=0.514 total time=   0.5s\n",
      "[CV 1/5; 144/243] START max_depth=10, min_samples_leaf=6, min_samples_split=5, n_estimators=100, random_state=6\n"
     ]
    },
    {
     "name": "stderr",
     "output_type": "stream",
     "text": [
      "d:\\Apps\\Anaconda\\lib\\site-packages\\sklearn\\model_selection\\_validation.py:680: DataConversionWarning: A column-vector y was passed when a 1d array was expected. Please change the shape of y to (n_samples,), for example using ravel().\n",
      "  estimator.fit(X_train, y_train, **fit_params)\n"
     ]
    },
    {
     "name": "stdout",
     "output_type": "stream",
     "text": [
      "[CV 1/5; 144/243] END max_depth=10, min_samples_leaf=6, min_samples_split=5, n_estimators=100, random_state=6;, score=0.746 total time=   0.5s\n",
      "[CV 2/5; 144/243] START max_depth=10, min_samples_leaf=6, min_samples_split=5, n_estimators=100, random_state=6\n"
     ]
    },
    {
     "name": "stderr",
     "output_type": "stream",
     "text": [
      "d:\\Apps\\Anaconda\\lib\\site-packages\\sklearn\\model_selection\\_validation.py:680: DataConversionWarning: A column-vector y was passed when a 1d array was expected. Please change the shape of y to (n_samples,), for example using ravel().\n",
      "  estimator.fit(X_train, y_train, **fit_params)\n"
     ]
    },
    {
     "name": "stdout",
     "output_type": "stream",
     "text": [
      "[CV 2/5; 144/243] END max_depth=10, min_samples_leaf=6, min_samples_split=5, n_estimators=100, random_state=6;, score=0.721 total time=   0.5s\n",
      "[CV 3/5; 144/243] START max_depth=10, min_samples_leaf=6, min_samples_split=5, n_estimators=100, random_state=6\n"
     ]
    },
    {
     "name": "stderr",
     "output_type": "stream",
     "text": [
      "d:\\Apps\\Anaconda\\lib\\site-packages\\sklearn\\model_selection\\_validation.py:680: DataConversionWarning: A column-vector y was passed when a 1d array was expected. Please change the shape of y to (n_samples,), for example using ravel().\n",
      "  estimator.fit(X_train, y_train, **fit_params)\n"
     ]
    },
    {
     "name": "stdout",
     "output_type": "stream",
     "text": [
      "[CV 3/5; 144/243] END max_depth=10, min_samples_leaf=6, min_samples_split=5, n_estimators=100, random_state=6;, score=0.598 total time=   0.5s\n",
      "[CV 4/5; 144/243] START max_depth=10, min_samples_leaf=6, min_samples_split=5, n_estimators=100, random_state=6\n"
     ]
    },
    {
     "name": "stderr",
     "output_type": "stream",
     "text": [
      "d:\\Apps\\Anaconda\\lib\\site-packages\\sklearn\\model_selection\\_validation.py:680: DataConversionWarning: A column-vector y was passed when a 1d array was expected. Please change the shape of y to (n_samples,), for example using ravel().\n",
      "  estimator.fit(X_train, y_train, **fit_params)\n"
     ]
    },
    {
     "name": "stdout",
     "output_type": "stream",
     "text": [
      "[CV 4/5; 144/243] END max_depth=10, min_samples_leaf=6, min_samples_split=5, n_estimators=100, random_state=6;, score=0.610 total time=   0.5s\n",
      "[CV 5/5; 144/243] START max_depth=10, min_samples_leaf=6, min_samples_split=5, n_estimators=100, random_state=6\n"
     ]
    },
    {
     "name": "stderr",
     "output_type": "stream",
     "text": [
      "d:\\Apps\\Anaconda\\lib\\site-packages\\sklearn\\model_selection\\_validation.py:680: DataConversionWarning: A column-vector y was passed when a 1d array was expected. Please change the shape of y to (n_samples,), for example using ravel().\n",
      "  estimator.fit(X_train, y_train, **fit_params)\n"
     ]
    },
    {
     "name": "stdout",
     "output_type": "stream",
     "text": [
      "[CV 5/5; 144/243] END max_depth=10, min_samples_leaf=6, min_samples_split=5, n_estimators=100, random_state=6;, score=0.526 total time=   0.5s\n",
      "[CV 1/5; 145/243] START max_depth=10, min_samples_leaf=6, min_samples_split=10, n_estimators=10, random_state=2\n",
      "[CV 1/5; 145/243] END max_depth=10, min_samples_leaf=6, min_samples_split=10, n_estimators=10, random_state=2;, score=0.726 total time=   0.0s\n",
      "[CV 2/5; 145/243] START max_depth=10, min_samples_leaf=6, min_samples_split=10, n_estimators=10, random_state=2\n",
      "[CV 2/5; 145/243] END max_depth=10, min_samples_leaf=6, min_samples_split=10, n_estimators=10, random_state=2;, score=0.735 total time=   0.0s\n",
      "[CV 3/5; 145/243] START max_depth=10, min_samples_leaf=6, min_samples_split=10, n_estimators=10, random_state=2\n"
     ]
    },
    {
     "name": "stderr",
     "output_type": "stream",
     "text": [
      "d:\\Apps\\Anaconda\\lib\\site-packages\\sklearn\\model_selection\\_validation.py:680: DataConversionWarning: A column-vector y was passed when a 1d array was expected. Please change the shape of y to (n_samples,), for example using ravel().\n",
      "  estimator.fit(X_train, y_train, **fit_params)\n",
      "d:\\Apps\\Anaconda\\lib\\site-packages\\sklearn\\model_selection\\_validation.py:680: DataConversionWarning: A column-vector y was passed when a 1d array was expected. Please change the shape of y to (n_samples,), for example using ravel().\n",
      "  estimator.fit(X_train, y_train, **fit_params)\n",
      "d:\\Apps\\Anaconda\\lib\\site-packages\\sklearn\\model_selection\\_validation.py:680: DataConversionWarning: A column-vector y was passed when a 1d array was expected. Please change the shape of y to (n_samples,), for example using ravel().\n",
      "  estimator.fit(X_train, y_train, **fit_params)\n"
     ]
    },
    {
     "name": "stdout",
     "output_type": "stream",
     "text": [
      "[CV 3/5; 145/243] END max_depth=10, min_samples_leaf=6, min_samples_split=10, n_estimators=10, random_state=2;, score=0.599 total time=   0.0s\n",
      "[CV 4/5; 145/243] START max_depth=10, min_samples_leaf=6, min_samples_split=10, n_estimators=10, random_state=2\n",
      "[CV 4/5; 145/243] END max_depth=10, min_samples_leaf=6, min_samples_split=10, n_estimators=10, random_state=2;, score=0.607 total time=   0.0s\n",
      "[CV 5/5; 145/243] START max_depth=10, min_samples_leaf=6, min_samples_split=10, n_estimators=10, random_state=2\n",
      "[CV 5/5; 145/243] END max_depth=10, min_samples_leaf=6, min_samples_split=10, n_estimators=10, random_state=2;, score=0.523 total time=   0.0s\n",
      "[CV 1/5; 146/243] START max_depth=10, min_samples_leaf=6, min_samples_split=10, n_estimators=10, random_state=4\n",
      "[CV 1/5; 146/243] END max_depth=10, min_samples_leaf=6, min_samples_split=10, n_estimators=10, random_state=4;, score=0.754 total time=   0.0s\n",
      "[CV 2/5; 146/243] START max_depth=10, min_samples_leaf=6, min_samples_split=10, n_estimators=10, random_state=4\n"
     ]
    },
    {
     "name": "stderr",
     "output_type": "stream",
     "text": [
      "d:\\Apps\\Anaconda\\lib\\site-packages\\sklearn\\model_selection\\_validation.py:680: DataConversionWarning: A column-vector y was passed when a 1d array was expected. Please change the shape of y to (n_samples,), for example using ravel().\n",
      "  estimator.fit(X_train, y_train, **fit_params)\n",
      "d:\\Apps\\Anaconda\\lib\\site-packages\\sklearn\\model_selection\\_validation.py:680: DataConversionWarning: A column-vector y was passed when a 1d array was expected. Please change the shape of y to (n_samples,), for example using ravel().\n",
      "  estimator.fit(X_train, y_train, **fit_params)\n",
      "d:\\Apps\\Anaconda\\lib\\site-packages\\sklearn\\model_selection\\_validation.py:680: DataConversionWarning: A column-vector y was passed when a 1d array was expected. Please change the shape of y to (n_samples,), for example using ravel().\n",
      "  estimator.fit(X_train, y_train, **fit_params)\n",
      "d:\\Apps\\Anaconda\\lib\\site-packages\\sklearn\\model_selection\\_validation.py:680: DataConversionWarning: A column-vector y was passed when a 1d array was expected. Please change the shape of y to (n_samples,), for example using ravel().\n",
      "  estimator.fit(X_train, y_train, **fit_params)\n",
      "d:\\Apps\\Anaconda\\lib\\site-packages\\sklearn\\model_selection\\_validation.py:680: DataConversionWarning: A column-vector y was passed when a 1d array was expected. Please change the shape of y to (n_samples,), for example using ravel().\n",
      "  estimator.fit(X_train, y_train, **fit_params)\n",
      "d:\\Apps\\Anaconda\\lib\\site-packages\\sklearn\\model_selection\\_validation.py:680: DataConversionWarning: A column-vector y was passed when a 1d array was expected. Please change the shape of y to (n_samples,), for example using ravel().\n",
      "  estimator.fit(X_train, y_train, **fit_params)\n"
     ]
    },
    {
     "name": "stdout",
     "output_type": "stream",
     "text": [
      "[CV 2/5; 146/243] END max_depth=10, min_samples_leaf=6, min_samples_split=10, n_estimators=10, random_state=4;, score=0.705 total time=   0.0s\n",
      "[CV 3/5; 146/243] START max_depth=10, min_samples_leaf=6, min_samples_split=10, n_estimators=10, random_state=4\n",
      "[CV 3/5; 146/243] END max_depth=10, min_samples_leaf=6, min_samples_split=10, n_estimators=10, random_state=4;, score=0.572 total time=   0.0s\n",
      "[CV 4/5; 146/243] START max_depth=10, min_samples_leaf=6, min_samples_split=10, n_estimators=10, random_state=4\n",
      "[CV 4/5; 146/243] END max_depth=10, min_samples_leaf=6, min_samples_split=10, n_estimators=10, random_state=4;, score=0.606 total time=   0.0s\n",
      "[CV 5/5; 146/243] START max_depth=10, min_samples_leaf=6, min_samples_split=10, n_estimators=10, random_state=4\n"
     ]
    },
    {
     "name": "stderr",
     "output_type": "stream",
     "text": [
      "d:\\Apps\\Anaconda\\lib\\site-packages\\sklearn\\model_selection\\_validation.py:680: DataConversionWarning: A column-vector y was passed when a 1d array was expected. Please change the shape of y to (n_samples,), for example using ravel().\n",
      "  estimator.fit(X_train, y_train, **fit_params)\n",
      "d:\\Apps\\Anaconda\\lib\\site-packages\\sklearn\\model_selection\\_validation.py:680: DataConversionWarning: A column-vector y was passed when a 1d array was expected. Please change the shape of y to (n_samples,), for example using ravel().\n",
      "  estimator.fit(X_train, y_train, **fit_params)\n",
      "d:\\Apps\\Anaconda\\lib\\site-packages\\sklearn\\model_selection\\_validation.py:680: DataConversionWarning: A column-vector y was passed when a 1d array was expected. Please change the shape of y to (n_samples,), for example using ravel().\n",
      "  estimator.fit(X_train, y_train, **fit_params)\n"
     ]
    },
    {
     "name": "stdout",
     "output_type": "stream",
     "text": [
      "[CV 5/5; 146/243] END max_depth=10, min_samples_leaf=6, min_samples_split=10, n_estimators=10, random_state=4;, score=0.539 total time=   0.0s\n",
      "[CV 1/5; 147/243] START max_depth=10, min_samples_leaf=6, min_samples_split=10, n_estimators=10, random_state=6\n",
      "[CV 1/5; 147/243] END max_depth=10, min_samples_leaf=6, min_samples_split=10, n_estimators=10, random_state=6;, score=0.756 total time=   0.0s\n",
      "[CV 2/5; 147/243] START max_depth=10, min_samples_leaf=6, min_samples_split=10, n_estimators=10, random_state=6\n",
      "[CV 2/5; 147/243] END max_depth=10, min_samples_leaf=6, min_samples_split=10, n_estimators=10, random_state=6;, score=0.681 total time=   0.0s\n",
      "[CV 3/5; 147/243] START max_depth=10, min_samples_leaf=6, min_samples_split=10, n_estimators=10, random_state=6\n"
     ]
    },
    {
     "name": "stderr",
     "output_type": "stream",
     "text": [
      "d:\\Apps\\Anaconda\\lib\\site-packages\\sklearn\\model_selection\\_validation.py:680: DataConversionWarning: A column-vector y was passed when a 1d array was expected. Please change the shape of y to (n_samples,), for example using ravel().\n",
      "  estimator.fit(X_train, y_train, **fit_params)\n",
      "d:\\Apps\\Anaconda\\lib\\site-packages\\sklearn\\model_selection\\_validation.py:680: DataConversionWarning: A column-vector y was passed when a 1d array was expected. Please change the shape of y to (n_samples,), for example using ravel().\n",
      "  estimator.fit(X_train, y_train, **fit_params)\n",
      "d:\\Apps\\Anaconda\\lib\\site-packages\\sklearn\\model_selection\\_validation.py:680: DataConversionWarning: A column-vector y was passed when a 1d array was expected. Please change the shape of y to (n_samples,), for example using ravel().\n",
      "  estimator.fit(X_train, y_train, **fit_params)\n"
     ]
    },
    {
     "name": "stdout",
     "output_type": "stream",
     "text": [
      "[CV 3/5; 147/243] END max_depth=10, min_samples_leaf=6, min_samples_split=10, n_estimators=10, random_state=6;, score=0.593 total time=   0.0s\n",
      "[CV 4/5; 147/243] START max_depth=10, min_samples_leaf=6, min_samples_split=10, n_estimators=10, random_state=6\n",
      "[CV 4/5; 147/243] END max_depth=10, min_samples_leaf=6, min_samples_split=10, n_estimators=10, random_state=6;, score=0.624 total time=   0.0s\n",
      "[CV 5/5; 147/243] START max_depth=10, min_samples_leaf=6, min_samples_split=10, n_estimators=10, random_state=6\n",
      "[CV 5/5; 147/243] END max_depth=10, min_samples_leaf=6, min_samples_split=10, n_estimators=10, random_state=6;, score=0.498 total time=   0.0s\n",
      "[CV 1/5; 148/243] START max_depth=10, min_samples_leaf=6, min_samples_split=10, n_estimators=50, random_state=2\n"
     ]
    },
    {
     "name": "stderr",
     "output_type": "stream",
     "text": [
      "d:\\Apps\\Anaconda\\lib\\site-packages\\sklearn\\model_selection\\_validation.py:680: DataConversionWarning: A column-vector y was passed when a 1d array was expected. Please change the shape of y to (n_samples,), for example using ravel().\n",
      "  estimator.fit(X_train, y_train, **fit_params)\n"
     ]
    },
    {
     "name": "stdout",
     "output_type": "stream",
     "text": [
      "[CV 1/5; 148/243] END max_depth=10, min_samples_leaf=6, min_samples_split=10, n_estimators=50, random_state=2;, score=0.734 total time=   0.2s\n",
      "[CV 2/5; 148/243] START max_depth=10, min_samples_leaf=6, min_samples_split=10, n_estimators=50, random_state=2\n"
     ]
    },
    {
     "name": "stderr",
     "output_type": "stream",
     "text": [
      "d:\\Apps\\Anaconda\\lib\\site-packages\\sklearn\\model_selection\\_validation.py:680: DataConversionWarning: A column-vector y was passed when a 1d array was expected. Please change the shape of y to (n_samples,), for example using ravel().\n",
      "  estimator.fit(X_train, y_train, **fit_params)\n"
     ]
    },
    {
     "name": "stdout",
     "output_type": "stream",
     "text": [
      "[CV 2/5; 148/243] END max_depth=10, min_samples_leaf=6, min_samples_split=10, n_estimators=50, random_state=2;, score=0.740 total time=   0.2s\n",
      "[CV 3/5; 148/243] START max_depth=10, min_samples_leaf=6, min_samples_split=10, n_estimators=50, random_state=2\n"
     ]
    },
    {
     "name": "stderr",
     "output_type": "stream",
     "text": [
      "d:\\Apps\\Anaconda\\lib\\site-packages\\sklearn\\model_selection\\_validation.py:680: DataConversionWarning: A column-vector y was passed when a 1d array was expected. Please change the shape of y to (n_samples,), for example using ravel().\n",
      "  estimator.fit(X_train, y_train, **fit_params)\n"
     ]
    },
    {
     "name": "stdout",
     "output_type": "stream",
     "text": [
      "[CV 3/5; 148/243] END max_depth=10, min_samples_leaf=6, min_samples_split=10, n_estimators=50, random_state=2;, score=0.612 total time=   0.2s\n",
      "[CV 4/5; 148/243] START max_depth=10, min_samples_leaf=6, min_samples_split=10, n_estimators=50, random_state=2\n"
     ]
    },
    {
     "name": "stderr",
     "output_type": "stream",
     "text": [
      "d:\\Apps\\Anaconda\\lib\\site-packages\\sklearn\\model_selection\\_validation.py:680: DataConversionWarning: A column-vector y was passed when a 1d array was expected. Please change the shape of y to (n_samples,), for example using ravel().\n",
      "  estimator.fit(X_train, y_train, **fit_params)\n"
     ]
    },
    {
     "name": "stdout",
     "output_type": "stream",
     "text": [
      "[CV 4/5; 148/243] END max_depth=10, min_samples_leaf=6, min_samples_split=10, n_estimators=50, random_state=2;, score=0.610 total time=   0.2s\n",
      "[CV 5/5; 148/243] START max_depth=10, min_samples_leaf=6, min_samples_split=10, n_estimators=50, random_state=2\n"
     ]
    },
    {
     "name": "stderr",
     "output_type": "stream",
     "text": [
      "d:\\Apps\\Anaconda\\lib\\site-packages\\sklearn\\model_selection\\_validation.py:680: DataConversionWarning: A column-vector y was passed when a 1d array was expected. Please change the shape of y to (n_samples,), for example using ravel().\n",
      "  estimator.fit(X_train, y_train, **fit_params)\n"
     ]
    },
    {
     "name": "stdout",
     "output_type": "stream",
     "text": [
      "[CV 5/5; 148/243] END max_depth=10, min_samples_leaf=6, min_samples_split=10, n_estimators=50, random_state=2;, score=0.519 total time=   0.2s\n",
      "[CV 1/5; 149/243] START max_depth=10, min_samples_leaf=6, min_samples_split=10, n_estimators=50, random_state=4\n"
     ]
    },
    {
     "name": "stderr",
     "output_type": "stream",
     "text": [
      "d:\\Apps\\Anaconda\\lib\\site-packages\\sklearn\\model_selection\\_validation.py:680: DataConversionWarning: A column-vector y was passed when a 1d array was expected. Please change the shape of y to (n_samples,), for example using ravel().\n",
      "  estimator.fit(X_train, y_train, **fit_params)\n"
     ]
    },
    {
     "name": "stdout",
     "output_type": "stream",
     "text": [
      "[CV 1/5; 149/243] END max_depth=10, min_samples_leaf=6, min_samples_split=10, n_estimators=50, random_state=4;, score=0.724 total time=   0.2s\n",
      "[CV 2/5; 149/243] START max_depth=10, min_samples_leaf=6, min_samples_split=10, n_estimators=50, random_state=4\n"
     ]
    },
    {
     "name": "stderr",
     "output_type": "stream",
     "text": [
      "d:\\Apps\\Anaconda\\lib\\site-packages\\sklearn\\model_selection\\_validation.py:680: DataConversionWarning: A column-vector y was passed when a 1d array was expected. Please change the shape of y to (n_samples,), for example using ravel().\n",
      "  estimator.fit(X_train, y_train, **fit_params)\n"
     ]
    },
    {
     "name": "stdout",
     "output_type": "stream",
     "text": [
      "[CV 2/5; 149/243] END max_depth=10, min_samples_leaf=6, min_samples_split=10, n_estimators=50, random_state=4;, score=0.734 total time=   0.2s\n",
      "[CV 3/5; 149/243] START max_depth=10, min_samples_leaf=6, min_samples_split=10, n_estimators=50, random_state=4\n"
     ]
    },
    {
     "name": "stderr",
     "output_type": "stream",
     "text": [
      "d:\\Apps\\Anaconda\\lib\\site-packages\\sklearn\\model_selection\\_validation.py:680: DataConversionWarning: A column-vector y was passed when a 1d array was expected. Please change the shape of y to (n_samples,), for example using ravel().\n",
      "  estimator.fit(X_train, y_train, **fit_params)\n"
     ]
    },
    {
     "name": "stdout",
     "output_type": "stream",
     "text": [
      "[CV 3/5; 149/243] END max_depth=10, min_samples_leaf=6, min_samples_split=10, n_estimators=50, random_state=4;, score=0.579 total time=   0.2s\n",
      "[CV 4/5; 149/243] START max_depth=10, min_samples_leaf=6, min_samples_split=10, n_estimators=50, random_state=4\n"
     ]
    },
    {
     "name": "stderr",
     "output_type": "stream",
     "text": [
      "d:\\Apps\\Anaconda\\lib\\site-packages\\sklearn\\model_selection\\_validation.py:680: DataConversionWarning: A column-vector y was passed when a 1d array was expected. Please change the shape of y to (n_samples,), for example using ravel().\n",
      "  estimator.fit(X_train, y_train, **fit_params)\n"
     ]
    },
    {
     "name": "stdout",
     "output_type": "stream",
     "text": [
      "[CV 4/5; 149/243] END max_depth=10, min_samples_leaf=6, min_samples_split=10, n_estimators=50, random_state=4;, score=0.628 total time=   0.2s\n",
      "[CV 5/5; 149/243] START max_depth=10, min_samples_leaf=6, min_samples_split=10, n_estimators=50, random_state=4\n"
     ]
    },
    {
     "name": "stderr",
     "output_type": "stream",
     "text": [
      "d:\\Apps\\Anaconda\\lib\\site-packages\\sklearn\\model_selection\\_validation.py:680: DataConversionWarning: A column-vector y was passed when a 1d array was expected. Please change the shape of y to (n_samples,), for example using ravel().\n",
      "  estimator.fit(X_train, y_train, **fit_params)\n"
     ]
    },
    {
     "name": "stdout",
     "output_type": "stream",
     "text": [
      "[CV 5/5; 149/243] END max_depth=10, min_samples_leaf=6, min_samples_split=10, n_estimators=50, random_state=4;, score=0.508 total time=   0.2s\n",
      "[CV 1/5; 150/243] START max_depth=10, min_samples_leaf=6, min_samples_split=10, n_estimators=50, random_state=6\n"
     ]
    },
    {
     "name": "stderr",
     "output_type": "stream",
     "text": [
      "d:\\Apps\\Anaconda\\lib\\site-packages\\sklearn\\model_selection\\_validation.py:680: DataConversionWarning: A column-vector y was passed when a 1d array was expected. Please change the shape of y to (n_samples,), for example using ravel().\n",
      "  estimator.fit(X_train, y_train, **fit_params)\n"
     ]
    },
    {
     "name": "stdout",
     "output_type": "stream",
     "text": [
      "[CV 1/5; 150/243] END max_depth=10, min_samples_leaf=6, min_samples_split=10, n_estimators=50, random_state=6;, score=0.752 total time=   0.2s\n",
      "[CV 2/5; 150/243] START max_depth=10, min_samples_leaf=6, min_samples_split=10, n_estimators=50, random_state=6\n"
     ]
    },
    {
     "name": "stderr",
     "output_type": "stream",
     "text": [
      "d:\\Apps\\Anaconda\\lib\\site-packages\\sklearn\\model_selection\\_validation.py:680: DataConversionWarning: A column-vector y was passed when a 1d array was expected. Please change the shape of y to (n_samples,), for example using ravel().\n",
      "  estimator.fit(X_train, y_train, **fit_params)\n"
     ]
    },
    {
     "name": "stdout",
     "output_type": "stream",
     "text": [
      "[CV 2/5; 150/243] END max_depth=10, min_samples_leaf=6, min_samples_split=10, n_estimators=50, random_state=6;, score=0.716 total time=   0.2s\n",
      "[CV 3/5; 150/243] START max_depth=10, min_samples_leaf=6, min_samples_split=10, n_estimators=50, random_state=6\n"
     ]
    },
    {
     "name": "stderr",
     "output_type": "stream",
     "text": [
      "d:\\Apps\\Anaconda\\lib\\site-packages\\sklearn\\model_selection\\_validation.py:680: DataConversionWarning: A column-vector y was passed when a 1d array was expected. Please change the shape of y to (n_samples,), for example using ravel().\n",
      "  estimator.fit(X_train, y_train, **fit_params)\n"
     ]
    },
    {
     "name": "stdout",
     "output_type": "stream",
     "text": [
      "[CV 3/5; 150/243] END max_depth=10, min_samples_leaf=6, min_samples_split=10, n_estimators=50, random_state=6;, score=0.598 total time=   0.2s\n",
      "[CV 4/5; 150/243] START max_depth=10, min_samples_leaf=6, min_samples_split=10, n_estimators=50, random_state=6\n"
     ]
    },
    {
     "name": "stderr",
     "output_type": "stream",
     "text": [
      "d:\\Apps\\Anaconda\\lib\\site-packages\\sklearn\\model_selection\\_validation.py:680: DataConversionWarning: A column-vector y was passed when a 1d array was expected. Please change the shape of y to (n_samples,), for example using ravel().\n",
      "  estimator.fit(X_train, y_train, **fit_params)\n"
     ]
    },
    {
     "name": "stdout",
     "output_type": "stream",
     "text": [
      "[CV 4/5; 150/243] END max_depth=10, min_samples_leaf=6, min_samples_split=10, n_estimators=50, random_state=6;, score=0.617 total time=   0.2s\n",
      "[CV 5/5; 150/243] START max_depth=10, min_samples_leaf=6, min_samples_split=10, n_estimators=50, random_state=6\n"
     ]
    },
    {
     "name": "stderr",
     "output_type": "stream",
     "text": [
      "d:\\Apps\\Anaconda\\lib\\site-packages\\sklearn\\model_selection\\_validation.py:680: DataConversionWarning: A column-vector y was passed when a 1d array was expected. Please change the shape of y to (n_samples,), for example using ravel().\n",
      "  estimator.fit(X_train, y_train, **fit_params)\n"
     ]
    },
    {
     "name": "stdout",
     "output_type": "stream",
     "text": [
      "[CV 5/5; 150/243] END max_depth=10, min_samples_leaf=6, min_samples_split=10, n_estimators=50, random_state=6;, score=0.527 total time=   0.2s\n",
      "[CV 1/5; 151/243] START max_depth=10, min_samples_leaf=6, min_samples_split=10, n_estimators=100, random_state=2\n"
     ]
    },
    {
     "name": "stderr",
     "output_type": "stream",
     "text": [
      "d:\\Apps\\Anaconda\\lib\\site-packages\\sklearn\\model_selection\\_validation.py:680: DataConversionWarning: A column-vector y was passed when a 1d array was expected. Please change the shape of y to (n_samples,), for example using ravel().\n",
      "  estimator.fit(X_train, y_train, **fit_params)\n"
     ]
    },
    {
     "name": "stdout",
     "output_type": "stream",
     "text": [
      "[CV 1/5; 151/243] END max_depth=10, min_samples_leaf=6, min_samples_split=10, n_estimators=100, random_state=2;, score=0.737 total time=   0.5s\n",
      "[CV 2/5; 151/243] START max_depth=10, min_samples_leaf=6, min_samples_split=10, n_estimators=100, random_state=2\n"
     ]
    },
    {
     "name": "stderr",
     "output_type": "stream",
     "text": [
      "d:\\Apps\\Anaconda\\lib\\site-packages\\sklearn\\model_selection\\_validation.py:680: DataConversionWarning: A column-vector y was passed when a 1d array was expected. Please change the shape of y to (n_samples,), for example using ravel().\n",
      "  estimator.fit(X_train, y_train, **fit_params)\n"
     ]
    },
    {
     "name": "stdout",
     "output_type": "stream",
     "text": [
      "[CV 2/5; 151/243] END max_depth=10, min_samples_leaf=6, min_samples_split=10, n_estimators=100, random_state=2;, score=0.732 total time=   0.5s\n",
      "[CV 3/5; 151/243] START max_depth=10, min_samples_leaf=6, min_samples_split=10, n_estimators=100, random_state=2\n"
     ]
    },
    {
     "name": "stderr",
     "output_type": "stream",
     "text": [
      "d:\\Apps\\Anaconda\\lib\\site-packages\\sklearn\\model_selection\\_validation.py:680: DataConversionWarning: A column-vector y was passed when a 1d array was expected. Please change the shape of y to (n_samples,), for example using ravel().\n",
      "  estimator.fit(X_train, y_train, **fit_params)\n"
     ]
    },
    {
     "name": "stdout",
     "output_type": "stream",
     "text": [
      "[CV 3/5; 151/243] END max_depth=10, min_samples_leaf=6, min_samples_split=10, n_estimators=100, random_state=2;, score=0.599 total time=   0.5s\n",
      "[CV 4/5; 151/243] START max_depth=10, min_samples_leaf=6, min_samples_split=10, n_estimators=100, random_state=2\n"
     ]
    },
    {
     "name": "stderr",
     "output_type": "stream",
     "text": [
      "d:\\Apps\\Anaconda\\lib\\site-packages\\sklearn\\model_selection\\_validation.py:680: DataConversionWarning: A column-vector y was passed when a 1d array was expected. Please change the shape of y to (n_samples,), for example using ravel().\n",
      "  estimator.fit(X_train, y_train, **fit_params)\n"
     ]
    },
    {
     "name": "stdout",
     "output_type": "stream",
     "text": [
      "[CV 4/5; 151/243] END max_depth=10, min_samples_leaf=6, min_samples_split=10, n_estimators=100, random_state=2;, score=0.615 total time=   0.5s\n",
      "[CV 5/5; 151/243] START max_depth=10, min_samples_leaf=6, min_samples_split=10, n_estimators=100, random_state=2\n"
     ]
    },
    {
     "name": "stderr",
     "output_type": "stream",
     "text": [
      "d:\\Apps\\Anaconda\\lib\\site-packages\\sklearn\\model_selection\\_validation.py:680: DataConversionWarning: A column-vector y was passed when a 1d array was expected. Please change the shape of y to (n_samples,), for example using ravel().\n",
      "  estimator.fit(X_train, y_train, **fit_params)\n",
      "d:\\Apps\\Anaconda\\lib\\site-packages\\sklearn\\model_selection\\_validation.py:680: DataConversionWarning: A column-vector y was passed when a 1d array was expected. Please change the shape of y to (n_samples,), for example using ravel().\n",
      "  estimator.fit(X_train, y_train, **fit_params)\n"
     ]
    },
    {
     "name": "stdout",
     "output_type": "stream",
     "text": [
      "[CV 5/5; 151/243] END max_depth=10, min_samples_leaf=6, min_samples_split=10, n_estimators=100, random_state=2;, score=0.523 total time=   0.5s\n",
      "[CV 1/5; 152/243] START max_depth=10, min_samples_leaf=6, min_samples_split=10, n_estimators=100, random_state=4\n",
      "[CV 1/5; 152/243] END max_depth=10, min_samples_leaf=6, min_samples_split=10, n_estimators=100, random_state=4;, score=0.735 total time=   0.5s\n",
      "[CV 2/5; 152/243] START max_depth=10, min_samples_leaf=6, min_samples_split=10, n_estimators=100, random_state=4\n"
     ]
    },
    {
     "name": "stderr",
     "output_type": "stream",
     "text": [
      "d:\\Apps\\Anaconda\\lib\\site-packages\\sklearn\\model_selection\\_validation.py:680: DataConversionWarning: A column-vector y was passed when a 1d array was expected. Please change the shape of y to (n_samples,), for example using ravel().\n",
      "  estimator.fit(X_train, y_train, **fit_params)\n"
     ]
    },
    {
     "name": "stdout",
     "output_type": "stream",
     "text": [
      "[CV 2/5; 152/243] END max_depth=10, min_samples_leaf=6, min_samples_split=10, n_estimators=100, random_state=4;, score=0.731 total time=   0.5s\n",
      "[CV 3/5; 152/243] START max_depth=10, min_samples_leaf=6, min_samples_split=10, n_estimators=100, random_state=4\n"
     ]
    },
    {
     "name": "stderr",
     "output_type": "stream",
     "text": [
      "d:\\Apps\\Anaconda\\lib\\site-packages\\sklearn\\model_selection\\_validation.py:680: DataConversionWarning: A column-vector y was passed when a 1d array was expected. Please change the shape of y to (n_samples,), for example using ravel().\n",
      "  estimator.fit(X_train, y_train, **fit_params)\n"
     ]
    },
    {
     "name": "stdout",
     "output_type": "stream",
     "text": [
      "[CV 3/5; 152/243] END max_depth=10, min_samples_leaf=6, min_samples_split=10, n_estimators=100, random_state=4;, score=0.597 total time=   0.5s\n",
      "[CV 4/5; 152/243] START max_depth=10, min_samples_leaf=6, min_samples_split=10, n_estimators=100, random_state=4\n"
     ]
    },
    {
     "name": "stderr",
     "output_type": "stream",
     "text": [
      "d:\\Apps\\Anaconda\\lib\\site-packages\\sklearn\\model_selection\\_validation.py:680: DataConversionWarning: A column-vector y was passed when a 1d array was expected. Please change the shape of y to (n_samples,), for example using ravel().\n",
      "  estimator.fit(X_train, y_train, **fit_params)\n"
     ]
    },
    {
     "name": "stdout",
     "output_type": "stream",
     "text": [
      "[CV 4/5; 152/243] END max_depth=10, min_samples_leaf=6, min_samples_split=10, n_estimators=100, random_state=4;, score=0.608 total time=   0.5s\n",
      "[CV 5/5; 152/243] START max_depth=10, min_samples_leaf=6, min_samples_split=10, n_estimators=100, random_state=4\n"
     ]
    },
    {
     "name": "stderr",
     "output_type": "stream",
     "text": [
      "d:\\Apps\\Anaconda\\lib\\site-packages\\sklearn\\model_selection\\_validation.py:680: DataConversionWarning: A column-vector y was passed when a 1d array was expected. Please change the shape of y to (n_samples,), for example using ravel().\n",
      "  estimator.fit(X_train, y_train, **fit_params)\n"
     ]
    },
    {
     "name": "stdout",
     "output_type": "stream",
     "text": [
      "[CV 5/5; 152/243] END max_depth=10, min_samples_leaf=6, min_samples_split=10, n_estimators=100, random_state=4;, score=0.514 total time=   0.5s\n",
      "[CV 1/5; 153/243] START max_depth=10, min_samples_leaf=6, min_samples_split=10, n_estimators=100, random_state=6\n"
     ]
    },
    {
     "name": "stderr",
     "output_type": "stream",
     "text": [
      "d:\\Apps\\Anaconda\\lib\\site-packages\\sklearn\\model_selection\\_validation.py:680: DataConversionWarning: A column-vector y was passed when a 1d array was expected. Please change the shape of y to (n_samples,), for example using ravel().\n",
      "  estimator.fit(X_train, y_train, **fit_params)\n"
     ]
    },
    {
     "name": "stdout",
     "output_type": "stream",
     "text": [
      "[CV 1/5; 153/243] END max_depth=10, min_samples_leaf=6, min_samples_split=10, n_estimators=100, random_state=6;, score=0.746 total time=   0.5s\n",
      "[CV 2/5; 153/243] START max_depth=10, min_samples_leaf=6, min_samples_split=10, n_estimators=100, random_state=6\n"
     ]
    },
    {
     "name": "stderr",
     "output_type": "stream",
     "text": [
      "d:\\Apps\\Anaconda\\lib\\site-packages\\sklearn\\model_selection\\_validation.py:680: DataConversionWarning: A column-vector y was passed when a 1d array was expected. Please change the shape of y to (n_samples,), for example using ravel().\n",
      "  estimator.fit(X_train, y_train, **fit_params)\n"
     ]
    },
    {
     "name": "stdout",
     "output_type": "stream",
     "text": [
      "[CV 2/5; 153/243] END max_depth=10, min_samples_leaf=6, min_samples_split=10, n_estimators=100, random_state=6;, score=0.721 total time=   0.5s\n",
      "[CV 3/5; 153/243] START max_depth=10, min_samples_leaf=6, min_samples_split=10, n_estimators=100, random_state=6\n"
     ]
    },
    {
     "name": "stderr",
     "output_type": "stream",
     "text": [
      "d:\\Apps\\Anaconda\\lib\\site-packages\\sklearn\\model_selection\\_validation.py:680: DataConversionWarning: A column-vector y was passed when a 1d array was expected. Please change the shape of y to (n_samples,), for example using ravel().\n",
      "  estimator.fit(X_train, y_train, **fit_params)\n"
     ]
    },
    {
     "name": "stdout",
     "output_type": "stream",
     "text": [
      "[CV 3/5; 153/243] END max_depth=10, min_samples_leaf=6, min_samples_split=10, n_estimators=100, random_state=6;, score=0.598 total time=   0.5s\n",
      "[CV 4/5; 153/243] START max_depth=10, min_samples_leaf=6, min_samples_split=10, n_estimators=100, random_state=6\n"
     ]
    },
    {
     "name": "stderr",
     "output_type": "stream",
     "text": [
      "d:\\Apps\\Anaconda\\lib\\site-packages\\sklearn\\model_selection\\_validation.py:680: DataConversionWarning: A column-vector y was passed when a 1d array was expected. Please change the shape of y to (n_samples,), for example using ravel().\n",
      "  estimator.fit(X_train, y_train, **fit_params)\n"
     ]
    },
    {
     "name": "stdout",
     "output_type": "stream",
     "text": [
      "[CV 4/5; 153/243] END max_depth=10, min_samples_leaf=6, min_samples_split=10, n_estimators=100, random_state=6;, score=0.610 total time=   0.5s\n",
      "[CV 5/5; 153/243] START max_depth=10, min_samples_leaf=6, min_samples_split=10, n_estimators=100, random_state=6\n"
     ]
    },
    {
     "name": "stderr",
     "output_type": "stream",
     "text": [
      "d:\\Apps\\Anaconda\\lib\\site-packages\\sklearn\\model_selection\\_validation.py:680: DataConversionWarning: A column-vector y was passed when a 1d array was expected. Please change the shape of y to (n_samples,), for example using ravel().\n",
      "  estimator.fit(X_train, y_train, **fit_params)\n"
     ]
    },
    {
     "name": "stdout",
     "output_type": "stream",
     "text": [
      "[CV 5/5; 153/243] END max_depth=10, min_samples_leaf=6, min_samples_split=10, n_estimators=100, random_state=6;, score=0.526 total time=   0.5s\n",
      "[CV 1/5; 154/243] START max_depth=10, min_samples_leaf=6, min_samples_split=15, n_estimators=10, random_state=2\n",
      "[CV 1/5; 154/243] END max_depth=10, min_samples_leaf=6, min_samples_split=15, n_estimators=10, random_state=2;, score=0.743 total time=   0.0s\n",
      "[CV 2/5; 154/243] START max_depth=10, min_samples_leaf=6, min_samples_split=15, n_estimators=10, random_state=2\n",
      "[CV 2/5; 154/243] END max_depth=10, min_samples_leaf=6, min_samples_split=15, n_estimators=10, random_state=2;, score=0.721 total time=   0.0s\n",
      "[CV 3/5; 154/243] START max_depth=10, min_samples_leaf=6, min_samples_split=15, n_estimators=10, random_state=2\n"
     ]
    },
    {
     "name": "stderr",
     "output_type": "stream",
     "text": [
      "d:\\Apps\\Anaconda\\lib\\site-packages\\sklearn\\model_selection\\_validation.py:680: DataConversionWarning: A column-vector y was passed when a 1d array was expected. Please change the shape of y to (n_samples,), for example using ravel().\n",
      "  estimator.fit(X_train, y_train, **fit_params)\n",
      "d:\\Apps\\Anaconda\\lib\\site-packages\\sklearn\\model_selection\\_validation.py:680: DataConversionWarning: A column-vector y was passed when a 1d array was expected. Please change the shape of y to (n_samples,), for example using ravel().\n",
      "  estimator.fit(X_train, y_train, **fit_params)\n",
      "d:\\Apps\\Anaconda\\lib\\site-packages\\sklearn\\model_selection\\_validation.py:680: DataConversionWarning: A column-vector y was passed when a 1d array was expected. Please change the shape of y to (n_samples,), for example using ravel().\n",
      "  estimator.fit(X_train, y_train, **fit_params)\n"
     ]
    },
    {
     "name": "stdout",
     "output_type": "stream",
     "text": [
      "[CV 3/5; 154/243] END max_depth=10, min_samples_leaf=6, min_samples_split=15, n_estimators=10, random_state=2;, score=0.590 total time=   0.0s\n",
      "[CV 4/5; 154/243] START max_depth=10, min_samples_leaf=6, min_samples_split=15, n_estimators=10, random_state=2\n",
      "[CV 4/5; 154/243] END max_depth=10, min_samples_leaf=6, min_samples_split=15, n_estimators=10, random_state=2;, score=0.579 total time=   0.0s\n",
      "[CV 5/5; 154/243] START max_depth=10, min_samples_leaf=6, min_samples_split=15, n_estimators=10, random_state=2\n",
      "[CV 5/5; 154/243] END max_depth=10, min_samples_leaf=6, min_samples_split=15, n_estimators=10, random_state=2;, score=0.506 total time=   0.0s\n",
      "[CV 1/5; 155/243] START max_depth=10, min_samples_leaf=6, min_samples_split=15, n_estimators=10, random_state=4\n",
      "[CV 1/5; 155/243] END max_depth=10, min_samples_leaf=6, min_samples_split=15, n_estimators=10, random_state=4;, score=0.734 total time=   0.0s\n",
      "[CV 2/5; 155/243] START max_depth=10, min_samples_leaf=6, min_samples_split=15, n_estimators=10, random_state=4\n"
     ]
    },
    {
     "name": "stderr",
     "output_type": "stream",
     "text": [
      "d:\\Apps\\Anaconda\\lib\\site-packages\\sklearn\\model_selection\\_validation.py:680: DataConversionWarning: A column-vector y was passed when a 1d array was expected. Please change the shape of y to (n_samples,), for example using ravel().\n",
      "  estimator.fit(X_train, y_train, **fit_params)\n",
      "d:\\Apps\\Anaconda\\lib\\site-packages\\sklearn\\model_selection\\_validation.py:680: DataConversionWarning: A column-vector y was passed when a 1d array was expected. Please change the shape of y to (n_samples,), for example using ravel().\n",
      "  estimator.fit(X_train, y_train, **fit_params)\n",
      "d:\\Apps\\Anaconda\\lib\\site-packages\\sklearn\\model_selection\\_validation.py:680: DataConversionWarning: A column-vector y was passed when a 1d array was expected. Please change the shape of y to (n_samples,), for example using ravel().\n",
      "  estimator.fit(X_train, y_train, **fit_params)\n",
      "d:\\Apps\\Anaconda\\lib\\site-packages\\sklearn\\model_selection\\_validation.py:680: DataConversionWarning: A column-vector y was passed when a 1d array was expected. Please change the shape of y to (n_samples,), for example using ravel().\n",
      "  estimator.fit(X_train, y_train, **fit_params)\n",
      "d:\\Apps\\Anaconda\\lib\\site-packages\\sklearn\\model_selection\\_validation.py:680: DataConversionWarning: A column-vector y was passed when a 1d array was expected. Please change the shape of y to (n_samples,), for example using ravel().\n",
      "  estimator.fit(X_train, y_train, **fit_params)\n",
      "d:\\Apps\\Anaconda\\lib\\site-packages\\sklearn\\model_selection\\_validation.py:680: DataConversionWarning: A column-vector y was passed when a 1d array was expected. Please change the shape of y to (n_samples,), for example using ravel().\n",
      "  estimator.fit(X_train, y_train, **fit_params)\n"
     ]
    },
    {
     "name": "stdout",
     "output_type": "stream",
     "text": [
      "[CV 2/5; 155/243] END max_depth=10, min_samples_leaf=6, min_samples_split=15, n_estimators=10, random_state=4;, score=0.701 total time=   0.0s\n",
      "[CV 3/5; 155/243] START max_depth=10, min_samples_leaf=6, min_samples_split=15, n_estimators=10, random_state=4\n",
      "[CV 3/5; 155/243] END max_depth=10, min_samples_leaf=6, min_samples_split=15, n_estimators=10, random_state=4;, score=0.566 total time=   0.0s\n",
      "[CV 4/5; 155/243] START max_depth=10, min_samples_leaf=6, min_samples_split=15, n_estimators=10, random_state=4\n",
      "[CV 4/5; 155/243] END max_depth=10, min_samples_leaf=6, min_samples_split=15, n_estimators=10, random_state=4;, score=0.595 total time=   0.0s\n",
      "[CV 5/5; 155/243] START max_depth=10, min_samples_leaf=6, min_samples_split=15, n_estimators=10, random_state=4\n"
     ]
    },
    {
     "name": "stderr",
     "output_type": "stream",
     "text": [
      "d:\\Apps\\Anaconda\\lib\\site-packages\\sklearn\\model_selection\\_validation.py:680: DataConversionWarning: A column-vector y was passed when a 1d array was expected. Please change the shape of y to (n_samples,), for example using ravel().\n",
      "  estimator.fit(X_train, y_train, **fit_params)\n",
      "d:\\Apps\\Anaconda\\lib\\site-packages\\sklearn\\model_selection\\_validation.py:680: DataConversionWarning: A column-vector y was passed when a 1d array was expected. Please change the shape of y to (n_samples,), for example using ravel().\n",
      "  estimator.fit(X_train, y_train, **fit_params)\n",
      "d:\\Apps\\Anaconda\\lib\\site-packages\\sklearn\\model_selection\\_validation.py:680: DataConversionWarning: A column-vector y was passed when a 1d array was expected. Please change the shape of y to (n_samples,), for example using ravel().\n",
      "  estimator.fit(X_train, y_train, **fit_params)\n"
     ]
    },
    {
     "name": "stdout",
     "output_type": "stream",
     "text": [
      "[CV 5/5; 155/243] END max_depth=10, min_samples_leaf=6, min_samples_split=15, n_estimators=10, random_state=4;, score=0.528 total time=   0.0s\n",
      "[CV 1/5; 156/243] START max_depth=10, min_samples_leaf=6, min_samples_split=15, n_estimators=10, random_state=6\n",
      "[CV 1/5; 156/243] END max_depth=10, min_samples_leaf=6, min_samples_split=15, n_estimators=10, random_state=6;, score=0.770 total time=   0.0s\n",
      "[CV 2/5; 156/243] START max_depth=10, min_samples_leaf=6, min_samples_split=15, n_estimators=10, random_state=6\n",
      "[CV 2/5; 156/243] END max_depth=10, min_samples_leaf=6, min_samples_split=15, n_estimators=10, random_state=6;, score=0.686 total time=   0.0s\n",
      "[CV 3/5; 156/243] START max_depth=10, min_samples_leaf=6, min_samples_split=15, n_estimators=10, random_state=6\n"
     ]
    },
    {
     "name": "stderr",
     "output_type": "stream",
     "text": [
      "d:\\Apps\\Anaconda\\lib\\site-packages\\sklearn\\model_selection\\_validation.py:680: DataConversionWarning: A column-vector y was passed when a 1d array was expected. Please change the shape of y to (n_samples,), for example using ravel().\n",
      "  estimator.fit(X_train, y_train, **fit_params)\n",
      "d:\\Apps\\Anaconda\\lib\\site-packages\\sklearn\\model_selection\\_validation.py:680: DataConversionWarning: A column-vector y was passed when a 1d array was expected. Please change the shape of y to (n_samples,), for example using ravel().\n",
      "  estimator.fit(X_train, y_train, **fit_params)\n",
      "d:\\Apps\\Anaconda\\lib\\site-packages\\sklearn\\model_selection\\_validation.py:680: DataConversionWarning: A column-vector y was passed when a 1d array was expected. Please change the shape of y to (n_samples,), for example using ravel().\n",
      "  estimator.fit(X_train, y_train, **fit_params)\n"
     ]
    },
    {
     "name": "stdout",
     "output_type": "stream",
     "text": [
      "[CV 3/5; 156/243] END max_depth=10, min_samples_leaf=6, min_samples_split=15, n_estimators=10, random_state=6;, score=0.579 total time=   0.0s\n",
      "[CV 4/5; 156/243] START max_depth=10, min_samples_leaf=6, min_samples_split=15, n_estimators=10, random_state=6\n",
      "[CV 4/5; 156/243] END max_depth=10, min_samples_leaf=6, min_samples_split=15, n_estimators=10, random_state=6;, score=0.618 total time=   0.0s\n",
      "[CV 5/5; 156/243] START max_depth=10, min_samples_leaf=6, min_samples_split=15, n_estimators=10, random_state=6\n",
      "[CV 5/5; 156/243] END max_depth=10, min_samples_leaf=6, min_samples_split=15, n_estimators=10, random_state=6;, score=0.505 total time=   0.0s\n",
      "[CV 1/5; 157/243] START max_depth=10, min_samples_leaf=6, min_samples_split=15, n_estimators=50, random_state=2\n"
     ]
    },
    {
     "name": "stderr",
     "output_type": "stream",
     "text": [
      "d:\\Apps\\Anaconda\\lib\\site-packages\\sklearn\\model_selection\\_validation.py:680: DataConversionWarning: A column-vector y was passed when a 1d array was expected. Please change the shape of y to (n_samples,), for example using ravel().\n",
      "  estimator.fit(X_train, y_train, **fit_params)\n"
     ]
    },
    {
     "name": "stdout",
     "output_type": "stream",
     "text": [
      "[CV 1/5; 157/243] END max_depth=10, min_samples_leaf=6, min_samples_split=15, n_estimators=50, random_state=2;, score=0.745 total time=   0.2s\n",
      "[CV 2/5; 157/243] START max_depth=10, min_samples_leaf=6, min_samples_split=15, n_estimators=50, random_state=2\n"
     ]
    },
    {
     "name": "stderr",
     "output_type": "stream",
     "text": [
      "d:\\Apps\\Anaconda\\lib\\site-packages\\sklearn\\model_selection\\_validation.py:680: DataConversionWarning: A column-vector y was passed when a 1d array was expected. Please change the shape of y to (n_samples,), for example using ravel().\n",
      "  estimator.fit(X_train, y_train, **fit_params)\n"
     ]
    },
    {
     "name": "stdout",
     "output_type": "stream",
     "text": [
      "[CV 2/5; 157/243] END max_depth=10, min_samples_leaf=6, min_samples_split=15, n_estimators=50, random_state=2;, score=0.731 total time=   0.2s\n",
      "[CV 3/5; 157/243] START max_depth=10, min_samples_leaf=6, min_samples_split=15, n_estimators=50, random_state=2\n"
     ]
    },
    {
     "name": "stderr",
     "output_type": "stream",
     "text": [
      "d:\\Apps\\Anaconda\\lib\\site-packages\\sklearn\\model_selection\\_validation.py:680: DataConversionWarning: A column-vector y was passed when a 1d array was expected. Please change the shape of y to (n_samples,), for example using ravel().\n",
      "  estimator.fit(X_train, y_train, **fit_params)\n"
     ]
    },
    {
     "name": "stdout",
     "output_type": "stream",
     "text": [
      "[CV 3/5; 157/243] END max_depth=10, min_samples_leaf=6, min_samples_split=15, n_estimators=50, random_state=2;, score=0.585 total time=   0.2s\n",
      "[CV 4/5; 157/243] START max_depth=10, min_samples_leaf=6, min_samples_split=15, n_estimators=50, random_state=2\n"
     ]
    },
    {
     "name": "stderr",
     "output_type": "stream",
     "text": [
      "d:\\Apps\\Anaconda\\lib\\site-packages\\sklearn\\model_selection\\_validation.py:680: DataConversionWarning: A column-vector y was passed when a 1d array was expected. Please change the shape of y to (n_samples,), for example using ravel().\n",
      "  estimator.fit(X_train, y_train, **fit_params)\n"
     ]
    },
    {
     "name": "stdout",
     "output_type": "stream",
     "text": [
      "[CV 4/5; 157/243] END max_depth=10, min_samples_leaf=6, min_samples_split=15, n_estimators=50, random_state=2;, score=0.601 total time=   0.2s\n",
      "[CV 5/5; 157/243] START max_depth=10, min_samples_leaf=6, min_samples_split=15, n_estimators=50, random_state=2\n"
     ]
    },
    {
     "name": "stderr",
     "output_type": "stream",
     "text": [
      "d:\\Apps\\Anaconda\\lib\\site-packages\\sklearn\\model_selection\\_validation.py:680: DataConversionWarning: A column-vector y was passed when a 1d array was expected. Please change the shape of y to (n_samples,), for example using ravel().\n",
      "  estimator.fit(X_train, y_train, **fit_params)\n"
     ]
    },
    {
     "name": "stdout",
     "output_type": "stream",
     "text": [
      "[CV 5/5; 157/243] END max_depth=10, min_samples_leaf=6, min_samples_split=15, n_estimators=50, random_state=2;, score=0.512 total time=   0.2s\n",
      "[CV 1/5; 158/243] START max_depth=10, min_samples_leaf=6, min_samples_split=15, n_estimators=50, random_state=4\n"
     ]
    },
    {
     "name": "stderr",
     "output_type": "stream",
     "text": [
      "d:\\Apps\\Anaconda\\lib\\site-packages\\sklearn\\model_selection\\_validation.py:680: DataConversionWarning: A column-vector y was passed when a 1d array was expected. Please change the shape of y to (n_samples,), for example using ravel().\n",
      "  estimator.fit(X_train, y_train, **fit_params)\n"
     ]
    },
    {
     "name": "stdout",
     "output_type": "stream",
     "text": [
      "[CV 1/5; 158/243] END max_depth=10, min_samples_leaf=6, min_samples_split=15, n_estimators=50, random_state=4;, score=0.714 total time=   0.2s\n",
      "[CV 2/5; 158/243] START max_depth=10, min_samples_leaf=6, min_samples_split=15, n_estimators=50, random_state=4\n"
     ]
    },
    {
     "name": "stderr",
     "output_type": "stream",
     "text": [
      "d:\\Apps\\Anaconda\\lib\\site-packages\\sklearn\\model_selection\\_validation.py:680: DataConversionWarning: A column-vector y was passed when a 1d array was expected. Please change the shape of y to (n_samples,), for example using ravel().\n",
      "  estimator.fit(X_train, y_train, **fit_params)\n"
     ]
    },
    {
     "name": "stdout",
     "output_type": "stream",
     "text": [
      "[CV 2/5; 158/243] END max_depth=10, min_samples_leaf=6, min_samples_split=15, n_estimators=50, random_state=4;, score=0.730 total time=   0.2s\n",
      "[CV 3/5; 158/243] START max_depth=10, min_samples_leaf=6, min_samples_split=15, n_estimators=50, random_state=4\n"
     ]
    },
    {
     "name": "stderr",
     "output_type": "stream",
     "text": [
      "d:\\Apps\\Anaconda\\lib\\site-packages\\sklearn\\model_selection\\_validation.py:680: DataConversionWarning: A column-vector y was passed when a 1d array was expected. Please change the shape of y to (n_samples,), for example using ravel().\n",
      "  estimator.fit(X_train, y_train, **fit_params)\n"
     ]
    },
    {
     "name": "stdout",
     "output_type": "stream",
     "text": [
      "[CV 3/5; 158/243] END max_depth=10, min_samples_leaf=6, min_samples_split=15, n_estimators=50, random_state=4;, score=0.568 total time=   0.2s\n",
      "[CV 4/5; 158/243] START max_depth=10, min_samples_leaf=6, min_samples_split=15, n_estimators=50, random_state=4\n"
     ]
    },
    {
     "name": "stderr",
     "output_type": "stream",
     "text": [
      "d:\\Apps\\Anaconda\\lib\\site-packages\\sklearn\\model_selection\\_validation.py:680: DataConversionWarning: A column-vector y was passed when a 1d array was expected. Please change the shape of y to (n_samples,), for example using ravel().\n",
      "  estimator.fit(X_train, y_train, **fit_params)\n"
     ]
    },
    {
     "name": "stdout",
     "output_type": "stream",
     "text": [
      "[CV 4/5; 158/243] END max_depth=10, min_samples_leaf=6, min_samples_split=15, n_estimators=50, random_state=4;, score=0.619 total time=   0.2s\n",
      "[CV 5/5; 158/243] START max_depth=10, min_samples_leaf=6, min_samples_split=15, n_estimators=50, random_state=4\n"
     ]
    },
    {
     "name": "stderr",
     "output_type": "stream",
     "text": [
      "d:\\Apps\\Anaconda\\lib\\site-packages\\sklearn\\model_selection\\_validation.py:680: DataConversionWarning: A column-vector y was passed when a 1d array was expected. Please change the shape of y to (n_samples,), for example using ravel().\n",
      "  estimator.fit(X_train, y_train, **fit_params)\n"
     ]
    },
    {
     "name": "stdout",
     "output_type": "stream",
     "text": [
      "[CV 5/5; 158/243] END max_depth=10, min_samples_leaf=6, min_samples_split=15, n_estimators=50, random_state=4;, score=0.498 total time=   0.2s\n",
      "[CV 1/5; 159/243] START max_depth=10, min_samples_leaf=6, min_samples_split=15, n_estimators=50, random_state=6\n"
     ]
    },
    {
     "name": "stderr",
     "output_type": "stream",
     "text": [
      "d:\\Apps\\Anaconda\\lib\\site-packages\\sklearn\\model_selection\\_validation.py:680: DataConversionWarning: A column-vector y was passed when a 1d array was expected. Please change the shape of y to (n_samples,), for example using ravel().\n",
      "  estimator.fit(X_train, y_train, **fit_params)\n"
     ]
    },
    {
     "name": "stdout",
     "output_type": "stream",
     "text": [
      "[CV 1/5; 159/243] END max_depth=10, min_samples_leaf=6, min_samples_split=15, n_estimators=50, random_state=6;, score=0.765 total time=   0.2s\n",
      "[CV 2/5; 159/243] START max_depth=10, min_samples_leaf=6, min_samples_split=15, n_estimators=50, random_state=6\n"
     ]
    },
    {
     "name": "stderr",
     "output_type": "stream",
     "text": [
      "d:\\Apps\\Anaconda\\lib\\site-packages\\sklearn\\model_selection\\_validation.py:680: DataConversionWarning: A column-vector y was passed when a 1d array was expected. Please change the shape of y to (n_samples,), for example using ravel().\n",
      "  estimator.fit(X_train, y_train, **fit_params)\n"
     ]
    },
    {
     "name": "stdout",
     "output_type": "stream",
     "text": [
      "[CV 2/5; 159/243] END max_depth=10, min_samples_leaf=6, min_samples_split=15, n_estimators=50, random_state=6;, score=0.712 total time=   0.2s\n",
      "[CV 3/5; 159/243] START max_depth=10, min_samples_leaf=6, min_samples_split=15, n_estimators=50, random_state=6\n"
     ]
    },
    {
     "name": "stderr",
     "output_type": "stream",
     "text": [
      "d:\\Apps\\Anaconda\\lib\\site-packages\\sklearn\\model_selection\\_validation.py:680: DataConversionWarning: A column-vector y was passed when a 1d array was expected. Please change the shape of y to (n_samples,), for example using ravel().\n",
      "  estimator.fit(X_train, y_train, **fit_params)\n"
     ]
    },
    {
     "name": "stdout",
     "output_type": "stream",
     "text": [
      "[CV 3/5; 159/243] END max_depth=10, min_samples_leaf=6, min_samples_split=15, n_estimators=50, random_state=6;, score=0.582 total time=   0.2s\n",
      "[CV 4/5; 159/243] START max_depth=10, min_samples_leaf=6, min_samples_split=15, n_estimators=50, random_state=6\n"
     ]
    },
    {
     "name": "stderr",
     "output_type": "stream",
     "text": [
      "d:\\Apps\\Anaconda\\lib\\site-packages\\sklearn\\model_selection\\_validation.py:680: DataConversionWarning: A column-vector y was passed when a 1d array was expected. Please change the shape of y to (n_samples,), for example using ravel().\n",
      "  estimator.fit(X_train, y_train, **fit_params)\n"
     ]
    },
    {
     "name": "stdout",
     "output_type": "stream",
     "text": [
      "[CV 4/5; 159/243] END max_depth=10, min_samples_leaf=6, min_samples_split=15, n_estimators=50, random_state=6;, score=0.610 total time=   0.2s\n",
      "[CV 5/5; 159/243] START max_depth=10, min_samples_leaf=6, min_samples_split=15, n_estimators=50, random_state=6\n"
     ]
    },
    {
     "name": "stderr",
     "output_type": "stream",
     "text": [
      "d:\\Apps\\Anaconda\\lib\\site-packages\\sklearn\\model_selection\\_validation.py:680: DataConversionWarning: A column-vector y was passed when a 1d array was expected. Please change the shape of y to (n_samples,), for example using ravel().\n",
      "  estimator.fit(X_train, y_train, **fit_params)\n"
     ]
    },
    {
     "name": "stdout",
     "output_type": "stream",
     "text": [
      "[CV 5/5; 159/243] END max_depth=10, min_samples_leaf=6, min_samples_split=15, n_estimators=50, random_state=6;, score=0.523 total time=   0.2s\n",
      "[CV 1/5; 160/243] START max_depth=10, min_samples_leaf=6, min_samples_split=15, n_estimators=100, random_state=2\n"
     ]
    },
    {
     "name": "stderr",
     "output_type": "stream",
     "text": [
      "d:\\Apps\\Anaconda\\lib\\site-packages\\sklearn\\model_selection\\_validation.py:680: DataConversionWarning: A column-vector y was passed when a 1d array was expected. Please change the shape of y to (n_samples,), for example using ravel().\n",
      "  estimator.fit(X_train, y_train, **fit_params)\n"
     ]
    },
    {
     "name": "stdout",
     "output_type": "stream",
     "text": [
      "[CV 1/5; 160/243] END max_depth=10, min_samples_leaf=6, min_samples_split=15, n_estimators=100, random_state=2;, score=0.752 total time=   0.5s\n",
      "[CV 2/5; 160/243] START max_depth=10, min_samples_leaf=6, min_samples_split=15, n_estimators=100, random_state=2\n"
     ]
    },
    {
     "name": "stderr",
     "output_type": "stream",
     "text": [
      "d:\\Apps\\Anaconda\\lib\\site-packages\\sklearn\\model_selection\\_validation.py:680: DataConversionWarning: A column-vector y was passed when a 1d array was expected. Please change the shape of y to (n_samples,), for example using ravel().\n",
      "  estimator.fit(X_train, y_train, **fit_params)\n"
     ]
    },
    {
     "name": "stdout",
     "output_type": "stream",
     "text": [
      "[CV 2/5; 160/243] END max_depth=10, min_samples_leaf=6, min_samples_split=15, n_estimators=100, random_state=2;, score=0.725 total time=   0.5s\n",
      "[CV 3/5; 160/243] START max_depth=10, min_samples_leaf=6, min_samples_split=15, n_estimators=100, random_state=2\n"
     ]
    },
    {
     "name": "stderr",
     "output_type": "stream",
     "text": [
      "d:\\Apps\\Anaconda\\lib\\site-packages\\sklearn\\model_selection\\_validation.py:680: DataConversionWarning: A column-vector y was passed when a 1d array was expected. Please change the shape of y to (n_samples,), for example using ravel().\n",
      "  estimator.fit(X_train, y_train, **fit_params)\n"
     ]
    },
    {
     "name": "stdout",
     "output_type": "stream",
     "text": [
      "[CV 3/5; 160/243] END max_depth=10, min_samples_leaf=6, min_samples_split=15, n_estimators=100, random_state=2;, score=0.581 total time=   0.5s\n",
      "[CV 4/5; 160/243] START max_depth=10, min_samples_leaf=6, min_samples_split=15, n_estimators=100, random_state=2\n"
     ]
    },
    {
     "name": "stderr",
     "output_type": "stream",
     "text": [
      "d:\\Apps\\Anaconda\\lib\\site-packages\\sklearn\\model_selection\\_validation.py:680: DataConversionWarning: A column-vector y was passed when a 1d array was expected. Please change the shape of y to (n_samples,), for example using ravel().\n",
      "  estimator.fit(X_train, y_train, **fit_params)\n"
     ]
    },
    {
     "name": "stdout",
     "output_type": "stream",
     "text": [
      "[CV 4/5; 160/243] END max_depth=10, min_samples_leaf=6, min_samples_split=15, n_estimators=100, random_state=2;, score=0.612 total time=   0.5s\n",
      "[CV 5/5; 160/243] START max_depth=10, min_samples_leaf=6, min_samples_split=15, n_estimators=100, random_state=2\n"
     ]
    },
    {
     "name": "stderr",
     "output_type": "stream",
     "text": [
      "d:\\Apps\\Anaconda\\lib\\site-packages\\sklearn\\model_selection\\_validation.py:680: DataConversionWarning: A column-vector y was passed when a 1d array was expected. Please change the shape of y to (n_samples,), for example using ravel().\n",
      "  estimator.fit(X_train, y_train, **fit_params)\n"
     ]
    },
    {
     "name": "stdout",
     "output_type": "stream",
     "text": [
      "[CV 5/5; 160/243] END max_depth=10, min_samples_leaf=6, min_samples_split=15, n_estimators=100, random_state=2;, score=0.516 total time=   0.5s\n",
      "[CV 1/5; 161/243] START max_depth=10, min_samples_leaf=6, min_samples_split=15, n_estimators=100, random_state=4\n"
     ]
    },
    {
     "name": "stderr",
     "output_type": "stream",
     "text": [
      "d:\\Apps\\Anaconda\\lib\\site-packages\\sklearn\\model_selection\\_validation.py:680: DataConversionWarning: A column-vector y was passed when a 1d array was expected. Please change the shape of y to (n_samples,), for example using ravel().\n",
      "  estimator.fit(X_train, y_train, **fit_params)\n"
     ]
    },
    {
     "name": "stdout",
     "output_type": "stream",
     "text": [
      "[CV 1/5; 161/243] END max_depth=10, min_samples_leaf=6, min_samples_split=15, n_estimators=100, random_state=4;, score=0.746 total time=   0.5s\n",
      "[CV 2/5; 161/243] START max_depth=10, min_samples_leaf=6, min_samples_split=15, n_estimators=100, random_state=4\n"
     ]
    },
    {
     "name": "stderr",
     "output_type": "stream",
     "text": [
      "d:\\Apps\\Anaconda\\lib\\site-packages\\sklearn\\model_selection\\_validation.py:680: DataConversionWarning: A column-vector y was passed when a 1d array was expected. Please change the shape of y to (n_samples,), for example using ravel().\n",
      "  estimator.fit(X_train, y_train, **fit_params)\n"
     ]
    },
    {
     "name": "stdout",
     "output_type": "stream",
     "text": [
      "[CV 2/5; 161/243] END max_depth=10, min_samples_leaf=6, min_samples_split=15, n_estimators=100, random_state=4;, score=0.728 total time=   0.5s\n",
      "[CV 3/5; 161/243] START max_depth=10, min_samples_leaf=6, min_samples_split=15, n_estimators=100, random_state=4\n"
     ]
    },
    {
     "name": "stderr",
     "output_type": "stream",
     "text": [
      "d:\\Apps\\Anaconda\\lib\\site-packages\\sklearn\\model_selection\\_validation.py:680: DataConversionWarning: A column-vector y was passed when a 1d array was expected. Please change the shape of y to (n_samples,), for example using ravel().\n",
      "  estimator.fit(X_train, y_train, **fit_params)\n"
     ]
    },
    {
     "name": "stdout",
     "output_type": "stream",
     "text": [
      "[CV 3/5; 161/243] END max_depth=10, min_samples_leaf=6, min_samples_split=15, n_estimators=100, random_state=4;, score=0.583 total time=   0.5s\n",
      "[CV 4/5; 161/243] START max_depth=10, min_samples_leaf=6, min_samples_split=15, n_estimators=100, random_state=4\n"
     ]
    },
    {
     "name": "stderr",
     "output_type": "stream",
     "text": [
      "d:\\Apps\\Anaconda\\lib\\site-packages\\sklearn\\model_selection\\_validation.py:680: DataConversionWarning: A column-vector y was passed when a 1d array was expected. Please change the shape of y to (n_samples,), for example using ravel().\n",
      "  estimator.fit(X_train, y_train, **fit_params)\n",
      "d:\\Apps\\Anaconda\\lib\\site-packages\\sklearn\\model_selection\\_validation.py:680: DataConversionWarning: A column-vector y was passed when a 1d array was expected. Please change the shape of y to (n_samples,), for example using ravel().\n",
      "  estimator.fit(X_train, y_train, **fit_params)\n"
     ]
    },
    {
     "name": "stdout",
     "output_type": "stream",
     "text": [
      "[CV 4/5; 161/243] END max_depth=10, min_samples_leaf=6, min_samples_split=15, n_estimators=100, random_state=4;, score=0.596 total time=   0.5s\n",
      "[CV 5/5; 161/243] START max_depth=10, min_samples_leaf=6, min_samples_split=15, n_estimators=100, random_state=4\n"
     ]
    },
    {
     "name": "stderr",
     "output_type": "stream",
     "text": [
      "d:\\Apps\\Anaconda\\lib\\site-packages\\sklearn\\model_selection\\_validation.py:680: DataConversionWarning: A column-vector y was passed when a 1d array was expected. Please change the shape of y to (n_samples,), for example using ravel().\n",
      "  estimator.fit(X_train, y_train, **fit_params)\n"
     ]
    },
    {
     "name": "stdout",
     "output_type": "stream",
     "text": [
      "[CV 5/5; 161/243] END max_depth=10, min_samples_leaf=6, min_samples_split=15, n_estimators=100, random_state=4;, score=0.507 total time=   0.5s\n",
      "[CV 1/5; 162/243] START max_depth=10, min_samples_leaf=6, min_samples_split=15, n_estimators=100, random_state=6\n"
     ]
    }
   ],
   "source": [
    "\n",
    "from sklearn.model_selection import GridSearchCV\n",
    "import sklearn.metrics\n",
    "\n",
    "model = RandomForestRegressor()\n",
    "\n",
    "# Define the hyperparameters to search\n",
    "param_grid = {\n",
    "    'n_estimators': [10, 50,100],\n",
    "    'random_state':[2,4,6],\n",
    "    'max_depth': [ 5, 10, 15],\n",
    "    'min_samples_split': [5,10,15],\n",
    "    'min_samples_leaf': [2, 4, 6]\n",
    "}\n",
    "grid_search = GridSearchCV(model, param_grid, scoring=\"r2\", cv=5, verbose=10)\n",
    "grid_search.fit(X_train, y_train)\n",
    "\n",
    "# Print the best hyperparametersprint(grid_search.best_params_)"
   ]
  },
  {
   "cell_type": "code",
   "execution_count": null,
   "metadata": {},
   "outputs": [
    {
     "data": {
      "text/plain": [
       "RandomForestRegressor(max_depth=15, min_samples_leaf=2, min_samples_split=5,\n",
       "                      n_estimators=10, random_state=2)"
      ]
     },
     "execution_count": 73,
     "metadata": {},
     "output_type": "execute_result"
    }
   ],
   "source": [
    "# grid_search.best_score_\n",
    "grid_search.best_estimator_"
   ]
  },
  {
   "cell_type": "code",
   "execution_count": null,
   "metadata": {},
   "outputs": [
    {
     "data": {
      "text/plain": [
       "0.8637877248990198"
      ]
     },
     "execution_count": 74,
     "metadata": {},
     "output_type": "execute_result"
    }
   ],
   "source": [
    "grid_search.best_estimator_.score(X_train, y_train)\n"
   ]
  },
  {
   "cell_type": "code",
   "execution_count": null,
   "metadata": {},
   "outputs": [],
   "source": [
    "def rmse(predict, actual):\n",
    "    predict = np.array(predict)\n",
    "    actual = np.array(actual)\n",
    "\n",
    "    distance = predict - actual\n",
    "\n",
    "    square_distance = distance ** 2\n",
    "\n",
    "    mean_square_distance = square_distance.mean()\n",
    "\n",
    "    score = np.sqrt(mean_square_distance)\n",
    "\n",
    "    return score"
   ]
  },
  {
   "cell_type": "code",
   "execution_count": null,
   "metadata": {},
   "outputs": [],
   "source": [
    "impxg = grid_result.best_estimator_.feature_importances_\n",
    "impxg"
   ]
  },
  {
   "cell_type": "markdown",
   "metadata": {},
   "source": []
  },
  {
   "cell_type": "code",
   "execution_count": null,
   "metadata": {},
   "outputs": [
    {
     "data": {
      "text/plain": [
       "array([ 1.46051469,  5.40921501,  1.39416667, ...,  1.11581067,\n",
       "       18.48168551,  2.13105556])"
      ]
     },
     "execution_count": 225,
     "metadata": {},
     "output_type": "execute_result"
    }
   ],
   "source": [
    "y_test_predict = grid_search.best_estimator_.predict(X_test)\n",
    "y_test_predict"
   ]
  },
  {
   "cell_type": "code",
   "execution_count": null,
   "metadata": {},
   "outputs": [
    {
     "data": {
      "text/plain": [
       "27.261398656228238"
      ]
     },
     "execution_count": 226,
     "metadata": {},
     "output_type": "execute_result"
    }
   ],
   "source": [
    "rmse(y_test, y_test_predict)"
   ]
  },
  {
   "cell_type": "code",
   "execution_count": null,
   "metadata": {},
   "outputs": [],
   "source": [
    "imp_dic ={}\n",
    "for i in range(len(dc)):\n",
    "    s = dc[i].split(\"_\")\n",
    "\n",
    "    if i<3:\n",
    "        imp_dic[dc[i]]=impxg[i]\n",
    "    elif len(s)>=2 and s[0]==\"metal\":\n",
    "        if s[0] not in imp_dic:\n",
    "            imp_dic[\"metal\"]=impxg[i]\n",
    "        else:\n",
    "            imp_dic[\"metal\"]+=impxg[i]\n",
    "    elif len(s)>=2 and s[0]==\"gas\":\n",
    "        if s[0] not in imp_dic:\n",
    "            imp_dic[\"gas\"]=impxg[i]    \n",
    "        else:\n",
    "            imp_dic[\"gas\"]+=impxg[i]    \n",
    "            \n",
    "plt.figure(figsize=(8, 4))\n",
    "plt.bar(range(len(list(imp_dic.values()))),list(imp_dic.values()))\n",
    "plt.ylabel(\"Importance\")\n",
    "plt.xlabel(\"Inputs\")\n",
    "plt.title(\"Inputs - Importance RandomForest\")\n",
    "plt.xticks(range(len(imp_dic.keys())),list(imp_dic.keys()))\n",
    "plt.show() "
   ]
  },
  {
   "cell_type": "code",
   "execution_count": null,
   "metadata": {},
   "outputs": [],
   "source": []
  },
  {
   "cell_type": "code",
   "execution_count": null,
   "metadata": {},
   "outputs": [],
   "source": []
  },
  {
   "cell_type": "code",
   "execution_count": null,
   "metadata": {},
   "outputs": [],
   "source": []
  },
  {
   "cell_type": "code",
   "execution_count": null,
   "metadata": {},
   "outputs": [
    {
     "name": "stdout",
     "output_type": "stream",
     "text": [
      " Results from Grid Search \n",
      "\n",
      " The best estimator across ALL searched params:\n",
      " RandomForestRegressor(max_depth=15, min_samples_leaf=2, min_samples_split=5,\n",
      "                      n_estimators=50, random_state=2)\n",
      "\n",
      " The best score across ALL searched params:\n",
      " 0.741848018352926\n",
      "\n",
      " The best parameters across ALL searched params:\n",
      " {'max_depth': 15, 'min_samples_leaf': 2, 'min_samples_split': 5, 'n_estimators': 50, 'random_state': 2}\n"
     ]
    }
   ],
   "source": [
    "print(\" Results from Grid Search \" )\n",
    "print(\"\\n The best estimator across ALL searched params:\\n\",grid_search.best_estimator_)\n",
    "print(\"\\n The best score across ALL searched params:\\n\",grid_search.best_score_)\n",
    "print(\"\\n The best parameters across ALL searched params:\\n\",grid_search.best_params_)"
   ]
  },
  {
   "cell_type": "code",
   "execution_count": null,
   "metadata": {},
   "outputs": [],
   "source": [
    "from sklearn.metrics import make_scorer\n",
    "def rmse(predict, actual):\n",
    "    predict = np.array(predict)\n",
    "    actual = np.array(actual)\n",
    "\n",
    "    distance = predict - actual\n",
    "\n",
    "    square_distance = distance ** 2\n",
    "\n",
    "    mean_square_distance = square_distance.mean()\n",
    "\n",
    "    score = np.sqrt(mean_square_distance)\n",
    "\n",
    "    return score\n",
    "rmse_score = make_scorer(rmse, greater_is_better = False)\n"
   ]
  },
  {
   "cell_type": "code",
   "execution_count": 103,
   "metadata": {},
   "outputs": [
    {
     "ename": "NameError",
     "evalue": "name 'rmse_score' is not defined",
     "output_type": "error",
     "traceback": [
      "\u001b[1;31m---------------------------------------------------------------------------\u001b[0m",
      "\u001b[1;31mNameError\u001b[0m                                 Traceback (most recent call last)",
      "\u001b[1;32md:\\PythonProjects\\pythonProject\\train\\train_sklean.ipynb Cell 67\u001b[0m in \u001b[0;36m<cell line: 10>\u001b[1;34m()\u001b[0m\n\u001b[0;32m      <a href='vscode-notebook-cell:/d%3A/PythonProjects/pythonProject/train/train_sklean.ipynb#Y122sZmlsZQ%3D%3D?line=0'>1</a>\u001b[0m param_grid \u001b[39m=\u001b[39m {\n\u001b[0;32m      <a href='vscode-notebook-cell:/d%3A/PythonProjects/pythonProject/train/train_sklean.ipynb#Y122sZmlsZQ%3D%3D?line=1'>2</a>\u001b[0m     \u001b[39m'\u001b[39m\u001b[39mn_estimators\u001b[39m\u001b[39m'\u001b[39m: [ \u001b[39m100\u001b[39m],\n\u001b[0;32m      <a href='vscode-notebook-cell:/d%3A/PythonProjects/pythonProject/train/train_sklean.ipynb#Y122sZmlsZQ%3D%3D?line=2'>3</a>\u001b[0m     \u001b[39m'\u001b[39m\u001b[39mrandom_state\u001b[39m\u001b[39m'\u001b[39m:[\u001b[39m2\u001b[39m,\u001b[39m4\u001b[39m,\u001b[39m6\u001b[39m],\n\u001b[1;32m   (...)\u001b[0m\n\u001b[0;32m      <a href='vscode-notebook-cell:/d%3A/PythonProjects/pythonProject/train/train_sklean.ipynb#Y122sZmlsZQ%3D%3D?line=5'>6</a>\u001b[0m     \u001b[39m'\u001b[39m\u001b[39mmin_samples_leaf\u001b[39m\u001b[39m'\u001b[39m: [\u001b[39m2\u001b[39m, \u001b[39m4\u001b[39m,\u001b[39m6\u001b[39m]\n\u001b[0;32m      <a href='vscode-notebook-cell:/d%3A/PythonProjects/pythonProject/train/train_sklean.ipynb#Y122sZmlsZQ%3D%3D?line=6'>7</a>\u001b[0m }\n\u001b[0;32m      <a href='vscode-notebook-cell:/d%3A/PythonProjects/pythonProject/train/train_sklean.ipynb#Y122sZmlsZQ%3D%3D?line=7'>8</a>\u001b[0m model \u001b[39m=\u001b[39m RandomForestRegressor()\n\u001b[1;32m---> <a href='vscode-notebook-cell:/d%3A/PythonProjects/pythonProject/train/train_sklean.ipynb#Y122sZmlsZQ%3D%3D?line=9'>10</a>\u001b[0m grid_search \u001b[39m=\u001b[39m GridSearchCV(model, param_grid, scoring\u001b[39m=\u001b[39mrmse_score, cv\u001b[39m=\u001b[39m\u001b[39m5\u001b[39m, verbose\u001b[39m=\u001b[39m\u001b[39m10\u001b[39m)\n\u001b[0;32m     <a href='vscode-notebook-cell:/d%3A/PythonProjects/pythonProject/train/train_sklean.ipynb#Y122sZmlsZQ%3D%3D?line=10'>11</a>\u001b[0m grid_search\u001b[39m.\u001b[39mfit(X_train, y_train)\n\u001b[0;32m     <a href='vscode-notebook-cell:/d%3A/PythonProjects/pythonProject/train/train_sklean.ipynb#Y122sZmlsZQ%3D%3D?line=11'>12</a>\u001b[0m \u001b[39m# regr.fit(X_train, y_train)\u001b[39;00m\n\u001b[0;32m     <a href='vscode-notebook-cell:/d%3A/PythonProjects/pythonProject/train/train_sklean.ipynb#Y122sZmlsZQ%3D%3D?line=12'>13</a>\u001b[0m \n\u001b[0;32m     <a href='vscode-notebook-cell:/d%3A/PythonProjects/pythonProject/train/train_sklean.ipynb#Y122sZmlsZQ%3D%3D?line=13'>14</a>\u001b[0m \u001b[39m# Print the best hyperparameters\u001b[39;00m\n",
      "\u001b[1;31mNameError\u001b[0m: name 'rmse_score' is not defined"
     ]
    }
   ],
   "source": [
    "param_grid = {\n",
    "    'n_estimators': [ 100],\n",
    "    'random_state':[2,4,6],\n",
    "    'max_depth': [5,10,15],\n",
    "    'min_samples_split': [ 5,10],\n",
    "    'min_samples_leaf': [2, 4,6]\n",
    "}\n",
    "model = RandomForestRegressor()\n",
    "\n",
    "grid_search = GridSearchCV(model, param_grid, scoring=rmse_score, cv=5, verbose=10)\n",
    "grid_search.fit(X_train, y_train)\n",
    "# regr.fit(X_train, y_train)\n",
    "\n",
    "# Print the best hyperparameters\n",
    "print(grid_search.best_params_)"
   ]
  },
  {
   "cell_type": "markdown",
   "metadata": {},
   "source": []
  },
  {
   "cell_type": "code",
   "execution_count": null,
   "metadata": {},
   "outputs": [
    {
     "data": {
      "text/plain": [
       "{'mean_fit_time': array([0.04400115, 0.04258342, 0.04430733, 0.19286337, 0.19720697,\n",
       "        0.20845122, 0.39239287, 0.39534464, 0.39199882, 0.04241099,\n",
       "        0.04150372, 0.0409709 , 0.1983882 , 0.19421024, 0.19766946,\n",
       "        0.40829325, 0.4784647 , 0.38616757, 0.04350204, 0.04458976,\n",
       "        0.04168949, 0.1939024 , 0.19238544, 0.19715509, 0.3919354 ,\n",
       "        0.42617259, 0.38738637, 0.04260764, 0.04263935, 0.04287248,\n",
       "        0.19352436, 0.19397931, 0.19337649, 0.38115153, 0.38888855,\n",
       "        0.39157619, 0.0436101 , 0.04341393, 0.04429526, 0.20646124,\n",
       "        0.1981451 , 0.19930935, 0.38596787, 0.39587922, 0.3907115 ,\n",
       "        0.04098182, 0.04329081, 0.04283395, 0.19473901, 0.204001  ,\n",
       "        0.19562106, 0.39033275, 0.37985473, 0.38764892, 0.04345589,\n",
       "        0.04360676, 0.04378476, 0.19837179, 0.19761624, 0.19364748,\n",
       "        0.39209452, 0.40059819, 0.38433685, 0.04209065, 0.0448504 ,\n",
       "        0.04389424, 0.19707327, 0.19645333, 0.19606886, 0.38778157,\n",
       "        0.38799386, 0.38533406, 0.04162874, 0.04254112, 0.04418125,\n",
       "        0.19299417, 0.19231138, 0.19142513, 0.3784162 , 0.38663511,\n",
       "        0.39879503, 0.06552649, 0.06508975, 0.06772323, 0.31456285,\n",
       "        0.31222787, 0.30940156, 0.61522317, 0.61816359, 0.61274967,\n",
       "        0.06445985, 0.06496964, 0.06419015, 0.30942717, 0.3067853 ,\n",
       "        0.30705824, 0.60704584, 0.60697889, 0.60641227, 0.06328549,\n",
       "        0.06402016, 0.06425748, 0.30392675, 0.30178018, 0.30443463,\n",
       "        0.60912299, 0.60199552, 0.60573845, 0.06424522, 0.06454763,\n",
       "        0.06421556, 0.30701132, 0.3106822 , 0.30748782, 0.60733871,\n",
       "        0.61139483, 0.60956063, 0.06924219, 0.08126464, 0.0725668 ,\n",
       "        0.31126299, 0.30641737, 0.30604191, 0.61169753, 0.61193671,\n",
       "        0.6043364 , 0.06371794, 0.06287189, 0.06280746, 0.30540686,\n",
       "        0.29995208, 0.30111866, 0.59883118, 0.60038681, 0.60380969,\n",
       "        0.06706724, 0.06533804, 0.06370034, 0.30873103, 0.30227108,\n",
       "        0.30378418, 0.59729905, 0.60089931, 0.60590677, 0.06458383,\n",
       "        0.06374826, 0.06278806, 0.29901376, 0.29909515, 0.30611224,\n",
       "        0.59652901, 0.60419335, 0.60256634, 0.06428018, 0.06640658,\n",
       "        0.06418781, 0.31053581, 0.31062341, 0.30900922, 0.6003325 ,\n",
       "        0.6033319 , 0.5959249 , 0.08257346, 0.08079944, 0.08008285,\n",
       "        0.38343935, 0.38313303, 0.38803077, 0.76148138, 0.76319838,\n",
       "        0.76207614, 0.07614288, 0.07600675, 0.07704368, 0.37569261,\n",
       "        0.37629867, 0.38495173, 0.78082337, 0.8034945 , 0.78639665,\n",
       "        0.08513041, 0.08031354, 0.07545238, 0.37100692, 0.38313727,\n",
       "        0.38662457, 0.73882589, 0.7438283 , 0.76654487, 0.08033857,\n",
       "        0.08166909, 0.08627205, 0.41283879, 0.38935685, 0.39785843,\n",
       "        0.77709894, 0.77230711, 0.78687043, 0.08350406, 0.08072844,\n",
       "        0.07954192, 0.37708874, 0.39072309, 0.37497745, 0.79039092,\n",
       "        0.79505191, 0.77995849, 0.08885007, 0.0895771 , 0.08565531,\n",
       "        0.4046977 , 0.41285663, 0.37047634, 0.7366044 , 0.71299553,\n",
       "        0.71262503, 0.07584577, 0.07536669, 0.07803636, 0.35622678,\n",
       "        0.35939474, 0.35995836, 0.70690346, 0.72009382, 0.70945578,\n",
       "        0.07418714, 0.07454596, 0.07423658, 0.35878415, 0.36570687,\n",
       "        0.37134738, 0.74498081, 0.77523866, 0.75489416, 0.07546735,\n",
       "        0.07715459, 0.07741609, 0.37377796, 0.38570023, 0.37391791,\n",
       "        0.72442384, 0.72332621, 0.73461728]),\n",
       " 'std_fit_time': array([3.12434112e-03, 1.03065898e-03, 1.66363386e-03, 3.39160866e-03,\n",
       "        6.32632921e-03, 1.50584740e-02, 6.72561783e-03, 8.14468232e-03,\n",
       "        1.06510598e-02, 1.02680358e-03, 1.02088343e-03, 6.07245795e-04,\n",
       "        6.79794094e-03, 3.63906437e-03, 7.04325428e-03, 3.28029665e-02,\n",
       "        1.08875576e-01, 4.34526921e-03, 2.55999305e-03, 3.81089230e-03,\n",
       "        1.06373106e-03, 5.38994762e-03, 3.15755146e-03, 4.08564986e-03,\n",
       "        8.60668226e-03, 2.72621479e-02, 3.03134431e-03, 2.04714963e-03,\n",
       "        1.28630871e-03, 8.35368028e-04, 4.25936673e-03, 4.74587818e-03,\n",
       "        3.69659193e-03, 1.29269128e-03, 7.50163627e-03, 6.85510032e-03,\n",
       "        1.62040297e-03, 9.98816038e-04, 1.59307538e-03, 7.07561079e-03,\n",
       "        4.71469676e-03, 4.37883202e-03, 3.65664147e-03, 7.96947366e-03,\n",
       "        3.02481863e-03, 9.26545955e-04, 2.94005513e-03, 7.59804418e-04,\n",
       "        6.10087352e-03, 3.22496538e-03, 2.83617916e-03, 7.04054147e-03,\n",
       "        6.14837235e-03, 7.47809110e-03, 2.55875745e-03, 2.18865553e-03,\n",
       "        2.43769514e-03, 6.65960625e-03, 3.01963300e-03, 4.07685075e-03,\n",
       "        9.22199447e-03, 3.07156676e-03, 4.30761381e-03, 7.25363378e-04,\n",
       "        3.07454837e-03, 6.78159533e-04, 2.55901955e-03, 2.72216379e-03,\n",
       "        2.76189332e-03, 4.63179616e-03, 6.79023731e-03, 1.27691705e-02,\n",
       "        9.45030289e-04, 1.98221426e-03, 4.51807836e-03, 3.63033450e-03,\n",
       "        5.23874891e-03, 1.91282094e-03, 3.72584214e-03, 6.60769442e-03,\n",
       "        2.27467649e-02, 3.41592171e-03, 5.45723231e-04, 1.49615316e-03,\n",
       "        2.23158110e-03, 5.89878060e-03, 2.67542866e-03, 6.12798428e-03,\n",
       "        5.22978593e-03, 6.31475402e-03, 1.19508869e-03, 2.39486294e-03,\n",
       "        9.80507635e-04, 6.04966250e-03, 4.59379469e-03, 4.34486988e-03,\n",
       "        6.46139035e-03, 6.70330939e-03, 5.17724808e-03, 8.64781708e-04,\n",
       "        1.85320963e-03, 1.19615608e-03, 3.25066094e-03, 2.38945675e-03,\n",
       "        3.39101116e-03, 5.63114862e-03, 6.00785838e-03, 7.24213612e-03,\n",
       "        1.66345812e-03, 1.59739189e-03, 9.76563694e-04, 5.93490016e-03,\n",
       "        4.74399112e-03, 1.26569865e-03, 4.55353350e-03, 1.29663976e-02,\n",
       "        3.80898327e-03, 4.88317853e-03, 3.60213013e-03, 4.53619925e-03,\n",
       "        8.46555908e-03, 6.32479082e-03, 4.75094395e-03, 8.64443989e-03,\n",
       "        6.06152356e-03, 5.69479373e-03, 1.13530151e-03, 6.53959388e-04,\n",
       "        1.16064743e-03, 4.58009712e-03, 3.46199638e-03, 4.67397699e-03,\n",
       "        1.15893827e-02, 5.85376916e-03, 1.00024541e-02, 2.78203132e-03,\n",
       "        1.55258173e-03, 1.32780299e-03, 4.38147126e-03, 2.12688268e-03,\n",
       "        6.86975704e-03, 1.47185672e-03, 9.07874003e-03, 1.23675127e-02,\n",
       "        1.83146382e-03, 1.32054846e-03, 1.48521170e-03, 1.50487018e-03,\n",
       "        3.25662780e-03, 4.76171378e-03, 4.64166547e-03, 9.85360695e-03,\n",
       "        5.70005557e-03, 2.23966441e-03, 1.22416557e-03, 1.73429108e-03,\n",
       "        6.89673254e-03, 9.44044627e-03, 9.89199871e-03, 7.68095710e-03,\n",
       "        1.00075698e-02, 4.13026095e-03, 4.64932159e-03, 9.79540028e-04,\n",
       "        1.55142208e-03, 5.41147776e-03, 3.68707949e-03, 4.04883560e-03,\n",
       "        8.26268582e-03, 5.73838057e-03, 3.74142590e-03, 9.69125870e-04,\n",
       "        1.09377755e-05, 7.07148406e-04, 9.20413261e-03, 4.03011360e-03,\n",
       "        1.09812296e-02, 2.80489610e-02, 2.76345122e-02, 2.38483936e-02,\n",
       "        5.01361295e-03, 1.77910171e-03, 5.42623829e-04, 8.08712529e-03,\n",
       "        3.67075292e-02, 3.20888320e-02, 1.98811612e-02, 1.17066475e-02,\n",
       "        2.04143808e-02, 2.69287400e-03, 4.46465694e-03, 7.00271944e-03,\n",
       "        5.79207175e-03, 1.41754799e-02, 1.23024826e-02, 1.65907459e-02,\n",
       "        2.77246471e-02, 1.60398127e-02, 2.55438874e-03, 3.49204806e-03,\n",
       "        2.26354818e-03, 1.30345273e-02, 1.79844867e-02, 6.83248698e-03,\n",
       "        2.85957888e-02, 2.46533617e-02, 2.30111792e-02, 7.18702812e-03,\n",
       "        5.84235776e-03, 4.58949965e-03, 1.66731890e-02, 1.55496684e-02,\n",
       "        7.75757612e-03, 1.00873803e-02, 5.01776317e-03, 6.98795649e-03,\n",
       "        1.27832207e-03, 1.14738561e-03, 3.28762544e-03, 5.51171552e-03,\n",
       "        3.86540473e-03, 2.52136362e-03, 4.89337015e-03, 1.38028104e-02,\n",
       "        8.27655551e-03, 7.34120618e-04, 1.34967371e-03, 7.59204999e-04,\n",
       "        6.37745582e-03, 7.97029767e-03, 8.47588852e-03, 2.13082173e-02,\n",
       "        3.53400562e-02, 2.73048709e-02, 1.72119617e-03, 2.50230469e-03,\n",
       "        5.51852491e-03, 9.17875335e-03, 1.92343681e-02, 6.51603795e-03,\n",
       "        1.13396646e-02, 5.93161554e-03, 1.33350625e-02]),\n",
       " 'mean_score_time': array([0.0025846 , 0.00285068, 0.00303912, 0.00701962, 0.00661201,\n",
       "        0.00600047, 0.0099668 , 0.01080012, 0.01000986, 0.00258861,\n",
       "        0.00261631, 0.00281262, 0.00621104, 0.00600605, 0.00582237,\n",
       "        0.01019511, 0.0120007 , 0.00989709, 0.00259962, 0.00277658,\n",
       "        0.00296674, 0.00579982, 0.00621901, 0.00677724, 0.01061692,\n",
       "        0.01024094, 0.01000042, 0.00305476, 0.00280004, 0.0030005 ,\n",
       "        0.00584583, 0.0060257 , 0.00659962, 0.00948672, 0.00960007,\n",
       "        0.00969014, 0.00279002, 0.00299826, 0.00281081, 0.00709581,\n",
       "        0.00632005, 0.00638089, 0.01037188, 0.0100306 , 0.01013722,\n",
       "        0.00238953, 0.00249715, 0.00283728, 0.00600066, 0.00652595,\n",
       "        0.00639973, 0.00984907, 0.01019993, 0.00977817, 0.00280075,\n",
       "        0.00287695, 0.00260162, 0.00604453, 0.00618052, 0.00603323,\n",
       "        0.01060152, 0.01012349, 0.00969625, 0.0027998 , 0.00302334,\n",
       "        0.00300269, 0.00586181, 0.00618873, 0.00635424, 0.00999737,\n",
       "        0.00962453, 0.00959988, 0.002564  , 0.00272713, 0.00328321,\n",
       "        0.00627904, 0.00580058, 0.00600066, 0.00994706, 0.01019878,\n",
       "        0.01065073, 0.00323095, 0.00339937, 0.0034481 , 0.00830636,\n",
       "        0.00880089, 0.00820022, 0.01443024, 0.0146349 , 0.01432972,\n",
       "        0.0028254 , 0.00327687, 0.00333252, 0.00810132, 0.00807886,\n",
       "        0.00799961, 0.01436715, 0.01436143, 0.0140131 , 0.00302558,\n",
       "        0.0031837 , 0.00336556, 0.00778146, 0.0081881 , 0.00800653,\n",
       "        0.01505556, 0.01400042, 0.01435299, 0.00300083, 0.00370326,\n",
       "        0.00320053, 0.00838327, 0.00840073, 0.00861592, 0.01455894,\n",
       "        0.01430359, 0.01442451, 0.00380282, 0.0036005 , 0.00330467,\n",
       "        0.0083962 , 0.00865831, 0.00844383, 0.01463504, 0.01491203,\n",
       "        0.01478696, 0.00339961, 0.00347528, 0.00337977, 0.00834341,\n",
       "        0.00817747, 0.00878291, 0.01398816, 0.01391397, 0.01447444,\n",
       "        0.00320916, 0.00366302, 0.00359936, 0.00819969, 0.0079998 ,\n",
       "        0.00803885, 0.01464019, 0.01486902, 0.01450605, 0.00341864,\n",
       "        0.00340028, 0.0032208 , 0.00796795, 0.00862679, 0.00799456,\n",
       "        0.01413789, 0.01438746, 0.01441464, 0.00378833, 0.00379381,\n",
       "        0.00429993, 0.00817633, 0.00828209, 0.00878367, 0.0150115 ,\n",
       "        0.01480069, 0.01455116, 0.00420632, 0.00360026, 0.00382829,\n",
       "        0.01041474, 0.01040254, 0.01099582, 0.01924648, 0.01962628,\n",
       "        0.01959991, 0.00359998, 0.00359931, 0.00341697, 0.01000004,\n",
       "        0.01019888, 0.01160011, 0.01942191, 0.01940131, 0.01908789,\n",
       "        0.00340075, 0.00318756, 0.00355754, 0.01009173, 0.0098002 ,\n",
       "        0.00962353, 0.01795464, 0.01778479, 0.01775942, 0.00418983,\n",
       "        0.00338879, 0.00397282, 0.01166086, 0.01061735, 0.01137037,\n",
       "        0.01889257, 0.01999893, 0.01999888, 0.00381165, 0.00401287,\n",
       "        0.00381703, 0.01087527, 0.0102293 , 0.01022387, 0.01985917,\n",
       "        0.01966786, 0.01878247, 0.00419922, 0.00450644, 0.00401387,\n",
       "        0.01142249, 0.0112401 , 0.01039829, 0.01858573, 0.01733422,\n",
       "        0.01733828, 0.00373983, 0.00336127, 0.00431209, 0.01071901,\n",
       "        0.00981512, 0.01016531, 0.01787591, 0.01787915, 0.01791649,\n",
       "        0.00362377, 0.00360188, 0.00339909, 0.00999045, 0.01005979,\n",
       "        0.01167169, 0.01794395, 0.02002864, 0.01784062, 0.00400047,\n",
       "        0.00384526, 0.00420818, 0.01000814, 0.01179795, 0.01021428,\n",
       "        0.01756253, 0.01783867, 0.01823649]),\n",
       " 'std_score_time': array([4.77529181e-04, 2.97381343e-04, 3.53705770e-04, 5.93550886e-04,\n",
       "        4.99846252e-04, 2.17157317e-06, 6.42138056e-04, 1.32640310e-03,\n",
       "        2.08523457e-05, 4.80779932e-04, 5.04282576e-04, 4.06308491e-04,\n",
       "        3.95718421e-04, 8.80199113e-04, 7.24265155e-04, 5.42128276e-04,\n",
       "        1.67348412e-03, 6.57272304e-04, 4.89609595e-04, 3.91906290e-04,\n",
       "        3.94170451e-05, 3.99256792e-04, 9.73509014e-04, 7.74008406e-04,\n",
       "        1.77422536e-03, 3.82586175e-04, 6.74179558e-04, 1.10797770e-04,\n",
       "        3.99853914e-04, 2.01742132e-06, 4.31764485e-04, 5.09543734e-05,\n",
       "        4.89551398e-04, 6.12709872e-04, 4.89998745e-04, 5.95221074e-04,\n",
       "        3.94868168e-04, 4.22119673e-05, 7.36985320e-04, 1.11309740e-03,\n",
       "        4.13906283e-04, 5.07607491e-04, 1.87294367e-03, 3.85152209e-05,\n",
       "        1.47684323e-03, 5.30295931e-04, 4.48018528e-04, 3.25369883e-04,\n",
       "        7.62939453e-07, 4.24295143e-04, 4.90096251e-04, 4.36527503e-04,\n",
       "        4.02742507e-04, 7.49631579e-04, 7.49297234e-04, 2.46383813e-04,\n",
       "        4.88620832e-04, 6.47549735e-04, 3.63473170e-04, 5.83465698e-04,\n",
       "        2.24638100e-03, 2.51575190e-04, 4.29465048e-04, 3.99972856e-04,\n",
       "        6.32607053e-04, 3.73218832e-05, 2.07716385e-04, 3.79435857e-04,\n",
       "        5.91439998e-04, 2.07930528e-05, 4.76892597e-04, 4.89843127e-04,\n",
       "        4.65146042e-04, 5.74361107e-04, 8.73748873e-04, 7.45557052e-04,\n",
       "        7.48991890e-04, 6.32033553e-04, 8.73636728e-05, 3.99498525e-04,\n",
       "        1.33584628e-03, 3.89093529e-04, 4.94540343e-04, 4.53100433e-04,\n",
       "        4.01057090e-04, 3.99663720e-04, 3.99447071e-04, 4.10613844e-04,\n",
       "        5.18922414e-04, 3.85850795e-04, 2.54014363e-04, 4.03039183e-04,\n",
       "        5.58218551e-04, 6.63817810e-04, 6.49838508e-04, 5.30983387e-07,\n",
       "        7.83429265e-04, 3.79296592e-04, 2.63231387e-05, 7.85510742e-05,\n",
       "        3.67474629e-04, 4.77866097e-04, 3.91615225e-04, 4.06493416e-04,\n",
       "        6.31576430e-04, 2.07426028e-03, 6.33618015e-04, 5.78570507e-04,\n",
       "        1.13443158e-06, 3.97403268e-04, 4.00543695e-04, 5.04370050e-04,\n",
       "        4.91112028e-04, 5.03810838e-04, 4.91055986e-04, 4.00798058e-04,\n",
       "        7.88124115e-04, 7.48857589e-04, 4.90296167e-04, 4.02388619e-04,\n",
       "        4.98070561e-04, 7.64086823e-04, 5.43593210e-04, 5.06423363e-04,\n",
       "        8.10176160e-04, 3.99109995e-04, 4.90563570e-04, 5.94096132e-04,\n",
       "        5.13590640e-04, 4.27752311e-04, 4.14396714e-04, 3.95622350e-04,\n",
       "        6.32847501e-04, 4.87678699e-04, 3.24338922e-04, 4.67688594e-04,\n",
       "        4.30148730e-04, 4.88482081e-04, 4.00782610e-04, 5.56082906e-07,\n",
       "        5.52563841e-04, 9.59431160e-04, 8.81004176e-04, 4.61178239e-04,\n",
       "        4.76140405e-04, 4.89922425e-04, 3.90753286e-04, 6.29484651e-05,\n",
       "        7.82017528e-04, 4.44434400e-04, 4.64257865e-04, 5.00493801e-04,\n",
       "        5.09449673e-04, 6.45970571e-04, 3.97111680e-04, 6.11460736e-04,\n",
       "        2.16213869e-04, 4.15621306e-04, 2.66968797e-04, 1.09042149e-03,\n",
       "        4.00260207e-04, 5.52550167e-04, 4.39264647e-04, 4.89804395e-04,\n",
       "        4.01919617e-04, 4.79337446e-04, 3.75056709e-04, 8.12780091e-06,\n",
       "        4.25409372e-04, 7.80856577e-04, 4.90076682e-04, 4.90057140e-04,\n",
       "        4.90388213e-04, 5.11147780e-04, 8.97163759e-07, 7.47551277e-04,\n",
       "        1.49700081e-03, 1.33368569e-03, 8.00971338e-04, 1.05320746e-03,\n",
       "        4.88657229e-04, 3.75321147e-04, 5.04637163e-04, 4.98456983e-04,\n",
       "        7.50050981e-04, 4.77443215e-04, 8.44819747e-04, 4.31277671e-04,\n",
       "        3.87222766e-04, 7.37927643e-04, 4.75706921e-04, 5.45059288e-05,\n",
       "        9.03558244e-04, 5.05506283e-04, 8.14518816e-04, 1.63775778e-03,\n",
       "        2.53119634e-03, 6.33919101e-04, 7.37580117e-04, 2.70637750e-05,\n",
       "        7.74771985e-04, 1.12352961e-03, 4.21576081e-04, 4.04165218e-04,\n",
       "        2.24489549e-03, 1.80805909e-03, 3.92754925e-04, 7.46493763e-04,\n",
       "        4.49436149e-04, 6.33722263e-04, 1.34012915e-03, 1.43903637e-03,\n",
       "        4.91925504e-04, 1.31934141e-03, 6.43603330e-04, 4.61725067e-04,\n",
       "        4.45737801e-04, 4.08581430e-04, 6.22368717e-04, 4.06469889e-04,\n",
       "        2.26719677e-04, 2.03326328e-04, 1.93392654e-04, 5.21819236e-04,\n",
       "        6.61160872e-04, 4.85963705e-04, 4.88991114e-04, 4.90895723e-04,\n",
       "        2.10003329e-05, 3.41562600e-04, 2.78786054e-03, 1.09728365e-03,\n",
       "        1.63547550e-03, 4.04232412e-04, 6.97552626e-07, 5.07287450e-04,\n",
       "        3.94717050e-04, 6.32169340e-04, 2.67062252e-03, 3.94415832e-04,\n",
       "        4.64664357e-04, 6.61477770e-04, 9.47632697e-04]),\n",
       " 'param_max_depth': masked_array(data=[5, 5, 5, 5, 5, 5, 5, 5, 5, 5, 5, 5, 5, 5, 5, 5, 5, 5,\n",
       "                    5, 5, 5, 5, 5, 5, 5, 5, 5, 5, 5, 5, 5, 5, 5, 5, 5, 5,\n",
       "                    5, 5, 5, 5, 5, 5, 5, 5, 5, 5, 5, 5, 5, 5, 5, 5, 5, 5,\n",
       "                    5, 5, 5, 5, 5, 5, 5, 5, 5, 5, 5, 5, 5, 5, 5, 5, 5, 5,\n",
       "                    5, 5, 5, 5, 5, 5, 5, 5, 5, 10, 10, 10, 10, 10, 10, 10,\n",
       "                    10, 10, 10, 10, 10, 10, 10, 10, 10, 10, 10, 10, 10, 10,\n",
       "                    10, 10, 10, 10, 10, 10, 10, 10, 10, 10, 10, 10, 10, 10,\n",
       "                    10, 10, 10, 10, 10, 10, 10, 10, 10, 10, 10, 10, 10, 10,\n",
       "                    10, 10, 10, 10, 10, 10, 10, 10, 10, 10, 10, 10, 10, 10,\n",
       "                    10, 10, 10, 10, 10, 10, 10, 10, 10, 10, 10, 10, 10, 10,\n",
       "                    10, 10, 10, 10, 15, 15, 15, 15, 15, 15, 15, 15, 15, 15,\n",
       "                    15, 15, 15, 15, 15, 15, 15, 15, 15, 15, 15, 15, 15, 15,\n",
       "                    15, 15, 15, 15, 15, 15, 15, 15, 15, 15, 15, 15, 15, 15,\n",
       "                    15, 15, 15, 15, 15, 15, 15, 15, 15, 15, 15, 15, 15, 15,\n",
       "                    15, 15, 15, 15, 15, 15, 15, 15, 15, 15, 15, 15, 15, 15,\n",
       "                    15, 15, 15, 15, 15, 15, 15, 15, 15, 15, 15, 15, 15, 15,\n",
       "                    15],\n",
       "              mask=[False, False, False, False, False, False, False, False,\n",
       "                    False, False, False, False, False, False, False, False,\n",
       "                    False, False, False, False, False, False, False, False,\n",
       "                    False, False, False, False, False, False, False, False,\n",
       "                    False, False, False, False, False, False, False, False,\n",
       "                    False, False, False, False, False, False, False, False,\n",
       "                    False, False, False, False, False, False, False, False,\n",
       "                    False, False, False, False, False, False, False, False,\n",
       "                    False, False, False, False, False, False, False, False,\n",
       "                    False, False, False, False, False, False, False, False,\n",
       "                    False, False, False, False, False, False, False, False,\n",
       "                    False, False, False, False, False, False, False, False,\n",
       "                    False, False, False, False, False, False, False, False,\n",
       "                    False, False, False, False, False, False, False, False,\n",
       "                    False, False, False, False, False, False, False, False,\n",
       "                    False, False, False, False, False, False, False, False,\n",
       "                    False, False, False, False, False, False, False, False,\n",
       "                    False, False, False, False, False, False, False, False,\n",
       "                    False, False, False, False, False, False, False, False,\n",
       "                    False, False, False, False, False, False, False, False,\n",
       "                    False, False, False, False, False, False, False, False,\n",
       "                    False, False, False, False, False, False, False, False,\n",
       "                    False, False, False, False, False, False, False, False,\n",
       "                    False, False, False, False, False, False, False, False,\n",
       "                    False, False, False, False, False, False, False, False,\n",
       "                    False, False, False, False, False, False, False, False,\n",
       "                    False, False, False, False, False, False, False, False,\n",
       "                    False, False, False, False, False, False, False, False,\n",
       "                    False, False, False, False, False, False, False, False,\n",
       "                    False, False, False, False, False, False, False, False,\n",
       "                    False, False, False],\n",
       "        fill_value='?',\n",
       "             dtype=object),\n",
       " 'param_min_samples_leaf': masked_array(data=[2, 2, 2, 2, 2, 2, 2, 2, 2, 2, 2, 2, 2, 2, 2, 2, 2, 2,\n",
       "                    2, 2, 2, 2, 2, 2, 2, 2, 2, 4, 4, 4, 4, 4, 4, 4, 4, 4,\n",
       "                    4, 4, 4, 4, 4, 4, 4, 4, 4, 4, 4, 4, 4, 4, 4, 4, 4, 4,\n",
       "                    6, 6, 6, 6, 6, 6, 6, 6, 6, 6, 6, 6, 6, 6, 6, 6, 6, 6,\n",
       "                    6, 6, 6, 6, 6, 6, 6, 6, 6, 2, 2, 2, 2, 2, 2, 2, 2, 2,\n",
       "                    2, 2, 2, 2, 2, 2, 2, 2, 2, 2, 2, 2, 2, 2, 2, 2, 2, 2,\n",
       "                    4, 4, 4, 4, 4, 4, 4, 4, 4, 4, 4, 4, 4, 4, 4, 4, 4, 4,\n",
       "                    4, 4, 4, 4, 4, 4, 4, 4, 4, 6, 6, 6, 6, 6, 6, 6, 6, 6,\n",
       "                    6, 6, 6, 6, 6, 6, 6, 6, 6, 6, 6, 6, 6, 6, 6, 6, 6, 6,\n",
       "                    2, 2, 2, 2, 2, 2, 2, 2, 2, 2, 2, 2, 2, 2, 2, 2, 2, 2,\n",
       "                    2, 2, 2, 2, 2, 2, 2, 2, 2, 4, 4, 4, 4, 4, 4, 4, 4, 4,\n",
       "                    4, 4, 4, 4, 4, 4, 4, 4, 4, 4, 4, 4, 4, 4, 4, 4, 4, 4,\n",
       "                    6, 6, 6, 6, 6, 6, 6, 6, 6, 6, 6, 6, 6, 6, 6, 6, 6, 6,\n",
       "                    6, 6, 6, 6, 6, 6, 6, 6, 6],\n",
       "              mask=[False, False, False, False, False, False, False, False,\n",
       "                    False, False, False, False, False, False, False, False,\n",
       "                    False, False, False, False, False, False, False, False,\n",
       "                    False, False, False, False, False, False, False, False,\n",
       "                    False, False, False, False, False, False, False, False,\n",
       "                    False, False, False, False, False, False, False, False,\n",
       "                    False, False, False, False, False, False, False, False,\n",
       "                    False, False, False, False, False, False, False, False,\n",
       "                    False, False, False, False, False, False, False, False,\n",
       "                    False, False, False, False, False, False, False, False,\n",
       "                    False, False, False, False, False, False, False, False,\n",
       "                    False, False, False, False, False, False, False, False,\n",
       "                    False, False, False, False, False, False, False, False,\n",
       "                    False, False, False, False, False, False, False, False,\n",
       "                    False, False, False, False, False, False, False, False,\n",
       "                    False, False, False, False, False, False, False, False,\n",
       "                    False, False, False, False, False, False, False, False,\n",
       "                    False, False, False, False, False, False, False, False,\n",
       "                    False, False, False, False, False, False, False, False,\n",
       "                    False, False, False, False, False, False, False, False,\n",
       "                    False, False, False, False, False, False, False, False,\n",
       "                    False, False, False, False, False, False, False, False,\n",
       "                    False, False, False, False, False, False, False, False,\n",
       "                    False, False, False, False, False, False, False, False,\n",
       "                    False, False, False, False, False, False, False, False,\n",
       "                    False, False, False, False, False, False, False, False,\n",
       "                    False, False, False, False, False, False, False, False,\n",
       "                    False, False, False, False, False, False, False, False,\n",
       "                    False, False, False, False, False, False, False, False,\n",
       "                    False, False, False, False, False, False, False, False,\n",
       "                    False, False, False],\n",
       "        fill_value='?',\n",
       "             dtype=object),\n",
       " 'param_min_samples_split': masked_array(data=[5, 5, 5, 5, 5, 5, 5, 5, 5, 10, 10, 10, 10, 10, 10, 10,\n",
       "                    10, 10, 15, 15, 15, 15, 15, 15, 15, 15, 15, 5, 5, 5, 5,\n",
       "                    5, 5, 5, 5, 5, 10, 10, 10, 10, 10, 10, 10, 10, 10, 15,\n",
       "                    15, 15, 15, 15, 15, 15, 15, 15, 5, 5, 5, 5, 5, 5, 5, 5,\n",
       "                    5, 10, 10, 10, 10, 10, 10, 10, 10, 10, 15, 15, 15, 15,\n",
       "                    15, 15, 15, 15, 15, 5, 5, 5, 5, 5, 5, 5, 5, 5, 10, 10,\n",
       "                    10, 10, 10, 10, 10, 10, 10, 15, 15, 15, 15, 15, 15, 15,\n",
       "                    15, 15, 5, 5, 5, 5, 5, 5, 5, 5, 5, 10, 10, 10, 10, 10,\n",
       "                    10, 10, 10, 10, 15, 15, 15, 15, 15, 15, 15, 15, 15, 5,\n",
       "                    5, 5, 5, 5, 5, 5, 5, 5, 10, 10, 10, 10, 10, 10, 10, 10,\n",
       "                    10, 15, 15, 15, 15, 15, 15, 15, 15, 15, 5, 5, 5, 5, 5,\n",
       "                    5, 5, 5, 5, 10, 10, 10, 10, 10, 10, 10, 10, 10, 15, 15,\n",
       "                    15, 15, 15, 15, 15, 15, 15, 5, 5, 5, 5, 5, 5, 5, 5, 5,\n",
       "                    10, 10, 10, 10, 10, 10, 10, 10, 10, 15, 15, 15, 15, 15,\n",
       "                    15, 15, 15, 15, 5, 5, 5, 5, 5, 5, 5, 5, 5, 10, 10, 10,\n",
       "                    10, 10, 10, 10, 10, 10, 15, 15, 15, 15, 15, 15, 15, 15,\n",
       "                    15],\n",
       "              mask=[False, False, False, False, False, False, False, False,\n",
       "                    False, False, False, False, False, False, False, False,\n",
       "                    False, False, False, False, False, False, False, False,\n",
       "                    False, False, False, False, False, False, False, False,\n",
       "                    False, False, False, False, False, False, False, False,\n",
       "                    False, False, False, False, False, False, False, False,\n",
       "                    False, False, False, False, False, False, False, False,\n",
       "                    False, False, False, False, False, False, False, False,\n",
       "                    False, False, False, False, False, False, False, False,\n",
       "                    False, False, False, False, False, False, False, False,\n",
       "                    False, False, False, False, False, False, False, False,\n",
       "                    False, False, False, False, False, False, False, False,\n",
       "                    False, False, False, False, False, False, False, False,\n",
       "                    False, False, False, False, False, False, False, False,\n",
       "                    False, False, False, False, False, False, False, False,\n",
       "                    False, False, False, False, False, False, False, False,\n",
       "                    False, False, False, False, False, False, False, False,\n",
       "                    False, False, False, False, False, False, False, False,\n",
       "                    False, False, False, False, False, False, False, False,\n",
       "                    False, False, False, False, False, False, False, False,\n",
       "                    False, False, False, False, False, False, False, False,\n",
       "                    False, False, False, False, False, False, False, False,\n",
       "                    False, False, False, False, False, False, False, False,\n",
       "                    False, False, False, False, False, False, False, False,\n",
       "                    False, False, False, False, False, False, False, False,\n",
       "                    False, False, False, False, False, False, False, False,\n",
       "                    False, False, False, False, False, False, False, False,\n",
       "                    False, False, False, False, False, False, False, False,\n",
       "                    False, False, False, False, False, False, False, False,\n",
       "                    False, False, False, False, False, False, False, False,\n",
       "                    False, False, False],\n",
       "        fill_value='?',\n",
       "             dtype=object),\n",
       " 'param_n_estimators': masked_array(data=[10, 10, 10, 50, 50, 50, 100, 100, 100, 10, 10, 10, 50,\n",
       "                    50, 50, 100, 100, 100, 10, 10, 10, 50, 50, 50, 100,\n",
       "                    100, 100, 10, 10, 10, 50, 50, 50, 100, 100, 100, 10,\n",
       "                    10, 10, 50, 50, 50, 100, 100, 100, 10, 10, 10, 50, 50,\n",
       "                    50, 100, 100, 100, 10, 10, 10, 50, 50, 50, 100, 100,\n",
       "                    100, 10, 10, 10, 50, 50, 50, 100, 100, 100, 10, 10, 10,\n",
       "                    50, 50, 50, 100, 100, 100, 10, 10, 10, 50, 50, 50, 100,\n",
       "                    100, 100, 10, 10, 10, 50, 50, 50, 100, 100, 100, 10,\n",
       "                    10, 10, 50, 50, 50, 100, 100, 100, 10, 10, 10, 50, 50,\n",
       "                    50, 100, 100, 100, 10, 10, 10, 50, 50, 50, 100, 100,\n",
       "                    100, 10, 10, 10, 50, 50, 50, 100, 100, 100, 10, 10, 10,\n",
       "                    50, 50, 50, 100, 100, 100, 10, 10, 10, 50, 50, 50, 100,\n",
       "                    100, 100, 10, 10, 10, 50, 50, 50, 100, 100, 100, 10,\n",
       "                    10, 10, 50, 50, 50, 100, 100, 100, 10, 10, 10, 50, 50,\n",
       "                    50, 100, 100, 100, 10, 10, 10, 50, 50, 50, 100, 100,\n",
       "                    100, 10, 10, 10, 50, 50, 50, 100, 100, 100, 10, 10, 10,\n",
       "                    50, 50, 50, 100, 100, 100, 10, 10, 10, 50, 50, 50, 100,\n",
       "                    100, 100, 10, 10, 10, 50, 50, 50, 100, 100, 100, 10,\n",
       "                    10, 10, 50, 50, 50, 100, 100, 100, 10, 10, 10, 50, 50,\n",
       "                    50, 100, 100, 100],\n",
       "              mask=[False, False, False, False, False, False, False, False,\n",
       "                    False, False, False, False, False, False, False, False,\n",
       "                    False, False, False, False, False, False, False, False,\n",
       "                    False, False, False, False, False, False, False, False,\n",
       "                    False, False, False, False, False, False, False, False,\n",
       "                    False, False, False, False, False, False, False, False,\n",
       "                    False, False, False, False, False, False, False, False,\n",
       "                    False, False, False, False, False, False, False, False,\n",
       "                    False, False, False, False, False, False, False, False,\n",
       "                    False, False, False, False, False, False, False, False,\n",
       "                    False, False, False, False, False, False, False, False,\n",
       "                    False, False, False, False, False, False, False, False,\n",
       "                    False, False, False, False, False, False, False, False,\n",
       "                    False, False, False, False, False, False, False, False,\n",
       "                    False, False, False, False, False, False, False, False,\n",
       "                    False, False, False, False, False, False, False, False,\n",
       "                    False, False, False, False, False, False, False, False,\n",
       "                    False, False, False, False, False, False, False, False,\n",
       "                    False, False, False, False, False, False, False, False,\n",
       "                    False, False, False, False, False, False, False, False,\n",
       "                    False, False, False, False, False, False, False, False,\n",
       "                    False, False, False, False, False, False, False, False,\n",
       "                    False, False, False, False, False, False, False, False,\n",
       "                    False, False, False, False, False, False, False, False,\n",
       "                    False, False, False, False, False, False, False, False,\n",
       "                    False, False, False, False, False, False, False, False,\n",
       "                    False, False, False, False, False, False, False, False,\n",
       "                    False, False, False, False, False, False, False, False,\n",
       "                    False, False, False, False, False, False, False, False,\n",
       "                    False, False, False, False, False, False, False, False,\n",
       "                    False, False, False],\n",
       "        fill_value='?',\n",
       "             dtype=object),\n",
       " 'param_random_state': masked_array(data=[2, 4, 6, 2, 4, 6, 2, 4, 6, 2, 4, 6, 2, 4, 6, 2, 4, 6,\n",
       "                    2, 4, 6, 2, 4, 6, 2, 4, 6, 2, 4, 6, 2, 4, 6, 2, 4, 6,\n",
       "                    2, 4, 6, 2, 4, 6, 2, 4, 6, 2, 4, 6, 2, 4, 6, 2, 4, 6,\n",
       "                    2, 4, 6, 2, 4, 6, 2, 4, 6, 2, 4, 6, 2, 4, 6, 2, 4, 6,\n",
       "                    2, 4, 6, 2, 4, 6, 2, 4, 6, 2, 4, 6, 2, 4, 6, 2, 4, 6,\n",
       "                    2, 4, 6, 2, 4, 6, 2, 4, 6, 2, 4, 6, 2, 4, 6, 2, 4, 6,\n",
       "                    2, 4, 6, 2, 4, 6, 2, 4, 6, 2, 4, 6, 2, 4, 6, 2, 4, 6,\n",
       "                    2, 4, 6, 2, 4, 6, 2, 4, 6, 2, 4, 6, 2, 4, 6, 2, 4, 6,\n",
       "                    2, 4, 6, 2, 4, 6, 2, 4, 6, 2, 4, 6, 2, 4, 6, 2, 4, 6,\n",
       "                    2, 4, 6, 2, 4, 6, 2, 4, 6, 2, 4, 6, 2, 4, 6, 2, 4, 6,\n",
       "                    2, 4, 6, 2, 4, 6, 2, 4, 6, 2, 4, 6, 2, 4, 6, 2, 4, 6,\n",
       "                    2, 4, 6, 2, 4, 6, 2, 4, 6, 2, 4, 6, 2, 4, 6, 2, 4, 6,\n",
       "                    2, 4, 6, 2, 4, 6, 2, 4, 6, 2, 4, 6, 2, 4, 6, 2, 4, 6,\n",
       "                    2, 4, 6, 2, 4, 6, 2, 4, 6],\n",
       "              mask=[False, False, False, False, False, False, False, False,\n",
       "                    False, False, False, False, False, False, False, False,\n",
       "                    False, False, False, False, False, False, False, False,\n",
       "                    False, False, False, False, False, False, False, False,\n",
       "                    False, False, False, False, False, False, False, False,\n",
       "                    False, False, False, False, False, False, False, False,\n",
       "                    False, False, False, False, False, False, False, False,\n",
       "                    False, False, False, False, False, False, False, False,\n",
       "                    False, False, False, False, False, False, False, False,\n",
       "                    False, False, False, False, False, False, False, False,\n",
       "                    False, False, False, False, False, False, False, False,\n",
       "                    False, False, False, False, False, False, False, False,\n",
       "                    False, False, False, False, False, False, False, False,\n",
       "                    False, False, False, False, False, False, False, False,\n",
       "                    False, False, False, False, False, False, False, False,\n",
       "                    False, False, False, False, False, False, False, False,\n",
       "                    False, False, False, False, False, False, False, False,\n",
       "                    False, False, False, False, False, False, False, False,\n",
       "                    False, False, False, False, False, False, False, False,\n",
       "                    False, False, False, False, False, False, False, False,\n",
       "                    False, False, False, False, False, False, False, False,\n",
       "                    False, False, False, False, False, False, False, False,\n",
       "                    False, False, False, False, False, False, False, False,\n",
       "                    False, False, False, False, False, False, False, False,\n",
       "                    False, False, False, False, False, False, False, False,\n",
       "                    False, False, False, False, False, False, False, False,\n",
       "                    False, False, False, False, False, False, False, False,\n",
       "                    False, False, False, False, False, False, False, False,\n",
       "                    False, False, False, False, False, False, False, False,\n",
       "                    False, False, False, False, False, False, False, False,\n",
       "                    False, False, False],\n",
       "        fill_value='?',\n",
       "             dtype=object),\n",
       " 'params': [{'max_depth': 5,\n",
       "   'min_samples_leaf': 2,\n",
       "   'min_samples_split': 5,\n",
       "   'n_estimators': 10,\n",
       "   'random_state': 2},\n",
       "  {'max_depth': 5,\n",
       "   'min_samples_leaf': 2,\n",
       "   'min_samples_split': 5,\n",
       "   'n_estimators': 10,\n",
       "   'random_state': 4},\n",
       "  {'max_depth': 5,\n",
       "   'min_samples_leaf': 2,\n",
       "   'min_samples_split': 5,\n",
       "   'n_estimators': 10,\n",
       "   'random_state': 6},\n",
       "  {'max_depth': 5,\n",
       "   'min_samples_leaf': 2,\n",
       "   'min_samples_split': 5,\n",
       "   'n_estimators': 50,\n",
       "   'random_state': 2},\n",
       "  {'max_depth': 5,\n",
       "   'min_samples_leaf': 2,\n",
       "   'min_samples_split': 5,\n",
       "   'n_estimators': 50,\n",
       "   'random_state': 4},\n",
       "  {'max_depth': 5,\n",
       "   'min_samples_leaf': 2,\n",
       "   'min_samples_split': 5,\n",
       "   'n_estimators': 50,\n",
       "   'random_state': 6},\n",
       "  {'max_depth': 5,\n",
       "   'min_samples_leaf': 2,\n",
       "   'min_samples_split': 5,\n",
       "   'n_estimators': 100,\n",
       "   'random_state': 2},\n",
       "  {'max_depth': 5,\n",
       "   'min_samples_leaf': 2,\n",
       "   'min_samples_split': 5,\n",
       "   'n_estimators': 100,\n",
       "   'random_state': 4},\n",
       "  {'max_depth': 5,\n",
       "   'min_samples_leaf': 2,\n",
       "   'min_samples_split': 5,\n",
       "   'n_estimators': 100,\n",
       "   'random_state': 6},\n",
       "  {'max_depth': 5,\n",
       "   'min_samples_leaf': 2,\n",
       "   'min_samples_split': 10,\n",
       "   'n_estimators': 10,\n",
       "   'random_state': 2},\n",
       "  {'max_depth': 5,\n",
       "   'min_samples_leaf': 2,\n",
       "   'min_samples_split': 10,\n",
       "   'n_estimators': 10,\n",
       "   'random_state': 4},\n",
       "  {'max_depth': 5,\n",
       "   'min_samples_leaf': 2,\n",
       "   'min_samples_split': 10,\n",
       "   'n_estimators': 10,\n",
       "   'random_state': 6},\n",
       "  {'max_depth': 5,\n",
       "   'min_samples_leaf': 2,\n",
       "   'min_samples_split': 10,\n",
       "   'n_estimators': 50,\n",
       "   'random_state': 2},\n",
       "  {'max_depth': 5,\n",
       "   'min_samples_leaf': 2,\n",
       "   'min_samples_split': 10,\n",
       "   'n_estimators': 50,\n",
       "   'random_state': 4},\n",
       "  {'max_depth': 5,\n",
       "   'min_samples_leaf': 2,\n",
       "   'min_samples_split': 10,\n",
       "   'n_estimators': 50,\n",
       "   'random_state': 6},\n",
       "  {'max_depth': 5,\n",
       "   'min_samples_leaf': 2,\n",
       "   'min_samples_split': 10,\n",
       "   'n_estimators': 100,\n",
       "   'random_state': 2},\n",
       "  {'max_depth': 5,\n",
       "   'min_samples_leaf': 2,\n",
       "   'min_samples_split': 10,\n",
       "   'n_estimators': 100,\n",
       "   'random_state': 4},\n",
       "  {'max_depth': 5,\n",
       "   'min_samples_leaf': 2,\n",
       "   'min_samples_split': 10,\n",
       "   'n_estimators': 100,\n",
       "   'random_state': 6},\n",
       "  {'max_depth': 5,\n",
       "   'min_samples_leaf': 2,\n",
       "   'min_samples_split': 15,\n",
       "   'n_estimators': 10,\n",
       "   'random_state': 2},\n",
       "  {'max_depth': 5,\n",
       "   'min_samples_leaf': 2,\n",
       "   'min_samples_split': 15,\n",
       "   'n_estimators': 10,\n",
       "   'random_state': 4},\n",
       "  {'max_depth': 5,\n",
       "   'min_samples_leaf': 2,\n",
       "   'min_samples_split': 15,\n",
       "   'n_estimators': 10,\n",
       "   'random_state': 6},\n",
       "  {'max_depth': 5,\n",
       "   'min_samples_leaf': 2,\n",
       "   'min_samples_split': 15,\n",
       "   'n_estimators': 50,\n",
       "   'random_state': 2},\n",
       "  {'max_depth': 5,\n",
       "   'min_samples_leaf': 2,\n",
       "   'min_samples_split': 15,\n",
       "   'n_estimators': 50,\n",
       "   'random_state': 4},\n",
       "  {'max_depth': 5,\n",
       "   'min_samples_leaf': 2,\n",
       "   'min_samples_split': 15,\n",
       "   'n_estimators': 50,\n",
       "   'random_state': 6},\n",
       "  {'max_depth': 5,\n",
       "   'min_samples_leaf': 2,\n",
       "   'min_samples_split': 15,\n",
       "   'n_estimators': 100,\n",
       "   'random_state': 2},\n",
       "  {'max_depth': 5,\n",
       "   'min_samples_leaf': 2,\n",
       "   'min_samples_split': 15,\n",
       "   'n_estimators': 100,\n",
       "   'random_state': 4},\n",
       "  {'max_depth': 5,\n",
       "   'min_samples_leaf': 2,\n",
       "   'min_samples_split': 15,\n",
       "   'n_estimators': 100,\n",
       "   'random_state': 6},\n",
       "  {'max_depth': 5,\n",
       "   'min_samples_leaf': 4,\n",
       "   'min_samples_split': 5,\n",
       "   'n_estimators': 10,\n",
       "   'random_state': 2},\n",
       "  {'max_depth': 5,\n",
       "   'min_samples_leaf': 4,\n",
       "   'min_samples_split': 5,\n",
       "   'n_estimators': 10,\n",
       "   'random_state': 4},\n",
       "  {'max_depth': 5,\n",
       "   'min_samples_leaf': 4,\n",
       "   'min_samples_split': 5,\n",
       "   'n_estimators': 10,\n",
       "   'random_state': 6},\n",
       "  {'max_depth': 5,\n",
       "   'min_samples_leaf': 4,\n",
       "   'min_samples_split': 5,\n",
       "   'n_estimators': 50,\n",
       "   'random_state': 2},\n",
       "  {'max_depth': 5,\n",
       "   'min_samples_leaf': 4,\n",
       "   'min_samples_split': 5,\n",
       "   'n_estimators': 50,\n",
       "   'random_state': 4},\n",
       "  {'max_depth': 5,\n",
       "   'min_samples_leaf': 4,\n",
       "   'min_samples_split': 5,\n",
       "   'n_estimators': 50,\n",
       "   'random_state': 6},\n",
       "  {'max_depth': 5,\n",
       "   'min_samples_leaf': 4,\n",
       "   'min_samples_split': 5,\n",
       "   'n_estimators': 100,\n",
       "   'random_state': 2},\n",
       "  {'max_depth': 5,\n",
       "   'min_samples_leaf': 4,\n",
       "   'min_samples_split': 5,\n",
       "   'n_estimators': 100,\n",
       "   'random_state': 4},\n",
       "  {'max_depth': 5,\n",
       "   'min_samples_leaf': 4,\n",
       "   'min_samples_split': 5,\n",
       "   'n_estimators': 100,\n",
       "   'random_state': 6},\n",
       "  {'max_depth': 5,\n",
       "   'min_samples_leaf': 4,\n",
       "   'min_samples_split': 10,\n",
       "   'n_estimators': 10,\n",
       "   'random_state': 2},\n",
       "  {'max_depth': 5,\n",
       "   'min_samples_leaf': 4,\n",
       "   'min_samples_split': 10,\n",
       "   'n_estimators': 10,\n",
       "   'random_state': 4},\n",
       "  {'max_depth': 5,\n",
       "   'min_samples_leaf': 4,\n",
       "   'min_samples_split': 10,\n",
       "   'n_estimators': 10,\n",
       "   'random_state': 6},\n",
       "  {'max_depth': 5,\n",
       "   'min_samples_leaf': 4,\n",
       "   'min_samples_split': 10,\n",
       "   'n_estimators': 50,\n",
       "   'random_state': 2},\n",
       "  {'max_depth': 5,\n",
       "   'min_samples_leaf': 4,\n",
       "   'min_samples_split': 10,\n",
       "   'n_estimators': 50,\n",
       "   'random_state': 4},\n",
       "  {'max_depth': 5,\n",
       "   'min_samples_leaf': 4,\n",
       "   'min_samples_split': 10,\n",
       "   'n_estimators': 50,\n",
       "   'random_state': 6},\n",
       "  {'max_depth': 5,\n",
       "   'min_samples_leaf': 4,\n",
       "   'min_samples_split': 10,\n",
       "   'n_estimators': 100,\n",
       "   'random_state': 2},\n",
       "  {'max_depth': 5,\n",
       "   'min_samples_leaf': 4,\n",
       "   'min_samples_split': 10,\n",
       "   'n_estimators': 100,\n",
       "   'random_state': 4},\n",
       "  {'max_depth': 5,\n",
       "   'min_samples_leaf': 4,\n",
       "   'min_samples_split': 10,\n",
       "   'n_estimators': 100,\n",
       "   'random_state': 6},\n",
       "  {'max_depth': 5,\n",
       "   'min_samples_leaf': 4,\n",
       "   'min_samples_split': 15,\n",
       "   'n_estimators': 10,\n",
       "   'random_state': 2},\n",
       "  {'max_depth': 5,\n",
       "   'min_samples_leaf': 4,\n",
       "   'min_samples_split': 15,\n",
       "   'n_estimators': 10,\n",
       "   'random_state': 4},\n",
       "  {'max_depth': 5,\n",
       "   'min_samples_leaf': 4,\n",
       "   'min_samples_split': 15,\n",
       "   'n_estimators': 10,\n",
       "   'random_state': 6},\n",
       "  {'max_depth': 5,\n",
       "   'min_samples_leaf': 4,\n",
       "   'min_samples_split': 15,\n",
       "   'n_estimators': 50,\n",
       "   'random_state': 2},\n",
       "  {'max_depth': 5,\n",
       "   'min_samples_leaf': 4,\n",
       "   'min_samples_split': 15,\n",
       "   'n_estimators': 50,\n",
       "   'random_state': 4},\n",
       "  {'max_depth': 5,\n",
       "   'min_samples_leaf': 4,\n",
       "   'min_samples_split': 15,\n",
       "   'n_estimators': 50,\n",
       "   'random_state': 6},\n",
       "  {'max_depth': 5,\n",
       "   'min_samples_leaf': 4,\n",
       "   'min_samples_split': 15,\n",
       "   'n_estimators': 100,\n",
       "   'random_state': 2},\n",
       "  {'max_depth': 5,\n",
       "   'min_samples_leaf': 4,\n",
       "   'min_samples_split': 15,\n",
       "   'n_estimators': 100,\n",
       "   'random_state': 4},\n",
       "  {'max_depth': 5,\n",
       "   'min_samples_leaf': 4,\n",
       "   'min_samples_split': 15,\n",
       "   'n_estimators': 100,\n",
       "   'random_state': 6},\n",
       "  {'max_depth': 5,\n",
       "   'min_samples_leaf': 6,\n",
       "   'min_samples_split': 5,\n",
       "   'n_estimators': 10,\n",
       "   'random_state': 2},\n",
       "  {'max_depth': 5,\n",
       "   'min_samples_leaf': 6,\n",
       "   'min_samples_split': 5,\n",
       "   'n_estimators': 10,\n",
       "   'random_state': 4},\n",
       "  {'max_depth': 5,\n",
       "   'min_samples_leaf': 6,\n",
       "   'min_samples_split': 5,\n",
       "   'n_estimators': 10,\n",
       "   'random_state': 6},\n",
       "  {'max_depth': 5,\n",
       "   'min_samples_leaf': 6,\n",
       "   'min_samples_split': 5,\n",
       "   'n_estimators': 50,\n",
       "   'random_state': 2},\n",
       "  {'max_depth': 5,\n",
       "   'min_samples_leaf': 6,\n",
       "   'min_samples_split': 5,\n",
       "   'n_estimators': 50,\n",
       "   'random_state': 4},\n",
       "  {'max_depth': 5,\n",
       "   'min_samples_leaf': 6,\n",
       "   'min_samples_split': 5,\n",
       "   'n_estimators': 50,\n",
       "   'random_state': 6},\n",
       "  {'max_depth': 5,\n",
       "   'min_samples_leaf': 6,\n",
       "   'min_samples_split': 5,\n",
       "   'n_estimators': 100,\n",
       "   'random_state': 2},\n",
       "  {'max_depth': 5,\n",
       "   'min_samples_leaf': 6,\n",
       "   'min_samples_split': 5,\n",
       "   'n_estimators': 100,\n",
       "   'random_state': 4},\n",
       "  {'max_depth': 5,\n",
       "   'min_samples_leaf': 6,\n",
       "   'min_samples_split': 5,\n",
       "   'n_estimators': 100,\n",
       "   'random_state': 6},\n",
       "  {'max_depth': 5,\n",
       "   'min_samples_leaf': 6,\n",
       "   'min_samples_split': 10,\n",
       "   'n_estimators': 10,\n",
       "   'random_state': 2},\n",
       "  {'max_depth': 5,\n",
       "   'min_samples_leaf': 6,\n",
       "   'min_samples_split': 10,\n",
       "   'n_estimators': 10,\n",
       "   'random_state': 4},\n",
       "  {'max_depth': 5,\n",
       "   'min_samples_leaf': 6,\n",
       "   'min_samples_split': 10,\n",
       "   'n_estimators': 10,\n",
       "   'random_state': 6},\n",
       "  {'max_depth': 5,\n",
       "   'min_samples_leaf': 6,\n",
       "   'min_samples_split': 10,\n",
       "   'n_estimators': 50,\n",
       "   'random_state': 2},\n",
       "  {'max_depth': 5,\n",
       "   'min_samples_leaf': 6,\n",
       "   'min_samples_split': 10,\n",
       "   'n_estimators': 50,\n",
       "   'random_state': 4},\n",
       "  {'max_depth': 5,\n",
       "   'min_samples_leaf': 6,\n",
       "   'min_samples_split': 10,\n",
       "   'n_estimators': 50,\n",
       "   'random_state': 6},\n",
       "  {'max_depth': 5,\n",
       "   'min_samples_leaf': 6,\n",
       "   'min_samples_split': 10,\n",
       "   'n_estimators': 100,\n",
       "   'random_state': 2},\n",
       "  {'max_depth': 5,\n",
       "   'min_samples_leaf': 6,\n",
       "   'min_samples_split': 10,\n",
       "   'n_estimators': 100,\n",
       "   'random_state': 4},\n",
       "  {'max_depth': 5,\n",
       "   'min_samples_leaf': 6,\n",
       "   'min_samples_split': 10,\n",
       "   'n_estimators': 100,\n",
       "   'random_state': 6},\n",
       "  {'max_depth': 5,\n",
       "   'min_samples_leaf': 6,\n",
       "   'min_samples_split': 15,\n",
       "   'n_estimators': 10,\n",
       "   'random_state': 2},\n",
       "  {'max_depth': 5,\n",
       "   'min_samples_leaf': 6,\n",
       "   'min_samples_split': 15,\n",
       "   'n_estimators': 10,\n",
       "   'random_state': 4},\n",
       "  {'max_depth': 5,\n",
       "   'min_samples_leaf': 6,\n",
       "   'min_samples_split': 15,\n",
       "   'n_estimators': 10,\n",
       "   'random_state': 6},\n",
       "  {'max_depth': 5,\n",
       "   'min_samples_leaf': 6,\n",
       "   'min_samples_split': 15,\n",
       "   'n_estimators': 50,\n",
       "   'random_state': 2},\n",
       "  {'max_depth': 5,\n",
       "   'min_samples_leaf': 6,\n",
       "   'min_samples_split': 15,\n",
       "   'n_estimators': 50,\n",
       "   'random_state': 4},\n",
       "  {'max_depth': 5,\n",
       "   'min_samples_leaf': 6,\n",
       "   'min_samples_split': 15,\n",
       "   'n_estimators': 50,\n",
       "   'random_state': 6},\n",
       "  {'max_depth': 5,\n",
       "   'min_samples_leaf': 6,\n",
       "   'min_samples_split': 15,\n",
       "   'n_estimators': 100,\n",
       "   'random_state': 2},\n",
       "  {'max_depth': 5,\n",
       "   'min_samples_leaf': 6,\n",
       "   'min_samples_split': 15,\n",
       "   'n_estimators': 100,\n",
       "   'random_state': 4},\n",
       "  {'max_depth': 5,\n",
       "   'min_samples_leaf': 6,\n",
       "   'min_samples_split': 15,\n",
       "   'n_estimators': 100,\n",
       "   'random_state': 6},\n",
       "  {'max_depth': 10,\n",
       "   'min_samples_leaf': 2,\n",
       "   'min_samples_split': 5,\n",
       "   'n_estimators': 10,\n",
       "   'random_state': 2},\n",
       "  {'max_depth': 10,\n",
       "   'min_samples_leaf': 2,\n",
       "   'min_samples_split': 5,\n",
       "   'n_estimators': 10,\n",
       "   'random_state': 4},\n",
       "  {'max_depth': 10,\n",
       "   'min_samples_leaf': 2,\n",
       "   'min_samples_split': 5,\n",
       "   'n_estimators': 10,\n",
       "   'random_state': 6},\n",
       "  {'max_depth': 10,\n",
       "   'min_samples_leaf': 2,\n",
       "   'min_samples_split': 5,\n",
       "   'n_estimators': 50,\n",
       "   'random_state': 2},\n",
       "  {'max_depth': 10,\n",
       "   'min_samples_leaf': 2,\n",
       "   'min_samples_split': 5,\n",
       "   'n_estimators': 50,\n",
       "   'random_state': 4},\n",
       "  {'max_depth': 10,\n",
       "   'min_samples_leaf': 2,\n",
       "   'min_samples_split': 5,\n",
       "   'n_estimators': 50,\n",
       "   'random_state': 6},\n",
       "  {'max_depth': 10,\n",
       "   'min_samples_leaf': 2,\n",
       "   'min_samples_split': 5,\n",
       "   'n_estimators': 100,\n",
       "   'random_state': 2},\n",
       "  {'max_depth': 10,\n",
       "   'min_samples_leaf': 2,\n",
       "   'min_samples_split': 5,\n",
       "   'n_estimators': 100,\n",
       "   'random_state': 4},\n",
       "  {'max_depth': 10,\n",
       "   'min_samples_leaf': 2,\n",
       "   'min_samples_split': 5,\n",
       "   'n_estimators': 100,\n",
       "   'random_state': 6},\n",
       "  {'max_depth': 10,\n",
       "   'min_samples_leaf': 2,\n",
       "   'min_samples_split': 10,\n",
       "   'n_estimators': 10,\n",
       "   'random_state': 2},\n",
       "  {'max_depth': 10,\n",
       "   'min_samples_leaf': 2,\n",
       "   'min_samples_split': 10,\n",
       "   'n_estimators': 10,\n",
       "   'random_state': 4},\n",
       "  {'max_depth': 10,\n",
       "   'min_samples_leaf': 2,\n",
       "   'min_samples_split': 10,\n",
       "   'n_estimators': 10,\n",
       "   'random_state': 6},\n",
       "  {'max_depth': 10,\n",
       "   'min_samples_leaf': 2,\n",
       "   'min_samples_split': 10,\n",
       "   'n_estimators': 50,\n",
       "   'random_state': 2},\n",
       "  {'max_depth': 10,\n",
       "   'min_samples_leaf': 2,\n",
       "   'min_samples_split': 10,\n",
       "   'n_estimators': 50,\n",
       "   'random_state': 4},\n",
       "  {'max_depth': 10,\n",
       "   'min_samples_leaf': 2,\n",
       "   'min_samples_split': 10,\n",
       "   'n_estimators': 50,\n",
       "   'random_state': 6},\n",
       "  {'max_depth': 10,\n",
       "   'min_samples_leaf': 2,\n",
       "   'min_samples_split': 10,\n",
       "   'n_estimators': 100,\n",
       "   'random_state': 2},\n",
       "  {'max_depth': 10,\n",
       "   'min_samples_leaf': 2,\n",
       "   'min_samples_split': 10,\n",
       "   'n_estimators': 100,\n",
       "   'random_state': 4},\n",
       "  {'max_depth': 10,\n",
       "   'min_samples_leaf': 2,\n",
       "   'min_samples_split': 10,\n",
       "   'n_estimators': 100,\n",
       "   'random_state': 6},\n",
       "  {'max_depth': 10,\n",
       "   'min_samples_leaf': 2,\n",
       "   'min_samples_split': 15,\n",
       "   'n_estimators': 10,\n",
       "   'random_state': 2},\n",
       "  {'max_depth': 10,\n",
       "   'min_samples_leaf': 2,\n",
       "   'min_samples_split': 15,\n",
       "   'n_estimators': 10,\n",
       "   'random_state': 4},\n",
       "  {'max_depth': 10,\n",
       "   'min_samples_leaf': 2,\n",
       "   'min_samples_split': 15,\n",
       "   'n_estimators': 10,\n",
       "   'random_state': 6},\n",
       "  {'max_depth': 10,\n",
       "   'min_samples_leaf': 2,\n",
       "   'min_samples_split': 15,\n",
       "   'n_estimators': 50,\n",
       "   'random_state': 2},\n",
       "  {'max_depth': 10,\n",
       "   'min_samples_leaf': 2,\n",
       "   'min_samples_split': 15,\n",
       "   'n_estimators': 50,\n",
       "   'random_state': 4},\n",
       "  {'max_depth': 10,\n",
       "   'min_samples_leaf': 2,\n",
       "   'min_samples_split': 15,\n",
       "   'n_estimators': 50,\n",
       "   'random_state': 6},\n",
       "  {'max_depth': 10,\n",
       "   'min_samples_leaf': 2,\n",
       "   'min_samples_split': 15,\n",
       "   'n_estimators': 100,\n",
       "   'random_state': 2},\n",
       "  {'max_depth': 10,\n",
       "   'min_samples_leaf': 2,\n",
       "   'min_samples_split': 15,\n",
       "   'n_estimators': 100,\n",
       "   'random_state': 4},\n",
       "  {'max_depth': 10,\n",
       "   'min_samples_leaf': 2,\n",
       "   'min_samples_split': 15,\n",
       "   'n_estimators': 100,\n",
       "   'random_state': 6},\n",
       "  {'max_depth': 10,\n",
       "   'min_samples_leaf': 4,\n",
       "   'min_samples_split': 5,\n",
       "   'n_estimators': 10,\n",
       "   'random_state': 2},\n",
       "  {'max_depth': 10,\n",
       "   'min_samples_leaf': 4,\n",
       "   'min_samples_split': 5,\n",
       "   'n_estimators': 10,\n",
       "   'random_state': 4},\n",
       "  {'max_depth': 10,\n",
       "   'min_samples_leaf': 4,\n",
       "   'min_samples_split': 5,\n",
       "   'n_estimators': 10,\n",
       "   'random_state': 6},\n",
       "  {'max_depth': 10,\n",
       "   'min_samples_leaf': 4,\n",
       "   'min_samples_split': 5,\n",
       "   'n_estimators': 50,\n",
       "   'random_state': 2},\n",
       "  {'max_depth': 10,\n",
       "   'min_samples_leaf': 4,\n",
       "   'min_samples_split': 5,\n",
       "   'n_estimators': 50,\n",
       "   'random_state': 4},\n",
       "  {'max_depth': 10,\n",
       "   'min_samples_leaf': 4,\n",
       "   'min_samples_split': 5,\n",
       "   'n_estimators': 50,\n",
       "   'random_state': 6},\n",
       "  {'max_depth': 10,\n",
       "   'min_samples_leaf': 4,\n",
       "   'min_samples_split': 5,\n",
       "   'n_estimators': 100,\n",
       "   'random_state': 2},\n",
       "  {'max_depth': 10,\n",
       "   'min_samples_leaf': 4,\n",
       "   'min_samples_split': 5,\n",
       "   'n_estimators': 100,\n",
       "   'random_state': 4},\n",
       "  {'max_depth': 10,\n",
       "   'min_samples_leaf': 4,\n",
       "   'min_samples_split': 5,\n",
       "   'n_estimators': 100,\n",
       "   'random_state': 6},\n",
       "  {'max_depth': 10,\n",
       "   'min_samples_leaf': 4,\n",
       "   'min_samples_split': 10,\n",
       "   'n_estimators': 10,\n",
       "   'random_state': 2},\n",
       "  {'max_depth': 10,\n",
       "   'min_samples_leaf': 4,\n",
       "   'min_samples_split': 10,\n",
       "   'n_estimators': 10,\n",
       "   'random_state': 4},\n",
       "  {'max_depth': 10,\n",
       "   'min_samples_leaf': 4,\n",
       "   'min_samples_split': 10,\n",
       "   'n_estimators': 10,\n",
       "   'random_state': 6},\n",
       "  {'max_depth': 10,\n",
       "   'min_samples_leaf': 4,\n",
       "   'min_samples_split': 10,\n",
       "   'n_estimators': 50,\n",
       "   'random_state': 2},\n",
       "  {'max_depth': 10,\n",
       "   'min_samples_leaf': 4,\n",
       "   'min_samples_split': 10,\n",
       "   'n_estimators': 50,\n",
       "   'random_state': 4},\n",
       "  {'max_depth': 10,\n",
       "   'min_samples_leaf': 4,\n",
       "   'min_samples_split': 10,\n",
       "   'n_estimators': 50,\n",
       "   'random_state': 6},\n",
       "  {'max_depth': 10,\n",
       "   'min_samples_leaf': 4,\n",
       "   'min_samples_split': 10,\n",
       "   'n_estimators': 100,\n",
       "   'random_state': 2},\n",
       "  {'max_depth': 10,\n",
       "   'min_samples_leaf': 4,\n",
       "   'min_samples_split': 10,\n",
       "   'n_estimators': 100,\n",
       "   'random_state': 4},\n",
       "  {'max_depth': 10,\n",
       "   'min_samples_leaf': 4,\n",
       "   'min_samples_split': 10,\n",
       "   'n_estimators': 100,\n",
       "   'random_state': 6},\n",
       "  {'max_depth': 10,\n",
       "   'min_samples_leaf': 4,\n",
       "   'min_samples_split': 15,\n",
       "   'n_estimators': 10,\n",
       "   'random_state': 2},\n",
       "  {'max_depth': 10,\n",
       "   'min_samples_leaf': 4,\n",
       "   'min_samples_split': 15,\n",
       "   'n_estimators': 10,\n",
       "   'random_state': 4},\n",
       "  {'max_depth': 10,\n",
       "   'min_samples_leaf': 4,\n",
       "   'min_samples_split': 15,\n",
       "   'n_estimators': 10,\n",
       "   'random_state': 6},\n",
       "  {'max_depth': 10,\n",
       "   'min_samples_leaf': 4,\n",
       "   'min_samples_split': 15,\n",
       "   'n_estimators': 50,\n",
       "   'random_state': 2},\n",
       "  {'max_depth': 10,\n",
       "   'min_samples_leaf': 4,\n",
       "   'min_samples_split': 15,\n",
       "   'n_estimators': 50,\n",
       "   'random_state': 4},\n",
       "  {'max_depth': 10,\n",
       "   'min_samples_leaf': 4,\n",
       "   'min_samples_split': 15,\n",
       "   'n_estimators': 50,\n",
       "   'random_state': 6},\n",
       "  {'max_depth': 10,\n",
       "   'min_samples_leaf': 4,\n",
       "   'min_samples_split': 15,\n",
       "   'n_estimators': 100,\n",
       "   'random_state': 2},\n",
       "  {'max_depth': 10,\n",
       "   'min_samples_leaf': 4,\n",
       "   'min_samples_split': 15,\n",
       "   'n_estimators': 100,\n",
       "   'random_state': 4},\n",
       "  {'max_depth': 10,\n",
       "   'min_samples_leaf': 4,\n",
       "   'min_samples_split': 15,\n",
       "   'n_estimators': 100,\n",
       "   'random_state': 6},\n",
       "  {'max_depth': 10,\n",
       "   'min_samples_leaf': 6,\n",
       "   'min_samples_split': 5,\n",
       "   'n_estimators': 10,\n",
       "   'random_state': 2},\n",
       "  {'max_depth': 10,\n",
       "   'min_samples_leaf': 6,\n",
       "   'min_samples_split': 5,\n",
       "   'n_estimators': 10,\n",
       "   'random_state': 4},\n",
       "  {'max_depth': 10,\n",
       "   'min_samples_leaf': 6,\n",
       "   'min_samples_split': 5,\n",
       "   'n_estimators': 10,\n",
       "   'random_state': 6},\n",
       "  {'max_depth': 10,\n",
       "   'min_samples_leaf': 6,\n",
       "   'min_samples_split': 5,\n",
       "   'n_estimators': 50,\n",
       "   'random_state': 2},\n",
       "  {'max_depth': 10,\n",
       "   'min_samples_leaf': 6,\n",
       "   'min_samples_split': 5,\n",
       "   'n_estimators': 50,\n",
       "   'random_state': 4},\n",
       "  {'max_depth': 10,\n",
       "   'min_samples_leaf': 6,\n",
       "   'min_samples_split': 5,\n",
       "   'n_estimators': 50,\n",
       "   'random_state': 6},\n",
       "  {'max_depth': 10,\n",
       "   'min_samples_leaf': 6,\n",
       "   'min_samples_split': 5,\n",
       "   'n_estimators': 100,\n",
       "   'random_state': 2},\n",
       "  {'max_depth': 10,\n",
       "   'min_samples_leaf': 6,\n",
       "   'min_samples_split': 5,\n",
       "   'n_estimators': 100,\n",
       "   'random_state': 4},\n",
       "  {'max_depth': 10,\n",
       "   'min_samples_leaf': 6,\n",
       "   'min_samples_split': 5,\n",
       "   'n_estimators': 100,\n",
       "   'random_state': 6},\n",
       "  {'max_depth': 10,\n",
       "   'min_samples_leaf': 6,\n",
       "   'min_samples_split': 10,\n",
       "   'n_estimators': 10,\n",
       "   'random_state': 2},\n",
       "  {'max_depth': 10,\n",
       "   'min_samples_leaf': 6,\n",
       "   'min_samples_split': 10,\n",
       "   'n_estimators': 10,\n",
       "   'random_state': 4},\n",
       "  {'max_depth': 10,\n",
       "   'min_samples_leaf': 6,\n",
       "   'min_samples_split': 10,\n",
       "   'n_estimators': 10,\n",
       "   'random_state': 6},\n",
       "  {'max_depth': 10,\n",
       "   'min_samples_leaf': 6,\n",
       "   'min_samples_split': 10,\n",
       "   'n_estimators': 50,\n",
       "   'random_state': 2},\n",
       "  {'max_depth': 10,\n",
       "   'min_samples_leaf': 6,\n",
       "   'min_samples_split': 10,\n",
       "   'n_estimators': 50,\n",
       "   'random_state': 4},\n",
       "  {'max_depth': 10,\n",
       "   'min_samples_leaf': 6,\n",
       "   'min_samples_split': 10,\n",
       "   'n_estimators': 50,\n",
       "   'random_state': 6},\n",
       "  {'max_depth': 10,\n",
       "   'min_samples_leaf': 6,\n",
       "   'min_samples_split': 10,\n",
       "   'n_estimators': 100,\n",
       "   'random_state': 2},\n",
       "  {'max_depth': 10,\n",
       "   'min_samples_leaf': 6,\n",
       "   'min_samples_split': 10,\n",
       "   'n_estimators': 100,\n",
       "   'random_state': 4},\n",
       "  {'max_depth': 10,\n",
       "   'min_samples_leaf': 6,\n",
       "   'min_samples_split': 10,\n",
       "   'n_estimators': 100,\n",
       "   'random_state': 6},\n",
       "  {'max_depth': 10,\n",
       "   'min_samples_leaf': 6,\n",
       "   'min_samples_split': 15,\n",
       "   'n_estimators': 10,\n",
       "   'random_state': 2},\n",
       "  {'max_depth': 10,\n",
       "   'min_samples_leaf': 6,\n",
       "   'min_samples_split': 15,\n",
       "   'n_estimators': 10,\n",
       "   'random_state': 4},\n",
       "  {'max_depth': 10,\n",
       "   'min_samples_leaf': 6,\n",
       "   'min_samples_split': 15,\n",
       "   'n_estimators': 10,\n",
       "   'random_state': 6},\n",
       "  {'max_depth': 10,\n",
       "   'min_samples_leaf': 6,\n",
       "   'min_samples_split': 15,\n",
       "   'n_estimators': 50,\n",
       "   'random_state': 2},\n",
       "  {'max_depth': 10,\n",
       "   'min_samples_leaf': 6,\n",
       "   'min_samples_split': 15,\n",
       "   'n_estimators': 50,\n",
       "   'random_state': 4},\n",
       "  {'max_depth': 10,\n",
       "   'min_samples_leaf': 6,\n",
       "   'min_samples_split': 15,\n",
       "   'n_estimators': 50,\n",
       "   'random_state': 6},\n",
       "  {'max_depth': 10,\n",
       "   'min_samples_leaf': 6,\n",
       "   'min_samples_split': 15,\n",
       "   'n_estimators': 100,\n",
       "   'random_state': 2},\n",
       "  {'max_depth': 10,\n",
       "   'min_samples_leaf': 6,\n",
       "   'min_samples_split': 15,\n",
       "   'n_estimators': 100,\n",
       "   'random_state': 4},\n",
       "  {'max_depth': 10,\n",
       "   'min_samples_leaf': 6,\n",
       "   'min_samples_split': 15,\n",
       "   'n_estimators': 100,\n",
       "   'random_state': 6},\n",
       "  {'max_depth': 15,\n",
       "   'min_samples_leaf': 2,\n",
       "   'min_samples_split': 5,\n",
       "   'n_estimators': 10,\n",
       "   'random_state': 2},\n",
       "  {'max_depth': 15,\n",
       "   'min_samples_leaf': 2,\n",
       "   'min_samples_split': 5,\n",
       "   'n_estimators': 10,\n",
       "   'random_state': 4},\n",
       "  {'max_depth': 15,\n",
       "   'min_samples_leaf': 2,\n",
       "   'min_samples_split': 5,\n",
       "   'n_estimators': 10,\n",
       "   'random_state': 6},\n",
       "  {'max_depth': 15,\n",
       "   'min_samples_leaf': 2,\n",
       "   'min_samples_split': 5,\n",
       "   'n_estimators': 50,\n",
       "   'random_state': 2},\n",
       "  {'max_depth': 15,\n",
       "   'min_samples_leaf': 2,\n",
       "   'min_samples_split': 5,\n",
       "   'n_estimators': 50,\n",
       "   'random_state': 4},\n",
       "  {'max_depth': 15,\n",
       "   'min_samples_leaf': 2,\n",
       "   'min_samples_split': 5,\n",
       "   'n_estimators': 50,\n",
       "   'random_state': 6},\n",
       "  {'max_depth': 15,\n",
       "   'min_samples_leaf': 2,\n",
       "   'min_samples_split': 5,\n",
       "   'n_estimators': 100,\n",
       "   'random_state': 2},\n",
       "  {'max_depth': 15,\n",
       "   'min_samples_leaf': 2,\n",
       "   'min_samples_split': 5,\n",
       "   'n_estimators': 100,\n",
       "   'random_state': 4},\n",
       "  {'max_depth': 15,\n",
       "   'min_samples_leaf': 2,\n",
       "   'min_samples_split': 5,\n",
       "   'n_estimators': 100,\n",
       "   'random_state': 6},\n",
       "  {'max_depth': 15,\n",
       "   'min_samples_leaf': 2,\n",
       "   'min_samples_split': 10,\n",
       "   'n_estimators': 10,\n",
       "   'random_state': 2},\n",
       "  {'max_depth': 15,\n",
       "   'min_samples_leaf': 2,\n",
       "   'min_samples_split': 10,\n",
       "   'n_estimators': 10,\n",
       "   'random_state': 4},\n",
       "  {'max_depth': 15,\n",
       "   'min_samples_leaf': 2,\n",
       "   'min_samples_split': 10,\n",
       "   'n_estimators': 10,\n",
       "   'random_state': 6},\n",
       "  {'max_depth': 15,\n",
       "   'min_samples_leaf': 2,\n",
       "   'min_samples_split': 10,\n",
       "   'n_estimators': 50,\n",
       "   'random_state': 2},\n",
       "  {'max_depth': 15,\n",
       "   'min_samples_leaf': 2,\n",
       "   'min_samples_split': 10,\n",
       "   'n_estimators': 50,\n",
       "   'random_state': 4},\n",
       "  {'max_depth': 15,\n",
       "   'min_samples_leaf': 2,\n",
       "   'min_samples_split': 10,\n",
       "   'n_estimators': 50,\n",
       "   'random_state': 6},\n",
       "  {'max_depth': 15,\n",
       "   'min_samples_leaf': 2,\n",
       "   'min_samples_split': 10,\n",
       "   'n_estimators': 100,\n",
       "   'random_state': 2},\n",
       "  {'max_depth': 15,\n",
       "   'min_samples_leaf': 2,\n",
       "   'min_samples_split': 10,\n",
       "   'n_estimators': 100,\n",
       "   'random_state': 4},\n",
       "  {'max_depth': 15,\n",
       "   'min_samples_leaf': 2,\n",
       "   'min_samples_split': 10,\n",
       "   'n_estimators': 100,\n",
       "   'random_state': 6},\n",
       "  {'max_depth': 15,\n",
       "   'min_samples_leaf': 2,\n",
       "   'min_samples_split': 15,\n",
       "   'n_estimators': 10,\n",
       "   'random_state': 2},\n",
       "  {'max_depth': 15,\n",
       "   'min_samples_leaf': 2,\n",
       "   'min_samples_split': 15,\n",
       "   'n_estimators': 10,\n",
       "   'random_state': 4},\n",
       "  {'max_depth': 15,\n",
       "   'min_samples_leaf': 2,\n",
       "   'min_samples_split': 15,\n",
       "   'n_estimators': 10,\n",
       "   'random_state': 6},\n",
       "  {'max_depth': 15,\n",
       "   'min_samples_leaf': 2,\n",
       "   'min_samples_split': 15,\n",
       "   'n_estimators': 50,\n",
       "   'random_state': 2},\n",
       "  {'max_depth': 15,\n",
       "   'min_samples_leaf': 2,\n",
       "   'min_samples_split': 15,\n",
       "   'n_estimators': 50,\n",
       "   'random_state': 4},\n",
       "  {'max_depth': 15,\n",
       "   'min_samples_leaf': 2,\n",
       "   'min_samples_split': 15,\n",
       "   'n_estimators': 50,\n",
       "   'random_state': 6},\n",
       "  {'max_depth': 15,\n",
       "   'min_samples_leaf': 2,\n",
       "   'min_samples_split': 15,\n",
       "   'n_estimators': 100,\n",
       "   'random_state': 2},\n",
       "  {'max_depth': 15,\n",
       "   'min_samples_leaf': 2,\n",
       "   'min_samples_split': 15,\n",
       "   'n_estimators': 100,\n",
       "   'random_state': 4},\n",
       "  {'max_depth': 15,\n",
       "   'min_samples_leaf': 2,\n",
       "   'min_samples_split': 15,\n",
       "   'n_estimators': 100,\n",
       "   'random_state': 6},\n",
       "  {'max_depth': 15,\n",
       "   'min_samples_leaf': 4,\n",
       "   'min_samples_split': 5,\n",
       "   'n_estimators': 10,\n",
       "   'random_state': 2},\n",
       "  {'max_depth': 15,\n",
       "   'min_samples_leaf': 4,\n",
       "   'min_samples_split': 5,\n",
       "   'n_estimators': 10,\n",
       "   'random_state': 4},\n",
       "  {'max_depth': 15,\n",
       "   'min_samples_leaf': 4,\n",
       "   'min_samples_split': 5,\n",
       "   'n_estimators': 10,\n",
       "   'random_state': 6},\n",
       "  {'max_depth': 15,\n",
       "   'min_samples_leaf': 4,\n",
       "   'min_samples_split': 5,\n",
       "   'n_estimators': 50,\n",
       "   'random_state': 2},\n",
       "  {'max_depth': 15,\n",
       "   'min_samples_leaf': 4,\n",
       "   'min_samples_split': 5,\n",
       "   'n_estimators': 50,\n",
       "   'random_state': 4},\n",
       "  {'max_depth': 15,\n",
       "   'min_samples_leaf': 4,\n",
       "   'min_samples_split': 5,\n",
       "   'n_estimators': 50,\n",
       "   'random_state': 6},\n",
       "  {'max_depth': 15,\n",
       "   'min_samples_leaf': 4,\n",
       "   'min_samples_split': 5,\n",
       "   'n_estimators': 100,\n",
       "   'random_state': 2},\n",
       "  {'max_depth': 15,\n",
       "   'min_samples_leaf': 4,\n",
       "   'min_samples_split': 5,\n",
       "   'n_estimators': 100,\n",
       "   'random_state': 4},\n",
       "  {'max_depth': 15,\n",
       "   'min_samples_leaf': 4,\n",
       "   'min_samples_split': 5,\n",
       "   'n_estimators': 100,\n",
       "   'random_state': 6},\n",
       "  {'max_depth': 15,\n",
       "   'min_samples_leaf': 4,\n",
       "   'min_samples_split': 10,\n",
       "   'n_estimators': 10,\n",
       "   'random_state': 2},\n",
       "  {'max_depth': 15,\n",
       "   'min_samples_leaf': 4,\n",
       "   'min_samples_split': 10,\n",
       "   'n_estimators': 10,\n",
       "   'random_state': 4},\n",
       "  {'max_depth': 15,\n",
       "   'min_samples_leaf': 4,\n",
       "   'min_samples_split': 10,\n",
       "   'n_estimators': 10,\n",
       "   'random_state': 6},\n",
       "  {'max_depth': 15,\n",
       "   'min_samples_leaf': 4,\n",
       "   'min_samples_split': 10,\n",
       "   'n_estimators': 50,\n",
       "   'random_state': 2},\n",
       "  {'max_depth': 15,\n",
       "   'min_samples_leaf': 4,\n",
       "   'min_samples_split': 10,\n",
       "   'n_estimators': 50,\n",
       "   'random_state': 4},\n",
       "  {'max_depth': 15,\n",
       "   'min_samples_leaf': 4,\n",
       "   'min_samples_split': 10,\n",
       "   'n_estimators': 50,\n",
       "   'random_state': 6},\n",
       "  {'max_depth': 15,\n",
       "   'min_samples_leaf': 4,\n",
       "   'min_samples_split': 10,\n",
       "   'n_estimators': 100,\n",
       "   'random_state': 2},\n",
       "  {'max_depth': 15,\n",
       "   'min_samples_leaf': 4,\n",
       "   'min_samples_split': 10,\n",
       "   'n_estimators': 100,\n",
       "   'random_state': 4},\n",
       "  {'max_depth': 15,\n",
       "   'min_samples_leaf': 4,\n",
       "   'min_samples_split': 10,\n",
       "   'n_estimators': 100,\n",
       "   'random_state': 6},\n",
       "  {'max_depth': 15,\n",
       "   'min_samples_leaf': 4,\n",
       "   'min_samples_split': 15,\n",
       "   'n_estimators': 10,\n",
       "   'random_state': 2},\n",
       "  {'max_depth': 15,\n",
       "   'min_samples_leaf': 4,\n",
       "   'min_samples_split': 15,\n",
       "   'n_estimators': 10,\n",
       "   'random_state': 4},\n",
       "  {'max_depth': 15,\n",
       "   'min_samples_leaf': 4,\n",
       "   'min_samples_split': 15,\n",
       "   'n_estimators': 10,\n",
       "   'random_state': 6},\n",
       "  {'max_depth': 15,\n",
       "   'min_samples_leaf': 4,\n",
       "   'min_samples_split': 15,\n",
       "   'n_estimators': 50,\n",
       "   'random_state': 2},\n",
       "  {'max_depth': 15,\n",
       "   'min_samples_leaf': 4,\n",
       "   'min_samples_split': 15,\n",
       "   'n_estimators': 50,\n",
       "   'random_state': 4},\n",
       "  {'max_depth': 15,\n",
       "   'min_samples_leaf': 4,\n",
       "   'min_samples_split': 15,\n",
       "   'n_estimators': 50,\n",
       "   'random_state': 6},\n",
       "  {'max_depth': 15,\n",
       "   'min_samples_leaf': 4,\n",
       "   'min_samples_split': 15,\n",
       "   'n_estimators': 100,\n",
       "   'random_state': 2},\n",
       "  {'max_depth': 15,\n",
       "   'min_samples_leaf': 4,\n",
       "   'min_samples_split': 15,\n",
       "   'n_estimators': 100,\n",
       "   'random_state': 4},\n",
       "  {'max_depth': 15,\n",
       "   'min_samples_leaf': 4,\n",
       "   'min_samples_split': 15,\n",
       "   'n_estimators': 100,\n",
       "   'random_state': 6},\n",
       "  {'max_depth': 15,\n",
       "   'min_samples_leaf': 6,\n",
       "   'min_samples_split': 5,\n",
       "   'n_estimators': 10,\n",
       "   'random_state': 2},\n",
       "  {'max_depth': 15,\n",
       "   'min_samples_leaf': 6,\n",
       "   'min_samples_split': 5,\n",
       "   'n_estimators': 10,\n",
       "   'random_state': 4},\n",
       "  {'max_depth': 15,\n",
       "   'min_samples_leaf': 6,\n",
       "   'min_samples_split': 5,\n",
       "   'n_estimators': 10,\n",
       "   'random_state': 6},\n",
       "  {'max_depth': 15,\n",
       "   'min_samples_leaf': 6,\n",
       "   'min_samples_split': 5,\n",
       "   'n_estimators': 50,\n",
       "   'random_state': 2},\n",
       "  {'max_depth': 15,\n",
       "   'min_samples_leaf': 6,\n",
       "   'min_samples_split': 5,\n",
       "   'n_estimators': 50,\n",
       "   'random_state': 4},\n",
       "  {'max_depth': 15,\n",
       "   'min_samples_leaf': 6,\n",
       "   'min_samples_split': 5,\n",
       "   'n_estimators': 50,\n",
       "   'random_state': 6},\n",
       "  {'max_depth': 15,\n",
       "   'min_samples_leaf': 6,\n",
       "   'min_samples_split': 5,\n",
       "   'n_estimators': 100,\n",
       "   'random_state': 2},\n",
       "  {'max_depth': 15,\n",
       "   'min_samples_leaf': 6,\n",
       "   'min_samples_split': 5,\n",
       "   'n_estimators': 100,\n",
       "   'random_state': 4},\n",
       "  {'max_depth': 15,\n",
       "   'min_samples_leaf': 6,\n",
       "   'min_samples_split': 5,\n",
       "   'n_estimators': 100,\n",
       "   'random_state': 6},\n",
       "  {'max_depth': 15,\n",
       "   'min_samples_leaf': 6,\n",
       "   'min_samples_split': 10,\n",
       "   'n_estimators': 10,\n",
       "   'random_state': 2},\n",
       "  {'max_depth': 15,\n",
       "   'min_samples_leaf': 6,\n",
       "   'min_samples_split': 10,\n",
       "   'n_estimators': 10,\n",
       "   'random_state': 4},\n",
       "  {'max_depth': 15,\n",
       "   'min_samples_leaf': 6,\n",
       "   'min_samples_split': 10,\n",
       "   'n_estimators': 10,\n",
       "   'random_state': 6},\n",
       "  {'max_depth': 15,\n",
       "   'min_samples_leaf': 6,\n",
       "   'min_samples_split': 10,\n",
       "   'n_estimators': 50,\n",
       "   'random_state': 2},\n",
       "  {'max_depth': 15,\n",
       "   'min_samples_leaf': 6,\n",
       "   'min_samples_split': 10,\n",
       "   'n_estimators': 50,\n",
       "   'random_state': 4},\n",
       "  {'max_depth': 15,\n",
       "   'min_samples_leaf': 6,\n",
       "   'min_samples_split': 10,\n",
       "   'n_estimators': 50,\n",
       "   'random_state': 6},\n",
       "  {'max_depth': 15,\n",
       "   'min_samples_leaf': 6,\n",
       "   'min_samples_split': 10,\n",
       "   'n_estimators': 100,\n",
       "   'random_state': 2},\n",
       "  {'max_depth': 15,\n",
       "   'min_samples_leaf': 6,\n",
       "   'min_samples_split': 10,\n",
       "   'n_estimators': 100,\n",
       "   'random_state': 4},\n",
       "  {'max_depth': 15,\n",
       "   'min_samples_leaf': 6,\n",
       "   'min_samples_split': 10,\n",
       "   'n_estimators': 100,\n",
       "   'random_state': 6},\n",
       "  {'max_depth': 15,\n",
       "   'min_samples_leaf': 6,\n",
       "   'min_samples_split': 15,\n",
       "   'n_estimators': 10,\n",
       "   'random_state': 2},\n",
       "  {'max_depth': 15,\n",
       "   'min_samples_leaf': 6,\n",
       "   'min_samples_split': 15,\n",
       "   'n_estimators': 10,\n",
       "   'random_state': 4},\n",
       "  {'max_depth': 15,\n",
       "   'min_samples_leaf': 6,\n",
       "   'min_samples_split': 15,\n",
       "   'n_estimators': 10,\n",
       "   'random_state': 6},\n",
       "  {'max_depth': 15,\n",
       "   'min_samples_leaf': 6,\n",
       "   'min_samples_split': 15,\n",
       "   'n_estimators': 50,\n",
       "   'random_state': 2},\n",
       "  {'max_depth': 15,\n",
       "   'min_samples_leaf': 6,\n",
       "   'min_samples_split': 15,\n",
       "   'n_estimators': 50,\n",
       "   'random_state': 4},\n",
       "  {'max_depth': 15,\n",
       "   'min_samples_leaf': 6,\n",
       "   'min_samples_split': 15,\n",
       "   'n_estimators': 50,\n",
       "   'random_state': 6},\n",
       "  {'max_depth': 15,\n",
       "   'min_samples_leaf': 6,\n",
       "   'min_samples_split': 15,\n",
       "   'n_estimators': 100,\n",
       "   'random_state': 2},\n",
       "  {'max_depth': 15,\n",
       "   'min_samples_leaf': 6,\n",
       "   'min_samples_split': 15,\n",
       "   'n_estimators': 100,\n",
       "   'random_state': 4},\n",
       "  {'max_depth': 15,\n",
       "   'min_samples_leaf': 6,\n",
       "   'min_samples_split': 15,\n",
       "   'n_estimators': 100,\n",
       "   'random_state': 6}],\n",
       " 'split0_test_score': array([0.71076725, 0.70354908, 0.70761209, 0.71080045, 0.70226718,\n",
       "        0.72391087, 0.70477389, 0.71077165, 0.71728759, 0.70651071,\n",
       "        0.70761705, 0.70832017, 0.71795904, 0.67677694, 0.72488386,\n",
       "        0.7065868 , 0.69647169, 0.71482189, 0.71268955, 0.71570607,\n",
       "        0.72621654, 0.72787449, 0.66651411, 0.72960824, 0.72071506,\n",
       "        0.69949343, 0.72862692, 0.69967483, 0.69669806, 0.71478652,\n",
       "        0.70774343, 0.66172944, 0.71909627, 0.69819774, 0.68965448,\n",
       "        0.70986736, 0.7004791 , 0.7036503 , 0.714772  , 0.70554051,\n",
       "        0.66740718, 0.71665397, 0.69836105, 0.69200221, 0.708333  ,\n",
       "        0.71810428, 0.70696985, 0.72259687, 0.72202447, 0.66233141,\n",
       "        0.72467153, 0.71580905, 0.69549663, 0.7224417 , 0.67307047,\n",
       "        0.70141635, 0.70839586, 0.68929103, 0.671845  , 0.70408388,\n",
       "        0.69109368, 0.68297296, 0.69658714, 0.67307047, 0.70141635,\n",
       "        0.70839586, 0.68929103, 0.671845  , 0.70408388, 0.69109368,\n",
       "        0.68297296, 0.69658714, 0.69608885, 0.68618394, 0.7245441 ,\n",
       "        0.70400044, 0.66619606, 0.71555059, 0.70827067, 0.69825182,\n",
       "        0.71873697, 0.77873812, 0.69889775, 0.77978512, 0.75126773,\n",
       "        0.75564424, 0.77960107, 0.76195084, 0.77337033, 0.78263942,\n",
       "        0.75980357, 0.73089829, 0.77319827, 0.75885553, 0.72160464,\n",
       "        0.7770363 , 0.75412608, 0.74662233, 0.76752704, 0.76883651,\n",
       "        0.76247866, 0.78218911, 0.76750589, 0.71422145, 0.78219027,\n",
       "        0.76161174, 0.74779762, 0.78173605, 0.71970968, 0.73025997,\n",
       "        0.76736688, 0.73907063, 0.70725924, 0.76889515, 0.7373047 ,\n",
       "        0.74218387, 0.76149964, 0.72772027, 0.74005939, 0.77666427,\n",
       "        0.73733431, 0.71957282, 0.77174348, 0.73797768, 0.74728351,\n",
       "        0.76303783, 0.77016378, 0.75693654, 0.77991124, 0.76470981,\n",
       "        0.71476196, 0.78025255, 0.75795145, 0.74795346, 0.77874005,\n",
       "        0.72643562, 0.75444937, 0.75602844, 0.73417865, 0.72397193,\n",
       "        0.75203514, 0.73682977, 0.73513567, 0.74566876, 0.72643562,\n",
       "        0.75444937, 0.75602844, 0.73417865, 0.72397193, 0.75203514,\n",
       "        0.73682977, 0.73513567, 0.74566876, 0.74263489, 0.73352911,\n",
       "        0.77008128, 0.74470787, 0.71428135, 0.76471321, 0.75151525,\n",
       "        0.74573317, 0.76740454, 0.8091471 , 0.72575636, 0.80719976,\n",
       "        0.77932316, 0.78292794, 0.80162743, 0.79147452, 0.80053059,\n",
       "        0.80802214, 0.78570712, 0.75303906, 0.7966642 , 0.78223422,\n",
       "        0.74131286, 0.79326835, 0.77764142, 0.76704674, 0.78610959,\n",
       "        0.78831852, 0.77804129, 0.79708671, 0.78496637, 0.73101618,\n",
       "        0.7948673 , 0.78018435, 0.763702  , 0.79780409, 0.73990571,\n",
       "        0.75137653, 0.77826479, 0.76026771, 0.72523656, 0.78073511,\n",
       "        0.75919987, 0.75950176, 0.77767991, 0.74868741, 0.76014182,\n",
       "        0.78804119, 0.75828975, 0.7362343 , 0.7822848 , 0.7590237 ,\n",
       "        0.76369326, 0.77764784, 0.78532791, 0.77169411, 0.79044302,\n",
       "        0.7806204 , 0.72898151, 0.79080023, 0.77400408, 0.76173523,\n",
       "        0.79200974, 0.73338517, 0.76403521, 0.77033862, 0.7443099 ,\n",
       "        0.73335009, 0.75901174, 0.74720585, 0.74481061, 0.75238867,\n",
       "        0.73338517, 0.76403521, 0.77033862, 0.7443099 , 0.73335009,\n",
       "        0.75901174, 0.74720585, 0.74481061, 0.75238867, 0.74674224,\n",
       "        0.74092002, 0.78133009, 0.7537591 , 0.72323477, 0.77107335,\n",
       "        0.76122733, 0.75486315, 0.77370579]),\n",
       " 'split1_test_score': array([0.73016132, 0.70057527, 0.72409287, 0.71990376, 0.70880333,\n",
       "        0.72131214, 0.71819952, 0.71640388, 0.71606642, 0.74715466,\n",
       "        0.71043847, 0.71211869, 0.73092323, 0.72543305, 0.72665062,\n",
       "        0.72257362, 0.73116772, 0.72157768, 0.69080177, 0.64533389,\n",
       "        0.69042899, 0.68634564, 0.68377721, 0.68756972, 0.68141096,\n",
       "        0.69187178, 0.677882  , 0.72175947, 0.66046007, 0.65857404,\n",
       "        0.69794323, 0.69759832, 0.68554642, 0.68984648, 0.69792645,\n",
       "        0.67572296, 0.72193772, 0.65808926, 0.65692998, 0.69971624,\n",
       "        0.69397042, 0.68766437, 0.68903575, 0.69880132, 0.68068204,\n",
       "        0.69047231, 0.64056951, 0.64892369, 0.6808524 , 0.6824537 ,\n",
       "        0.67216955, 0.67382719, 0.68816088, 0.66769917, 0.67898183,\n",
       "        0.62349482, 0.62961311, 0.6666131 , 0.66485341, 0.65600268,\n",
       "        0.65888544, 0.66641147, 0.65356935, 0.67898183, 0.62349482,\n",
       "        0.62961311, 0.6666131 , 0.66485341, 0.65600268, 0.65888544,\n",
       "        0.66641147, 0.65356935, 0.67006349, 0.62080717, 0.63443686,\n",
       "        0.66392139, 0.6640879 , 0.65274886, 0.65597664, 0.66518004,\n",
       "        0.65144785, 0.83737208, 0.80797213, 0.82059332, 0.82984108,\n",
       "        0.81705235, 0.82149746, 0.83188835, 0.82508579, 0.82445755,\n",
       "        0.85411323, 0.82619868, 0.82113595, 0.84320707, 0.84045507,\n",
       "        0.83488879, 0.84054241, 0.84401317, 0.83532128, 0.77993738,\n",
       "        0.74792251, 0.77623477, 0.7839267 , 0.78187572, 0.77561851,\n",
       "        0.78056781, 0.78811707, 0.77020301, 0.79216037, 0.74867316,\n",
       "        0.72491364, 0.7831634 , 0.78312681, 0.77099845, 0.77789964,\n",
       "        0.78185486, 0.76450977, 0.79172989, 0.75195277, 0.73132237,\n",
       "        0.78843548, 0.78284645, 0.77486003, 0.78038752, 0.78513521,\n",
       "        0.77155168, 0.74890385, 0.73447707, 0.72124226, 0.76058356,\n",
       "        0.76436193, 0.75361522, 0.75676705, 0.76884814, 0.75185444,\n",
       "        0.73478256, 0.70475171, 0.68113699, 0.73961018, 0.73417844,\n",
       "        0.71553711, 0.73229619, 0.7313135 , 0.72098921, 0.73478256,\n",
       "        0.70475171, 0.68113699, 0.73961018, 0.73417844, 0.71553711,\n",
       "        0.73229619, 0.7313135 , 0.72098921, 0.72141605, 0.70073221,\n",
       "        0.68566425, 0.73132486, 0.73034362, 0.71203362, 0.72485014,\n",
       "        0.72799132, 0.71646386, 0.86063499, 0.83427022, 0.84583803,\n",
       "        0.85565576, 0.84367   , 0.84813233, 0.85650744, 0.85190987,\n",
       "        0.84966153, 0.87795885, 0.84656847, 0.84526373, 0.86698768,\n",
       "        0.86333798, 0.85851187, 0.86288142, 0.86696802, 0.85767909,\n",
       "        0.7992759 , 0.76157851, 0.79660329, 0.80286281, 0.79830216,\n",
       "        0.79305598, 0.79803331, 0.8053573 , 0.78760638, 0.80680452,\n",
       "        0.76403746, 0.74346459, 0.79944093, 0.80090488, 0.79191651,\n",
       "        0.79380108, 0.79871596, 0.78429905, 0.8060336 , 0.76730664,\n",
       "        0.74952437, 0.80433563, 0.79981571, 0.79544214, 0.79608368,\n",
       "        0.80109134, 0.79097134, 0.76146902, 0.74948034, 0.73740561,\n",
       "        0.77564961, 0.77947478, 0.77072082, 0.77126731, 0.78341157,\n",
       "        0.76844208, 0.74179225, 0.71265751, 0.69474205, 0.74694958,\n",
       "        0.74322154, 0.72244361, 0.74063033, 0.74037658, 0.7293068 ,\n",
       "        0.74179225, 0.71265751, 0.69474205, 0.74694958, 0.74322154,\n",
       "        0.72244361, 0.74063033, 0.74037658, 0.7293068 , 0.72854049,\n",
       "        0.70916924, 0.69863904, 0.73888124, 0.73985132, 0.71966109,\n",
       "        0.73318428, 0.73738784, 0.72527388]),\n",
       " 'split2_test_score': array([0.70192962, 0.63742854, 0.6866703 , 0.66682838, 0.64635275,\n",
       "        0.6535222 , 0.6528321 , 0.65855864, 0.65935931, 0.60566696,\n",
       "        0.60796563, 0.69694006, 0.63876456, 0.62055631, 0.64646744,\n",
       "        0.6349841 , 0.64185402, 0.64543593, 0.58005171, 0.58657843,\n",
       "        0.55805883, 0.56686795, 0.55920465, 0.5559657 , 0.55913004,\n",
       "        0.56770482, 0.55305843, 0.57410378, 0.54801675, 0.59740847,\n",
       "        0.60690071, 0.58018141, 0.58950329, 0.59183597, 0.59857269,\n",
       "        0.59105648, 0.56894602, 0.54800655, 0.59740847, 0.60615483,\n",
       "        0.57550391, 0.58604413, 0.59047079, 0.59556124, 0.58849277,\n",
       "        0.56451957, 0.53784975, 0.55365996, 0.56212939, 0.54102583,\n",
       "        0.54745577, 0.5504919 , 0.55288917, 0.54732922, 0.55308394,\n",
       "        0.51932246, 0.54721998, 0.56118142, 0.52273373, 0.54964646,\n",
       "        0.54785352, 0.54270025, 0.54861496, 0.55308394, 0.51932246,\n",
       "        0.54721998, 0.56118142, 0.52273373, 0.54964646, 0.54785352,\n",
       "        0.54270025, 0.54861496, 0.54444096, 0.51418268, 0.53240046,\n",
       "        0.53529988, 0.51373544, 0.53353502, 0.52965539, 0.52974236,\n",
       "        0.53334527, 0.77493743, 0.71445309, 0.77188853, 0.76030594,\n",
       "        0.72490787, 0.72696109, 0.73847024, 0.73534952, 0.73288528,\n",
       "        0.67342285, 0.67912385, 0.75563667, 0.71634246, 0.68823867,\n",
       "        0.71527195, 0.70919739, 0.7098607 , 0.71465035, 0.6340364 ,\n",
       "        0.6467949 , 0.60335738, 0.62475269, 0.61282885, 0.60725242,\n",
       "        0.61877941, 0.61965536, 0.60559128, 0.64071568, 0.61498227,\n",
       "        0.66121927, 0.67365634, 0.63903115, 0.6481435 , 0.6579586 ,\n",
       "        0.65627877, 0.64930456, 0.63295222, 0.61431307, 0.65613705,\n",
       "        0.67090735, 0.63404705, 0.64196986, 0.65385638, 0.65336828,\n",
       "        0.64413039, 0.6235271 , 0.59446787, 0.59838028, 0.62071998,\n",
       "        0.59370988, 0.59862868, 0.60941238, 0.60523057, 0.59891442,\n",
       "        0.59895522, 0.57154795, 0.59290404, 0.61194689, 0.57888127,\n",
       "        0.59804622, 0.59911713, 0.59660887, 0.59848046, 0.59895522,\n",
       "        0.57154795, 0.59290404, 0.61194689, 0.57888127, 0.59804622,\n",
       "        0.59911713, 0.59660887, 0.59848046, 0.5898606 , 0.5655624 ,\n",
       "        0.57920332, 0.58543869, 0.56848018, 0.58237765, 0.58082093,\n",
       "        0.58283912, 0.58321857, 0.80802807, 0.7433511 , 0.7968272 ,\n",
       "        0.79038979, 0.75611449, 0.75856363, 0.76856541, 0.76584556,\n",
       "        0.76465208, 0.70560165, 0.70511528, 0.77931137, 0.74281242,\n",
       "        0.71562709, 0.74379077, 0.73542863, 0.73581088, 0.74304949,\n",
       "        0.65303146, 0.66092596, 0.61884369, 0.64361656, 0.63149092,\n",
       "        0.62689003, 0.63797855, 0.63880503, 0.62523886, 0.66435075,\n",
       "        0.64345715, 0.68755134, 0.69650972, 0.66436165, 0.67288416,\n",
       "        0.68099889, 0.67954596, 0.67426118, 0.65681227, 0.64183375,\n",
       "        0.68122469, 0.69245507, 0.65831653, 0.66537832, 0.67578777,\n",
       "        0.67509916, 0.66805916, 0.63698463, 0.61241021, 0.61795665,\n",
       "        0.6371954 , 0.61207459, 0.61624212, 0.62648964, 0.62184382,\n",
       "        0.61652052, 0.61521805, 0.59199923, 0.60160229, 0.62599479,\n",
       "        0.59153149, 0.61131486, 0.61271064, 0.60926619, 0.61118155,\n",
       "        0.61521805, 0.59199923, 0.60160229, 0.62599479, 0.59153149,\n",
       "        0.61131486, 0.61271064, 0.60926619, 0.61118155, 0.60349269,\n",
       "        0.58299517, 0.58716091, 0.59839699, 0.57965571, 0.59464239,\n",
       "        0.59355841, 0.59380287, 0.59481393]),\n",
       " 'split3_test_score': array([0.47086506, 0.48809076, 0.38501079, 0.46050195, 0.4908853 ,\n",
       "        0.43954194, 0.4706175 , 0.41558017, 0.48309074, 0.37461492,\n",
       "        0.49818331, 0.36476625, 0.38618338, 0.46355328, 0.38030693,\n",
       "        0.4347781 , 0.40058326, 0.40843845, 0.37295754, 0.46274283,\n",
       "        0.40642249, 0.45423932, 0.49326934, 0.42667819, 0.49953867,\n",
       "        0.4506121 , 0.47258829, 0.36565372, 0.44945242, 0.36932769,\n",
       "        0.43095631, 0.48470145, 0.42472895, 0.47522176, 0.47804409,\n",
       "        0.45490199, 0.37639164, 0.44851439, 0.36866805, 0.43338113,\n",
       "        0.49135523, 0.42411355, 0.47482268, 0.47846891, 0.45823918,\n",
       "        0.36584477, 0.45512613, 0.38019696, 0.44615232, 0.50394131,\n",
       "        0.44788502, 0.49777616, 0.48017904, 0.47804794, 0.51936503,\n",
       "        0.51705013, 0.53773706, 0.52039405, 0.53925177, 0.53610363,\n",
       "        0.52838503, 0.52551885, 0.52899937, 0.51936503, 0.51705013,\n",
       "        0.53773706, 0.52039405, 0.53925177, 0.53610363, 0.52838503,\n",
       "        0.52551885, 0.52899937, 0.49549673, 0.51196961, 0.53319626,\n",
       "        0.51550138, 0.53468891, 0.53284647, 0.52914103, 0.51709373,\n",
       "        0.52816282, 0.56871241, 0.50751042, 0.43416231, 0.54120361,\n",
       "        0.54367436, 0.49460256, 0.51890965, 0.47051297, 0.53288238,\n",
       "        0.48304006, 0.62126465, 0.46811648, 0.5081235 , 0.58452095,\n",
       "        0.48262933, 0.54992499, 0.51777651, 0.52150099, 0.4736361 ,\n",
       "        0.56621435, 0.51382583, 0.55630139, 0.59566409, 0.52342774,\n",
       "        0.59993083, 0.54961058, 0.5731033 , 0.47577312, 0.55399809,\n",
       "        0.4837739 , 0.54071359, 0.59257701, 0.52984655, 0.58400789,\n",
       "        0.57958254, 0.56203555, 0.48111673, 0.552978  , 0.48372159,\n",
       "        0.54260488, 0.59905624, 0.52279859, 0.58136123, 0.5815376 ,\n",
       "        0.5625811 , 0.4611287 , 0.55153369, 0.48312352, 0.54186023,\n",
       "        0.60147938, 0.54112256, 0.59279547, 0.57367021, 0.57386636,\n",
       "        0.606955  , 0.60601934, 0.62357272, 0.610238  , 0.62807353,\n",
       "        0.61668234, 0.61479763, 0.60816114, 0.60952656, 0.606955  ,\n",
       "        0.60601934, 0.62357272, 0.610238  , 0.62807353, 0.61668234,\n",
       "        0.61479763, 0.60816114, 0.60952656, 0.57903415, 0.59490976,\n",
       "        0.61757698, 0.60079855, 0.61895593, 0.60982874, 0.61241454,\n",
       "        0.59620971, 0.60545149, 0.59087797, 0.52668984, 0.45304364,\n",
       "        0.56409173, 0.56525777, 0.5144472 , 0.54177278, 0.49126547,\n",
       "        0.55298177, 0.50298747, 0.63975981, 0.48263034, 0.52550553,\n",
       "        0.60272989, 0.49855876, 0.56688461, 0.53490017, 0.53757974,\n",
       "        0.4915886 , 0.57153295, 0.52214741, 0.57024529, 0.6062186 ,\n",
       "        0.53489572, 0.61222015, 0.56025488, 0.58458062, 0.4943748 ,\n",
       "        0.56754774, 0.49390742, 0.55575531, 0.60402928, 0.5435434 ,\n",
       "        0.59661581, 0.59150194, 0.57421017, 0.49802244, 0.56507619,\n",
       "        0.49295692, 0.55674733, 0.60977041, 0.5360183 , 0.59312676,\n",
       "        0.59267872, 0.57402421, 0.47704971, 0.55822805, 0.49193621,\n",
       "        0.55418119, 0.60935945, 0.55009273, 0.60247143, 0.58247932,\n",
       "        0.58222725, 0.61878205, 0.61266488, 0.61849541, 0.61822395,\n",
       "        0.63136979, 0.62125421, 0.62180973, 0.61121055, 0.61400961,\n",
       "        0.61878205, 0.61266488, 0.61849541, 0.61822395, 0.63136979,\n",
       "        0.62125421, 0.62180973, 0.61121055, 0.61400961, 0.59149979,\n",
       "        0.59967186, 0.61112026, 0.60857211, 0.62176349, 0.61372636,\n",
       "        0.61923062, 0.59902717, 0.6092129 ]),\n",
       " 'split4_test_score': array([0.54938243, 0.60236916, 0.57875092, 0.57622912, 0.57320148,\n",
       "        0.56859479, 0.57938569, 0.5709415 , 0.57243585, 0.54937423,\n",
       "        0.60629065, 0.55401678, 0.56163968, 0.57029546, 0.54632615,\n",
       "        0.56152062, 0.55680057, 0.55755969, 0.45508052, 0.51274531,\n",
       "        0.48538172, 0.48068557, 0.48372551, 0.49634476, 0.48569686,\n",
       "        0.48665833, 0.49319287, 0.48973316, 0.52622566, 0.5074742 ,\n",
       "        0.50443701, 0.50519727, 0.5168953 , 0.51287284, 0.51241725,\n",
       "        0.51735398, 0.49022663, 0.52265411, 0.50746272, 0.5026086 ,\n",
       "        0.50335571, 0.51281896, 0.51165309, 0.51021921, 0.51456284,\n",
       "        0.45649112, 0.50830348, 0.46918415, 0.47473226, 0.4769418 ,\n",
       "        0.48691277, 0.47620171, 0.48133457, 0.4863714 , 0.46533193,\n",
       "        0.49549595, 0.44606356, 0.46522774, 0.45537489, 0.47206122,\n",
       "        0.46884024, 0.46149896, 0.47204337, 0.46533193, 0.49549595,\n",
       "        0.44606356, 0.46522774, 0.45537489, 0.47206122, 0.46884024,\n",
       "        0.46149896, 0.47204337, 0.4491396 , 0.48243092, 0.45057657,\n",
       "        0.45930588, 0.44706039, 0.4665953 , 0.46256302, 0.45532872,\n",
       "        0.46428429, 0.66170066, 0.71816959, 0.69349254, 0.70965368,\n",
       "        0.7049749 , 0.70988367, 0.71809571, 0.70255407, 0.70564428,\n",
       "        0.64067251, 0.7154824 , 0.6533509 , 0.66531682, 0.66580715,\n",
       "        0.66585232, 0.66764834, 0.65111011, 0.66711736, 0.51952448,\n",
       "        0.58723498, 0.555126  , 0.54579312, 0.5568236 , 0.56837367,\n",
       "        0.55399679, 0.55674433, 0.56419376, 0.55189667, 0.60357622,\n",
       "        0.59182829, 0.57189092, 0.5882084 , 0.59705806, 0.58597627,\n",
       "        0.5925255 , 0.59588152, 0.5562442 , 0.59872446, 0.58750553,\n",
       "        0.5679631 , 0.57972049, 0.59076707, 0.58229486, 0.58515139,\n",
       "        0.59068323, 0.52342632, 0.57475339, 0.53911789, 0.53661246,\n",
       "        0.54592448, 0.55469205, 0.54008125, 0.54781837, 0.55101361,\n",
       "        0.52278577, 0.53850909, 0.49785144, 0.51854313, 0.5082357 ,\n",
       "        0.52732883, 0.52297003, 0.51446076, 0.52586928, 0.52278577,\n",
       "        0.53850909, 0.49785144, 0.51854313, 0.5082357 , 0.52732883,\n",
       "        0.52297003, 0.51446076, 0.52586928, 0.50557599, 0.52751437,\n",
       "        0.50494791, 0.51169031, 0.49842945, 0.52253549, 0.51583373,\n",
       "        0.50701576, 0.51786769, 0.67116805, 0.72709314, 0.70170787,\n",
       "        0.71977964, 0.71258434, 0.71948671, 0.72679314, 0.7113228 ,\n",
       "        0.71432078, 0.64816048, 0.72191057, 0.65944403, 0.67297874,\n",
       "        0.67238105, 0.67352634, 0.67432182, 0.6582598 , 0.67452482,\n",
       "        0.52332431, 0.59178376, 0.56063822, 0.55079302, 0.56117772,\n",
       "        0.57307625, 0.55821799, 0.56153161, 0.56906959, 0.55660656,\n",
       "        0.60699696, 0.59551588, 0.5777701 , 0.59245627, 0.60038322,\n",
       "        0.59084202, 0.59727892, 0.59976717, 0.56076428, 0.60233659,\n",
       "        0.59125538, 0.57354089, 0.58391643, 0.59444083, 0.58701681,\n",
       "        0.58984037, 0.5947952 , 0.52592619, 0.57933637, 0.54355093,\n",
       "        0.54134783, 0.55002214, 0.55834887, 0.54391608, 0.55223275,\n",
       "        0.55482057, 0.52623723, 0.54063296, 0.49957434, 0.52170507,\n",
       "        0.51164272, 0.53032976, 0.52650716, 0.5180419 , 0.52896251,\n",
       "        0.52623723, 0.54063296, 0.49957434, 0.52170507, 0.51164272,\n",
       "        0.53032976, 0.52650716, 0.5180419 , 0.52896251, 0.50882781,\n",
       "        0.53020628, 0.50670333, 0.51473889, 0.50185203, 0.52545693,\n",
       "        0.51910628, 0.51056915, 0.52079866]),\n",
       " 'mean_test_score': array([0.63262113, 0.62640256, 0.61642739, 0.62685273, 0.62430201,\n",
       "        0.62137639, 0.62516174, 0.61445117, 0.62964798, 0.59666429,\n",
       "        0.62609902, 0.60723239, 0.60709398, 0.61132301, 0.604927  ,\n",
       "        0.61208865, 0.60537545, 0.60956673, 0.56231622, 0.5846213 ,\n",
       "        0.57330172, 0.5832026 , 0.57729816, 0.57923332, 0.58929832,\n",
       "        0.57926809, 0.5850697 , 0.57018499, 0.57617059, 0.56951418,\n",
       "        0.58959614, 0.58588158, 0.58715405, 0.59359496, 0.59532299,\n",
       "        0.58978055, 0.57159622, 0.57618292, 0.56904825, 0.58948026,\n",
       "        0.58631849, 0.585459  , 0.59286867, 0.59501058, 0.59006196,\n",
       "        0.55908641, 0.56976374, 0.55491232, 0.57717817, 0.57333881,\n",
       "        0.57581893, 0.5828212 , 0.57961206, 0.58037788, 0.57796664,\n",
       "        0.57135594, 0.57380591, 0.58054147, 0.57081176, 0.58357957,\n",
       "        0.57901158, 0.5758205 , 0.57996284, 0.57796664, 0.57135594,\n",
       "        0.57380591, 0.58054147, 0.57081176, 0.58357957, 0.57901158,\n",
       "        0.5758205 , 0.57996284, 0.57104593, 0.56311486, 0.57503085,\n",
       "        0.5756058 , 0.56515374, 0.58025525, 0.57712135, 0.57311933,\n",
       "        0.57919544, 0.72429214, 0.68940059, 0.69998436, 0.71845441,\n",
       "        0.70925075, 0.70650917, 0.71386296, 0.70137454, 0.71570178,\n",
       "        0.68221045, 0.71459357, 0.69428765, 0.69836908, 0.7001253 ,\n",
       "        0.69513574, 0.70428784, 0.69387656, 0.7012234 , 0.63519417,\n",
       "        0.66212908, 0.64614662, 0.65565596, 0.65228274, 0.65137252,\n",
       "        0.66297732, 0.65238499, 0.65896548, 0.6360511 , 0.65029794,\n",
       "        0.6458204 , 0.66169898, 0.66204052, 0.66298834, 0.66862942,\n",
       "        0.67048511, 0.66664621, 0.63795266, 0.65160554, 0.64707016,\n",
       "        0.66144902, 0.66304861, 0.6604278 , 0.66717554, 0.6704952 ,\n",
       "        0.66639685, 0.62542995, 0.64243371, 0.62435504, 0.64489721,\n",
       "        0.64404753, 0.64566221, 0.65140152, 0.64870415, 0.65087778,\n",
       "        0.63798284, 0.63505549, 0.63029872, 0.64290337, 0.63466817,\n",
       "        0.64192593, 0.64120215, 0.63713599, 0.64010685, 0.63798284,\n",
       "        0.63505549, 0.63029872, 0.64290337, 0.63466817, 0.64192593,\n",
       "        0.64120215, 0.63713599, 0.64010685, 0.62770434, 0.62444957,\n",
       "        0.63149475, 0.63479206, 0.62609811, 0.63829774, 0.63708692,\n",
       "        0.63195781, 0.63808123, 0.74797124, 0.71143213, 0.7209233 ,\n",
       "        0.74184802, 0.73211091, 0.72845146, 0.73702266, 0.72417486,\n",
       "        0.73792766, 0.70408311, 0.73327864, 0.71266273, 0.71810372,\n",
       "        0.71907777, 0.71353122, 0.72343158, 0.71259712, 0.71978855,\n",
       "        0.65110776, 0.6727725 , 0.65906386, 0.67049681, 0.66564112,\n",
       "        0.66455706, 0.67732687, 0.66593016, 0.67285991, 0.65240847,\n",
       "        0.66668317, 0.65974081, 0.67794875, 0.67739773, 0.67789248,\n",
       "        0.68429153, 0.68530891, 0.6820435 , 0.654064  , 0.667339  ,\n",
       "        0.66060051, 0.67707373, 0.67761068, 0.67471288, 0.68220775,\n",
       "        0.68448057, 0.68109955, 0.63735149, 0.65422982, 0.63625848,\n",
       "        0.65779889, 0.65598249, 0.65724095, 0.66362971, 0.66034054,\n",
       "        0.66280403, 0.64708295, 0.64439796, 0.63695054, 0.65143666,\n",
       "        0.64222312, 0.64887084, 0.64977274, 0.64474117, 0.64716983,\n",
       "        0.64708295, 0.64439796, 0.63695054, 0.65143666, 0.64222312,\n",
       "        0.64887084, 0.64977274, 0.64474117, 0.64716983, 0.6358206 ,\n",
       "        0.63259252, 0.63699072, 0.64286967, 0.63327146, 0.64491202,\n",
       "        0.64526138, 0.63913004, 0.64476103]),\n",
       " 'std_test_score': array([0.10345847, 0.07909805, 0.12634376, 0.09750805, 0.08260334,\n",
       "        0.10712935, 0.09136645, 0.11230336, 0.09031485, 0.13140541,\n",
       "        0.0785391 , 0.13482512, 0.12609152, 0.09045411, 0.13024602,\n",
       "        0.10550563, 0.11811204, 0.11667821, 0.13175085, 0.09043626,\n",
       "        0.12075818, 0.1086062 , 0.08419184, 0.11404767, 0.09534703,\n",
       "        0.10236832, 0.10133207, 0.13271272, 0.09052758, 0.1214392 ,\n",
       "        0.10808885, 0.08368201, 0.10808657, 0.09026347, 0.08951443,\n",
       "        0.09512771, 0.12957332, 0.09264456, 0.12141492, 0.1075301 ,\n",
       "        0.08268266, 0.10859772, 0.09045809, 0.09050054, 0.09516287,\n",
       "        0.13449653, 0.09140746, 0.12233772, 0.10919542, 0.08364002,\n",
       "        0.10631688, 0.09551274, 0.09536413, 0.09819163, 0.08483948,\n",
       "        0.07879786, 0.08894355, 0.08546879, 0.08448047, 0.08438976,\n",
       "        0.08320316, 0.08530533, 0.08275956, 0.08483948, 0.07879786,\n",
       "        0.08894355, 0.08546879, 0.08448047, 0.08438976, 0.08320316,\n",
       "        0.08530533, 0.08275956, 0.09666113, 0.07745256, 0.09480468,\n",
       "        0.09278751, 0.08662044, 0.09045342, 0.09066095, 0.09276677,\n",
       "        0.09230752, 0.09637337, 0.09868001, 0.13913188, 0.09667528,\n",
       "        0.0910522 , 0.11304761, 0.10475941, 0.122426  , 0.10012774,\n",
       "        0.12413116, 0.06736575, 0.12562667, 0.11157556, 0.08347119,\n",
       "        0.12054922, 0.09617027, 0.10809145, 0.1058509 , 0.12513409,\n",
       "        0.08059088, 0.11229866, 0.10184299, 0.08307283, 0.10747615,\n",
       "        0.09095201, 0.09829314, 0.0965911 , 0.11327985, 0.07586223,\n",
       "        0.10043966, 0.09336585, 0.07417872, 0.09505403, 0.07843786,\n",
       "        0.08010834, 0.08345803, 0.11225368, 0.07975987, 0.10412106,\n",
       "        0.09469651, 0.07671532, 0.09962031, 0.08071694, 0.0831013 ,\n",
       "        0.08649055, 0.12132349, 0.08570536, 0.11087946, 0.10066294,\n",
       "        0.0817926 , 0.10117774, 0.08949273, 0.09163295, 0.0950251 ,\n",
       "        0.08117922, 0.08162105, 0.08646199, 0.08387394, 0.08604451,\n",
       "        0.08153258, 0.08232855, 0.08485817, 0.08173543, 0.08117922,\n",
       "        0.08162105, 0.08646199, 0.08387394, 0.08604451, 0.08153258,\n",
       "        0.08232855, 0.08485817, 0.08173543, 0.09022991, 0.07931471,\n",
       "        0.0906452 , 0.08960516, 0.08753689, 0.08804123, 0.08862635,\n",
       "        0.0910696 , 0.0909882 , 0.10061755, 0.10068583, 0.1420827 ,\n",
       "        0.09878988, 0.09362182, 0.11529368, 0.10626732, 0.12513579,\n",
       "        0.102834  , 0.12685768, 0.06766571, 0.1302524 , 0.11490866,\n",
       "        0.08606361, 0.1233747 , 0.09944608, 0.11123198, 0.10881379,\n",
       "        0.12849845, 0.08475493, 0.11663514, 0.10557079, 0.08658259,\n",
       "        0.10962877, 0.09499874, 0.10178542, 0.09961047, 0.1147076 ,\n",
       "        0.07820556, 0.10339882, 0.09679697, 0.07785948, 0.0976325 ,\n",
       "        0.08250368, 0.0836038 , 0.08724736, 0.11411372, 0.0823886 ,\n",
       "        0.10722598, 0.09820968, 0.08015482, 0.10189622, 0.0847424 ,\n",
       "        0.08642347, 0.08997444, 0.12281252, 0.08881978, 0.11292668,\n",
       "        0.10363001, 0.08474481, 0.10359252, 0.0929725 , 0.09450823,\n",
       "        0.09813126, 0.08104064, 0.08184403, 0.09120806, 0.08523944,\n",
       "        0.08745683, 0.08218161, 0.08378334, 0.08671275, 0.08268641,\n",
       "        0.08104064, 0.08184403, 0.09120806, 0.08523944, 0.08745683,\n",
       "        0.08218161, 0.08378334, 0.08671275, 0.08268641, 0.08948428,\n",
       "        0.07953044, 0.09461656, 0.09064913, 0.08914125, 0.08862641,\n",
       "        0.08993825, 0.09299403, 0.09190661]),\n",
       " 'rank_test_score': array([153, 162, 171, 161, 169, 170, 166, 172, 159, 180, 163, 176, 177,\n",
       "        174, 179, 173, 178, 175, 241, 195, 227, 198, 214, 208, 189, 207,\n",
       "        194, 235, 218, 237, 187, 192, 190, 183, 181, 186, 229, 217, 238,\n",
       "        188, 191, 193, 184, 182, 185, 242, 236, 243, 215, 226, 221, 199,\n",
       "        206, 202, 212, 230, 224, 200, 233, 196, 210, 219, 204, 212, 230,\n",
       "        224, 200, 233, 196, 210, 219, 204, 232, 240, 223, 222, 239, 203,\n",
       "        216, 228, 209,   8,  35,  30,  14,  23,  24,  18,  27,  16,  39,\n",
       "         17,  33,  31,  29,  32,  25,  34,  28, 146,  69, 106,  82,  87,\n",
       "         92,  67,  86,  78, 144,  95, 107,  71,  70,  66,  55,  54,  59,\n",
       "        135,  88, 105,  72,  65,  74,  57,  53,  60, 165, 121, 168, 111,\n",
       "        117, 108,  91, 100,  94, 133, 147, 157, 118, 150, 124, 126, 137,\n",
       "        128, 133, 147, 157, 118, 150, 124, 126, 137, 128, 160, 167, 156,\n",
       "        149, 164, 131, 139, 155, 132,   1,  22,  11,   2,   6,   7,   4,\n",
       "          9,   3,  26,   5,  20,  15,  13,  19,  10,  21,  12,  93,  51,\n",
       "         77,  52,  62,  63,  47,  61,  50,  85,  58,  76,  43,  46,  44,\n",
       "         38,  36,  41,  84,  56,  73,  48,  45,  49,  40,  37,  42, 136,\n",
       "         83, 143,  79,  81,  80,  64,  75,  68, 103, 115, 141,  89, 122,\n",
       "         98,  96, 113, 101, 103, 115, 141,  89, 122,  98,  96, 113, 101,\n",
       "        145, 154, 140, 120, 152, 110, 109, 130, 112])}"
      ]
     },
     "execution_count": 28,
     "metadata": {},
     "output_type": "execute_result"
    }
   ],
   "source": [
    "grid_search.cv_results_ \n",
    " "
   ]
  },
  {
   "cell_type": "code",
   "execution_count": null,
   "metadata": {},
   "outputs": [
    {
     "data": {
      "text/plain": [
       "0.8637877248990198"
      ]
     },
     "execution_count": 29,
     "metadata": {},
     "output_type": "execute_result"
    }
   ],
   "source": [
    "grid_search.best_estimator_.score(X_train, y_train)"
   ]
  },
  {
   "cell_type": "code",
   "execution_count": null,
   "metadata": {},
   "outputs": [],
   "source": [
    "X_test_rf_predict = grid_search.best_estimator_.predict(X_test)"
   ]
  },
  {
   "cell_type": "code",
   "execution_count": null,
   "metadata": {},
   "outputs": [
    {
     "data": {
      "text/plain": [
       "0.8637877248990198"
      ]
     },
     "execution_count": 31,
     "metadata": {},
     "output_type": "execute_result"
    }
   ],
   "source": [
    "X_test_rf_predict"
   ]
  },
  {
   "cell_type": "code",
   "execution_count": null,
   "metadata": {},
   "outputs": [],
   "source": [
    "mlp = grid_search.best_estimator_"
   ]
  },
  {
   "cell_type": "code",
   "execution_count": null,
   "metadata": {},
   "outputs": [],
   "source": [
    "X_test_mlp_predict = mlp.predict(X_test)"
   ]
  },
  {
   "cell_type": "code",
   "execution_count": null,
   "metadata": {},
   "outputs": [
    {
     "data": {
      "text/plain": [
       "array([ 1.80394118,  6.27423476,  4.07774967, ...,  0.87503796,\n",
       "       22.59688303,  2.53267729])"
      ]
     },
     "execution_count": 67,
     "metadata": {},
     "output_type": "execute_result"
    }
   ],
   "source": [
    "X_test_mlp_predict"
   ]
  },
  {
   "cell_type": "code",
   "execution_count": null,
   "metadata": {},
   "outputs": [],
   "source": []
  },
  {
   "cell_type": "code",
   "execution_count": null,
   "metadata": {},
   "outputs": [
    {
     "ename": "NameError",
     "evalue": "name 'y_test' is not defined",
     "output_type": "error",
     "traceback": [
      "\u001b[1;31m---------------------------------------------------------------------------\u001b[0m",
      "\u001b[1;31mNameError\u001b[0m                                 Traceback (most recent call last)",
      "\u001b[1;32md:\\PythonProjects\\pythonProject\\train\\train_sklean.ipynb Cell 74\u001b[0m in \u001b[0;36m<cell line: 4>\u001b[1;34m()\u001b[0m\n\u001b[0;32m      <a href='vscode-notebook-cell:/d%3A/PythonProjects/pythonProject/train/train_sklean.ipynb#Y133sZmlsZQ%3D%3D?line=0'>1</a>\u001b[0m \u001b[39m# Scatter\u001b[39;00m\n\u001b[0;32m      <a href='vscode-notebook-cell:/d%3A/PythonProjects/pythonProject/train/train_sklean.ipynb#Y133sZmlsZQ%3D%3D?line=1'>2</a>\u001b[0m \u001b[39mimport\u001b[39;00m \u001b[39mmatplotlib\u001b[39;00m\u001b[39m.\u001b[39;00m\u001b[39mpyplot\u001b[39;00m \u001b[39mas\u001b[39;00m \u001b[39mplt\u001b[39;00m\n\u001b[1;32m----> <a href='vscode-notebook-cell:/d%3A/PythonProjects/pythonProject/train/train_sklean.ipynb#Y133sZmlsZQ%3D%3D?line=3'>4</a>\u001b[0m y_actual \u001b[39m=\u001b[39m y_test\n\u001b[0;32m      <a href='vscode-notebook-cell:/d%3A/PythonProjects/pythonProject/train/train_sklean.ipynb#Y133sZmlsZQ%3D%3D?line=4'>5</a>\u001b[0m y_predic_rf \u001b[39m=\u001b[39m X_test_rf_predict\n\u001b[0;32m      <a href='vscode-notebook-cell:/d%3A/PythonProjects/pythonProject/train/train_sklean.ipynb#Y133sZmlsZQ%3D%3D?line=6'>7</a>\u001b[0m y_predic_mlp \u001b[39m=\u001b[39m []\n",
      "\u001b[1;31mNameError\u001b[0m: name 'y_test' is not defined"
     ]
    }
   ],
   "source": [
    "# Scatter\n",
    "import matplotlib.pyplot as plt\n",
    "\n",
    "y_actual = y_test\n",
    "y_predic_rf = X_test_rf_predict\n",
    "\n",
    "y_predic_mlp = []\n",
    "\n",
    "line_x =[0,100,200,250] \n",
    "line_y =[0,100,200,250] \n",
    "s = [10 for i in range(len(y_actual))]\n",
    "plt.scatter(x=y_actual,y=X_test_rf_predict,s=s)\n",
    "plt.plot(line_x,line_y,\"r-\")\n",
    "plt.xlabel(\"Actual value\")\n",
    "plt.ylabel(\"Prediction value\")\n",
    "plt.title(\"Random Forest Actual-Prediction\")\n",
    "plt.text(150, 250, \"Score:0.863\")\n",
    "plt.text(150, 235, \"RMSE:20.261\")\n",
    "# plt.plot([1, 2, 3, 4],[1, 2, 3, 4],'o')\n"
   ]
  },
  {
   "cell_type": "code",
   "execution_count": null,
   "metadata": {},
   "outputs": [
    {
     "data": {
      "text/html": [
       "<div>\n",
       "<style scoped>\n",
       "    .dataframe tbody tr th:only-of-type {\n",
       "        vertical-align: middle;\n",
       "    }\n",
       "\n",
       "    .dataframe tbody tr th {\n",
       "        vertical-align: top;\n",
       "    }\n",
       "\n",
       "    .dataframe thead th {\n",
       "        text-align: right;\n",
       "    }\n",
       "</style>\n",
       "<table border=\"1\" class=\"dataframe\">\n",
       "  <thead>\n",
       "    <tr style=\"text-align: right;\">\n",
       "      <th></th>\n",
       "      <th>resp_val</th>\n",
       "    </tr>\n",
       "  </thead>\n",
       "  <tbody>\n",
       "    <tr>\n",
       "      <th>8687</th>\n",
       "      <td>164.1</td>\n",
       "    </tr>\n",
       "    <tr>\n",
       "      <th>5266</th>\n",
       "      <td>182.6</td>\n",
       "    </tr>\n",
       "    <tr>\n",
       "      <th>4787</th>\n",
       "      <td>194.1</td>\n",
       "    </tr>\n",
       "    <tr>\n",
       "      <th>8587</th>\n",
       "      <td>234.9</td>\n",
       "    </tr>\n",
       "    <tr>\n",
       "      <th>5279</th>\n",
       "      <td>168.2</td>\n",
       "    </tr>\n",
       "    <tr>\n",
       "      <th>4738</th>\n",
       "      <td>195.0</td>\n",
       "    </tr>\n",
       "    <tr>\n",
       "      <th>4706</th>\n",
       "      <td>190.3</td>\n",
       "    </tr>\n",
       "    <tr>\n",
       "      <th>4667</th>\n",
       "      <td>154.9</td>\n",
       "    </tr>\n",
       "    <tr>\n",
       "      <th>4693</th>\n",
       "      <td>172.3</td>\n",
       "    </tr>\n",
       "    <tr>\n",
       "      <th>8509</th>\n",
       "      <td>166.9</td>\n",
       "    </tr>\n",
       "    <tr>\n",
       "      <th>8652</th>\n",
       "      <td>183.0</td>\n",
       "    </tr>\n",
       "  </tbody>\n",
       "</table>\n",
       "</div>"
      ],
      "text/plain": [
       "      resp_val\n",
       "8687     164.1\n",
       "5266     182.6\n",
       "4787     194.1\n",
       "8587     234.9\n",
       "5279     168.2\n",
       "4738     195.0\n",
       "4706     190.3\n",
       "4667     154.9\n",
       "4693     172.3\n",
       "8509     166.9\n",
       "8652     183.0"
      ]
     },
     "execution_count": 43,
     "metadata": {},
     "output_type": "execute_result"
    }
   ],
   "source": [
    "y_actual[y_actual[\"resp_val\"]>150]"
   ]
  },
  {
   "cell_type": "code",
   "execution_count": 41,
   "metadata": {},
   "outputs": [
    {
     "ename": "NameError",
     "evalue": "name 'X_test_mlp_predict' is not defined",
     "output_type": "error",
     "traceback": [
      "\u001b[1;31m---------------------------------------------------------------------------\u001b[0m",
      "\u001b[1;31mNameError\u001b[0m                                 Traceback (most recent call last)",
      "\u001b[1;32md:\\PythonProjects\\pythonProject\\train\\train_sklean.ipynb Cell 78\u001b[0m in \u001b[0;36m<cell line: 5>\u001b[1;34m()\u001b[0m\n\u001b[0;32m      <a href='vscode-notebook-cell:/d%3A/PythonProjects/pythonProject/train/train_sklean.ipynb#Y136sZmlsZQ%3D%3D?line=1'>2</a>\u001b[0m \u001b[39mimport\u001b[39;00m \u001b[39mmatplotlib\u001b[39;00m\u001b[39m.\u001b[39;00m\u001b[39mpyplot\u001b[39;00m \u001b[39mas\u001b[39;00m \u001b[39mplt\u001b[39;00m\n\u001b[0;32m      <a href='vscode-notebook-cell:/d%3A/PythonProjects/pythonProject/train/train_sklean.ipynb#Y136sZmlsZQ%3D%3D?line=3'>4</a>\u001b[0m y_actual \u001b[39m=\u001b[39m y_test\n\u001b[1;32m----> <a href='vscode-notebook-cell:/d%3A/PythonProjects/pythonProject/train/train_sklean.ipynb#Y136sZmlsZQ%3D%3D?line=4'>5</a>\u001b[0m y_predic_rf \u001b[39m=\u001b[39m X_test_mlp_predict\n\u001b[0;32m      <a href='vscode-notebook-cell:/d%3A/PythonProjects/pythonProject/train/train_sklean.ipynb#Y136sZmlsZQ%3D%3D?line=6'>7</a>\u001b[0m y_predic_mlp \u001b[39m=\u001b[39m []\n\u001b[0;32m      <a href='vscode-notebook-cell:/d%3A/PythonProjects/pythonProject/train/train_sklean.ipynb#Y136sZmlsZQ%3D%3D?line=8'>9</a>\u001b[0m line_x \u001b[39m=\u001b[39m[\u001b[39m0\u001b[39m,\u001b[39m100\u001b[39m,\u001b[39m200\u001b[39m,\u001b[39m250\u001b[39m] \n",
      "\u001b[1;31mNameError\u001b[0m: name 'X_test_mlp_predict' is not defined"
     ]
    }
   ],
   "source": [
    "# Scatter\n",
    "import matplotlib.pyplot as plt\n",
    "\n",
    "y_actual = y_test\n",
    "y_predic_rf = X_test_mlp_predict\n",
    "\n",
    "y_predic_mlp = []\n",
    "\n",
    "line_x =[0,100,200,250] \n",
    "line_y =[0,100,200,250] \n",
    "s = [10 for i in range(len(y_actual))]\n",
    "plt.scatter(x=y_actual,y=X_test_mlp_predict,s=s)\n",
    "plt.plot(line_x,line_y,\"r-\")\n",
    "plt.xlabel(\"Actual value\")\n",
    "plt.ylabel(\"Prediction value\")\n",
    "plt.title(\"Multi-Layer Perceptron Actual-Prediction\")\n",
    "plt.text(150, 250, \"Score:0.583\")\n",
    "plt.text(150, 235, \"RMSE:24.402\")\n"
   ]
  },
  {
   "cell_type": "code",
   "execution_count": null,
   "metadata": {},
   "outputs": [],
   "source": [
    "data_forbin = pd.to_numeric(data_ori[\"resp_val\"]) "
   ]
  },
  {
   "cell_type": "code",
   "execution_count": null,
   "metadata": {},
   "outputs": [],
   "source": [
    "# data distribution analysis.\n",
    "resps50 =     len(data_ori[data_ori[\"resp_val\"]<50])\n",
    "resps50100 =  len(data_ori[(data_ori['resp_val'] >= 50) & (data_ori['resp_val'] < 100)])\n",
    "resps100150 = len(data_ori[(data_ori['resp_val'] >= 100) & (data_ori['resp_val'] < 150)])\n",
    "resps150200=  len(data_ori[(data_ori['resp_val'] >= 150) & (data_ori['resp_val'] < 200)])\n",
    "# (df['two'] >= -0.5) & (df['two'] < 0.5)\n",
    "\n",
    "resps200= len(data_ori[data_ori[\"resp_val\"]>=200])"
   ]
  },
  {
   "cell_type": "code",
   "execution_count": null,
   "metadata": {},
   "outputs": [
    {
     "name": "stdout",
     "output_type": "stream",
     "text": [
      "10223 164 68 39 12\n"
     ]
    }
   ],
   "source": [
    "print(resps50,resps50100,resps100150,resps150200,resps200)"
   ]
  },
  {
   "cell_type": "code",
   "execution_count": null,
   "metadata": {},
   "outputs": [
    {
     "data": {
      "text/plain": [
       "[10223, 164, 68, 39, 12]"
      ]
     },
     "execution_count": 112,
     "metadata": {},
     "output_type": "execute_result"
    }
   ],
   "source": [
    "bins = [resps50,resps50100,resps100150,resps150200,resps200]\n",
    "bins"
   ]
  },
  {
   "cell_type": "code",
   "execution_count": null,
   "metadata": {},
   "outputs": [
    {
     "data": {
      "text/plain": [
       "0        False\n",
       "1        False\n",
       "2        False\n",
       "3        False\n",
       "4        False\n",
       "         ...  \n",
       "10505    False\n",
       "10506    False\n",
       "10507    False\n",
       "10508    False\n",
       "10509    False\n",
       "Name: resp_val, Length: 10510, dtype: bool"
      ]
     },
     "execution_count": 111,
     "metadata": {},
     "output_type": "execute_result"
    }
   ],
   "source": [
    "(data_ori['resp_val'] >= 50) & (data_ori['resp_val'] < 100)"
   ]
  },
  {
   "cell_type": "code",
   "execution_count": null,
   "metadata": {},
   "outputs": [
    {
     "data": {
      "image/png": "[encoded data removed]",
      "text/plain": [
       "<Figure size 432x288 with 1 Axes>"
      ]
     },
     "metadata": {
      "needs_background": "light"
     },
     "output_type": "display_data"
    }
   ],
   "source": [
    "plt.hist(data_forbin)\n",
    "plt.show() "
   ]
  },
  {
   "cell_type": "markdown",
   "metadata": {},
   "source": []
  },
  {
   "cell_type": "code",
   "execution_count": null,
   "metadata": {},
   "outputs": [
    {
     "data": {
      "text/plain": [
       "Text(0.5, 1.0, 'Data Distribution')"
      ]
     },
     "execution_count": 122,
     "metadata": {},
     "output_type": "execute_result"
    },
    {
     "data": {
      "image/png": "[encoded data removed]",
      "text/plain": [
       "<Figure size 432x288 with 1 Axes>"
      ]
     },
     "metadata": {
      "needs_background": "light"
     },
     "output_type": "display_data"
    }
   ],
   "source": [
    "plt.hist(data_forbin, 30, range=[0,250], align='mid')\n",
    "plt.ylabel(\"Data Size\")\n",
    "plt.xlabel(\"Response Value\")\n",
    "plt.title(\"Data Distribution\")"
   ]
  },
  {
   "cell_type": "code",
   "execution_count": null,
   "metadata": {},
   "outputs": [
    {
     "data": {
      "image/png": "[encoded data removed]",
      "text/plain": [
       "<Figure size 432x288 with 1 Axes>"
      ]
     },
     "metadata": {},
     "output_type": "display_data"
    }
   ],
   "source": [
    "import matplotlib.pyplot as plt\n",
    "\n",
    "# resps50,resps50100,resps100150,resps150200,resps200\n",
    "\n",
    "labels = ['0-50', '50-100', '100-150', '150-200','>=200']\n",
    "sizes = [10223, 164, 68, 39, 12]\n",
    "explode = (0, 0.1, 0, 0)  # only \"explode\" the 2nd slice (i.e. 'Hogs')\n",
    "\n",
    "fig1, ax1 = plt.subplots()\n",
    "ax1.pie(sizes, labels=labels, autopct='%1.1f%%',shadow=True, startangle=90)\n",
    "ax1.axis('equal')  # Equal aspect ratio ensures that pie is drawn as a circle.\n",
    "\n",
    "plt.show()"
   ]
  },
  {
   "cell_type": "code",
   "execution_count": null,
   "metadata": {},
   "outputs": [
    {
     "data": {
      "image/png": "[encoded data removed]",
      "text/plain": [
       "<Figure size 432x216 with 1 Axes>"
      ]
     },
     "metadata": {},
     "output_type": "display_data"
    }
   ],
   "source": [
    "import numpy as np\n",
    "import matplotlib.pyplot as plt\n",
    "\n",
    "fig, ax = plt.subplots(figsize=(6, 3), subplot_kw=dict(aspect=\"equal\"))\n",
    "\n",
    "\n",
    "labels = ['0-50', '50-100', '100-150', '150-200','>=200']\n",
    "# sizes = [10223, 164, 68, 39, 12]\n",
    "recipe = [\"375 g flour\",\n",
    "          \"75 g sugar\",\n",
    "          \"250 g butter\",\n",
    "          \"300 g berries\"]\n",
    "\n",
    "data = [10223, 164, 68, 39, 12]\n",
    "ingredients = [x.split()[-1] for x in recipe]\n",
    "\n",
    "\n",
    "def func(pct, allvals):\n",
    "    absolute = int(np.round(pct/100.*np.sum(allvals)))\n",
    "    return f\"{pct:.1f}%\\n({absolute:d} g)\"\n",
    "\n",
    "\n",
    "wedges, texts, autotexts = ax.pie(data, autopct=lambda pct: func(pct, data))\n",
    "\n",
    "ax.legend(wedges, labels,\n",
    "          title=\"Ingredients\",\n",
    "          loc=\"center left\",\n",
    "          bbox_to_anchor=(1, 0, 0.5, 1))\n",
    "\n",
    "plt.setp(autotexts, size=8, weight=\"bold\")\n",
    "\n",
    "ax.set_title(\"Matplotlib bakery: A pie\")\n",
    "plt.ylabel(\"\")\n",
    "plt.show()"
   ]
  },
  {
   "cell_type": "code",
   "execution_count": null,
   "metadata": {},
   "outputs": [],
   "source": [
    "\n",
    " "
   ]
  },
  {
   "cell_type": "code",
   "execution_count": null,
   "metadata": {},
   "outputs": [
    {
     "data": {
      "image/png": "[encoded data removed]",
      "text/plain": [
       "<Figure size 504x252 with 1 Axes>"
      ]
     },
     "metadata": {},
     "output_type": "display_data"
    }
   ],
   "source": [
    "import matplotlib.pyplot as plt\n",
    "plt.rcParams[\"figure.figsize\"] = [7.00, 3.50]\n",
    "plt.rcParams[\"figure.autolayout\"] = True\n",
    "\n",
    "\n",
    "labels = ['0-50', '50-100', '100-150', '150-200','>=200']\n",
    "sizes = [10223, 164, 68, 39, 12]\n",
    "\n",
    "\n",
    "hours = [8, 1, 11, 4]\n",
    "activities = ['sleeping', 'exercise', 'studying', 'working']\n",
    "# colors = [\"grey\", \"green\", \"orange\", \"blue\"]\n",
    "plt.pie(sizes, labels=labels, autopct=\"%.2f\")\n",
    "plt.ylabel(\"\")\n",
    "plt.show()"
   ]
  },
  {
   "cell_type": "code",
   "execution_count": null,
   "metadata": {},
   "outputs": [],
   "source": [
    "import plotly"
   ]
  },
  {
   "cell_type": "code",
   "execution_count": null,
   "metadata": {},
   "outputs": [],
   "source": [
    "\n",
    "\n"
   ]
  },
  {
   "cell_type": "code",
   "execution_count": null,
   "metadata": {},
   "outputs": [
    {
     "data": {
      "application/vnd.plotly.v1+json": {
       "config": {
        "plotlyServerURL": "https://plot.ly"
       },
       "data": [
        {
         "insidetextorientation": "radial",
         "labels": [
          "0-50",
          "50-100",
          "100-150",
          "150-200",
          ">=200"
         ],
         "textinfo": "label+percent",
         "type": "pie",
         "values": [
          10223,
          164,
          68,
          39,
          12
         ]
        }
       ],
       "layout": {
        "autosize": false,
        "height": 500,
        "template": {
         "data": {
          "bar": [
           {
            "error_x": {
             "color": "#2a3f5f"
            },
            "error_y": {
             "color": "#2a3f5f"
            },
            "marker": {
             "line": {
              "color": "#E5ECF6",
              "width": 0.5
             },
             "pattern": {
              "fillmode": "overlay",
              "size": 10,
              "solidity": 0.2
             }
            },
            "type": "bar"
           }
          ],
          "barpolar": [
           {
            "marker": {
             "line": {
              "color": "#E5ECF6",
              "width": 0.5
             },
             "pattern": {
              "fillmode": "overlay",
              "size": 10,
              "solidity": 0.2
             }
            },
            "type": "barpolar"
           }
          ],
          "carpet": [
           {
            "aaxis": {
             "endlinecolor": "#2a3f5f",
             "gridcolor": "white",
             "linecolor": "white",
             "minorgridcolor": "white",
             "startlinecolor": "#2a3f5f"
            },
            "baxis": {
             "endlinecolor": "#2a3f5f",
             "gridcolor": "white",
             "linecolor": "white",
             "minorgridcolor": "white",
             "startlinecolor": "#2a3f5f"
            },
            "type": "carpet"
           }
          ],
          "choropleth": [
           {
            "colorbar": {
             "outlinewidth": 0,
             "ticks": ""
            },
            "type": "choropleth"
           }
          ],
          "contour": [
           {
            "colorbar": {
             "outlinewidth": 0,
             "ticks": ""
            },
            "colorscale": [
             [
              0,
              "#0d0887"
             ],
             [
              0.1111111111111111,
              "#46039f"
             ],
             [
              0.2222222222222222,
              "#7201a8"
             ],
             [
              0.3333333333333333,
              "#9c179e"
             ],
             [
              0.4444444444444444,
              "#bd3786"
             ],
             [
              0.5555555555555556,
              "#d8576b"
             ],
             [
              0.6666666666666666,
              "#ed7953"
             ],
             [
              0.7777777777777778,
              "#fb9f3a"
             ],
             [
              0.8888888888888888,
              "#fdca26"
             ],
             [
              1,
              "#f0f921"
             ]
            ],
            "type": "contour"
           }
          ],
          "contourcarpet": [
           {
            "colorbar": {
             "outlinewidth": 0,
             "ticks": ""
            },
            "type": "contourcarpet"
           }
          ],
          "heatmap": [
           {
            "colorbar": {
             "outlinewidth": 0,
             "ticks": ""
            },
            "colorscale": [
             [
              0,
              "#0d0887"
             ],
             [
              0.1111111111111111,
              "#46039f"
             ],
             [
              0.2222222222222222,
              "#7201a8"
             ],
             [
              0.3333333333333333,
              "#9c179e"
             ],
             [
              0.4444444444444444,
              "#bd3786"
             ],
             [
              0.5555555555555556,
              "#d8576b"
             ],
             [
              0.6666666666666666,
              "#ed7953"
             ],
             [
              0.7777777777777778,
              "#fb9f3a"
             ],
             [
              0.8888888888888888,
              "#fdca26"
             ],
             [
              1,
              "#f0f921"
             ]
            ],
            "type": "heatmap"
           }
          ],
          "heatmapgl": [
           {
            "colorbar": {
             "outlinewidth": 0,
             "ticks": ""
            },
            "colorscale": [
             [
              0,
              "#0d0887"
             ],
             [
              0.1111111111111111,
              "#46039f"
             ],
             [
              0.2222222222222222,
              "#7201a8"
             ],
             [
              0.3333333333333333,
              "#9c179e"
             ],
             [
              0.4444444444444444,
              "#bd3786"
             ],
             [
              0.5555555555555556,
              "#d8576b"
             ],
             [
              0.6666666666666666,
              "#ed7953"
             ],
             [
              0.7777777777777778,
              "#fb9f3a"
             ],
             [
              0.8888888888888888,
              "#fdca26"
             ],
             [
              1,
              "#f0f921"
             ]
            ],
            "type": "heatmapgl"
           }
          ],
          "histogram": [
           {
            "marker": {
             "pattern": {
              "fillmode": "overlay",
              "size": 10,
              "solidity": 0.2
             }
            },
            "type": "histogram"
           }
          ],
          "histogram2d": [
           {
            "colorbar": {
             "outlinewidth": 0,
             "ticks": ""
            },
            "colorscale": [
             [
              0,
              "#0d0887"
             ],
             [
              0.1111111111111111,
              "#46039f"
             ],
             [
              0.2222222222222222,
              "#7201a8"
             ],
             [
              0.3333333333333333,
              "#9c179e"
             ],
             [
              0.4444444444444444,
              "#bd3786"
             ],
             [
              0.5555555555555556,
              "#d8576b"
             ],
             [
              0.6666666666666666,
              "#ed7953"
             ],
             [
              0.7777777777777778,
              "#fb9f3a"
             ],
             [
              0.8888888888888888,
              "#fdca26"
             ],
             [
              1,
              "#f0f921"
             ]
            ],
            "type": "histogram2d"
           }
          ],
          "histogram2dcontour": [
           {
            "colorbar": {
             "outlinewidth": 0,
             "ticks": ""
            },
            "colorscale": [
             [
              0,
              "#0d0887"
             ],
             [
              0.1111111111111111,
              "#46039f"
             ],
             [
              0.2222222222222222,
              "#7201a8"
             ],
             [
              0.3333333333333333,
              "#9c179e"
             ],
             [
              0.4444444444444444,
              "#bd3786"
             ],
             [
              0.5555555555555556,
              "#d8576b"
             ],
             [
              0.6666666666666666,
              "#ed7953"
             ],
             [
              0.7777777777777778,
              "#fb9f3a"
             ],
             [
              0.8888888888888888,
              "#fdca26"
             ],
             [
              1,
              "#f0f921"
             ]
            ],
            "type": "histogram2dcontour"
           }
          ],
          "mesh3d": [
           {
            "colorbar": {
             "outlinewidth": 0,
             "ticks": ""
            },
            "type": "mesh3d"
           }
          ],
          "parcoords": [
           {
            "line": {
             "colorbar": {
              "outlinewidth": 0,
              "ticks": ""
             }
            },
            "type": "parcoords"
           }
          ],
          "pie": [
           {
            "automargin": true,
            "type": "pie"
           }
          ],
          "scatter": [
           {
            "marker": {
             "colorbar": {
              "outlinewidth": 0,
              "ticks": ""
             }
            },
            "type": "scatter"
           }
          ],
          "scatter3d": [
           {
            "line": {
             "colorbar": {
              "outlinewidth": 0,
              "ticks": ""
             }
            },
            "marker": {
             "colorbar": {
              "outlinewidth": 0,
              "ticks": ""
             }
            },
            "type": "scatter3d"
           }
          ],
          "scattercarpet": [
           {
            "marker": {
             "colorbar": {
              "outlinewidth": 0,
              "ticks": ""
             }
            },
            "type": "scattercarpet"
           }
          ],
          "scattergeo": [
           {
            "marker": {
             "colorbar": {
              "outlinewidth": 0,
              "ticks": ""
             }
            },
            "type": "scattergeo"
           }
          ],
          "scattergl": [
           {
            "marker": {
             "colorbar": {
              "outlinewidth": 0,
              "ticks": ""
             }
            },
            "type": "scattergl"
           }
          ],
          "scattermapbox": [
           {
            "marker": {
             "colorbar": {
              "outlinewidth": 0,
              "ticks": ""
             }
            },
            "type": "scattermapbox"
           }
          ],
          "scatterpolar": [
           {
            "marker": {
             "colorbar": {
              "outlinewidth": 0,
              "ticks": ""
             }
            },
            "type": "scatterpolar"
           }
          ],
          "scatterpolargl": [
           {
            "marker": {
             "colorbar": {
              "outlinewidth": 0,
              "ticks": ""
             }
            },
            "type": "scatterpolargl"
           }
          ],
          "scatterternary": [
           {
            "marker": {
             "colorbar": {
              "outlinewidth": 0,
              "ticks": ""
             }
            },
            "type": "scatterternary"
           }
          ],
          "surface": [
           {
            "colorbar": {
             "outlinewidth": 0,
             "ticks": ""
            },
            "colorscale": [
             [
              0,
              "#0d0887"
             ],
             [
              0.1111111111111111,
              "#46039f"
             ],
             [
              0.2222222222222222,
              "#7201a8"
             ],
             [
              0.3333333333333333,
              "#9c179e"
             ],
             [
              0.4444444444444444,
              "#bd3786"
             ],
             [
              0.5555555555555556,
              "#d8576b"
             ],
             [
              0.6666666666666666,
              "#ed7953"
             ],
             [
              0.7777777777777778,
              "#fb9f3a"
             ],
             [
              0.8888888888888888,
              "#fdca26"
             ],
             [
              1,
              "#f0f921"
             ]
            ],
            "type": "surface"
           }
          ],
          "table": [
           {
            "cells": {
             "fill": {
              "color": "#EBF0F8"
             },
             "line": {
              "color": "white"
             }
            },
            "header": {
             "fill": {
              "color": "#C8D4E3"
             },
             "line": {
              "color": "white"
             }
            },
            "type": "table"
           }
          ]
         },
         "layout": {
          "annotationdefaults": {
           "arrowcolor": "#2a3f5f",
           "arrowhead": 0,
           "arrowwidth": 1
          },
          "autotypenumbers": "strict",
          "coloraxis": {
           "colorbar": {
            "outlinewidth": 0,
            "ticks": ""
           }
          },
          "colorscale": {
           "diverging": [
            [
             0,
             "#8e0152"
            ],
            [
             0.1,
             "#c51b7d"
            ],
            [
             0.2,
             "#de77ae"
            ],
            [
             0.3,
             "#f1b6da"
            ],
            [
             0.4,
             "#fde0ef"
            ],
            [
             0.5,
             "#f7f7f7"
            ],
            [
             0.6,
             "#e6f5d0"
            ],
            [
             0.7,
             "#b8e186"
            ],
            [
             0.8,
             "#7fbc41"
            ],
            [
             0.9,
             "#4d9221"
            ],
            [
             1,
             "#276419"
            ]
           ],
           "sequential": [
            [
             0,
             "#0d0887"
            ],
            [
             0.1111111111111111,
             "#46039f"
            ],
            [
             0.2222222222222222,
             "#7201a8"
            ],
            [
             0.3333333333333333,
             "#9c179e"
            ],
            [
             0.4444444444444444,
             "#bd3786"
            ],
            [
             0.5555555555555556,
             "#d8576b"
            ],
            [
             0.6666666666666666,
             "#ed7953"
            ],
            [
             0.7777777777777778,
             "#fb9f3a"
            ],
            [
             0.8888888888888888,
             "#fdca26"
            ],
            [
             1,
             "#f0f921"
            ]
           ],
           "sequentialminus": [
            [
             0,
             "#0d0887"
            ],
            [
             0.1111111111111111,
             "#46039f"
            ],
            [
             0.2222222222222222,
             "#7201a8"
            ],
            [
             0.3333333333333333,
             "#9c179e"
            ],
            [
             0.4444444444444444,
             "#bd3786"
            ],
            [
             0.5555555555555556,
             "#d8576b"
            ],
            [
             0.6666666666666666,
             "#ed7953"
            ],
            [
             0.7777777777777778,
             "#fb9f3a"
            ],
            [
             0.8888888888888888,
             "#fdca26"
            ],
            [
             1,
             "#f0f921"
            ]
           ]
          },
          "colorway": [
           "#636efa",
           "#EF553B",
           "#00cc96",
           "#ab63fa",
           "#FFA15A",
           "#19d3f3",
           "#FF6692",
           "#B6E880",
           "#FF97FF",
           "#FECB52"
          ],
          "font": {
           "color": "#2a3f5f"
          },
          "geo": {
           "bgcolor": "white",
           "lakecolor": "white",
           "landcolor": "#E5ECF6",
           "showlakes": true,
           "showland": true,
           "subunitcolor": "white"
          },
          "hoverlabel": {
           "align": "left"
          },
          "hovermode": "closest",
          "mapbox": {
           "style": "light"
          },
          "paper_bgcolor": "white",
          "plot_bgcolor": "#E5ECF6",
          "polar": {
           "angularaxis": {
            "gridcolor": "white",
            "linecolor": "white",
            "ticks": ""
           },
           "bgcolor": "#E5ECF6",
           "radialaxis": {
            "gridcolor": "white",
            "linecolor": "white",
            "ticks": ""
           }
          },
          "scene": {
           "xaxis": {
            "backgroundcolor": "#E5ECF6",
            "gridcolor": "white",
            "gridwidth": 2,
            "linecolor": "white",
            "showbackground": true,
            "ticks": "",
            "zerolinecolor": "white"
           },
           "yaxis": {
            "backgroundcolor": "#E5ECF6",
            "gridcolor": "white",
            "gridwidth": 2,
            "linecolor": "white",
            "showbackground": true,
            "ticks": "",
            "zerolinecolor": "white"
           },
           "zaxis": {
            "backgroundcolor": "#E5ECF6",
            "gridcolor": "white",
            "gridwidth": 2,
            "linecolor": "white",
            "showbackground": true,
            "ticks": "",
            "zerolinecolor": "white"
           }
          },
          "shapedefaults": {
           "line": {
            "color": "#2a3f5f"
           }
          },
          "ternary": {
           "aaxis": {
            "gridcolor": "white",
            "linecolor": "white",
            "ticks": ""
           },
           "baxis": {
            "gridcolor": "white",
            "linecolor": "white",
            "ticks": ""
           },
           "bgcolor": "#E5ECF6",
           "caxis": {
            "gridcolor": "white",
            "linecolor": "white",
            "ticks": ""
           }
          },
          "title": {
           "x": 0.05
          },
          "xaxis": {
           "automargin": true,
           "gridcolor": "white",
           "linecolor": "white",
           "ticks": "",
           "title": {
            "standoff": 15
           },
           "zerolinecolor": "white",
           "zerolinewidth": 2
          },
          "yaxis": {
           "automargin": true,
           "gridcolor": "white",
           "linecolor": "white",
           "ticks": "",
           "title": {
            "standoff": 15
           },
           "zerolinecolor": "white",
           "zerolinewidth": 2
          }
         }
        },
        "width": 500
       }
      }
     },
     "metadata": {},
     "output_type": "display_data"
    }
   ],
   "source": [
    "import plotly.graph_objects as go\n",
    "\n",
    "labels = ['0-50', '50-100', '100-150', '150-200','>=200']\n",
    "sizes = [10223, 164, 68, 39, 12]\n",
    "\n",
    "fig = go.Figure(data=[go.Pie(labels=labels, values=sizes, textinfo='label+percent',\n",
    "                             insidetextorientation='radial'\n",
    "                            )])\n",
    "fig.update_layout(\n",
    "    autosize=False,\n",
    "    width=500,\n",
    "    height=500,)\n",
    "\n",
    "fig.show()\n"
   ]
  },
  {
   "cell_type": "code",
   "execution_count": null,
   "metadata": {},
   "outputs": [],
   "source": [
    "X_train, X_test, y_train, y_test = train_test_split(x_data, y_data, test_size=0.2, random_state=42)"
   ]
  },
  {
   "cell_type": "code",
   "execution_count": null,
   "metadata": {},
   "outputs": [
    {
     "name": "stdout",
     "output_type": "stream",
     "text": [
      "Looking in indexes: https://pypi.tuna.tsinghua.edu.cn/simple\n",
      "Requirement already satisfied: xgboost in d:\\apps\\anaconda\\lib\\site-packages (1.7.4)\n",
      "Requirement already satisfied: numpy in d:\\apps\\anaconda\\lib\\site-packages (from xgboost) (1.21.5)\n",
      "Requirement already satisfied: scipy in d:\\apps\\anaconda\\lib\\site-packages (from xgboost) (1.7.3)\n",
      "Note: you may need to restart the kernel to use updated packages.\n"
     ]
    }
   ],
   "source": [
    "pip install xgboost"
   ]
  },
  {
   "cell_type": "code",
   "execution_count": 16,
   "metadata": {},
   "outputs": [
    {
     "name": "stdout",
     "output_type": "stream",
     "text": [
      "1.7.4\n"
     ]
    }
   ],
   "source": [
    "# check xgboost version\n",
    "import xgboost\n",
    "print(xgboost.__version__)"
   ]
  },
  {
   "cell_type": "code",
   "execution_count": 17,
   "metadata": {},
   "outputs": [],
   "source": [
    "model = xgboost.XGBRegressor()"
   ]
  },
  {
   "cell_type": "code",
   "execution_count": 18,
   "metadata": {},
   "outputs": [],
   "source": [
    "model = xgboost.XGBRegressor(n_estimators=1000, max_depth=7, eta=0.1, subsample=0.7, colsample_bytree=0.8)"
   ]
  },
  {
   "cell_type": "code",
   "execution_count": 37,
   "metadata": {},
   "outputs": [],
   "source": [
    "\n",
    "# evaluate an xgboost regression model on the housing dataset\n",
    "from numpy import absolute\n",
    "from pandas import read_csv\n",
    "from sklearn.model_selection import cross_val_score\n",
    "from sklearn.model_selection import RepeatedKFold\n",
    "from xgboost import XGBRegressor\n",
    "# # load the dataset\n",
    "# url = 'https://raw.githubusercontent.com/jbrownlee/Datasets/master/housing.csv'\n",
    "# dataframe = read_csv(url, header=None)\n",
    "# data = dataframe.values\n",
    "# # split data into input and output columns\n",
    "# X, y = data[:, :-1], data[:, -1]\n",
    "# # define model\n",
    "\n",
    "# # X_train, X_test, y_train, y_test = train_test_split(x_data, y_data, test_size=0.2, random_state=42)\n",
    "\n",
    "# model = XGBRegressor()\n",
    "# # define model evaluation method\n",
    "# cv = RepeatedKFold(n_splits=10, n_repeats=3, random_state=1)\n",
    "# # evaluate model\n",
    "# scores = cross_val_score(model, X_train, y_train, scoring='neg_mean_absolute_error', cv=cv, n_jobs=-1)\n",
    "# # force scores to be positive\n",
    "# scores = absolute(scores)\n",
    "# print('Mean MAE: %.3f (%.3f)' % (scores.mean(), scores.std()) )"
   ]
  },
  {
   "cell_type": "code",
   "execution_count": 18,
   "metadata": {},
   "outputs": [
    {
     "name": "stdout",
     "output_type": "stream",
     "text": [
      "0.9900082959180659\n"
     ]
    }
   ],
   "source": [
    "\n",
    "# load the dataset\n",
    "url = 'https://raw.githubusercontent.com/jbrownlee/Datasets/master/housing.csv'\n",
    "dataframe = read_csv(url, header=None)\n",
    "data = dataframe.values\n",
    "# split dataset into input and output columns\n",
    "# X_train, X_test, y_train, y_test = train_test_split(x_data, y_data, test_size=0.2, random_state=42)\n",
    "\n",
    "X, y = data[:, :-1], data[:, -1]\n",
    "# define model\n",
    "model = XGBRegressor()\n",
    "# fit model\n",
    "model.fit(X_train, y_train)\n",
    "print(model.score(X_train, y_train))\n",
    "# # define new data\n",
    "# row = [0.00632,18.00,2.310,0,0.5380,6.5750,65.20,4.0900,1,296.0,15.30,396.90,4.98]\n",
    "# new_data = asarray([row])\n",
    "# # make a prediction\n",
    "# yhat = model.predict(new_data)\n",
    "# # summarize prediction\n",
    "# print('Predicted: %.3f' % yhat)"
   ]
  },
  {
   "cell_type": "code",
   "execution_count": 35,
   "metadata": {},
   "outputs": [],
   "source": [
    "from sklearn.model_selection import GridSearchCV\n",
    "\n"
   ]
  },
  {
   "cell_type": "code",
   "execution_count": 38,
   "metadata": {},
   "outputs": [
    {
     "name": "stdout",
     "output_type": "stream",
     "text": [
      "Fitting 3 folds for each of 360 candidates, totalling 1080 fits\n"
     ]
    }
   ],
   "source": [
    "gsc = GridSearchCV(\n",
    "            estimator=XGBRegressor(),\n",
    "            param_grid={\"learning_rate\": (0.05, 0.10, 0.15),\n",
    "                        \"max_depth\": [ 3, 4, 5, 6, 8],\n",
    "                        \"min_child_weight\": [ 1, 3, 5, 7],\n",
    "                        \"gamma\":[ 0.0, 0.1, 0.2],\n",
    "                        \"colsample_bytree\":[ 0.3, 0.4],},\n",
    "            cv=3, scoring='r2', verbose=10, n_jobs=-1)\n",
    "\n",
    "grid_result = gsc.fit(X_train, y_train)\n",
    "\n",
    "# best_params = grid_result.estimators_[0].best_params_  "
   ]
  },
  {
   "cell_type": "code",
   "execution_count": 49,
   "metadata": {},
   "outputs": [
    {
     "data": {
      "text/plain": [
       "0.8384851212103563"
      ]
     },
     "execution_count": 49,
     "metadata": {},
     "output_type": "execute_result"
    }
   ],
   "source": [
    "grid_result.score(X_train, y_train)\n"
   ]
  },
  {
   "cell_type": "code",
   "execution_count": 60,
   "metadata": {},
   "outputs": [
    {
     "data": {
      "text/plain": [
       "0.8384851212103563"
      ]
     },
     "execution_count": 60,
     "metadata": {},
     "output_type": "execute_result"
    }
   ],
   "source": [
    "grid_result.best_estimator_.score(X_train, y_train)\n"
   ]
  },
  {
   "cell_type": "code",
   "execution_count": 71,
   "metadata": {},
   "outputs": [
    {
     "data": {
      "text/plain": [
       "array([9.1489062e-02, 6.3318603e-02, 2.8494619e-02, 2.3254430e-02,\n",
       "       1.8823959e-02, 3.4738678e-02, 1.8715225e-02, 5.0859395e-03,\n",
       "       1.0904684e-04, 1.1281749e-02, 1.5310318e-02, 4.3649352e-04,\n",
       "       1.1702956e-02, 1.3027483e-04, 1.6001373e-04, 5.4042248e-05,\n",
       "       1.3266244e-02, 2.2270121e-02, 3.6724031e-02, 7.0264707e-03,\n",
       "       1.4227025e-01, 2.6175808e-02, 1.7655056e-02, 1.5774161e-02,\n",
       "       4.2146179e-03, 7.4691898e-03, 6.2756635e-02, 1.5289575e-02,\n",
       "       1.3179834e-02, 2.4223641e-02, 2.4733420e-01, 1.4234524e-02,\n",
       "       7.0301909e-03], dtype=float32)"
      ]
     },
     "execution_count": 71,
     "metadata": {},
     "output_type": "execute_result"
    }
   ],
   "source": [
    "impxg = grid_result.best_estimator_.feature_importances_\n",
    "impxg"
   ]
  },
  {
   "cell_type": "code",
   "execution_count": 84,
   "metadata": {},
   "outputs": [
    {
     "data": {
      "text/plain": [
       "['temperature',\n",
       " 'density',\n",
       " 'resp_density',\n",
       " 'metal_Ce',\n",
       " 'metal_Er',\n",
       " 'metal_Eu',\n",
       " 'metal_Gd',\n",
       " 'metal_Ho',\n",
       " 'metal_In2O3',\n",
       " 'metal_La',\n",
       " 'metal_Nd',\n",
       " 'metal_Pd',\n",
       " 'metal_Pr',\n",
       " 'metal_Pt',\n",
       " 'metal_Rh',\n",
       " 'metal_Ru',\n",
       " 'metal_Sb',\n",
       " 'metal_Sm',\n",
       " 'metal_TiO2',\n",
       " 'metal_WO3',\n",
       " 'metal_Y',\n",
       " 'metal_Yb',\n",
       " 'metal_ox_In2O3',\n",
       " 'metal_ox_TiO2',\n",
       " 'metal_ox_wo3',\n",
       " 'gas_cate_benzene',\n",
       " 'gas_cate_ch4',\n",
       " 'gas_cate_diesel_fuel',\n",
       " 'gas_cate_formaldehyde',\n",
       " 'gas_cate_gasoline',\n",
       " 'gas_cate_h2',\n",
       " 'gas_cate_toluene',\n",
       " 'gas_cate_xylene',\n",
       " 'resp_val']"
      ]
     },
     "execution_count": 84,
     "metadata": {},
     "output_type": "execute_result"
    }
   ],
   "source": [
    "dc = list(data_copy.columns)\n",
    "dc"
   ]
  },
  {
   "cell_type": "code",
   "execution_count": 85,
   "metadata": {},
   "outputs": [
    {
     "data": {
      "image/png": "[encoded data removed]",
      "text/plain": [
       "<Figure size 432x288 with 1 Axes>"
      ]
     },
     "metadata": {
      "needs_background": "light"
     },
     "output_type": "display_data"
    }
   ],
   "source": [
    "plt.bar(range(len(impxg)),impxg)\n",
    "plt.show() "
   ]
  },
  {
   "cell_type": "code",
   "execution_count": 91,
   "metadata": {},
   "outputs": [
    {
     "data": {
      "text/plain": [
       "{'temperature': 0.09148906,\n",
       " 'density': 0.0633186,\n",
       " 'resp_density': 0.028494619,\n",
       " 'metal': 0.42517987,\n",
       " 'gas': 0.3915178}"
      ]
     },
     "execution_count": 91,
     "metadata": {},
     "output_type": "execute_result"
    }
   ],
   "source": [
    "imp_dic ={}\n",
    "for i in range(len(dc)):\n",
    "    s = dc[i].split(\"_\")\n",
    "\n",
    "    if i<3:\n",
    "        imp_dic[dc[i]]=impxg[i]\n",
    "    elif len(s)>=2 and s[0]==\"metal\":\n",
    "        if s[0] not in imp_dic:\n",
    "            imp_dic[\"metal\"]=impxg[i]\n",
    "        else:\n",
    "            imp_dic[\"metal\"]+=impxg[i]\n",
    "    elif len(s)>=2 and s[0]==\"gas\":\n",
    "        if s[0] not in imp_dic:\n",
    "            imp_dic[\"gas\"]=impxg[i]    \n",
    "        else:\n",
    "            imp_dic[\"gas\"]+=impxg[i]    \n",
    "            \n",
    "imp_dic"
   ]
  },
  {
   "cell_type": "code",
   "execution_count": 102,
   "metadata": {},
   "outputs": [
    {
     "data": {
      "image/png": "[encoded data removed]",
      "text/plain": [
       "<Figure size 576x288 with 1 Axes>"
      ]
     },
     "metadata": {
      "needs_background": "light"
     },
     "output_type": "display_data"
    }
   ],
   "source": [
    "plt.figure(figsize=(8, 4))\n",
    "plt.bar(range(len(list(imp_dic.values()))),list(imp_dic.values()))\n",
    "plt.ylabel(\"Importance\")\n",
    "plt.xlabel(\"Inputs\")\n",
    "plt.title(\"Inputs - Importance XGBRegressor\")\n",
    "plt.xticks(range(len(imp_dic.keys())),list(imp_dic.keys()))\n",
    "plt.show() "
   ]
  },
  {
   "cell_type": "code",
   "execution_count": null,
   "metadata": {},
   "outputs": [],
   "source": [
    "# Scores = [6, 16, 75, 160, 244, 260, 145, 73, 16, 4, 1]\n",
    "\n",
    "# score_series = pd.Series(Scores)\n",
    "\n",
    "# x_labels = [10, 20, 32, 44, 53, 61, \n",
    "#             70, 79, 88, 91, 105]\n",
    "\n",
    "# # Plot the figure.\n",
    "# plt.figure(figsize=(12, 8))\n",
    "# fig = score_series.plot(kind='bar')\n",
    "# fig.set_xticklabels(x_labels)\n",
    "# fig.bar_label(fig.containers[0], label_type='edge')"
   ]
  },
  {
   "cell_type": "code",
   "execution_count": 51,
   "metadata": {},
   "outputs": [],
   "source": [
    "predictions = grid_result.predict(X_test)"
   ]
  },
  {
   "cell_type": "markdown",
   "metadata": {},
   "source": []
  },
  {
   "cell_type": "code",
   "execution_count": 52,
   "metadata": {},
   "outputs": [],
   "source": [
    "def rmse(predict, actual):\n",
    "    predict = np.array(predict)\n",
    "    actual = np.array(actual)\n",
    "\n",
    "    distance = predict - actual\n",
    "\n",
    "    square_distance = distance ** 2\n",
    "\n",
    "    mean_square_distance = square_distance.mean()\n",
    "\n",
    "    score = np.sqrt(mean_square_distance)\n",
    "\n",
    "    return score"
   ]
  },
  {
   "cell_type": "code",
   "execution_count": 53,
   "metadata": {},
   "outputs": [
    {
     "data": {
      "text/plain": [
       "26.412537775531835"
      ]
     },
     "execution_count": 53,
     "metadata": {},
     "output_type": "execute_result"
    }
   ],
   "source": [
    "rmse(predictions, y_test)"
   ]
  },
  {
   "cell_type": "code",
   "execution_count": 54,
   "metadata": {},
   "outputs": [],
   "source": [
    "def mean_error():\n",
    "    pass\n",
    "\n",
    "def std_error():\n",
    "    pass"
   ]
  },
  {
   "cell_type": "code",
   "execution_count": null,
   "metadata": {},
   "outputs": [],
   "source": []
  },
  {
   "cell_type": "code",
   "execution_count": 56,
   "metadata": {},
   "outputs": [
    {
     "data": {
      "text/plain": [
       "Text(150, 235, 'RMSE:26.412')"
      ]
     },
     "execution_count": 56,
     "metadata": {},
     "output_type": "execute_result"
    },
    {
     "data": {
      "image/png": "[encoded data removed]",
      "text/plain": [
       "<Figure size 576x288 with 1 Axes>"
      ]
     },
     "metadata": {
      "needs_background": "light"
     },
     "output_type": "display_data"
    }
   ],
   "source": [
    "# Scatter\n",
    "import matplotlib.pyplot as plt\n",
    "\n",
    "# y_actual = y_test\n",
    "# y_predic_rf = X_test_mlp_predict\n",
    "\n",
    "y_predic_mlp = []\n",
    "figure(figsize=(8, 4))\n",
    "\n",
    "line_x =[0,100,200,250] \n",
    "line_y =[0,100,200,250] \n",
    "s = [10 for i in range(len(y_test))]\n",
    "plt.scatter(x=y_test,y=predictions,s=s)\n",
    "plt.plot(line_x,line_y,\"r-\")\n",
    "plt.xlabel(\"Actual value\")\n",
    "plt.ylabel(\"Prediction value\")\n",
    "plt.title(\"XGBoost Regression Actual-Prediction\")\n",
    "plt.text(150, 250, \"Score:0.838\")\n",
    "plt.text(150, 235, \"RMSE:26.412\")"
   ]
  },
  {
   "cell_type": "code",
   "execution_count": null,
   "metadata": {},
   "outputs": [],
   "source": []
  },
  {
   "cell_type": "code",
   "execution_count": 22,
   "metadata": {},
   "outputs": [],
   "source": [
    "from sklearn.svm import SVR\n",
    "# model = SVR()\n",
    "# model.fit(X_train, y_train)\n",
    "# print(model.score(X_train, y_train))\n"
   ]
  },
  {
   "cell_type": "code",
   "execution_count": null,
   "metadata": {},
   "outputs": [
    {
     "ename": "NameError",
     "evalue": "name 'X_test' is not defined",
     "output_type": "error",
     "traceback": [
      "\u001b[1;31m---------------------------------------------------------------------------\u001b[0m",
      "\u001b[1;31mNameError\u001b[0m                                 Traceback (most recent call last)",
      "\u001b[1;32md:\\PythonProjects\\pythonProject\\train\\train_sklean.ipynb Cell 104\u001b[0m in \u001b[0;36m<cell line: 1>\u001b[1;34m()\u001b[0m\n\u001b[1;32m----> <a href='vscode-notebook-cell:/d%3A/PythonProjects/pythonProject/train/train_sklean.ipynb#Y205sZmlsZQ%3D%3D?line=0'>1</a>\u001b[0m predictions \u001b[39m=\u001b[39m model\u001b[39m.\u001b[39mpredict(X_test)\n",
      "\u001b[1;31mNameError\u001b[0m: name 'X_test' is not defined"
     ]
    }
   ],
   "source": [
    "predictions = model.predict(X_test)"
   ]
  },
  {
   "cell_type": "code",
   "execution_count": null,
   "metadata": {},
   "outputs": [
    {
     "data": {
      "text/plain": [
       "20.27364929082918"
      ]
     },
     "execution_count": 49,
     "metadata": {},
     "output_type": "execute_result"
    }
   ],
   "source": [
    "rmse(predictions, y_test)"
   ]
  },
  {
   "cell_type": "code",
   "execution_count": 48,
   "metadata": {},
   "outputs": [
    {
     "data": {
      "text/plain": [
       "Text(150, 235, 'RMSE:20.273')"
      ]
     },
     "execution_count": 48,
     "metadata": {},
     "output_type": "execute_result"
    },
    {
     "data": {
      "image/png": "[encoded data removed]",
      "text/plain": [
       "<Figure size 576x288 with 1 Axes>"
      ]
     },
     "metadata": {
      "needs_background": "light"
     },
     "output_type": "display_data"
    }
   ],
   "source": [
    "# Scatter\n",
    "import matplotlib.pyplot as plt\n",
    "\n",
    "# y_actual = y_test\n",
    "# y_predic_rf = X_test_mlp_predict\n",
    "\n",
    "y_predic_mlp = []\n",
    "figure(figsize=(8, 4))\n",
    "\n",
    "line_x =[0,100,200,250] \n",
    "line_y =[0,100,200,250] \n",
    "s = [10 for i in range(len(y_test))]\n",
    "plt.scatter(x=y_test,y=predictions,s=s)\n",
    "plt.plot(line_x,line_y,\"r-\")\n",
    "plt.xlabel(\"Actual value\")\n",
    "plt.ylabel(\"Prediction value\")\n",
    "plt.title(\"Multi-Layer Perceptron Actual-Prediction\")\n",
    "plt.text(150, 250, \"Score:0.583\")\n",
    "plt.text(150, 235, \"RMSE:20.273\")"
   ]
  },
  {
   "cell_type": "code",
   "execution_count": 24,
   "metadata": {},
   "outputs": [
    {
     "name": "stdout",
     "output_type": "stream",
     "text": [
      "Fitting 3 folds for each of 36 candidates, totalling 108 fits\n"
     ]
    },
    {
     "name": "stderr",
     "output_type": "stream",
     "text": [
      "d:\\Apps\\Anaconda\\lib\\site-packages\\sklearn\\utils\\validation.py:993: DataConversionWarning: A column-vector y was passed when a 1d array was expected. Please change the shape of y to (n_samples, ), for example using ravel().\n",
      "  y = column_or_1d(y, warn=True)\n"
     ]
    },
    {
     "data": {
      "text/plain": [
       "GridSearchCV(cv=3, estimator=SVR(), n_jobs=-1,\n",
       "             param_grid=({'C': [1, 5, 10], 'coef0': [0.01, 0.1, 0.5],\n",
       "                          'degree': [3, 8], 'kernel': ('rbf', 'sigmoid')},),\n",
       "             verbose=2)"
      ]
     },
     "execution_count": 24,
     "metadata": {},
     "output_type": "execute_result"
    }
   ],
   "source": [
    "\n",
    "param = {'kernel' : ('rbf', 'sigmoid'),'C' : [1,5,10],'degree' : [3,8],'coef0' : [0.01,0.1,0.5]},\n",
    "# param = {'C': [0.1, 1, 10, 100, 1000],\n",
    "#               'gamma': [0.001, 0.01, 0.1, 1, 10, 100],\n",
    "#               'kernel': ['rbf', 'linear']}\n",
    "\n",
    "grid_search = GridSearchCV(estimator =  SVR(), param_grid = param, \n",
    "                      cv = 3, n_jobs = -1, verbose = 2)\n",
    "    \n",
    "grid_search.fit(X_train, y_train)\n"
   ]
  },
  {
   "cell_type": "code",
   "execution_count": 32,
   "metadata": {},
   "outputs": [
    {
     "data": {
      "text/plain": [
       "0.21541414583225127"
      ]
     },
     "execution_count": 32,
     "metadata": {},
     "output_type": "execute_result"
    }
   ],
   "source": [
    "# grid_search.score(X_train, y_train)\n",
    "grid_search.best_estimator_.score(X_train, y_train)\n",
    "\n"
   ]
  },
  {
   "cell_type": "code",
   "execution_count": 26,
   "metadata": {},
   "outputs": [],
   "source": [
    "predictions = grid_search.predict(X_test)"
   ]
  },
  {
   "cell_type": "code",
   "execution_count": 30,
   "metadata": {},
   "outputs": [
    {
     "data": {
      "text/plain": [
       "20.79763287235103"
      ]
     },
     "execution_count": 30,
     "metadata": {},
     "output_type": "execute_result"
    }
   ],
   "source": [
    "rmse(predictions, y_test)"
   ]
  },
  {
   "cell_type": "code",
   "execution_count": 47,
   "metadata": {},
   "outputs": [
    {
     "data": {
      "text/plain": [
       "Text(150, 235, 'RMSE:20.797')"
      ]
     },
     "execution_count": 47,
     "metadata": {},
     "output_type": "execute_result"
    },
    {
     "data": {
      "image/png": "[encoded data removed]",
      "text/plain": [
       "<Figure size 576x288 with 1 Axes>"
      ]
     },
     "metadata": {
      "needs_background": "light"
     },
     "output_type": "display_data"
    }
   ],
   "source": [
    "# Scatter\n",
    "import matplotlib.pyplot as plt\n",
    "from matplotlib.pyplot import figure\n",
    "\n",
    "# y_actual = y_test\n",
    "# y_predic_rf = X_test_mlp_predict\n",
    "figure(figsize=(8, 4))\n",
    "\n",
    "y_predic_mlp = []\n",
    "\n",
    "line_x =[0,100,200,250] \n",
    "line_y =[0,100,200,250] \n",
    "s = [10 for i in range(len(y_test))]\n",
    "plt.scatter(x=y_test,y=predictions,s=s)\n",
    "plt.plot(line_x,line_y,\"r-\")\n",
    "plt.xlabel(\"Actual value\")\n",
    "plt.ylabel(\"Prediction value\")\n",
    "plt.title(\"SVR Actual-Prediction\")\n",
    "plt.text(150, 250, \"Score:0.215\")\n",
    "plt.text(150, 235, \"RMSE:20.797\")"
   ]
  },
  {
   "cell_type": "code",
   "execution_count": 41,
   "metadata": {},
   "outputs": [],
   "source": [
    "# 加一个outlier counting？\n",
    "# plt.scatter(x=y_train,y=predictions,s=s)\n",
    "asdfa "
   ]
  },
  {
   "cell_type": "code",
   "execution_count": null,
   "metadata": {},
   "outputs": [],
   "source": [
    "# 结论可以围绕以下几个点展开：\n",
    "# 1. 哪个模型整体效果好（性能/时间/？），为什么好；其他模型为什么不好? 为什么不好？不知道，我不是做理论的你问王鹤杰\n",
    "\n",
    "# 2. 不同响应值区间（低中高）上，1里提到的效果好的模型一直好吗？有没有其他模型在某个区间中超过它了？为什么可以超过它？\n",
    "random forest XGboost在全局都有较好的表现\n",
    "为什么可以超过？不知道。建议去做interpretML，那个可以知道。"
   ]
  }
 ],
 "metadata": {
  "kernelspec": {
   "display_name": "base",
   "language": "python",
   "name": "python3"
  },
  "language_info": {
   "codemirror_mode": {
    "name": "ipython",
    "version": 3
   },
   "file_extension": ".py",
   "mimetype": "text/x-python",
   "name": "python",
   "nbconvert_exporter": "python",
   "pygments_lexer": "ipython3",
   "version": "3.9.12"
  },
  "orig_nbformat": 4
 },
 "nbformat": 4,
 "nbformat_minor": 2
}
